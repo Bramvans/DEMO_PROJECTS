{
 "cells": [
  {
   "cell_type": "markdown",
   "metadata": {},
   "source": [
    "# Analysis into the Brazil Forest Fires\n",
    "\n",
    "This analysis is based on the Kaggle data set https://www.kaggle.com/man72331/forest-fires-data-analysis \n",
    "\n",
    "The goal of this analysis is to gain insights in the patern of fires in the Brazil Forest\n",
    "\n",
    "1. How has the number of fires evolved over the last years\n",
    "2. Which state has seen the highest /lowest in/decrease in forest fires\n",
    "3. Which month has the most chance of an fire per region\n",
    "4. Does the chance of fire per moth per region show any dissimalarities\n",
    "5. Which year had the most / least fires\n",
    "6. Which state on average has the most / least fires\n",
    "7. Which year / state has had the largest deviation in forest fires\n",
    "\n",
    "\n",
    "By: <b>Bram van Schaik</b> \n",
    "<br>Date: <b> October 2019</b>"
   ]
  },
  {
   "cell_type": "markdown",
   "metadata": {},
   "source": [
    "## Part 1: Import libraries"
   ]
  },
  {
   "cell_type": "code",
   "execution_count": 3,
   "metadata": {},
   "outputs": [],
   "source": [
    "import pandas as pd\n",
    "import numpy as np\n",
    "\n",
    "from scipy import stats\n",
    "\n",
    "\n",
    "#### Visuals ####\n",
    "import plotly.express as px\n",
    "\n",
    "import plotly as py\n",
    "import plotly.graph_objs as go"
   ]
  },
  {
   "cell_type": "markdown",
   "metadata": {},
   "source": [
    "## Part 2: Import the dataset"
   ]
  },
  {
   "cell_type": "code",
   "execution_count": 4,
   "metadata": {},
   "outputs": [],
   "source": [
    "#### Read in the data set ####\n",
    "df = pd.read_csv(\"C:\\\\Users\\\\schai495\\\\Documents\\\\GitHub\\\\DEMO_PROJECTS\\\\Brazil Forest Fires\\\\amazon.csv\", sep=\",\", engine='python')"
   ]
  },
  {
   "cell_type": "markdown",
   "metadata": {},
   "source": [
    "## Part 3: Exploratory Analysis\n",
    "This part is about getting to know our dataset"
   ]
  },
  {
   "cell_type": "code",
   "execution_count": 5,
   "metadata": {
    "scrolled": true
   },
   "outputs": [
    {
     "name": "stdout",
     "output_type": "stream",
     "text": [
      "   year state    month  number        date\n",
      "0  1998  Acre  Janeiro     0.0  1998-01-01\n",
      "1  1999  Acre  Janeiro     0.0  1999-01-01\n",
      "2  2000  Acre  Janeiro     0.0  2000-01-01\n",
      "\n",
      "\n",
      "      year      state     month  number        date\n",
      "6451  2014  Tocantins  Dezembro   223.0  2014-01-01\n",
      "6452  2015  Tocantins  Dezembro   373.0  2015-01-01\n",
      "6453  2016  Tocantins  Dezembro   119.0  2016-01-01\n"
     ]
    }
   ],
   "source": [
    "#### Looking at the first and last few rows to gain an understanding of the content ####\n",
    "print(df.head(3))\n",
    "print(\"\\n\")\n",
    "print(df.tail(3))"
   ]
  },
  {
   "cell_type": "markdown",
   "metadata": {},
   "source": [
    "### Conclusions:\n",
    "- The month column has the spanish month names instead of common english names\n"
   ]
  },
  {
   "cell_type": "code",
   "execution_count": 6,
   "metadata": {},
   "outputs": [
    {
     "name": "stdout",
     "output_type": "stream",
     "text": [
      "Dataset Shape: (6454, 5)\n"
     ]
    },
    {
     "data": {
      "text/html": [
       "<div>\n",
       "<style scoped>\n",
       "    .dataframe tbody tr th:only-of-type {\n",
       "        vertical-align: middle;\n",
       "    }\n",
       "\n",
       "    .dataframe tbody tr th {\n",
       "        vertical-align: top;\n",
       "    }\n",
       "\n",
       "    .dataframe thead th {\n",
       "        text-align: right;\n",
       "    }\n",
       "</style>\n",
       "<table border=\"1\" class=\"dataframe\">\n",
       "  <thead>\n",
       "    <tr style=\"text-align: right;\">\n",
       "      <th></th>\n",
       "      <th>Name</th>\n",
       "      <th>dtypes</th>\n",
       "      <th>Missing</th>\n",
       "      <th>Uniques</th>\n",
       "    </tr>\n",
       "  </thead>\n",
       "  <tbody>\n",
       "    <tr>\n",
       "      <th>0</th>\n",
       "      <td>year</td>\n",
       "      <td>int64</td>\n",
       "      <td>0</td>\n",
       "      <td>20</td>\n",
       "    </tr>\n",
       "    <tr>\n",
       "      <th>1</th>\n",
       "      <td>state</td>\n",
       "      <td>object</td>\n",
       "      <td>0</td>\n",
       "      <td>23</td>\n",
       "    </tr>\n",
       "    <tr>\n",
       "      <th>2</th>\n",
       "      <td>month</td>\n",
       "      <td>object</td>\n",
       "      <td>0</td>\n",
       "      <td>12</td>\n",
       "    </tr>\n",
       "    <tr>\n",
       "      <th>3</th>\n",
       "      <td>number</td>\n",
       "      <td>float64</td>\n",
       "      <td>0</td>\n",
       "      <td>1479</td>\n",
       "    </tr>\n",
       "    <tr>\n",
       "      <th>4</th>\n",
       "      <td>date</td>\n",
       "      <td>object</td>\n",
       "      <td>0</td>\n",
       "      <td>20</td>\n",
       "    </tr>\n",
       "  </tbody>\n",
       "</table>\n",
       "</div>"
      ],
      "text/plain": [
       "     Name   dtypes  Missing  Uniques\n",
       "0    year    int64        0       20\n",
       "1   state   object        0       23\n",
       "2   month   object        0       12\n",
       "3  number  float64        0     1479\n",
       "4    date   object        0       20"
      ]
     },
     "execution_count": 6,
     "metadata": {},
     "output_type": "execute_result"
    }
   ],
   "source": [
    "### Now we are going to be looking at the datatypes,shape and missing/unique for each column ####\n",
    "def resumetable(df):\n",
    "    print(f\"Dataset Shape: {df.shape}\")\n",
    "    summary = pd.DataFrame(df.dtypes,columns=['dtypes'])\n",
    "    summary = summary.reset_index()\n",
    "    summary['Name'] = summary['index']\n",
    "    summary = summary[['Name','dtypes']]\n",
    "    summary['Missing'] = df.isnull().sum().values    \n",
    "    summary['Uniques'] = df.nunique().values\n",
    "    return summary\n",
    "\n",
    "resumetable(df)"
   ]
  },
  {
   "cell_type": "markdown",
   "metadata": {},
   "source": [
    "### Conclusions:\n",
    "- There are 20 unique years in the data set\n",
    "- There are 23 unique states in the data set\n",
    "- State, Month and date are objects"
   ]
  },
  {
   "cell_type": "markdown",
   "metadata": {},
   "source": [
    "### Question 1: How has the amount of fires developt over the last years"
   ]
  },
  {
   "cell_type": "code",
   "execution_count": 12,
   "metadata": {},
   "outputs": [
    {
     "data": {
      "text/html": [
       "<div>\n",
       "<style scoped>\n",
       "    .dataframe tbody tr th:only-of-type {\n",
       "        vertical-align: middle;\n",
       "    }\n",
       "\n",
       "    .dataframe tbody tr th {\n",
       "        vertical-align: top;\n",
       "    }\n",
       "\n",
       "    .dataframe thead th {\n",
       "        text-align: right;\n",
       "    }\n",
       "</style>\n",
       "<table border=\"1\" class=\"dataframe\">\n",
       "  <thead>\n",
       "    <tr style=\"text-align: right;\">\n",
       "      <th></th>\n",
       "      <th>year</th>\n",
       "      <th>number</th>\n",
       "    </tr>\n",
       "  </thead>\n",
       "  <tbody>\n",
       "    <tr>\n",
       "      <th>0</th>\n",
       "      <td>1998</td>\n",
       "      <td>20013.971</td>\n",
       "    </tr>\n",
       "    <tr>\n",
       "      <th>1</th>\n",
       "      <td>1999</td>\n",
       "      <td>26882.821</td>\n",
       "    </tr>\n",
       "    <tr>\n",
       "      <th>2</th>\n",
       "      <td>2000</td>\n",
       "      <td>27351.251</td>\n",
       "    </tr>\n",
       "    <tr>\n",
       "      <th>3</th>\n",
       "      <td>2001</td>\n",
       "      <td>29071.612</td>\n",
       "    </tr>\n",
       "    <tr>\n",
       "      <th>4</th>\n",
       "      <td>2002</td>\n",
       "      <td>37390.600</td>\n",
       "    </tr>\n",
       "  </tbody>\n",
       "</table>\n",
       "</div>"
      ],
      "text/plain": [
       "   year     number\n",
       "0  1998  20013.971\n",
       "1  1999  26882.821\n",
       "2  2000  27351.251\n",
       "3  2001  29071.612\n",
       "4  2002  37390.600"
      ]
     },
     "execution_count": 12,
     "metadata": {},
     "output_type": "execute_result"
    }
   ],
   "source": [
    "#### Count the fires by year and visualize ####\n",
    "YEAR = df.groupby(['year']).sum()\n",
    "YEAR = YEAR.reset_index()\n",
    "YEAR.head()"
   ]
  },
  {
   "cell_type": "code",
   "execution_count": 16,
   "metadata": {},
   "outputs": [
    {
     "data": {
      "application/vnd.plotly.v1+json": {
       "config": {
        "plotlyServerURL": "https://plot.ly"
       },
       "data": [
        {
         "hoverlabel": {
          "namelength": 0
         },
         "hovertemplate": "year=%{x}<br>number=%{y}",
         "legendgroup": "",
         "line": {
          "color": "#636efa",
          "dash": "solid"
         },
         "mode": "lines",
         "name": "",
         "showlegend": false,
         "type": "scatter",
         "x": [
          1998,
          1999,
          2000,
          2001,
          2002,
          2003,
          2004,
          2005,
          2006,
          2007,
          2008,
          2009,
          2010,
          2011,
          2012,
          2013,
          2014,
          2015,
          2016,
          2017
         ],
         "xaxis": "x",
         "y": [
          20013.971000000005,
          26882.820999999993,
          27351.250999999997,
          29071.612,
          37390.6,
          42760.674000000006,
          38453.16300000001,
          35004.96499999999,
          33832.161,
          33037.41300000001,
          29378.964,
          39117.178,
          37037.44900000001,
          34633.54499999999,
          40084.86000000001,
          35146.11799999999,
          39621.183000000005,
          41208.29200000001,
          42212.22900000001,
          36685.623999999996
         ],
         "yaxis": "y"
        }
       ],
       "layout": {
        "height": 600,
        "legend": {
         "tracegroupgap": 0
        },
        "template": {
         "data": {
          "bar": [
           {
            "error_x": {
             "color": "#2a3f5f"
            },
            "error_y": {
             "color": "#2a3f5f"
            },
            "marker": {
             "line": {
              "color": "#E5ECF6",
              "width": 0.5
             }
            },
            "type": "bar"
           }
          ],
          "barpolar": [
           {
            "marker": {
             "line": {
              "color": "#E5ECF6",
              "width": 0.5
             }
            },
            "type": "barpolar"
           }
          ],
          "carpet": [
           {
            "aaxis": {
             "endlinecolor": "#2a3f5f",
             "gridcolor": "white",
             "linecolor": "white",
             "minorgridcolor": "white",
             "startlinecolor": "#2a3f5f"
            },
            "baxis": {
             "endlinecolor": "#2a3f5f",
             "gridcolor": "white",
             "linecolor": "white",
             "minorgridcolor": "white",
             "startlinecolor": "#2a3f5f"
            },
            "type": "carpet"
           }
          ],
          "choropleth": [
           {
            "colorbar": {
             "outlinewidth": 0,
             "ticks": ""
            },
            "type": "choropleth"
           }
          ],
          "contour": [
           {
            "colorbar": {
             "outlinewidth": 0,
             "ticks": ""
            },
            "colorscale": [
             [
              0,
              "#0d0887"
             ],
             [
              0.1111111111111111,
              "#46039f"
             ],
             [
              0.2222222222222222,
              "#7201a8"
             ],
             [
              0.3333333333333333,
              "#9c179e"
             ],
             [
              0.4444444444444444,
              "#bd3786"
             ],
             [
              0.5555555555555556,
              "#d8576b"
             ],
             [
              0.6666666666666666,
              "#ed7953"
             ],
             [
              0.7777777777777778,
              "#fb9f3a"
             ],
             [
              0.8888888888888888,
              "#fdca26"
             ],
             [
              1,
              "#f0f921"
             ]
            ],
            "type": "contour"
           }
          ],
          "contourcarpet": [
           {
            "colorbar": {
             "outlinewidth": 0,
             "ticks": ""
            },
            "type": "contourcarpet"
           }
          ],
          "heatmap": [
           {
            "colorbar": {
             "outlinewidth": 0,
             "ticks": ""
            },
            "colorscale": [
             [
              0,
              "#0d0887"
             ],
             [
              0.1111111111111111,
              "#46039f"
             ],
             [
              0.2222222222222222,
              "#7201a8"
             ],
             [
              0.3333333333333333,
              "#9c179e"
             ],
             [
              0.4444444444444444,
              "#bd3786"
             ],
             [
              0.5555555555555556,
              "#d8576b"
             ],
             [
              0.6666666666666666,
              "#ed7953"
             ],
             [
              0.7777777777777778,
              "#fb9f3a"
             ],
             [
              0.8888888888888888,
              "#fdca26"
             ],
             [
              1,
              "#f0f921"
             ]
            ],
            "type": "heatmap"
           }
          ],
          "heatmapgl": [
           {
            "colorbar": {
             "outlinewidth": 0,
             "ticks": ""
            },
            "colorscale": [
             [
              0,
              "#0d0887"
             ],
             [
              0.1111111111111111,
              "#46039f"
             ],
             [
              0.2222222222222222,
              "#7201a8"
             ],
             [
              0.3333333333333333,
              "#9c179e"
             ],
             [
              0.4444444444444444,
              "#bd3786"
             ],
             [
              0.5555555555555556,
              "#d8576b"
             ],
             [
              0.6666666666666666,
              "#ed7953"
             ],
             [
              0.7777777777777778,
              "#fb9f3a"
             ],
             [
              0.8888888888888888,
              "#fdca26"
             ],
             [
              1,
              "#f0f921"
             ]
            ],
            "type": "heatmapgl"
           }
          ],
          "histogram": [
           {
            "marker": {
             "colorbar": {
              "outlinewidth": 0,
              "ticks": ""
             }
            },
            "type": "histogram"
           }
          ],
          "histogram2d": [
           {
            "colorbar": {
             "outlinewidth": 0,
             "ticks": ""
            },
            "colorscale": [
             [
              0,
              "#0d0887"
             ],
             [
              0.1111111111111111,
              "#46039f"
             ],
             [
              0.2222222222222222,
              "#7201a8"
             ],
             [
              0.3333333333333333,
              "#9c179e"
             ],
             [
              0.4444444444444444,
              "#bd3786"
             ],
             [
              0.5555555555555556,
              "#d8576b"
             ],
             [
              0.6666666666666666,
              "#ed7953"
             ],
             [
              0.7777777777777778,
              "#fb9f3a"
             ],
             [
              0.8888888888888888,
              "#fdca26"
             ],
             [
              1,
              "#f0f921"
             ]
            ],
            "type": "histogram2d"
           }
          ],
          "histogram2dcontour": [
           {
            "colorbar": {
             "outlinewidth": 0,
             "ticks": ""
            },
            "colorscale": [
             [
              0,
              "#0d0887"
             ],
             [
              0.1111111111111111,
              "#46039f"
             ],
             [
              0.2222222222222222,
              "#7201a8"
             ],
             [
              0.3333333333333333,
              "#9c179e"
             ],
             [
              0.4444444444444444,
              "#bd3786"
             ],
             [
              0.5555555555555556,
              "#d8576b"
             ],
             [
              0.6666666666666666,
              "#ed7953"
             ],
             [
              0.7777777777777778,
              "#fb9f3a"
             ],
             [
              0.8888888888888888,
              "#fdca26"
             ],
             [
              1,
              "#f0f921"
             ]
            ],
            "type": "histogram2dcontour"
           }
          ],
          "mesh3d": [
           {
            "colorbar": {
             "outlinewidth": 0,
             "ticks": ""
            },
            "type": "mesh3d"
           }
          ],
          "parcoords": [
           {
            "line": {
             "colorbar": {
              "outlinewidth": 0,
              "ticks": ""
             }
            },
            "type": "parcoords"
           }
          ],
          "scatter": [
           {
            "marker": {
             "colorbar": {
              "outlinewidth": 0,
              "ticks": ""
             }
            },
            "type": "scatter"
           }
          ],
          "scatter3d": [
           {
            "line": {
             "colorbar": {
              "outlinewidth": 0,
              "ticks": ""
             }
            },
            "marker": {
             "colorbar": {
              "outlinewidth": 0,
              "ticks": ""
             }
            },
            "type": "scatter3d"
           }
          ],
          "scattercarpet": [
           {
            "marker": {
             "colorbar": {
              "outlinewidth": 0,
              "ticks": ""
             }
            },
            "type": "scattercarpet"
           }
          ],
          "scattergeo": [
           {
            "marker": {
             "colorbar": {
              "outlinewidth": 0,
              "ticks": ""
             }
            },
            "type": "scattergeo"
           }
          ],
          "scattergl": [
           {
            "marker": {
             "colorbar": {
              "outlinewidth": 0,
              "ticks": ""
             }
            },
            "type": "scattergl"
           }
          ],
          "scattermapbox": [
           {
            "marker": {
             "colorbar": {
              "outlinewidth": 0,
              "ticks": ""
             }
            },
            "type": "scattermapbox"
           }
          ],
          "scatterpolar": [
           {
            "marker": {
             "colorbar": {
              "outlinewidth": 0,
              "ticks": ""
             }
            },
            "type": "scatterpolar"
           }
          ],
          "scatterpolargl": [
           {
            "marker": {
             "colorbar": {
              "outlinewidth": 0,
              "ticks": ""
             }
            },
            "type": "scatterpolargl"
           }
          ],
          "scatterternary": [
           {
            "marker": {
             "colorbar": {
              "outlinewidth": 0,
              "ticks": ""
             }
            },
            "type": "scatterternary"
           }
          ],
          "surface": [
           {
            "colorbar": {
             "outlinewidth": 0,
             "ticks": ""
            },
            "colorscale": [
             [
              0,
              "#0d0887"
             ],
             [
              0.1111111111111111,
              "#46039f"
             ],
             [
              0.2222222222222222,
              "#7201a8"
             ],
             [
              0.3333333333333333,
              "#9c179e"
             ],
             [
              0.4444444444444444,
              "#bd3786"
             ],
             [
              0.5555555555555556,
              "#d8576b"
             ],
             [
              0.6666666666666666,
              "#ed7953"
             ],
             [
              0.7777777777777778,
              "#fb9f3a"
             ],
             [
              0.8888888888888888,
              "#fdca26"
             ],
             [
              1,
              "#f0f921"
             ]
            ],
            "type": "surface"
           }
          ],
          "table": [
           {
            "cells": {
             "fill": {
              "color": "#EBF0F8"
             },
             "line": {
              "color": "white"
             }
            },
            "header": {
             "fill": {
              "color": "#C8D4E3"
             },
             "line": {
              "color": "white"
             }
            },
            "type": "table"
           }
          ]
         },
         "layout": {
          "annotationdefaults": {
           "arrowcolor": "#2a3f5f",
           "arrowhead": 0,
           "arrowwidth": 1
          },
          "colorscale": {
           "diverging": [
            [
             0,
             "#8e0152"
            ],
            [
             0.1,
             "#c51b7d"
            ],
            [
             0.2,
             "#de77ae"
            ],
            [
             0.3,
             "#f1b6da"
            ],
            [
             0.4,
             "#fde0ef"
            ],
            [
             0.5,
             "#f7f7f7"
            ],
            [
             0.6,
             "#e6f5d0"
            ],
            [
             0.7,
             "#b8e186"
            ],
            [
             0.8,
             "#7fbc41"
            ],
            [
             0.9,
             "#4d9221"
            ],
            [
             1,
             "#276419"
            ]
           ],
           "sequential": [
            [
             0,
             "#0d0887"
            ],
            [
             0.1111111111111111,
             "#46039f"
            ],
            [
             0.2222222222222222,
             "#7201a8"
            ],
            [
             0.3333333333333333,
             "#9c179e"
            ],
            [
             0.4444444444444444,
             "#bd3786"
            ],
            [
             0.5555555555555556,
             "#d8576b"
            ],
            [
             0.6666666666666666,
             "#ed7953"
            ],
            [
             0.7777777777777778,
             "#fb9f3a"
            ],
            [
             0.8888888888888888,
             "#fdca26"
            ],
            [
             1,
             "#f0f921"
            ]
           ],
           "sequentialminus": [
            [
             0,
             "#0d0887"
            ],
            [
             0.1111111111111111,
             "#46039f"
            ],
            [
             0.2222222222222222,
             "#7201a8"
            ],
            [
             0.3333333333333333,
             "#9c179e"
            ],
            [
             0.4444444444444444,
             "#bd3786"
            ],
            [
             0.5555555555555556,
             "#d8576b"
            ],
            [
             0.6666666666666666,
             "#ed7953"
            ],
            [
             0.7777777777777778,
             "#fb9f3a"
            ],
            [
             0.8888888888888888,
             "#fdca26"
            ],
            [
             1,
             "#f0f921"
            ]
           ]
          },
          "colorway": [
           "#636efa",
           "#EF553B",
           "#00cc96",
           "#ab63fa",
           "#FFA15A",
           "#19d3f3",
           "#FF6692",
           "#B6E880",
           "#FF97FF",
           "#FECB52"
          ],
          "font": {
           "color": "#2a3f5f"
          },
          "geo": {
           "bgcolor": "white",
           "lakecolor": "white",
           "landcolor": "#E5ECF6",
           "showlakes": true,
           "showland": true,
           "subunitcolor": "white"
          },
          "hoverlabel": {
           "align": "left"
          },
          "hovermode": "closest",
          "mapbox": {
           "style": "light"
          },
          "paper_bgcolor": "white",
          "plot_bgcolor": "#E5ECF6",
          "polar": {
           "angularaxis": {
            "gridcolor": "white",
            "linecolor": "white",
            "ticks": ""
           },
           "bgcolor": "#E5ECF6",
           "radialaxis": {
            "gridcolor": "white",
            "linecolor": "white",
            "ticks": ""
           }
          },
          "scene": {
           "xaxis": {
            "backgroundcolor": "#E5ECF6",
            "gridcolor": "white",
            "gridwidth": 2,
            "linecolor": "white",
            "showbackground": true,
            "ticks": "",
            "zerolinecolor": "white"
           },
           "yaxis": {
            "backgroundcolor": "#E5ECF6",
            "gridcolor": "white",
            "gridwidth": 2,
            "linecolor": "white",
            "showbackground": true,
            "ticks": "",
            "zerolinecolor": "white"
           },
           "zaxis": {
            "backgroundcolor": "#E5ECF6",
            "gridcolor": "white",
            "gridwidth": 2,
            "linecolor": "white",
            "showbackground": true,
            "ticks": "",
            "zerolinecolor": "white"
           }
          },
          "shapedefaults": {
           "line": {
            "color": "#2a3f5f"
           }
          },
          "ternary": {
           "aaxis": {
            "gridcolor": "white",
            "linecolor": "white",
            "ticks": ""
           },
           "baxis": {
            "gridcolor": "white",
            "linecolor": "white",
            "ticks": ""
           },
           "bgcolor": "#E5ECF6",
           "caxis": {
            "gridcolor": "white",
            "linecolor": "white",
            "ticks": ""
           }
          },
          "title": {
           "x": 0.05
          },
          "xaxis": {
           "automargin": true,
           "gridcolor": "white",
           "linecolor": "white",
           "ticks": "",
           "zerolinecolor": "white",
           "zerolinewidth": 2
          },
          "yaxis": {
           "automargin": true,
           "gridcolor": "white",
           "linecolor": "white",
           "ticks": "",
           "zerolinecolor": "white",
           "zerolinewidth": 2
          }
         }
        },
        "title": {
         "text": "Amount of forest fires in Brazil by Year"
        },
        "xaxis": {
         "anchor": "y",
         "domain": [
          0,
          0.98
         ],
         "title": {
          "text": "Year"
         }
        },
        "yaxis": {
         "anchor": "x",
         "domain": [
          0,
          1
         ],
         "title": {
          "text": "Amount of Forest Fires"
         }
        }
       }
      },
      "text/html": [
       "<div>\n",
       "        \n",
       "        \n",
       "            <div id=\"c17c7548-2ce0-4421-8985-fea708665254\" class=\"plotly-graph-div\" style=\"height:600px; width:100%;\"></div>\n",
       "            <script type=\"text/javascript\">\n",
       "                require([\"plotly\"], function(Plotly) {\n",
       "                    window.PLOTLYENV=window.PLOTLYENV || {};\n",
       "                    \n",
       "                if (document.getElementById(\"c17c7548-2ce0-4421-8985-fea708665254\")) {\n",
       "                    Plotly.newPlot(\n",
       "                        'c17c7548-2ce0-4421-8985-fea708665254',\n",
       "                        [{\"hoverlabel\": {\"namelength\": 0}, \"hovertemplate\": \"year=%{x}<br>number=%{y}\", \"legendgroup\": \"\", \"line\": {\"color\": \"#636efa\", \"dash\": \"solid\"}, \"mode\": \"lines\", \"name\": \"\", \"showlegend\": false, \"type\": \"scatter\", \"x\": [1998, 1999, 2000, 2001, 2002, 2003, 2004, 2005, 2006, 2007, 2008, 2009, 2010, 2011, 2012, 2013, 2014, 2015, 2016, 2017], \"xaxis\": \"x\", \"y\": [20013.971000000005, 26882.820999999993, 27351.250999999997, 29071.612, 37390.6, 42760.674000000006, 38453.16300000001, 35004.96499999999, 33832.161, 33037.41300000001, 29378.964, 39117.178, 37037.44900000001, 34633.54499999999, 40084.86000000001, 35146.11799999999, 39621.183000000005, 41208.29200000001, 42212.22900000001, 36685.623999999996], \"yaxis\": \"y\"}],\n",
       "                        {\"height\": 600, \"legend\": {\"tracegroupgap\": 0}, \"template\": {\"data\": {\"bar\": [{\"error_x\": {\"color\": \"#2a3f5f\"}, \"error_y\": {\"color\": \"#2a3f5f\"}, \"marker\": {\"line\": {\"color\": \"#E5ECF6\", \"width\": 0.5}}, \"type\": \"bar\"}], \"barpolar\": [{\"marker\": {\"line\": {\"color\": \"#E5ECF6\", \"width\": 0.5}}, \"type\": \"barpolar\"}], \"carpet\": [{\"aaxis\": {\"endlinecolor\": \"#2a3f5f\", \"gridcolor\": \"white\", \"linecolor\": \"white\", \"minorgridcolor\": \"white\", \"startlinecolor\": \"#2a3f5f\"}, \"baxis\": {\"endlinecolor\": \"#2a3f5f\", \"gridcolor\": \"white\", \"linecolor\": \"white\", \"minorgridcolor\": \"white\", \"startlinecolor\": \"#2a3f5f\"}, \"type\": \"carpet\"}], \"choropleth\": [{\"colorbar\": {\"outlinewidth\": 0, \"ticks\": \"\"}, \"type\": \"choropleth\"}], \"contour\": [{\"colorbar\": {\"outlinewidth\": 0, \"ticks\": \"\"}, \"colorscale\": [[0.0, \"#0d0887\"], [0.1111111111111111, \"#46039f\"], [0.2222222222222222, \"#7201a8\"], [0.3333333333333333, \"#9c179e\"], [0.4444444444444444, \"#bd3786\"], [0.5555555555555556, \"#d8576b\"], [0.6666666666666666, \"#ed7953\"], [0.7777777777777778, \"#fb9f3a\"], [0.8888888888888888, \"#fdca26\"], [1.0, \"#f0f921\"]], \"type\": \"contour\"}], \"contourcarpet\": [{\"colorbar\": {\"outlinewidth\": 0, \"ticks\": \"\"}, \"type\": \"contourcarpet\"}], \"heatmap\": [{\"colorbar\": {\"outlinewidth\": 0, \"ticks\": \"\"}, \"colorscale\": [[0.0, \"#0d0887\"], [0.1111111111111111, \"#46039f\"], [0.2222222222222222, \"#7201a8\"], [0.3333333333333333, \"#9c179e\"], [0.4444444444444444, \"#bd3786\"], [0.5555555555555556, \"#d8576b\"], [0.6666666666666666, \"#ed7953\"], [0.7777777777777778, \"#fb9f3a\"], [0.8888888888888888, \"#fdca26\"], [1.0, \"#f0f921\"]], \"type\": \"heatmap\"}], \"heatmapgl\": [{\"colorbar\": {\"outlinewidth\": 0, \"ticks\": \"\"}, \"colorscale\": [[0.0, \"#0d0887\"], [0.1111111111111111, \"#46039f\"], [0.2222222222222222, \"#7201a8\"], [0.3333333333333333, \"#9c179e\"], [0.4444444444444444, \"#bd3786\"], [0.5555555555555556, \"#d8576b\"], [0.6666666666666666, \"#ed7953\"], [0.7777777777777778, \"#fb9f3a\"], [0.8888888888888888, \"#fdca26\"], [1.0, \"#f0f921\"]], \"type\": \"heatmapgl\"}], \"histogram\": [{\"marker\": {\"colorbar\": {\"outlinewidth\": 0, \"ticks\": \"\"}}, \"type\": \"histogram\"}], \"histogram2d\": [{\"colorbar\": {\"outlinewidth\": 0, \"ticks\": \"\"}, \"colorscale\": [[0.0, \"#0d0887\"], [0.1111111111111111, \"#46039f\"], [0.2222222222222222, \"#7201a8\"], [0.3333333333333333, \"#9c179e\"], [0.4444444444444444, \"#bd3786\"], [0.5555555555555556, \"#d8576b\"], [0.6666666666666666, \"#ed7953\"], [0.7777777777777778, \"#fb9f3a\"], [0.8888888888888888, \"#fdca26\"], [1.0, \"#f0f921\"]], \"type\": \"histogram2d\"}], \"histogram2dcontour\": [{\"colorbar\": {\"outlinewidth\": 0, \"ticks\": \"\"}, \"colorscale\": [[0.0, \"#0d0887\"], [0.1111111111111111, \"#46039f\"], [0.2222222222222222, \"#7201a8\"], [0.3333333333333333, \"#9c179e\"], [0.4444444444444444, \"#bd3786\"], [0.5555555555555556, \"#d8576b\"], [0.6666666666666666, \"#ed7953\"], [0.7777777777777778, \"#fb9f3a\"], [0.8888888888888888, \"#fdca26\"], [1.0, \"#f0f921\"]], \"type\": \"histogram2dcontour\"}], \"mesh3d\": [{\"colorbar\": {\"outlinewidth\": 0, \"ticks\": \"\"}, \"type\": \"mesh3d\"}], \"parcoords\": [{\"line\": {\"colorbar\": {\"outlinewidth\": 0, \"ticks\": \"\"}}, \"type\": \"parcoords\"}], \"scatter\": [{\"marker\": {\"colorbar\": {\"outlinewidth\": 0, \"ticks\": \"\"}}, \"type\": \"scatter\"}], \"scatter3d\": [{\"line\": {\"colorbar\": {\"outlinewidth\": 0, \"ticks\": \"\"}}, \"marker\": {\"colorbar\": {\"outlinewidth\": 0, \"ticks\": \"\"}}, \"type\": \"scatter3d\"}], \"scattercarpet\": [{\"marker\": {\"colorbar\": {\"outlinewidth\": 0, \"ticks\": \"\"}}, \"type\": \"scattercarpet\"}], \"scattergeo\": [{\"marker\": {\"colorbar\": {\"outlinewidth\": 0, \"ticks\": \"\"}}, \"type\": \"scattergeo\"}], \"scattergl\": [{\"marker\": {\"colorbar\": {\"outlinewidth\": 0, \"ticks\": \"\"}}, \"type\": \"scattergl\"}], \"scattermapbox\": [{\"marker\": {\"colorbar\": {\"outlinewidth\": 0, \"ticks\": \"\"}}, \"type\": \"scattermapbox\"}], \"scatterpolar\": [{\"marker\": {\"colorbar\": {\"outlinewidth\": 0, \"ticks\": \"\"}}, \"type\": \"scatterpolar\"}], \"scatterpolargl\": [{\"marker\": {\"colorbar\": {\"outlinewidth\": 0, \"ticks\": \"\"}}, \"type\": \"scatterpolargl\"}], \"scatterternary\": [{\"marker\": {\"colorbar\": {\"outlinewidth\": 0, \"ticks\": \"\"}}, \"type\": \"scatterternary\"}], \"surface\": [{\"colorbar\": {\"outlinewidth\": 0, \"ticks\": \"\"}, \"colorscale\": [[0.0, \"#0d0887\"], [0.1111111111111111, \"#46039f\"], [0.2222222222222222, \"#7201a8\"], [0.3333333333333333, \"#9c179e\"], [0.4444444444444444, \"#bd3786\"], [0.5555555555555556, \"#d8576b\"], [0.6666666666666666, \"#ed7953\"], [0.7777777777777778, \"#fb9f3a\"], [0.8888888888888888, \"#fdca26\"], [1.0, \"#f0f921\"]], \"type\": \"surface\"}], \"table\": [{\"cells\": {\"fill\": {\"color\": \"#EBF0F8\"}, \"line\": {\"color\": \"white\"}}, \"header\": {\"fill\": {\"color\": \"#C8D4E3\"}, \"line\": {\"color\": \"white\"}}, \"type\": \"table\"}]}, \"layout\": {\"annotationdefaults\": {\"arrowcolor\": \"#2a3f5f\", \"arrowhead\": 0, \"arrowwidth\": 1}, \"colorscale\": {\"diverging\": [[0, \"#8e0152\"], [0.1, \"#c51b7d\"], [0.2, \"#de77ae\"], [0.3, \"#f1b6da\"], [0.4, \"#fde0ef\"], [0.5, \"#f7f7f7\"], [0.6, \"#e6f5d0\"], [0.7, \"#b8e186\"], [0.8, \"#7fbc41\"], [0.9, \"#4d9221\"], [1, \"#276419\"]], \"sequential\": [[0.0, \"#0d0887\"], [0.1111111111111111, \"#46039f\"], [0.2222222222222222, \"#7201a8\"], [0.3333333333333333, \"#9c179e\"], [0.4444444444444444, \"#bd3786\"], [0.5555555555555556, \"#d8576b\"], [0.6666666666666666, \"#ed7953\"], [0.7777777777777778, \"#fb9f3a\"], [0.8888888888888888, \"#fdca26\"], [1.0, \"#f0f921\"]], \"sequentialminus\": [[0.0, \"#0d0887\"], [0.1111111111111111, \"#46039f\"], [0.2222222222222222, \"#7201a8\"], [0.3333333333333333, \"#9c179e\"], [0.4444444444444444, \"#bd3786\"], [0.5555555555555556, \"#d8576b\"], [0.6666666666666666, \"#ed7953\"], [0.7777777777777778, \"#fb9f3a\"], [0.8888888888888888, \"#fdca26\"], [1.0, \"#f0f921\"]]}, \"colorway\": [\"#636efa\", \"#EF553B\", \"#00cc96\", \"#ab63fa\", \"#FFA15A\", \"#19d3f3\", \"#FF6692\", \"#B6E880\", \"#FF97FF\", \"#FECB52\"], \"font\": {\"color\": \"#2a3f5f\"}, \"geo\": {\"bgcolor\": \"white\", \"lakecolor\": \"white\", \"landcolor\": \"#E5ECF6\", \"showlakes\": true, \"showland\": true, \"subunitcolor\": \"white\"}, \"hoverlabel\": {\"align\": \"left\"}, \"hovermode\": \"closest\", \"mapbox\": {\"style\": \"light\"}, \"paper_bgcolor\": \"white\", \"plot_bgcolor\": \"#E5ECF6\", \"polar\": {\"angularaxis\": {\"gridcolor\": \"white\", \"linecolor\": \"white\", \"ticks\": \"\"}, \"bgcolor\": \"#E5ECF6\", \"radialaxis\": {\"gridcolor\": \"white\", \"linecolor\": \"white\", \"ticks\": \"\"}}, \"scene\": {\"xaxis\": {\"backgroundcolor\": \"#E5ECF6\", \"gridcolor\": \"white\", \"gridwidth\": 2, \"linecolor\": \"white\", \"showbackground\": true, \"ticks\": \"\", \"zerolinecolor\": \"white\"}, \"yaxis\": {\"backgroundcolor\": \"#E5ECF6\", \"gridcolor\": \"white\", \"gridwidth\": 2, \"linecolor\": \"white\", \"showbackground\": true, \"ticks\": \"\", \"zerolinecolor\": \"white\"}, \"zaxis\": {\"backgroundcolor\": \"#E5ECF6\", \"gridcolor\": \"white\", \"gridwidth\": 2, \"linecolor\": \"white\", \"showbackground\": true, \"ticks\": \"\", \"zerolinecolor\": \"white\"}}, \"shapedefaults\": {\"line\": {\"color\": \"#2a3f5f\"}}, \"ternary\": {\"aaxis\": {\"gridcolor\": \"white\", \"linecolor\": \"white\", \"ticks\": \"\"}, \"baxis\": {\"gridcolor\": \"white\", \"linecolor\": \"white\", \"ticks\": \"\"}, \"bgcolor\": \"#E5ECF6\", \"caxis\": {\"gridcolor\": \"white\", \"linecolor\": \"white\", \"ticks\": \"\"}}, \"title\": {\"x\": 0.05}, \"xaxis\": {\"automargin\": true, \"gridcolor\": \"white\", \"linecolor\": \"white\", \"ticks\": \"\", \"zerolinecolor\": \"white\", \"zerolinewidth\": 2}, \"yaxis\": {\"automargin\": true, \"gridcolor\": \"white\", \"linecolor\": \"white\", \"ticks\": \"\", \"zerolinecolor\": \"white\", \"zerolinewidth\": 2}}}, \"title\": {\"text\": \"Amount of forest fires in Brazil by Year\"}, \"xaxis\": {\"anchor\": \"y\", \"domain\": [0.0, 0.98], \"title\": {\"text\": \"Year\"}}, \"yaxis\": {\"anchor\": \"x\", \"domain\": [0.0, 1.0], \"title\": {\"text\": \"Amount of Forest Fires\"}}},\n",
       "                        {\"responsive\": true}\n",
       "                    ).then(function(){\n",
       "                            \n",
       "var gd = document.getElementById('c17c7548-2ce0-4421-8985-fea708665254');\n",
       "var x = new MutationObserver(function (mutations, observer) {{\n",
       "        var display = window.getComputedStyle(gd).display;\n",
       "        if (!display || display === 'none') {{\n",
       "            console.log([gd, 'removed!']);\n",
       "            Plotly.purge(gd);\n",
       "            observer.disconnect();\n",
       "        }}\n",
       "}});\n",
       "\n",
       "// Listen for the removal of the full notebook cells\n",
       "var notebookContainer = gd.closest('#notebook-container');\n",
       "if (notebookContainer) {{\n",
       "    x.observe(notebookContainer, {childList: true});\n",
       "}}\n",
       "\n",
       "// Listen for the clearing of the current output cell\n",
       "var outputEl = gd.closest('.output');\n",
       "if (outputEl) {{\n",
       "    x.observe(outputEl, {childList: true});\n",
       "}}\n",
       "\n",
       "                        })\n",
       "                };\n",
       "                });\n",
       "            </script>\n",
       "        </div>"
      ]
     },
     "metadata": {},
     "output_type": "display_data"
    }
   ],
   "source": [
    "fig = px.line(YEAR, x=\"year\", y=\"number\", title='Brazil Forest Fires by Year')\n",
    "fig.update_layout(title='Amount of forest fires in Brazil by Year',\n",
    "                   xaxis_title='Year',\n",
    "                   yaxis_title='Amount of Forest Fires')\n",
    "fig.show()"
   ]
  },
  {
   "cell_type": "code",
   "execution_count": 38,
   "metadata": {},
   "outputs": [
    {
     "name": "stdout",
     "output_type": "stream",
     "text": [
      "coefficient of determination: 0.4299563767268794\n",
      "\n",
      "\n",
      "intercept: [-1277040.25038571]\n",
      "\n",
      "\n",
      "slope: [[653.54244286]]\n"
     ]
    }
   ],
   "source": [
    "from sklearn.linear_model import LinearRegression\n",
    "\n",
    "model = LinearRegression()\n",
    "x = YEAR[['year']]\n",
    "y = YEAR[['number']]\n",
    "\n",
    "model.fit(x, y)\n",
    "\n",
    "\n",
    "#reg.fit(df[['year']],df.income)\n",
    "\n",
    "r_sq = model.score(x, y)\n",
    "print('coefficient of determination:', r_sq)\n",
    "print('\\n')\n",
    "print('intercept:', model.intercept_)\n",
    "print('\\n')\n",
    "print('slope:', model.coef_)"
   ]
  },
  {
   "cell_type": "markdown",
   "metadata": {},
   "source": [
    "Conclusion:\n",
    "\n",
    "- The regression formula shows an increase slope of 654 for each year"
   ]
  },
  {
   "cell_type": "code",
   "execution_count": 46,
   "metadata": {},
   "outputs": [],
   "source": [
    "Slope = model.coef_\n",
    "Intercept = model.intercept_"
   ]
  },
  {
   "cell_type": "code",
   "execution_count": 48,
   "metadata": {
    "scrolled": true
   },
   "outputs": [
    {
     "ename": "ValueError",
     "evalue": "Unable to coerce to DataFrame, shape must be (20, 1): given (1, 1)",
     "output_type": "error",
     "traceback": [
      "\u001b[1;31m---------------------------------------------------------------------------\u001b[0m",
      "\u001b[1;31mValueError\u001b[0m                                Traceback (most recent call last)",
      "\u001b[1;32m<ipython-input-48-122d80fb7973>\u001b[0m in \u001b[0;36m<module>\u001b[1;34m()\u001b[0m\n\u001b[1;32m----> 1\u001b[1;33m \u001b[0my\u001b[0m\u001b[1;33m*\u001b[0m\u001b[0mSlope\u001b[0m\u001b[1;33m\u001b[0m\u001b[0m\n\u001b[0m",
      "\u001b[1;32mC:\\ProgramData\\Anaconda3\\lib\\site-packages\\pandas\\core\\ops.py\u001b[0m in \u001b[0;36mf\u001b[1;34m(self, other, axis, level, fill_value)\u001b[0m\n\u001b[0;32m   1545\u001b[0m     \u001b[1;32mdef\u001b[0m \u001b[0mf\u001b[0m\u001b[1;33m(\u001b[0m\u001b[0mself\u001b[0m\u001b[1;33m,\u001b[0m \u001b[0mother\u001b[0m\u001b[1;33m,\u001b[0m \u001b[0maxis\u001b[0m\u001b[1;33m=\u001b[0m\u001b[0mdefault_axis\u001b[0m\u001b[1;33m,\u001b[0m \u001b[0mlevel\u001b[0m\u001b[1;33m=\u001b[0m\u001b[1;32mNone\u001b[0m\u001b[1;33m,\u001b[0m \u001b[0mfill_value\u001b[0m\u001b[1;33m=\u001b[0m\u001b[1;32mNone\u001b[0m\u001b[1;33m)\u001b[0m\u001b[1;33m:\u001b[0m\u001b[1;33m\u001b[0m\u001b[0m\n\u001b[0;32m   1546\u001b[0m \u001b[1;33m\u001b[0m\u001b[0m\n\u001b[1;32m-> 1547\u001b[1;33m         \u001b[0mother\u001b[0m \u001b[1;33m=\u001b[0m \u001b[0m_align_method_FRAME\u001b[0m\u001b[1;33m(\u001b[0m\u001b[0mself\u001b[0m\u001b[1;33m,\u001b[0m \u001b[0mother\u001b[0m\u001b[1;33m,\u001b[0m \u001b[0maxis\u001b[0m\u001b[1;33m)\u001b[0m\u001b[1;33m\u001b[0m\u001b[0m\n\u001b[0m\u001b[0;32m   1548\u001b[0m \u001b[1;33m\u001b[0m\u001b[0m\n\u001b[0;32m   1549\u001b[0m         \u001b[1;32mif\u001b[0m \u001b[0misinstance\u001b[0m\u001b[1;33m(\u001b[0m\u001b[0mother\u001b[0m\u001b[1;33m,\u001b[0m \u001b[0mABCDataFrame\u001b[0m\u001b[1;33m)\u001b[0m\u001b[1;33m:\u001b[0m  \u001b[1;31m# Another DataFrame\u001b[0m\u001b[1;33m\u001b[0m\u001b[0m\n",
      "\u001b[1;32mC:\\ProgramData\\Anaconda3\\lib\\site-packages\\pandas\\core\\ops.py\u001b[0m in \u001b[0;36m_align_method_FRAME\u001b[1;34m(left, right, axis)\u001b[0m\n\u001b[0;32m   1468\u001b[0m                                  \u001b[1;34m\"must be {req_shape}: given {given_shape}\"\u001b[0m\u001b[1;33m\u001b[0m\u001b[0m\n\u001b[0;32m   1469\u001b[0m                                  .format(req_shape=left.shape,\n\u001b[1;32m-> 1470\u001b[1;33m                                          given_shape=right.shape))\n\u001b[0m\u001b[0;32m   1471\u001b[0m \u001b[1;33m\u001b[0m\u001b[0m\n\u001b[0;32m   1472\u001b[0m             right = left._constructor(right, index=left.index,\n",
      "\u001b[1;31mValueError\u001b[0m: Unable to coerce to DataFrame, shape must be (20, 1): given (1, 1)"
     ]
    }
   ],
   "source": [
    "y*Slope\n",
    "\n",
    "product = 1\n",
    "list = [1, 2, 3, 4]\n",
    "for num in list:\n",
    "    product = product * num\n",
    "\n",
    "# product = 24"
   ]
  },
  {
   "cell_type": "code",
   "execution_count": 51,
   "metadata": {},
   "outputs": [
    {
     "data": {
      "application/vnd.plotly.v1+json": {
       "config": {
        "plotlyServerURL": "https://plot.ly"
       },
       "data": [
        {
         "alignmentgroup": "True",
         "bingroup": "x",
         "hoverlabel": {
          "namelength": 0
         },
         "hovertemplate": "number=%{x}<br>count=%{y}",
         "legendgroup": "",
         "marker": {
          "color": "#636efa"
         },
         "name": "",
         "offsetgroup": "",
         "orientation": "v",
         "showlegend": false,
         "type": "histogram",
         "x": [
          0,
          0,
          0,
          0,
          0,
          10,
          0,
          12,
          4,
          0,
          0,
          0,
          1,
          0,
          0,
          0,
          0,
          1,
          12,
          0,
          0,
          0,
          0,
          0,
          1,
          0,
          3,
          0,
          0,
          5,
          0,
          2,
          0,
          0,
          0,
          0,
          0,
          2,
          5,
          1,
          0,
          0,
          11,
          0,
          0,
          0,
          0,
          3,
          0,
          2,
          0,
          1,
          0,
          0,
          1,
          2,
          1,
          2,
          0,
          0,
          0,
          0,
          1,
          0,
          0,
          1,
          2,
          1,
          0,
          0,
          0,
          0,
          3,
          2,
          1,
          19,
          7,
          3,
          0,
          1,
          0,
          0,
          1,
          0,
          0,
          6,
          7,
          2,
          8,
          1,
          0,
          3,
          9,
          3,
          3,
          4,
          1,
          2,
          21,
          10,
          3,
          0,
          1,
          1,
          0,
          0,
          5,
          27,
          1,
          4,
          0,
          0,
          1,
          10,
          7,
          8,
          17,
          40,
          87,
          45,
          37,
          1,
          1,
          3,
          39,
          168,
          42,
          368,
          33,
          29,
          41,
          31,
          126,
          93,
          71,
          54,
          60,
          109,
          533,
          457,
          130,
          63,
          136,
          396,
          728,
          1.976,
          645,
          4.198,
          839,
          960,
          445,
          194,
          1.682,
          425,
          739,
          679,
          1.1,
          1.3969999999999998,
          2.188,
          1.493,
          509,
          209,
          265,
          290,
          1.949,
          3.9419999999999997,
          1.9780000000000002,
          4.253,
          2.37,
          2.08,
          1.666,
          1.265,
          2.531,
          1.204,
          1.996,
          2.136,
          2.175,
          2.928,
          3.5860000000000003,
          3.429,
          44,
          60,
          18,
          137,
          687,
          740,
          461,
          547,
          316,
          203,
          652,
          565,
          292,
          97,
          348,
          258,
          406,
          905,
          509,
          1.508,
          0,
          0,
          0,
          1,
          86,
          15,
          10,
          14,
          18,
          7,
          4,
          33,
          39,
          74,
          13,
          79,
          56,
          115,
          46,
          98,
          7,
          0,
          0,
          0,
          1,
          1,
          7,
          2,
          0,
          0,
          0,
          1,
          0,
          4,
          1,
          3,
          6,
          8,
          6,
          0,
          58,
          11,
          5,
          12,
          150,
          9,
          83,
          29,
          33,
          55,
          104,
          23,
          41,
          36,
          49,
          54,
          81,
          24,
          38,
          38,
          0,
          20,
          16,
          4,
          15,
          33,
          7,
          31,
          14,
          28,
          74,
          32,
          26,
          33,
          41,
          19,
          29,
          46,
          14,
          21,
          0,
          52,
          32,
          0,
          27,
          15,
          16,
          35,
          37,
          7,
          31,
          31,
          70,
          34,
          44,
          31,
          28,
          32,
          9,
          23,
          0,
          4,
          20,
          0,
          6,
          20,
          6,
          1,
          2,
          1,
          18,
          5,
          3,
          17,
          18,
          25,
          16,
          63,
          13,
          7,
          0,
          1,
          1,
          2,
          1,
          1,
          3,
          0,
          0,
          0,
          0,
          0,
          0,
          0,
          21,
          2,
          1,
          18,
          4,
          1,
          0,
          0,
          0,
          2,
          0,
          0,
          0,
          0,
          0,
          0,
          0,
          0,
          0,
          2,
          4,
          1,
          2,
          2,
          5,
          2,
          0,
          0,
          0,
          0,
          5,
          0,
          0,
          0,
          0,
          0,
          0,
          0,
          2,
          0,
          0,
          0,
          1,
          0,
          3,
          0,
          1,
          3,
          4,
          1,
          3,
          2,
          2,
          2,
          1,
          3,
          1,
          0,
          1,
          4,
          0,
          0,
          3,
          3,
          5,
          1,
          14,
          3,
          22,
          5,
          14,
          8,
          5,
          7,
          4,
          2,
          9,
          13,
          5,
          5,
          6,
          4,
          11,
          7,
          18,
          4,
          20,
          4,
          13,
          15,
          30,
          10,
          12,
          17,
          32,
          6,
          18,
          30,
          16,
          23,
          28,
          25,
          7,
          40,
          74,
          14,
          19,
          15,
          2,
          22,
          50,
          17,
          28,
          25,
          12,
          15,
          37,
          55,
          31,
          23,
          95,
          10,
          14,
          162,
          76,
          10,
          32,
          12,
          2,
          30,
          95,
          43,
          71,
          16,
          30,
          33,
          34,
          55,
          45,
          50,
          59,
          42,
          24,
          136,
          155,
          0,
          0,
          2,
          0,
          7,
          31,
          38,
          109,
          6,
          0,
          2,
          4,
          2,
          0,
          30,
          3,
          10,
          14,
          19,
          2,
          0,
          1,
          0,
          0,
          2,
          0,
          2,
          1,
          2,
          0,
          0,
          0,
          0,
          3,
          5,
          0,
          2,
          1,
          1,
          0,
          0,
          2,
          0,
          0,
          0,
          1,
          0,
          0,
          0,
          0,
          1,
          1,
          2,
          0,
          1,
          0,
          1,
          2,
          5,
          0,
          0,
          0,
          0,
          0,
          0,
          2,
          0,
          0,
          0,
          0,
          2,
          0,
          2,
          0,
          2,
          2,
          0,
          0,
          0,
          3,
          0,
          0,
          0,
          0,
          3,
          0,
          0,
          0,
          0,
          0,
          0,
          2,
          2,
          2,
          2,
          0,
          0,
          0,
          1,
          1,
          0,
          2,
          0,
          0,
          0,
          0,
          5,
          2,
          0,
          0,
          0,
          1,
          0,
          0,
          7,
          1,
          0,
          3,
          2,
          2,
          0,
          0,
          0,
          1,
          1,
          0,
          2,
          0,
          0,
          0,
          0,
          4,
          2,
          5,
          3,
          1,
          4,
          5,
          1,
          3,
          1,
          0,
          3,
          12,
          18,
          14,
          9,
          4,
          11,
          5,
          4,
          20,
          1,
          16,
          19,
          9,
          18,
          40,
          37,
          33,
          20,
          4,
          19,
          95,
          73,
          88,
          67,
          97,
          112,
          61,
          83,
          188,
          63,
          128,
          168,
          85,
          137,
          192,
          142,
          95,
          42,
          25,
          42,
          194,
          557,
          355,
          412,
          335,
          405,
          162,
          395,
          765,
          265,
          304,
          475,
          385,
          480,
          827,
          793,
          468,
          131,
          26,
          157,
          406,
          1.0959999999999999,
          750,
          949,
          685,
          207,
          198,
          266,
          1.0190000000000001,
          339,
          282,
          969,
          341,
          484,
          1.3,
          1.161,
          858,
          84,
          41,
          30,
          593,
          200,
          411,
          777,
          38,
          74,
          14,
          32,
          123,
          43,
          360,
          422,
          148,
          354,
          269,
          491,
          0,
          3,
          7,
          3,
          17,
          158,
          123,
          44,
          20,
          37,
          16,
          9,
          82,
          53,
          6,
          37,
          46,
          35,
          770,
          65,
          0,
          43,
          62,
          8,
          2,
          62,
          92,
          6,
          10,
          92,
          32,
          3,
          81,
          30,
          25,
          16,
          49,
          107,
          275,
          52,
          0,
          7,
          69,
          6,
          5,
          64,
          6,
          12,
          20,
          6,
          10,
          11,
          116,
          49,
          17,
          49,
          50,
          46,
          140,
          45,
          0,
          2,
          18,
          1,
          2,
          11,
          4,
          5,
          5,
          0,
          13,
          1,
          11,
          5,
          3,
          20,
          25,
          24,
          22,
          20,
          0,
          0,
          51,
          0,
          8,
          2,
          0,
          8,
          4,
          0,
          1,
          3,
          13,
          6,
          12,
          19,
          12,
          10,
          30,
          40,
          2,
          7,
          6,
          5,
          5,
          3,
          12,
          78,
          9,
          23,
          7,
          13,
          9,
          22,
          45,
          56,
          74,
          33,
          90,
          119,
          71,
          11,
          39,
          9,
          146,
          180,
          177,
          676,
          123,
          116,
          108,
          199,
          640,
          271,
          234,
          248,
          202,
          356,
          1.137,
          1.975,
          321,
          259,
          180,
          501,
          741,
          1.867,
          1.207,
          2.316,
          1.422,
          2.241,
          861,
          1.321,
          3.727,
          1.2429999999999999,
          3.011,
          1.276,
          3.852,
          4.564,
          3.611,
          6.316,
          267,
          216,
          189,
          166,
          928,
          1.401,
          911,
          2.812,
          2.218,
          1.36,
          998,
          3.091,
          2.781,
          1.295,
          2.392,
          1.739,
          3.057,
          5.882000000000001,
          3.1189999999999998,
          4.033,
          83,
          479,
          145,
          332,
          695,
          725,
          710,
          545,
          721,
          215,
          632,
          2.189,
          889,
          694,
          1.238,
          1.202,
          952,
          2.494,
          2.105,
          1.581,
          6,
          32,
          27,
          244,
          259,
          169,
          209,
          261,
          59,
          90,
          39,
          973,
          354,
          399,
          682,
          220,
          676,
          1.054,
          591,
          552,
          196,
          2,
          60,
          22,
          44,
          147,
          53,
          17,
          23,
          7,
          0,
          102,
          123,
          121,
          80,
          236,
          293,
          565,
          133,
          0,
          114,
          31,
          24,
          125,
          439,
          158,
          303,
          225,
          373,
          314,
          177,
          297,
          101,
          179,
          125,
          132,
          256,
          285,
          154,
          0,
          157,
          32,
          101,
          204,
          223,
          122,
          143,
          277,
          113,
          235,
          117,
          206,
          156,
          200,
          231,
          107,
          143,
          418,
          100,
          0,
          83,
          65,
          4,
          146,
          274,
          115,
          158,
          199,
          141,
          135,
          249,
          156,
          90,
          404,
          363,
          148,
          229,
          281,
          163,
          0,
          55,
          23,
          26,
          110,
          376,
          89,
          76,
          60,
          64,
          151,
          40,
          103,
          149,
          396,
          108,
          183,
          190,
          217,
          94,
          0,
          76,
          71,
          85,
          166,
          106,
          124,
          120,
          43,
          161,
          56,
          34,
          198,
          189,
          326,
          141,
          224,
          144,
          259,
          121,
          55,
          64,
          178,
          98,
          118,
          140,
          289,
          211,
          68,
          270,
          72,
          92,
          192,
          345,
          385,
          208,
          243,
          242,
          416,
          329,
          219,
          107,
          202,
          248,
          549,
          261,
          310,
          269,
          229,
          811,
          271,
          321,
          519,
          578,
          906,
          362,
          249,
          306,
          345,
          300,
          815,
          453,
          633,
          979,
          1.827,
          1.0390000000000001,
          1.43,
          948,
          995,
          3.734,
          611,
          439,
          2.423,
          1.795,
          1.835,
          610,
          674,
          829,
          724,
          1.018,
          2.718,
          1.275,
          2.285,
          3.964,
          6.439,
          8.847000000000001,
          6.433,
          4.066,
          3.0060000000000002,
          7.438,
          4.837,
          3.61,
          5.3229999999999995,
          7.086,
          7.495,
          2.681,
          2.6039999999999996,
          7.956,
          1.819,
          1.791,
          1.969,
          1.307,
          3.35,
          1.6869999999999998,
          5.414,
          4.263999999999999,
          4.81,
          8.405,
          2.079,
          4.981,
          7.691,
          2.552,
          5.263999999999999,
          2.166,
          4.607,
          1.969,
          2.763,
          4.989,
          1.415,
          4.005,
          49,
          49,
          114,
          699,
          1.02,
          533,
          1.736,
          1.595,
          239,
          2.126,
          3.175,
          402,
          605,
          176,
          168,
          288,
          348,
          1.705,
          408,
          174,
          82,
          37,
          24,
          158,
          848,
          710,
          423,
          116,
          169,
          259,
          52,
          308,
          226,
          230,
          477,
          131,
          144,
          1.4080000000000001,
          164,
          0,
          47,
          1,
          11,
          33,
          264,
          143,
          384,
          211,
          304,
          166,
          347,
          288,
          32,
          273,
          103,
          115,
          207,
          100,
          91,
          0,
          16,
          6,
          0,
          75,
          9,
          5,
          25,
          23,
          3,
          12,
          8,
          63,
          2,
          41,
          49,
          18,
          25,
          13,
          9,
          0,
          30,
          9,
          0,
          17,
          3,
          1,
          5,
          3,
          2,
          2,
          3,
          40,
          6,
          10,
          17,
          6,
          20,
          4,
          4,
          0,
          6,
          15,
          2,
          5,
          3,
          2,
          4,
          1,
          1,
          0,
          0,
          7,
          1,
          2,
          4,
          4,
          3,
          10,
          6,
          0,
          5,
          7,
          81,
          10,
          0,
          3,
          1,
          0,
          0,
          0,
          0,
          2,
          0,
          19,
          4,
          4,
          17,
          8,
          9,
          1,
          16,
          16,
          38,
          13,
          2,
          1,
          6,
          0,
          1,
          1,
          0,
          3,
          5,
          28,
          5,
          19,
          22,
          45,
          23,
          76,
          83,
          18,
          146,
          12,
          14,
          16,
          14,
          1,
          11,
          3,
          7,
          44,
          18,
          50,
          4,
          47,
          25,
          124,
          26,
          93,
          131,
          79,
          219,
          111,
          109,
          61,
          51,
          50,
          182,
          32,
          26,
          202,
          53,
          278,
          32,
          155,
          127,
          293,
          121,
          590,
          124,
          127,
          801,
          172,
          384,
          144,
          185,
          237,
          241,
          177,
          101,
          357,
          239,
          609,
          177,
          155,
          214,
          370,
          505,
          1.014,
          309,
          875,
          2.045,
          1.6059999999999999,
          1.761,
          1.217,
          1.3780000000000001,
          581,
          964,
          816,
          435,
          502,
          415,
          1.104,
          466,
          517,
          658,
          1.31,
          949,
          575,
          524,
          669,
          2.456,
          2.715,
          3.327,
          2.9,
          2.483,
          1.012,
          1.443,
          1.7530000000000001,
          1.653,
          1.652,
          1.561,
          995,
          1.081,
          829,
          1.081,
          1.328,
          812,
          276,
          397,
          389,
          545,
          1.787,
          2.436,
          3.158,
          1.36,
          1.161,
          1.177,
          1.655,
          1.9869999999999999,
          578,
          1.4409999999999998,
          631,
          956,
          643,
          1.021,
          819,
          0,
          0,
          0,
          0,
          0,
          0,
          0,
          0,
          0,
          0,
          0,
          1,
          2,
          2,
          0,
          0,
          0,
          1,
          1,
          1,
          0,
          2,
          0,
          1,
          0,
          1,
          0,
          0,
          0,
          0,
          0,
          0,
          4,
          1,
          0,
          1,
          1,
          0,
          2,
          0,
          0,
          0,
          0,
          0,
          0,
          0,
          0,
          0,
          0,
          1,
          2,
          0,
          0,
          0,
          0,
          1,
          1,
          0,
          1,
          0,
          0,
          0,
          0,
          0,
          1,
          0,
          1,
          0,
          0,
          0,
          1,
          0,
          8,
          1,
          4,
          1,
          2,
          0,
          5,
          1,
          0,
          0,
          2,
          0,
          1,
          0,
          9,
          2,
          3,
          4,
          6,
          9,
          23,
          3,
          0,
          2,
          9,
          2,
          15,
          6,
          2,
          3,
          1,
          3,
          7,
          11,
          6,
          3,
          2,
          21,
          0,
          4,
          21,
          18,
          6,
          4,
          6,
          1,
          42,
          23,
          17,
          4,
          15,
          22,
          33,
          19,
          37,
          24,
          10,
          25,
          12,
          33,
          85,
          53,
          29,
          22,
          27,
          15,
          79,
          44,
          48,
          16,
          9,
          25,
          53,
          36,
          108,
          20,
          40,
          137,
          30,
          37,
          159,
          61,
          55,
          34,
          99,
          53,
          29,
          147,
          33,
          12,
          3,
          12,
          33,
          17,
          100,
          23,
          20,
          73,
          54,
          5,
          196,
          133,
          64,
          31,
          72,
          76,
          58,
          122,
          3,
          8,
          18,
          0,
          19,
          12,
          18,
          18,
          1,
          13,
          6,
          3,
          6,
          0,
          15,
          3,
          34,
          21,
          9,
          66,
          0,
          1,
          0,
          0,
          1,
          0,
          0,
          2,
          0,
          0,
          4,
          0,
          0,
          1,
          0,
          0,
          0,
          3,
          1,
          0,
          0,
          0,
          0,
          1,
          1,
          0,
          0,
          0,
          0,
          0,
          0,
          0,
          1,
          0,
          0,
          2,
          0,
          0,
          0,
          0,
          33,
          5,
          1,
          2,
          4,
          1,
          4,
          13,
          0,
          12,
          4,
          52,
          3,
          1,
          10,
          11,
          76,
          43,
          13,
          0,
          10,
          5,
          5,
          4,
          11,
          5,
          1,
          45,
          3,
          20,
          12,
          15,
          42,
          25,
          15,
          17,
          60,
          24,
          8,
          0,
          8,
          1,
          2,
          4,
          28,
          3,
          3,
          14,
          9,
          5,
          11,
          3,
          5,
          35,
          13,
          15,
          25,
          107,
          9,
          0,
          2,
          3,
          2,
          2,
          22,
          0,
          4,
          1,
          2,
          8,
          8,
          7,
          3,
          74,
          16,
          15,
          33,
          57,
          7,
          0,
          16,
          2,
          8,
          5,
          1,
          0,
          5,
          0,
          1,
          2,
          7,
          3,
          2,
          20,
          14,
          18,
          17,
          48,
          10,
          6,
          6,
          9,
          9,
          18,
          19,
          3,
          8,
          5,
          4,
          4,
          12,
          3,
          7,
          15,
          22,
          9,
          18,
          49,
          37,
          37,
          9,
          16,
          12,
          9,
          27,
          4,
          9,
          11,
          13,
          5,
          25,
          5,
          18,
          35,
          20,
          17,
          30,
          42,
          3,
          38,
          60,
          26,
          30,
          60,
          118,
          12,
          12,
          29,
          82,
          13,
          17,
          39,
          93,
          12,
          53,
          47,
          35,
          78,
          30,
          108,
          64,
          14,
          38,
          46,
          252,
          47,
          8,
          87,
          63,
          78,
          57,
          53,
          108,
          48,
          30,
          61,
          228,
          128,
          58,
          20,
          23,
          88,
          19,
          113,
          159,
          48,
          62,
          10,
          79,
          100,
          13,
          32,
          38,
          62,
          37,
          89,
          307,
          58,
          56,
          4,
          9,
          3,
          3,
          22,
          49,
          42,
          0,
          0,
          112,
          3,
          18,
          3,
          6,
          7,
          11,
          20,
          141,
          8,
          3,
          5,
          0,
          3,
          1,
          12,
          18,
          9,
          5,
          0,
          14,
          1,
          32,
          10,
          1,
          18,
          9,
          28,
          61,
          12,
          0,
          14,
          10,
          29,
          12,
          14,
          10,
          27,
          85,
          28,
          23,
          30,
          59,
          39,
          21,
          33,
          80,
          118,
          52,
          53,
          0,
          334,
          11,
          9,
          9,
          47,
          11,
          84,
          21,
          13,
          25,
          29,
          86,
          45,
          37,
          86,
          44,
          53,
          117,
          75,
          0,
          1,
          4,
          10,
          48,
          29,
          36,
          36,
          29,
          49,
          20,
          32,
          65,
          19,
          57,
          79,
          80,
          76,
          136,
          115,
          0,
          25,
          16,
          49,
          78,
          87,
          32,
          55,
          22,
          17,
          36,
          11,
          105,
          71,
          89,
          42,
          138,
          89,
          167,
          60,
          0,
          99,
          58,
          85,
          171,
          57,
          157,
          164,
          33,
          94,
          41,
          104,
          239,
          136,
          103,
          150,
          210,
          129,
          233,
          135,
          172,
          250,
          222,
          212,
          302,
          321,
          422,
          189,
          70,
          186,
          55,
          179,
          278,
          314,
          245,
          192,
          318,
          277,
          289,
          442,
          512,
          311,
          332,
          371,
          686,
          322,
          778,
          363,
          169,
          399,
          193,
          470,
          941,
          607,
          564,
          350,
          446,
          347,
          837,
          577,
          2.218,
          1.198,
          925,
          787,
          1.4280000000000002,
          902,
          1.4980000000000002,
          639,
          588,
          2.3819999999999997,
          568,
          647,
          2.9139999999999997,
          1.6130000000000002,
          912,
          488,
          1.255,
          943,
          1.032,
          1.492,
          2.867,
          1.8980000000000001,
          1.2930000000000001,
          1.8630000000000002,
          3.52,
          1.662,
          2.965,
          1.341,
          1.463,
          3.745,
          1.255,
          685,
          5.075,
          2.259,
          2.452,
          684,
          1.6869999999999998,
          2.296,
          1.703,
          3.238,
          1.034,
          743,
          905,
          479,
          1.367,
          1.183,
          1.275,
          1.7169999999999999,
          178,
          1.195,
          1.2309999999999999,
          367,
          1.227,
          476,
          1.524,
          606,
          1.9469999999999998,
          1.807,
          522,
          2.401,
          47,
          110,
          26,
          15,
          192,
          168,
          291,
          144,
          91,
          79,
          90,
          89,
          67,
          59,
          57,
          183,
          181,
          547,
          123,
          117,
          13,
          20,
          6,
          18,
          115,
          129,
          56,
          5,
          7,
          16,
          6,
          39,
          48,
          39,
          93,
          86,
          68,
          179,
          64,
          0,
          54,
          19,
          29,
          48,
          436,
          241,
          450,
          221,
          428,
          121,
          240,
          319,
          124,
          326,
          209,
          195,
          494,
          412,
          187,
          0,
          6,
          11,
          1,
          116,
          11,
          22,
          56,
          22,
          13,
          45,
          20,
          93,
          9,
          46,
          62,
          29,
          95,
          318,
          47,
          0,
          17,
          6,
          0,
          16,
          16,
          18,
          9,
          14,
          52,
          4,
          33,
          82,
          22,
          49,
          30,
          59,
          53,
          113,
          32,
          0,
          4,
          6,
          2,
          28,
          79,
          44,
          43,
          9,
          5,
          26,
          14,
          128,
          37,
          97,
          62,
          78,
          119,
          113,
          91,
          0,
          3,
          28,
          21,
          71,
          60,
          145,
          74,
          5,
          73,
          26,
          19,
          273,
          73,
          286,
          100,
          148,
          194,
          206,
          142,
          78,
          32,
          94,
          100,
          230,
          338,
          706,
          529,
          131,
          515,
          235,
          279,
          494,
          602,
          915,
          498,
          812,
          887,
          709,
          885,
          274,
          258,
          233,
          549,
          1.271,
          1.103,
          1.3659999999999999,
          1.1520000000000001,
          512,
          1.205,
          502,
          972,
          2.323,
          1.024,
          3.548,
          1.111,
          2.068,
          1.642,
          2.096,
          2.521,
          1.176,
          895,
          839,
          2.037,
          3.4810000000000003,
          2.023,
          1.889,
          2.239,
          1.382,
          8.408999999999999,
          713,
          1.766,
          6.353,
          2.138,
          10.395,
          2.0980000000000003,
          5.5920000000000005,
          5.428,
          3.7230000000000003,
          3.875,
          3.935,
          1.739,
          1.365,
          4.618,
          3.181,
          5.877999999999999,
          4.673,
          6.292000000000001,
          2.907,
          8.524,
          2.761,
          2.404,
          9.795,
          4.632,
          7.626,
          3.88,
          4.373,
          6.422999999999999,
          3.1660000000000004,
          14.825,
          5.1370000000000005,
          3.208,
          2.654,
          6.6610000000000005,
          5.182,
          6.085,
          3.6039999999999996,
          6.472,
          3.0239999999999996,
          4.772,
          3.498,
          1.861,
          3.228,
          2.404,
          5,
          2.918,
          5.812,
          6.746,
          5.351,
          6.011,
          2.237,
          1.494,
          2.267,
          3.525,
          5.83,
          4.928999999999999,
          6.398,
          4.769,
          2.004,
          2.2969999999999997,
          2.331,
          5,
          4.005,
          2.261,
          2.01,
          2.529,
          3.8689999999999998,
          4.35,
          3.9819999999999998,
          2.3,
          1.399,
          1.001,
          1.4609999999999999,
          1.296,
          2.165,
          2.424,
          3.255,
          1.66,
          1.052,
          800,
          1.101,
          1.768,
          1.8030000000000002,
          1.629,
          1.296,
          2.6919999999999997,
          2.4,
          3.7060000000000004,
          1.577,
          0,
          39,
          44,
          44,
          172,
          896,
          301,
          438,
          947,
          476,
          245,
          527,
          298,
          171,
          166,
          269,
          315,
          960,
          374,
          482,
          0,
          28,
          35,
          54,
          22,
          592,
          272,
          871,
          383,
          213,
          180,
          248,
          431,
          119,
          193,
          375,
          199,
          542,
          1.05,
          337,
          0,
          18,
          60,
          24,
          103,
          554,
          743,
          362,
          448,
          476,
          180,
          325,
          605,
          252,
          423,
          563,
          655,
          705,
          1.085,
          719,
          0,
          76,
          59,
          309,
          641,
          903,
          441,
          372,
          161,
          79,
          274,
          169,
          769,
          345,
          521,
          338,
          859,
          947,
          1.77,
          606,
          0,
          731,
          1.194,
          1.193,
          2.528,
          942,
          2.4130000000000003,
          1.641,
          269,
          359,
          119,
          516,
          1.3130000000000002,
          547,
          812,
          739,
          933,
          541,
          1.081,
          845,
          2.201,
          2.201,
          4.3580000000000005,
          6.665,
          7.877999999999999,
          4.313,
          9.812999999999999,
          2.294,
          856,
          1.339,
          403,
          979,
          1.025,
          974,
          1.651,
          1.213,
          1.795,
          1.402,
          1.4169999999999998,
          2.041,
          3.7119999999999997,
          3.926,
          1.338,
          1.555,
          5.6610000000000005,
          5.435,
          11.517000000000001,
          4.172,
          1.9409999999999998,
          1.79,
          1.117,
          1.6130000000000002,
          3.4419999999999997,
          1.061,
          2.008,
          1.63,
          2.255,
          1.5330000000000001,
          3.495,
          2.79,
          15.405999999999999,
          18.566,
          6.063,
          7.7620000000000005,
          14.085999999999999,
          11.132,
          13.603,
          11.57,
          6.218,
          14.453,
          2.875,
          2.25,
          14.607999999999999,
          2.628,
          6.195,
          3.568,
          7.167000000000001,
          5.112,
          6.228,
          6.229,
          10.363,
          11.729000000000001,
          6.251,
          8.49,
          11.034,
          15.79,
          24.994,
          20.551,
          12.661,
          25.963,
          7.965,
          3.1289999999999996,
          18.366,
          6.332000000000001,
          10.344000000000001,
          5.5760000000000005,
          7.081,
          11.068,
          8.98,
          23.945,
          2.707,
          6.109,
          6.062,
          6.542999999999999,
          9.375,
          5.341,
          9.295,
          7.765,
          2.327,
          4.89,
          6.3260000000000005,
          2.5789999999999997,
          4.465,
          2.01,
          2.8369999999999997,
          1.986,
          5.281000000000001,
          6.49,
          2.7489999999999997,
          4.8,
          182,
          842,
          502,
          373,
          2.905,
          2.097,
          2.405,
          1.368,
          1.031,
          299,
          190,
          588,
          768,
          1.103,
          375,
          1.064,
          1.018,
          1.93,
          918,
          813,
          76,
          47,
          98,
          37,
          1.157,
          1.6219999999999999,
          1.217,
          246,
          23,
          81,
          159,
          171,
          846,
          431,
          492,
          447,
          466,
          1.777,
          425,
          0,
          239,
          326,
          97,
          304,
          182,
          258,
          59,
          59,
          19,
          63,
          229,
          72,
          129,
          201,
          174,
          197,
          226,
          127,
          355,
          0,
          69,
          81,
          89,
          98,
          108,
          169,
          221,
          104,
          111,
          78,
          164,
          157,
          61,
          112,
          100,
          139,
          148,
          187,
          165,
          0,
          100,
          23,
          39,
          115,
          137,
          225,
          158,
          137,
          137,
          97,
          118,
          149,
          37,
          169,
          158,
          95,
          190,
          143,
          170,
          0,
          97,
          90,
          108,
          230,
          126,
          97,
          126,
          51,
          46,
          72,
          291,
          136,
          23,
          97,
          78,
          129,
          65,
          161,
          59,
          0,
          206,
          127,
          112,
          88,
          74,
          25,
          328,
          99,
          62,
          34,
          927,
          105,
          81,
          157,
          72,
          70,
          58,
          97,
          72,
          82,
          127,
          157,
          249,
          517,
          170,
          394,
          439,
          89,
          141,
          24,
          376,
          149,
          104,
          96,
          35,
          84,
          299,
          120,
          175,
          360,
          1.297,
          160,
          591,
          935,
          182,
          529,
          859,
          289,
          197,
          116,
          354,
          589,
          250,
          538,
          201,
          193,
          371,
          687,
          1.05,
          228,
          4.355,
          530,
          2.484,
          3.984,
          953,
          1.4080000000000001,
          4.484,
          1.129,
          1.8230000000000002,
          456,
          816,
          1.7209999999999999,
          552,
          2.951,
          677,
          312,
          1.2930000000000001,
          1.4809999999999999,
          1.4880000000000002,
          457,
          2.969,
          510,
          1.383,
          2.252,
          1.124,
          2.511,
          1.87,
          1.078,
          4.446000000000001,
          1.62,
          1.146,
          1.505,
          1.072,
          2.2640000000000002,
          1.074,
          365,
          1.482,
          2.383,
          2.984,
          576,
          2.053,
          657,
          563,
          2.173,
          541,
          960,
          647,
          244,
          668,
          432,
          854,
          597,
          276,
          652,
          378,
          581,
          507,
          1.2,
          685,
          306,
          1.194,
          274,
          220,
          1.47,
          380,
          208,
          159,
          83,
          82,
          50,
          439,
          259,
          445,
          115,
          423,
          190,
          276,
          258,
          133,
          100,
          306,
          139,
          143,
          376,
          153,
          110,
          46,
          18,
          15,
          208,
          87,
          276,
          577,
          194,
          195,
          84,
          394,
          123,
          0,
          36,
          24,
          18,
          29,
          37,
          22,
          28,
          109,
          91,
          85,
          74,
          118,
          61,
          75,
          75,
          133,
          147,
          61,
          106,
          0,
          112,
          20,
          39,
          62,
          126,
          29,
          79,
          96,
          71,
          59,
          74,
          155,
          111,
          123,
          143,
          157,
          84,
          207,
          61,
          0,
          13,
          24,
          13,
          62,
          81,
          81,
          107,
          69,
          155,
          61,
          106,
          109,
          67,
          152,
          110,
          77,
          80,
          123,
          105,
          0,
          27,
          49,
          60,
          99,
          215,
          48,
          89,
          50,
          35,
          113,
          26,
          112,
          66,
          180,
          61,
          161,
          109,
          172,
          69,
          0,
          51,
          67,
          83,
          98,
          75,
          79,
          134,
          62,
          124,
          50,
          128,
          179,
          151,
          144,
          150,
          224,
          114,
          186,
          125,
          70,
          132,
          135,
          166,
          207,
          245,
          209,
          246,
          73,
          184,
          48,
          173,
          139,
          304,
          219,
          144,
          376,
          200,
          263,
          360,
          232,
          318,
          345,
          266,
          741,
          407,
          625,
          467,
          336,
          446,
          194,
          477,
          707,
          801,
          669,
          462,
          559,
          288,
          1.004,
          610,
          875,
          1.19,
          769,
          858,
          2.041,
          1.955,
          1.642,
          1.0290000000000001,
          959,
          2.975,
          605,
          685,
          3.353,
          2.742,
          901,
          911,
          1.952,
          1.0590000000000002,
          1.433,
          2.142,
          1.9809999999999999,
          2.6860000000000004,
          1.08,
          1.597,
          3.1,
          7.091,
          4.3389999999999995,
          2.0469999999999997,
          2.78,
          5.088,
          2.552,
          1.31,
          5.059,
          5.978,
          3.219,
          1.656,
          3.4539999999999997,
          3.088,
          2.093,
          4.697,
          1.093,
          1.3630000000000002,
          1.954,
          528,
          4.788,
          5.391,
          2.736,
          6.546,
          616,
          3.467,
          3.787,
          1.013,
          2.048,
          1.206,
          3.97,
          1.2209999999999999,
          4.735,
          3.708,
          948,
          3.062,
          32,
          271,
          43,
          62,
          417,
          399,
          914,
          422,
          59,
          1.305,
          892,
          246,
          82,
          153,
          220,
          277,
          398,
          1.453,
          126,
          136,
          21,
          32,
          14,
          44,
          225,
          225,
          125,
          65,
          32,
          95,
          25,
          108,
          105,
          43,
          189,
          98,
          155,
          295,
          91,
          0,
          87,
          30,
          34,
          144,
          900,
          579,
          1.768,
          403,
          467,
          131,
          241,
          437,
          108,
          392,
          167,
          251,
          725,
          1.3219999999999998,
          219,
          0,
          285,
          29,
          16,
          120,
          34,
          20,
          85,
          49,
          23,
          54,
          15,
          102,
          13,
          63,
          30,
          37,
          108,
          430,
          14,
          0,
          7,
          181,
          0,
          14,
          27,
          22,
          21,
          10,
          6,
          4,
          4,
          110,
          21,
          30,
          19,
          34,
          61,
          81,
          42,
          0,
          6,
          40,
          0,
          11,
          14,
          23,
          14,
          2,
          0,
          7,
          8,
          22,
          10,
          11,
          20,
          27,
          27,
          66,
          45,
          0,
          4,
          12,
          7,
          18,
          3,
          44,
          37,
          0,
          9,
          0,
          7,
          57,
          16,
          59,
          42,
          70,
          95,
          154,
          114,
          58,
          37,
          59,
          42,
          149,
          64,
          340,
          304,
          78,
          129,
          48,
          38,
          94,
          105,
          183,
          173,
          319,
          265,
          502,
          679,
          638,
          982,
          426,
          708,
          772,
          1.571,
          4.436,
          4.364,
          615,
          476,
          971,
          397,
          1.432,
          632,
          661,
          447,
          825,
          906,
          1.579,
          4.985,
          6.815,
          6.178,
          5.484,
          9.043,
          15.664000000000001,
          6.255,
          12.812000000000001,
          13.055,
          7.575,
          14.352,
          4.435,
          3.859,
          18.13,
          2.195,
          6.9639999999999995,
          2.161,
          8.555,
          7.912999999999999,
          4.863,
          11.962,
          6.237,
          4.419,
          2.569,
          6.138999999999999,
          5.609,
          8.447000000000001,
          9.471,
          9.032,
          8.372,
          14.59,
          6.294,
          6.051,
          10.81,
          5.185,
          6.87,
          3.36,
          6.787000000000001,
          11.068,
          3.9530000000000003,
          25.004,
          3.665,
          5.026,
          4.313,
          5.096,
          5.189,
          3.803,
          4.726,
          5.083,
          5.9639999999999995,
          2.504,
          6.653,
          6.3420000000000005,
          3.843,
          3.141,
          3.714,
          4.921,
          6.4479999999999995,
          7.781000000000001,
          5.281000000000001,
          7.627999999999999,
          1.861,
          2.682,
          3.366,
          4.938,
          7.996,
          6.195,
          9.842,
          4.968,
          2.883,
          2.89,
          2.403,
          10.012,
          4.417,
          3.043,
          6.156000000000001,
          3.688,
          7.767,
          9.642999999999999,
          7.879,
          9.079,
          1.008,
          766,
          1.6980000000000002,
          2.5639999999999996,
          3.1180000000000003,
          4.787,
          5.507999999999999,
          1.495,
          1.4169999999999998,
          689,
          684,
          2.832,
          1.6119999999999999,
          3.218,
          1.8119999999999998,
          5.513999999999999,
          4.828,
          6.61,
          3.3,
          0,
          26,
          0,
          11,
          5,
          70,
          33,
          178,
          83,
          69,
          77,
          115,
          46,
          11,
          61,
          38,
          75,
          42,
          18,
          23,
          0,
          2,
          11,
          6,
          18,
          3,
          3,
          15,
          7,
          7,
          20,
          9,
          15,
          5,
          15,
          9,
          6,
          15,
          4,
          8,
          0,
          1,
          5,
          0,
          3,
          0,
          3,
          13,
          4,
          1,
          8,
          2,
          16,
          6,
          4,
          3,
          18,
          7,
          1,
          2,
          0,
          3,
          1,
          0,
          1,
          0,
          3,
          2,
          0,
          0,
          0,
          1,
          2,
          2,
          13,
          6,
          8,
          11,
          1,
          1,
          0,
          0,
          0,
          4,
          1,
          0,
          1,
          0,
          0,
          0,
          0,
          0,
          10,
          0,
          10,
          3,
          1,
          6,
          1,
          1,
          3,
          1,
          2,
          0,
          1,
          0,
          0,
          0,
          0,
          0,
          0,
          0,
          3,
          2,
          5,
          3,
          1,
          0,
          4,
          0,
          0,
          1,
          0,
          8,
          8,
          6,
          1,
          0,
          1,
          1,
          0,
          3,
          7,
          6,
          5,
          1,
          9,
          3,
          22,
          2,
          3,
          4,
          7,
          34,
          38,
          14,
          18,
          0,
          3,
          8,
          1,
          4,
          9,
          12,
          13,
          3,
          30,
          5,
          50,
          3,
          50,
          14,
          9,
          98,
          63,
          81,
          34,
          13,
          27,
          22,
          21,
          28,
          37,
          55,
          71,
          25,
          51,
          48,
          131,
          30,
          179,
          48,
          125,
          279,
          193,
          381,
          190,
          155,
          135,
          111,
          80,
          117,
          150,
          200,
          136,
          58,
          70,
          121,
          304,
          123,
          46,
          38,
          65,
          294,
          238,
          538,
          331,
          280,
          215,
          256,
          175,
          428,
          451,
          359,
          130,
          95,
          111,
          206,
          132,
          101,
          51,
          40,
          34,
          70,
          163,
          288,
          351,
          159,
          196,
          133,
          187,
          270,
          65,
          179,
          62,
          78,
          62,
          122,
          8,
          0,
          7,
          49,
          32,
          47,
          109,
          88,
          55,
          78,
          11,
          35,
          35,
          18,
          35,
          31,
          28,
          86,
          120,
          113,
          55,
          0,
          22,
          67,
          8,
          24,
          46,
          42,
          77,
          60,
          32,
          38,
          21,
          46,
          8,
          40,
          9,
          52,
          58,
          31,
          60,
          0,
          40,
          52,
          12,
          18,
          76,
          83,
          84,
          56,
          54,
          43,
          57,
          22,
          21,
          55,
          18,
          42,
          55,
          63,
          43,
          0,
          39,
          51,
          43,
          84,
          130,
          68,
          22,
          49,
          14,
          62,
          80,
          71,
          38,
          38,
          72,
          38,
          83,
          167,
          77,
          0,
          57,
          43,
          26,
          65,
          115,
          9,
          125,
          90,
          14,
          41,
          117,
          39,
          97,
          86,
          85,
          109,
          77,
          72,
          49,
          36,
          31,
          53,
          43,
          115,
          159,
          147,
          114,
          62,
          57,
          17,
          105,
          55,
          162,
          77,
          52,
          112,
          201,
          238,
          169,
          59,
          94,
          98,
          122,
          172,
          101,
          148,
          155,
          139,
          60,
          87,
          34,
          196,
          262,
          111,
          168,
          215,
          137,
          504,
          891,
          42,
          938,
          849,
          342,
          1.5930000000000002,
          1.896,
          1.237,
          800,
          844,
          580,
          205,
          844,
          733,
          435,
          522,
          481,
          646,
          651,
          1.01,
          987,
          61,
          878,
          381,
          258,
          1.071,
          2.4459999999999997,
          1.36,
          386,
          866,
          960,
          413,
          149,
          270,
          913,
          459,
          476,
          443,
          599,
          1.371,
          1.706,
          61,
          452,
          658,
          209,
          399,
          1.228,
          666,
          157,
          327,
          194,
          78,
          424,
          230,
          256,
          145,
          233,
          411,
          158,
          193,
          134,
          143,
          447,
          85,
          89,
          425,
          503,
          388,
          597,
          60,
          59,
          39,
          90,
          183,
          138,
          142,
          126,
          68,
          18,
          275,
          292,
          82,
          254,
          159,
          85,
          165,
          171,
          151,
          40,
          6,
          22,
          62,
          30,
          37,
          78,
          54,
          155,
          78,
          30,
          45,
          0,
          102,
          3,
          7,
          10,
          188,
          29,
          221,
          148,
          156,
          170,
          256,
          47,
          49,
          146,
          55,
          99,
          109,
          24,
          52,
          0,
          13,
          4,
          2,
          19,
          35,
          8,
          33,
          41,
          21,
          48,
          28,
          33,
          25,
          64,
          29,
          25,
          55,
          19,
          23,
          0,
          27,
          14,
          0,
          24,
          9,
          6,
          45,
          18,
          4,
          32,
          15,
          59,
          39,
          44,
          40,
          36,
          33,
          4,
          7,
          0,
          2,
          1,
          2,
          5,
          7,
          5,
          1,
          2,
          1,
          5,
          3,
          2,
          22,
          46,
          11,
          10,
          30,
          8,
          9,
          0,
          6,
          7,
          5,
          13,
          1,
          2,
          1,
          1,
          0,
          0,
          0,
          8,
          1,
          36,
          9,
          4,
          17,
          6,
          13,
          1,
          7,
          4,
          2,
          1,
          2,
          4,
          3,
          0,
          1,
          0,
          1,
          1,
          4,
          12,
          12,
          3,
          3,
          4,
          5,
          5,
          2,
          0,
          6,
          8,
          5,
          13,
          1,
          1,
          3,
          0,
          1,
          7,
          2,
          11,
          4,
          11,
          13,
          17,
          2,
          12,
          3,
          31,
          27,
          37,
          26,
          41,
          10,
          8,
          20,
          2,
          10,
          29,
          27,
          27,
          14,
          23,
          21,
          42,
          20,
          177,
          64,
          130,
          298,
          374,
          510,
          192,
          154,
          147,
          164,
          92,
          164,
          179,
          243,
          192,
          143,
          63,
          116,
          171,
          69,
          372,
          180,
          411,
          461,
          638,
          859,
          545,
          408,
          310,
          702,
          274,
          254,
          347,
          461,
          222,
          161,
          174,
          194,
          319,
          256,
          141,
          41,
          64,
          208,
          521,
          560,
          465,
          452,
          385,
          359,
          363,
          486,
          831,
          352,
          181,
          110,
          111,
          315,
          191,
          66,
          59,
          16,
          22,
          62,
          259,
          229,
          373,
          191,
          207,
          200,
          203,
          351,
          117,
          364,
          108,
          141,
          101,
          176,
          161,
          0,
          21,
          5,
          29,
          33,
          86,
          42,
          94,
          133,
          123,
          61,
          79,
          99,
          39,
          80,
          72,
          79,
          92,
          94,
          85,
          0,
          22,
          12,
          0,
          160,
          3,
          20,
          26,
          23,
          11,
          21,
          19,
          54,
          11,
          31,
          68,
          14,
          38,
          97,
          24,
          0,
          4,
          14,
          2,
          63,
          15,
          27,
          13,
          18,
          31,
          4,
          17,
          47,
          15,
          71,
          14,
          88,
          35,
          53,
          25,
          0,
          10,
          15,
          1,
          87,
          22,
          10,
          3,
          1,
          9,
          7,
          8,
          56,
          16,
          119,
          34,
          63,
          50,
          35,
          25,
          0,
          8,
          25,
          36,
          84,
          13,
          80,
          22,
          0,
          52,
          12,
          12,
          231,
          77,
          334,
          40,
          138,
          66,
          60,
          36,
          46,
          47,
          18,
          87,
          161,
          88,
          239,
          171,
          40,
          303,
          33,
          56,
          208,
          462,
          834,
          263,
          373,
          283,
          153,
          193,
          189,
          123,
          75,
          337,
          534,
          407,
          564,
          445,
          150,
          919,
          97,
          302,
          1.696,
          864,
          1.755,
          361,
          1.177,
          690,
          754,
          643,
          711,
          499,
          415,
          1.133,
          2.28,
          864,
          1.002,
          943,
          911,
          3.551,
          290,
          790,
          4.035,
          1.9580000000000002,
          3.614,
          1.015,
          2.265,
          2.057,
          1.6469999999999998,
          1.5719999999999998,
          1.9909999999999999,
          872,
          1.099,
          2.401,
          2.475,
          3.3989999999999996,
          2.662,
          3.136,
          1.618,
          4.078,
          1.472,
          1.709,
          5.392,
          4.402,
          4.479,
          2.311,
          2.536,
          5.827999999999999,
          1.3940000000000001,
          3.4219999999999997,
          2.5860000000000003,
          1.4380000000000002,
          2.5580000000000003,
          3.742,
          2.7569999999999997,
          2.332,
          2.144,
          3.263,
          1.443,
          2.331,
          1.83,
          913,
          3.863,
          1.484,
          2.506,
          1.2690000000000001,
          1.788,
          4.0680000000000005,
          2.5980000000000003,
          3.0039999999999996,
          424,
          334,
          450,
          1.484,
          1.1740000000000002,
          1.248,
          1.798,
          1.599,
          740,
          939,
          594,
          1.3359999999999999,
          1.4169999999999998,
          825,
          447,
          640,
          717,
          897,
          1.126,
          449,
          119,
          74,
          79,
          230,
          373,
          459,
          788,
          486,
          339,
          317,
          329,
          570,
          357,
          362,
          334,
          468,
          346,
          626,
          374,
          0,
          0,
          0,
          0,
          0,
          0,
          1,
          5,
          12,
          0,
          1,
          3,
          13,
          10,
          12,
          9,
          35,
          97,
          9,
          15,
          0,
          0,
          1,
          3,
          1,
          10,
          8,
          4,
          7,
          15,
          2,
          5,
          73,
          36,
          11,
          12,
          116,
          36,
          16,
          34,
          0,
          0,
          0,
          0,
          1,
          23,
          4,
          7,
          8,
          27,
          2,
          5,
          10,
          7,
          20,
          9,
          38,
          23,
          16,
          10,
          0,
          1,
          2,
          2,
          8,
          11,
          3,
          1,
          8,
          9,
          2,
          1,
          10,
          12,
          12,
          9,
          25,
          24,
          45,
          12,
          0,
          7,
          5,
          4,
          4,
          1,
          0,
          11,
          4,
          2,
          0,
          37,
          6,
          17,
          18,
          16,
          20,
          21,
          30,
          15,
          3,
          8,
          14,
          13,
          13,
          13,
          19,
          16,
          19,
          3,
          4,
          33,
          7,
          33,
          14,
          17,
          54,
          33,
          37,
          68,
          21,
          14,
          22,
          57,
          17,
          42,
          23,
          20,
          54,
          15,
          14,
          56,
          55,
          121,
          50,
          58,
          62,
          74,
          131,
          70,
          21,
          88,
          34,
          129,
          184,
          191,
          74,
          98,
          79,
          189,
          19,
          91,
          316,
          250,
          72,
          74,
          199,
          158,
          241,
          164,
          44,
          192,
          16,
          60,
          45,
          166,
          205,
          46,
          197,
          223,
          132,
          90,
          353,
          510,
          172,
          117,
          318,
          85,
          195,
          728,
          6,
          30,
          25,
          33,
          313,
          81,
          26,
          116,
          12,
          137,
          42,
          18,
          35,
          114,
          163,
          44,
          500,
          96,
          30,
          238,
          6,
          16,
          2,
          4,
          11,
          5,
          49,
          12,
          1,
          1,
          0,
          27,
          23,
          20,
          13,
          28,
          36,
          6,
          19,
          43,
          1,
          0,
          0,
          2,
          8,
          10,
          9,
          2,
          0,
          0,
          6,
          1,
          10,
          3,
          18,
          12,
          25,
          11,
          5,
          0,
          32,
          1,
          2,
          4,
          113,
          44,
          153,
          93,
          63,
          70,
          110,
          32,
          15,
          72,
          25,
          34,
          45,
          15,
          28,
          0,
          11,
          7,
          0,
          18,
          9,
          5,
          42,
          21,
          9,
          25,
          8,
          12,
          5,
          13,
          24,
          8,
          15,
          2,
          10,
          0,
          9,
          11,
          0,
          3,
          1,
          1,
          15,
          8,
          7,
          3,
          2,
          23,
          3,
          2,
          6,
          6,
          3,
          1,
          3,
          0,
          21,
          16,
          10,
          0,
          2,
          3,
          2,
          2,
          1,
          0,
          1,
          7,
          0,
          4,
          7,
          2,
          4,
          0,
          6,
          0,
          1,
          3,
          56,
          6,
          0,
          2,
          3,
          0,
          2,
          0,
          0,
          3,
          0,
          14,
          2,
          2,
          4,
          1,
          2,
          1,
          4,
          8,
          13,
          1,
          1,
          2,
          0,
          0,
          0,
          0,
          0,
          1,
          1,
          5,
          1,
          2,
          5,
          4,
          3,
          5,
          7,
          5,
          25,
          7,
          7,
          5,
          2,
          0,
          7,
          0,
          0,
          7,
          0,
          3,
          0,
          2,
          3,
          13,
          4,
          4,
          40,
          29,
          55,
          48,
          97,
          15,
          9,
          13,
          26,
          2,
          1,
          24,
          10,
          23,
          2,
          21,
          16,
          24,
          21,
          51,
          35,
          17,
          45,
          52,
          112,
          47,
          37,
          50,
          50,
          17,
          29,
          50,
          22,
          41,
          7,
          30,
          36,
          44,
          48,
          55,
          40,
          28,
          34,
          140,
          276,
          89,
          168,
          85,
          88,
          53,
          84,
          111,
          76,
          74,
          71,
          75,
          129,
          129,
          85,
          41,
          62,
          9,
          41,
          178,
          366,
          164,
          249,
          148,
          130,
          82,
          172,
          212,
          144,
          69,
          77,
          124,
          105,
          93,
          89,
          19,
          29,
          11,
          20,
          222,
          278,
          284,
          149,
          101,
          80,
          126,
          221,
          54,
          125,
          75,
          46,
          47,
          74,
          75,
          0,
          63,
          126,
          12,
          265,
          58,
          70,
          152,
          46,
          37,
          42,
          65,
          22,
          33,
          61,
          22,
          53,
          51,
          68,
          28,
          0,
          35,
          43,
          32,
          38,
          13,
          52,
          36,
          34,
          24,
          30,
          15,
          23,
          26,
          39,
          43,
          37,
          41,
          55,
          31,
          0,
          38,
          51,
          11,
          26,
          27,
          149,
          153,
          76,
          8,
          38,
          41,
          21,
          31,
          50,
          44,
          58,
          108,
          30,
          34,
          0,
          12,
          1,
          3,
          6,
          30,
          98,
          14,
          59,
          4,
          110,
          145,
          72,
          41,
          41,
          47,
          60,
          175,
          32,
          51,
          0,
          13,
          4,
          4,
          7,
          18,
          4,
          24,
          24,
          3,
          20,
          177,
          9,
          20,
          112,
          14,
          63,
          169,
          37,
          43,
          0,
          9,
          0,
          1,
          4,
          14,
          52,
          50,
          7,
          10,
          16,
          30,
          4,
          12,
          86,
          10,
          62,
          68,
          261,
          103,
          0,
          10,
          6,
          6,
          93,
          55,
          156,
          47,
          45,
          7,
          25,
          47,
          34,
          45,
          134,
          42,
          209,
          60,
          865,
          885,
          9,
          24,
          18,
          36,
          824,
          1.419,
          403,
          120,
          642,
          258,
          56,
          1.057,
          267,
          116,
          410,
          156,
          1.168,
          414,
          1.111,
          819,
          60,
          19,
          27,
          2,
          226,
          828,
          431,
          189,
          444,
          573,
          97,
          39,
          250,
          449,
          113,
          290,
          224,
          222,
          628,
          343,
          169,
          56,
          10,
          13,
          10,
          360,
          680,
          83,
          160,
          21,
          135,
          148,
          95,
          74,
          91,
          104,
          110,
          70,
          93,
          101,
          28,
          103,
          18,
          49,
          117,
          121,
          161,
          227,
          27,
          13,
          14,
          4,
          90,
          117,
          74,
          110,
          68,
          30,
          105,
          137,
          605,
          1.11,
          80,
          80,
          45,
          98,
          99,
          35,
          15,
          25,
          32,
          15,
          103,
          69,
          38,
          62,
          31,
          42,
          79,
          0,
          1,
          0,
          0,
          6,
          62,
          30,
          99,
          16,
          33,
          4,
          17,
          18,
          1,
          2,
          7,
          12,
          30,
          93,
          44,
          0,
          1,
          6,
          2,
          8,
          10,
          12,
          42,
          17,
          8,
          7,
          1,
          9,
          2,
          9,
          8,
          5,
          22,
          88,
          10,
          0,
          8,
          9,
          0,
          1,
          13,
          20,
          17,
          15,
          20,
          2,
          12,
          11,
          6,
          6,
          23,
          13,
          15,
          25,
          21,
          0,
          3,
          0,
          0,
          3,
          10,
          14,
          7,
          0,
          0,
          8,
          3,
          19,
          8,
          12,
          9,
          15,
          15,
          59,
          19,
          0,
          3,
          13,
          5,
          10,
          21,
          9,
          38,
          7,
          4,
          1,
          6,
          41,
          54,
          22,
          9,
          28,
          13,
          44,
          31,
          26,
          10,
          54,
          31,
          141,
          74,
          151,
          153,
          40,
          71,
          11,
          13,
          44,
          130,
          32,
          22,
          92,
          119,
          170,
          192,
          365,
          135,
          117,
          74,
          539,
          516,
          1.2329999999999999,
          798,
          314,
          187,
          138,
          110,
          747,
          293,
          205,
          117,
          192,
          423,
          969,
          1.28,
          2.254,
          1.976,
          2.197,
          2.1319999999999997,
          3.465,
          7.06,
          6.893,
          6.672000000000001,
          3.1239999999999997,
          4.7860000000000005,
          1.251,
          484,
          4.388,
          1.161,
          2.209,
          885,
          3.0380000000000003,
          3.762,
          3.675,
          4.287,
          3.753,
          3.062,
          2.438,
          1.9269999999999998,
          7.067,
          6.89,
          13.05,
          13.972000000000001,
          9.92,
          6.832000000000001,
          3.7260000000000004,
          1.869,
          4.893,
          1.7819999999999998,
          2.471,
          1.776,
          2.8,
          6.129,
          4.208,
          5.638,
          483,
          1.8840000000000001,
          644,
          796,
          3.554,
          4.962,
          3.094,
          2.559,
          1.148,
          2.023,
          1.482,
          1.444,
          1.307,
          822,
          1.229,
          555,
          1.063,
          2.5980000000000003,
          1.844,
          2.19,
          3,
          41,
          13,
          91,
          639,
          526,
          452,
          465,
          253,
          53,
          78,
          128,
          238,
          245,
          174,
          108,
          202,
          1.002,
          401,
          372,
          33,
          0,
          7,
          1,
          91,
          214,
          208,
          36,
          4,
          6,
          2,
          9,
          158,
          37,
          50,
          143,
          144,
          282,
          148,
          0,
          15,
          18,
          101,
          302,
          547,
          355,
          106,
          70,
          194,
          245,
          45,
          351,
          225,
          217,
          397,
          355,
          330,
          1.754,
          108,
          0,
          20,
          57,
          646,
          476,
          767,
          259,
          105,
          283,
          796,
          138,
          153,
          470,
          112,
          130,
          62,
          226,
          418,
          171,
          129,
          0,
          98,
          125,
          1.1079999999999999,
          820,
          1.131,
          276,
          244,
          385,
          665,
          422,
          176,
          417,
          91,
          99,
          179,
          494,
          163,
          1.081,
          216,
          0,
          16,
          0,
          380,
          41,
          268,
          182,
          22,
          201,
          58,
          175,
          115,
          15,
          108,
          25,
          87,
          162,
          278,
          126,
          51,
          0,
          0,
          7,
          9,
          0,
          0,
          2,
          1,
          0,
          0,
          8,
          219,
          3,
          4,
          18,
          4,
          58,
          12,
          22,
          29,
          0,
          3,
          0,
          1,
          0,
          0,
          6,
          5,
          0,
          1,
          0,
          16,
          0,
          6,
          22,
          6,
          4,
          3,
          7,
          4,
          1,
          4,
          0,
          1,
          7,
          0,
          2,
          2,
          0,
          3,
          0,
          18,
          1,
          9,
          2,
          4,
          9,
          5,
          0,
          3,
          0,
          1,
          9,
          4,
          7,
          2,
          18,
          9,
          4,
          2,
          4,
          29,
          3,
          39,
          4,
          3,
          12,
          11,
          11,
          35,
          2,
          3,
          12,
          1,
          48,
          6,
          9,
          72,
          40,
          9,
          17,
          117,
          18,
          53,
          67,
          18,
          67,
          77,
          19,
          43,
          1,
          10,
          25,
          13,
          191,
          14,
          53,
          88,
          135,
          15,
          78,
          197,
          64,
          65,
          152,
          63,
          61,
          181,
          101,
          156,
          1,
          15,
          32,
          76,
          133,
          27,
          135,
          135,
          26,
          112,
          39,
          312,
          27,
          121,
          187,
          106,
          143,
          280,
          71,
          327,
          16,
          35,
          77,
          76,
          199,
          157,
          160,
          71,
          101,
          8,
          5,
          290,
          73,
          249,
          78,
          65,
          277,
          304,
          136,
          0,
          11,
          14,
          11,
          22,
          45,
          37,
          46,
          41,
          9,
          25,
          21,
          2,
          9,
          14,
          18,
          58,
          28,
          53,
          46,
          0,
          2,
          8,
          0,
          5,
          43,
          29,
          46,
          18,
          14,
          29,
          7,
          15,
          1,
          13,
          12,
          27,
          23,
          10,
          31,
          0,
          7,
          46,
          1,
          12,
          58,
          73,
          92,
          48,
          23,
          14,
          33,
          9,
          8,
          65,
          14,
          15,
          37,
          21,
          12,
          0,
          0,
          7,
          1,
          7,
          120,
          59,
          25,
          30,
          2,
          31,
          57,
          19,
          5,
          40,
          46,
          34,
          32,
          36,
          26,
          0,
          1,
          0,
          2,
          3,
          84,
          2,
          21,
          33,
          2,
          15,
          33,
          1,
          16,
          60,
          52,
          42,
          70,
          26,
          36,
          2,
          0,
          2,
          1,
          0,
          68,
          127,
          58,
          32,
          11,
          2,
          14,
          1,
          26,
          42,
          31,
          3,
          104,
          79,
          70,
          0,
          2,
          21,
          5,
          82,
          43,
          94,
          90,
          74,
          12,
          46,
          26,
          31,
          31,
          42,
          69,
          82,
          45,
          480,
          591,
          0,
          51,
          69,
          24,
          702,
          1.5130000000000001,
          728,
          391,
          728,
          462,
          51,
          759,
          511,
          175,
          398,
          236,
          459,
          379,
          765,
          713,
          6,
          101,
          36,
          18,
          416,
          1.339,
          755,
          116,
          530,
          617,
          233,
          47,
          198,
          450,
          188,
          303,
          208,
          156,
          644,
          626,
          4,
          16,
          55,
          26,
          42,
          669,
          704,
          197,
          269,
          35,
          56,
          252,
          76,
          102,
          34,
          107,
          122,
          21,
          56,
          51,
          21,
          84,
          19,
          66,
          348,
          347,
          279,
          384,
          45,
          26,
          16,
          61,
          88,
          79,
          72,
          84,
          43,
          9,
          156,
          152,
          26,
          89,
          29,
          45,
          76,
          129,
          68,
          17,
          7,
          17,
          29,
          20,
          23,
          24,
          32,
          74,
          45,
          19,
          20,
          0,
          7,
          36,
          26,
          19,
          59,
          37,
          26,
          76,
          14,
          34,
          12,
          45,
          75,
          38,
          36,
          99,
          120,
          85,
          28,
          0,
          47,
          25,
          25,
          19,
          137,
          41,
          78,
          59,
          96,
          30,
          65,
          152,
          73,
          81,
          100,
          112,
          69,
          188,
          107,
          0,
          78,
          26,
          35,
          111,
          86,
          73,
          73,
          106,
          152,
          72,
          55,
          111,
          45,
          99,
          57,
          75,
          68,
          82,
          103,
          0,
          291,
          102,
          61,
          178,
          106,
          36,
          62,
          63,
          44,
          84,
          67,
          91,
          52,
          82,
          103,
          103,
          76,
          307,
          41,
          0,
          500,
          300,
          211,
          319,
          69,
          60,
          212,
          88,
          69,
          40,
          142,
          150,
          136,
          82,
          118,
          181,
          65,
          139,
          43,
          451,
          522,
          606,
          346,
          562,
          132,
          231,
          236,
          97,
          91,
          25,
          125,
          143,
          210,
          30,
          47,
          331,
          147,
          197,
          217,
          596,
          684,
          770,
          538,
          448,
          171,
          342,
          284,
          245,
          94,
          126,
          110,
          600,
          479,
          179,
          181,
          476,
          149,
          687,
          802,
          581,
          1.2109999999999999,
          915,
          595,
          719,
          934,
          794,
          522,
          572,
          470,
          153,
          289,
          1.8090000000000002,
          1.067,
          435,
          497,
          1.4580000000000002,
          643,
          797,
          981,
          525,
          911,
          582,
          425,
          302,
          977,
          809,
          231,
          694,
          495,
          486,
          116,
          1.6769999999999998,
          1.1079999999999999,
          813,
          560,
          882,
          368,
          490,
          2.8680000000000003,
          434,
          763,
          647,
          444,
          733,
          422,
          195,
          221,
          153,
          281,
          87,
          64,
          260,
          188,
          206,
          127,
          887,
          213,
          177,
          179,
          488,
          398,
          96,
          168,
          72,
          155,
          144,
          163,
          43,
          50,
          20,
          83,
          104,
          87,
          50,
          120,
          56,
          21,
          39,
          37,
          121,
          47,
          23,
          52,
          57,
          58,
          102,
          15,
          13,
          21,
          36,
          37,
          52,
          53,
          64,
          109,
          57,
          45,
          47,
          0,
          36,
          1,
          2,
          1,
          198,
          16,
          80,
          36,
          56,
          100,
          60,
          29,
          36,
          39,
          34,
          20,
          44,
          9,
          31,
          0,
          25,
          6,
          2,
          6,
          50,
          10,
          19,
          36,
          22,
          67,
          64,
          33,
          31,
          34,
          47,
          18,
          40,
          22,
          18,
          0,
          18,
          6,
          1,
          7,
          62,
          36,
          28,
          41,
          2,
          43,
          29,
          44,
          47,
          71,
          67,
          33,
          49,
          26,
          16,
          0,
          6,
          1,
          0,
          12,
          48,
          13,
          8,
          9,
          1,
          2,
          19,
          1,
          12,
          40,
          15,
          7,
          35,
          14,
          8,
          0,
          0,
          0,
          3,
          0,
          2,
          5,
          0,
          0,
          0,
          0,
          0,
          0,
          0,
          17,
          1,
          1,
          11,
          9,
          1,
          0,
          0,
          0,
          0,
          0,
          0,
          0,
          0,
          0,
          0,
          0,
          2,
          0,
          1,
          3,
          1,
          0,
          3,
          1,
          0,
          0,
          0,
          0,
          0,
          0,
          0,
          0,
          0,
          0,
          0,
          0,
          0,
          0,
          0,
          1,
          0,
          0,
          0,
          0,
          0,
          0,
          0,
          0,
          0,
          2,
          0,
          0,
          0,
          0,
          0,
          0,
          0,
          0,
          1,
          0,
          0,
          0,
          0,
          6,
          0,
          0,
          0,
          0,
          1,
          0,
          3,
          0,
          2,
          0,
          0,
          0,
          1,
          0,
          0,
          1,
          1,
          4,
          1,
          2,
          0,
          0,
          0,
          3,
          5,
          20,
          2,
          3,
          11,
          3,
          3,
          0,
          1,
          1,
          5,
          1,
          3,
          3,
          6,
          10,
          0,
          12,
          3,
          0,
          5,
          57,
          2,
          41,
          23,
          5,
          7,
          17,
          9,
          16,
          4,
          6,
          7,
          9,
          47,
          17,
          1,
          8,
          5,
          0,
          5,
          103,
          36,
          66,
          29,
          17,
          33,
          14,
          21,
          19,
          36,
          18,
          9,
          9,
          63,
          36,
          0,
          36,
          15,
          19,
          35,
          35,
          40,
          66,
          91,
          34,
          28,
          43,
          79,
          14,
          12,
          50,
          89,
          186,
          42,
          61,
          0,
          1,
          6,
          6,
          48,
          15,
          7,
          27,
          14,
          8,
          6,
          21,
          32,
          13,
          45,
          37,
          73,
          65,
          383,
          25,
          0,
          1,
          4,
          0,
          33,
          19,
          23,
          13,
          11,
          99,
          4,
          23,
          120,
          16,
          80,
          60,
          58,
          85,
          165,
          98,
          0,
          9,
          0,
          19,
          37,
          64,
          52,
          52,
          4,
          22,
          46,
          5,
          419,
          106,
          226,
          130,
          187,
          88,
          369,
          164,
          0,
          24,
          69,
          48,
          138,
          96,
          350,
          236,
          35,
          250,
          81,
          91,
          580,
          354,
          467,
          373,
          618,
          512,
          778,
          576,
          252,
          113,
          278,
          305,
          396,
          329,
          1.079,
          669,
          289,
          591,
          282,
          421,
          767,
          717,
          922,
          873,
          1.3719999999999999,
          1.15,
          1.148,
          1.32,
          640,
          373,
          500,
          830,
          976,
          762,
          1.389,
          1.082,
          430,
          982,
          441,
          989,
          2.408,
          1.001,
          1.693,
          1.393,
          1.4040000000000001,
          1.217,
          2.737,
          2.397,
          3.747,
          1.284,
          1.949,
          2.242,
          3.0269999999999997,
          1.339,
          1.776,
          1.84,
          1.2770000000000001,
          4.747,
          845,
          1.124,
          7.865,
          1.6680000000000001,
          4.28,
          1.81,
          2.917,
          2.54,
          3.213,
          3.536,
          5.149,
          3.415,
          2.552,
          4.8389999999999995,
          5.314,
          4.637,
          5.308,
          5.319,
          2.9789999999999996,
          6.829,
          2.39,
          2.017,
          10.172,
          4.658,
          7.46,
          2.445,
          3.52,
          5.51,
          3.245,
          10.737,
          1.7380000000000002,
          1.3780000000000001,
          1.053,
          684,
          1.537,
          1.339,
          1.6580000000000001,
          2.9130000000000003,
          1.176,
          2.252,
          2.832,
          718,
          2.272,
          1.591,
          3.68,
          2.155,
          4,
          4.843999999999999,
          2.032,
          2.969,
          1,
          29,
          96,
          100,
          207,
          146,
          424,
          271,
          108,
          147,
          104,
          251,
          283,
          144,
          179,
          345,
          451,
          833,
          623,
          434,
          9,
          16,
          20,
          21,
          39,
          109,
          96,
          53,
          15,
          13,
          7,
          46,
          72,
          105,
          128,
          85,
          223,
          373,
          119
         ],
         "xaxis": "x",
         "yaxis": "y"
        }
       ],
       "layout": {
        "barmode": "relative",
        "height": 600,
        "legend": {
         "tracegroupgap": 0
        },
        "margin": {
         "t": 60
        },
        "template": {
         "data": {
          "bar": [
           {
            "error_x": {
             "color": "#2a3f5f"
            },
            "error_y": {
             "color": "#2a3f5f"
            },
            "marker": {
             "line": {
              "color": "#E5ECF6",
              "width": 0.5
             }
            },
            "type": "bar"
           }
          ],
          "barpolar": [
           {
            "marker": {
             "line": {
              "color": "#E5ECF6",
              "width": 0.5
             }
            },
            "type": "barpolar"
           }
          ],
          "carpet": [
           {
            "aaxis": {
             "endlinecolor": "#2a3f5f",
             "gridcolor": "white",
             "linecolor": "white",
             "minorgridcolor": "white",
             "startlinecolor": "#2a3f5f"
            },
            "baxis": {
             "endlinecolor": "#2a3f5f",
             "gridcolor": "white",
             "linecolor": "white",
             "minorgridcolor": "white",
             "startlinecolor": "#2a3f5f"
            },
            "type": "carpet"
           }
          ],
          "choropleth": [
           {
            "colorbar": {
             "outlinewidth": 0,
             "ticks": ""
            },
            "type": "choropleth"
           }
          ],
          "contour": [
           {
            "colorbar": {
             "outlinewidth": 0,
             "ticks": ""
            },
            "colorscale": [
             [
              0,
              "#0d0887"
             ],
             [
              0.1111111111111111,
              "#46039f"
             ],
             [
              0.2222222222222222,
              "#7201a8"
             ],
             [
              0.3333333333333333,
              "#9c179e"
             ],
             [
              0.4444444444444444,
              "#bd3786"
             ],
             [
              0.5555555555555556,
              "#d8576b"
             ],
             [
              0.6666666666666666,
              "#ed7953"
             ],
             [
              0.7777777777777778,
              "#fb9f3a"
             ],
             [
              0.8888888888888888,
              "#fdca26"
             ],
             [
              1,
              "#f0f921"
             ]
            ],
            "type": "contour"
           }
          ],
          "contourcarpet": [
           {
            "colorbar": {
             "outlinewidth": 0,
             "ticks": ""
            },
            "type": "contourcarpet"
           }
          ],
          "heatmap": [
           {
            "colorbar": {
             "outlinewidth": 0,
             "ticks": ""
            },
            "colorscale": [
             [
              0,
              "#0d0887"
             ],
             [
              0.1111111111111111,
              "#46039f"
             ],
             [
              0.2222222222222222,
              "#7201a8"
             ],
             [
              0.3333333333333333,
              "#9c179e"
             ],
             [
              0.4444444444444444,
              "#bd3786"
             ],
             [
              0.5555555555555556,
              "#d8576b"
             ],
             [
              0.6666666666666666,
              "#ed7953"
             ],
             [
              0.7777777777777778,
              "#fb9f3a"
             ],
             [
              0.8888888888888888,
              "#fdca26"
             ],
             [
              1,
              "#f0f921"
             ]
            ],
            "type": "heatmap"
           }
          ],
          "heatmapgl": [
           {
            "colorbar": {
             "outlinewidth": 0,
             "ticks": ""
            },
            "colorscale": [
             [
              0,
              "#0d0887"
             ],
             [
              0.1111111111111111,
              "#46039f"
             ],
             [
              0.2222222222222222,
              "#7201a8"
             ],
             [
              0.3333333333333333,
              "#9c179e"
             ],
             [
              0.4444444444444444,
              "#bd3786"
             ],
             [
              0.5555555555555556,
              "#d8576b"
             ],
             [
              0.6666666666666666,
              "#ed7953"
             ],
             [
              0.7777777777777778,
              "#fb9f3a"
             ],
             [
              0.8888888888888888,
              "#fdca26"
             ],
             [
              1,
              "#f0f921"
             ]
            ],
            "type": "heatmapgl"
           }
          ],
          "histogram": [
           {
            "marker": {
             "colorbar": {
              "outlinewidth": 0,
              "ticks": ""
             }
            },
            "type": "histogram"
           }
          ],
          "histogram2d": [
           {
            "colorbar": {
             "outlinewidth": 0,
             "ticks": ""
            },
            "colorscale": [
             [
              0,
              "#0d0887"
             ],
             [
              0.1111111111111111,
              "#46039f"
             ],
             [
              0.2222222222222222,
              "#7201a8"
             ],
             [
              0.3333333333333333,
              "#9c179e"
             ],
             [
              0.4444444444444444,
              "#bd3786"
             ],
             [
              0.5555555555555556,
              "#d8576b"
             ],
             [
              0.6666666666666666,
              "#ed7953"
             ],
             [
              0.7777777777777778,
              "#fb9f3a"
             ],
             [
              0.8888888888888888,
              "#fdca26"
             ],
             [
              1,
              "#f0f921"
             ]
            ],
            "type": "histogram2d"
           }
          ],
          "histogram2dcontour": [
           {
            "colorbar": {
             "outlinewidth": 0,
             "ticks": ""
            },
            "colorscale": [
             [
              0,
              "#0d0887"
             ],
             [
              0.1111111111111111,
              "#46039f"
             ],
             [
              0.2222222222222222,
              "#7201a8"
             ],
             [
              0.3333333333333333,
              "#9c179e"
             ],
             [
              0.4444444444444444,
              "#bd3786"
             ],
             [
              0.5555555555555556,
              "#d8576b"
             ],
             [
              0.6666666666666666,
              "#ed7953"
             ],
             [
              0.7777777777777778,
              "#fb9f3a"
             ],
             [
              0.8888888888888888,
              "#fdca26"
             ],
             [
              1,
              "#f0f921"
             ]
            ],
            "type": "histogram2dcontour"
           }
          ],
          "mesh3d": [
           {
            "colorbar": {
             "outlinewidth": 0,
             "ticks": ""
            },
            "type": "mesh3d"
           }
          ],
          "parcoords": [
           {
            "line": {
             "colorbar": {
              "outlinewidth": 0,
              "ticks": ""
             }
            },
            "type": "parcoords"
           }
          ],
          "scatter": [
           {
            "marker": {
             "colorbar": {
              "outlinewidth": 0,
              "ticks": ""
             }
            },
            "type": "scatter"
           }
          ],
          "scatter3d": [
           {
            "line": {
             "colorbar": {
              "outlinewidth": 0,
              "ticks": ""
             }
            },
            "marker": {
             "colorbar": {
              "outlinewidth": 0,
              "ticks": ""
             }
            },
            "type": "scatter3d"
           }
          ],
          "scattercarpet": [
           {
            "marker": {
             "colorbar": {
              "outlinewidth": 0,
              "ticks": ""
             }
            },
            "type": "scattercarpet"
           }
          ],
          "scattergeo": [
           {
            "marker": {
             "colorbar": {
              "outlinewidth": 0,
              "ticks": ""
             }
            },
            "type": "scattergeo"
           }
          ],
          "scattergl": [
           {
            "marker": {
             "colorbar": {
              "outlinewidth": 0,
              "ticks": ""
             }
            },
            "type": "scattergl"
           }
          ],
          "scattermapbox": [
           {
            "marker": {
             "colorbar": {
              "outlinewidth": 0,
              "ticks": ""
             }
            },
            "type": "scattermapbox"
           }
          ],
          "scatterpolar": [
           {
            "marker": {
             "colorbar": {
              "outlinewidth": 0,
              "ticks": ""
             }
            },
            "type": "scatterpolar"
           }
          ],
          "scatterpolargl": [
           {
            "marker": {
             "colorbar": {
              "outlinewidth": 0,
              "ticks": ""
             }
            },
            "type": "scatterpolargl"
           }
          ],
          "scatterternary": [
           {
            "marker": {
             "colorbar": {
              "outlinewidth": 0,
              "ticks": ""
             }
            },
            "type": "scatterternary"
           }
          ],
          "surface": [
           {
            "colorbar": {
             "outlinewidth": 0,
             "ticks": ""
            },
            "colorscale": [
             [
              0,
              "#0d0887"
             ],
             [
              0.1111111111111111,
              "#46039f"
             ],
             [
              0.2222222222222222,
              "#7201a8"
             ],
             [
              0.3333333333333333,
              "#9c179e"
             ],
             [
              0.4444444444444444,
              "#bd3786"
             ],
             [
              0.5555555555555556,
              "#d8576b"
             ],
             [
              0.6666666666666666,
              "#ed7953"
             ],
             [
              0.7777777777777778,
              "#fb9f3a"
             ],
             [
              0.8888888888888888,
              "#fdca26"
             ],
             [
              1,
              "#f0f921"
             ]
            ],
            "type": "surface"
           }
          ],
          "table": [
           {
            "cells": {
             "fill": {
              "color": "#EBF0F8"
             },
             "line": {
              "color": "white"
             }
            },
            "header": {
             "fill": {
              "color": "#C8D4E3"
             },
             "line": {
              "color": "white"
             }
            },
            "type": "table"
           }
          ]
         },
         "layout": {
          "annotationdefaults": {
           "arrowcolor": "#2a3f5f",
           "arrowhead": 0,
           "arrowwidth": 1
          },
          "colorscale": {
           "diverging": [
            [
             0,
             "#8e0152"
            ],
            [
             0.1,
             "#c51b7d"
            ],
            [
             0.2,
             "#de77ae"
            ],
            [
             0.3,
             "#f1b6da"
            ],
            [
             0.4,
             "#fde0ef"
            ],
            [
             0.5,
             "#f7f7f7"
            ],
            [
             0.6,
             "#e6f5d0"
            ],
            [
             0.7,
             "#b8e186"
            ],
            [
             0.8,
             "#7fbc41"
            ],
            [
             0.9,
             "#4d9221"
            ],
            [
             1,
             "#276419"
            ]
           ],
           "sequential": [
            [
             0,
             "#0d0887"
            ],
            [
             0.1111111111111111,
             "#46039f"
            ],
            [
             0.2222222222222222,
             "#7201a8"
            ],
            [
             0.3333333333333333,
             "#9c179e"
            ],
            [
             0.4444444444444444,
             "#bd3786"
            ],
            [
             0.5555555555555556,
             "#d8576b"
            ],
            [
             0.6666666666666666,
             "#ed7953"
            ],
            [
             0.7777777777777778,
             "#fb9f3a"
            ],
            [
             0.8888888888888888,
             "#fdca26"
            ],
            [
             1,
             "#f0f921"
            ]
           ],
           "sequentialminus": [
            [
             0,
             "#0d0887"
            ],
            [
             0.1111111111111111,
             "#46039f"
            ],
            [
             0.2222222222222222,
             "#7201a8"
            ],
            [
             0.3333333333333333,
             "#9c179e"
            ],
            [
             0.4444444444444444,
             "#bd3786"
            ],
            [
             0.5555555555555556,
             "#d8576b"
            ],
            [
             0.6666666666666666,
             "#ed7953"
            ],
            [
             0.7777777777777778,
             "#fb9f3a"
            ],
            [
             0.8888888888888888,
             "#fdca26"
            ],
            [
             1,
             "#f0f921"
            ]
           ]
          },
          "colorway": [
           "#636efa",
           "#EF553B",
           "#00cc96",
           "#ab63fa",
           "#FFA15A",
           "#19d3f3",
           "#FF6692",
           "#B6E880",
           "#FF97FF",
           "#FECB52"
          ],
          "font": {
           "color": "#2a3f5f"
          },
          "geo": {
           "bgcolor": "white",
           "lakecolor": "white",
           "landcolor": "#E5ECF6",
           "showlakes": true,
           "showland": true,
           "subunitcolor": "white"
          },
          "hoverlabel": {
           "align": "left"
          },
          "hovermode": "closest",
          "mapbox": {
           "style": "light"
          },
          "paper_bgcolor": "white",
          "plot_bgcolor": "#E5ECF6",
          "polar": {
           "angularaxis": {
            "gridcolor": "white",
            "linecolor": "white",
            "ticks": ""
           },
           "bgcolor": "#E5ECF6",
           "radialaxis": {
            "gridcolor": "white",
            "linecolor": "white",
            "ticks": ""
           }
          },
          "scene": {
           "xaxis": {
            "backgroundcolor": "#E5ECF6",
            "gridcolor": "white",
            "gridwidth": 2,
            "linecolor": "white",
            "showbackground": true,
            "ticks": "",
            "zerolinecolor": "white"
           },
           "yaxis": {
            "backgroundcolor": "#E5ECF6",
            "gridcolor": "white",
            "gridwidth": 2,
            "linecolor": "white",
            "showbackground": true,
            "ticks": "",
            "zerolinecolor": "white"
           },
           "zaxis": {
            "backgroundcolor": "#E5ECF6",
            "gridcolor": "white",
            "gridwidth": 2,
            "linecolor": "white",
            "showbackground": true,
            "ticks": "",
            "zerolinecolor": "white"
           }
          },
          "shapedefaults": {
           "line": {
            "color": "#2a3f5f"
           }
          },
          "ternary": {
           "aaxis": {
            "gridcolor": "white",
            "linecolor": "white",
            "ticks": ""
           },
           "baxis": {
            "gridcolor": "white",
            "linecolor": "white",
            "ticks": ""
           },
           "bgcolor": "#E5ECF6",
           "caxis": {
            "gridcolor": "white",
            "linecolor": "white",
            "ticks": ""
           }
          },
          "title": {
           "x": 0.05
          },
          "xaxis": {
           "automargin": true,
           "gridcolor": "white",
           "linecolor": "white",
           "ticks": "",
           "zerolinecolor": "white",
           "zerolinewidth": 2
          },
          "yaxis": {
           "automargin": true,
           "gridcolor": "white",
           "linecolor": "white",
           "ticks": "",
           "zerolinecolor": "white",
           "zerolinewidth": 2
          }
         }
        },
        "xaxis": {
         "anchor": "y",
         "domain": [
          0,
          0.98
         ],
         "title": {
          "text": "number"
         }
        },
        "yaxis": {
         "anchor": "x",
         "domain": [
          0,
          1
         ],
         "title": {
          "text": "count"
         }
        }
       }
      },
      "text/html": [
       "<div>\n",
       "        \n",
       "        \n",
       "            <div id=\"3da24d9d-c712-4748-889b-fa53a52a8362\" class=\"plotly-graph-div\" style=\"height:600px; width:100%;\"></div>\n",
       "            <script type=\"text/javascript\">\n",
       "                require([\"plotly\"], function(Plotly) {\n",
       "                    window.PLOTLYENV=window.PLOTLYENV || {};\n",
       "                    \n",
       "                if (document.getElementById(\"3da24d9d-c712-4748-889b-fa53a52a8362\")) {\n",
       "                    Plotly.newPlot(\n",
       "                        '3da24d9d-c712-4748-889b-fa53a52a8362',\n",
       "                        [{\"alignmentgroup\": \"True\", \"bingroup\": \"x\", \"hoverlabel\": {\"namelength\": 0}, \"hovertemplate\": \"number=%{x}<br>count=%{y}\", \"legendgroup\": \"\", \"marker\": {\"color\": \"#636efa\"}, \"name\": \"\", \"offsetgroup\": \"\", \"orientation\": \"v\", \"showlegend\": false, \"type\": \"histogram\", \"x\": [0.0, 0.0, 0.0, 0.0, 0.0, 10.0, 0.0, 12.0, 4.0, 0.0, 0.0, 0.0, 1.0, 0.0, 0.0, 0.0, 0.0, 1.0, 12.0, 0.0, 0.0, 0.0, 0.0, 0.0, 1.0, 0.0, 3.0, 0.0, 0.0, 5.0, 0.0, 2.0, 0.0, 0.0, 0.0, 0.0, 0.0, 2.0, 5.0, 1.0, 0.0, 0.0, 11.0, 0.0, 0.0, 0.0, 0.0, 3.0, 0.0, 2.0, 0.0, 1.0, 0.0, 0.0, 1.0, 2.0, 1.0, 2.0, 0.0, 0.0, 0.0, 0.0, 1.0, 0.0, 0.0, 1.0, 2.0, 1.0, 0.0, 0.0, 0.0, 0.0, 3.0, 2.0, 1.0, 19.0, 7.0, 3.0, 0.0, 1.0, 0.0, 0.0, 1.0, 0.0, 0.0, 6.0, 7.0, 2.0, 8.0, 1.0, 0.0, 3.0, 9.0, 3.0, 3.0, 4.0, 1.0, 2.0, 21.0, 10.0, 3.0, 0.0, 1.0, 1.0, 0.0, 0.0, 5.0, 27.0, 1.0, 4.0, 0.0, 0.0, 1.0, 10.0, 7.0, 8.0, 17.0, 40.0, 87.0, 45.0, 37.0, 1.0, 1.0, 3.0, 39.0, 168.0, 42.0, 368.0, 33.0, 29.0, 41.0, 31.0, 126.0, 93.0, 71.0, 54.0, 60.0, 109.0, 533.0, 457.0, 130.0, 63.0, 136.0, 396.0, 728.0, 1.976, 645.0, 4.198, 839.0, 960.0, 445.0, 194.0, 1.682, 425.0, 739.0, 679.0, 1.1, 1.3969999999999998, 2.188, 1.493, 509.0, 209.0, 265.0, 290.0, 1.949, 3.9419999999999997, 1.9780000000000002, 4.253, 2.37, 2.08, 1.666, 1.265, 2.531, 1.204, 1.996, 2.136, 2.175, 2.928, 3.5860000000000003, 3.429, 44.0, 60.0, 18.0, 137.0, 687.0, 740.0, 461.0, 547.0, 316.0, 203.0, 652.0, 565.0, 292.0, 97.0, 348.0, 258.0, 406.0, 905.0, 509.0, 1.508, 0.0, 0.0, 0.0, 1.0, 86.0, 15.0, 10.0, 14.0, 18.0, 7.0, 4.0, 33.0, 39.0, 74.0, 13.0, 79.0, 56.0, 115.0, 46.0, 98.0, 7.0, 0.0, 0.0, 0.0, 1.0, 1.0, 7.0, 2.0, 0.0, 0.0, 0.0, 1.0, 0.0, 4.0, 1.0, 3.0, 6.0, 8.0, 6.0, 0.0, 58.0, 11.0, 5.0, 12.0, 150.0, 9.0, 83.0, 29.0, 33.0, 55.0, 104.0, 23.0, 41.0, 36.0, 49.0, 54.0, 81.0, 24.0, 38.0, 38.0, 0.0, 20.0, 16.0, 4.0, 15.0, 33.0, 7.0, 31.0, 14.0, 28.0, 74.0, 32.0, 26.0, 33.0, 41.0, 19.0, 29.0, 46.0, 14.0, 21.0, 0.0, 52.0, 32.0, 0.0, 27.0, 15.0, 16.0, 35.0, 37.0, 7.0, 31.0, 31.0, 70.0, 34.0, 44.0, 31.0, 28.0, 32.0, 9.0, 23.0, 0.0, 4.0, 20.0, 0.0, 6.0, 20.0, 6.0, 1.0, 2.0, 1.0, 18.0, 5.0, 3.0, 17.0, 18.0, 25.0, 16.0, 63.0, 13.0, 7.0, 0.0, 1.0, 1.0, 2.0, 1.0, 1.0, 3.0, 0.0, 0.0, 0.0, 0.0, 0.0, 0.0, 0.0, 21.0, 2.0, 1.0, 18.0, 4.0, 1.0, 0.0, 0.0, 0.0, 2.0, 0.0, 0.0, 0.0, 0.0, 0.0, 0.0, 0.0, 0.0, 0.0, 2.0, 4.0, 1.0, 2.0, 2.0, 5.0, 2.0, 0.0, 0.0, 0.0, 0.0, 5.0, 0.0, 0.0, 0.0, 0.0, 0.0, 0.0, 0.0, 2.0, 0.0, 0.0, 0.0, 1.0, 0.0, 3.0, 0.0, 1.0, 3.0, 4.0, 1.0, 3.0, 2.0, 2.0, 2.0, 1.0, 3.0, 1.0, 0.0, 1.0, 4.0, 0.0, 0.0, 3.0, 3.0, 5.0, 1.0, 14.0, 3.0, 22.0, 5.0, 14.0, 8.0, 5.0, 7.0, 4.0, 2.0, 9.0, 13.0, 5.0, 5.0, 6.0, 4.0, 11.0, 7.0, 18.0, 4.0, 20.0, 4.0, 13.0, 15.0, 30.0, 10.0, 12.0, 17.0, 32.0, 6.0, 18.0, 30.0, 16.0, 23.0, 28.0, 25.0, 7.0, 40.0, 74.0, 14.0, 19.0, 15.0, 2.0, 22.0, 50.0, 17.0, 28.0, 25.0, 12.0, 15.0, 37.0, 55.0, 31.0, 23.0, 95.0, 10.0, 14.0, 162.0, 76.0, 10.0, 32.0, 12.0, 2.0, 30.0, 95.0, 43.0, 71.0, 16.0, 30.0, 33.0, 34.0, 55.0, 45.0, 50.0, 59.0, 42.0, 24.0, 136.0, 155.0, 0.0, 0.0, 2.0, 0.0, 7.0, 31.0, 38.0, 109.0, 6.0, 0.0, 2.0, 4.0, 2.0, 0.0, 30.0, 3.0, 10.0, 14.0, 19.0, 2.0, 0.0, 1.0, 0.0, 0.0, 2.0, 0.0, 2.0, 1.0, 2.0, 0.0, 0.0, 0.0, 0.0, 3.0, 5.0, 0.0, 2.0, 1.0, 1.0, 0.0, 0.0, 2.0, 0.0, 0.0, 0.0, 1.0, 0.0, 0.0, 0.0, 0.0, 1.0, 1.0, 2.0, 0.0, 1.0, 0.0, 1.0, 2.0, 5.0, 0.0, 0.0, 0.0, 0.0, 0.0, 0.0, 2.0, 0.0, 0.0, 0.0, 0.0, 2.0, 0.0, 2.0, 0.0, 2.0, 2.0, 0.0, 0.0, 0.0, 3.0, 0.0, 0.0, 0.0, 0.0, 3.0, 0.0, 0.0, 0.0, 0.0, 0.0, 0.0, 2.0, 2.0, 2.0, 2.0, 0.0, 0.0, 0.0, 1.0, 1.0, 0.0, 2.0, 0.0, 0.0, 0.0, 0.0, 5.0, 2.0, 0.0, 0.0, 0.0, 1.0, 0.0, 0.0, 7.0, 1.0, 0.0, 3.0, 2.0, 2.0, 0.0, 0.0, 0.0, 1.0, 1.0, 0.0, 2.0, 0.0, 0.0, 0.0, 0.0, 4.0, 2.0, 5.0, 3.0, 1.0, 4.0, 5.0, 1.0, 3.0, 1.0, 0.0, 3.0, 12.0, 18.0, 14.0, 9.0, 4.0, 11.0, 5.0, 4.0, 20.0, 1.0, 16.0, 19.0, 9.0, 18.0, 40.0, 37.0, 33.0, 20.0, 4.0, 19.0, 95.0, 73.0, 88.0, 67.0, 97.0, 112.0, 61.0, 83.0, 188.0, 63.0, 128.0, 168.0, 85.0, 137.0, 192.0, 142.0, 95.0, 42.0, 25.0, 42.0, 194.0, 557.0, 355.0, 412.0, 335.0, 405.0, 162.0, 395.0, 765.0, 265.0, 304.0, 475.0, 385.0, 480.0, 827.0, 793.0, 468.0, 131.0, 26.0, 157.0, 406.0, 1.0959999999999999, 750.0, 949.0, 685.0, 207.0, 198.0, 266.0, 1.0190000000000001, 339.0, 282.0, 969.0, 341.0, 484.0, 1.3, 1.161, 858.0, 84.0, 41.0, 30.0, 593.0, 200.0, 411.0, 777.0, 38.0, 74.0, 14.0, 32.0, 123.0, 43.0, 360.0, 422.0, 148.0, 354.0, 269.0, 491.0, 0.0, 3.0, 7.0, 3.0, 17.0, 158.0, 123.0, 44.0, 20.0, 37.0, 16.0, 9.0, 82.0, 53.0, 6.0, 37.0, 46.0, 35.0, 770.0, 65.0, 0.0, 43.0, 62.0, 8.0, 2.0, 62.0, 92.0, 6.0, 10.0, 92.0, 32.0, 3.0, 81.0, 30.0, 25.0, 16.0, 49.0, 107.0, 275.0, 52.0, 0.0, 7.0, 69.0, 6.0, 5.0, 64.0, 6.0, 12.0, 20.0, 6.0, 10.0, 11.0, 116.0, 49.0, 17.0, 49.0, 50.0, 46.0, 140.0, 45.0, 0.0, 2.0, 18.0, 1.0, 2.0, 11.0, 4.0, 5.0, 5.0, 0.0, 13.0, 1.0, 11.0, 5.0, 3.0, 20.0, 25.0, 24.0, 22.0, 20.0, 0.0, 0.0, 51.0, 0.0, 8.0, 2.0, 0.0, 8.0, 4.0, 0.0, 1.0, 3.0, 13.0, 6.0, 12.0, 19.0, 12.0, 10.0, 30.0, 40.0, 2.0, 7.0, 6.0, 5.0, 5.0, 3.0, 12.0, 78.0, 9.0, 23.0, 7.0, 13.0, 9.0, 22.0, 45.0, 56.0, 74.0, 33.0, 90.0, 119.0, 71.0, 11.0, 39.0, 9.0, 146.0, 180.0, 177.0, 676.0, 123.0, 116.0, 108.0, 199.0, 640.0, 271.0, 234.0, 248.0, 202.0, 356.0, 1.137, 1.975, 321.0, 259.0, 180.0, 501.0, 741.0, 1.867, 1.207, 2.316, 1.422, 2.241, 861.0, 1.321, 3.727, 1.2429999999999999, 3.011, 1.276, 3.852, 4.564, 3.611, 6.316, 267.0, 216.0, 189.0, 166.0, 928.0, 1.401, 911.0, 2.812, 2.218, 1.36, 998.0, 3.091, 2.781, 1.295, 2.392, 1.739, 3.057, 5.882000000000001, 3.1189999999999998, 4.033, 83.0, 479.0, 145.0, 332.0, 695.0, 725.0, 710.0, 545.0, 721.0, 215.0, 632.0, 2.189, 889.0, 694.0, 1.238, 1.202, 952.0, 2.494, 2.105, 1.581, 6.0, 32.0, 27.0, 244.0, 259.0, 169.0, 209.0, 261.0, 59.0, 90.0, 39.0, 973.0, 354.0, 399.0, 682.0, 220.0, 676.0, 1.054, 591.0, 552.0, 196.0, 2.0, 60.0, 22.0, 44.0, 147.0, 53.0, 17.0, 23.0, 7.0, 0.0, 102.0, 123.0, 121.0, 80.0, 236.0, 293.0, 565.0, 133.0, 0.0, 114.0, 31.0, 24.0, 125.0, 439.0, 158.0, 303.0, 225.0, 373.0, 314.0, 177.0, 297.0, 101.0, 179.0, 125.0, 132.0, 256.0, 285.0, 154.0, 0.0, 157.0, 32.0, 101.0, 204.0, 223.0, 122.0, 143.0, 277.0, 113.0, 235.0, 117.0, 206.0, 156.0, 200.0, 231.0, 107.0, 143.0, 418.0, 100.0, 0.0, 83.0, 65.0, 4.0, 146.0, 274.0, 115.0, 158.0, 199.0, 141.0, 135.0, 249.0, 156.0, 90.0, 404.0, 363.0, 148.0, 229.0, 281.0, 163.0, 0.0, 55.0, 23.0, 26.0, 110.0, 376.0, 89.0, 76.0, 60.0, 64.0, 151.0, 40.0, 103.0, 149.0, 396.0, 108.0, 183.0, 190.0, 217.0, 94.0, 0.0, 76.0, 71.0, 85.0, 166.0, 106.0, 124.0, 120.0, 43.0, 161.0, 56.0, 34.0, 198.0, 189.0, 326.0, 141.0, 224.0, 144.0, 259.0, 121.0, 55.0, 64.0, 178.0, 98.0, 118.0, 140.0, 289.0, 211.0, 68.0, 270.0, 72.0, 92.0, 192.0, 345.0, 385.0, 208.0, 243.0, 242.0, 416.0, 329.0, 219.0, 107.0, 202.0, 248.0, 549.0, 261.0, 310.0, 269.0, 229.0, 811.0, 271.0, 321.0, 519.0, 578.0, 906.0, 362.0, 249.0, 306.0, 345.0, 300.0, 815.0, 453.0, 633.0, 979.0, 1.827, 1.0390000000000001, 1.43, 948.0, 995.0, 3.734, 611.0, 439.0, 2.423, 1.795, 1.835, 610.0, 674.0, 829.0, 724.0, 1.018, 2.718, 1.275, 2.285, 3.964, 6.439, 8.847000000000001, 6.433, 4.066, 3.0060000000000002, 7.438, 4.837, 3.61, 5.3229999999999995, 7.086, 7.495, 2.681, 2.6039999999999996, 7.956, 1.819, 1.791, 1.969, 1.307, 3.35, 1.6869999999999998, 5.414, 4.263999999999999, 4.81, 8.405, 2.079, 4.981, 7.691, 2.552, 5.263999999999999, 2.166, 4.607, 1.969, 2.763, 4.989, 1.415, 4.005, 49.0, 49.0, 114.0, 699.0, 1.02, 533.0, 1.736, 1.595, 239.0, 2.126, 3.175, 402.0, 605.0, 176.0, 168.0, 288.0, 348.0, 1.705, 408.0, 174.0, 82.0, 37.0, 24.0, 158.0, 848.0, 710.0, 423.0, 116.0, 169.0, 259.0, 52.0, 308.0, 226.0, 230.0, 477.0, 131.0, 144.0, 1.4080000000000001, 164.0, 0.0, 47.0, 1.0, 11.0, 33.0, 264.0, 143.0, 384.0, 211.0, 304.0, 166.0, 347.0, 288.0, 32.0, 273.0, 103.0, 115.0, 207.0, 100.0, 91.0, 0.0, 16.0, 6.0, 0.0, 75.0, 9.0, 5.0, 25.0, 23.0, 3.0, 12.0, 8.0, 63.0, 2.0, 41.0, 49.0, 18.0, 25.0, 13.0, 9.0, 0.0, 30.0, 9.0, 0.0, 17.0, 3.0, 1.0, 5.0, 3.0, 2.0, 2.0, 3.0, 40.0, 6.0, 10.0, 17.0, 6.0, 20.0, 4.0, 4.0, 0.0, 6.0, 15.0, 2.0, 5.0, 3.0, 2.0, 4.0, 1.0, 1.0, 0.0, 0.0, 7.0, 1.0, 2.0, 4.0, 4.0, 3.0, 10.0, 6.0, 0.0, 5.0, 7.0, 81.0, 10.0, 0.0, 3.0, 1.0, 0.0, 0.0, 0.0, 0.0, 2.0, 0.0, 19.0, 4.0, 4.0, 17.0, 8.0, 9.0, 1.0, 16.0, 16.0, 38.0, 13.0, 2.0, 1.0, 6.0, 0.0, 1.0, 1.0, 0.0, 3.0, 5.0, 28.0, 5.0, 19.0, 22.0, 45.0, 23.0, 76.0, 83.0, 18.0, 146.0, 12.0, 14.0, 16.0, 14.0, 1.0, 11.0, 3.0, 7.0, 44.0, 18.0, 50.0, 4.0, 47.0, 25.0, 124.0, 26.0, 93.0, 131.0, 79.0, 219.0, 111.0, 109.0, 61.0, 51.0, 50.0, 182.0, 32.0, 26.0, 202.0, 53.0, 278.0, 32.0, 155.0, 127.0, 293.0, 121.0, 590.0, 124.0, 127.0, 801.0, 172.0, 384.0, 144.0, 185.0, 237.0, 241.0, 177.0, 101.0, 357.0, 239.0, 609.0, 177.0, 155.0, 214.0, 370.0, 505.0, 1.014, 309.0, 875.0, 2.045, 1.6059999999999999, 1.761, 1.217, 1.3780000000000001, 581.0, 964.0, 816.0, 435.0, 502.0, 415.0, 1.104, 466.0, 517.0, 658.0, 1.31, 949.0, 575.0, 524.0, 669.0, 2.456, 2.715, 3.327, 2.9, 2.483, 1.012, 1.443, 1.7530000000000001, 1.653, 1.652, 1.561, 995.0, 1.081, 829.0, 1.081, 1.328, 812.0, 276.0, 397.0, 389.0, 545.0, 1.787, 2.436, 3.158, 1.36, 1.161, 1.177, 1.655, 1.9869999999999999, 578.0, 1.4409999999999998, 631.0, 956.0, 643.0, 1.021, 819.0, 0.0, 0.0, 0.0, 0.0, 0.0, 0.0, 0.0, 0.0, 0.0, 0.0, 0.0, 1.0, 2.0, 2.0, 0.0, 0.0, 0.0, 1.0, 1.0, 1.0, 0.0, 2.0, 0.0, 1.0, 0.0, 1.0, 0.0, 0.0, 0.0, 0.0, 0.0, 0.0, 4.0, 1.0, 0.0, 1.0, 1.0, 0.0, 2.0, 0.0, 0.0, 0.0, 0.0, 0.0, 0.0, 0.0, 0.0, 0.0, 0.0, 1.0, 2.0, 0.0, 0.0, 0.0, 0.0, 1.0, 1.0, 0.0, 1.0, 0.0, 0.0, 0.0, 0.0, 0.0, 1.0, 0.0, 1.0, 0.0, 0.0, 0.0, 1.0, 0.0, 8.0, 1.0, 4.0, 1.0, 2.0, 0.0, 5.0, 1.0, 0.0, 0.0, 2.0, 0.0, 1.0, 0.0, 9.0, 2.0, 3.0, 4.0, 6.0, 9.0, 23.0, 3.0, 0.0, 2.0, 9.0, 2.0, 15.0, 6.0, 2.0, 3.0, 1.0, 3.0, 7.0, 11.0, 6.0, 3.0, 2.0, 21.0, 0.0, 4.0, 21.0, 18.0, 6.0, 4.0, 6.0, 1.0, 42.0, 23.0, 17.0, 4.0, 15.0, 22.0, 33.0, 19.0, 37.0, 24.0, 10.0, 25.0, 12.0, 33.0, 85.0, 53.0, 29.0, 22.0, 27.0, 15.0, 79.0, 44.0, 48.0, 16.0, 9.0, 25.0, 53.0, 36.0, 108.0, 20.0, 40.0, 137.0, 30.0, 37.0, 159.0, 61.0, 55.0, 34.0, 99.0, 53.0, 29.0, 147.0, 33.0, 12.0, 3.0, 12.0, 33.0, 17.0, 100.0, 23.0, 20.0, 73.0, 54.0, 5.0, 196.0, 133.0, 64.0, 31.0, 72.0, 76.0, 58.0, 122.0, 3.0, 8.0, 18.0, 0.0, 19.0, 12.0, 18.0, 18.0, 1.0, 13.0, 6.0, 3.0, 6.0, 0.0, 15.0, 3.0, 34.0, 21.0, 9.0, 66.0, 0.0, 1.0, 0.0, 0.0, 1.0, 0.0, 0.0, 2.0, 0.0, 0.0, 4.0, 0.0, 0.0, 1.0, 0.0, 0.0, 0.0, 3.0, 1.0, 0.0, 0.0, 0.0, 0.0, 1.0, 1.0, 0.0, 0.0, 0.0, 0.0, 0.0, 0.0, 0.0, 1.0, 0.0, 0.0, 2.0, 0.0, 0.0, 0.0, 0.0, 33.0, 5.0, 1.0, 2.0, 4.0, 1.0, 4.0, 13.0, 0.0, 12.0, 4.0, 52.0, 3.0, 1.0, 10.0, 11.0, 76.0, 43.0, 13.0, 0.0, 10.0, 5.0, 5.0, 4.0, 11.0, 5.0, 1.0, 45.0, 3.0, 20.0, 12.0, 15.0, 42.0, 25.0, 15.0, 17.0, 60.0, 24.0, 8.0, 0.0, 8.0, 1.0, 2.0, 4.0, 28.0, 3.0, 3.0, 14.0, 9.0, 5.0, 11.0, 3.0, 5.0, 35.0, 13.0, 15.0, 25.0, 107.0, 9.0, 0.0, 2.0, 3.0, 2.0, 2.0, 22.0, 0.0, 4.0, 1.0, 2.0, 8.0, 8.0, 7.0, 3.0, 74.0, 16.0, 15.0, 33.0, 57.0, 7.0, 0.0, 16.0, 2.0, 8.0, 5.0, 1.0, 0.0, 5.0, 0.0, 1.0, 2.0, 7.0, 3.0, 2.0, 20.0, 14.0, 18.0, 17.0, 48.0, 10.0, 6.0, 6.0, 9.0, 9.0, 18.0, 19.0, 3.0, 8.0, 5.0, 4.0, 4.0, 12.0, 3.0, 7.0, 15.0, 22.0, 9.0, 18.0, 49.0, 37.0, 37.0, 9.0, 16.0, 12.0, 9.0, 27.0, 4.0, 9.0, 11.0, 13.0, 5.0, 25.0, 5.0, 18.0, 35.0, 20.0, 17.0, 30.0, 42.0, 3.0, 38.0, 60.0, 26.0, 30.0, 60.0, 118.0, 12.0, 12.0, 29.0, 82.0, 13.0, 17.0, 39.0, 93.0, 12.0, 53.0, 47.0, 35.0, 78.0, 30.0, 108.0, 64.0, 14.0, 38.0, 46.0, 252.0, 47.0, 8.0, 87.0, 63.0, 78.0, 57.0, 53.0, 108.0, 48.0, 30.0, 61.0, 228.0, 128.0, 58.0, 20.0, 23.0, 88.0, 19.0, 113.0, 159.0, 48.0, 62.0, 10.0, 79.0, 100.0, 13.0, 32.0, 38.0, 62.0, 37.0, 89.0, 307.0, 58.0, 56.0, 4.0, 9.0, 3.0, 3.0, 22.0, 49.0, 42.0, 0.0, 0.0, 112.0, 3.0, 18.0, 3.0, 6.0, 7.0, 11.0, 20.0, 141.0, 8.0, 3.0, 5.0, 0.0, 3.0, 1.0, 12.0, 18.0, 9.0, 5.0, 0.0, 14.0, 1.0, 32.0, 10.0, 1.0, 18.0, 9.0, 28.0, 61.0, 12.0, 0.0, 14.0, 10.0, 29.0, 12.0, 14.0, 10.0, 27.0, 85.0, 28.0, 23.0, 30.0, 59.0, 39.0, 21.0, 33.0, 80.0, 118.0, 52.0, 53.0, 0.0, 334.0, 11.0, 9.0, 9.0, 47.0, 11.0, 84.0, 21.0, 13.0, 25.0, 29.0, 86.0, 45.0, 37.0, 86.0, 44.0, 53.0, 117.0, 75.0, 0.0, 1.0, 4.0, 10.0, 48.0, 29.0, 36.0, 36.0, 29.0, 49.0, 20.0, 32.0, 65.0, 19.0, 57.0, 79.0, 80.0, 76.0, 136.0, 115.0, 0.0, 25.0, 16.0, 49.0, 78.0, 87.0, 32.0, 55.0, 22.0, 17.0, 36.0, 11.0, 105.0, 71.0, 89.0, 42.0, 138.0, 89.0, 167.0, 60.0, 0.0, 99.0, 58.0, 85.0, 171.0, 57.0, 157.0, 164.0, 33.0, 94.0, 41.0, 104.0, 239.0, 136.0, 103.0, 150.0, 210.0, 129.0, 233.0, 135.0, 172.0, 250.0, 222.0, 212.0, 302.0, 321.0, 422.0, 189.0, 70.0, 186.0, 55.0, 179.0, 278.0, 314.0, 245.0, 192.0, 318.0, 277.0, 289.0, 442.0, 512.0, 311.0, 332.0, 371.0, 686.0, 322.0, 778.0, 363.0, 169.0, 399.0, 193.0, 470.0, 941.0, 607.0, 564.0, 350.0, 446.0, 347.0, 837.0, 577.0, 2.218, 1.198, 925.0, 787.0, 1.4280000000000002, 902.0, 1.4980000000000002, 639.0, 588.0, 2.3819999999999997, 568.0, 647.0, 2.9139999999999997, 1.6130000000000002, 912.0, 488.0, 1.255, 943.0, 1.032, 1.492, 2.867, 1.8980000000000001, 1.2930000000000001, 1.8630000000000002, 3.52, 1.662, 2.965, 1.341, 1.463, 3.745, 1.255, 685.0, 5.075, 2.259, 2.452, 684.0, 1.6869999999999998, 2.296, 1.703, 3.238, 1.034, 743.0, 905.0, 479.0, 1.367, 1.183, 1.275, 1.7169999999999999, 178.0, 1.195, 1.2309999999999999, 367.0, 1.227, 476.0, 1.524, 606.0, 1.9469999999999998, 1.807, 522.0, 2.401, 47.0, 110.0, 26.0, 15.0, 192.0, 168.0, 291.0, 144.0, 91.0, 79.0, 90.0, 89.0, 67.0, 59.0, 57.0, 183.0, 181.0, 547.0, 123.0, 117.0, 13.0, 20.0, 6.0, 18.0, 115.0, 129.0, 56.0, 5.0, 7.0, 16.0, 6.0, 39.0, 48.0, 39.0, 93.0, 86.0, 68.0, 179.0, 64.0, 0.0, 54.0, 19.0, 29.0, 48.0, 436.0, 241.0, 450.0, 221.0, 428.0, 121.0, 240.0, 319.0, 124.0, 326.0, 209.0, 195.0, 494.0, 412.0, 187.0, 0.0, 6.0, 11.0, 1.0, 116.0, 11.0, 22.0, 56.0, 22.0, 13.0, 45.0, 20.0, 93.0, 9.0, 46.0, 62.0, 29.0, 95.0, 318.0, 47.0, 0.0, 17.0, 6.0, 0.0, 16.0, 16.0, 18.0, 9.0, 14.0, 52.0, 4.0, 33.0, 82.0, 22.0, 49.0, 30.0, 59.0, 53.0, 113.0, 32.0, 0.0, 4.0, 6.0, 2.0, 28.0, 79.0, 44.0, 43.0, 9.0, 5.0, 26.0, 14.0, 128.0, 37.0, 97.0, 62.0, 78.0, 119.0, 113.0, 91.0, 0.0, 3.0, 28.0, 21.0, 71.0, 60.0, 145.0, 74.0, 5.0, 73.0, 26.0, 19.0, 273.0, 73.0, 286.0, 100.0, 148.0, 194.0, 206.0, 142.0, 78.0, 32.0, 94.0, 100.0, 230.0, 338.0, 706.0, 529.0, 131.0, 515.0, 235.0, 279.0, 494.0, 602.0, 915.0, 498.0, 812.0, 887.0, 709.0, 885.0, 274.0, 258.0, 233.0, 549.0, 1.271, 1.103, 1.3659999999999999, 1.1520000000000001, 512.0, 1.205, 502.0, 972.0, 2.323, 1.024, 3.548, 1.111, 2.068, 1.642, 2.096, 2.521, 1.176, 895.0, 839.0, 2.037, 3.4810000000000003, 2.023, 1.889, 2.239, 1.382, 8.408999999999999, 713.0, 1.766, 6.353, 2.138, 10.395, 2.0980000000000003, 5.5920000000000005, 5.428, 3.7230000000000003, 3.875, 3.935, 1.739, 1.365, 4.618, 3.181, 5.877999999999999, 4.673, 6.292000000000001, 2.907, 8.524, 2.761, 2.404, 9.795, 4.632, 7.626, 3.88, 4.373, 6.422999999999999, 3.1660000000000004, 14.825, 5.1370000000000005, 3.208, 2.654, 6.6610000000000005, 5.182, 6.085, 3.6039999999999996, 6.472, 3.0239999999999996, 4.772, 3.498, 1.861, 3.228, 2.404, 5.0, 2.918, 5.812, 6.746, 5.351, 6.011, 2.237, 1.494, 2.267, 3.525, 5.83, 4.928999999999999, 6.398, 4.769, 2.004, 2.2969999999999997, 2.331, 5.0, 4.005, 2.261, 2.01, 2.529, 3.8689999999999998, 4.35, 3.9819999999999998, 2.3, 1.399, 1.001, 1.4609999999999999, 1.296, 2.165, 2.424, 3.255, 1.66, 1.052, 800.0, 1.101, 1.768, 1.8030000000000002, 1.629, 1.296, 2.6919999999999997, 2.4, 3.7060000000000004, 1.577, 0.0, 39.0, 44.0, 44.0, 172.0, 896.0, 301.0, 438.0, 947.0, 476.0, 245.0, 527.0, 298.0, 171.0, 166.0, 269.0, 315.0, 960.0, 374.0, 482.0, 0.0, 28.0, 35.0, 54.0, 22.0, 592.0, 272.0, 871.0, 383.0, 213.0, 180.0, 248.0, 431.0, 119.0, 193.0, 375.0, 199.0, 542.0, 1.05, 337.0, 0.0, 18.0, 60.0, 24.0, 103.0, 554.0, 743.0, 362.0, 448.0, 476.0, 180.0, 325.0, 605.0, 252.0, 423.0, 563.0, 655.0, 705.0, 1.085, 719.0, 0.0, 76.0, 59.0, 309.0, 641.0, 903.0, 441.0, 372.0, 161.0, 79.0, 274.0, 169.0, 769.0, 345.0, 521.0, 338.0, 859.0, 947.0, 1.77, 606.0, 0.0, 731.0, 1.194, 1.193, 2.528, 942.0, 2.4130000000000003, 1.641, 269.0, 359.0, 119.0, 516.0, 1.3130000000000002, 547.0, 812.0, 739.0, 933.0, 541.0, 1.081, 845.0, 2.201, 2.201, 4.3580000000000005, 6.665, 7.877999999999999, 4.313, 9.812999999999999, 2.294, 856.0, 1.339, 403.0, 979.0, 1.025, 974.0, 1.651, 1.213, 1.795, 1.402, 1.4169999999999998, 2.041, 3.7119999999999997, 3.926, 1.338, 1.555, 5.6610000000000005, 5.435, 11.517000000000001, 4.172, 1.9409999999999998, 1.79, 1.117, 1.6130000000000002, 3.4419999999999997, 1.061, 2.008, 1.63, 2.255, 1.5330000000000001, 3.495, 2.79, 15.405999999999999, 18.566, 6.063, 7.7620000000000005, 14.085999999999999, 11.132, 13.603, 11.57, 6.218, 14.453, 2.875, 2.25, 14.607999999999999, 2.628, 6.195, 3.568, 7.167000000000001, 5.112, 6.228, 6.229, 10.363, 11.729000000000001, 6.251, 8.49, 11.034, 15.79, 24.994, 20.551, 12.661, 25.963, 7.965, 3.1289999999999996, 18.366, 6.332000000000001, 10.344000000000001, 5.5760000000000005, 7.081, 11.068, 8.98, 23.945, 2.707, 6.109, 6.062, 6.542999999999999, 9.375, 5.341, 9.295, 7.765, 2.327, 4.89, 6.3260000000000005, 2.5789999999999997, 4.465, 2.01, 2.8369999999999997, 1.986, 5.281000000000001, 6.49, 2.7489999999999997, 4.8, 182.0, 842.0, 502.0, 373.0, 2.905, 2.097, 2.405, 1.368, 1.031, 299.0, 190.0, 588.0, 768.0, 1.103, 375.0, 1.064, 1.018, 1.93, 918.0, 813.0, 76.0, 47.0, 98.0, 37.0, 1.157, 1.6219999999999999, 1.217, 246.0, 23.0, 81.0, 159.0, 171.0, 846.0, 431.0, 492.0, 447.0, 466.0, 1.777, 425.0, 0.0, 239.0, 326.0, 97.0, 304.0, 182.0, 258.0, 59.0, 59.0, 19.0, 63.0, 229.0, 72.0, 129.0, 201.0, 174.0, 197.0, 226.0, 127.0, 355.0, 0.0, 69.0, 81.0, 89.0, 98.0, 108.0, 169.0, 221.0, 104.0, 111.0, 78.0, 164.0, 157.0, 61.0, 112.0, 100.0, 139.0, 148.0, 187.0, 165.0, 0.0, 100.0, 23.0, 39.0, 115.0, 137.0, 225.0, 158.0, 137.0, 137.0, 97.0, 118.0, 149.0, 37.0, 169.0, 158.0, 95.0, 190.0, 143.0, 170.0, 0.0, 97.0, 90.0, 108.0, 230.0, 126.0, 97.0, 126.0, 51.0, 46.0, 72.0, 291.0, 136.0, 23.0, 97.0, 78.0, 129.0, 65.0, 161.0, 59.0, 0.0, 206.0, 127.0, 112.0, 88.0, 74.0, 25.0, 328.0, 99.0, 62.0, 34.0, 927.0, 105.0, 81.0, 157.0, 72.0, 70.0, 58.0, 97.0, 72.0, 82.0, 127.0, 157.0, 249.0, 517.0, 170.0, 394.0, 439.0, 89.0, 141.0, 24.0, 376.0, 149.0, 104.0, 96.0, 35.0, 84.0, 299.0, 120.0, 175.0, 360.0, 1.297, 160.0, 591.0, 935.0, 182.0, 529.0, 859.0, 289.0, 197.0, 116.0, 354.0, 589.0, 250.0, 538.0, 201.0, 193.0, 371.0, 687.0, 1.05, 228.0, 4.355, 530.0, 2.484, 3.984, 953.0, 1.4080000000000001, 4.484, 1.129, 1.8230000000000002, 456.0, 816.0, 1.7209999999999999, 552.0, 2.951, 677.0, 312.0, 1.2930000000000001, 1.4809999999999999, 1.4880000000000002, 457.0, 2.969, 510.0, 1.383, 2.252, 1.124, 2.511, 1.87, 1.078, 4.446000000000001, 1.62, 1.146, 1.505, 1.072, 2.2640000000000002, 1.074, 365.0, 1.482, 2.383, 2.984, 576.0, 2.053, 657.0, 563.0, 2.173, 541.0, 960.0, 647.0, 244.0, 668.0, 432.0, 854.0, 597.0, 276.0, 652.0, 378.0, 581.0, 507.0, 1.2, 685.0, 306.0, 1.194, 274.0, 220.0, 1.47, 380.0, 208.0, 159.0, 83.0, 82.0, 50.0, 439.0, 259.0, 445.0, 115.0, 423.0, 190.0, 276.0, 258.0, 133.0, 100.0, 306.0, 139.0, 143.0, 376.0, 153.0, 110.0, 46.0, 18.0, 15.0, 208.0, 87.0, 276.0, 577.0, 194.0, 195.0, 84.0, 394.0, 123.0, 0.0, 36.0, 24.0, 18.0, 29.0, 37.0, 22.0, 28.0, 109.0, 91.0, 85.0, 74.0, 118.0, 61.0, 75.0, 75.0, 133.0, 147.0, 61.0, 106.0, 0.0, 112.0, 20.0, 39.0, 62.0, 126.0, 29.0, 79.0, 96.0, 71.0, 59.0, 74.0, 155.0, 111.0, 123.0, 143.0, 157.0, 84.0, 207.0, 61.0, 0.0, 13.0, 24.0, 13.0, 62.0, 81.0, 81.0, 107.0, 69.0, 155.0, 61.0, 106.0, 109.0, 67.0, 152.0, 110.0, 77.0, 80.0, 123.0, 105.0, 0.0, 27.0, 49.0, 60.0, 99.0, 215.0, 48.0, 89.0, 50.0, 35.0, 113.0, 26.0, 112.0, 66.0, 180.0, 61.0, 161.0, 109.0, 172.0, 69.0, 0.0, 51.0, 67.0, 83.0, 98.0, 75.0, 79.0, 134.0, 62.0, 124.0, 50.0, 128.0, 179.0, 151.0, 144.0, 150.0, 224.0, 114.0, 186.0, 125.0, 70.0, 132.0, 135.0, 166.0, 207.0, 245.0, 209.0, 246.0, 73.0, 184.0, 48.0, 173.0, 139.0, 304.0, 219.0, 144.0, 376.0, 200.0, 263.0, 360.0, 232.0, 318.0, 345.0, 266.0, 741.0, 407.0, 625.0, 467.0, 336.0, 446.0, 194.0, 477.0, 707.0, 801.0, 669.0, 462.0, 559.0, 288.0, 1.004, 610.0, 875.0, 1.19, 769.0, 858.0, 2.041, 1.955, 1.642, 1.0290000000000001, 959.0, 2.975, 605.0, 685.0, 3.353, 2.742, 901.0, 911.0, 1.952, 1.0590000000000002, 1.433, 2.142, 1.9809999999999999, 2.6860000000000004, 1.08, 1.597, 3.1, 7.091, 4.3389999999999995, 2.0469999999999997, 2.78, 5.088, 2.552, 1.31, 5.059, 5.978, 3.219, 1.656, 3.4539999999999997, 3.088, 2.093, 4.697, 1.093, 1.3630000000000002, 1.954, 528.0, 4.788, 5.391, 2.736, 6.546, 616.0, 3.467, 3.787, 1.013, 2.048, 1.206, 3.97, 1.2209999999999999, 4.735, 3.708, 948.0, 3.062, 32.0, 271.0, 43.0, 62.0, 417.0, 399.0, 914.0, 422.0, 59.0, 1.305, 892.0, 246.0, 82.0, 153.0, 220.0, 277.0, 398.0, 1.453, 126.0, 136.0, 21.0, 32.0, 14.0, 44.0, 225.0, 225.0, 125.0, 65.0, 32.0, 95.0, 25.0, 108.0, 105.0, 43.0, 189.0, 98.0, 155.0, 295.0, 91.0, 0.0, 87.0, 30.0, 34.0, 144.0, 900.0, 579.0, 1.768, 403.0, 467.0, 131.0, 241.0, 437.0, 108.0, 392.0, 167.0, 251.0, 725.0, 1.3219999999999998, 219.0, 0.0, 285.0, 29.0, 16.0, 120.0, 34.0, 20.0, 85.0, 49.0, 23.0, 54.0, 15.0, 102.0, 13.0, 63.0, 30.0, 37.0, 108.0, 430.0, 14.0, 0.0, 7.0, 181.0, 0.0, 14.0, 27.0, 22.0, 21.0, 10.0, 6.0, 4.0, 4.0, 110.0, 21.0, 30.0, 19.0, 34.0, 61.0, 81.0, 42.0, 0.0, 6.0, 40.0, 0.0, 11.0, 14.0, 23.0, 14.0, 2.0, 0.0, 7.0, 8.0, 22.0, 10.0, 11.0, 20.0, 27.0, 27.0, 66.0, 45.0, 0.0, 4.0, 12.0, 7.0, 18.0, 3.0, 44.0, 37.0, 0.0, 9.0, 0.0, 7.0, 57.0, 16.0, 59.0, 42.0, 70.0, 95.0, 154.0, 114.0, 58.0, 37.0, 59.0, 42.0, 149.0, 64.0, 340.0, 304.0, 78.0, 129.0, 48.0, 38.0, 94.0, 105.0, 183.0, 173.0, 319.0, 265.0, 502.0, 679.0, 638.0, 982.0, 426.0, 708.0, 772.0, 1.571, 4.436, 4.364, 615.0, 476.0, 971.0, 397.0, 1.432, 632.0, 661.0, 447.0, 825.0, 906.0, 1.579, 4.985, 6.815, 6.178, 5.484, 9.043, 15.664000000000001, 6.255, 12.812000000000001, 13.055, 7.575, 14.352, 4.435, 3.859, 18.13, 2.195, 6.9639999999999995, 2.161, 8.555, 7.912999999999999, 4.863, 11.962, 6.237, 4.419, 2.569, 6.138999999999999, 5.609, 8.447000000000001, 9.471, 9.032, 8.372, 14.59, 6.294, 6.051, 10.81, 5.185, 6.87, 3.36, 6.787000000000001, 11.068, 3.9530000000000003, 25.004, 3.665, 5.026, 4.313, 5.096, 5.189, 3.803, 4.726, 5.083, 5.9639999999999995, 2.504, 6.653, 6.3420000000000005, 3.843, 3.141, 3.714, 4.921, 6.4479999999999995, 7.781000000000001, 5.281000000000001, 7.627999999999999, 1.861, 2.682, 3.366, 4.938, 7.996, 6.195, 9.842, 4.968, 2.883, 2.89, 2.403, 10.012, 4.417, 3.043, 6.156000000000001, 3.688, 7.767, 9.642999999999999, 7.879, 9.079, 1.008, 766.0, 1.6980000000000002, 2.5639999999999996, 3.1180000000000003, 4.787, 5.507999999999999, 1.495, 1.4169999999999998, 689.0, 684.0, 2.832, 1.6119999999999999, 3.218, 1.8119999999999998, 5.513999999999999, 4.828, 6.61, 3.3, 0.0, 26.0, 0.0, 11.0, 5.0, 70.0, 33.0, 178.0, 83.0, 69.0, 77.0, 115.0, 46.0, 11.0, 61.0, 38.0, 75.0, 42.0, 18.0, 23.0, 0.0, 2.0, 11.0, 6.0, 18.0, 3.0, 3.0, 15.0, 7.0, 7.0, 20.0, 9.0, 15.0, 5.0, 15.0, 9.0, 6.0, 15.0, 4.0, 8.0, 0.0, 1.0, 5.0, 0.0, 3.0, 0.0, 3.0, 13.0, 4.0, 1.0, 8.0, 2.0, 16.0, 6.0, 4.0, 3.0, 18.0, 7.0, 1.0, 2.0, 0.0, 3.0, 1.0, 0.0, 1.0, 0.0, 3.0, 2.0, 0.0, 0.0, 0.0, 1.0, 2.0, 2.0, 13.0, 6.0, 8.0, 11.0, 1.0, 1.0, 0.0, 0.0, 0.0, 4.0, 1.0, 0.0, 1.0, 0.0, 0.0, 0.0, 0.0, 0.0, 10.0, 0.0, 10.0, 3.0, 1.0, 6.0, 1.0, 1.0, 3.0, 1.0, 2.0, 0.0, 1.0, 0.0, 0.0, 0.0, 0.0, 0.0, 0.0, 0.0, 3.0, 2.0, 5.0, 3.0, 1.0, 0.0, 4.0, 0.0, 0.0, 1.0, 0.0, 8.0, 8.0, 6.0, 1.0, 0.0, 1.0, 1.0, 0.0, 3.0, 7.0, 6.0, 5.0, 1.0, 9.0, 3.0, 22.0, 2.0, 3.0, 4.0, 7.0, 34.0, 38.0, 14.0, 18.0, 0.0, 3.0, 8.0, 1.0, 4.0, 9.0, 12.0, 13.0, 3.0, 30.0, 5.0, 50.0, 3.0, 50.0, 14.0, 9.0, 98.0, 63.0, 81.0, 34.0, 13.0, 27.0, 22.0, 21.0, 28.0, 37.0, 55.0, 71.0, 25.0, 51.0, 48.0, 131.0, 30.0, 179.0, 48.0, 125.0, 279.0, 193.0, 381.0, 190.0, 155.0, 135.0, 111.0, 80.0, 117.0, 150.0, 200.0, 136.0, 58.0, 70.0, 121.0, 304.0, 123.0, 46.0, 38.0, 65.0, 294.0, 238.0, 538.0, 331.0, 280.0, 215.0, 256.0, 175.0, 428.0, 451.0, 359.0, 130.0, 95.0, 111.0, 206.0, 132.0, 101.0, 51.0, 40.0, 34.0, 70.0, 163.0, 288.0, 351.0, 159.0, 196.0, 133.0, 187.0, 270.0, 65.0, 179.0, 62.0, 78.0, 62.0, 122.0, 8.0, 0.0, 7.0, 49.0, 32.0, 47.0, 109.0, 88.0, 55.0, 78.0, 11.0, 35.0, 35.0, 18.0, 35.0, 31.0, 28.0, 86.0, 120.0, 113.0, 55.0, 0.0, 22.0, 67.0, 8.0, 24.0, 46.0, 42.0, 77.0, 60.0, 32.0, 38.0, 21.0, 46.0, 8.0, 40.0, 9.0, 52.0, 58.0, 31.0, 60.0, 0.0, 40.0, 52.0, 12.0, 18.0, 76.0, 83.0, 84.0, 56.0, 54.0, 43.0, 57.0, 22.0, 21.0, 55.0, 18.0, 42.0, 55.0, 63.0, 43.0, 0.0, 39.0, 51.0, 43.0, 84.0, 130.0, 68.0, 22.0, 49.0, 14.0, 62.0, 80.0, 71.0, 38.0, 38.0, 72.0, 38.0, 83.0, 167.0, 77.0, 0.0, 57.0, 43.0, 26.0, 65.0, 115.0, 9.0, 125.0, 90.0, 14.0, 41.0, 117.0, 39.0, 97.0, 86.0, 85.0, 109.0, 77.0, 72.0, 49.0, 36.0, 31.0, 53.0, 43.0, 115.0, 159.0, 147.0, 114.0, 62.0, 57.0, 17.0, 105.0, 55.0, 162.0, 77.0, 52.0, 112.0, 201.0, 238.0, 169.0, 59.0, 94.0, 98.0, 122.0, 172.0, 101.0, 148.0, 155.0, 139.0, 60.0, 87.0, 34.0, 196.0, 262.0, 111.0, 168.0, 215.0, 137.0, 504.0, 891.0, 42.0, 938.0, 849.0, 342.0, 1.5930000000000002, 1.896, 1.237, 800.0, 844.0, 580.0, 205.0, 844.0, 733.0, 435.0, 522.0, 481.0, 646.0, 651.0, 1.01, 987.0, 61.0, 878.0, 381.0, 258.0, 1.071, 2.4459999999999997, 1.36, 386.0, 866.0, 960.0, 413.0, 149.0, 270.0, 913.0, 459.0, 476.0, 443.0, 599.0, 1.371, 1.706, 61.0, 452.0, 658.0, 209.0, 399.0, 1.228, 666.0, 157.0, 327.0, 194.0, 78.0, 424.0, 230.0, 256.0, 145.0, 233.0, 411.0, 158.0, 193.0, 134.0, 143.0, 447.0, 85.0, 89.0, 425.0, 503.0, 388.0, 597.0, 60.0, 59.0, 39.0, 90.0, 183.0, 138.0, 142.0, 126.0, 68.0, 18.0, 275.0, 292.0, 82.0, 254.0, 159.0, 85.0, 165.0, 171.0, 151.0, 40.0, 6.0, 22.0, 62.0, 30.0, 37.0, 78.0, 54.0, 155.0, 78.0, 30.0, 45.0, 0.0, 102.0, 3.0, 7.0, 10.0, 188.0, 29.0, 221.0, 148.0, 156.0, 170.0, 256.0, 47.0, 49.0, 146.0, 55.0, 99.0, 109.0, 24.0, 52.0, 0.0, 13.0, 4.0, 2.0, 19.0, 35.0, 8.0, 33.0, 41.0, 21.0, 48.0, 28.0, 33.0, 25.0, 64.0, 29.0, 25.0, 55.0, 19.0, 23.0, 0.0, 27.0, 14.0, 0.0, 24.0, 9.0, 6.0, 45.0, 18.0, 4.0, 32.0, 15.0, 59.0, 39.0, 44.0, 40.0, 36.0, 33.0, 4.0, 7.0, 0.0, 2.0, 1.0, 2.0, 5.0, 7.0, 5.0, 1.0, 2.0, 1.0, 5.0, 3.0, 2.0, 22.0, 46.0, 11.0, 10.0, 30.0, 8.0, 9.0, 0.0, 6.0, 7.0, 5.0, 13.0, 1.0, 2.0, 1.0, 1.0, 0.0, 0.0, 0.0, 8.0, 1.0, 36.0, 9.0, 4.0, 17.0, 6.0, 13.0, 1.0, 7.0, 4.0, 2.0, 1.0, 2.0, 4.0, 3.0, 0.0, 1.0, 0.0, 1.0, 1.0, 4.0, 12.0, 12.0, 3.0, 3.0, 4.0, 5.0, 5.0, 2.0, 0.0, 6.0, 8.0, 5.0, 13.0, 1.0, 1.0, 3.0, 0.0, 1.0, 7.0, 2.0, 11.0, 4.0, 11.0, 13.0, 17.0, 2.0, 12.0, 3.0, 31.0, 27.0, 37.0, 26.0, 41.0, 10.0, 8.0, 20.0, 2.0, 10.0, 29.0, 27.0, 27.0, 14.0, 23.0, 21.0, 42.0, 20.0, 177.0, 64.0, 130.0, 298.0, 374.0, 510.0, 192.0, 154.0, 147.0, 164.0, 92.0, 164.0, 179.0, 243.0, 192.0, 143.0, 63.0, 116.0, 171.0, 69.0, 372.0, 180.0, 411.0, 461.0, 638.0, 859.0, 545.0, 408.0, 310.0, 702.0, 274.0, 254.0, 347.0, 461.0, 222.0, 161.0, 174.0, 194.0, 319.0, 256.0, 141.0, 41.0, 64.0, 208.0, 521.0, 560.0, 465.0, 452.0, 385.0, 359.0, 363.0, 486.0, 831.0, 352.0, 181.0, 110.0, 111.0, 315.0, 191.0, 66.0, 59.0, 16.0, 22.0, 62.0, 259.0, 229.0, 373.0, 191.0, 207.0, 200.0, 203.0, 351.0, 117.0, 364.0, 108.0, 141.0, 101.0, 176.0, 161.0, 0.0, 21.0, 5.0, 29.0, 33.0, 86.0, 42.0, 94.0, 133.0, 123.0, 61.0, 79.0, 99.0, 39.0, 80.0, 72.0, 79.0, 92.0, 94.0, 85.0, 0.0, 22.0, 12.0, 0.0, 160.0, 3.0, 20.0, 26.0, 23.0, 11.0, 21.0, 19.0, 54.0, 11.0, 31.0, 68.0, 14.0, 38.0, 97.0, 24.0, 0.0, 4.0, 14.0, 2.0, 63.0, 15.0, 27.0, 13.0, 18.0, 31.0, 4.0, 17.0, 47.0, 15.0, 71.0, 14.0, 88.0, 35.0, 53.0, 25.0, 0.0, 10.0, 15.0, 1.0, 87.0, 22.0, 10.0, 3.0, 1.0, 9.0, 7.0, 8.0, 56.0, 16.0, 119.0, 34.0, 63.0, 50.0, 35.0, 25.0, 0.0, 8.0, 25.0, 36.0, 84.0, 13.0, 80.0, 22.0, 0.0, 52.0, 12.0, 12.0, 231.0, 77.0, 334.0, 40.0, 138.0, 66.0, 60.0, 36.0, 46.0, 47.0, 18.0, 87.0, 161.0, 88.0, 239.0, 171.0, 40.0, 303.0, 33.0, 56.0, 208.0, 462.0, 834.0, 263.0, 373.0, 283.0, 153.0, 193.0, 189.0, 123.0, 75.0, 337.0, 534.0, 407.0, 564.0, 445.0, 150.0, 919.0, 97.0, 302.0, 1.696, 864.0, 1.755, 361.0, 1.177, 690.0, 754.0, 643.0, 711.0, 499.0, 415.0, 1.133, 2.28, 864.0, 1.002, 943.0, 911.0, 3.551, 290.0, 790.0, 4.035, 1.9580000000000002, 3.614, 1.015, 2.265, 2.057, 1.6469999999999998, 1.5719999999999998, 1.9909999999999999, 872.0, 1.099, 2.401, 2.475, 3.3989999999999996, 2.662, 3.136, 1.618, 4.078, 1.472, 1.709, 5.392, 4.402, 4.479, 2.311, 2.536, 5.827999999999999, 1.3940000000000001, 3.4219999999999997, 2.5860000000000003, 1.4380000000000002, 2.5580000000000003, 3.742, 2.7569999999999997, 2.332, 2.144, 3.263, 1.443, 2.331, 1.83, 913.0, 3.863, 1.484, 2.506, 1.2690000000000001, 1.788, 4.0680000000000005, 2.5980000000000003, 3.0039999999999996, 424.0, 334.0, 450.0, 1.484, 1.1740000000000002, 1.248, 1.798, 1.599, 740.0, 939.0, 594.0, 1.3359999999999999, 1.4169999999999998, 825.0, 447.0, 640.0, 717.0, 897.0, 1.126, 449.0, 119.0, 74.0, 79.0, 230.0, 373.0, 459.0, 788.0, 486.0, 339.0, 317.0, 329.0, 570.0, 357.0, 362.0, 334.0, 468.0, 346.0, 626.0, 374.0, 0.0, 0.0, 0.0, 0.0, 0.0, 0.0, 1.0, 5.0, 12.0, 0.0, 1.0, 3.0, 13.0, 10.0, 12.0, 9.0, 35.0, 97.0, 9.0, 15.0, 0.0, 0.0, 1.0, 3.0, 1.0, 10.0, 8.0, 4.0, 7.0, 15.0, 2.0, 5.0, 73.0, 36.0, 11.0, 12.0, 116.0, 36.0, 16.0, 34.0, 0.0, 0.0, 0.0, 0.0, 1.0, 23.0, 4.0, 7.0, 8.0, 27.0, 2.0, 5.0, 10.0, 7.0, 20.0, 9.0, 38.0, 23.0, 16.0, 10.0, 0.0, 1.0, 2.0, 2.0, 8.0, 11.0, 3.0, 1.0, 8.0, 9.0, 2.0, 1.0, 10.0, 12.0, 12.0, 9.0, 25.0, 24.0, 45.0, 12.0, 0.0, 7.0, 5.0, 4.0, 4.0, 1.0, 0.0, 11.0, 4.0, 2.0, 0.0, 37.0, 6.0, 17.0, 18.0, 16.0, 20.0, 21.0, 30.0, 15.0, 3.0, 8.0, 14.0, 13.0, 13.0, 13.0, 19.0, 16.0, 19.0, 3.0, 4.0, 33.0, 7.0, 33.0, 14.0, 17.0, 54.0, 33.0, 37.0, 68.0, 21.0, 14.0, 22.0, 57.0, 17.0, 42.0, 23.0, 20.0, 54.0, 15.0, 14.0, 56.0, 55.0, 121.0, 50.0, 58.0, 62.0, 74.0, 131.0, 70.0, 21.0, 88.0, 34.0, 129.0, 184.0, 191.0, 74.0, 98.0, 79.0, 189.0, 19.0, 91.0, 316.0, 250.0, 72.0, 74.0, 199.0, 158.0, 241.0, 164.0, 44.0, 192.0, 16.0, 60.0, 45.0, 166.0, 205.0, 46.0, 197.0, 223.0, 132.0, 90.0, 353.0, 510.0, 172.0, 117.0, 318.0, 85.0, 195.0, 728.0, 6.0, 30.0, 25.0, 33.0, 313.0, 81.0, 26.0, 116.0, 12.0, 137.0, 42.0, 18.0, 35.0, 114.0, 163.0, 44.0, 500.0, 96.0, 30.0, 238.0, 6.0, 16.0, 2.0, 4.0, 11.0, 5.0, 49.0, 12.0, 1.0, 1.0, 0.0, 27.0, 23.0, 20.0, 13.0, 28.0, 36.0, 6.0, 19.0, 43.0, 1.0, 0.0, 0.0, 2.0, 8.0, 10.0, 9.0, 2.0, 0.0, 0.0, 6.0, 1.0, 10.0, 3.0, 18.0, 12.0, 25.0, 11.0, 5.0, 0.0, 32.0, 1.0, 2.0, 4.0, 113.0, 44.0, 153.0, 93.0, 63.0, 70.0, 110.0, 32.0, 15.0, 72.0, 25.0, 34.0, 45.0, 15.0, 28.0, 0.0, 11.0, 7.0, 0.0, 18.0, 9.0, 5.0, 42.0, 21.0, 9.0, 25.0, 8.0, 12.0, 5.0, 13.0, 24.0, 8.0, 15.0, 2.0, 10.0, 0.0, 9.0, 11.0, 0.0, 3.0, 1.0, 1.0, 15.0, 8.0, 7.0, 3.0, 2.0, 23.0, 3.0, 2.0, 6.0, 6.0, 3.0, 1.0, 3.0, 0.0, 21.0, 16.0, 10.0, 0.0, 2.0, 3.0, 2.0, 2.0, 1.0, 0.0, 1.0, 7.0, 0.0, 4.0, 7.0, 2.0, 4.0, 0.0, 6.0, 0.0, 1.0, 3.0, 56.0, 6.0, 0.0, 2.0, 3.0, 0.0, 2.0, 0.0, 0.0, 3.0, 0.0, 14.0, 2.0, 2.0, 4.0, 1.0, 2.0, 1.0, 4.0, 8.0, 13.0, 1.0, 1.0, 2.0, 0.0, 0.0, 0.0, 0.0, 0.0, 1.0, 1.0, 5.0, 1.0, 2.0, 5.0, 4.0, 3.0, 5.0, 7.0, 5.0, 25.0, 7.0, 7.0, 5.0, 2.0, 0.0, 7.0, 0.0, 0.0, 7.0, 0.0, 3.0, 0.0, 2.0, 3.0, 13.0, 4.0, 4.0, 40.0, 29.0, 55.0, 48.0, 97.0, 15.0, 9.0, 13.0, 26.0, 2.0, 1.0, 24.0, 10.0, 23.0, 2.0, 21.0, 16.0, 24.0, 21.0, 51.0, 35.0, 17.0, 45.0, 52.0, 112.0, 47.0, 37.0, 50.0, 50.0, 17.0, 29.0, 50.0, 22.0, 41.0, 7.0, 30.0, 36.0, 44.0, 48.0, 55.0, 40.0, 28.0, 34.0, 140.0, 276.0, 89.0, 168.0, 85.0, 88.0, 53.0, 84.0, 111.0, 76.0, 74.0, 71.0, 75.0, 129.0, 129.0, 85.0, 41.0, 62.0, 9.0, 41.0, 178.0, 366.0, 164.0, 249.0, 148.0, 130.0, 82.0, 172.0, 212.0, 144.0, 69.0, 77.0, 124.0, 105.0, 93.0, 89.0, 19.0, 29.0, 11.0, 20.0, 222.0, 278.0, 284.0, 149.0, 101.0, 80.0, 126.0, 221.0, 54.0, 125.0, 75.0, 46.0, 47.0, 74.0, 75.0, 0.0, 63.0, 126.0, 12.0, 265.0, 58.0, 70.0, 152.0, 46.0, 37.0, 42.0, 65.0, 22.0, 33.0, 61.0, 22.0, 53.0, 51.0, 68.0, 28.0, 0.0, 35.0, 43.0, 32.0, 38.0, 13.0, 52.0, 36.0, 34.0, 24.0, 30.0, 15.0, 23.0, 26.0, 39.0, 43.0, 37.0, 41.0, 55.0, 31.0, 0.0, 38.0, 51.0, 11.0, 26.0, 27.0, 149.0, 153.0, 76.0, 8.0, 38.0, 41.0, 21.0, 31.0, 50.0, 44.0, 58.0, 108.0, 30.0, 34.0, 0.0, 12.0, 1.0, 3.0, 6.0, 30.0, 98.0, 14.0, 59.0, 4.0, 110.0, 145.0, 72.0, 41.0, 41.0, 47.0, 60.0, 175.0, 32.0, 51.0, 0.0, 13.0, 4.0, 4.0, 7.0, 18.0, 4.0, 24.0, 24.0, 3.0, 20.0, 177.0, 9.0, 20.0, 112.0, 14.0, 63.0, 169.0, 37.0, 43.0, 0.0, 9.0, 0.0, 1.0, 4.0, 14.0, 52.0, 50.0, 7.0, 10.0, 16.0, 30.0, 4.0, 12.0, 86.0, 10.0, 62.0, 68.0, 261.0, 103.0, 0.0, 10.0, 6.0, 6.0, 93.0, 55.0, 156.0, 47.0, 45.0, 7.0, 25.0, 47.0, 34.0, 45.0, 134.0, 42.0, 209.0, 60.0, 865.0, 885.0, 9.0, 24.0, 18.0, 36.0, 824.0, 1.419, 403.0, 120.0, 642.0, 258.0, 56.0, 1.057, 267.0, 116.0, 410.0, 156.0, 1.168, 414.0, 1.111, 819.0, 60.0, 19.0, 27.0, 2.0, 226.0, 828.0, 431.0, 189.0, 444.0, 573.0, 97.0, 39.0, 250.0, 449.0, 113.0, 290.0, 224.0, 222.0, 628.0, 343.0, 169.0, 56.0, 10.0, 13.0, 10.0, 360.0, 680.0, 83.0, 160.0, 21.0, 135.0, 148.0, 95.0, 74.0, 91.0, 104.0, 110.0, 70.0, 93.0, 101.0, 28.0, 103.0, 18.0, 49.0, 117.0, 121.0, 161.0, 227.0, 27.0, 13.0, 14.0, 4.0, 90.0, 117.0, 74.0, 110.0, 68.0, 30.0, 105.0, 137.0, 605.0, 1.11, 80.0, 80.0, 45.0, 98.0, 99.0, 35.0, 15.0, 25.0, 32.0, 15.0, 103.0, 69.0, 38.0, 62.0, 31.0, 42.0, 79.0, 0.0, 1.0, 0.0, 0.0, 6.0, 62.0, 30.0, 99.0, 16.0, 33.0, 4.0, 17.0, 18.0, 1.0, 2.0, 7.0, 12.0, 30.0, 93.0, 44.0, 0.0, 1.0, 6.0, 2.0, 8.0, 10.0, 12.0, 42.0, 17.0, 8.0, 7.0, 1.0, 9.0, 2.0, 9.0, 8.0, 5.0, 22.0, 88.0, 10.0, 0.0, 8.0, 9.0, 0.0, 1.0, 13.0, 20.0, 17.0, 15.0, 20.0, 2.0, 12.0, 11.0, 6.0, 6.0, 23.0, 13.0, 15.0, 25.0, 21.0, 0.0, 3.0, 0.0, 0.0, 3.0, 10.0, 14.0, 7.0, 0.0, 0.0, 8.0, 3.0, 19.0, 8.0, 12.0, 9.0, 15.0, 15.0, 59.0, 19.0, 0.0, 3.0, 13.0, 5.0, 10.0, 21.0, 9.0, 38.0, 7.0, 4.0, 1.0, 6.0, 41.0, 54.0, 22.0, 9.0, 28.0, 13.0, 44.0, 31.0, 26.0, 10.0, 54.0, 31.0, 141.0, 74.0, 151.0, 153.0, 40.0, 71.0, 11.0, 13.0, 44.0, 130.0, 32.0, 22.0, 92.0, 119.0, 170.0, 192.0, 365.0, 135.0, 117.0, 74.0, 539.0, 516.0, 1.2329999999999999, 798.0, 314.0, 187.0, 138.0, 110.0, 747.0, 293.0, 205.0, 117.0, 192.0, 423.0, 969.0, 1.28, 2.254, 1.976, 2.197, 2.1319999999999997, 3.465, 7.06, 6.893, 6.672000000000001, 3.1239999999999997, 4.7860000000000005, 1.251, 484.0, 4.388, 1.161, 2.209, 885.0, 3.0380000000000003, 3.762, 3.675, 4.287, 3.753, 3.062, 2.438, 1.9269999999999998, 7.067, 6.89, 13.05, 13.972000000000001, 9.92, 6.832000000000001, 3.7260000000000004, 1.869, 4.893, 1.7819999999999998, 2.471, 1.776, 2.8, 6.129, 4.208, 5.638, 483.0, 1.8840000000000001, 644.0, 796.0, 3.554, 4.962, 3.094, 2.559, 1.148, 2.023, 1.482, 1.444, 1.307, 822.0, 1.229, 555.0, 1.063, 2.5980000000000003, 1.844, 2.19, 3.0, 41.0, 13.0, 91.0, 639.0, 526.0, 452.0, 465.0, 253.0, 53.0, 78.0, 128.0, 238.0, 245.0, 174.0, 108.0, 202.0, 1.002, 401.0, 372.0, 33.0, 0.0, 7.0, 1.0, 91.0, 214.0, 208.0, 36.0, 4.0, 6.0, 2.0, 9.0, 158.0, 37.0, 50.0, 143.0, 144.0, 282.0, 148.0, 0.0, 15.0, 18.0, 101.0, 302.0, 547.0, 355.0, 106.0, 70.0, 194.0, 245.0, 45.0, 351.0, 225.0, 217.0, 397.0, 355.0, 330.0, 1.754, 108.0, 0.0, 20.0, 57.0, 646.0, 476.0, 767.0, 259.0, 105.0, 283.0, 796.0, 138.0, 153.0, 470.0, 112.0, 130.0, 62.0, 226.0, 418.0, 171.0, 129.0, 0.0, 98.0, 125.0, 1.1079999999999999, 820.0, 1.131, 276.0, 244.0, 385.0, 665.0, 422.0, 176.0, 417.0, 91.0, 99.0, 179.0, 494.0, 163.0, 1.081, 216.0, 0.0, 16.0, 0.0, 380.0, 41.0, 268.0, 182.0, 22.0, 201.0, 58.0, 175.0, 115.0, 15.0, 108.0, 25.0, 87.0, 162.0, 278.0, 126.0, 51.0, 0.0, 0.0, 7.0, 9.0, 0.0, 0.0, 2.0, 1.0, 0.0, 0.0, 8.0, 219.0, 3.0, 4.0, 18.0, 4.0, 58.0, 12.0, 22.0, 29.0, 0.0, 3.0, 0.0, 1.0, 0.0, 0.0, 6.0, 5.0, 0.0, 1.0, 0.0, 16.0, 0.0, 6.0, 22.0, 6.0, 4.0, 3.0, 7.0, 4.0, 1.0, 4.0, 0.0, 1.0, 7.0, 0.0, 2.0, 2.0, 0.0, 3.0, 0.0, 18.0, 1.0, 9.0, 2.0, 4.0, 9.0, 5.0, 0.0, 3.0, 0.0, 1.0, 9.0, 4.0, 7.0, 2.0, 18.0, 9.0, 4.0, 2.0, 4.0, 29.0, 3.0, 39.0, 4.0, 3.0, 12.0, 11.0, 11.0, 35.0, 2.0, 3.0, 12.0, 1.0, 48.0, 6.0, 9.0, 72.0, 40.0, 9.0, 17.0, 117.0, 18.0, 53.0, 67.0, 18.0, 67.0, 77.0, 19.0, 43.0, 1.0, 10.0, 25.0, 13.0, 191.0, 14.0, 53.0, 88.0, 135.0, 15.0, 78.0, 197.0, 64.0, 65.0, 152.0, 63.0, 61.0, 181.0, 101.0, 156.0, 1.0, 15.0, 32.0, 76.0, 133.0, 27.0, 135.0, 135.0, 26.0, 112.0, 39.0, 312.0, 27.0, 121.0, 187.0, 106.0, 143.0, 280.0, 71.0, 327.0, 16.0, 35.0, 77.0, 76.0, 199.0, 157.0, 160.0, 71.0, 101.0, 8.0, 5.0, 290.0, 73.0, 249.0, 78.0, 65.0, 277.0, 304.0, 136.0, 0.0, 11.0, 14.0, 11.0, 22.0, 45.0, 37.0, 46.0, 41.0, 9.0, 25.0, 21.0, 2.0, 9.0, 14.0, 18.0, 58.0, 28.0, 53.0, 46.0, 0.0, 2.0, 8.0, 0.0, 5.0, 43.0, 29.0, 46.0, 18.0, 14.0, 29.0, 7.0, 15.0, 1.0, 13.0, 12.0, 27.0, 23.0, 10.0, 31.0, 0.0, 7.0, 46.0, 1.0, 12.0, 58.0, 73.0, 92.0, 48.0, 23.0, 14.0, 33.0, 9.0, 8.0, 65.0, 14.0, 15.0, 37.0, 21.0, 12.0, 0.0, 0.0, 7.0, 1.0, 7.0, 120.0, 59.0, 25.0, 30.0, 2.0, 31.0, 57.0, 19.0, 5.0, 40.0, 46.0, 34.0, 32.0, 36.0, 26.0, 0.0, 1.0, 0.0, 2.0, 3.0, 84.0, 2.0, 21.0, 33.0, 2.0, 15.0, 33.0, 1.0, 16.0, 60.0, 52.0, 42.0, 70.0, 26.0, 36.0, 2.0, 0.0, 2.0, 1.0, 0.0, 68.0, 127.0, 58.0, 32.0, 11.0, 2.0, 14.0, 1.0, 26.0, 42.0, 31.0, 3.0, 104.0, 79.0, 70.0, 0.0, 2.0, 21.0, 5.0, 82.0, 43.0, 94.0, 90.0, 74.0, 12.0, 46.0, 26.0, 31.0, 31.0, 42.0, 69.0, 82.0, 45.0, 480.0, 591.0, 0.0, 51.0, 69.0, 24.0, 702.0, 1.5130000000000001, 728.0, 391.0, 728.0, 462.0, 51.0, 759.0, 511.0, 175.0, 398.0, 236.0, 459.0, 379.0, 765.0, 713.0, 6.0, 101.0, 36.0, 18.0, 416.0, 1.339, 755.0, 116.0, 530.0, 617.0, 233.0, 47.0, 198.0, 450.0, 188.0, 303.0, 208.0, 156.0, 644.0, 626.0, 4.0, 16.0, 55.0, 26.0, 42.0, 669.0, 704.0, 197.0, 269.0, 35.0, 56.0, 252.0, 76.0, 102.0, 34.0, 107.0, 122.0, 21.0, 56.0, 51.0, 21.0, 84.0, 19.0, 66.0, 348.0, 347.0, 279.0, 384.0, 45.0, 26.0, 16.0, 61.0, 88.0, 79.0, 72.0, 84.0, 43.0, 9.0, 156.0, 152.0, 26.0, 89.0, 29.0, 45.0, 76.0, 129.0, 68.0, 17.0, 7.0, 17.0, 29.0, 20.0, 23.0, 24.0, 32.0, 74.0, 45.0, 19.0, 20.0, 0.0, 7.0, 36.0, 26.0, 19.0, 59.0, 37.0, 26.0, 76.0, 14.0, 34.0, 12.0, 45.0, 75.0, 38.0, 36.0, 99.0, 120.0, 85.0, 28.0, 0.0, 47.0, 25.0, 25.0, 19.0, 137.0, 41.0, 78.0, 59.0, 96.0, 30.0, 65.0, 152.0, 73.0, 81.0, 100.0, 112.0, 69.0, 188.0, 107.0, 0.0, 78.0, 26.0, 35.0, 111.0, 86.0, 73.0, 73.0, 106.0, 152.0, 72.0, 55.0, 111.0, 45.0, 99.0, 57.0, 75.0, 68.0, 82.0, 103.0, 0.0, 291.0, 102.0, 61.0, 178.0, 106.0, 36.0, 62.0, 63.0, 44.0, 84.0, 67.0, 91.0, 52.0, 82.0, 103.0, 103.0, 76.0, 307.0, 41.0, 0.0, 500.0, 300.0, 211.0, 319.0, 69.0, 60.0, 212.0, 88.0, 69.0, 40.0, 142.0, 150.0, 136.0, 82.0, 118.0, 181.0, 65.0, 139.0, 43.0, 451.0, 522.0, 606.0, 346.0, 562.0, 132.0, 231.0, 236.0, 97.0, 91.0, 25.0, 125.0, 143.0, 210.0, 30.0, 47.0, 331.0, 147.0, 197.0, 217.0, 596.0, 684.0, 770.0, 538.0, 448.0, 171.0, 342.0, 284.0, 245.0, 94.0, 126.0, 110.0, 600.0, 479.0, 179.0, 181.0, 476.0, 149.0, 687.0, 802.0, 581.0, 1.2109999999999999, 915.0, 595.0, 719.0, 934.0, 794.0, 522.0, 572.0, 470.0, 153.0, 289.0, 1.8090000000000002, 1.067, 435.0, 497.0, 1.4580000000000002, 643.0, 797.0, 981.0, 525.0, 911.0, 582.0, 425.0, 302.0, 977.0, 809.0, 231.0, 694.0, 495.0, 486.0, 116.0, 1.6769999999999998, 1.1079999999999999, 813.0, 560.0, 882.0, 368.0, 490.0, 2.8680000000000003, 434.0, 763.0, 647.0, 444.0, 733.0, 422.0, 195.0, 221.0, 153.0, 281.0, 87.0, 64.0, 260.0, 188.0, 206.0, 127.0, 887.0, 213.0, 177.0, 179.0, 488.0, 398.0, 96.0, 168.0, 72.0, 155.0, 144.0, 163.0, 43.0, 50.0, 20.0, 83.0, 104.0, 87.0, 50.0, 120.0, 56.0, 21.0, 39.0, 37.0, 121.0, 47.0, 23.0, 52.0, 57.0, 58.0, 102.0, 15.0, 13.0, 21.0, 36.0, 37.0, 52.0, 53.0, 64.0, 109.0, 57.0, 45.0, 47.0, 0.0, 36.0, 1.0, 2.0, 1.0, 198.0, 16.0, 80.0, 36.0, 56.0, 100.0, 60.0, 29.0, 36.0, 39.0, 34.0, 20.0, 44.0, 9.0, 31.0, 0.0, 25.0, 6.0, 2.0, 6.0, 50.0, 10.0, 19.0, 36.0, 22.0, 67.0, 64.0, 33.0, 31.0, 34.0, 47.0, 18.0, 40.0, 22.0, 18.0, 0.0, 18.0, 6.0, 1.0, 7.0, 62.0, 36.0, 28.0, 41.0, 2.0, 43.0, 29.0, 44.0, 47.0, 71.0, 67.0, 33.0, 49.0, 26.0, 16.0, 0.0, 6.0, 1.0, 0.0, 12.0, 48.0, 13.0, 8.0, 9.0, 1.0, 2.0, 19.0, 1.0, 12.0, 40.0, 15.0, 7.0, 35.0, 14.0, 8.0, 0.0, 0.0, 0.0, 3.0, 0.0, 2.0, 5.0, 0.0, 0.0, 0.0, 0.0, 0.0, 0.0, 0.0, 17.0, 1.0, 1.0, 11.0, 9.0, 1.0, 0.0, 0.0, 0.0, 0.0, 0.0, 0.0, 0.0, 0.0, 0.0, 0.0, 0.0, 2.0, 0.0, 1.0, 3.0, 1.0, 0.0, 3.0, 1.0, 0.0, 0.0, 0.0, 0.0, 0.0, 0.0, 0.0, 0.0, 0.0, 0.0, 0.0, 0.0, 0.0, 0.0, 0.0, 1.0, 0.0, 0.0, 0.0, 0.0, 0.0, 0.0, 0.0, 0.0, 0.0, 2.0, 0.0, 0.0, 0.0, 0.0, 0.0, 0.0, 0.0, 0.0, 1.0, 0.0, 0.0, 0.0, 0.0, 6.0, 0.0, 0.0, 0.0, 0.0, 1.0, 0.0, 3.0, 0.0, 2.0, 0.0, 0.0, 0.0, 1.0, 0.0, 0.0, 1.0, 1.0, 4.0, 1.0, 2.0, 0.0, 0.0, 0.0, 3.0, 5.0, 20.0, 2.0, 3.0, 11.0, 3.0, 3.0, 0.0, 1.0, 1.0, 5.0, 1.0, 3.0, 3.0, 6.0, 10.0, 0.0, 12.0, 3.0, 0.0, 5.0, 57.0, 2.0, 41.0, 23.0, 5.0, 7.0, 17.0, 9.0, 16.0, 4.0, 6.0, 7.0, 9.0, 47.0, 17.0, 1.0, 8.0, 5.0, 0.0, 5.0, 103.0, 36.0, 66.0, 29.0, 17.0, 33.0, 14.0, 21.0, 19.0, 36.0, 18.0, 9.0, 9.0, 63.0, 36.0, 0.0, 36.0, 15.0, 19.0, 35.0, 35.0, 40.0, 66.0, 91.0, 34.0, 28.0, 43.0, 79.0, 14.0, 12.0, 50.0, 89.0, 186.0, 42.0, 61.0, 0.0, 1.0, 6.0, 6.0, 48.0, 15.0, 7.0, 27.0, 14.0, 8.0, 6.0, 21.0, 32.0, 13.0, 45.0, 37.0, 73.0, 65.0, 383.0, 25.0, 0.0, 1.0, 4.0, 0.0, 33.0, 19.0, 23.0, 13.0, 11.0, 99.0, 4.0, 23.0, 120.0, 16.0, 80.0, 60.0, 58.0, 85.0, 165.0, 98.0, 0.0, 9.0, 0.0, 19.0, 37.0, 64.0, 52.0, 52.0, 4.0, 22.0, 46.0, 5.0, 419.0, 106.0, 226.0, 130.0, 187.0, 88.0, 369.0, 164.0, 0.0, 24.0, 69.0, 48.0, 138.0, 96.0, 350.0, 236.0, 35.0, 250.0, 81.0, 91.0, 580.0, 354.0, 467.0, 373.0, 618.0, 512.0, 778.0, 576.0, 252.0, 113.0, 278.0, 305.0, 396.0, 329.0, 1.079, 669.0, 289.0, 591.0, 282.0, 421.0, 767.0, 717.0, 922.0, 873.0, 1.3719999999999999, 1.15, 1.148, 1.32, 640.0, 373.0, 500.0, 830.0, 976.0, 762.0, 1.389, 1.082, 430.0, 982.0, 441.0, 989.0, 2.408, 1.001, 1.693, 1.393, 1.4040000000000001, 1.217, 2.737, 2.397, 3.747, 1.284, 1.949, 2.242, 3.0269999999999997, 1.339, 1.776, 1.84, 1.2770000000000001, 4.747, 845.0, 1.124, 7.865, 1.6680000000000001, 4.28, 1.81, 2.917, 2.54, 3.213, 3.536, 5.149, 3.415, 2.552, 4.8389999999999995, 5.314, 4.637, 5.308, 5.319, 2.9789999999999996, 6.829, 2.39, 2.017, 10.172, 4.658, 7.46, 2.445, 3.52, 5.51, 3.245, 10.737, 1.7380000000000002, 1.3780000000000001, 1.053, 684.0, 1.537, 1.339, 1.6580000000000001, 2.9130000000000003, 1.176, 2.252, 2.832, 718.0, 2.272, 1.591, 3.68, 2.155, 4.0, 4.843999999999999, 2.032, 2.969, 1.0, 29.0, 96.0, 100.0, 207.0, 146.0, 424.0, 271.0, 108.0, 147.0, 104.0, 251.0, 283.0, 144.0, 179.0, 345.0, 451.0, 833.0, 623.0, 434.0, 9.0, 16.0, 20.0, 21.0, 39.0, 109.0, 96.0, 53.0, 15.0, 13.0, 7.0, 46.0, 72.0, 105.0, 128.0, 85.0, 223.0, 373.0, 119.0], \"xaxis\": \"x\", \"yaxis\": \"y\"}],\n",
       "                        {\"barmode\": \"relative\", \"height\": 600, \"legend\": {\"tracegroupgap\": 0}, \"margin\": {\"t\": 60}, \"template\": {\"data\": {\"bar\": [{\"error_x\": {\"color\": \"#2a3f5f\"}, \"error_y\": {\"color\": \"#2a3f5f\"}, \"marker\": {\"line\": {\"color\": \"#E5ECF6\", \"width\": 0.5}}, \"type\": \"bar\"}], \"barpolar\": [{\"marker\": {\"line\": {\"color\": \"#E5ECF6\", \"width\": 0.5}}, \"type\": \"barpolar\"}], \"carpet\": [{\"aaxis\": {\"endlinecolor\": \"#2a3f5f\", \"gridcolor\": \"white\", \"linecolor\": \"white\", \"minorgridcolor\": \"white\", \"startlinecolor\": \"#2a3f5f\"}, \"baxis\": {\"endlinecolor\": \"#2a3f5f\", \"gridcolor\": \"white\", \"linecolor\": \"white\", \"minorgridcolor\": \"white\", \"startlinecolor\": \"#2a3f5f\"}, \"type\": \"carpet\"}], \"choropleth\": [{\"colorbar\": {\"outlinewidth\": 0, \"ticks\": \"\"}, \"type\": \"choropleth\"}], \"contour\": [{\"colorbar\": {\"outlinewidth\": 0, \"ticks\": \"\"}, \"colorscale\": [[0.0, \"#0d0887\"], [0.1111111111111111, \"#46039f\"], [0.2222222222222222, \"#7201a8\"], [0.3333333333333333, \"#9c179e\"], [0.4444444444444444, \"#bd3786\"], [0.5555555555555556, \"#d8576b\"], [0.6666666666666666, \"#ed7953\"], [0.7777777777777778, \"#fb9f3a\"], [0.8888888888888888, \"#fdca26\"], [1.0, \"#f0f921\"]], \"type\": \"contour\"}], \"contourcarpet\": [{\"colorbar\": {\"outlinewidth\": 0, \"ticks\": \"\"}, \"type\": \"contourcarpet\"}], \"heatmap\": [{\"colorbar\": {\"outlinewidth\": 0, \"ticks\": \"\"}, \"colorscale\": [[0.0, \"#0d0887\"], [0.1111111111111111, \"#46039f\"], [0.2222222222222222, \"#7201a8\"], [0.3333333333333333, \"#9c179e\"], [0.4444444444444444, \"#bd3786\"], [0.5555555555555556, \"#d8576b\"], [0.6666666666666666, \"#ed7953\"], [0.7777777777777778, \"#fb9f3a\"], [0.8888888888888888, \"#fdca26\"], [1.0, \"#f0f921\"]], \"type\": \"heatmap\"}], \"heatmapgl\": [{\"colorbar\": {\"outlinewidth\": 0, \"ticks\": \"\"}, \"colorscale\": [[0.0, \"#0d0887\"], [0.1111111111111111, \"#46039f\"], [0.2222222222222222, \"#7201a8\"], [0.3333333333333333, \"#9c179e\"], [0.4444444444444444, \"#bd3786\"], [0.5555555555555556, \"#d8576b\"], [0.6666666666666666, \"#ed7953\"], [0.7777777777777778, \"#fb9f3a\"], [0.8888888888888888, \"#fdca26\"], [1.0, \"#f0f921\"]], \"type\": \"heatmapgl\"}], \"histogram\": [{\"marker\": {\"colorbar\": {\"outlinewidth\": 0, \"ticks\": \"\"}}, \"type\": \"histogram\"}], \"histogram2d\": [{\"colorbar\": {\"outlinewidth\": 0, \"ticks\": \"\"}, \"colorscale\": [[0.0, \"#0d0887\"], [0.1111111111111111, \"#46039f\"], [0.2222222222222222, \"#7201a8\"], [0.3333333333333333, \"#9c179e\"], [0.4444444444444444, \"#bd3786\"], [0.5555555555555556, \"#d8576b\"], [0.6666666666666666, \"#ed7953\"], [0.7777777777777778, \"#fb9f3a\"], [0.8888888888888888, \"#fdca26\"], [1.0, \"#f0f921\"]], \"type\": \"histogram2d\"}], \"histogram2dcontour\": [{\"colorbar\": {\"outlinewidth\": 0, \"ticks\": \"\"}, \"colorscale\": [[0.0, \"#0d0887\"], [0.1111111111111111, \"#46039f\"], [0.2222222222222222, \"#7201a8\"], [0.3333333333333333, \"#9c179e\"], [0.4444444444444444, \"#bd3786\"], [0.5555555555555556, \"#d8576b\"], [0.6666666666666666, \"#ed7953\"], [0.7777777777777778, \"#fb9f3a\"], [0.8888888888888888, \"#fdca26\"], [1.0, \"#f0f921\"]], \"type\": \"histogram2dcontour\"}], \"mesh3d\": [{\"colorbar\": {\"outlinewidth\": 0, \"ticks\": \"\"}, \"type\": \"mesh3d\"}], \"parcoords\": [{\"line\": {\"colorbar\": {\"outlinewidth\": 0, \"ticks\": \"\"}}, \"type\": \"parcoords\"}], \"scatter\": [{\"marker\": {\"colorbar\": {\"outlinewidth\": 0, \"ticks\": \"\"}}, \"type\": \"scatter\"}], \"scatter3d\": [{\"line\": {\"colorbar\": {\"outlinewidth\": 0, \"ticks\": \"\"}}, \"marker\": {\"colorbar\": {\"outlinewidth\": 0, \"ticks\": \"\"}}, \"type\": \"scatter3d\"}], \"scattercarpet\": [{\"marker\": {\"colorbar\": {\"outlinewidth\": 0, \"ticks\": \"\"}}, \"type\": \"scattercarpet\"}], \"scattergeo\": [{\"marker\": {\"colorbar\": {\"outlinewidth\": 0, \"ticks\": \"\"}}, \"type\": \"scattergeo\"}], \"scattergl\": [{\"marker\": {\"colorbar\": {\"outlinewidth\": 0, \"ticks\": \"\"}}, \"type\": \"scattergl\"}], \"scattermapbox\": [{\"marker\": {\"colorbar\": {\"outlinewidth\": 0, \"ticks\": \"\"}}, \"type\": \"scattermapbox\"}], \"scatterpolar\": [{\"marker\": {\"colorbar\": {\"outlinewidth\": 0, \"ticks\": \"\"}}, \"type\": \"scatterpolar\"}], \"scatterpolargl\": [{\"marker\": {\"colorbar\": {\"outlinewidth\": 0, \"ticks\": \"\"}}, \"type\": \"scatterpolargl\"}], \"scatterternary\": [{\"marker\": {\"colorbar\": {\"outlinewidth\": 0, \"ticks\": \"\"}}, \"type\": \"scatterternary\"}], \"surface\": [{\"colorbar\": {\"outlinewidth\": 0, \"ticks\": \"\"}, \"colorscale\": [[0.0, \"#0d0887\"], [0.1111111111111111, \"#46039f\"], [0.2222222222222222, \"#7201a8\"], [0.3333333333333333, \"#9c179e\"], [0.4444444444444444, \"#bd3786\"], [0.5555555555555556, \"#d8576b\"], [0.6666666666666666, \"#ed7953\"], [0.7777777777777778, \"#fb9f3a\"], [0.8888888888888888, \"#fdca26\"], [1.0, \"#f0f921\"]], \"type\": \"surface\"}], \"table\": [{\"cells\": {\"fill\": {\"color\": \"#EBF0F8\"}, \"line\": {\"color\": \"white\"}}, \"header\": {\"fill\": {\"color\": \"#C8D4E3\"}, \"line\": {\"color\": \"white\"}}, \"type\": \"table\"}]}, \"layout\": {\"annotationdefaults\": {\"arrowcolor\": \"#2a3f5f\", \"arrowhead\": 0, \"arrowwidth\": 1}, \"colorscale\": {\"diverging\": [[0, \"#8e0152\"], [0.1, \"#c51b7d\"], [0.2, \"#de77ae\"], [0.3, \"#f1b6da\"], [0.4, \"#fde0ef\"], [0.5, \"#f7f7f7\"], [0.6, \"#e6f5d0\"], [0.7, \"#b8e186\"], [0.8, \"#7fbc41\"], [0.9, \"#4d9221\"], [1, \"#276419\"]], \"sequential\": [[0.0, \"#0d0887\"], [0.1111111111111111, \"#46039f\"], [0.2222222222222222, \"#7201a8\"], [0.3333333333333333, \"#9c179e\"], [0.4444444444444444, \"#bd3786\"], [0.5555555555555556, \"#d8576b\"], [0.6666666666666666, \"#ed7953\"], [0.7777777777777778, \"#fb9f3a\"], [0.8888888888888888, \"#fdca26\"], [1.0, \"#f0f921\"]], \"sequentialminus\": [[0.0, \"#0d0887\"], [0.1111111111111111, \"#46039f\"], [0.2222222222222222, \"#7201a8\"], [0.3333333333333333, \"#9c179e\"], [0.4444444444444444, \"#bd3786\"], [0.5555555555555556, \"#d8576b\"], [0.6666666666666666, \"#ed7953\"], [0.7777777777777778, \"#fb9f3a\"], [0.8888888888888888, \"#fdca26\"], [1.0, \"#f0f921\"]]}, \"colorway\": [\"#636efa\", \"#EF553B\", \"#00cc96\", \"#ab63fa\", \"#FFA15A\", \"#19d3f3\", \"#FF6692\", \"#B6E880\", \"#FF97FF\", \"#FECB52\"], \"font\": {\"color\": \"#2a3f5f\"}, \"geo\": {\"bgcolor\": \"white\", \"lakecolor\": \"white\", \"landcolor\": \"#E5ECF6\", \"showlakes\": true, \"showland\": true, \"subunitcolor\": \"white\"}, \"hoverlabel\": {\"align\": \"left\"}, \"hovermode\": \"closest\", \"mapbox\": {\"style\": \"light\"}, \"paper_bgcolor\": \"white\", \"plot_bgcolor\": \"#E5ECF6\", \"polar\": {\"angularaxis\": {\"gridcolor\": \"white\", \"linecolor\": \"white\", \"ticks\": \"\"}, \"bgcolor\": \"#E5ECF6\", \"radialaxis\": {\"gridcolor\": \"white\", \"linecolor\": \"white\", \"ticks\": \"\"}}, \"scene\": {\"xaxis\": {\"backgroundcolor\": \"#E5ECF6\", \"gridcolor\": \"white\", \"gridwidth\": 2, \"linecolor\": \"white\", \"showbackground\": true, \"ticks\": \"\", \"zerolinecolor\": \"white\"}, \"yaxis\": {\"backgroundcolor\": \"#E5ECF6\", \"gridcolor\": \"white\", \"gridwidth\": 2, \"linecolor\": \"white\", \"showbackground\": true, \"ticks\": \"\", \"zerolinecolor\": \"white\"}, \"zaxis\": {\"backgroundcolor\": \"#E5ECF6\", \"gridcolor\": \"white\", \"gridwidth\": 2, \"linecolor\": \"white\", \"showbackground\": true, \"ticks\": \"\", \"zerolinecolor\": \"white\"}}, \"shapedefaults\": {\"line\": {\"color\": \"#2a3f5f\"}}, \"ternary\": {\"aaxis\": {\"gridcolor\": \"white\", \"linecolor\": \"white\", \"ticks\": \"\"}, \"baxis\": {\"gridcolor\": \"white\", \"linecolor\": \"white\", \"ticks\": \"\"}, \"bgcolor\": \"#E5ECF6\", \"caxis\": {\"gridcolor\": \"white\", \"linecolor\": \"white\", \"ticks\": \"\"}}, \"title\": {\"x\": 0.05}, \"xaxis\": {\"automargin\": true, \"gridcolor\": \"white\", \"linecolor\": \"white\", \"ticks\": \"\", \"zerolinecolor\": \"white\", \"zerolinewidth\": 2}, \"yaxis\": {\"automargin\": true, \"gridcolor\": \"white\", \"linecolor\": \"white\", \"ticks\": \"\", \"zerolinecolor\": \"white\", \"zerolinewidth\": 2}}}, \"xaxis\": {\"anchor\": \"y\", \"domain\": [0.0, 0.98], \"title\": {\"text\": \"number\"}}, \"yaxis\": {\"anchor\": \"x\", \"domain\": [0.0, 1.0], \"title\": {\"text\": \"count\"}}},\n",
       "                        {\"responsive\": true}\n",
       "                    ).then(function(){\n",
       "                            \n",
       "var gd = document.getElementById('3da24d9d-c712-4748-889b-fa53a52a8362');\n",
       "var x = new MutationObserver(function (mutations, observer) {{\n",
       "        var display = window.getComputedStyle(gd).display;\n",
       "        if (!display || display === 'none') {{\n",
       "            console.log([gd, 'removed!']);\n",
       "            Plotly.purge(gd);\n",
       "            observer.disconnect();\n",
       "        }}\n",
       "}});\n",
       "\n",
       "// Listen for the removal of the full notebook cells\n",
       "var notebookContainer = gd.closest('#notebook-container');\n",
       "if (notebookContainer) {{\n",
       "    x.observe(notebookContainer, {childList: true});\n",
       "}}\n",
       "\n",
       "// Listen for the clearing of the current output cell\n",
       "var outputEl = gd.closest('.output');\n",
       "if (outputEl) {{\n",
       "    x.observe(outputEl, {childList: true});\n",
       "}}\n",
       "\n",
       "                        })\n",
       "                };\n",
       "                });\n",
       "            </script>\n",
       "        </div>"
      ]
     },
     "metadata": {},
     "output_type": "display_data"
    }
   ],
   "source": [
    "fig = px.histogram(df, x=\"number\")\n",
    "fig.show()"
   ]
  },
  {
   "cell_type": "code",
   "execution_count": 11,
   "metadata": {},
   "outputs": [
    {
     "data": {
      "application/vnd.plotly.v1+json": {
       "config": {
        "plotlyServerURL": "https://plot.ly"
       },
       "data": [
        {
         "alignmentgroup": "True",
         "hoverlabel": {
          "namelength": 0
         },
         "hovertemplate": "state=%{x}<br>year=2016<br>month=Janeiro<br>number=%{y}",
         "legendgroup": "state=Acre",
         "marker": {
          "color": "#636efa"
         },
         "name": "state=Acre",
         "offsetgroup": "state=Acre",
         "orientation": "v",
         "showlegend": true,
         "textposition": "auto",
         "type": "bar",
         "x": [
          "Acre"
         ],
         "xaxis": "x13",
         "y": [
          12
         ],
         "yaxis": "y13"
        },
        {
         "alignmentgroup": "True",
         "hoverlabel": {
          "namelength": 0
         },
         "hovertemplate": "state=%{x}<br>year=2016<br>month=Fevereiro<br>number=%{y}",
         "legendgroup": "state=Acre",
         "marker": {
          "color": "#636efa"
         },
         "name": "state=Acre",
         "offsetgroup": "state=Acre",
         "orientation": "v",
         "showlegend": false,
         "textposition": "auto",
         "type": "bar",
         "x": [
          "Acre"
         ],
         "xaxis": "x14",
         "y": [
          5
         ],
         "yaxis": "y14"
        },
        {
         "alignmentgroup": "True",
         "hoverlabel": {
          "namelength": 0
         },
         "hovertemplate": "state=%{x}<br>year=2016<br>month=Março<br>number=%{y}",
         "legendgroup": "state=Acre",
         "marker": {
          "color": "#636efa"
         },
         "name": "state=Acre",
         "offsetgroup": "state=Acre",
         "orientation": "v",
         "showlegend": false,
         "textposition": "auto",
         "type": "bar",
         "x": [
          "Acre"
         ],
         "xaxis": "x15",
         "y": [
          0
         ],
         "yaxis": "y15"
        },
        {
         "alignmentgroup": "True",
         "hoverlabel": {
          "namelength": 0
         },
         "hovertemplate": "state=%{x}<br>year=2016<br>month=Abril<br>number=%{y}",
         "legendgroup": "state=Acre",
         "marker": {
          "color": "#636efa"
         },
         "name": "state=Acre",
         "offsetgroup": "state=Acre",
         "orientation": "v",
         "showlegend": false,
         "textposition": "auto",
         "type": "bar",
         "x": [
          "Acre"
         ],
         "xaxis": "x16",
         "y": [
          0
         ],
         "yaxis": "y16"
        },
        {
         "alignmentgroup": "True",
         "hoverlabel": {
          "namelength": 0
         },
         "hovertemplate": "state=%{x}<br>year=2016<br>month=Maio<br>number=%{y}",
         "legendgroup": "state=Acre",
         "marker": {
          "color": "#636efa"
         },
         "name": "state=Acre",
         "offsetgroup": "state=Acre",
         "orientation": "v",
         "showlegend": false,
         "textposition": "auto",
         "type": "bar",
         "x": [
          "Acre"
         ],
         "xaxis": "x17",
         "y": [
          21
         ],
         "yaxis": "y17"
        },
        {
         "alignmentgroup": "True",
         "hoverlabel": {
          "namelength": 0
         },
         "hovertemplate": "state=%{x}<br>year=2016<br>month=Junho<br>number=%{y}",
         "legendgroup": "state=Acre",
         "marker": {
          "color": "#636efa"
         },
         "name": "state=Acre",
         "offsetgroup": "state=Acre",
         "orientation": "v",
         "showlegend": false,
         "textposition": "auto",
         "type": "bar",
         "x": [
          "Acre"
         ],
         "xaxis": "x18",
         "y": [
          87
         ],
         "yaxis": "y18"
        },
        {
         "alignmentgroup": "True",
         "hoverlabel": {
          "namelength": 0
         },
         "hovertemplate": "state=%{x}<br>year=2016<br>month=Julho<br>number=%{y}",
         "legendgroup": "state=Acre",
         "marker": {
          "color": "#636efa"
         },
         "name": "state=Acre",
         "offsetgroup": "state=Acre",
         "orientation": "v",
         "showlegend": false,
         "textposition": "auto",
         "type": "bar",
         "x": [
          "Acre"
         ],
         "xaxis": "x19",
         "y": [
          533
         ],
         "yaxis": "y19"
        },
        {
         "alignmentgroup": "True",
         "hoverlabel": {
          "namelength": 0
         },
         "hovertemplate": "state=%{x}<br>year=2016<br>month=Agosto<br>number=%{y}",
         "legendgroup": "state=Acre",
         "marker": {
          "color": "#636efa"
         },
         "name": "state=Acre",
         "offsetgroup": "state=Acre",
         "orientation": "v",
         "showlegend": false,
         "textposition": "auto",
         "type": "bar",
         "x": [
          "Acre"
         ],
         "xaxis": "x20",
         "y": [
          2.188
         ],
         "yaxis": "y20"
        },
        {
         "alignmentgroup": "True",
         "hoverlabel": {
          "namelength": 0
         },
         "hovertemplate": "state=%{x}<br>year=2016<br>month=Setembro<br>number=%{y}",
         "legendgroup": "state=Acre",
         "marker": {
          "color": "#636efa"
         },
         "name": "state=Acre",
         "offsetgroup": "state=Acre",
         "orientation": "v",
         "showlegend": false,
         "textposition": "auto",
         "type": "bar",
         "x": [
          "Acre"
         ],
         "xaxis": "x21",
         "y": [
          3.5860000000000003
         ],
         "yaxis": "y21"
        },
        {
         "alignmentgroup": "True",
         "hoverlabel": {
          "namelength": 0
         },
         "hovertemplate": "state=%{x}<br>year=2016<br>month=Outubro<br>number=%{y}",
         "legendgroup": "state=Acre",
         "marker": {
          "color": "#636efa"
         },
         "name": "state=Acre",
         "offsetgroup": "state=Acre",
         "orientation": "v",
         "showlegend": false,
         "textposition": "auto",
         "type": "bar",
         "x": [
          "Acre"
         ],
         "xaxis": "x22",
         "y": [
          509
         ],
         "yaxis": "y22"
        },
        {
         "alignmentgroup": "True",
         "hoverlabel": {
          "namelength": 0
         },
         "hovertemplate": "state=%{x}<br>year=2016<br>month=Novembro<br>number=%{y}",
         "legendgroup": "state=Acre",
         "marker": {
          "color": "#636efa"
         },
         "name": "state=Acre",
         "offsetgroup": "state=Acre",
         "orientation": "v",
         "showlegend": false,
         "textposition": "auto",
         "type": "bar",
         "x": [
          "Acre"
         ],
         "xaxis": "x23",
         "y": [
          46
         ],
         "yaxis": "y23"
        },
        {
         "alignmentgroup": "True",
         "hoverlabel": {
          "namelength": 0
         },
         "hovertemplate": "state=%{x}<br>year=2016<br>month=Dezembro<br>number=%{y}",
         "legendgroup": "state=Acre",
         "marker": {
          "color": "#636efa"
         },
         "name": "state=Acre",
         "offsetgroup": "state=Acre",
         "orientation": "v",
         "showlegend": false,
         "textposition": "auto",
         "type": "bar",
         "x": [
          "Acre"
         ],
         "xaxis": "x24",
         "y": [
          6
         ],
         "yaxis": "y24"
        },
        {
         "alignmentgroup": "True",
         "hoverlabel": {
          "namelength": 0
         },
         "hovertemplate": "state=%{x}<br>year=2017<br>month=Janeiro<br>number=%{y}",
         "legendgroup": "state=Acre",
         "marker": {
          "color": "#636efa"
         },
         "name": "state=Acre",
         "offsetgroup": "state=Acre",
         "orientation": "v",
         "showlegend": false,
         "textposition": "auto",
         "type": "bar",
         "x": [
          "Acre"
         ],
         "xaxis": "x",
         "y": [
          0
         ],
         "yaxis": "y"
        },
        {
         "alignmentgroup": "True",
         "hoverlabel": {
          "namelength": 0
         },
         "hovertemplate": "state=%{x}<br>year=2017<br>month=Fevereiro<br>number=%{y}",
         "legendgroup": "state=Acre",
         "marker": {
          "color": "#636efa"
         },
         "name": "state=Acre",
         "offsetgroup": "state=Acre",
         "orientation": "v",
         "showlegend": false,
         "textposition": "auto",
         "type": "bar",
         "x": [
          "Acre"
         ],
         "xaxis": "x2",
         "y": [
          1
         ],
         "yaxis": "y2"
        },
        {
         "alignmentgroup": "True",
         "hoverlabel": {
          "namelength": 0
         },
         "hovertemplate": "state=%{x}<br>year=2017<br>month=Março<br>number=%{y}",
         "legendgroup": "state=Acre",
         "marker": {
          "color": "#636efa"
         },
         "name": "state=Acre",
         "offsetgroup": "state=Acre",
         "orientation": "v",
         "showlegend": false,
         "textposition": "auto",
         "type": "bar",
         "x": [
          "Acre"
         ],
         "xaxis": "x3",
         "y": [
          0
         ],
         "yaxis": "y3"
        },
        {
         "alignmentgroup": "True",
         "hoverlabel": {
          "namelength": 0
         },
         "hovertemplate": "state=%{x}<br>year=2017<br>month=Abril<br>number=%{y}",
         "legendgroup": "state=Acre",
         "marker": {
          "color": "#636efa"
         },
         "name": "state=Acre",
         "offsetgroup": "state=Acre",
         "orientation": "v",
         "showlegend": false,
         "textposition": "auto",
         "type": "bar",
         "x": [
          "Acre"
         ],
         "xaxis": "x4",
         "y": [
          1
         ],
         "yaxis": "y4"
        },
        {
         "alignmentgroup": "True",
         "hoverlabel": {
          "namelength": 0
         },
         "hovertemplate": "state=%{x}<br>year=2017<br>month=Maio<br>number=%{y}",
         "legendgroup": "state=Acre",
         "marker": {
          "color": "#636efa"
         },
         "name": "state=Acre",
         "offsetgroup": "state=Acre",
         "orientation": "v",
         "showlegend": false,
         "textposition": "auto",
         "type": "bar",
         "x": [
          "Acre"
         ],
         "xaxis": "x5",
         "y": [
          10
         ],
         "yaxis": "y5"
        },
        {
         "alignmentgroup": "True",
         "hoverlabel": {
          "namelength": 0
         },
         "hovertemplate": "state=%{x}<br>year=2017<br>month=Junho<br>number=%{y}",
         "legendgroup": "state=Acre",
         "marker": {
          "color": "#636efa"
         },
         "name": "state=Acre",
         "offsetgroup": "state=Acre",
         "orientation": "v",
         "showlegend": false,
         "textposition": "auto",
         "type": "bar",
         "x": [
          "Acre"
         ],
         "xaxis": "x6",
         "y": [
          45
         ],
         "yaxis": "y6"
        },
        {
         "alignmentgroup": "True",
         "hoverlabel": {
          "namelength": 0
         },
         "hovertemplate": "state=%{x}<br>year=2017<br>month=Julho<br>number=%{y}",
         "legendgroup": "state=Acre",
         "marker": {
          "color": "#636efa"
         },
         "name": "state=Acre",
         "offsetgroup": "state=Acre",
         "orientation": "v",
         "showlegend": false,
         "textposition": "auto",
         "type": "bar",
         "x": [
          "Acre"
         ],
         "xaxis": "x7",
         "y": [
          457
         ],
         "yaxis": "y7"
        },
        {
         "alignmentgroup": "True",
         "hoverlabel": {
          "namelength": 0
         },
         "hovertemplate": "state=%{x}<br>year=2017<br>month=Agosto<br>number=%{y}",
         "legendgroup": "state=Acre",
         "marker": {
          "color": "#636efa"
         },
         "name": "state=Acre",
         "offsetgroup": "state=Acre",
         "orientation": "v",
         "showlegend": false,
         "textposition": "auto",
         "type": "bar",
         "x": [
          "Acre"
         ],
         "xaxis": "x8",
         "y": [
          1.493
         ],
         "yaxis": "y8"
        },
        {
         "alignmentgroup": "True",
         "hoverlabel": {
          "namelength": 0
         },
         "hovertemplate": "state=%{x}<br>year=2017<br>month=Setembro<br>number=%{y}",
         "legendgroup": "state=Acre",
         "marker": {
          "color": "#636efa"
         },
         "name": "state=Acre",
         "offsetgroup": "state=Acre",
         "orientation": "v",
         "showlegend": false,
         "textposition": "auto",
         "type": "bar",
         "x": [
          "Acre"
         ],
         "xaxis": "x9",
         "y": [
          3.429
         ],
         "yaxis": "y9"
        },
        {
         "alignmentgroup": "True",
         "hoverlabel": {
          "namelength": 0
         },
         "hovertemplate": "state=%{x}<br>year=2017<br>month=Outubro<br>number=%{y}",
         "legendgroup": "state=Acre",
         "marker": {
          "color": "#636efa"
         },
         "name": "state=Acre",
         "offsetgroup": "state=Acre",
         "orientation": "v",
         "showlegend": false,
         "textposition": "auto",
         "type": "bar",
         "x": [
          "Acre"
         ],
         "xaxis": "x10",
         "y": [
          1.508
         ],
         "yaxis": "y10"
        },
        {
         "alignmentgroup": "True",
         "hoverlabel": {
          "namelength": 0
         },
         "hovertemplate": "state=%{x}<br>year=2017<br>month=Novembro<br>number=%{y}",
         "legendgroup": "state=Acre",
         "marker": {
          "color": "#636efa"
         },
         "name": "state=Acre",
         "offsetgroup": "state=Acre",
         "orientation": "v",
         "showlegend": false,
         "textposition": "auto",
         "type": "bar",
         "x": [
          "Acre"
         ],
         "xaxis": "x11",
         "y": [
          98
         ],
         "yaxis": "y11"
        },
        {
         "alignmentgroup": "True",
         "hoverlabel": {
          "namelength": 0
         },
         "hovertemplate": "state=%{x}<br>year=2016<br>month=Janeiro<br>number=%{y}",
         "legendgroup": "state=Alagoas",
         "marker": {
          "color": "#EF553B"
         },
         "name": "state=Alagoas",
         "offsetgroup": "state=Alagoas",
         "orientation": "v",
         "showlegend": true,
         "textposition": "auto",
         "type": "bar",
         "x": [
          "Alagoas"
         ],
         "xaxis": "x13",
         "y": [
          24
         ],
         "yaxis": "y13"
        },
        {
         "alignmentgroup": "True",
         "hoverlabel": {
          "namelength": 0
         },
         "hovertemplate": "state=%{x}<br>year=2016<br>month=Fevereiro<br>number=%{y}",
         "legendgroup": "state=Alagoas",
         "marker": {
          "color": "#EF553B"
         },
         "name": "state=Alagoas",
         "offsetgroup": "state=Alagoas",
         "orientation": "v",
         "showlegend": false,
         "textposition": "auto",
         "type": "bar",
         "x": [
          "Alagoas"
         ],
         "xaxis": "x14",
         "y": [
          14
         ],
         "yaxis": "y14"
        },
        {
         "alignmentgroup": "True",
         "hoverlabel": {
          "namelength": 0
         },
         "hovertemplate": "state=%{x}<br>year=2016<br>month=Março<br>number=%{y}",
         "legendgroup": "state=Alagoas",
         "marker": {
          "color": "#EF553B"
         },
         "name": "state=Alagoas",
         "offsetgroup": "state=Alagoas",
         "orientation": "v",
         "showlegend": false,
         "textposition": "auto",
         "type": "bar",
         "x": [
          "Alagoas"
         ],
         "xaxis": "x15",
         "y": [
          9
         ],
         "yaxis": "y15"
        },
        {
         "alignmentgroup": "True",
         "hoverlabel": {
          "namelength": 0
         },
         "hovertemplate": "state=%{x}<br>year=2016<br>month=Abril<br>number=%{y}",
         "legendgroup": "state=Alagoas",
         "marker": {
          "color": "#EF553B"
         },
         "name": "state=Alagoas",
         "offsetgroup": "state=Alagoas",
         "orientation": "v",
         "showlegend": false,
         "textposition": "auto",
         "type": "bar",
         "x": [
          "Alagoas"
         ],
         "xaxis": "x16",
         "y": [
          13
         ],
         "yaxis": "y16"
        },
        {
         "alignmentgroup": "True",
         "hoverlabel": {
          "namelength": 0
         },
         "hovertemplate": "state=%{x}<br>year=2016<br>month=Maio<br>number=%{y}",
         "legendgroup": "state=Alagoas",
         "marker": {
          "color": "#EF553B"
         },
         "name": "state=Alagoas",
         "offsetgroup": "state=Alagoas",
         "orientation": "v",
         "showlegend": false,
         "textposition": "auto",
         "type": "bar",
         "x": [
          "Alagoas"
         ],
         "xaxis": "x17",
         "y": [
          4
         ],
         "yaxis": "y17"
        },
        {
         "alignmentgroup": "True",
         "hoverlabel": {
          "namelength": 0
         },
         "hovertemplate": "state=%{x}<br>year=2016<br>month=Junho<br>number=%{y}",
         "legendgroup": "state=Alagoas",
         "marker": {
          "color": "#EF553B"
         },
         "name": "state=Alagoas",
         "offsetgroup": "state=Alagoas",
         "orientation": "v",
         "showlegend": false,
         "textposition": "auto",
         "type": "bar",
         "x": [
          "Alagoas"
         ],
         "xaxis": "x18",
         "y": [
          5
         ],
         "yaxis": "y18"
        },
        {
         "alignmentgroup": "True",
         "hoverlabel": {
          "namelength": 0
         },
         "hovertemplate": "state=%{x}<br>year=2016<br>month=Julho<br>number=%{y}",
         "legendgroup": "state=Alagoas",
         "marker": {
          "color": "#EF553B"
         },
         "name": "state=Alagoas",
         "offsetgroup": "state=Alagoas",
         "orientation": "v",
         "showlegend": false,
         "textposition": "auto",
         "type": "bar",
         "x": [
          "Alagoas"
         ],
         "xaxis": "x19",
         "y": [
          3
         ],
         "yaxis": "y19"
        },
        {
         "alignmentgroup": "True",
         "hoverlabel": {
          "namelength": 0
         },
         "hovertemplate": "state=%{x}<br>year=2016<br>month=Agosto<br>number=%{y}",
         "legendgroup": "state=Alagoas",
         "marker": {
          "color": "#EF553B"
         },
         "name": "state=Alagoas",
         "offsetgroup": "state=Alagoas",
         "orientation": "v",
         "showlegend": false,
         "textposition": "auto",
         "type": "bar",
         "x": [
          "Alagoas"
         ],
         "xaxis": "x20",
         "y": [
          5
         ],
         "yaxis": "y20"
        },
        {
         "alignmentgroup": "True",
         "hoverlabel": {
          "namelength": 0
         },
         "hovertemplate": "state=%{x}<br>year=2016<br>month=Setembro<br>number=%{y}",
         "legendgroup": "state=Alagoas",
         "marker": {
          "color": "#EF553B"
         },
         "name": "state=Alagoas",
         "offsetgroup": "state=Alagoas",
         "orientation": "v",
         "showlegend": false,
         "textposition": "auto",
         "type": "bar",
         "x": [
          "Alagoas"
         ],
         "xaxis": "x21",
         "y": [
          18
         ],
         "yaxis": "y21"
        },
        {
         "alignmentgroup": "True",
         "hoverlabel": {
          "namelength": 0
         },
         "hovertemplate": "state=%{x}<br>year=2016<br>month=Outubro<br>number=%{y}",
         "legendgroup": "state=Alagoas",
         "marker": {
          "color": "#EF553B"
         },
         "name": "state=Alagoas",
         "offsetgroup": "state=Alagoas",
         "orientation": "v",
         "showlegend": false,
         "textposition": "auto",
         "type": "bar",
         "x": [
          "Alagoas"
         ],
         "xaxis": "x22",
         "y": [
          74
         ],
         "yaxis": "y22"
        },
        {
         "alignmentgroup": "True",
         "hoverlabel": {
          "namelength": 0
         },
         "hovertemplate": "state=%{x}<br>year=2016<br>month=Novembro<br>number=%{y}",
         "legendgroup": "state=Alagoas",
         "marker": {
          "color": "#EF553B"
         },
         "name": "state=Alagoas",
         "offsetgroup": "state=Alagoas",
         "orientation": "v",
         "showlegend": false,
         "textposition": "auto",
         "type": "bar",
         "x": [
          "Alagoas"
         ],
         "xaxis": "x23",
         "y": [
          76
         ],
         "yaxis": "y23"
        },
        {
         "alignmentgroup": "True",
         "hoverlabel": {
          "namelength": 0
         },
         "hovertemplate": "state=%{x}<br>year=2016<br>month=Dezembro<br>number=%{y}",
         "legendgroup": "state=Alagoas",
         "marker": {
          "color": "#EF553B"
         },
         "name": "state=Alagoas",
         "offsetgroup": "state=Alagoas",
         "orientation": "v",
         "showlegend": false,
         "textposition": "auto",
         "type": "bar",
         "x": [
          "Alagoas"
         ],
         "xaxis": "x24",
         "y": [
          155
         ],
         "yaxis": "y24"
        },
        {
         "alignmentgroup": "True",
         "hoverlabel": {
          "namelength": 0
         },
         "hovertemplate": "state=%{x}<br>year=2017<br>month=Janeiro<br>number=%{y}",
         "legendgroup": "state=Alagoas",
         "marker": {
          "color": "#EF553B"
         },
         "name": "state=Alagoas",
         "offsetgroup": "state=Alagoas",
         "orientation": "v",
         "showlegend": false,
         "textposition": "auto",
         "type": "bar",
         "x": [
          "Alagoas",
          "Alagoas"
         ],
         "xaxis": "x",
         "y": [
          38,
          38
         ],
         "yaxis": "y"
        },
        {
         "alignmentgroup": "True",
         "hoverlabel": {
          "namelength": 0
         },
         "hovertemplate": "state=%{x}<br>year=2017<br>month=Fevereiro<br>number=%{y}",
         "legendgroup": "state=Alagoas",
         "marker": {
          "color": "#EF553B"
         },
         "name": "state=Alagoas",
         "offsetgroup": "state=Alagoas",
         "orientation": "v",
         "showlegend": false,
         "textposition": "auto",
         "type": "bar",
         "x": [
          "Alagoas"
         ],
         "xaxis": "x2",
         "y": [
          21
         ],
         "yaxis": "y2"
        },
        {
         "alignmentgroup": "True",
         "hoverlabel": {
          "namelength": 0
         },
         "hovertemplate": "state=%{x}<br>year=2017<br>month=Março<br>number=%{y}",
         "legendgroup": "state=Alagoas",
         "marker": {
          "color": "#EF553B"
         },
         "name": "state=Alagoas",
         "offsetgroup": "state=Alagoas",
         "orientation": "v",
         "showlegend": false,
         "textposition": "auto",
         "type": "bar",
         "x": [
          "Alagoas"
         ],
         "xaxis": "x3",
         "y": [
          23
         ],
         "yaxis": "y3"
        },
        {
         "alignmentgroup": "True",
         "hoverlabel": {
          "namelength": 0
         },
         "hovertemplate": "state=%{x}<br>year=2017<br>month=Abril<br>number=%{y}",
         "legendgroup": "state=Alagoas",
         "marker": {
          "color": "#EF553B"
         },
         "name": "state=Alagoas",
         "offsetgroup": "state=Alagoas",
         "orientation": "v",
         "showlegend": false,
         "textposition": "auto",
         "type": "bar",
         "x": [
          "Alagoas"
         ],
         "xaxis": "x4",
         "y": [
          7
         ],
         "yaxis": "y4"
        },
        {
         "alignmentgroup": "True",
         "hoverlabel": {
          "namelength": 0
         },
         "hovertemplate": "state=%{x}<br>year=2017<br>month=Maio<br>number=%{y}",
         "legendgroup": "state=Alagoas",
         "marker": {
          "color": "#EF553B"
         },
         "name": "state=Alagoas",
         "offsetgroup": "state=Alagoas",
         "orientation": "v",
         "showlegend": false,
         "textposition": "auto",
         "type": "bar",
         "x": [
          "Alagoas"
         ],
         "xaxis": "x5",
         "y": [
          1
         ],
         "yaxis": "y5"
        },
        {
         "alignmentgroup": "True",
         "hoverlabel": {
          "namelength": 0
         },
         "hovertemplate": "state=%{x}<br>year=2017<br>month=Junho<br>number=%{y}",
         "legendgroup": "state=Alagoas",
         "marker": {
          "color": "#EF553B"
         },
         "name": "state=Alagoas",
         "offsetgroup": "state=Alagoas",
         "orientation": "v",
         "showlegend": false,
         "textposition": "auto",
         "type": "bar",
         "x": [
          "Alagoas"
         ],
         "xaxis": "x6",
         "y": [
          2
         ],
         "yaxis": "y6"
        },
        {
         "alignmentgroup": "True",
         "hoverlabel": {
          "namelength": 0
         },
         "hovertemplate": "state=%{x}<br>year=2017<br>month=Julho<br>number=%{y}",
         "legendgroup": "state=Alagoas",
         "marker": {
          "color": "#EF553B"
         },
         "name": "state=Alagoas",
         "offsetgroup": "state=Alagoas",
         "orientation": "v",
         "showlegend": false,
         "textposition": "auto",
         "type": "bar",
         "x": [
          "Alagoas"
         ],
         "xaxis": "x7",
         "y": [
          0
         ],
         "yaxis": "y7"
        },
        {
         "alignmentgroup": "True",
         "hoverlabel": {
          "namelength": 0
         },
         "hovertemplate": "state=%{x}<br>year=2017<br>month=Agosto<br>number=%{y}",
         "legendgroup": "state=Alagoas",
         "marker": {
          "color": "#EF553B"
         },
         "name": "state=Alagoas",
         "offsetgroup": "state=Alagoas",
         "orientation": "v",
         "showlegend": false,
         "textposition": "auto",
         "type": "bar",
         "x": [
          "Alagoas"
         ],
         "xaxis": "x8",
         "y": [
          1
         ],
         "yaxis": "y8"
        },
        {
         "alignmentgroup": "True",
         "hoverlabel": {
          "namelength": 0
         },
         "hovertemplate": "state=%{x}<br>year=2017<br>month=Setembro<br>number=%{y}",
         "legendgroup": "state=Alagoas",
         "marker": {
          "color": "#EF553B"
         },
         "name": "state=Alagoas",
         "offsetgroup": "state=Alagoas",
         "orientation": "v",
         "showlegend": false,
         "textposition": "auto",
         "type": "bar",
         "x": [
          "Alagoas"
         ],
         "xaxis": "x9",
         "y": [
          4
         ],
         "yaxis": "y9"
        },
        {
         "alignmentgroup": "True",
         "hoverlabel": {
          "namelength": 0
         },
         "hovertemplate": "state=%{x}<br>year=2017<br>month=Outubro<br>number=%{y}",
         "legendgroup": "state=Alagoas",
         "marker": {
          "color": "#EF553B"
         },
         "name": "state=Alagoas",
         "offsetgroup": "state=Alagoas",
         "orientation": "v",
         "showlegend": false,
         "textposition": "auto",
         "type": "bar",
         "x": [
          "Alagoas"
         ],
         "xaxis": "x10",
         "y": [
          14
         ],
         "yaxis": "y10"
        },
        {
         "alignmentgroup": "True",
         "hoverlabel": {
          "namelength": 0
         },
         "hovertemplate": "state=%{x}<br>year=2017<br>month=Novembro<br>number=%{y}",
         "legendgroup": "state=Alagoas",
         "marker": {
          "color": "#EF553B"
         },
         "name": "state=Alagoas",
         "offsetgroup": "state=Alagoas",
         "orientation": "v",
         "showlegend": false,
         "textposition": "auto",
         "type": "bar",
         "x": [
          "Alagoas"
         ],
         "xaxis": "x11",
         "y": [
          10
         ],
         "yaxis": "y11"
        },
        {
         "alignmentgroup": "True",
         "hoverlabel": {
          "namelength": 0
         },
         "hovertemplate": "state=%{x}<br>year=2016<br>month=Janeiro<br>number=%{y}",
         "legendgroup": "state=Amapa",
         "marker": {
          "color": "#00cc96"
         },
         "name": "state=Amapa",
         "offsetgroup": "state=Amapa",
         "orientation": "v",
         "showlegend": true,
         "textposition": "auto",
         "type": "bar",
         "x": [
          "Amapa"
         ],
         "xaxis": "x13",
         "y": [
          19
         ],
         "yaxis": "y13"
        },
        {
         "alignmentgroup": "True",
         "hoverlabel": {
          "namelength": 0
         },
         "hovertemplate": "state=%{x}<br>year=2016<br>month=Fevereiro<br>number=%{y}",
         "legendgroup": "state=Amapa",
         "marker": {
          "color": "#00cc96"
         },
         "name": "state=Amapa",
         "offsetgroup": "state=Amapa",
         "orientation": "v",
         "showlegend": false,
         "textposition": "auto",
         "type": "bar",
         "x": [
          "Amapa"
         ],
         "xaxis": "x14",
         "y": [
          1
         ],
         "yaxis": "y14"
        },
        {
         "alignmentgroup": "True",
         "hoverlabel": {
          "namelength": 0
         },
         "hovertemplate": "state=%{x}<br>year=2016<br>month=Março<br>number=%{y}",
         "legendgroup": "state=Amapa",
         "marker": {
          "color": "#00cc96"
         },
         "name": "state=Amapa",
         "offsetgroup": "state=Amapa",
         "orientation": "v",
         "showlegend": false,
         "textposition": "auto",
         "type": "bar",
         "x": [
          "Amapa"
         ],
         "xaxis": "x15",
         "y": [
          5
         ],
         "yaxis": "y15"
        },
        {
         "alignmentgroup": "True",
         "hoverlabel": {
          "namelength": 0
         },
         "hovertemplate": "state=%{x}<br>year=2016<br>month=Abril<br>number=%{y}",
         "legendgroup": "state=Amapa",
         "marker": {
          "color": "#00cc96"
         },
         "name": "state=Amapa",
         "offsetgroup": "state=Amapa",
         "orientation": "v",
         "showlegend": false,
         "textposition": "auto",
         "type": "bar",
         "x": [
          "Amapa"
         ],
         "xaxis": "x16",
         "y": [
          0
         ],
         "yaxis": "y16"
        },
        {
         "alignmentgroup": "True",
         "hoverlabel": {
          "namelength": 0
         },
         "hovertemplate": "state=%{x}<br>year=2016<br>month=Maio<br>number=%{y}",
         "legendgroup": "state=Amapa",
         "marker": {
          "color": "#00cc96"
         },
         "name": "state=Amapa",
         "offsetgroup": "state=Amapa",
         "orientation": "v",
         "showlegend": false,
         "textposition": "auto",
         "type": "bar",
         "x": [
          "Amapa"
         ],
         "xaxis": "x17",
         "y": [
          1
         ],
         "yaxis": "y17"
        },
        {
         "alignmentgroup": "True",
         "hoverlabel": {
          "namelength": 0
         },
         "hovertemplate": "state=%{x}<br>year=2016<br>month=Junho<br>number=%{y}",
         "legendgroup": "state=Amapa",
         "marker": {
          "color": "#00cc96"
         },
         "name": "state=Amapa",
         "offsetgroup": "state=Amapa",
         "orientation": "v",
         "showlegend": false,
         "textposition": "auto",
         "type": "bar",
         "x": [
          "Amapa"
         ],
         "xaxis": "x18",
         "y": [
          2
         ],
         "yaxis": "y18"
        },
        {
         "alignmentgroup": "True",
         "hoverlabel": {
          "namelength": 0
         },
         "hovertemplate": "state=%{x}<br>year=2016<br>month=Julho<br>number=%{y}",
         "legendgroup": "state=Amapa",
         "marker": {
          "color": "#00cc96"
         },
         "name": "state=Amapa",
         "offsetgroup": "state=Amapa",
         "orientation": "v",
         "showlegend": false,
         "textposition": "auto",
         "type": "bar",
         "x": [
          "Amapa"
         ],
         "xaxis": "x19",
         "y": [
          1
         ],
         "yaxis": "y19"
        },
        {
         "alignmentgroup": "True",
         "hoverlabel": {
          "namelength": 0
         },
         "hovertemplate": "state=%{x}<br>year=2016<br>month=Agosto<br>number=%{y}",
         "legendgroup": "state=Amapa",
         "marker": {
          "color": "#00cc96"
         },
         "name": "state=Amapa",
         "offsetgroup": "state=Amapa",
         "orientation": "v",
         "showlegend": false,
         "textposition": "auto",
         "type": "bar",
         "x": [
          "Amapa"
         ],
         "xaxis": "x20",
         "y": [
          37
         ],
         "yaxis": "y20"
        },
        {
         "alignmentgroup": "True",
         "hoverlabel": {
          "namelength": 0
         },
         "hovertemplate": "state=%{x}<br>year=2016<br>month=Setembro<br>number=%{y}",
         "legendgroup": "state=Amapa",
         "marker": {
          "color": "#00cc96"
         },
         "name": "state=Amapa",
         "offsetgroup": "state=Amapa",
         "orientation": "v",
         "showlegend": false,
         "textposition": "auto",
         "type": "bar",
         "x": [
          "Amapa"
         ],
         "xaxis": "x21",
         "y": [
          142
         ],
         "yaxis": "y21"
        },
        {
         "alignmentgroup": "True",
         "hoverlabel": {
          "namelength": 0
         },
         "hovertemplate": "state=%{x}<br>year=2016<br>month=Outubro<br>number=%{y}",
         "legendgroup": "state=Amapa",
         "marker": {
          "color": "#00cc96"
         },
         "name": "state=Amapa",
         "offsetgroup": "state=Amapa",
         "orientation": "v",
         "showlegend": false,
         "textposition": "auto",
         "type": "bar",
         "x": [
          "Amapa"
         ],
         "xaxis": "x22",
         "y": [
          793
         ],
         "yaxis": "y22"
        },
        {
         "alignmentgroup": "True",
         "hoverlabel": {
          "namelength": 0
         },
         "hovertemplate": "state=%{x}<br>year=2016<br>month=Novembro<br>number=%{y}",
         "legendgroup": "state=Amapa",
         "marker": {
          "color": "#00cc96"
         },
         "name": "state=Amapa",
         "offsetgroup": "state=Amapa",
         "orientation": "v",
         "showlegend": false,
         "textposition": "auto",
         "type": "bar",
         "x": [
          "Amapa"
         ],
         "xaxis": "x23",
         "y": [
          1.161
         ],
         "yaxis": "y23"
        },
        {
         "alignmentgroup": "True",
         "hoverlabel": {
          "namelength": 0
         },
         "hovertemplate": "state=%{x}<br>year=2016<br>month=Dezembro<br>number=%{y}",
         "legendgroup": "state=Amapa",
         "marker": {
          "color": "#00cc96"
         },
         "name": "state=Amapa",
         "offsetgroup": "state=Amapa",
         "orientation": "v",
         "showlegend": false,
         "textposition": "auto",
         "type": "bar",
         "x": [
          "Amapa"
         ],
         "xaxis": "x24",
         "y": [
          491
         ],
         "yaxis": "y24"
        },
        {
         "alignmentgroup": "True",
         "hoverlabel": {
          "namelength": 0
         },
         "hovertemplate": "state=%{x}<br>year=2017<br>month=Janeiro<br>number=%{y}",
         "legendgroup": "state=Amapa",
         "marker": {
          "color": "#00cc96"
         },
         "name": "state=Amapa",
         "offsetgroup": "state=Amapa",
         "orientation": "v",
         "showlegend": false,
         "textposition": "auto",
         "type": "bar",
         "x": [
          "Amapa"
         ],
         "xaxis": "x",
         "y": [
          2
         ],
         "yaxis": "y"
        },
        {
         "alignmentgroup": "True",
         "hoverlabel": {
          "namelength": 0
         },
         "hovertemplate": "state=%{x}<br>year=2017<br>month=Fevereiro<br>number=%{y}",
         "legendgroup": "state=Amapa",
         "marker": {
          "color": "#00cc96"
         },
         "name": "state=Amapa",
         "offsetgroup": "state=Amapa",
         "orientation": "v",
         "showlegend": false,
         "textposition": "auto",
         "type": "bar",
         "x": [
          "Amapa"
         ],
         "xaxis": "x2",
         "y": [
          0
         ],
         "yaxis": "y2"
        },
        {
         "alignmentgroup": "True",
         "hoverlabel": {
          "namelength": 0
         },
         "hovertemplate": "state=%{x}<br>year=2017<br>month=Março<br>number=%{y}",
         "legendgroup": "state=Amapa",
         "marker": {
          "color": "#00cc96"
         },
         "name": "state=Amapa",
         "offsetgroup": "state=Amapa",
         "orientation": "v",
         "showlegend": false,
         "textposition": "auto",
         "type": "bar",
         "x": [
          "Amapa"
         ],
         "xaxis": "x3",
         "y": [
          0
         ],
         "yaxis": "y3"
        },
        {
         "alignmentgroup": "True",
         "hoverlabel": {
          "namelength": 0
         },
         "hovertemplate": "state=%{x}<br>year=2017<br>month=Abril<br>number=%{y}",
         "legendgroup": "state=Amapa",
         "marker": {
          "color": "#00cc96"
         },
         "name": "state=Amapa",
         "offsetgroup": "state=Amapa",
         "orientation": "v",
         "showlegend": false,
         "textposition": "auto",
         "type": "bar",
         "x": [
          "Amapa"
         ],
         "xaxis": "x4",
         "y": [
          3
         ],
         "yaxis": "y4"
        },
        {
         "alignmentgroup": "True",
         "hoverlabel": {
          "namelength": 0
         },
         "hovertemplate": "state=%{x}<br>year=2017<br>month=Maio<br>number=%{y}",
         "legendgroup": "state=Amapa",
         "marker": {
          "color": "#00cc96"
         },
         "name": "state=Amapa",
         "offsetgroup": "state=Amapa",
         "orientation": "v",
         "showlegend": false,
         "textposition": "auto",
         "type": "bar",
         "x": [
          "Amapa"
         ],
         "xaxis": "x5",
         "y": [
          1
         ],
         "yaxis": "y5"
        },
        {
         "alignmentgroup": "True",
         "hoverlabel": {
          "namelength": 0
         },
         "hovertemplate": "state=%{x}<br>year=2017<br>month=Junho<br>number=%{y}",
         "legendgroup": "state=Amapa",
         "marker": {
          "color": "#00cc96"
         },
         "name": "state=Amapa",
         "offsetgroup": "state=Amapa",
         "orientation": "v",
         "showlegend": false,
         "textposition": "auto",
         "type": "bar",
         "x": [
          "Amapa"
         ],
         "xaxis": "x6",
         "y": [
          2
         ],
         "yaxis": "y6"
        },
        {
         "alignmentgroup": "True",
         "hoverlabel": {
          "namelength": 0
         },
         "hovertemplate": "state=%{x}<br>year=2017<br>month=Julho<br>number=%{y}",
         "legendgroup": "state=Amapa",
         "marker": {
          "color": "#00cc96"
         },
         "name": "state=Amapa",
         "offsetgroup": "state=Amapa",
         "orientation": "v",
         "showlegend": false,
         "textposition": "auto",
         "type": "bar",
         "x": [
          "Amapa"
         ],
         "xaxis": "x7",
         "y": [
          3
         ],
         "yaxis": "y7"
        },
        {
         "alignmentgroup": "True",
         "hoverlabel": {
          "namelength": 0
         },
         "hovertemplate": "state=%{x}<br>year=2017<br>month=Agosto<br>number=%{y}",
         "legendgroup": "state=Amapa",
         "marker": {
          "color": "#00cc96"
         },
         "name": "state=Amapa",
         "offsetgroup": "state=Amapa",
         "orientation": "v",
         "showlegend": false,
         "textposition": "auto",
         "type": "bar",
         "x": [
          "Amapa"
         ],
         "xaxis": "x8",
         "y": [
          33
         ],
         "yaxis": "y8"
        },
        {
         "alignmentgroup": "True",
         "hoverlabel": {
          "namelength": 0
         },
         "hovertemplate": "state=%{x}<br>year=2017<br>month=Setembro<br>number=%{y}",
         "legendgroup": "state=Amapa",
         "marker": {
          "color": "#00cc96"
         },
         "name": "state=Amapa",
         "offsetgroup": "state=Amapa",
         "orientation": "v",
         "showlegend": false,
         "textposition": "auto",
         "type": "bar",
         "x": [
          "Amapa"
         ],
         "xaxis": "x9",
         "y": [
          95
         ],
         "yaxis": "y9"
        },
        {
         "alignmentgroup": "True",
         "hoverlabel": {
          "namelength": 0
         },
         "hovertemplate": "state=%{x}<br>year=2017<br>month=Outubro<br>number=%{y}",
         "legendgroup": "state=Amapa",
         "marker": {
          "color": "#00cc96"
         },
         "name": "state=Amapa",
         "offsetgroup": "state=Amapa",
         "orientation": "v",
         "showlegend": false,
         "textposition": "auto",
         "type": "bar",
         "x": [
          "Amapa"
         ],
         "xaxis": "x10",
         "y": [
          468
         ],
         "yaxis": "y10"
        },
        {
         "alignmentgroup": "True",
         "hoverlabel": {
          "namelength": 0
         },
         "hovertemplate": "state=%{x}<br>year=2017<br>month=Novembro<br>number=%{y}",
         "legendgroup": "state=Amapa",
         "marker": {
          "color": "#00cc96"
         },
         "name": "state=Amapa",
         "offsetgroup": "state=Amapa",
         "orientation": "v",
         "showlegend": false,
         "textposition": "auto",
         "type": "bar",
         "x": [
          "Amapa"
         ],
         "xaxis": "x11",
         "y": [
          858
         ],
         "yaxis": "y11"
        },
        {
         "alignmentgroup": "True",
         "hoverlabel": {
          "namelength": 0
         },
         "hovertemplate": "state=%{x}<br>year=2016<br>month=Janeiro<br>number=%{y}",
         "legendgroup": "state=Amazonas",
         "marker": {
          "color": "#ab63fa"
         },
         "name": "state=Amazonas",
         "offsetgroup": "state=Amazonas",
         "orientation": "v",
         "showlegend": true,
         "textposition": "auto",
         "type": "bar",
         "x": [
          "Amazonas"
         ],
         "xaxis": "x13",
         "y": [
          770
         ],
         "yaxis": "y13"
        },
        {
         "alignmentgroup": "True",
         "hoverlabel": {
          "namelength": 0
         },
         "hovertemplate": "state=%{x}<br>year=2016<br>month=Fevereiro<br>number=%{y}",
         "legendgroup": "state=Amazonas",
         "marker": {
          "color": "#ab63fa"
         },
         "name": "state=Amazonas",
         "offsetgroup": "state=Amazonas",
         "orientation": "v",
         "showlegend": false,
         "textposition": "auto",
         "type": "bar",
         "x": [
          "Amazonas"
         ],
         "xaxis": "x14",
         "y": [
          275
         ],
         "yaxis": "y14"
        },
        {
         "alignmentgroup": "True",
         "hoverlabel": {
          "namelength": 0
         },
         "hovertemplate": "state=%{x}<br>year=2016<br>month=Março<br>number=%{y}",
         "legendgroup": "state=Amazonas",
         "marker": {
          "color": "#ab63fa"
         },
         "name": "state=Amazonas",
         "offsetgroup": "state=Amazonas",
         "orientation": "v",
         "showlegend": false,
         "textposition": "auto",
         "type": "bar",
         "x": [
          "Amazonas"
         ],
         "xaxis": "x15",
         "y": [
          140
         ],
         "yaxis": "y15"
        },
        {
         "alignmentgroup": "True",
         "hoverlabel": {
          "namelength": 0
         },
         "hovertemplate": "state=%{x}<br>year=2016<br>month=Abril<br>number=%{y}",
         "legendgroup": "state=Amazonas",
         "marker": {
          "color": "#ab63fa"
         },
         "name": "state=Amazonas",
         "offsetgroup": "state=Amazonas",
         "orientation": "v",
         "showlegend": false,
         "textposition": "auto",
         "type": "bar",
         "x": [
          "Amazonas"
         ],
         "xaxis": "x16",
         "y": [
          22
         ],
         "yaxis": "y16"
        },
        {
         "alignmentgroup": "True",
         "hoverlabel": {
          "namelength": 0
         },
         "hovertemplate": "state=%{x}<br>year=2016<br>month=Maio<br>number=%{y}",
         "legendgroup": "state=Amazonas",
         "marker": {
          "color": "#ab63fa"
         },
         "name": "state=Amazonas",
         "offsetgroup": "state=Amazonas",
         "orientation": "v",
         "showlegend": false,
         "textposition": "auto",
         "type": "bar",
         "x": [
          "Amazonas"
         ],
         "xaxis": "x17",
         "y": [
          30
         ],
         "yaxis": "y17"
        },
        {
         "alignmentgroup": "True",
         "hoverlabel": {
          "namelength": 0
         },
         "hovertemplate": "state=%{x}<br>year=2016<br>month=Junho<br>number=%{y}",
         "legendgroup": "state=Amazonas",
         "marker": {
          "color": "#ab63fa"
         },
         "name": "state=Amazonas",
         "offsetgroup": "state=Amazonas",
         "orientation": "v",
         "showlegend": false,
         "textposition": "auto",
         "type": "bar",
         "x": [
          "Amazonas"
         ],
         "xaxis": "x18",
         "y": [
          90
         ],
         "yaxis": "y18"
        },
        {
         "alignmentgroup": "True",
         "hoverlabel": {
          "namelength": 0
         },
         "hovertemplate": "state=%{x}<br>year=2016<br>month=Julho<br>number=%{y}",
         "legendgroup": "state=Amazonas",
         "marker": {
          "color": "#ab63fa"
         },
         "name": "state=Amazonas",
         "offsetgroup": "state=Amazonas",
         "orientation": "v",
         "showlegend": false,
         "textposition": "auto",
         "type": "bar",
         "x": [
          "Amazonas"
         ],
         "xaxis": "x19",
         "y": [
          1.137
         ],
         "yaxis": "y19"
        },
        {
         "alignmentgroup": "True",
         "hoverlabel": {
          "namelength": 0
         },
         "hovertemplate": "state=%{x}<br>year=2016<br>month=Agosto<br>number=%{y}",
         "legendgroup": "state=Amazonas",
         "marker": {
          "color": "#ab63fa"
         },
         "name": "state=Amazonas",
         "offsetgroup": "state=Amazonas",
         "orientation": "v",
         "showlegend": false,
         "textposition": "auto",
         "type": "bar",
         "x": [
          "Amazonas"
         ],
         "xaxis": "x20",
         "y": [
          3.611
         ],
         "yaxis": "y20"
        },
        {
         "alignmentgroup": "True",
         "hoverlabel": {
          "namelength": 0
         },
         "hovertemplate": "state=%{x}<br>year=2016<br>month=Setembro<br>number=%{y}",
         "legendgroup": "state=Amazonas",
         "marker": {
          "color": "#ab63fa"
         },
         "name": "state=Amazonas",
         "offsetgroup": "state=Amazonas",
         "orientation": "v",
         "showlegend": false,
         "textposition": "auto",
         "type": "bar",
         "x": [
          "Amazonas"
         ],
         "xaxis": "x21",
         "y": [
          3.1189999999999998
         ],
         "yaxis": "y21"
        },
        {
         "alignmentgroup": "True",
         "hoverlabel": {
          "namelength": 0
         },
         "hovertemplate": "state=%{x}<br>year=2016<br>month=Outubro<br>number=%{y}",
         "legendgroup": "state=Amazonas",
         "marker": {
          "color": "#ab63fa"
         },
         "name": "state=Amazonas",
         "offsetgroup": "state=Amazonas",
         "orientation": "v",
         "showlegend": false,
         "textposition": "auto",
         "type": "bar",
         "x": [
          "Amazonas"
         ],
         "xaxis": "x22",
         "y": [
          2.105
         ],
         "yaxis": "y22"
        },
        {
         "alignmentgroup": "True",
         "hoverlabel": {
          "namelength": 0
         },
         "hovertemplate": "state=%{x}<br>year=2016<br>month=Novembro<br>number=%{y}",
         "legendgroup": "state=Amazonas",
         "marker": {
          "color": "#ab63fa"
         },
         "name": "state=Amazonas",
         "offsetgroup": "state=Amazonas",
         "orientation": "v",
         "showlegend": false,
         "textposition": "auto",
         "type": "bar",
         "x": [
          "Amazonas"
         ],
         "xaxis": "x23",
         "y": [
          591
         ],
         "yaxis": "y23"
        },
        {
         "alignmentgroup": "True",
         "hoverlabel": {
          "namelength": 0
         },
         "hovertemplate": "state=%{x}<br>year=2016<br>month=Dezembro<br>number=%{y}",
         "legendgroup": "state=Amazonas",
         "marker": {
          "color": "#ab63fa"
         },
         "name": "state=Amazonas",
         "offsetgroup": "state=Amazonas",
         "orientation": "v",
         "showlegend": false,
         "textposition": "auto",
         "type": "bar",
         "x": [
          "Amazonas"
         ],
         "xaxis": "x24",
         "y": [
          133
         ],
         "yaxis": "y24"
        },
        {
         "alignmentgroup": "True",
         "hoverlabel": {
          "namelength": 0
         },
         "hovertemplate": "state=%{x}<br>year=2017<br>month=Janeiro<br>number=%{y}",
         "legendgroup": "state=Amazonas",
         "marker": {
          "color": "#ab63fa"
         },
         "name": "state=Amazonas",
         "offsetgroup": "state=Amazonas",
         "orientation": "v",
         "showlegend": false,
         "textposition": "auto",
         "type": "bar",
         "x": [
          "Amazonas"
         ],
         "xaxis": "x",
         "y": [
          65
         ],
         "yaxis": "y"
        },
        {
         "alignmentgroup": "True",
         "hoverlabel": {
          "namelength": 0
         },
         "hovertemplate": "state=%{x}<br>year=2017<br>month=Fevereiro<br>number=%{y}",
         "legendgroup": "state=Amazonas",
         "marker": {
          "color": "#ab63fa"
         },
         "name": "state=Amazonas",
         "offsetgroup": "state=Amazonas",
         "orientation": "v",
         "showlegend": false,
         "textposition": "auto",
         "type": "bar",
         "x": [
          "Amazonas"
         ],
         "xaxis": "x2",
         "y": [
          52
         ],
         "yaxis": "y2"
        },
        {
         "alignmentgroup": "True",
         "hoverlabel": {
          "namelength": 0
         },
         "hovertemplate": "state=%{x}<br>year=2017<br>month=Março<br>number=%{y}",
         "legendgroup": "state=Amazonas",
         "marker": {
          "color": "#ab63fa"
         },
         "name": "state=Amazonas",
         "offsetgroup": "state=Amazonas",
         "orientation": "v",
         "showlegend": false,
         "textposition": "auto",
         "type": "bar",
         "x": [
          "Amazonas"
         ],
         "xaxis": "x3",
         "y": [
          45
         ],
         "yaxis": "y3"
        },
        {
         "alignmentgroup": "True",
         "hoverlabel": {
          "namelength": 0
         },
         "hovertemplate": "state=%{x}<br>year=2017<br>month=Abril<br>number=%{y}",
         "legendgroup": "state=Amazonas",
         "marker": {
          "color": "#ab63fa"
         },
         "name": "state=Amazonas",
         "offsetgroup": "state=Amazonas",
         "orientation": "v",
         "showlegend": false,
         "textposition": "auto",
         "type": "bar",
         "x": [
          "Amazonas"
         ],
         "xaxis": "x4",
         "y": [
          20
         ],
         "yaxis": "y4"
        },
        {
         "alignmentgroup": "True",
         "hoverlabel": {
          "namelength": 0
         },
         "hovertemplate": "state=%{x}<br>year=2017<br>month=Maio<br>number=%{y}",
         "legendgroup": "state=Amazonas",
         "marker": {
          "color": "#ab63fa"
         },
         "name": "state=Amazonas",
         "offsetgroup": "state=Amazonas",
         "orientation": "v",
         "showlegend": false,
         "textposition": "auto",
         "type": "bar",
         "x": [
          "Amazonas"
         ],
         "xaxis": "x5",
         "y": [
          40
         ],
         "yaxis": "y5"
        },
        {
         "alignmentgroup": "True",
         "hoverlabel": {
          "namelength": 0
         },
         "hovertemplate": "state=%{x}<br>year=2017<br>month=Junho<br>number=%{y}",
         "legendgroup": "state=Amazonas",
         "marker": {
          "color": "#ab63fa"
         },
         "name": "state=Amazonas",
         "offsetgroup": "state=Amazonas",
         "orientation": "v",
         "showlegend": false,
         "textposition": "auto",
         "type": "bar",
         "x": [
          "Amazonas"
         ],
         "xaxis": "x6",
         "y": [
          119
         ],
         "yaxis": "y6"
        },
        {
         "alignmentgroup": "True",
         "hoverlabel": {
          "namelength": 0
         },
         "hovertemplate": "state=%{x}<br>year=2017<br>month=Julho<br>number=%{y}",
         "legendgroup": "state=Amazonas",
         "marker": {
          "color": "#ab63fa"
         },
         "name": "state=Amazonas",
         "offsetgroup": "state=Amazonas",
         "orientation": "v",
         "showlegend": false,
         "textposition": "auto",
         "type": "bar",
         "x": [
          "Amazonas"
         ],
         "xaxis": "x7",
         "y": [
          1.975
         ],
         "yaxis": "y7"
        },
        {
         "alignmentgroup": "True",
         "hoverlabel": {
          "namelength": 0
         },
         "hovertemplate": "state=%{x}<br>year=2017<br>month=Agosto<br>number=%{y}",
         "legendgroup": "state=Amazonas",
         "marker": {
          "color": "#ab63fa"
         },
         "name": "state=Amazonas",
         "offsetgroup": "state=Amazonas",
         "orientation": "v",
         "showlegend": false,
         "textposition": "auto",
         "type": "bar",
         "x": [
          "Amazonas"
         ],
         "xaxis": "x8",
         "y": [
          6.316
         ],
         "yaxis": "y8"
        },
        {
         "alignmentgroup": "True",
         "hoverlabel": {
          "namelength": 0
         },
         "hovertemplate": "state=%{x}<br>year=2017<br>month=Setembro<br>number=%{y}",
         "legendgroup": "state=Amazonas",
         "marker": {
          "color": "#ab63fa"
         },
         "name": "state=Amazonas",
         "offsetgroup": "state=Amazonas",
         "orientation": "v",
         "showlegend": false,
         "textposition": "auto",
         "type": "bar",
         "x": [
          "Amazonas"
         ],
         "xaxis": "x9",
         "y": [
          4.033
         ],
         "yaxis": "y9"
        },
        {
         "alignmentgroup": "True",
         "hoverlabel": {
          "namelength": 0
         },
         "hovertemplate": "state=%{x}<br>year=2017<br>month=Outubro<br>number=%{y}",
         "legendgroup": "state=Amazonas",
         "marker": {
          "color": "#ab63fa"
         },
         "name": "state=Amazonas",
         "offsetgroup": "state=Amazonas",
         "orientation": "v",
         "showlegend": false,
         "textposition": "auto",
         "type": "bar",
         "x": [
          "Amazonas"
         ],
         "xaxis": "x10",
         "y": [
          1.581
         ],
         "yaxis": "y10"
        },
        {
         "alignmentgroup": "True",
         "hoverlabel": {
          "namelength": 0
         },
         "hovertemplate": "state=%{x}<br>year=2017<br>month=Novembro<br>number=%{y}",
         "legendgroup": "state=Amazonas",
         "marker": {
          "color": "#ab63fa"
         },
         "name": "state=Amazonas",
         "offsetgroup": "state=Amazonas",
         "orientation": "v",
         "showlegend": false,
         "textposition": "auto",
         "type": "bar",
         "x": [
          "Amazonas"
         ],
         "xaxis": "x11",
         "y": [
          552
         ],
         "yaxis": "y11"
        },
        {
         "alignmentgroup": "True",
         "hoverlabel": {
          "namelength": 0
         },
         "hovertemplate": "state=%{x}<br>year=2016<br>month=Janeiro<br>number=%{y}",
         "legendgroup": "state=Bahia",
         "marker": {
          "color": "#FFA15A"
         },
         "name": "state=Bahia",
         "offsetgroup": "state=Bahia",
         "orientation": "v",
         "showlegend": true,
         "textposition": "auto",
         "type": "bar",
         "x": [
          "Bahia"
         ],
         "xaxis": "x13",
         "y": [
          285
         ],
         "yaxis": "y13"
        },
        {
         "alignmentgroup": "True",
         "hoverlabel": {
          "namelength": 0
         },
         "hovertemplate": "state=%{x}<br>year=2016<br>month=Fevereiro<br>number=%{y}",
         "legendgroup": "state=Bahia",
         "marker": {
          "color": "#FFA15A"
         },
         "name": "state=Bahia",
         "offsetgroup": "state=Bahia",
         "orientation": "v",
         "showlegend": false,
         "textposition": "auto",
         "type": "bar",
         "x": [
          "Bahia"
         ],
         "xaxis": "x14",
         "y": [
          418
         ],
         "yaxis": "y14"
        },
        {
         "alignmentgroup": "True",
         "hoverlabel": {
          "namelength": 0
         },
         "hovertemplate": "state=%{x}<br>year=2016<br>month=Março<br>number=%{y}",
         "legendgroup": "state=Bahia",
         "marker": {
          "color": "#FFA15A"
         },
         "name": "state=Bahia",
         "offsetgroup": "state=Bahia",
         "orientation": "v",
         "showlegend": false,
         "textposition": "auto",
         "type": "bar",
         "x": [
          "Bahia"
         ],
         "xaxis": "x15",
         "y": [
          281
         ],
         "yaxis": "y15"
        },
        {
         "alignmentgroup": "True",
         "hoverlabel": {
          "namelength": 0
         },
         "hovertemplate": "state=%{x}<br>year=2016<br>month=Abril<br>number=%{y}",
         "legendgroup": "state=Bahia",
         "marker": {
          "color": "#FFA15A"
         },
         "name": "state=Bahia",
         "offsetgroup": "state=Bahia",
         "orientation": "v",
         "showlegend": false,
         "textposition": "auto",
         "type": "bar",
         "x": [
          "Bahia"
         ],
         "xaxis": "x16",
         "y": [
          217
         ],
         "yaxis": "y16"
        },
        {
         "alignmentgroup": "True",
         "hoverlabel": {
          "namelength": 0
         },
         "hovertemplate": "state=%{x}<br>year=2016<br>month=Maio<br>number=%{y}",
         "legendgroup": "state=Bahia",
         "marker": {
          "color": "#FFA15A"
         },
         "name": "state=Bahia",
         "offsetgroup": "state=Bahia",
         "orientation": "v",
         "showlegend": false,
         "textposition": "auto",
         "type": "bar",
         "x": [
          "Bahia"
         ],
         "xaxis": "x17",
         "y": [
          259
         ],
         "yaxis": "y17"
        },
        {
         "alignmentgroup": "True",
         "hoverlabel": {
          "namelength": 0
         },
         "hovertemplate": "state=%{x}<br>year=2016<br>month=Junho<br>number=%{y}",
         "legendgroup": "state=Bahia",
         "marker": {
          "color": "#FFA15A"
         },
         "name": "state=Bahia",
         "offsetgroup": "state=Bahia",
         "orientation": "v",
         "showlegend": false,
         "textposition": "auto",
         "type": "bar",
         "x": [
          "Bahia"
         ],
         "xaxis": "x18",
         "y": [
          416
         ],
         "yaxis": "y18"
        },
        {
         "alignmentgroup": "True",
         "hoverlabel": {
          "namelength": 0
         },
         "hovertemplate": "state=%{x}<br>year=2016<br>month=Julho<br>number=%{y}",
         "legendgroup": "state=Bahia",
         "marker": {
          "color": "#FFA15A"
         },
         "name": "state=Bahia",
         "offsetgroup": "state=Bahia",
         "orientation": "v",
         "showlegend": false,
         "textposition": "auto",
         "type": "bar",
         "x": [
          "Bahia"
         ],
         "xaxis": "x19",
         "y": [
          345
         ],
         "yaxis": "y19"
        },
        {
         "alignmentgroup": "True",
         "hoverlabel": {
          "namelength": 0
         },
         "hovertemplate": "state=%{x}<br>year=2016<br>month=Agosto<br>number=%{y}",
         "legendgroup": "state=Bahia",
         "marker": {
          "color": "#FFA15A"
         },
         "name": "state=Bahia",
         "offsetgroup": "state=Bahia",
         "orientation": "v",
         "showlegend": false,
         "textposition": "auto",
         "type": "bar",
         "x": [
          "Bahia"
         ],
         "xaxis": "x20",
         "y": [
          724
         ],
         "yaxis": "y20"
        },
        {
         "alignmentgroup": "True",
         "hoverlabel": {
          "namelength": 0
         },
         "hovertemplate": "state=%{x}<br>year=2016<br>month=Setembro<br>number=%{y}",
         "legendgroup": "state=Bahia",
         "marker": {
          "color": "#FFA15A"
         },
         "name": "state=Bahia",
         "offsetgroup": "state=Bahia",
         "orientation": "v",
         "showlegend": false,
         "textposition": "auto",
         "type": "bar",
         "x": [
          "Bahia"
         ],
         "xaxis": "x21",
         "y": [
          1.819
         ],
         "yaxis": "y21"
        },
        {
         "alignmentgroup": "True",
         "hoverlabel": {
          "namelength": 0
         },
         "hovertemplate": "state=%{x}<br>year=2016<br>month=Outubro<br>number=%{y}",
         "legendgroup": "state=Bahia",
         "marker": {
          "color": "#FFA15A"
         },
         "name": "state=Bahia",
         "offsetgroup": "state=Bahia",
         "orientation": "v",
         "showlegend": false,
         "textposition": "auto",
         "type": "bar",
         "x": [
          "Bahia"
         ],
         "xaxis": "x22",
         "y": [
          1.415
         ],
         "yaxis": "y22"
        },
        {
         "alignmentgroup": "True",
         "hoverlabel": {
          "namelength": 0
         },
         "hovertemplate": "state=%{x}<br>year=2016<br>month=Novembro<br>number=%{y}",
         "legendgroup": "state=Bahia",
         "marker": {
          "color": "#FFA15A"
         },
         "name": "state=Bahia",
         "offsetgroup": "state=Bahia",
         "orientation": "v",
         "showlegend": false,
         "textposition": "auto",
         "type": "bar",
         "x": [
          "Bahia"
         ],
         "xaxis": "x23",
         "y": [
          408
         ],
         "yaxis": "y23"
        },
        {
         "alignmentgroup": "True",
         "hoverlabel": {
          "namelength": 0
         },
         "hovertemplate": "state=%{x}<br>year=2016<br>month=Dezembro<br>number=%{y}",
         "legendgroup": "state=Bahia",
         "marker": {
          "color": "#FFA15A"
         },
         "name": "state=Bahia",
         "offsetgroup": "state=Bahia",
         "orientation": "v",
         "showlegend": false,
         "textposition": "auto",
         "type": "bar",
         "x": [
          "Bahia"
         ],
         "xaxis": "x24",
         "y": [
          164
         ],
         "yaxis": "y24"
        },
        {
         "alignmentgroup": "True",
         "hoverlabel": {
          "namelength": 0
         },
         "hovertemplate": "state=%{x}<br>year=2017<br>month=Janeiro<br>number=%{y}",
         "legendgroup": "state=Bahia",
         "marker": {
          "color": "#FFA15A"
         },
         "name": "state=Bahia",
         "offsetgroup": "state=Bahia",
         "orientation": "v",
         "showlegend": false,
         "textposition": "auto",
         "type": "bar",
         "x": [
          "Bahia"
         ],
         "xaxis": "x",
         "y": [
          154
         ],
         "yaxis": "y"
        },
        {
         "alignmentgroup": "True",
         "hoverlabel": {
          "namelength": 0
         },
         "hovertemplate": "state=%{x}<br>year=2017<br>month=Fevereiro<br>number=%{y}",
         "legendgroup": "state=Bahia",
         "marker": {
          "color": "#FFA15A"
         },
         "name": "state=Bahia",
         "offsetgroup": "state=Bahia",
         "orientation": "v",
         "showlegend": false,
         "textposition": "auto",
         "type": "bar",
         "x": [
          "Bahia"
         ],
         "xaxis": "x2",
         "y": [
          100
         ],
         "yaxis": "y2"
        },
        {
         "alignmentgroup": "True",
         "hoverlabel": {
          "namelength": 0
         },
         "hovertemplate": "state=%{x}<br>year=2017<br>month=Março<br>number=%{y}",
         "legendgroup": "state=Bahia",
         "marker": {
          "color": "#FFA15A"
         },
         "name": "state=Bahia",
         "offsetgroup": "state=Bahia",
         "orientation": "v",
         "showlegend": false,
         "textposition": "auto",
         "type": "bar",
         "x": [
          "Bahia"
         ],
         "xaxis": "x3",
         "y": [
          163
         ],
         "yaxis": "y3"
        },
        {
         "alignmentgroup": "True",
         "hoverlabel": {
          "namelength": 0
         },
         "hovertemplate": "state=%{x}<br>year=2017<br>month=Abril<br>number=%{y}",
         "legendgroup": "state=Bahia",
         "marker": {
          "color": "#FFA15A"
         },
         "name": "state=Bahia",
         "offsetgroup": "state=Bahia",
         "orientation": "v",
         "showlegend": false,
         "textposition": "auto",
         "type": "bar",
         "x": [
          "Bahia"
         ],
         "xaxis": "x4",
         "y": [
          94
         ],
         "yaxis": "y4"
        },
        {
         "alignmentgroup": "True",
         "hoverlabel": {
          "namelength": 0
         },
         "hovertemplate": "state=%{x}<br>year=2017<br>month=Maio<br>number=%{y}",
         "legendgroup": "state=Bahia",
         "marker": {
          "color": "#FFA15A"
         },
         "name": "state=Bahia",
         "offsetgroup": "state=Bahia",
         "orientation": "v",
         "showlegend": false,
         "textposition": "auto",
         "type": "bar",
         "x": [
          "Bahia"
         ],
         "xaxis": "x5",
         "y": [
          121
         ],
         "yaxis": "y5"
        },
        {
         "alignmentgroup": "True",
         "hoverlabel": {
          "namelength": 0
         },
         "hovertemplate": "state=%{x}<br>year=2017<br>month=Junho<br>number=%{y}",
         "legendgroup": "state=Bahia",
         "marker": {
          "color": "#FFA15A"
         },
         "name": "state=Bahia",
         "offsetgroup": "state=Bahia",
         "orientation": "v",
         "showlegend": false,
         "textposition": "auto",
         "type": "bar",
         "x": [
          "Bahia"
         ],
         "xaxis": "x6",
         "y": [
          329
         ],
         "yaxis": "y6"
        },
        {
         "alignmentgroup": "True",
         "hoverlabel": {
          "namelength": 0
         },
         "hovertemplate": "state=%{x}<br>year=2017<br>month=Julho<br>number=%{y}",
         "legendgroup": "state=Bahia",
         "marker": {
          "color": "#FFA15A"
         },
         "name": "state=Bahia",
         "offsetgroup": "state=Bahia",
         "orientation": "v",
         "showlegend": false,
         "textposition": "auto",
         "type": "bar",
         "x": [
          "Bahia"
         ],
         "xaxis": "x7",
         "y": [
          300
         ],
         "yaxis": "y7"
        },
        {
         "alignmentgroup": "True",
         "hoverlabel": {
          "namelength": 0
         },
         "hovertemplate": "state=%{x}<br>year=2017<br>month=Agosto<br>number=%{y}",
         "legendgroup": "state=Bahia",
         "marker": {
          "color": "#FFA15A"
         },
         "name": "state=Bahia",
         "offsetgroup": "state=Bahia",
         "orientation": "v",
         "showlegend": false,
         "textposition": "auto",
         "type": "bar",
         "x": [
          "Bahia"
         ],
         "xaxis": "x8",
         "y": [
          1.018
         ],
         "yaxis": "y8"
        },
        {
         "alignmentgroup": "True",
         "hoverlabel": {
          "namelength": 0
         },
         "hovertemplate": "state=%{x}<br>year=2017<br>month=Setembro<br>number=%{y}",
         "legendgroup": "state=Bahia",
         "marker": {
          "color": "#FFA15A"
         },
         "name": "state=Bahia",
         "offsetgroup": "state=Bahia",
         "orientation": "v",
         "showlegend": false,
         "textposition": "auto",
         "type": "bar",
         "x": [
          "Bahia"
         ],
         "xaxis": "x9",
         "y": [
          1.791
         ],
         "yaxis": "y9"
        },
        {
         "alignmentgroup": "True",
         "hoverlabel": {
          "namelength": 0
         },
         "hovertemplate": "state=%{x}<br>year=2017<br>month=Outubro<br>number=%{y}",
         "legendgroup": "state=Bahia",
         "marker": {
          "color": "#FFA15A"
         },
         "name": "state=Bahia",
         "offsetgroup": "state=Bahia",
         "orientation": "v",
         "showlegend": false,
         "textposition": "auto",
         "type": "bar",
         "x": [
          "Bahia"
         ],
         "xaxis": "x10",
         "y": [
          4.005
         ],
         "yaxis": "y10"
        },
        {
         "alignmentgroup": "True",
         "hoverlabel": {
          "namelength": 0
         },
         "hovertemplate": "state=%{x}<br>year=2017<br>month=Novembro<br>number=%{y}",
         "legendgroup": "state=Bahia",
         "marker": {
          "color": "#FFA15A"
         },
         "name": "state=Bahia",
         "offsetgroup": "state=Bahia",
         "orientation": "v",
         "showlegend": false,
         "textposition": "auto",
         "type": "bar",
         "x": [
          "Bahia"
         ],
         "xaxis": "x11",
         "y": [
          174
         ],
         "yaxis": "y11"
        },
        {
         "alignmentgroup": "True",
         "hoverlabel": {
          "namelength": 0
         },
         "hovertemplate": "state=%{x}<br>year=2016<br>month=Janeiro<br>number=%{y}",
         "legendgroup": "state=Ceara",
         "marker": {
          "color": "#19d3f3"
         },
         "name": "state=Ceara",
         "offsetgroup": "state=Ceara",
         "orientation": "v",
         "showlegend": true,
         "textposition": "auto",
         "type": "bar",
         "x": [
          "Ceara"
         ],
         "xaxis": "x13",
         "y": [
          100
         ],
         "yaxis": "y13"
        },
        {
         "alignmentgroup": "True",
         "hoverlabel": {
          "namelength": 0
         },
         "hovertemplate": "state=%{x}<br>year=2016<br>month=Fevereiro<br>number=%{y}",
         "legendgroup": "state=Ceara",
         "marker": {
          "color": "#19d3f3"
         },
         "name": "state=Ceara",
         "offsetgroup": "state=Ceara",
         "orientation": "v",
         "showlegend": false,
         "textposition": "auto",
         "type": "bar",
         "x": [
          "Ceara"
         ],
         "xaxis": "x14",
         "y": [
          13
         ],
         "yaxis": "y14"
        },
        {
         "alignmentgroup": "True",
         "hoverlabel": {
          "namelength": 0
         },
         "hovertemplate": "state=%{x}<br>year=2016<br>month=Março<br>number=%{y}",
         "legendgroup": "state=Ceara",
         "marker": {
          "color": "#19d3f3"
         },
         "name": "state=Ceara",
         "offsetgroup": "state=Ceara",
         "orientation": "v",
         "showlegend": false,
         "textposition": "auto",
         "type": "bar",
         "x": [
          "Ceara"
         ],
         "xaxis": "x15",
         "y": [
          4
         ],
         "yaxis": "y15"
        },
        {
         "alignmentgroup": "True",
         "hoverlabel": {
          "namelength": 0
         },
         "hovertemplate": "state=%{x}<br>year=2016<br>month=Abril<br>number=%{y}",
         "legendgroup": "state=Ceara",
         "marker": {
          "color": "#19d3f3"
         },
         "name": "state=Ceara",
         "offsetgroup": "state=Ceara",
         "orientation": "v",
         "showlegend": false,
         "textposition": "auto",
         "type": "bar",
         "x": [
          "Ceara"
         ],
         "xaxis": "x16",
         "y": [
          10
         ],
         "yaxis": "y16"
        },
        {
         "alignmentgroup": "True",
         "hoverlabel": {
          "namelength": 0
         },
         "hovertemplate": "state=%{x}<br>year=2016<br>month=Maio<br>number=%{y}",
         "legendgroup": "state=Ceara",
         "marker": {
          "color": "#19d3f3"
         },
         "name": "state=Ceara",
         "offsetgroup": "state=Ceara",
         "orientation": "v",
         "showlegend": false,
         "textposition": "auto",
         "type": "bar",
         "x": [
          "Ceara"
         ],
         "xaxis": "x17",
         "y": [
          8
         ],
         "yaxis": "y17"
        },
        {
         "alignmentgroup": "True",
         "hoverlabel": {
          "namelength": 0
         },
         "hovertemplate": "state=%{x}<br>year=2016<br>month=Junho<br>number=%{y}",
         "legendgroup": "state=Ceara",
         "marker": {
          "color": "#19d3f3"
         },
         "name": "state=Ceara",
         "offsetgroup": "state=Ceara",
         "orientation": "v",
         "showlegend": false,
         "textposition": "auto",
         "type": "bar",
         "x": [
          "Ceara"
         ],
         "xaxis": "x18",
         "y": [
          45
         ],
         "yaxis": "y18"
        },
        {
         "alignmentgroup": "True",
         "hoverlabel": {
          "namelength": 0
         },
         "hovertemplate": "state=%{x}<br>year=2016<br>month=Julho<br>number=%{y}",
         "legendgroup": "state=Ceara",
         "marker": {
          "color": "#19d3f3"
         },
         "name": "state=Ceara",
         "offsetgroup": "state=Ceara",
         "orientation": "v",
         "showlegend": false,
         "textposition": "auto",
         "type": "bar",
         "x": [
          "Ceara"
         ],
         "xaxis": "x19",
         "y": [
          124
         ],
         "yaxis": "y19"
        },
        {
         "alignmentgroup": "True",
         "hoverlabel": {
          "namelength": 0
         },
         "hovertemplate": "state=%{x}<br>year=2016<br>month=Agosto<br>number=%{y}",
         "legendgroup": "state=Ceara",
         "marker": {
          "color": "#19d3f3"
         },
         "name": "state=Ceara",
         "offsetgroup": "state=Ceara",
         "orientation": "v",
         "showlegend": false,
         "textposition": "auto",
         "type": "bar",
         "x": [
          "Ceara"
         ],
         "xaxis": "x20",
         "y": [
          293
         ],
         "yaxis": "y20"
        },
        {
         "alignmentgroup": "True",
         "hoverlabel": {
          "namelength": 0
         },
         "hovertemplate": "state=%{x}<br>year=2016<br>month=Setembro<br>number=%{y}",
         "legendgroup": "state=Ceara",
         "marker": {
          "color": "#19d3f3"
         },
         "name": "state=Ceara",
         "offsetgroup": "state=Ceara",
         "orientation": "v",
         "showlegend": false,
         "textposition": "auto",
         "type": "bar",
         "x": [
          "Ceara"
         ],
         "xaxis": "x21",
         "y": [
          370
         ],
         "yaxis": "y21"
        },
        {
         "alignmentgroup": "True",
         "hoverlabel": {
          "namelength": 0
         },
         "hovertemplate": "state=%{x}<br>year=2016<br>month=Outubro<br>number=%{y}",
         "legendgroup": "state=Ceara",
         "marker": {
          "color": "#19d3f3"
         },
         "name": "state=Ceara",
         "offsetgroup": "state=Ceara",
         "orientation": "v",
         "showlegend": false,
         "textposition": "auto",
         "type": "bar",
         "x": [
          "Ceara"
         ],
         "xaxis": "x22",
         "y": [
          1.31
         ],
         "yaxis": "y22"
        },
        {
         "alignmentgroup": "True",
         "hoverlabel": {
          "namelength": 0
         },
         "hovertemplate": "state=%{x}<br>year=2016<br>month=Novembro<br>number=%{y}",
         "legendgroup": "state=Ceara",
         "marker": {
          "color": "#19d3f3"
         },
         "name": "state=Ceara",
         "offsetgroup": "state=Ceara",
         "orientation": "v",
         "showlegend": false,
         "textposition": "auto",
         "type": "bar",
         "x": [
          "Ceara"
         ],
         "xaxis": "x23",
         "y": [
          1.328
         ],
         "yaxis": "y23"
        },
        {
         "alignmentgroup": "True",
         "hoverlabel": {
          "namelength": 0
         },
         "hovertemplate": "state=%{x}<br>year=2016<br>month=Dezembro<br>number=%{y}",
         "legendgroup": "state=Ceara",
         "marker": {
          "color": "#19d3f3"
         },
         "name": "state=Ceara",
         "offsetgroup": "state=Ceara",
         "orientation": "v",
         "showlegend": false,
         "textposition": "auto",
         "type": "bar",
         "x": [
          "Ceara"
         ],
         "xaxis": "x24",
         "y": [
          819
         ],
         "yaxis": "y24"
        },
        {
         "alignmentgroup": "True",
         "hoverlabel": {
          "namelength": 0
         },
         "hovertemplate": "state=%{x}<br>year=2017<br>month=Janeiro<br>number=%{y}",
         "legendgroup": "state=Ceara",
         "marker": {
          "color": "#19d3f3"
         },
         "name": "state=Ceara",
         "offsetgroup": "state=Ceara",
         "orientation": "v",
         "showlegend": false,
         "textposition": "auto",
         "type": "bar",
         "x": [
          "Ceara"
         ],
         "xaxis": "x",
         "y": [
          91
         ],
         "yaxis": "y"
        },
        {
         "alignmentgroup": "True",
         "hoverlabel": {
          "namelength": 0
         },
         "hovertemplate": "state=%{x}<br>year=2017<br>month=Fevereiro<br>number=%{y}",
         "legendgroup": "state=Ceara",
         "marker": {
          "color": "#19d3f3"
         },
         "name": "state=Ceara",
         "offsetgroup": "state=Ceara",
         "orientation": "v",
         "showlegend": false,
         "textposition": "auto",
         "type": "bar",
         "x": [
          "Ceara"
         ],
         "xaxis": "x2",
         "y": [
          9
         ],
         "yaxis": "y2"
        },
        {
         "alignmentgroup": "True",
         "hoverlabel": {
          "namelength": 0
         },
         "hovertemplate": "state=%{x}<br>year=2017<br>month=Março<br>number=%{y}",
         "legendgroup": "state=Ceara",
         "marker": {
          "color": "#19d3f3"
         },
         "name": "state=Ceara",
         "offsetgroup": "state=Ceara",
         "orientation": "v",
         "showlegend": false,
         "textposition": "auto",
         "type": "bar",
         "x": [
          "Ceara"
         ],
         "xaxis": "x3",
         "y": [
          4
         ],
         "yaxis": "y3"
        },
        {
         "alignmentgroup": "True",
         "hoverlabel": {
          "namelength": 0
         },
         "hovertemplate": "state=%{x}<br>year=2017<br>month=Abril<br>number=%{y}",
         "legendgroup": "state=Ceara",
         "marker": {
          "color": "#19d3f3"
         },
         "name": "state=Ceara",
         "offsetgroup": "state=Ceara",
         "orientation": "v",
         "showlegend": false,
         "textposition": "auto",
         "type": "bar",
         "x": [
          "Ceara"
         ],
         "xaxis": "x4",
         "y": [
          6
         ],
         "yaxis": "y4"
        },
        {
         "alignmentgroup": "True",
         "hoverlabel": {
          "namelength": 0
         },
         "hovertemplate": "state=%{x}<br>year=2017<br>month=Maio<br>number=%{y}",
         "legendgroup": "state=Ceara",
         "marker": {
          "color": "#19d3f3"
         },
         "name": "state=Ceara",
         "offsetgroup": "state=Ceara",
         "orientation": "v",
         "showlegend": false,
         "textposition": "auto",
         "type": "bar",
         "x": [
          "Ceara"
         ],
         "xaxis": "x5",
         "y": [
          9
         ],
         "yaxis": "y5"
        },
        {
         "alignmentgroup": "True",
         "hoverlabel": {
          "namelength": 0
         },
         "hovertemplate": "state=%{x}<br>year=2017<br>month=Junho<br>number=%{y}",
         "legendgroup": "state=Ceara",
         "marker": {
          "color": "#19d3f3"
         },
         "name": "state=Ceara",
         "offsetgroup": "state=Ceara",
         "orientation": "v",
         "showlegend": false,
         "textposition": "auto",
         "type": "bar",
         "x": [
          "Ceara"
         ],
         "xaxis": "x6",
         "y": [
          23
         ],
         "yaxis": "y6"
        },
        {
         "alignmentgroup": "True",
         "hoverlabel": {
          "namelength": 0
         },
         "hovertemplate": "state=%{x}<br>year=2017<br>month=Julho<br>number=%{y}",
         "legendgroup": "state=Ceara",
         "marker": {
          "color": "#19d3f3"
         },
         "name": "state=Ceara",
         "offsetgroup": "state=Ceara",
         "orientation": "v",
         "showlegend": false,
         "textposition": "auto",
         "type": "bar",
         "x": [
          "Ceara"
         ],
         "xaxis": "x7",
         "y": [
          26
         ],
         "yaxis": "y7"
        },
        {
         "alignmentgroup": "True",
         "hoverlabel": {
          "namelength": 0
         },
         "hovertemplate": "state=%{x}<br>year=2017<br>month=Agosto<br>number=%{y}",
         "legendgroup": "state=Ceara",
         "marker": {
          "color": "#19d3f3"
         },
         "name": "state=Ceara",
         "offsetgroup": "state=Ceara",
         "orientation": "v",
         "showlegend": false,
         "textposition": "auto",
         "type": "bar",
         "x": [
          "Ceara"
         ],
         "xaxis": "x8",
         "y": [
          121
         ],
         "yaxis": "y8"
        },
        {
         "alignmentgroup": "True",
         "hoverlabel": {
          "namelength": 0
         },
         "hovertemplate": "state=%{x}<br>year=2017<br>month=Setembro<br>number=%{y}",
         "legendgroup": "state=Ceara",
         "marker": {
          "color": "#19d3f3"
         },
         "name": "state=Ceara",
         "offsetgroup": "state=Ceara",
         "orientation": "v",
         "showlegend": false,
         "textposition": "auto",
         "type": "bar",
         "x": [
          "Ceara"
         ],
         "xaxis": "x9",
         "y": [
          505
         ],
         "yaxis": "y9"
        },
        {
         "alignmentgroup": "True",
         "hoverlabel": {
          "namelength": 0
         },
         "hovertemplate": "state=%{x}<br>year=2017<br>month=Outubro<br>number=%{y}",
         "legendgroup": "state=Ceara",
         "marker": {
          "color": "#19d3f3"
         },
         "name": "state=Ceara",
         "offsetgroup": "state=Ceara",
         "orientation": "v",
         "showlegend": false,
         "textposition": "auto",
         "type": "bar",
         "x": [
          "Ceara"
         ],
         "xaxis": "x10",
         "y": [
          949
         ],
         "yaxis": "y10"
        },
        {
         "alignmentgroup": "True",
         "hoverlabel": {
          "namelength": 0
         },
         "hovertemplate": "state=%{x}<br>year=2017<br>month=Novembro<br>number=%{y}",
         "legendgroup": "state=Ceara",
         "marker": {
          "color": "#19d3f3"
         },
         "name": "state=Ceara",
         "offsetgroup": "state=Ceara",
         "orientation": "v",
         "showlegend": false,
         "textposition": "auto",
         "type": "bar",
         "x": [
          "Ceara"
         ],
         "xaxis": "x11",
         "y": [
          812
         ],
         "yaxis": "y11"
        },
        {
         "alignmentgroup": "True",
         "hoverlabel": {
          "namelength": 0
         },
         "hovertemplate": "state=%{x}<br>year=2016<br>month=Janeiro<br>number=%{y}",
         "legendgroup": "state=Distrito Federal",
         "marker": {
          "color": "#FF6692"
         },
         "name": "state=Distrito Federal",
         "offsetgroup": "state=Distrito Federal",
         "orientation": "v",
         "showlegend": true,
         "textposition": "auto",
         "type": "bar",
         "x": [
          "Distrito Federal"
         ],
         "xaxis": "x13",
         "y": [
          1
         ],
         "yaxis": "y13"
        },
        {
         "alignmentgroup": "True",
         "hoverlabel": {
          "namelength": 0
         },
         "hovertemplate": "state=%{x}<br>year=2016<br>month=Fevereiro<br>number=%{y}",
         "legendgroup": "state=Distrito Federal",
         "marker": {
          "color": "#FF6692"
         },
         "name": "state=Distrito Federal",
         "offsetgroup": "state=Distrito Federal",
         "orientation": "v",
         "showlegend": false,
         "textposition": "auto",
         "type": "bar",
         "x": [
          "Distrito Federal"
         ],
         "xaxis": "x14",
         "y": [
          2
         ],
         "yaxis": "y14"
        },
        {
         "alignmentgroup": "True",
         "hoverlabel": {
          "namelength": 0
         },
         "hovertemplate": "state=%{x}<br>year=2016<br>month=Março<br>number=%{y}",
         "legendgroup": "state=Distrito Federal",
         "marker": {
          "color": "#FF6692"
         },
         "name": "state=Distrito Federal",
         "offsetgroup": "state=Distrito Federal",
         "orientation": "v",
         "showlegend": false,
         "textposition": "auto",
         "type": "bar",
         "x": [
          "Distrito Federal"
         ],
         "xaxis": "x15",
         "y": [
          1
         ],
         "yaxis": "y15"
        },
        {
         "alignmentgroup": "True",
         "hoverlabel": {
          "namelength": 0
         },
         "hovertemplate": "state=%{x}<br>year=2016<br>month=Abril<br>number=%{y}",
         "legendgroup": "state=Distrito Federal",
         "marker": {
          "color": "#FF6692"
         },
         "name": "state=Distrito Federal",
         "offsetgroup": "state=Distrito Federal",
         "orientation": "v",
         "showlegend": false,
         "textposition": "auto",
         "type": "bar",
         "x": [
          "Distrito Federal"
         ],
         "xaxis": "x16",
         "y": [
          5
         ],
         "yaxis": "y16"
        },
        {
         "alignmentgroup": "True",
         "hoverlabel": {
          "namelength": 0
         },
         "hovertemplate": "state=%{x}<br>year=2016<br>month=Maio<br>number=%{y}",
         "legendgroup": "state=Distrito Federal",
         "marker": {
          "color": "#FF6692"
         },
         "name": "state=Distrito Federal",
         "offsetgroup": "state=Distrito Federal",
         "orientation": "v",
         "showlegend": false,
         "textposition": "auto",
         "type": "bar",
         "x": [
          "Distrito Federal"
         ],
         "xaxis": "x17",
         "y": [
          15
         ],
         "yaxis": "y17"
        },
        {
         "alignmentgroup": "True",
         "hoverlabel": {
          "namelength": 0
         },
         "hovertemplate": "state=%{x}<br>year=2016<br>month=Junho<br>number=%{y}",
         "legendgroup": "state=Distrito Federal",
         "marker": {
          "color": "#FF6692"
         },
         "name": "state=Distrito Federal",
         "offsetgroup": "state=Distrito Federal",
         "orientation": "v",
         "showlegend": false,
         "textposition": "auto",
         "type": "bar",
         "x": [
          "Distrito Federal"
         ],
         "xaxis": "x18",
         "y": [
          42
         ],
         "yaxis": "y18"
        },
        {
         "alignmentgroup": "True",
         "hoverlabel": {
          "namelength": 0
         },
         "hovertemplate": "state=%{x}<br>year=2016<br>month=Julho<br>number=%{y}",
         "legendgroup": "state=Distrito Federal",
         "marker": {
          "color": "#FF6692"
         },
         "name": "state=Distrito Federal",
         "offsetgroup": "state=Distrito Federal",
         "orientation": "v",
         "showlegend": false,
         "textposition": "auto",
         "type": "bar",
         "x": [
          "Distrito Federal"
         ],
         "xaxis": "x19",
         "y": [
          79
         ],
         "yaxis": "y19"
        },
        {
         "alignmentgroup": "True",
         "hoverlabel": {
          "namelength": 0
         },
         "hovertemplate": "state=%{x}<br>year=2016<br>month=Agosto<br>number=%{y}",
         "legendgroup": "state=Distrito Federal",
         "marker": {
          "color": "#FF6692"
         },
         "name": "state=Distrito Federal",
         "offsetgroup": "state=Distrito Federal",
         "orientation": "v",
         "showlegend": false,
         "textposition": "auto",
         "type": "bar",
         "x": [
          "Distrito Federal"
         ],
         "xaxis": "x20",
         "y": [
          29
         ],
         "yaxis": "y20"
        },
        {
         "alignmentgroup": "True",
         "hoverlabel": {
          "namelength": 0
         },
         "hovertemplate": "state=%{x}<br>year=2016<br>month=Setembro<br>number=%{y}",
         "legendgroup": "state=Distrito Federal",
         "marker": {
          "color": "#FF6692"
         },
         "name": "state=Distrito Federal",
         "offsetgroup": "state=Distrito Federal",
         "orientation": "v",
         "showlegend": false,
         "textposition": "auto",
         "type": "bar",
         "x": [
          "Distrito Federal"
         ],
         "xaxis": "x21",
         "y": [
          58
         ],
         "yaxis": "y21"
        },
        {
         "alignmentgroup": "True",
         "hoverlabel": {
          "namelength": 0
         },
         "hovertemplate": "state=%{x}<br>year=2016<br>month=Outubro<br>number=%{y}",
         "legendgroup": "state=Distrito Federal",
         "marker": {
          "color": "#FF6692"
         },
         "name": "state=Distrito Federal",
         "offsetgroup": "state=Distrito Federal",
         "orientation": "v",
         "showlegend": false,
         "textposition": "auto",
         "type": "bar",
         "x": [
          "Distrito Federal"
         ],
         "xaxis": "x22",
         "y": [
          9
         ],
         "yaxis": "y22"
        },
        {
         "alignmentgroup": "True",
         "hoverlabel": {
          "namelength": 0
         },
         "hovertemplate": "state=%{x}<br>year=2016<br>month=Novembro<br>number=%{y}",
         "legendgroup": "state=Distrito Federal",
         "marker": {
          "color": "#FF6692"
         },
         "name": "state=Distrito Federal",
         "offsetgroup": "state=Distrito Federal",
         "orientation": "v",
         "showlegend": false,
         "textposition": "auto",
         "type": "bar",
         "x": [
          "Distrito Federal"
         ],
         "xaxis": "x23",
         "y": [
          1
         ],
         "yaxis": "y23"
        },
        {
         "alignmentgroup": "True",
         "hoverlabel": {
          "namelength": 0
         },
         "hovertemplate": "state=%{x}<br>year=2016<br>month=Dezembro<br>number=%{y}",
         "legendgroup": "state=Distrito Federal",
         "marker": {
          "color": "#FF6692"
         },
         "name": "state=Distrito Federal",
         "offsetgroup": "state=Distrito Federal",
         "orientation": "v",
         "showlegend": false,
         "textposition": "auto",
         "type": "bar",
         "x": [
          "Distrito Federal"
         ],
         "xaxis": "x24",
         "y": [
          0
         ],
         "yaxis": "y24"
        },
        {
         "alignmentgroup": "True",
         "hoverlabel": {
          "namelength": 0
         },
         "hovertemplate": "state=%{x}<br>year=2017<br>month=Janeiro<br>number=%{y}",
         "legendgroup": "state=Distrito Federal",
         "marker": {
          "color": "#FF6692"
         },
         "name": "state=Distrito Federal",
         "offsetgroup": "state=Distrito Federal",
         "orientation": "v",
         "showlegend": false,
         "textposition": "auto",
         "type": "bar",
         "x": [
          "Distrito Federal"
         ],
         "xaxis": "x",
         "y": [
          1
         ],
         "yaxis": "y"
        },
        {
         "alignmentgroup": "True",
         "hoverlabel": {
          "namelength": 0
         },
         "hovertemplate": "state=%{x}<br>year=2017<br>month=Fevereiro<br>number=%{y}",
         "legendgroup": "state=Distrito Federal",
         "marker": {
          "color": "#FF6692"
         },
         "name": "state=Distrito Federal",
         "offsetgroup": "state=Distrito Federal",
         "orientation": "v",
         "showlegend": false,
         "textposition": "auto",
         "type": "bar",
         "x": [
          "Distrito Federal"
         ],
         "xaxis": "x2",
         "y": [
          0
         ],
         "yaxis": "y2"
        },
        {
         "alignmentgroup": "True",
         "hoverlabel": {
          "namelength": 0
         },
         "hovertemplate": "state=%{x}<br>year=2017<br>month=Março<br>number=%{y}",
         "legendgroup": "state=Distrito Federal",
         "marker": {
          "color": "#FF6692"
         },
         "name": "state=Distrito Federal",
         "offsetgroup": "state=Distrito Federal",
         "orientation": "v",
         "showlegend": false,
         "textposition": "auto",
         "type": "bar",
         "x": [
          "Distrito Federal"
         ],
         "xaxis": "x3",
         "y": [
          0
         ],
         "yaxis": "y3"
        },
        {
         "alignmentgroup": "True",
         "hoverlabel": {
          "namelength": 0
         },
         "hovertemplate": "state=%{x}<br>year=2017<br>month=Abril<br>number=%{y}",
         "legendgroup": "state=Distrito Federal",
         "marker": {
          "color": "#FF6692"
         },
         "name": "state=Distrito Federal",
         "offsetgroup": "state=Distrito Federal",
         "orientation": "v",
         "showlegend": false,
         "textposition": "auto",
         "type": "bar",
         "x": [
          "Distrito Federal"
         ],
         "xaxis": "x4",
         "y": [
          1
         ],
         "yaxis": "y4"
        },
        {
         "alignmentgroup": "True",
         "hoverlabel": {
          "namelength": 0
         },
         "hovertemplate": "state=%{x}<br>year=2017<br>month=Maio<br>number=%{y}",
         "legendgroup": "state=Distrito Federal",
         "marker": {
          "color": "#FF6692"
         },
         "name": "state=Distrito Federal",
         "offsetgroup": "state=Distrito Federal",
         "orientation": "v",
         "showlegend": false,
         "textposition": "auto",
         "type": "bar",
         "x": [
          "Distrito Federal"
         ],
         "xaxis": "x5",
         "y": [
          6
         ],
         "yaxis": "y5"
        },
        {
         "alignmentgroup": "True",
         "hoverlabel": {
          "namelength": 0
         },
         "hovertemplate": "state=%{x}<br>year=2017<br>month=Junho<br>number=%{y}",
         "legendgroup": "state=Distrito Federal",
         "marker": {
          "color": "#FF6692"
         },
         "name": "state=Distrito Federal",
         "offsetgroup": "state=Distrito Federal",
         "orientation": "v",
         "showlegend": false,
         "textposition": "auto",
         "type": "bar",
         "x": [
          "Distrito Federal"
         ],
         "xaxis": "x6",
         "y": [
          23
         ],
         "yaxis": "y6"
        },
        {
         "alignmentgroup": "True",
         "hoverlabel": {
          "namelength": 0
         },
         "hovertemplate": "state=%{x}<br>year=2017<br>month=Julho<br>number=%{y}",
         "legendgroup": "state=Distrito Federal",
         "marker": {
          "color": "#FF6692"
         },
         "name": "state=Distrito Federal",
         "offsetgroup": "state=Distrito Federal",
         "orientation": "v",
         "showlegend": false,
         "textposition": "auto",
         "type": "bar",
         "x": [
          "Distrito Federal"
         ],
         "xaxis": "x7",
         "y": [
          44
         ],
         "yaxis": "y7"
        },
        {
         "alignmentgroup": "True",
         "hoverlabel": {
          "namelength": 0
         },
         "hovertemplate": "state=%{x}<br>year=2017<br>month=Agosto<br>number=%{y}",
         "legendgroup": "state=Distrito Federal",
         "marker": {
          "color": "#FF6692"
         },
         "name": "state=Distrito Federal",
         "offsetgroup": "state=Distrito Federal",
         "orientation": "v",
         "showlegend": false,
         "textposition": "auto",
         "type": "bar",
         "x": [
          "Distrito Federal"
         ],
         "xaxis": "x8",
         "y": [
          147
         ],
         "yaxis": "y8"
        },
        {
         "alignmentgroup": "True",
         "hoverlabel": {
          "namelength": 0
         },
         "hovertemplate": "state=%{x}<br>year=2017<br>month=Setembro<br>number=%{y}",
         "legendgroup": "state=Distrito Federal",
         "marker": {
          "color": "#FF6692"
         },
         "name": "state=Distrito Federal",
         "offsetgroup": "state=Distrito Federal",
         "orientation": "v",
         "showlegend": false,
         "textposition": "auto",
         "type": "bar",
         "x": [
          "Distrito Federal"
         ],
         "xaxis": "x9",
         "y": [
          122
         ],
         "yaxis": "y9"
        },
        {
         "alignmentgroup": "True",
         "hoverlabel": {
          "namelength": 0
         },
         "hovertemplate": "state=%{x}<br>year=2017<br>month=Outubro<br>number=%{y}",
         "legendgroup": "state=Distrito Federal",
         "marker": {
          "color": "#FF6692"
         },
         "name": "state=Distrito Federal",
         "offsetgroup": "state=Distrito Federal",
         "orientation": "v",
         "showlegend": false,
         "textposition": "auto",
         "type": "bar",
         "x": [
          "Distrito Federal"
         ],
         "xaxis": "x10",
         "y": [
          66
         ],
         "yaxis": "y10"
        },
        {
         "alignmentgroup": "True",
         "hoverlabel": {
          "namelength": 0
         },
         "hovertemplate": "state=%{x}<br>year=2017<br>month=Novembro<br>number=%{y}",
         "legendgroup": "state=Distrito Federal",
         "marker": {
          "color": "#FF6692"
         },
         "name": "state=Distrito Federal",
         "offsetgroup": "state=Distrito Federal",
         "orientation": "v",
         "showlegend": false,
         "textposition": "auto",
         "type": "bar",
         "x": [
          "Distrito Federal"
         ],
         "xaxis": "x11",
         "y": [
          0
         ],
         "yaxis": "y11"
        },
        {
         "alignmentgroup": "True",
         "hoverlabel": {
          "namelength": 0
         },
         "hovertemplate": "state=%{x}<br>year=2016<br>month=Janeiro<br>number=%{y}",
         "legendgroup": "state=Espirito Santo",
         "marker": {
          "color": "#B6E880"
         },
         "name": "state=Espirito Santo",
         "offsetgroup": "state=Espirito Santo",
         "orientation": "v",
         "showlegend": true,
         "textposition": "auto",
         "type": "bar",
         "x": [
          "Espirito Santo"
         ],
         "xaxis": "x13",
         "y": [
          43
         ],
         "yaxis": "y13"
        },
        {
         "alignmentgroup": "True",
         "hoverlabel": {
          "namelength": 0
         },
         "hovertemplate": "state=%{x}<br>year=2016<br>month=Fevereiro<br>number=%{y}",
         "legendgroup": "state=Espirito Santo",
         "marker": {
          "color": "#B6E880"
         },
         "name": "state=Espirito Santo",
         "offsetgroup": "state=Espirito Santo",
         "orientation": "v",
         "showlegend": false,
         "textposition": "auto",
         "type": "bar",
         "x": [
          "Espirito Santo"
         ],
         "xaxis": "x14",
         "y": [
          24
         ],
         "yaxis": "y14"
        },
        {
         "alignmentgroup": "True",
         "hoverlabel": {
          "namelength": 0
         },
         "hovertemplate": "state=%{x}<br>year=2016<br>month=Março<br>number=%{y}",
         "legendgroup": "state=Espirito Santo",
         "marker": {
          "color": "#B6E880"
         },
         "name": "state=Espirito Santo",
         "offsetgroup": "state=Espirito Santo",
         "orientation": "v",
         "showlegend": false,
         "textposition": "auto",
         "type": "bar",
         "x": [
          "Espirito Santo"
         ],
         "xaxis": "x15",
         "y": [
          107
         ],
         "yaxis": "y15"
        },
        {
         "alignmentgroup": "True",
         "hoverlabel": {
          "namelength": 0
         },
         "hovertemplate": "state=%{x}<br>year=2016<br>month=Abril<br>number=%{y}",
         "legendgroup": "state=Espirito Santo",
         "marker": {
          "color": "#B6E880"
         },
         "name": "state=Espirito Santo",
         "offsetgroup": "state=Espirito Santo",
         "orientation": "v",
         "showlegend": false,
         "textposition": "auto",
         "type": "bar",
         "x": [
          "Espirito Santo"
         ],
         "xaxis": "x16",
         "y": [
          57
         ],
         "yaxis": "y16"
        },
        {
         "alignmentgroup": "True",
         "hoverlabel": {
          "namelength": 0
         },
         "hovertemplate": "state=%{x}<br>year=2016<br>month=Maio<br>number=%{y}",
         "legendgroup": "state=Espirito Santo",
         "marker": {
          "color": "#B6E880"
         },
         "name": "state=Espirito Santo",
         "offsetgroup": "state=Espirito Santo",
         "orientation": "v",
         "showlegend": false,
         "textposition": "auto",
         "type": "bar",
         "x": [
          "Espirito Santo"
         ],
         "xaxis": "x17",
         "y": [
          48
         ],
         "yaxis": "y17"
        },
        {
         "alignmentgroup": "True",
         "hoverlabel": {
          "namelength": 0
         },
         "hovertemplate": "state=%{x}<br>year=2016<br>month=Junho<br>number=%{y}",
         "legendgroup": "state=Espirito Santo",
         "marker": {
          "color": "#B6E880"
         },
         "name": "state=Espirito Santo",
         "offsetgroup": "state=Espirito Santo",
         "orientation": "v",
         "showlegend": false,
         "textposition": "auto",
         "type": "bar",
         "x": [
          "Espirito Santo"
         ],
         "xaxis": "x18",
         "y": [
          49
         ],
         "yaxis": "y18"
        },
        {
         "alignmentgroup": "True",
         "hoverlabel": {
          "namelength": 0
         },
         "hovertemplate": "state=%{x}<br>year=2016<br>month=Julho<br>number=%{y}",
         "legendgroup": "state=Espirito Santo",
         "marker": {
          "color": "#B6E880"
         },
         "name": "state=Espirito Santo",
         "offsetgroup": "state=Espirito Santo",
         "orientation": "v",
         "showlegend": false,
         "textposition": "auto",
         "type": "bar",
         "x": [
          "Espirito Santo"
         ],
         "xaxis": "x19",
         "y": [
          42
         ],
         "yaxis": "y19"
        },
        {
         "alignmentgroup": "True",
         "hoverlabel": {
          "namelength": 0
         },
         "hovertemplate": "state=%{x}<br>year=2016<br>month=Agosto<br>number=%{y}",
         "legendgroup": "state=Espirito Santo",
         "marker": {
          "color": "#B6E880"
         },
         "name": "state=Espirito Santo",
         "offsetgroup": "state=Espirito Santo",
         "orientation": "v",
         "showlegend": false,
         "textposition": "auto",
         "type": "bar",
         "x": [
          "Espirito Santo"
         ],
         "xaxis": "x20",
         "y": [
          78
         ],
         "yaxis": "y20"
        },
        {
         "alignmentgroup": "True",
         "hoverlabel": {
          "namelength": 0
         },
         "hovertemplate": "state=%{x}<br>year=2016<br>month=Setembro<br>number=%{y}",
         "legendgroup": "state=Espirito Santo",
         "marker": {
          "color": "#B6E880"
         },
         "name": "state=Espirito Santo",
         "offsetgroup": "state=Espirito Santo",
         "orientation": "v",
         "showlegend": false,
         "textposition": "auto",
         "type": "bar",
         "x": [
          "Espirito Santo"
         ],
         "xaxis": "x21",
         "y": [
          128
         ],
         "yaxis": "y21"
        },
        {
         "alignmentgroup": "True",
         "hoverlabel": {
          "namelength": 0
         },
         "hovertemplate": "state=%{x}<br>year=2016<br>month=Outubro<br>number=%{y}",
         "legendgroup": "state=Espirito Santo",
         "marker": {
          "color": "#B6E880"
         },
         "name": "state=Espirito Santo",
         "offsetgroup": "state=Espirito Santo",
         "orientation": "v",
         "showlegend": false,
         "textposition": "auto",
         "type": "bar",
         "x": [
          "Espirito Santo"
         ],
         "xaxis": "x22",
         "y": [
          58
         ],
         "yaxis": "y22"
        },
        {
         "alignmentgroup": "True",
         "hoverlabel": {
          "namelength": 0
         },
         "hovertemplate": "state=%{x}<br>year=2016<br>month=Novembro<br>number=%{y}",
         "legendgroup": "state=Espirito Santo",
         "marker": {
          "color": "#B6E880"
         },
         "name": "state=Espirito Santo",
         "offsetgroup": "state=Espirito Santo",
         "orientation": "v",
         "showlegend": false,
         "textposition": "auto",
         "type": "bar",
         "x": [
          "Espirito Santo"
         ],
         "xaxis": "x23",
         "y": [
          8
         ],
         "yaxis": "y23"
        },
        {
         "alignmentgroup": "True",
         "hoverlabel": {
          "namelength": 0
         },
         "hovertemplate": "state=%{x}<br>year=2016<br>month=Dezembro<br>number=%{y}",
         "legendgroup": "state=Espirito Santo",
         "marker": {
          "color": "#B6E880"
         },
         "name": "state=Espirito Santo",
         "offsetgroup": "state=Espirito Santo",
         "orientation": "v",
         "showlegend": false,
         "textposition": "auto",
         "type": "bar",
         "x": [
          "Espirito Santo"
         ],
         "xaxis": "x24",
         "y": [
          12
         ],
         "yaxis": "y24"
        },
        {
         "alignmentgroup": "True",
         "hoverlabel": {
          "namelength": 0
         },
         "hovertemplate": "state=%{x}<br>year=2017<br>month=Janeiro<br>number=%{y}",
         "legendgroup": "state=Espirito Santo",
         "marker": {
          "color": "#B6E880"
         },
         "name": "state=Espirito Santo",
         "offsetgroup": "state=Espirito Santo",
         "orientation": "v",
         "showlegend": false,
         "textposition": "auto",
         "type": "bar",
         "x": [
          "Espirito Santo"
         ],
         "xaxis": "x",
         "y": [
          13
         ],
         "yaxis": "y"
        },
        {
         "alignmentgroup": "True",
         "hoverlabel": {
          "namelength": 0
         },
         "hovertemplate": "state=%{x}<br>year=2017<br>month=Fevereiro<br>number=%{y}",
         "legendgroup": "state=Espirito Santo",
         "marker": {
          "color": "#B6E880"
         },
         "name": "state=Espirito Santo",
         "offsetgroup": "state=Espirito Santo",
         "orientation": "v",
         "showlegend": false,
         "textposition": "auto",
         "type": "bar",
         "x": [
          "Espirito Santo"
         ],
         "xaxis": "x2",
         "y": [
          8
         ],
         "yaxis": "y2"
        },
        {
         "alignmentgroup": "True",
         "hoverlabel": {
          "namelength": 0
         },
         "hovertemplate": "state=%{x}<br>year=2017<br>month=Março<br>number=%{y}",
         "legendgroup": "state=Espirito Santo",
         "marker": {
          "color": "#B6E880"
         },
         "name": "state=Espirito Santo",
         "offsetgroup": "state=Espirito Santo",
         "orientation": "v",
         "showlegend": false,
         "textposition": "auto",
         "type": "bar",
         "x": [
          "Espirito Santo"
         ],
         "xaxis": "x3",
         "y": [
          9
         ],
         "yaxis": "y3"
        },
        {
         "alignmentgroup": "True",
         "hoverlabel": {
          "namelength": 0
         },
         "hovertemplate": "state=%{x}<br>year=2017<br>month=Abril<br>number=%{y}",
         "legendgroup": "state=Espirito Santo",
         "marker": {
          "color": "#B6E880"
         },
         "name": "state=Espirito Santo",
         "offsetgroup": "state=Espirito Santo",
         "orientation": "v",
         "showlegend": false,
         "textposition": "auto",
         "type": "bar",
         "x": [
          "Espirito Santo"
         ],
         "xaxis": "x4",
         "y": [
          7
         ],
         "yaxis": "y4"
        },
        {
         "alignmentgroup": "True",
         "hoverlabel": {
          "namelength": 0
         },
         "hovertemplate": "state=%{x}<br>year=2017<br>month=Maio<br>number=%{y}",
         "legendgroup": "state=Espirito Santo",
         "marker": {
          "color": "#B6E880"
         },
         "name": "state=Espirito Santo",
         "offsetgroup": "state=Espirito Santo",
         "orientation": "v",
         "showlegend": false,
         "textposition": "auto",
         "type": "bar",
         "x": [
          "Espirito Santo"
         ],
         "xaxis": "x5",
         "y": [
          10
         ],
         "yaxis": "y5"
        },
        {
         "alignmentgroup": "True",
         "hoverlabel": {
          "namelength": 0
         },
         "hovertemplate": "state=%{x}<br>year=2017<br>month=Junho<br>number=%{y}",
         "legendgroup": "state=Espirito Santo",
         "marker": {
          "color": "#B6E880"
         },
         "name": "state=Espirito Santo",
         "offsetgroup": "state=Espirito Santo",
         "orientation": "v",
         "showlegend": false,
         "textposition": "auto",
         "type": "bar",
         "x": [
          "Espirito Santo"
         ],
         "xaxis": "x6",
         "y": [
          37
         ],
         "yaxis": "y6"
        },
        {
         "alignmentgroup": "True",
         "hoverlabel": {
          "namelength": 0
         },
         "hovertemplate": "state=%{x}<br>year=2017<br>month=Julho<br>number=%{y}",
         "legendgroup": "state=Espirito Santo",
         "marker": {
          "color": "#B6E880"
         },
         "name": "state=Espirito Santo",
         "offsetgroup": "state=Espirito Santo",
         "orientation": "v",
         "showlegend": false,
         "textposition": "auto",
         "type": "bar",
         "x": [
          "Espirito Santo"
         ],
         "xaxis": "x7",
         "y": [
          3
         ],
         "yaxis": "y7"
        },
        {
         "alignmentgroup": "True",
         "hoverlabel": {
          "namelength": 0
         },
         "hovertemplate": "state=%{x}<br>year=2017<br>month=Agosto<br>number=%{y}",
         "legendgroup": "state=Espirito Santo",
         "marker": {
          "color": "#B6E880"
         },
         "name": "state=Espirito Santo",
         "offsetgroup": "state=Espirito Santo",
         "orientation": "v",
         "showlegend": false,
         "textposition": "auto",
         "type": "bar",
         "x": [
          "Espirito Santo"
         ],
         "xaxis": "x8",
         "y": [
          30
         ],
         "yaxis": "y8"
        },
        {
         "alignmentgroup": "True",
         "hoverlabel": {
          "namelength": 0
         },
         "hovertemplate": "state=%{x}<br>year=2017<br>month=Setembro<br>number=%{y}",
         "legendgroup": "state=Espirito Santo",
         "marker": {
          "color": "#B6E880"
         },
         "name": "state=Espirito Santo",
         "offsetgroup": "state=Espirito Santo",
         "orientation": "v",
         "showlegend": false,
         "textposition": "auto",
         "type": "bar",
         "x": [
          "Espirito Santo"
         ],
         "xaxis": "x9",
         "y": [
          58
         ],
         "yaxis": "y9"
        },
        {
         "alignmentgroup": "True",
         "hoverlabel": {
          "namelength": 0
         },
         "hovertemplate": "state=%{x}<br>year=2017<br>month=Outubro<br>number=%{y}",
         "legendgroup": "state=Espirito Santo",
         "marker": {
          "color": "#B6E880"
         },
         "name": "state=Espirito Santo",
         "offsetgroup": "state=Espirito Santo",
         "orientation": "v",
         "showlegend": false,
         "textposition": "auto",
         "type": "bar",
         "x": [
          "Espirito Santo"
         ],
         "xaxis": "x10",
         "y": [
          56
         ],
         "yaxis": "y10"
        },
        {
         "alignmentgroup": "True",
         "hoverlabel": {
          "namelength": 0
         },
         "hovertemplate": "state=%{x}<br>year=2017<br>month=Novembro<br>number=%{y}",
         "legendgroup": "state=Espirito Santo",
         "marker": {
          "color": "#B6E880"
         },
         "name": "state=Espirito Santo",
         "offsetgroup": "state=Espirito Santo",
         "orientation": "v",
         "showlegend": false,
         "textposition": "auto",
         "type": "bar",
         "x": [
          "Espirito Santo"
         ],
         "xaxis": "x11",
         "y": [
          3
         ],
         "yaxis": "y11"
        },
        {
         "alignmentgroup": "True",
         "hoverlabel": {
          "namelength": 0
         },
         "hovertemplate": "state=%{x}<br>year=2016<br>month=Janeiro<br>number=%{y}",
         "legendgroup": "state=Goias",
         "marker": {
          "color": "#FF97FF"
         },
         "name": "state=Goias",
         "offsetgroup": "state=Goias",
         "orientation": "v",
         "showlegend": true,
         "textposition": "auto",
         "type": "bar",
         "x": [
          "Goias"
         ],
         "xaxis": "x13",
         "y": [
          52
         ],
         "yaxis": "y13"
        },
        {
         "alignmentgroup": "True",
         "hoverlabel": {
          "namelength": 0
         },
         "hovertemplate": "state=%{x}<br>year=2016<br>month=Fevereiro<br>number=%{y}",
         "legendgroup": "state=Goias",
         "marker": {
          "color": "#FF97FF"
         },
         "name": "state=Goias",
         "offsetgroup": "state=Goias",
         "orientation": "v",
         "showlegend": false,
         "textposition": "auto",
         "type": "bar",
         "x": [
          "Goias"
         ],
         "xaxis": "x14",
         "y": [
          117
         ],
         "yaxis": "y14"
        },
        {
         "alignmentgroup": "True",
         "hoverlabel": {
          "namelength": 0
         },
         "hovertemplate": "state=%{x}<br>year=2016<br>month=Março<br>number=%{y}",
         "legendgroup": "state=Goias",
         "marker": {
          "color": "#FF97FF"
         },
         "name": "state=Goias",
         "offsetgroup": "state=Goias",
         "orientation": "v",
         "showlegend": false,
         "textposition": "auto",
         "type": "bar",
         "x": [
          "Goias"
         ],
         "xaxis": "x15",
         "y": [
          136
         ],
         "yaxis": "y15"
        },
        {
         "alignmentgroup": "True",
         "hoverlabel": {
          "namelength": 0
         },
         "hovertemplate": "state=%{x}<br>year=2016<br>month=Abril<br>number=%{y}",
         "legendgroup": "state=Goias",
         "marker": {
          "color": "#FF97FF"
         },
         "name": "state=Goias",
         "offsetgroup": "state=Goias",
         "orientation": "v",
         "showlegend": false,
         "textposition": "auto",
         "type": "bar",
         "x": [
          "Goias"
         ],
         "xaxis": "x16",
         "y": [
          167
         ],
         "yaxis": "y16"
        },
        {
         "alignmentgroup": "True",
         "hoverlabel": {
          "namelength": 0
         },
         "hovertemplate": "state=%{x}<br>year=2016<br>month=Maio<br>number=%{y}",
         "legendgroup": "state=Goias",
         "marker": {
          "color": "#FF97FF"
         },
         "name": "state=Goias",
         "offsetgroup": "state=Goias",
         "orientation": "v",
         "showlegend": false,
         "textposition": "auto",
         "type": "bar",
         "x": [
          "Goias"
         ],
         "xaxis": "x17",
         "y": [
          233
         ],
         "yaxis": "y17"
        },
        {
         "alignmentgroup": "True",
         "hoverlabel": {
          "namelength": 0
         },
         "hovertemplate": "state=%{x}<br>year=2016<br>month=Junho<br>number=%{y}",
         "legendgroup": "state=Goias",
         "marker": {
          "color": "#FF97FF"
         },
         "name": "state=Goias",
         "offsetgroup": "state=Goias",
         "orientation": "v",
         "showlegend": false,
         "textposition": "auto",
         "type": "bar",
         "x": [
          "Goias"
         ],
         "xaxis": "x18",
         "y": [
          289
         ],
         "yaxis": "y18"
        },
        {
         "alignmentgroup": "True",
         "hoverlabel": {
          "namelength": 0
         },
         "hovertemplate": "state=%{x}<br>year=2016<br>month=Julho<br>number=%{y}",
         "legendgroup": "state=Goias",
         "marker": {
          "color": "#FF97FF"
         },
         "name": "state=Goias",
         "offsetgroup": "state=Goias",
         "orientation": "v",
         "showlegend": false,
         "textposition": "auto",
         "type": "bar",
         "x": [
          "Goias"
         ],
         "xaxis": "x19",
         "y": [
          837
         ],
         "yaxis": "y19"
        },
        {
         "alignmentgroup": "True",
         "hoverlabel": {
          "namelength": 0
         },
         "hovertemplate": "state=%{x}<br>year=2016<br>month=Agosto<br>number=%{y}",
         "legendgroup": "state=Goias",
         "marker": {
          "color": "#FF97FF"
         },
         "name": "state=Goias",
         "offsetgroup": "state=Goias",
         "orientation": "v",
         "showlegend": false,
         "textposition": "auto",
         "type": "bar",
         "x": [
          "Goias"
         ],
         "xaxis": "x20",
         "y": [
          1.032
         ],
         "yaxis": "y20"
        },
        {
         "alignmentgroup": "True",
         "hoverlabel": {
          "namelength": 0
         },
         "hovertemplate": "state=%{x}<br>year=2016<br>month=Setembro<br>number=%{y}",
         "legendgroup": "state=Goias",
         "marker": {
          "color": "#FF97FF"
         },
         "name": "state=Goias",
         "offsetgroup": "state=Goias",
         "orientation": "v",
         "showlegend": false,
         "textposition": "auto",
         "type": "bar",
         "x": [
          "Goias"
         ],
         "xaxis": "x21",
         "y": [
          1.703
         ],
         "yaxis": "y21"
        },
        {
         "alignmentgroup": "True",
         "hoverlabel": {
          "namelength": 0
         },
         "hovertemplate": "state=%{x}<br>year=2016<br>month=Outubro<br>number=%{y}",
         "legendgroup": "state=Goias",
         "marker": {
          "color": "#FF97FF"
         },
         "name": "state=Goias",
         "offsetgroup": "state=Goias",
         "orientation": "v",
         "showlegend": false,
         "textposition": "auto",
         "type": "bar",
         "x": [
          "Goias"
         ],
         "xaxis": "x22",
         "y": [
          522
         ],
         "yaxis": "y22"
        },
        {
         "alignmentgroup": "True",
         "hoverlabel": {
          "namelength": 0
         },
         "hovertemplate": "state=%{x}<br>year=2016<br>month=Novembro<br>number=%{y}",
         "legendgroup": "state=Goias",
         "marker": {
          "color": "#FF97FF"
         },
         "name": "state=Goias",
         "offsetgroup": "state=Goias",
         "orientation": "v",
         "showlegend": false,
         "textposition": "auto",
         "type": "bar",
         "x": [
          "Goias"
         ],
         "xaxis": "x23",
         "y": [
          123
         ],
         "yaxis": "y23"
        },
        {
         "alignmentgroup": "True",
         "hoverlabel": {
          "namelength": 0
         },
         "hovertemplate": "state=%{x}<br>year=2016<br>month=Dezembro<br>number=%{y}",
         "legendgroup": "state=Goias",
         "marker": {
          "color": "#FF97FF"
         },
         "name": "state=Goias",
         "offsetgroup": "state=Goias",
         "orientation": "v",
         "showlegend": false,
         "textposition": "auto",
         "type": "bar",
         "x": [
          "Goias"
         ],
         "xaxis": "x24",
         "y": [
          64
         ],
         "yaxis": "y24"
        },
        {
         "alignmentgroup": "True",
         "hoverlabel": {
          "namelength": 0
         },
         "hovertemplate": "state=%{x}<br>year=2017<br>month=Janeiro<br>number=%{y}",
         "legendgroup": "state=Goias",
         "marker": {
          "color": "#FF97FF"
         },
         "name": "state=Goias",
         "offsetgroup": "state=Goias",
         "orientation": "v",
         "showlegend": false,
         "textposition": "auto",
         "type": "bar",
         "x": [
          "Goias"
         ],
         "xaxis": "x",
         "y": [
          53
         ],
         "yaxis": "y"
        },
        {
         "alignmentgroup": "True",
         "hoverlabel": {
          "namelength": 0
         },
         "hovertemplate": "state=%{x}<br>year=2017<br>month=Fevereiro<br>number=%{y}",
         "legendgroup": "state=Goias",
         "marker": {
          "color": "#FF97FF"
         },
         "name": "state=Goias",
         "offsetgroup": "state=Goias",
         "orientation": "v",
         "showlegend": false,
         "textposition": "auto",
         "type": "bar",
         "x": [
          "Goias"
         ],
         "xaxis": "x2",
         "y": [
          75
         ],
         "yaxis": "y2"
        },
        {
         "alignmentgroup": "True",
         "hoverlabel": {
          "namelength": 0
         },
         "hovertemplate": "state=%{x}<br>year=2017<br>month=Março<br>number=%{y}",
         "legendgroup": "state=Goias",
         "marker": {
          "color": "#FF97FF"
         },
         "name": "state=Goias",
         "offsetgroup": "state=Goias",
         "orientation": "v",
         "showlegend": false,
         "textposition": "auto",
         "type": "bar",
         "x": [
          "Goias"
         ],
         "xaxis": "x3",
         "y": [
          115
         ],
         "yaxis": "y3"
        },
        {
         "alignmentgroup": "True",
         "hoverlabel": {
          "namelength": 0
         },
         "hovertemplate": "state=%{x}<br>year=2017<br>month=Abril<br>number=%{y}",
         "legendgroup": "state=Goias",
         "marker": {
          "color": "#FF97FF"
         },
         "name": "state=Goias",
         "offsetgroup": "state=Goias",
         "orientation": "v",
         "showlegend": false,
         "textposition": "auto",
         "type": "bar",
         "x": [
          "Goias"
         ],
         "xaxis": "x4",
         "y": [
          60
         ],
         "yaxis": "y4"
        },
        {
         "alignmentgroup": "True",
         "hoverlabel": {
          "namelength": 0
         },
         "hovertemplate": "state=%{x}<br>year=2017<br>month=Maio<br>number=%{y}",
         "legendgroup": "state=Goias",
         "marker": {
          "color": "#FF97FF"
         },
         "name": "state=Goias",
         "offsetgroup": "state=Goias",
         "orientation": "v",
         "showlegend": false,
         "textposition": "auto",
         "type": "bar",
         "x": [
          "Goias"
         ],
         "xaxis": "x5",
         "y": [
          135
         ],
         "yaxis": "y5"
        },
        {
         "alignmentgroup": "True",
         "hoverlabel": {
          "namelength": 0
         },
         "hovertemplate": "state=%{x}<br>year=2017<br>month=Junho<br>number=%{y}",
         "legendgroup": "state=Goias",
         "marker": {
          "color": "#FF97FF"
         },
         "name": "state=Goias",
         "offsetgroup": "state=Goias",
         "orientation": "v",
         "showlegend": false,
         "textposition": "auto",
         "type": "bar",
         "x": [
          "Goias"
         ],
         "xaxis": "x6",
         "y": [
          442
         ],
         "yaxis": "y6"
        },
        {
         "alignmentgroup": "True",
         "hoverlabel": {
          "namelength": 0
         },
         "hovertemplate": "state=%{x}<br>year=2017<br>month=Julho<br>number=%{y}",
         "legendgroup": "state=Goias",
         "marker": {
          "color": "#FF97FF"
         },
         "name": "state=Goias",
         "offsetgroup": "state=Goias",
         "orientation": "v",
         "showlegend": false,
         "textposition": "auto",
         "type": "bar",
         "x": [
          "Goias"
         ],
         "xaxis": "x7",
         "y": [
          577
         ],
         "yaxis": "y7"
        },
        {
         "alignmentgroup": "True",
         "hoverlabel": {
          "namelength": 0
         },
         "hovertemplate": "state=%{x}<br>year=2017<br>month=Agosto<br>number=%{y}",
         "legendgroup": "state=Goias",
         "marker": {
          "color": "#FF97FF"
         },
         "name": "state=Goias",
         "offsetgroup": "state=Goias",
         "orientation": "v",
         "showlegend": false,
         "textposition": "auto",
         "type": "bar",
         "x": [
          "Goias"
         ],
         "xaxis": "x8",
         "y": [
          1.492
         ],
         "yaxis": "y8"
        },
        {
         "alignmentgroup": "True",
         "hoverlabel": {
          "namelength": 0
         },
         "hovertemplate": "state=%{x}<br>year=2017<br>month=Setembro<br>number=%{y}",
         "legendgroup": "state=Goias",
         "marker": {
          "color": "#FF97FF"
         },
         "name": "state=Goias",
         "offsetgroup": "state=Goias",
         "orientation": "v",
         "showlegend": false,
         "textposition": "auto",
         "type": "bar",
         "x": [
          "Goias"
         ],
         "xaxis": "x9",
         "y": [
          3.238
         ],
         "yaxis": "y9"
        },
        {
         "alignmentgroup": "True",
         "hoverlabel": {
          "namelength": 0
         },
         "hovertemplate": "state=%{x}<br>year=2017<br>month=Outubro<br>number=%{y}",
         "legendgroup": "state=Goias",
         "marker": {
          "color": "#FF97FF"
         },
         "name": "state=Goias",
         "offsetgroup": "state=Goias",
         "orientation": "v",
         "showlegend": false,
         "textposition": "auto",
         "type": "bar",
         "x": [
          "Goias"
         ],
         "xaxis": "x10",
         "y": [
          2.401
         ],
         "yaxis": "y10"
        },
        {
         "alignmentgroup": "True",
         "hoverlabel": {
          "namelength": 0
         },
         "hovertemplate": "state=%{x}<br>year=2017<br>month=Novembro<br>number=%{y}",
         "legendgroup": "state=Goias",
         "marker": {
          "color": "#FF97FF"
         },
         "name": "state=Goias",
         "offsetgroup": "state=Goias",
         "orientation": "v",
         "showlegend": false,
         "textposition": "auto",
         "type": "bar",
         "x": [
          "Goias"
         ],
         "xaxis": "x11",
         "y": [
          117
         ],
         "yaxis": "y11"
        },
        {
         "alignmentgroup": "True",
         "hoverlabel": {
          "namelength": 0
         },
         "hovertemplate": "state=%{x}<br>year=2016<br>month=Janeiro<br>number=%{y}",
         "legendgroup": "state=Maranhao",
         "marker": {
          "color": "#FECB52"
         },
         "name": "state=Maranhao",
         "offsetgroup": "state=Maranhao",
         "orientation": "v",
         "showlegend": true,
         "textposition": "auto",
         "type": "bar",
         "x": [
          "Maranhao"
         ],
         "xaxis": "x13",
         "y": [
          412
         ],
         "yaxis": "y13"
        },
        {
         "alignmentgroup": "True",
         "hoverlabel": {
          "namelength": 0
         },
         "hovertemplate": "state=%{x}<br>year=2016<br>month=Fevereiro<br>number=%{y}",
         "legendgroup": "state=Maranhao",
         "marker": {
          "color": "#FECB52"
         },
         "name": "state=Maranhao",
         "offsetgroup": "state=Maranhao",
         "orientation": "v",
         "showlegend": false,
         "textposition": "auto",
         "type": "bar",
         "x": [
          "Maranhao"
         ],
         "xaxis": "x14",
         "y": [
          318
         ],
         "yaxis": "y14"
        },
        {
         "alignmentgroup": "True",
         "hoverlabel": {
          "namelength": 0
         },
         "hovertemplate": "state=%{x}<br>year=2016<br>month=Março<br>number=%{y}",
         "legendgroup": "state=Maranhao",
         "marker": {
          "color": "#FECB52"
         },
         "name": "state=Maranhao",
         "offsetgroup": "state=Maranhao",
         "orientation": "v",
         "showlegend": false,
         "textposition": "auto",
         "type": "bar",
         "x": [
          "Maranhao"
         ],
         "xaxis": "x15",
         "y": [
          113
         ],
         "yaxis": "y15"
        },
        {
         "alignmentgroup": "True",
         "hoverlabel": {
          "namelength": 0
         },
         "hovertemplate": "state=%{x}<br>year=2016<br>month=Abril<br>number=%{y}",
         "legendgroup": "state=Maranhao",
         "marker": {
          "color": "#FECB52"
         },
         "name": "state=Maranhao",
         "offsetgroup": "state=Maranhao",
         "orientation": "v",
         "showlegend": false,
         "textposition": "auto",
         "type": "bar",
         "x": [
          "Maranhao"
         ],
         "xaxis": "x16",
         "y": [
          113
         ],
         "yaxis": "y16"
        },
        {
         "alignmentgroup": "True",
         "hoverlabel": {
          "namelength": 0
         },
         "hovertemplate": "state=%{x}<br>year=2016<br>month=Maio<br>number=%{y}",
         "legendgroup": "state=Maranhao",
         "marker": {
          "color": "#FECB52"
         },
         "name": "state=Maranhao",
         "offsetgroup": "state=Maranhao",
         "orientation": "v",
         "showlegend": false,
         "textposition": "auto",
         "type": "bar",
         "x": [
          "Maranhao"
         ],
         "xaxis": "x17",
         "y": [
          206
         ],
         "yaxis": "y17"
        },
        {
         "alignmentgroup": "True",
         "hoverlabel": {
          "namelength": 0
         },
         "hovertemplate": "state=%{x}<br>year=2016<br>month=Junho<br>number=%{y}",
         "legendgroup": "state=Maranhao",
         "marker": {
          "color": "#FECB52"
         },
         "name": "state=Maranhao",
         "offsetgroup": "state=Maranhao",
         "orientation": "v",
         "showlegend": false,
         "textposition": "auto",
         "type": "bar",
         "x": [
          "Maranhao"
         ],
         "xaxis": "x18",
         "y": [
          709
         ],
         "yaxis": "y18"
        },
        {
         "alignmentgroup": "True",
         "hoverlabel": {
          "namelength": 0
         },
         "hovertemplate": "state=%{x}<br>year=2016<br>month=Julho<br>number=%{y}",
         "legendgroup": "state=Maranhao",
         "marker": {
          "color": "#FECB52"
         },
         "name": "state=Maranhao",
         "offsetgroup": "state=Maranhao",
         "orientation": "v",
         "showlegend": false,
         "textposition": "auto",
         "type": "bar",
         "x": [
          "Maranhao"
         ],
         "xaxis": "x19",
         "y": [
          2.096
         ],
         "yaxis": "y19"
        },
        {
         "alignmentgroup": "True",
         "hoverlabel": {
          "namelength": 0
         },
         "hovertemplate": "state=%{x}<br>year=2016<br>month=Agosto<br>number=%{y}",
         "legendgroup": "state=Maranhao",
         "marker": {
          "color": "#FECB52"
         },
         "name": "state=Maranhao",
         "offsetgroup": "state=Maranhao",
         "orientation": "v",
         "showlegend": false,
         "textposition": "auto",
         "type": "bar",
         "x": [
          "Maranhao"
         ],
         "xaxis": "x20",
         "y": [
          3.7230000000000003
         ],
         "yaxis": "y20"
        },
        {
         "alignmentgroup": "True",
         "hoverlabel": {
          "namelength": 0
         },
         "hovertemplate": "state=%{x}<br>year=2016<br>month=Setembro<br>number=%{y}",
         "legendgroup": "state=Maranhao",
         "marker": {
          "color": "#FECB52"
         },
         "name": "state=Maranhao",
         "offsetgroup": "state=Maranhao",
         "orientation": "v",
         "showlegend": false,
         "textposition": "auto",
         "type": "bar",
         "x": [
          "Maranhao"
         ],
         "xaxis": "x21",
         "y": [
          3.1660000000000004
         ],
         "yaxis": "y21"
        },
        {
         "alignmentgroup": "True",
         "hoverlabel": {
          "namelength": 0
         },
         "hovertemplate": "state=%{x}<br>year=2016<br>month=Outubro<br>number=%{y}",
         "legendgroup": "state=Maranhao",
         "marker": {
          "color": "#FECB52"
         },
         "name": "state=Maranhao",
         "offsetgroup": "state=Maranhao",
         "orientation": "v",
         "showlegend": false,
         "textposition": "auto",
         "type": "bar",
         "x": [
          "Maranhao"
         ],
         "xaxis": "x22",
         "y": [
          5.351
         ],
         "yaxis": "y22"
        },
        {
         "alignmentgroup": "True",
         "hoverlabel": {
          "namelength": 0
         },
         "hovertemplate": "state=%{x}<br>year=2016<br>month=Novembro<br>number=%{y}",
         "legendgroup": "state=Maranhao",
         "marker": {
          "color": "#FECB52"
         },
         "name": "state=Maranhao",
         "offsetgroup": "state=Maranhao",
         "orientation": "v",
         "showlegend": false,
         "textposition": "auto",
         "type": "bar",
         "x": [
          "Maranhao"
         ],
         "xaxis": "x23",
         "y": [
          3.9819999999999998
         ],
         "yaxis": "y23"
        },
        {
         "alignmentgroup": "True",
         "hoverlabel": {
          "namelength": 0
         },
         "hovertemplate": "state=%{x}<br>year=2016<br>month=Dezembro<br>number=%{y}",
         "legendgroup": "state=Maranhao",
         "marker": {
          "color": "#FECB52"
         },
         "name": "state=Maranhao",
         "offsetgroup": "state=Maranhao",
         "orientation": "v",
         "showlegend": false,
         "textposition": "auto",
         "type": "bar",
         "x": [
          "Maranhao"
         ],
         "xaxis": "x24",
         "y": [
          1.577
         ],
         "yaxis": "y24"
        },
        {
         "alignmentgroup": "True",
         "hoverlabel": {
          "namelength": 0
         },
         "hovertemplate": "state=%{x}<br>year=2017<br>month=Janeiro<br>number=%{y}",
         "legendgroup": "state=Maranhao",
         "marker": {
          "color": "#FECB52"
         },
         "name": "state=Maranhao",
         "offsetgroup": "state=Maranhao",
         "orientation": "v",
         "showlegend": false,
         "textposition": "auto",
         "type": "bar",
         "x": [
          "Maranhao"
         ],
         "xaxis": "x",
         "y": [
          187
         ],
         "yaxis": "y"
        },
        {
         "alignmentgroup": "True",
         "hoverlabel": {
          "namelength": 0
         },
         "hovertemplate": "state=%{x}<br>year=2017<br>month=Fevereiro<br>number=%{y}",
         "legendgroup": "state=Maranhao",
         "marker": {
          "color": "#FECB52"
         },
         "name": "state=Maranhao",
         "offsetgroup": "state=Maranhao",
         "orientation": "v",
         "showlegend": false,
         "textposition": "auto",
         "type": "bar",
         "x": [
          "Maranhao"
         ],
         "xaxis": "x2",
         "y": [
          47
         ],
         "yaxis": "y2"
        },
        {
         "alignmentgroup": "True",
         "hoverlabel": {
          "namelength": 0
         },
         "hovertemplate": "state=%{x}<br>year=2017<br>month=Março<br>number=%{y}",
         "legendgroup": "state=Maranhao",
         "marker": {
          "color": "#FECB52"
         },
         "name": "state=Maranhao",
         "offsetgroup": "state=Maranhao",
         "orientation": "v",
         "showlegend": false,
         "textposition": "auto",
         "type": "bar",
         "x": [
          "Maranhao"
         ],
         "xaxis": "x3",
         "y": [
          32
         ],
         "yaxis": "y3"
        },
        {
         "alignmentgroup": "True",
         "hoverlabel": {
          "namelength": 0
         },
         "hovertemplate": "state=%{x}<br>year=2017<br>month=Abril<br>number=%{y}",
         "legendgroup": "state=Maranhao",
         "marker": {
          "color": "#FECB52"
         },
         "name": "state=Maranhao",
         "offsetgroup": "state=Maranhao",
         "orientation": "v",
         "showlegend": false,
         "textposition": "auto",
         "type": "bar",
         "x": [
          "Maranhao"
         ],
         "xaxis": "x4",
         "y": [
          91
         ],
         "yaxis": "y4"
        },
        {
         "alignmentgroup": "True",
         "hoverlabel": {
          "namelength": 0
         },
         "hovertemplate": "state=%{x}<br>year=2017<br>month=Maio<br>number=%{y}",
         "legendgroup": "state=Maranhao",
         "marker": {
          "color": "#FECB52"
         },
         "name": "state=Maranhao",
         "offsetgroup": "state=Maranhao",
         "orientation": "v",
         "showlegend": false,
         "textposition": "auto",
         "type": "bar",
         "x": [
          "Maranhao"
         ],
         "xaxis": "x5",
         "y": [
          142
         ],
         "yaxis": "y5"
        },
        {
         "alignmentgroup": "True",
         "hoverlabel": {
          "namelength": 0
         },
         "hovertemplate": "state=%{x}<br>year=2017<br>month=Junho<br>number=%{y}",
         "legendgroup": "state=Maranhao",
         "marker": {
          "color": "#FECB52"
         },
         "name": "state=Maranhao",
         "offsetgroup": "state=Maranhao",
         "orientation": "v",
         "showlegend": false,
         "textposition": "auto",
         "type": "bar",
         "x": [
          "Maranhao"
         ],
         "xaxis": "x6",
         "y": [
          885
         ],
         "yaxis": "y6"
        },
        {
         "alignmentgroup": "True",
         "hoverlabel": {
          "namelength": 0
         },
         "hovertemplate": "state=%{x}<br>year=2017<br>month=Julho<br>number=%{y}",
         "legendgroup": "state=Maranhao",
         "marker": {
          "color": "#FECB52"
         },
         "name": "state=Maranhao",
         "offsetgroup": "state=Maranhao",
         "orientation": "v",
         "showlegend": false,
         "textposition": "auto",
         "type": "bar",
         "x": [
          "Maranhao"
         ],
         "xaxis": "x7",
         "y": [
          2.521
         ],
         "yaxis": "y7"
        },
        {
         "alignmentgroup": "True",
         "hoverlabel": {
          "namelength": 0
         },
         "hovertemplate": "state=%{x}<br>year=2017<br>month=Agosto<br>number=%{y}",
         "legendgroup": "state=Maranhao",
         "marker": {
          "color": "#FECB52"
         },
         "name": "state=Maranhao",
         "offsetgroup": "state=Maranhao",
         "orientation": "v",
         "showlegend": false,
         "textposition": "auto",
         "type": "bar",
         "x": [
          "Maranhao"
         ],
         "xaxis": "x8",
         "y": [
          3.875
         ],
         "yaxis": "y8"
        },
        {
         "alignmentgroup": "True",
         "hoverlabel": {
          "namelength": 0
         },
         "hovertemplate": "state=%{x}<br>year=2017<br>month=Setembro<br>number=%{y}",
         "legendgroup": "state=Maranhao",
         "marker": {
          "color": "#FECB52"
         },
         "name": "state=Maranhao",
         "offsetgroup": "state=Maranhao",
         "orientation": "v",
         "showlegend": false,
         "textposition": "auto",
         "type": "bar",
         "x": [
          "Maranhao"
         ],
         "xaxis": "x9",
         "y": [
          14.825
         ],
         "yaxis": "y9"
        },
        {
         "alignmentgroup": "True",
         "hoverlabel": {
          "namelength": 0
         },
         "hovertemplate": "state=%{x}<br>year=2017<br>month=Outubro<br>number=%{y}",
         "legendgroup": "state=Maranhao",
         "marker": {
          "color": "#FECB52"
         },
         "name": "state=Maranhao",
         "offsetgroup": "state=Maranhao",
         "orientation": "v",
         "showlegend": false,
         "textposition": "auto",
         "type": "bar",
         "x": [
          "Maranhao"
         ],
         "xaxis": "x10",
         "y": [
          6.011
         ],
         "yaxis": "y10"
        },
        {
         "alignmentgroup": "True",
         "hoverlabel": {
          "namelength": 0
         },
         "hovertemplate": "state=%{x}<br>year=2017<br>month=Novembro<br>number=%{y}",
         "legendgroup": "state=Maranhao",
         "marker": {
          "color": "#FECB52"
         },
         "name": "state=Maranhao",
         "offsetgroup": "state=Maranhao",
         "orientation": "v",
         "showlegend": false,
         "textposition": "auto",
         "type": "bar",
         "x": [
          "Maranhao"
         ],
         "xaxis": "x11",
         "y": [
          2.3
         ],
         "yaxis": "y11"
        },
        {
         "alignmentgroup": "True",
         "hoverlabel": {
          "namelength": 0
         },
         "hovertemplate": "state=%{x}<br>year=2016<br>month=Janeiro<br>number=%{y}",
         "legendgroup": "state=Mato Grosso",
         "marker": {
          "color": "#636efa"
         },
         "name": "state=Mato Grosso",
         "offsetgroup": "state=Mato Grosso",
         "orientation": "v",
         "showlegend": true,
         "textposition": "auto",
         "type": "bar",
         "x": [
          "Mato Grosso",
          "Mato Grosso"
         ],
         "xaxis": "x13",
         "y": [
          374,
          127
         ],
         "yaxis": "y13"
        },
        {
         "alignmentgroup": "True",
         "hoverlabel": {
          "namelength": 0
         },
         "hovertemplate": "state=%{x}<br>year=2016<br>month=Fevereiro<br>number=%{y}",
         "legendgroup": "state=Mato Grosso",
         "marker": {
          "color": "#636efa"
         },
         "name": "state=Mato Grosso",
         "offsetgroup": "state=Mato Grosso",
         "orientation": "v",
         "showlegend": false,
         "textposition": "auto",
         "type": "bar",
         "x": [
          "Mato Grosso",
          "Mato Grosso"
         ],
         "xaxis": "x14",
         "y": [
          1.05,
          187
         ],
         "yaxis": "y14"
        },
        {
         "alignmentgroup": "True",
         "hoverlabel": {
          "namelength": 0
         },
         "hovertemplate": "state=%{x}<br>year=2016<br>month=Março<br>number=%{y}",
         "legendgroup": "state=Mato Grosso",
         "marker": {
          "color": "#636efa"
         },
         "name": "state=Mato Grosso",
         "offsetgroup": "state=Mato Grosso",
         "orientation": "v",
         "showlegend": false,
         "textposition": "auto",
         "type": "bar",
         "x": [
          "Mato Grosso",
          "Mato Grosso"
         ],
         "xaxis": "x15",
         "y": [
          1.085,
          143
         ],
         "yaxis": "y15"
        },
        {
         "alignmentgroup": "True",
         "hoverlabel": {
          "namelength": 0
         },
         "hovertemplate": "state=%{x}<br>year=2016<br>month=Abril<br>number=%{y}",
         "legendgroup": "state=Mato Grosso",
         "marker": {
          "color": "#636efa"
         },
         "name": "state=Mato Grosso",
         "offsetgroup": "state=Mato Grosso",
         "orientation": "v",
         "showlegend": false,
         "textposition": "auto",
         "type": "bar",
         "x": [
          "Mato Grosso",
          "Mato Grosso"
         ],
         "xaxis": "x16",
         "y": [
          1.77,
          161
         ],
         "yaxis": "y16"
        },
        {
         "alignmentgroup": "True",
         "hoverlabel": {
          "namelength": 0
         },
         "hovertemplate": "state=%{x}<br>year=2016<br>month=Maio<br>number=%{y}",
         "legendgroup": "state=Mato Grosso",
         "marker": {
          "color": "#636efa"
         },
         "name": "state=Mato Grosso",
         "offsetgroup": "state=Mato Grosso",
         "orientation": "v",
         "showlegend": false,
         "textposition": "auto",
         "type": "bar",
         "x": [
          "Mato Grosso",
          "Mato Grosso"
         ],
         "xaxis": "x17",
         "y": [
          1.081,
          97
         ],
         "yaxis": "y17"
        },
        {
         "alignmentgroup": "True",
         "hoverlabel": {
          "namelength": 0
         },
         "hovertemplate": "state=%{x}<br>year=2016<br>month=Junho<br>number=%{y}",
         "legendgroup": "state=Mato Grosso",
         "marker": {
          "color": "#636efa"
         },
         "name": "state=Mato Grosso",
         "offsetgroup": "state=Mato Grosso",
         "orientation": "v",
         "showlegend": false,
         "textposition": "auto",
         "type": "bar",
         "x": [
          "Mato Grosso",
          "Mato Grosso"
         ],
         "xaxis": "x18",
         "y": [
          1.4169999999999998,
          120
         ],
         "yaxis": "y18"
        },
        {
         "alignmentgroup": "True",
         "hoverlabel": {
          "namelength": 0
         },
         "hovertemplate": "state=%{x}<br>year=2016<br>month=Julho<br>number=%{y}",
         "legendgroup": "state=Mato Grosso",
         "marker": {
          "color": "#636efa"
         },
         "name": "state=Mato Grosso",
         "offsetgroup": "state=Mato Grosso",
         "orientation": "v",
         "showlegend": false,
         "textposition": "auto",
         "type": "bar",
         "x": [
          "Mato Grosso",
          "Mato Grosso"
         ],
         "xaxis": "x19",
         "y": [
          3.495,
          687
         ],
         "yaxis": "y19"
        },
        {
         "alignmentgroup": "True",
         "hoverlabel": {
          "namelength": 0
         },
         "hovertemplate": "state=%{x}<br>year=2016<br>month=Agosto<br>number=%{y}",
         "legendgroup": "state=Mato Grosso",
         "marker": {
          "color": "#636efa"
         },
         "name": "state=Mato Grosso",
         "offsetgroup": "state=Mato Grosso",
         "orientation": "v",
         "showlegend": false,
         "textposition": "auto",
         "type": "bar",
         "x": [
          "Mato Grosso",
          "Mato Grosso"
         ],
         "xaxis": "x20",
         "y": [
          6.228,
          1.4809999999999999
         ],
         "yaxis": "y20"
        },
        {
         "alignmentgroup": "True",
         "hoverlabel": {
          "namelength": 0
         },
         "hovertemplate": "state=%{x}<br>year=2016<br>month=Setembro<br>number=%{y}",
         "legendgroup": "state=Mato Grosso",
         "marker": {
          "color": "#636efa"
         },
         "name": "state=Mato Grosso",
         "offsetgroup": "state=Mato Grosso",
         "orientation": "v",
         "showlegend": false,
         "textposition": "auto",
         "type": "bar",
         "x": [
          "Mato Grosso",
          "Mato Grosso"
         ],
         "xaxis": "x21",
         "y": [
          8.98,
          2.383
         ],
         "yaxis": "y21"
        },
        {
         "alignmentgroup": "True",
         "hoverlabel": {
          "namelength": 0
         },
         "hovertemplate": "state=%{x}<br>year=2016<br>month=Outubro<br>number=%{y}",
         "legendgroup": "state=Mato Grosso",
         "marker": {
          "color": "#636efa"
         },
         "name": "state=Mato Grosso",
         "offsetgroup": "state=Mato Grosso",
         "orientation": "v",
         "showlegend": false,
         "textposition": "auto",
         "type": "bar",
         "x": [
          "Mato Grosso",
          "Mato Grosso"
         ],
         "xaxis": "x22",
         "y": [
          2.7489999999999997,
          1.2
         ],
         "yaxis": "y22"
        },
        {
         "alignmentgroup": "True",
         "hoverlabel": {
          "namelength": 0
         },
         "hovertemplate": "state=%{x}<br>year=2016<br>month=Novembro<br>number=%{y}",
         "legendgroup": "state=Mato Grosso",
         "marker": {
          "color": "#636efa"
         },
         "name": "state=Mato Grosso",
         "offsetgroup": "state=Mato Grosso",
         "orientation": "v",
         "showlegend": false,
         "textposition": "auto",
         "type": "bar",
         "x": [
          "Mato Grosso",
          "Mato Grosso"
         ],
         "xaxis": "x23",
         "y": [
          918,
          258
         ],
         "yaxis": "y23"
        },
        {
         "alignmentgroup": "True",
         "hoverlabel": {
          "namelength": 0
         },
         "hovertemplate": "state=%{x}<br>year=2016<br>month=Dezembro<br>number=%{y}",
         "legendgroup": "state=Mato Grosso",
         "marker": {
          "color": "#636efa"
         },
         "name": "state=Mato Grosso",
         "offsetgroup": "state=Mato Grosso",
         "orientation": "v",
         "showlegend": false,
         "textposition": "auto",
         "type": "bar",
         "x": [
          "Mato Grosso",
          "Mato Grosso"
         ],
         "xaxis": "x24",
         "y": [
          425,
          123
         ],
         "yaxis": "y24"
        },
        {
         "alignmentgroup": "True",
         "hoverlabel": {
          "namelength": 0
         },
         "hovertemplate": "state=%{x}<br>year=2017<br>month=Janeiro<br>number=%{y}",
         "legendgroup": "state=Mato Grosso",
         "marker": {
          "color": "#636efa"
         },
         "name": "state=Mato Grosso",
         "offsetgroup": "state=Mato Grosso",
         "orientation": "v",
         "showlegend": false,
         "textposition": "auto",
         "type": "bar",
         "x": [
          "Mato Grosso",
          "Mato Grosso"
         ],
         "xaxis": "x",
         "y": [
          482,
          355
         ],
         "yaxis": "y"
        },
        {
         "alignmentgroup": "True",
         "hoverlabel": {
          "namelength": 0
         },
         "hovertemplate": "state=%{x}<br>year=2017<br>month=Fevereiro<br>number=%{y}",
         "legendgroup": "state=Mato Grosso",
         "marker": {
          "color": "#636efa"
         },
         "name": "state=Mato Grosso",
         "offsetgroup": "state=Mato Grosso",
         "orientation": "v",
         "showlegend": false,
         "textposition": "auto",
         "type": "bar",
         "x": [
          "Mato Grosso",
          "Mato Grosso"
         ],
         "xaxis": "x2",
         "y": [
          337,
          165
         ],
         "yaxis": "y2"
        },
        {
         "alignmentgroup": "True",
         "hoverlabel": {
          "namelength": 0
         },
         "hovertemplate": "state=%{x}<br>year=2017<br>month=Março<br>number=%{y}",
         "legendgroup": "state=Mato Grosso",
         "marker": {
          "color": "#636efa"
         },
         "name": "state=Mato Grosso",
         "offsetgroup": "state=Mato Grosso",
         "orientation": "v",
         "showlegend": false,
         "textposition": "auto",
         "type": "bar",
         "x": [
          "Mato Grosso",
          "Mato Grosso"
         ],
         "xaxis": "x3",
         "y": [
          719,
          170
         ],
         "yaxis": "y3"
        },
        {
         "alignmentgroup": "True",
         "hoverlabel": {
          "namelength": 0
         },
         "hovertemplate": "state=%{x}<br>year=2017<br>month=Abril<br>number=%{y}",
         "legendgroup": "state=Mato Grosso",
         "marker": {
          "color": "#636efa"
         },
         "name": "state=Mato Grosso",
         "offsetgroup": "state=Mato Grosso",
         "orientation": "v",
         "showlegend": false,
         "textposition": "auto",
         "type": "bar",
         "x": [
          "Mato Grosso",
          "Mato Grosso"
         ],
         "xaxis": "x4",
         "y": [
          606,
          59
         ],
         "yaxis": "y4"
        },
        {
         "alignmentgroup": "True",
         "hoverlabel": {
          "namelength": 0
         },
         "hovertemplate": "state=%{x}<br>year=2017<br>month=Maio<br>number=%{y}",
         "legendgroup": "state=Mato Grosso",
         "marker": {
          "color": "#636efa"
         },
         "name": "state=Mato Grosso",
         "offsetgroup": "state=Mato Grosso",
         "orientation": "v",
         "showlegend": false,
         "textposition": "auto",
         "type": "bar",
         "x": [
          "Mato Grosso",
          "Mato Grosso"
         ],
         "xaxis": "x5",
         "y": [
          845,
          72
         ],
         "yaxis": "y5"
        },
        {
         "alignmentgroup": "True",
         "hoverlabel": {
          "namelength": 0
         },
         "hovertemplate": "state=%{x}<br>year=2017<br>month=Junho<br>number=%{y}",
         "legendgroup": "state=Mato Grosso",
         "marker": {
          "color": "#636efa"
         },
         "name": "state=Mato Grosso",
         "offsetgroup": "state=Mato Grosso",
         "orientation": "v",
         "showlegend": false,
         "textposition": "auto",
         "type": "bar",
         "x": [
          "Mato Grosso",
          "Mato Grosso"
         ],
         "xaxis": "x6",
         "y": [
          2.041,
          175
         ],
         "yaxis": "y6"
        },
        {
         "alignmentgroup": "True",
         "hoverlabel": {
          "namelength": 0
         },
         "hovertemplate": "state=%{x}<br>year=2017<br>month=Julho<br>number=%{y}",
         "legendgroup": "state=Mato Grosso",
         "marker": {
          "color": "#636efa"
         },
         "name": "state=Mato Grosso",
         "offsetgroup": "state=Mato Grosso",
         "orientation": "v",
         "showlegend": false,
         "textposition": "auto",
         "type": "bar",
         "x": [
          "Mato Grosso",
          "Mato Grosso"
         ],
         "xaxis": "x7",
         "y": [
          2.79,
          1.05
         ],
         "yaxis": "y7"
        },
        {
         "alignmentgroup": "True",
         "hoverlabel": {
          "namelength": 0
         },
         "hovertemplate": "state=%{x}<br>year=2017<br>month=Agosto<br>number=%{y}",
         "legendgroup": "state=Mato Grosso",
         "marker": {
          "color": "#636efa"
         },
         "name": "state=Mato Grosso",
         "offsetgroup": "state=Mato Grosso",
         "orientation": "v",
         "showlegend": false,
         "textposition": "auto",
         "type": "bar",
         "x": [
          "Mato Grosso",
          "Mato Grosso"
         ],
         "xaxis": "x8",
         "y": [
          6.229,
          1.4880000000000002
         ],
         "yaxis": "y8"
        },
        {
         "alignmentgroup": "True",
         "hoverlabel": {
          "namelength": 0
         },
         "hovertemplate": "state=%{x}<br>year=2017<br>month=Setembro<br>number=%{y}",
         "legendgroup": "state=Mato Grosso",
         "marker": {
          "color": "#636efa"
         },
         "name": "state=Mato Grosso",
         "offsetgroup": "state=Mato Grosso",
         "orientation": "v",
         "showlegend": false,
         "textposition": "auto",
         "type": "bar",
         "x": [
          "Mato Grosso",
          "Mato Grosso"
         ],
         "xaxis": "x9",
         "y": [
          23.945,
          2.984
         ],
         "yaxis": "y9"
        },
        {
         "alignmentgroup": "True",
         "hoverlabel": {
          "namelength": 0
         },
         "hovertemplate": "state=%{x}<br>year=2017<br>month=Outubro<br>number=%{y}",
         "legendgroup": "state=Mato Grosso",
         "marker": {
          "color": "#636efa"
         },
         "name": "state=Mato Grosso",
         "offsetgroup": "state=Mato Grosso",
         "orientation": "v",
         "showlegend": false,
         "textposition": "auto",
         "type": "bar",
         "x": [
          "Mato Grosso",
          "Mato Grosso"
         ],
         "xaxis": "x10",
         "y": [
          4.8,
          685
         ],
         "yaxis": "y10"
        },
        {
         "alignmentgroup": "True",
         "hoverlabel": {
          "namelength": 0
         },
         "hovertemplate": "state=%{x}<br>year=2017<br>month=Novembro<br>number=%{y}",
         "legendgroup": "state=Mato Grosso",
         "marker": {
          "color": "#636efa"
         },
         "name": "state=Mato Grosso",
         "offsetgroup": "state=Mato Grosso",
         "orientation": "v",
         "showlegend": false,
         "textposition": "auto",
         "type": "bar",
         "x": [
          "Mato Grosso",
          "Mato Grosso"
         ],
         "xaxis": "x11",
         "y": [
          813,
          133
         ],
         "yaxis": "y11"
        },
        {
         "alignmentgroup": "True",
         "hoverlabel": {
          "namelength": 0
         },
         "hovertemplate": "state=%{x}<br>year=2016<br>month=Janeiro<br>number=%{y}",
         "legendgroup": "state=Minas Gerais",
         "marker": {
          "color": "#EF553B"
         },
         "name": "state=Minas Gerais",
         "offsetgroup": "state=Minas Gerais",
         "orientation": "v",
         "showlegend": true,
         "textposition": "auto",
         "type": "bar",
         "x": [
          "Minas Gerais"
         ],
         "xaxis": "x13",
         "y": [
          61
         ],
         "yaxis": "y13"
        },
        {
         "alignmentgroup": "True",
         "hoverlabel": {
          "namelength": 0
         },
         "hovertemplate": "state=%{x}<br>year=2016<br>month=Fevereiro<br>number=%{y}",
         "legendgroup": "state=Minas Gerais",
         "marker": {
          "color": "#EF553B"
         },
         "name": "state=Minas Gerais",
         "offsetgroup": "state=Minas Gerais",
         "orientation": "v",
         "showlegend": false,
         "textposition": "auto",
         "type": "bar",
         "x": [
          "Minas Gerais"
         ],
         "xaxis": "x14",
         "y": [
          207
         ],
         "yaxis": "y14"
        },
        {
         "alignmentgroup": "True",
         "hoverlabel": {
          "namelength": 0
         },
         "hovertemplate": "state=%{x}<br>year=2016<br>month=Março<br>number=%{y}",
         "legendgroup": "state=Minas Gerais",
         "marker": {
          "color": "#EF553B"
         },
         "name": "state=Minas Gerais",
         "offsetgroup": "state=Minas Gerais",
         "orientation": "v",
         "showlegend": false,
         "textposition": "auto",
         "type": "bar",
         "x": [
          "Minas Gerais"
         ],
         "xaxis": "x15",
         "y": [
          123
         ],
         "yaxis": "y15"
        },
        {
         "alignmentgroup": "True",
         "hoverlabel": {
          "namelength": 0
         },
         "hovertemplate": "state=%{x}<br>year=2016<br>month=Abril<br>number=%{y}",
         "legendgroup": "state=Minas Gerais",
         "marker": {
          "color": "#EF553B"
         },
         "name": "state=Minas Gerais",
         "offsetgroup": "state=Minas Gerais",
         "orientation": "v",
         "showlegend": false,
         "textposition": "auto",
         "type": "bar",
         "x": [
          "Minas Gerais"
         ],
         "xaxis": "x16",
         "y": [
          172
         ],
         "yaxis": "y16"
        },
        {
         "alignmentgroup": "True",
         "hoverlabel": {
          "namelength": 0
         },
         "hovertemplate": "state=%{x}<br>year=2016<br>month=Maio<br>number=%{y}",
         "legendgroup": "state=Minas Gerais",
         "marker": {
          "color": "#EF553B"
         },
         "name": "state=Minas Gerais",
         "offsetgroup": "state=Minas Gerais",
         "orientation": "v",
         "showlegend": false,
         "textposition": "auto",
         "type": "bar",
         "x": [
          "Minas Gerais"
         ],
         "xaxis": "x17",
         "y": [
          186
         ],
         "yaxis": "y17"
        },
        {
         "alignmentgroup": "True",
         "hoverlabel": {
          "namelength": 0
         },
         "hovertemplate": "state=%{x}<br>year=2016<br>month=Junho<br>number=%{y}",
         "legendgroup": "state=Minas Gerais",
         "marker": {
          "color": "#EF553B"
         },
         "name": "state=Minas Gerais",
         "offsetgroup": "state=Minas Gerais",
         "orientation": "v",
         "showlegend": false,
         "textposition": "auto",
         "type": "bar",
         "x": [
          "Minas Gerais"
         ],
         "xaxis": "x18",
         "y": [
          263
         ],
         "yaxis": "y18"
        },
        {
         "alignmentgroup": "True",
         "hoverlabel": {
          "namelength": 0
         },
         "hovertemplate": "state=%{x}<br>year=2016<br>month=Julho<br>number=%{y}",
         "legendgroup": "state=Minas Gerais",
         "marker": {
          "color": "#EF553B"
         },
         "name": "state=Minas Gerais",
         "offsetgroup": "state=Minas Gerais",
         "orientation": "v",
         "showlegend": false,
         "textposition": "auto",
         "type": "bar",
         "x": [
          "Minas Gerais"
         ],
         "xaxis": "x19",
         "y": [
          1.004
         ],
         "yaxis": "y19"
        },
        {
         "alignmentgroup": "True",
         "hoverlabel": {
          "namelength": 0
         },
         "hovertemplate": "state=%{x}<br>year=2016<br>month=Agosto<br>number=%{y}",
         "legendgroup": "state=Minas Gerais",
         "marker": {
          "color": "#EF553B"
         },
         "name": "state=Minas Gerais",
         "offsetgroup": "state=Minas Gerais",
         "orientation": "v",
         "showlegend": false,
         "textposition": "auto",
         "type": "bar",
         "x": [
          "Minas Gerais"
         ],
         "xaxis": "x20",
         "y": [
          1.433
         ],
         "yaxis": "y20"
        },
        {
         "alignmentgroup": "True",
         "hoverlabel": {
          "namelength": 0
         },
         "hovertemplate": "state=%{x}<br>year=2016<br>month=Setembro<br>number=%{y}",
         "legendgroup": "state=Minas Gerais",
         "marker": {
          "color": "#EF553B"
         },
         "name": "state=Minas Gerais",
         "offsetgroup": "state=Minas Gerais",
         "orientation": "v",
         "showlegend": false,
         "textposition": "auto",
         "type": "bar",
         "x": [
          "Minas Gerais"
         ],
         "xaxis": "x21",
         "y": [
          2.093
         ],
         "yaxis": "y21"
        },
        {
         "alignmentgroup": "True",
         "hoverlabel": {
          "namelength": 0
         },
         "hovertemplate": "state=%{x}<br>year=2016<br>month=Outubro<br>number=%{y}",
         "legendgroup": "state=Minas Gerais",
         "marker": {
          "color": "#EF553B"
         },
         "name": "state=Minas Gerais",
         "offsetgroup": "state=Minas Gerais",
         "orientation": "v",
         "showlegend": false,
         "textposition": "auto",
         "type": "bar",
         "x": [
          "Minas Gerais"
         ],
         "xaxis": "x22",
         "y": [
          948
         ],
         "yaxis": "y22"
        },
        {
         "alignmentgroup": "True",
         "hoverlabel": {
          "namelength": 0
         },
         "hovertemplate": "state=%{x}<br>year=2016<br>month=Novembro<br>number=%{y}",
         "legendgroup": "state=Minas Gerais",
         "marker": {
          "color": "#EF553B"
         },
         "name": "state=Minas Gerais",
         "offsetgroup": "state=Minas Gerais",
         "orientation": "v",
         "showlegend": false,
         "textposition": "auto",
         "type": "bar",
         "x": [
          "Minas Gerais"
         ],
         "xaxis": "x23",
         "y": [
          126
         ],
         "yaxis": "y23"
        },
        {
         "alignmentgroup": "True",
         "hoverlabel": {
          "namelength": 0
         },
         "hovertemplate": "state=%{x}<br>year=2016<br>month=Dezembro<br>number=%{y}",
         "legendgroup": "state=Minas Gerais",
         "marker": {
          "color": "#EF553B"
         },
         "name": "state=Minas Gerais",
         "offsetgroup": "state=Minas Gerais",
         "orientation": "v",
         "showlegend": false,
         "textposition": "auto",
         "type": "bar",
         "x": [
          "Minas Gerais"
         ],
         "xaxis": "x24",
         "y": [
          91
         ],
         "yaxis": "y24"
        },
        {
         "alignmentgroup": "True",
         "hoverlabel": {
          "namelength": 0
         },
         "hovertemplate": "state=%{x}<br>year=2017<br>month=Janeiro<br>number=%{y}",
         "legendgroup": "state=Minas Gerais",
         "marker": {
          "color": "#EF553B"
         },
         "name": "state=Minas Gerais",
         "offsetgroup": "state=Minas Gerais",
         "orientation": "v",
         "showlegend": false,
         "textposition": "auto",
         "type": "bar",
         "x": [
          "Minas Gerais"
         ],
         "xaxis": "x",
         "y": [
          106
         ],
         "yaxis": "y"
        },
        {
         "alignmentgroup": "True",
         "hoverlabel": {
          "namelength": 0
         },
         "hovertemplate": "state=%{x}<br>year=2017<br>month=Fevereiro<br>number=%{y}",
         "legendgroup": "state=Minas Gerais",
         "marker": {
          "color": "#EF553B"
         },
         "name": "state=Minas Gerais",
         "offsetgroup": "state=Minas Gerais",
         "orientation": "v",
         "showlegend": false,
         "textposition": "auto",
         "type": "bar",
         "x": [
          "Minas Gerais"
         ],
         "xaxis": "x2",
         "y": [
          61
         ],
         "yaxis": "y2"
        },
        {
         "alignmentgroup": "True",
         "hoverlabel": {
          "namelength": 0
         },
         "hovertemplate": "state=%{x}<br>year=2017<br>month=Março<br>number=%{y}",
         "legendgroup": "state=Minas Gerais",
         "marker": {
          "color": "#EF553B"
         },
         "name": "state=Minas Gerais",
         "offsetgroup": "state=Minas Gerais",
         "orientation": "v",
         "showlegend": false,
         "textposition": "auto",
         "type": "bar",
         "x": [
          "Minas Gerais"
         ],
         "xaxis": "x3",
         "y": [
          105
         ],
         "yaxis": "y3"
        },
        {
         "alignmentgroup": "True",
         "hoverlabel": {
          "namelength": 0
         },
         "hovertemplate": "state=%{x}<br>year=2017<br>month=Abril<br>number=%{y}",
         "legendgroup": "state=Minas Gerais",
         "marker": {
          "color": "#EF553B"
         },
         "name": "state=Minas Gerais",
         "offsetgroup": "state=Minas Gerais",
         "orientation": "v",
         "showlegend": false,
         "textposition": "auto",
         "type": "bar",
         "x": [
          "Minas Gerais"
         ],
         "xaxis": "x4",
         "y": [
          69
         ],
         "yaxis": "y4"
        },
        {
         "alignmentgroup": "True",
         "hoverlabel": {
          "namelength": 0
         },
         "hovertemplate": "state=%{x}<br>year=2017<br>month=Maio<br>number=%{y}",
         "legendgroup": "state=Minas Gerais",
         "marker": {
          "color": "#EF553B"
         },
         "name": "state=Minas Gerais",
         "offsetgroup": "state=Minas Gerais",
         "orientation": "v",
         "showlegend": false,
         "textposition": "auto",
         "type": "bar",
         "x": [
          "Minas Gerais"
         ],
         "xaxis": "x5",
         "y": [
          125
         ],
         "yaxis": "y5"
        },
        {
         "alignmentgroup": "True",
         "hoverlabel": {
          "namelength": 0
         },
         "hovertemplate": "state=%{x}<br>year=2017<br>month=Junho<br>number=%{y}",
         "legendgroup": "state=Minas Gerais",
         "marker": {
          "color": "#EF553B"
         },
         "name": "state=Minas Gerais",
         "offsetgroup": "state=Minas Gerais",
         "orientation": "v",
         "showlegend": false,
         "textposition": "auto",
         "type": "bar",
         "x": [
          "Minas Gerais"
         ],
         "xaxis": "x6",
         "y": [
          360
         ],
         "yaxis": "y6"
        },
        {
         "alignmentgroup": "True",
         "hoverlabel": {
          "namelength": 0
         },
         "hovertemplate": "state=%{x}<br>year=2017<br>month=Julho<br>number=%{y}",
         "legendgroup": "state=Minas Gerais",
         "marker": {
          "color": "#EF553B"
         },
         "name": "state=Minas Gerais",
         "offsetgroup": "state=Minas Gerais",
         "orientation": "v",
         "showlegend": false,
         "textposition": "auto",
         "type": "bar",
         "x": [
          "Minas Gerais"
         ],
         "xaxis": "x7",
         "y": [
          610
         ],
         "yaxis": "y7"
        },
        {
         "alignmentgroup": "True",
         "hoverlabel": {
          "namelength": 0
         },
         "hovertemplate": "state=%{x}<br>year=2017<br>month=Agosto<br>number=%{y}",
         "legendgroup": "state=Minas Gerais",
         "marker": {
          "color": "#EF553B"
         },
         "name": "state=Minas Gerais",
         "offsetgroup": "state=Minas Gerais",
         "orientation": "v",
         "showlegend": false,
         "textposition": "auto",
         "type": "bar",
         "x": [
          "Minas Gerais"
         ],
         "xaxis": "x8",
         "y": [
          2.142
         ],
         "yaxis": "y8"
        },
        {
         "alignmentgroup": "True",
         "hoverlabel": {
          "namelength": 0
         },
         "hovertemplate": "state=%{x}<br>year=2017<br>month=Setembro<br>number=%{y}",
         "legendgroup": "state=Minas Gerais",
         "marker": {
          "color": "#EF553B"
         },
         "name": "state=Minas Gerais",
         "offsetgroup": "state=Minas Gerais",
         "orientation": "v",
         "showlegend": false,
         "textposition": "auto",
         "type": "bar",
         "x": [
          "Minas Gerais"
         ],
         "xaxis": "x9",
         "y": [
          4.697
         ],
         "yaxis": "y9"
        },
        {
         "alignmentgroup": "True",
         "hoverlabel": {
          "namelength": 0
         },
         "hovertemplate": "state=%{x}<br>year=2017<br>month=Outubro<br>number=%{y}",
         "legendgroup": "state=Minas Gerais",
         "marker": {
          "color": "#EF553B"
         },
         "name": "state=Minas Gerais",
         "offsetgroup": "state=Minas Gerais",
         "orientation": "v",
         "showlegend": false,
         "textposition": "auto",
         "type": "bar",
         "x": [
          "Minas Gerais"
         ],
         "xaxis": "x10",
         "y": [
          3.062
         ],
         "yaxis": "y10"
        },
        {
         "alignmentgroup": "True",
         "hoverlabel": {
          "namelength": 0
         },
         "hovertemplate": "state=%{x}<br>year=2017<br>month=Novembro<br>number=%{y}",
         "legendgroup": "state=Minas Gerais",
         "marker": {
          "color": "#EF553B"
         },
         "name": "state=Minas Gerais",
         "offsetgroup": "state=Minas Gerais",
         "orientation": "v",
         "showlegend": false,
         "textposition": "auto",
         "type": "bar",
         "x": [
          "Minas Gerais"
         ],
         "xaxis": "x11",
         "y": [
          136
         ],
         "yaxis": "y11"
        },
        {
         "alignmentgroup": "True",
         "hoverlabel": {
          "namelength": 0
         },
         "hovertemplate": "state=%{x}<br>year=2016<br>month=Janeiro<br>number=%{y}",
         "legendgroup": "state=Pará",
         "marker": {
          "color": "#00cc96"
         },
         "name": "state=Pará",
         "offsetgroup": "state=Pará",
         "orientation": "v",
         "showlegend": true,
         "textposition": "auto",
         "type": "bar",
         "x": [
          "Pará"
         ],
         "xaxis": "x13",
         "y": [
          1.3219999999999998
         ],
         "yaxis": "y13"
        },
        {
         "alignmentgroup": "True",
         "hoverlabel": {
          "namelength": 0
         },
         "hovertemplate": "state=%{x}<br>year=2016<br>month=Fevereiro<br>number=%{y}",
         "legendgroup": "state=Pará",
         "marker": {
          "color": "#00cc96"
         },
         "name": "state=Pará",
         "offsetgroup": "state=Pará",
         "orientation": "v",
         "showlegend": false,
         "textposition": "auto",
         "type": "bar",
         "x": [
          "Pará"
         ],
         "xaxis": "x14",
         "y": [
          430
         ],
         "yaxis": "y14"
        },
        {
         "alignmentgroup": "True",
         "hoverlabel": {
          "namelength": 0
         },
         "hovertemplate": "state=%{x}<br>year=2016<br>month=Março<br>number=%{y}",
         "legendgroup": "state=Pará",
         "marker": {
          "color": "#00cc96"
         },
         "name": "state=Pará",
         "offsetgroup": "state=Pará",
         "orientation": "v",
         "showlegend": false,
         "textposition": "auto",
         "type": "bar",
         "x": [
          "Pará"
         ],
         "xaxis": "x15",
         "y": [
          81
         ],
         "yaxis": "y15"
        },
        {
         "alignmentgroup": "True",
         "hoverlabel": {
          "namelength": 0
         },
         "hovertemplate": "state=%{x}<br>year=2016<br>month=Abril<br>number=%{y}",
         "legendgroup": "state=Pará",
         "marker": {
          "color": "#00cc96"
         },
         "name": "state=Pará",
         "offsetgroup": "state=Pará",
         "orientation": "v",
         "showlegend": false,
         "textposition": "auto",
         "type": "bar",
         "x": [
          "Pará"
         ],
         "xaxis": "x16",
         "y": [
          66
         ],
         "yaxis": "y16"
        },
        {
         "alignmentgroup": "True",
         "hoverlabel": {
          "namelength": 0
         },
         "hovertemplate": "state=%{x}<br>year=2016<br>month=Maio<br>number=%{y}",
         "legendgroup": "state=Pará",
         "marker": {
          "color": "#00cc96"
         },
         "name": "state=Pará",
         "offsetgroup": "state=Pará",
         "orientation": "v",
         "showlegend": false,
         "textposition": "auto",
         "type": "bar",
         "x": [
          "Pará"
         ],
         "xaxis": "x17",
         "y": [
          154
         ],
         "yaxis": "y17"
        },
        {
         "alignmentgroup": "True",
         "hoverlabel": {
          "namelength": 0
         },
         "hovertemplate": "state=%{x}<br>year=2016<br>month=Junho<br>number=%{y}",
         "legendgroup": "state=Pará",
         "marker": {
          "color": "#00cc96"
         },
         "name": "state=Pará",
         "offsetgroup": "state=Pará",
         "orientation": "v",
         "showlegend": false,
         "textposition": "auto",
         "type": "bar",
         "x": [
          "Pará"
         ],
         "xaxis": "x18",
         "y": [
          502
         ],
         "yaxis": "y18"
        },
        {
         "alignmentgroup": "True",
         "hoverlabel": {
          "namelength": 0
         },
         "hovertemplate": "state=%{x}<br>year=2016<br>month=Julho<br>number=%{y}",
         "legendgroup": "state=Pará",
         "marker": {
          "color": "#00cc96"
         },
         "name": "state=Pará",
         "offsetgroup": "state=Pará",
         "orientation": "v",
         "showlegend": false,
         "textposition": "auto",
         "type": "bar",
         "x": [
          "Pará"
         ],
         "xaxis": "x19",
         "y": [
          1.579
         ],
         "yaxis": "y19"
        },
        {
         "alignmentgroup": "True",
         "hoverlabel": {
          "namelength": 0
         },
         "hovertemplate": "state=%{x}<br>year=2016<br>month=Agosto<br>number=%{y}",
         "legendgroup": "state=Pará",
         "marker": {
          "color": "#00cc96"
         },
         "name": "state=Pará",
         "offsetgroup": "state=Pará",
         "orientation": "v",
         "showlegend": false,
         "textposition": "auto",
         "type": "bar",
         "x": [
          "Pará"
         ],
         "xaxis": "x20",
         "y": [
          4.863
         ],
         "yaxis": "y20"
        },
        {
         "alignmentgroup": "True",
         "hoverlabel": {
          "namelength": 0
         },
         "hovertemplate": "state=%{x}<br>year=2016<br>month=Setembro<br>number=%{y}",
         "legendgroup": "state=Pará",
         "marker": {
          "color": "#00cc96"
         },
         "name": "state=Pará",
         "offsetgroup": "state=Pará",
         "orientation": "v",
         "showlegend": false,
         "textposition": "auto",
         "type": "bar",
         "x": [
          "Pará"
         ],
         "xaxis": "x21",
         "y": [
          3.9530000000000003
         ],
         "yaxis": "y21"
        },
        {
         "alignmentgroup": "True",
         "hoverlabel": {
          "namelength": 0
         },
         "hovertemplate": "state=%{x}<br>year=2016<br>month=Outubro<br>number=%{y}",
         "legendgroup": "state=Pará",
         "marker": {
          "color": "#00cc96"
         },
         "name": "state=Pará",
         "offsetgroup": "state=Pará",
         "orientation": "v",
         "showlegend": false,
         "textposition": "auto",
         "type": "bar",
         "x": [
          "Pará"
         ],
         "xaxis": "x22",
         "y": [
          5.281000000000001
         ],
         "yaxis": "y22"
        },
        {
         "alignmentgroup": "True",
         "hoverlabel": {
          "namelength": 0
         },
         "hovertemplate": "state=%{x}<br>year=2016<br>month=Novembro<br>number=%{y}",
         "legendgroup": "state=Pará",
         "marker": {
          "color": "#00cc96"
         },
         "name": "state=Pará",
         "offsetgroup": "state=Pará",
         "orientation": "v",
         "showlegend": false,
         "textposition": "auto",
         "type": "bar",
         "x": [
          "Pará"
         ],
         "xaxis": "x23",
         "y": [
          7.879
         ],
         "yaxis": "y23"
        },
        {
         "alignmentgroup": "True",
         "hoverlabel": {
          "namelength": 0
         },
         "hovertemplate": "state=%{x}<br>year=2016<br>month=Dezembro<br>number=%{y}",
         "legendgroup": "state=Pará",
         "marker": {
          "color": "#00cc96"
         },
         "name": "state=Pará",
         "offsetgroup": "state=Pará",
         "orientation": "v",
         "showlegend": false,
         "textposition": "auto",
         "type": "bar",
         "x": [
          "Pará"
         ],
         "xaxis": "x24",
         "y": [
          3.3
         ],
         "yaxis": "y24"
        },
        {
         "alignmentgroup": "True",
         "hoverlabel": {
          "namelength": 0
         },
         "hovertemplate": "state=%{x}<br>year=2017<br>month=Janeiro<br>number=%{y}",
         "legendgroup": "state=Pará",
         "marker": {
          "color": "#00cc96"
         },
         "name": "state=Pará",
         "offsetgroup": "state=Pará",
         "orientation": "v",
         "showlegend": false,
         "textposition": "auto",
         "type": "bar",
         "x": [
          "Pará"
         ],
         "xaxis": "x",
         "y": [
          219
         ],
         "yaxis": "y"
        },
        {
         "alignmentgroup": "True",
         "hoverlabel": {
          "namelength": 0
         },
         "hovertemplate": "state=%{x}<br>year=2017<br>month=Fevereiro<br>number=%{y}",
         "legendgroup": "state=Pará",
         "marker": {
          "color": "#00cc96"
         },
         "name": "state=Pará",
         "offsetgroup": "state=Pará",
         "orientation": "v",
         "showlegend": false,
         "textposition": "auto",
         "type": "bar",
         "x": [
          "Pará"
         ],
         "xaxis": "x2",
         "y": [
          14
         ],
         "yaxis": "y2"
        },
        {
         "alignmentgroup": "True",
         "hoverlabel": {
          "namelength": 0
         },
         "hovertemplate": "state=%{x}<br>year=2017<br>month=Março<br>number=%{y}",
         "legendgroup": "state=Pará",
         "marker": {
          "color": "#00cc96"
         },
         "name": "state=Pará",
         "offsetgroup": "state=Pará",
         "orientation": "v",
         "showlegend": false,
         "textposition": "auto",
         "type": "bar",
         "x": [
          "Pará"
         ],
         "xaxis": "x3",
         "y": [
          42
         ],
         "yaxis": "y3"
        },
        {
         "alignmentgroup": "True",
         "hoverlabel": {
          "namelength": 0
         },
         "hovertemplate": "state=%{x}<br>year=2017<br>month=Abril<br>number=%{y}",
         "legendgroup": "state=Pará",
         "marker": {
          "color": "#00cc96"
         },
         "name": "state=Pará",
         "offsetgroup": "state=Pará",
         "orientation": "v",
         "showlegend": false,
         "textposition": "auto",
         "type": "bar",
         "x": [
          "Pará"
         ],
         "xaxis": "x4",
         "y": [
          45
         ],
         "yaxis": "y4"
        },
        {
         "alignmentgroup": "True",
         "hoverlabel": {
          "namelength": 0
         },
         "hovertemplate": "state=%{x}<br>year=2017<br>month=Maio<br>number=%{y}",
         "legendgroup": "state=Pará",
         "marker": {
          "color": "#00cc96"
         },
         "name": "state=Pará",
         "offsetgroup": "state=Pará",
         "orientation": "v",
         "showlegend": false,
         "textposition": "auto",
         "type": "bar",
         "x": [
          "Pará"
         ],
         "xaxis": "x5",
         "y": [
          114
         ],
         "yaxis": "y5"
        },
        {
         "alignmentgroup": "True",
         "hoverlabel": {
          "namelength": 0
         },
         "hovertemplate": "state=%{x}<br>year=2017<br>month=Junho<br>number=%{y}",
         "legendgroup": "state=Pará",
         "marker": {
          "color": "#00cc96"
         },
         "name": "state=Pará",
         "offsetgroup": "state=Pará",
         "orientation": "v",
         "showlegend": false,
         "textposition": "auto",
         "type": "bar",
         "x": [
          "Pará"
         ],
         "xaxis": "x6",
         "y": [
          679
         ],
         "yaxis": "y6"
        },
        {
         "alignmentgroup": "True",
         "hoverlabel": {
          "namelength": 0
         },
         "hovertemplate": "state=%{x}<br>year=2017<br>month=Julho<br>number=%{y}",
         "legendgroup": "state=Pará",
         "marker": {
          "color": "#00cc96"
         },
         "name": "state=Pará",
         "offsetgroup": "state=Pará",
         "orientation": "v",
         "showlegend": false,
         "textposition": "auto",
         "type": "bar",
         "x": [
          "Pará"
         ],
         "xaxis": "x7",
         "y": [
          4.985
         ],
         "yaxis": "y7"
        },
        {
         "alignmentgroup": "True",
         "hoverlabel": {
          "namelength": 0
         },
         "hovertemplate": "state=%{x}<br>year=2017<br>month=Agosto<br>number=%{y}",
         "legendgroup": "state=Pará",
         "marker": {
          "color": "#00cc96"
         },
         "name": "state=Pará",
         "offsetgroup": "state=Pará",
         "orientation": "v",
         "showlegend": false,
         "textposition": "auto",
         "type": "bar",
         "x": [
          "Pará"
         ],
         "xaxis": "x8",
         "y": [
          11.962
         ],
         "yaxis": "y8"
        },
        {
         "alignmentgroup": "True",
         "hoverlabel": {
          "namelength": 0
         },
         "hovertemplate": "state=%{x}<br>year=2017<br>month=Setembro<br>number=%{y}",
         "legendgroup": "state=Pará",
         "marker": {
          "color": "#00cc96"
         },
         "name": "state=Pará",
         "offsetgroup": "state=Pará",
         "orientation": "v",
         "showlegend": false,
         "textposition": "auto",
         "type": "bar",
         "x": [
          "Pará"
         ],
         "xaxis": "x9",
         "y": [
          25.004
         ],
         "yaxis": "y9"
        },
        {
         "alignmentgroup": "True",
         "hoverlabel": {
          "namelength": 0
         },
         "hovertemplate": "state=%{x}<br>year=2017<br>month=Outubro<br>number=%{y}",
         "legendgroup": "state=Pará",
         "marker": {
          "color": "#00cc96"
         },
         "name": "state=Pará",
         "offsetgroup": "state=Pará",
         "orientation": "v",
         "showlegend": false,
         "textposition": "auto",
         "type": "bar",
         "x": [
          "Pará"
         ],
         "xaxis": "x10",
         "y": [
          7.627999999999999
         ],
         "yaxis": "y10"
        },
        {
         "alignmentgroup": "True",
         "hoverlabel": {
          "namelength": 0
         },
         "hovertemplate": "state=%{x}<br>year=2017<br>month=Novembro<br>number=%{y}",
         "legendgroup": "state=Pará",
         "marker": {
          "color": "#00cc96"
         },
         "name": "state=Pará",
         "offsetgroup": "state=Pará",
         "orientation": "v",
         "showlegend": false,
         "textposition": "auto",
         "type": "bar",
         "x": [
          "Pará"
         ],
         "xaxis": "x11",
         "y": [
          9.079
         ],
         "yaxis": "y11"
        },
        {
         "alignmentgroup": "True",
         "hoverlabel": {
          "namelength": 0
         },
         "hovertemplate": "state=%{x}<br>year=2016<br>month=Janeiro<br>number=%{y}",
         "legendgroup": "state=Paraiba",
         "marker": {
          "color": "#ab63fa"
         },
         "name": "state=Paraiba",
         "offsetgroup": "state=Paraiba",
         "orientation": "v",
         "showlegend": true,
         "textposition": "auto",
         "type": "bar",
         "x": [
          "Paraiba",
          "Paraiba"
         ],
         "xaxis": "x13",
         "y": [
          18,
          113
         ],
         "yaxis": "y13"
        },
        {
         "alignmentgroup": "True",
         "hoverlabel": {
          "namelength": 0
         },
         "hovertemplate": "state=%{x}<br>year=2016<br>month=Fevereiro<br>number=%{y}",
         "legendgroup": "state=Paraiba",
         "marker": {
          "color": "#ab63fa"
         },
         "name": "state=Paraiba",
         "offsetgroup": "state=Paraiba",
         "orientation": "v",
         "showlegend": false,
         "textposition": "auto",
         "type": "bar",
         "x": [
          "Paraiba",
          "Paraiba"
         ],
         "xaxis": "x14",
         "y": [
          4,
          31
         ],
         "yaxis": "y14"
        },
        {
         "alignmentgroup": "True",
         "hoverlabel": {
          "namelength": 0
         },
         "hovertemplate": "state=%{x}<br>year=2016<br>month=Março<br>number=%{y}",
         "legendgroup": "state=Paraiba",
         "marker": {
          "color": "#ab63fa"
         },
         "name": "state=Paraiba",
         "offsetgroup": "state=Paraiba",
         "orientation": "v",
         "showlegend": false,
         "textposition": "auto",
         "type": "bar",
         "x": [
          "Paraiba",
          "Paraiba"
         ],
         "xaxis": "x15",
         "y": [
          1,
          63
         ],
         "yaxis": "y15"
        },
        {
         "alignmentgroup": "True",
         "hoverlabel": {
          "namelength": 0
         },
         "hovertemplate": "state=%{x}<br>year=2016<br>month=Abril<br>number=%{y}",
         "legendgroup": "state=Paraiba",
         "marker": {
          "color": "#ab63fa"
         },
         "name": "state=Paraiba",
         "offsetgroup": "state=Paraiba",
         "orientation": "v",
         "showlegend": false,
         "textposition": "auto",
         "type": "bar",
         "x": [
          "Paraiba",
          "Paraiba"
         ],
         "xaxis": "x16",
         "y": [
          1,
          167
         ],
         "yaxis": "y16"
        },
        {
         "alignmentgroup": "True",
         "hoverlabel": {
          "namelength": 0
         },
         "hovertemplate": "state=%{x}<br>year=2016<br>month=Maio<br>number=%{y}",
         "legendgroup": "state=Paraiba",
         "marker": {
          "color": "#ab63fa"
         },
         "name": "state=Paraiba",
         "offsetgroup": "state=Paraiba",
         "orientation": "v",
         "showlegend": false,
         "textposition": "auto",
         "type": "bar",
         "x": [
          "Paraiba",
          "Paraiba"
         ],
         "xaxis": "x17",
         "y": [
          1,
          72
         ],
         "yaxis": "y17"
        },
        {
         "alignmentgroup": "True",
         "hoverlabel": {
          "namelength": 0
         },
         "hovertemplate": "state=%{x}<br>year=2016<br>month=Junho<br>number=%{y}",
         "legendgroup": "state=Paraiba",
         "marker": {
          "color": "#ab63fa"
         },
         "name": "state=Paraiba",
         "offsetgroup": "state=Paraiba",
         "orientation": "v",
         "showlegend": false,
         "textposition": "auto",
         "type": "bar",
         "x": [
          "Paraiba",
          "Paraiba"
         ],
         "xaxis": "x18",
         "y": [
          4,
          238
         ],
         "yaxis": "y18"
        },
        {
         "alignmentgroup": "True",
         "hoverlabel": {
          "namelength": 0
         },
         "hovertemplate": "state=%{x}<br>year=2016<br>month=Julho<br>number=%{y}",
         "legendgroup": "state=Paraiba",
         "marker": {
          "color": "#ab63fa"
         },
         "name": "state=Paraiba",
         "offsetgroup": "state=Paraiba",
         "orientation": "v",
         "showlegend": false,
         "textposition": "auto",
         "type": "bar",
         "x": [
          "Paraiba",
          "Paraiba"
         ],
         "xaxis": "x19",
         "y": [
          22,
          504
         ],
         "yaxis": "y19"
        },
        {
         "alignmentgroup": "True",
         "hoverlabel": {
          "namelength": 0
         },
         "hovertemplate": "state=%{x}<br>year=2016<br>month=Agosto<br>number=%{y}",
         "legendgroup": "state=Paraiba",
         "marker": {
          "color": "#ab63fa"
         },
         "name": "state=Paraiba",
         "offsetgroup": "state=Paraiba",
         "orientation": "v",
         "showlegend": false,
         "textposition": "auto",
         "type": "bar",
         "x": [
          "Paraiba",
          "Paraiba"
         ],
         "xaxis": "x20",
         "y": [
          50,
          1.01
         ],
         "yaxis": "y20"
        },
        {
         "alignmentgroup": "True",
         "hoverlabel": {
          "namelength": 0
         },
         "hovertemplate": "state=%{x}<br>year=2016<br>month=Setembro<br>number=%{y}",
         "legendgroup": "state=Paraiba",
         "marker": {
          "color": "#ab63fa"
         },
         "name": "state=Paraiba",
         "offsetgroup": "state=Paraiba",
         "orientation": "v",
         "showlegend": false,
         "textposition": "auto",
         "type": "bar",
         "x": [
          "Paraiba",
          "Paraiba"
         ],
         "xaxis": "x21",
         "y": [
          131,
          1.371
         ],
         "yaxis": "y21"
        },
        {
         "alignmentgroup": "True",
         "hoverlabel": {
          "namelength": 0
         },
         "hovertemplate": "state=%{x}<br>year=2016<br>month=Outubro<br>number=%{y}",
         "legendgroup": "state=Paraiba",
         "marker": {
          "color": "#ab63fa"
         },
         "name": "state=Paraiba",
         "offsetgroup": "state=Paraiba",
         "orientation": "v",
         "showlegend": false,
         "textposition": "auto",
         "type": "bar",
         "x": [
          "Paraiba",
          "Paraiba"
         ],
         "xaxis": "x22",
         "y": [
          304,
          193
         ],
         "yaxis": "y22"
        },
        {
         "alignmentgroup": "True",
         "hoverlabel": {
          "namelength": 0
         },
         "hovertemplate": "state=%{x}<br>year=2016<br>month=Novembro<br>number=%{y}",
         "legendgroup": "state=Paraiba",
         "marker": {
          "color": "#ab63fa"
         },
         "name": "state=Paraiba",
         "offsetgroup": "state=Paraiba",
         "orientation": "v",
         "showlegend": false,
         "textposition": "auto",
         "type": "bar",
         "x": [
          "Paraiba",
          "Paraiba"
         ],
         "xaxis": "x23",
         "y": [
          132,
          275
         ],
         "yaxis": "y23"
        },
        {
         "alignmentgroup": "True",
         "hoverlabel": {
          "namelength": 0
         },
         "hovertemplate": "state=%{x}<br>year=2016<br>month=Dezembro<br>number=%{y}",
         "legendgroup": "state=Paraiba",
         "marker": {
          "color": "#ab63fa"
         },
         "name": "state=Paraiba",
         "offsetgroup": "state=Paraiba",
         "orientation": "v",
         "showlegend": false,
         "textposition": "auto",
         "type": "bar",
         "x": [
          "Paraiba",
          "Paraiba"
         ],
         "xaxis": "x24",
         "y": [
          8,
          45
         ],
         "yaxis": "y24"
        },
        {
         "alignmentgroup": "True",
         "hoverlabel": {
          "namelength": 0
         },
         "hovertemplate": "state=%{x}<br>year=2017<br>month=Janeiro<br>number=%{y}",
         "legendgroup": "state=Paraiba",
         "marker": {
          "color": "#ab63fa"
         },
         "name": "state=Paraiba",
         "offsetgroup": "state=Paraiba",
         "orientation": "v",
         "showlegend": false,
         "textposition": "auto",
         "type": "bar",
         "x": [
          "Paraiba",
          "Paraiba"
         ],
         "xaxis": "x",
         "y": [
          23,
          55
         ],
         "yaxis": "y"
        },
        {
         "alignmentgroup": "True",
         "hoverlabel": {
          "namelength": 0
         },
         "hovertemplate": "state=%{x}<br>year=2017<br>month=Fevereiro<br>number=%{y}",
         "legendgroup": "state=Paraiba",
         "marker": {
          "color": "#ab63fa"
         },
         "name": "state=Paraiba",
         "offsetgroup": "state=Paraiba",
         "orientation": "v",
         "showlegend": false,
         "textposition": "auto",
         "type": "bar",
         "x": [
          "Paraiba",
          "Paraiba"
         ],
         "xaxis": "x2",
         "y": [
          8,
          60
         ],
         "yaxis": "y2"
        },
        {
         "alignmentgroup": "True",
         "hoverlabel": {
          "namelength": 0
         },
         "hovertemplate": "state=%{x}<br>year=2017<br>month=Março<br>number=%{y}",
         "legendgroup": "state=Paraiba",
         "marker": {
          "color": "#ab63fa"
         },
         "name": "state=Paraiba",
         "offsetgroup": "state=Paraiba",
         "orientation": "v",
         "showlegend": false,
         "textposition": "auto",
         "type": "bar",
         "x": [
          "Paraiba",
          "Paraiba"
         ],
         "xaxis": "x3",
         "y": [
          2,
          43
         ],
         "yaxis": "y3"
        },
        {
         "alignmentgroup": "True",
         "hoverlabel": {
          "namelength": 0
         },
         "hovertemplate": "state=%{x}<br>year=2017<br>month=Abril<br>number=%{y}",
         "legendgroup": "state=Paraiba",
         "marker": {
          "color": "#ab63fa"
         },
         "name": "state=Paraiba",
         "offsetgroup": "state=Paraiba",
         "orientation": "v",
         "showlegend": false,
         "textposition": "auto",
         "type": "bar",
         "x": [
          "Paraiba",
          "Paraiba"
         ],
         "xaxis": "x4",
         "y": [
          1,
          77
         ],
         "yaxis": "y4"
        },
        {
         "alignmentgroup": "True",
         "hoverlabel": {
          "namelength": 0
         },
         "hovertemplate": "state=%{x}<br>year=2017<br>month=Maio<br>number=%{y}",
         "legendgroup": "state=Paraiba",
         "marker": {
          "color": "#ab63fa"
         },
         "name": "state=Paraiba",
         "offsetgroup": "state=Paraiba",
         "orientation": "v",
         "showlegend": false,
         "textposition": "auto",
         "type": "bar",
         "x": [
          "Paraiba",
          "Paraiba"
         ],
         "xaxis": "x5",
         "y": [
          1,
          49
         ],
         "yaxis": "y5"
        },
        {
         "alignmentgroup": "True",
         "hoverlabel": {
          "namelength": 0
         },
         "hovertemplate": "state=%{x}<br>year=2017<br>month=Junho<br>number=%{y}",
         "legendgroup": "state=Paraiba",
         "marker": {
          "color": "#ab63fa"
         },
         "name": "state=Paraiba",
         "offsetgroup": "state=Paraiba",
         "orientation": "v",
         "showlegend": false,
         "textposition": "auto",
         "type": "bar",
         "x": [
          "Paraiba",
          "Paraiba"
         ],
         "xaxis": "x6",
         "y": [
          0,
          169
         ],
         "yaxis": "y6"
        },
        {
         "alignmentgroup": "True",
         "hoverlabel": {
          "namelength": 0
         },
         "hovertemplate": "state=%{x}<br>year=2017<br>month=Julho<br>number=%{y}",
         "legendgroup": "state=Paraiba",
         "marker": {
          "color": "#ab63fa"
         },
         "name": "state=Paraiba",
         "offsetgroup": "state=Paraiba",
         "orientation": "v",
         "showlegend": false,
         "textposition": "auto",
         "type": "bar",
         "x": [
          "Paraiba",
          "Paraiba"
         ],
         "xaxis": "x7",
         "y": [
          2,
          891
         ],
         "yaxis": "y7"
        },
        {
         "alignmentgroup": "True",
         "hoverlabel": {
          "namelength": 0
         },
         "hovertemplate": "state=%{x}<br>year=2017<br>month=Agosto<br>number=%{y}",
         "legendgroup": "state=Paraiba",
         "marker": {
          "color": "#ab63fa"
         },
         "name": "state=Paraiba",
         "offsetgroup": "state=Paraiba",
         "orientation": "v",
         "showlegend": false,
         "textposition": "auto",
         "type": "bar",
         "x": [
          "Paraiba",
          "Paraiba"
         ],
         "xaxis": "x8",
         "y": [
          3,
          987
         ],
         "yaxis": "y8"
        },
        {
         "alignmentgroup": "True",
         "hoverlabel": {
          "namelength": 0
         },
         "hovertemplate": "state=%{x}<br>year=2017<br>month=Setembro<br>number=%{y}",
         "legendgroup": "state=Paraiba",
         "marker": {
          "color": "#ab63fa"
         },
         "name": "state=Paraiba",
         "offsetgroup": "state=Paraiba",
         "orientation": "v",
         "showlegend": false,
         "textposition": "auto",
         "type": "bar",
         "x": [
          "Paraiba",
          "Paraiba"
         ],
         "xaxis": "x9",
         "y": [
          30,
          1.706
         ],
         "yaxis": "y9"
        },
        {
         "alignmentgroup": "True",
         "hoverlabel": {
          "namelength": 0
         },
         "hovertemplate": "state=%{x}<br>year=2017<br>month=Outubro<br>number=%{y}",
         "legendgroup": "state=Paraiba",
         "marker": {
          "color": "#ab63fa"
         },
         "name": "state=Paraiba",
         "offsetgroup": "state=Paraiba",
         "orientation": "v",
         "showlegend": false,
         "textposition": "auto",
         "type": "bar",
         "x": [
          "Paraiba",
          "Paraiba"
         ],
         "xaxis": "x10",
         "y": [
          123,
          134
         ],
         "yaxis": "y10"
        },
        {
         "alignmentgroup": "True",
         "hoverlabel": {
          "namelength": 0
         },
         "hovertemplate": "state=%{x}<br>year=2017<br>month=Novembro<br>number=%{y}",
         "legendgroup": "state=Paraiba",
         "marker": {
          "color": "#ab63fa"
         },
         "name": "state=Paraiba",
         "offsetgroup": "state=Paraiba",
         "orientation": "v",
         "showlegend": false,
         "textposition": "auto",
         "type": "bar",
         "x": [
          "Paraiba",
          "Paraiba"
         ],
         "xaxis": "x11",
         "y": [
          101,
          292
         ],
         "yaxis": "y11"
        },
        {
         "alignmentgroup": "True",
         "hoverlabel": {
          "namelength": 0
         },
         "hovertemplate": "state=%{x}<br>year=2016<br>month=Janeiro<br>number=%{y}",
         "legendgroup": "state=Pernambuco",
         "marker": {
          "color": "#FFA15A"
         },
         "name": "state=Pernambuco",
         "offsetgroup": "state=Pernambuco",
         "orientation": "v",
         "showlegend": true,
         "textposition": "auto",
         "type": "bar",
         "x": [
          "Pernambuco"
         ],
         "xaxis": "x13",
         "y": [
          24
         ],
         "yaxis": "y13"
        },
        {
         "alignmentgroup": "True",
         "hoverlabel": {
          "namelength": 0
         },
         "hovertemplate": "state=%{x}<br>year=2016<br>month=Fevereiro<br>number=%{y}",
         "legendgroup": "state=Pernambuco",
         "marker": {
          "color": "#FFA15A"
         },
         "name": "state=Pernambuco",
         "offsetgroup": "state=Pernambuco",
         "orientation": "v",
         "showlegend": false,
         "textposition": "auto",
         "type": "bar",
         "x": [
          "Pernambuco"
         ],
         "xaxis": "x14",
         "y": [
          19
         ],
         "yaxis": "y14"
        },
        {
         "alignmentgroup": "True",
         "hoverlabel": {
          "namelength": 0
         },
         "hovertemplate": "state=%{x}<br>year=2016<br>month=Março<br>number=%{y}",
         "legendgroup": "state=Pernambuco",
         "marker": {
          "color": "#FFA15A"
         },
         "name": "state=Pernambuco",
         "offsetgroup": "state=Pernambuco",
         "orientation": "v",
         "showlegend": false,
         "textposition": "auto",
         "type": "bar",
         "x": [
          "Pernambuco"
         ],
         "xaxis": "x15",
         "y": [
          4
         ],
         "yaxis": "y15"
        },
        {
         "alignmentgroup": "True",
         "hoverlabel": {
          "namelength": 0
         },
         "hovertemplate": "state=%{x}<br>year=2016<br>month=Abril<br>number=%{y}",
         "legendgroup": "state=Pernambuco",
         "marker": {
          "color": "#FFA15A"
         },
         "name": "state=Pernambuco",
         "offsetgroup": "state=Pernambuco",
         "orientation": "v",
         "showlegend": false,
         "textposition": "auto",
         "type": "bar",
         "x": [
          "Pernambuco"
         ],
         "xaxis": "x16",
         "y": [
          8
         ],
         "yaxis": "y16"
        },
        {
         "alignmentgroup": "True",
         "hoverlabel": {
          "namelength": 0
         },
         "hovertemplate": "state=%{x}<br>year=2016<br>month=Maio<br>number=%{y}",
         "legendgroup": "state=Pernambuco",
         "marker": {
          "color": "#FFA15A"
         },
         "name": "state=Pernambuco",
         "offsetgroup": "state=Pernambuco",
         "orientation": "v",
         "showlegend": false,
         "textposition": "auto",
         "type": "bar",
         "x": [
          "Pernambuco"
         ],
         "xaxis": "x17",
         "y": [
          6
         ],
         "yaxis": "y17"
        },
        {
         "alignmentgroup": "True",
         "hoverlabel": {
          "namelength": 0
         },
         "hovertemplate": "state=%{x}<br>year=2016<br>month=Junho<br>number=%{y}",
         "legendgroup": "state=Pernambuco",
         "marker": {
          "color": "#FFA15A"
         },
         "name": "state=Pernambuco",
         "offsetgroup": "state=Pernambuco",
         "orientation": "v",
         "showlegend": false,
         "textposition": "auto",
         "type": "bar",
         "x": [
          "Pernambuco"
         ],
         "xaxis": "x18",
         "y": [
          4
         ],
         "yaxis": "y18"
        },
        {
         "alignmentgroup": "True",
         "hoverlabel": {
          "namelength": 0
         },
         "hovertemplate": "state=%{x}<br>year=2016<br>month=Julho<br>number=%{y}",
         "legendgroup": "state=Pernambuco",
         "marker": {
          "color": "#FFA15A"
         },
         "name": "state=Pernambuco",
         "offsetgroup": "state=Pernambuco",
         "orientation": "v",
         "showlegend": false,
         "textposition": "auto",
         "type": "bar",
         "x": [
          "Pernambuco"
         ],
         "xaxis": "x19",
         "y": [
          17
         ],
         "yaxis": "y19"
        },
        {
         "alignmentgroup": "True",
         "hoverlabel": {
          "namelength": 0
         },
         "hovertemplate": "state=%{x}<br>year=2016<br>month=Agosto<br>number=%{y}",
         "legendgroup": "state=Pernambuco",
         "marker": {
          "color": "#FFA15A"
         },
         "name": "state=Pernambuco",
         "offsetgroup": "state=Pernambuco",
         "orientation": "v",
         "showlegend": false,
         "textposition": "auto",
         "type": "bar",
         "x": [
          "Pernambuco"
         ],
         "xaxis": "x20",
         "y": [
          42
         ],
         "yaxis": "y20"
        },
        {
         "alignmentgroup": "True",
         "hoverlabel": {
          "namelength": 0
         },
         "hovertemplate": "state=%{x}<br>year=2016<br>month=Setembro<br>number=%{y}",
         "legendgroup": "state=Pernambuco",
         "marker": {
          "color": "#FFA15A"
         },
         "name": "state=Pernambuco",
         "offsetgroup": "state=Pernambuco",
         "orientation": "v",
         "showlegend": false,
         "textposition": "auto",
         "type": "bar",
         "x": [
          "Pernambuco"
         ],
         "xaxis": "x21",
         "y": [
          171
         ],
         "yaxis": "y21"
        },
        {
         "alignmentgroup": "True",
         "hoverlabel": {
          "namelength": 0
         },
         "hovertemplate": "state=%{x}<br>year=2016<br>month=Outubro<br>number=%{y}",
         "legendgroup": "state=Pernambuco",
         "marker": {
          "color": "#FFA15A"
         },
         "name": "state=Pernambuco",
         "offsetgroup": "state=Pernambuco",
         "orientation": "v",
         "showlegend": false,
         "textposition": "auto",
         "type": "bar",
         "x": [
          "Pernambuco"
         ],
         "xaxis": "x22",
         "y": [
          319
         ],
         "yaxis": "y22"
        },
        {
         "alignmentgroup": "True",
         "hoverlabel": {
          "namelength": 0
         },
         "hovertemplate": "state=%{x}<br>year=2016<br>month=Novembro<br>number=%{y}",
         "legendgroup": "state=Pernambuco",
         "marker": {
          "color": "#FFA15A"
         },
         "name": "state=Pernambuco",
         "offsetgroup": "state=Pernambuco",
         "orientation": "v",
         "showlegend": false,
         "textposition": "auto",
         "type": "bar",
         "x": [
          "Pernambuco"
         ],
         "xaxis": "x23",
         "y": [
          191
         ],
         "yaxis": "y23"
        },
        {
         "alignmentgroup": "True",
         "hoverlabel": {
          "namelength": 0
         },
         "hovertemplate": "state=%{x}<br>year=2016<br>month=Dezembro<br>number=%{y}",
         "legendgroup": "state=Pernambuco",
         "marker": {
          "color": "#FFA15A"
         },
         "name": "state=Pernambuco",
         "offsetgroup": "state=Pernambuco",
         "orientation": "v",
         "showlegend": false,
         "textposition": "auto",
         "type": "bar",
         "x": [
          "Pernambuco"
         ],
         "xaxis": "x24",
         "y": [
          161
         ],
         "yaxis": "y24"
        },
        {
         "alignmentgroup": "True",
         "hoverlabel": {
          "namelength": 0
         },
         "hovertemplate": "state=%{x}<br>year=2017<br>month=Janeiro<br>number=%{y}",
         "legendgroup": "state=Pernambuco",
         "marker": {
          "color": "#FFA15A"
         },
         "name": "state=Pernambuco",
         "offsetgroup": "state=Pernambuco",
         "orientation": "v",
         "showlegend": false,
         "textposition": "auto",
         "type": "bar",
         "x": [
          "Pernambuco"
         ],
         "xaxis": "x",
         "y": [
          52
         ],
         "yaxis": "y"
        },
        {
         "alignmentgroup": "True",
         "hoverlabel": {
          "namelength": 0
         },
         "hovertemplate": "state=%{x}<br>year=2017<br>month=Fevereiro<br>number=%{y}",
         "legendgroup": "state=Pernambuco",
         "marker": {
          "color": "#FFA15A"
         },
         "name": "state=Pernambuco",
         "offsetgroup": "state=Pernambuco",
         "orientation": "v",
         "showlegend": false,
         "textposition": "auto",
         "type": "bar",
         "x": [
          "Pernambuco"
         ],
         "xaxis": "x2",
         "y": [
          23
         ],
         "yaxis": "y2"
        },
        {
         "alignmentgroup": "True",
         "hoverlabel": {
          "namelength": 0
         },
         "hovertemplate": "state=%{x}<br>year=2017<br>month=Março<br>number=%{y}",
         "legendgroup": "state=Pernambuco",
         "marker": {
          "color": "#FFA15A"
         },
         "name": "state=Pernambuco",
         "offsetgroup": "state=Pernambuco",
         "orientation": "v",
         "showlegend": false,
         "textposition": "auto",
         "type": "bar",
         "x": [
          "Pernambuco"
         ],
         "xaxis": "x3",
         "y": [
          7
         ],
         "yaxis": "y3"
        },
        {
         "alignmentgroup": "True",
         "hoverlabel": {
          "namelength": 0
         },
         "hovertemplate": "state=%{x}<br>year=2017<br>month=Abril<br>number=%{y}",
         "legendgroup": "state=Pernambuco",
         "marker": {
          "color": "#FFA15A"
         },
         "name": "state=Pernambuco",
         "offsetgroup": "state=Pernambuco",
         "orientation": "v",
         "showlegend": false,
         "textposition": "auto",
         "type": "bar",
         "x": [
          "Pernambuco"
         ],
         "xaxis": "x4",
         "y": [
          9
         ],
         "yaxis": "y4"
        },
        {
         "alignmentgroup": "True",
         "hoverlabel": {
          "namelength": 0
         },
         "hovertemplate": "state=%{x}<br>year=2017<br>month=Maio<br>number=%{y}",
         "legendgroup": "state=Pernambuco",
         "marker": {
          "color": "#FFA15A"
         },
         "name": "state=Pernambuco",
         "offsetgroup": "state=Pernambuco",
         "orientation": "v",
         "showlegend": false,
         "textposition": "auto",
         "type": "bar",
         "x": [
          "Pernambuco"
         ],
         "xaxis": "x5",
         "y": [
          13
         ],
         "yaxis": "y5"
        },
        {
         "alignmentgroup": "True",
         "hoverlabel": {
          "namelength": 0
         },
         "hovertemplate": "state=%{x}<br>year=2017<br>month=Junho<br>number=%{y}",
         "legendgroup": "state=Pernambuco",
         "marker": {
          "color": "#FFA15A"
         },
         "name": "state=Pernambuco",
         "offsetgroup": "state=Pernambuco",
         "orientation": "v",
         "showlegend": false,
         "textposition": "auto",
         "type": "bar",
         "x": [
          "Pernambuco"
         ],
         "xaxis": "x6",
         "y": [
          5
         ],
         "yaxis": "y6"
        },
        {
         "alignmentgroup": "True",
         "hoverlabel": {
          "namelength": 0
         },
         "hovertemplate": "state=%{x}<br>year=2017<br>month=Julho<br>number=%{y}",
         "legendgroup": "state=Pernambuco",
         "marker": {
          "color": "#FFA15A"
         },
         "name": "state=Pernambuco",
         "offsetgroup": "state=Pernambuco",
         "orientation": "v",
         "showlegend": false,
         "textposition": "auto",
         "type": "bar",
         "x": [
          "Pernambuco"
         ],
         "xaxis": "x7",
         "y": [
          2
         ],
         "yaxis": "y7"
        },
        {
         "alignmentgroup": "True",
         "hoverlabel": {
          "namelength": 0
         },
         "hovertemplate": "state=%{x}<br>year=2017<br>month=Agosto<br>number=%{y}",
         "legendgroup": "state=Pernambuco",
         "marker": {
          "color": "#FFA15A"
         },
         "name": "state=Pernambuco",
         "offsetgroup": "state=Pernambuco",
         "orientation": "v",
         "showlegend": false,
         "textposition": "auto",
         "type": "bar",
         "x": [
          "Pernambuco"
         ],
         "xaxis": "x8",
         "y": [
          20
         ],
         "yaxis": "y8"
        },
        {
         "alignmentgroup": "True",
         "hoverlabel": {
          "namelength": 0
         },
         "hovertemplate": "state=%{x}<br>year=2017<br>month=Setembro<br>number=%{y}",
         "legendgroup": "state=Pernambuco",
         "marker": {
          "color": "#FFA15A"
         },
         "name": "state=Pernambuco",
         "offsetgroup": "state=Pernambuco",
         "orientation": "v",
         "showlegend": false,
         "textposition": "auto",
         "type": "bar",
         "x": [
          "Pernambuco"
         ],
         "xaxis": "x9",
         "y": [
          69
         ],
         "yaxis": "y9"
        },
        {
         "alignmentgroup": "True",
         "hoverlabel": {
          "namelength": 0
         },
         "hovertemplate": "state=%{x}<br>year=2017<br>month=Outubro<br>number=%{y}",
         "legendgroup": "state=Pernambuco",
         "marker": {
          "color": "#FFA15A"
         },
         "name": "state=Pernambuco",
         "offsetgroup": "state=Pernambuco",
         "orientation": "v",
         "showlegend": false,
         "textposition": "auto",
         "type": "bar",
         "x": [
          "Pernambuco"
         ],
         "xaxis": "x10",
         "y": [
          256
         ],
         "yaxis": "y10"
        },
        {
         "alignmentgroup": "True",
         "hoverlabel": {
          "namelength": 0
         },
         "hovertemplate": "state=%{x}<br>year=2017<br>month=Novembro<br>number=%{y}",
         "legendgroup": "state=Pernambuco",
         "marker": {
          "color": "#FFA15A"
         },
         "name": "state=Pernambuco",
         "offsetgroup": "state=Pernambuco",
         "orientation": "v",
         "showlegend": false,
         "textposition": "auto",
         "type": "bar",
         "x": [
          "Pernambuco"
         ],
         "xaxis": "x11",
         "y": [
          66
         ],
         "yaxis": "y11"
        },
        {
         "alignmentgroup": "True",
         "hoverlabel": {
          "namelength": 0
         },
         "hovertemplate": "state=%{x}<br>year=2016<br>month=Janeiro<br>number=%{y}",
         "legendgroup": "state=Piau",
         "marker": {
          "color": "#19d3f3"
         },
         "name": "state=Piau",
         "offsetgroup": "state=Piau",
         "orientation": "v",
         "showlegend": true,
         "textposition": "auto",
         "type": "bar",
         "x": [
          "Piau"
         ],
         "xaxis": "x13",
         "y": [
          94
         ],
         "yaxis": "y13"
        },
        {
         "alignmentgroup": "True",
         "hoverlabel": {
          "namelength": 0
         },
         "hovertemplate": "state=%{x}<br>year=2016<br>month=Fevereiro<br>number=%{y}",
         "legendgroup": "state=Piau",
         "marker": {
          "color": "#19d3f3"
         },
         "name": "state=Piau",
         "offsetgroup": "state=Piau",
         "orientation": "v",
         "showlegend": false,
         "textposition": "auto",
         "type": "bar",
         "x": [
          "Piau"
         ],
         "xaxis": "x14",
         "y": [
          97
         ],
         "yaxis": "y14"
        },
        {
         "alignmentgroup": "True",
         "hoverlabel": {
          "namelength": 0
         },
         "hovertemplate": "state=%{x}<br>year=2016<br>month=Março<br>number=%{y}",
         "legendgroup": "state=Piau",
         "marker": {
          "color": "#19d3f3"
         },
         "name": "state=Piau",
         "offsetgroup": "state=Piau",
         "orientation": "v",
         "showlegend": false,
         "textposition": "auto",
         "type": "bar",
         "x": [
          "Piau"
         ],
         "xaxis": "x15",
         "y": [
          53
         ],
         "yaxis": "y15"
        },
        {
         "alignmentgroup": "True",
         "hoverlabel": {
          "namelength": 0
         },
         "hovertemplate": "state=%{x}<br>year=2016<br>month=Abril<br>number=%{y}",
         "legendgroup": "state=Piau",
         "marker": {
          "color": "#19d3f3"
         },
         "name": "state=Piau",
         "offsetgroup": "state=Piau",
         "orientation": "v",
         "showlegend": false,
         "textposition": "auto",
         "type": "bar",
         "x": [
          "Piau"
         ],
         "xaxis": "x16",
         "y": [
          35
         ],
         "yaxis": "y16"
        },
        {
         "alignmentgroup": "True",
         "hoverlabel": {
          "namelength": 0
         },
         "hovertemplate": "state=%{x}<br>year=2016<br>month=Maio<br>number=%{y}",
         "legendgroup": "state=Piau",
         "marker": {
          "color": "#19d3f3"
         },
         "name": "state=Piau",
         "offsetgroup": "state=Piau",
         "orientation": "v",
         "showlegend": false,
         "textposition": "auto",
         "type": "bar",
         "x": [
          "Piau"
         ],
         "xaxis": "x17",
         "y": [
          60
         ],
         "yaxis": "y17"
        },
        {
         "alignmentgroup": "True",
         "hoverlabel": {
          "namelength": 0
         },
         "hovertemplate": "state=%{x}<br>year=2016<br>month=Junho<br>number=%{y}",
         "legendgroup": "state=Piau",
         "marker": {
          "color": "#19d3f3"
         },
         "name": "state=Piau",
         "offsetgroup": "state=Piau",
         "orientation": "v",
         "showlegend": false,
         "textposition": "auto",
         "type": "bar",
         "x": [
          "Piau"
         ],
         "xaxis": "x18",
         "y": [
          153
         ],
         "yaxis": "y18"
        },
        {
         "alignmentgroup": "True",
         "hoverlabel": {
          "namelength": 0
         },
         "hovertemplate": "state=%{x}<br>year=2016<br>month=Julho<br>number=%{y}",
         "legendgroup": "state=Piau",
         "marker": {
          "color": "#19d3f3"
         },
         "name": "state=Piau",
         "offsetgroup": "state=Piau",
         "orientation": "v",
         "showlegend": false,
         "textposition": "auto",
         "type": "bar",
         "x": [
          "Piau"
         ],
         "xaxis": "x19",
         "y": [
          754
         ],
         "yaxis": "y19"
        },
        {
         "alignmentgroup": "True",
         "hoverlabel": {
          "namelength": 0
         },
         "hovertemplate": "state=%{x}<br>year=2016<br>month=Agosto<br>number=%{y}",
         "legendgroup": "state=Piau",
         "marker": {
          "color": "#19d3f3"
         },
         "name": "state=Piau",
         "offsetgroup": "state=Piau",
         "orientation": "v",
         "showlegend": false,
         "textposition": "auto",
         "type": "bar",
         "x": [
          "Piau"
         ],
         "xaxis": "x20",
         "y": [
          1.6469999999999998
         ],
         "yaxis": "y20"
        },
        {
         "alignmentgroup": "True",
         "hoverlabel": {
          "namelength": 0
         },
         "hovertemplate": "state=%{x}<br>year=2016<br>month=Setembro<br>number=%{y}",
         "legendgroup": "state=Piau",
         "marker": {
          "color": "#19d3f3"
         },
         "name": "state=Piau",
         "offsetgroup": "state=Piau",
         "orientation": "v",
         "showlegend": false,
         "textposition": "auto",
         "type": "bar",
         "x": [
          "Piau"
         ],
         "xaxis": "x21",
         "y": [
          1.3940000000000001
         ],
         "yaxis": "y21"
        },
        {
         "alignmentgroup": "True",
         "hoverlabel": {
          "namelength": 0
         },
         "hovertemplate": "state=%{x}<br>year=2016<br>month=Outubro<br>number=%{y}",
         "legendgroup": "state=Piau",
         "marker": {
          "color": "#19d3f3"
         },
         "name": "state=Piau",
         "offsetgroup": "state=Piau",
         "orientation": "v",
         "showlegend": false,
         "textposition": "auto",
         "type": "bar",
         "x": [
          "Piau"
         ],
         "xaxis": "x22",
         "y": [
          2.5980000000000003
         ],
         "yaxis": "y22"
        },
        {
         "alignmentgroup": "True",
         "hoverlabel": {
          "namelength": 0
         },
         "hovertemplate": "state=%{x}<br>year=2016<br>month=Novembro<br>number=%{y}",
         "legendgroup": "state=Piau",
         "marker": {
          "color": "#19d3f3"
         },
         "name": "state=Piau",
         "offsetgroup": "state=Piau",
         "orientation": "v",
         "showlegend": false,
         "textposition": "auto",
         "type": "bar",
         "x": [
          "Piau"
         ],
         "xaxis": "x23",
         "y": [
          1.126
         ],
         "yaxis": "y23"
        },
        {
         "alignmentgroup": "True",
         "hoverlabel": {
          "namelength": 0
         },
         "hovertemplate": "state=%{x}<br>year=2016<br>month=Dezembro<br>number=%{y}",
         "legendgroup": "state=Piau",
         "marker": {
          "color": "#19d3f3"
         },
         "name": "state=Piau",
         "offsetgroup": "state=Piau",
         "orientation": "v",
         "showlegend": false,
         "textposition": "auto",
         "type": "bar",
         "x": [
          "Piau"
         ],
         "xaxis": "x24",
         "y": [
          374
         ],
         "yaxis": "y24"
        },
        {
         "alignmentgroup": "True",
         "hoverlabel": {
          "namelength": 0
         },
         "hovertemplate": "state=%{x}<br>year=2017<br>month=Janeiro<br>number=%{y}",
         "legendgroup": "state=Piau",
         "marker": {
          "color": "#19d3f3"
         },
         "name": "state=Piau",
         "offsetgroup": "state=Piau",
         "orientation": "v",
         "showlegend": false,
         "textposition": "auto",
         "type": "bar",
         "x": [
          "Piau"
         ],
         "xaxis": "x",
         "y": [
          85
         ],
         "yaxis": "y"
        },
        {
         "alignmentgroup": "True",
         "hoverlabel": {
          "namelength": 0
         },
         "hovertemplate": "state=%{x}<br>year=2017<br>month=Fevereiro<br>number=%{y}",
         "legendgroup": "state=Piau",
         "marker": {
          "color": "#19d3f3"
         },
         "name": "state=Piau",
         "offsetgroup": "state=Piau",
         "orientation": "v",
         "showlegend": false,
         "textposition": "auto",
         "type": "bar",
         "x": [
          "Piau"
         ],
         "xaxis": "x2",
         "y": [
          24
         ],
         "yaxis": "y2"
        },
        {
         "alignmentgroup": "True",
         "hoverlabel": {
          "namelength": 0
         },
         "hovertemplate": "state=%{x}<br>year=2017<br>month=Março<br>number=%{y}",
         "legendgroup": "state=Piau",
         "marker": {
          "color": "#19d3f3"
         },
         "name": "state=Piau",
         "offsetgroup": "state=Piau",
         "orientation": "v",
         "showlegend": false,
         "textposition": "auto",
         "type": "bar",
         "x": [
          "Piau"
         ],
         "xaxis": "x3",
         "y": [
          25
         ],
         "yaxis": "y3"
        },
        {
         "alignmentgroup": "True",
         "hoverlabel": {
          "namelength": 0
         },
         "hovertemplate": "state=%{x}<br>year=2017<br>month=Abril<br>number=%{y}",
         "legendgroup": "state=Piau",
         "marker": {
          "color": "#19d3f3"
         },
         "name": "state=Piau",
         "offsetgroup": "state=Piau",
         "orientation": "v",
         "showlegend": false,
         "textposition": "auto",
         "type": "bar",
         "x": [
          "Piau"
         ],
         "xaxis": "x4",
         "y": [
          25
         ],
         "yaxis": "y4"
        },
        {
         "alignmentgroup": "True",
         "hoverlabel": {
          "namelength": 0
         },
         "hovertemplate": "state=%{x}<br>year=2017<br>month=Maio<br>number=%{y}",
         "legendgroup": "state=Piau",
         "marker": {
          "color": "#19d3f3"
         },
         "name": "state=Piau",
         "offsetgroup": "state=Piau",
         "orientation": "v",
         "showlegend": false,
         "textposition": "auto",
         "type": "bar",
         "x": [
          "Piau"
         ],
         "xaxis": "x5",
         "y": [
          36
         ],
         "yaxis": "y5"
        },
        {
         "alignmentgroup": "True",
         "hoverlabel": {
          "namelength": 0
         },
         "hovertemplate": "state=%{x}<br>year=2017<br>month=Junho<br>number=%{y}",
         "legendgroup": "state=Piau",
         "marker": {
          "color": "#19d3f3"
         },
         "name": "state=Piau",
         "offsetgroup": "state=Piau",
         "orientation": "v",
         "showlegend": false,
         "textposition": "auto",
         "type": "bar",
         "x": [
          "Piau"
         ],
         "xaxis": "x6",
         "y": [
          193
         ],
         "yaxis": "y6"
        },
        {
         "alignmentgroup": "True",
         "hoverlabel": {
          "namelength": 0
         },
         "hovertemplate": "state=%{x}<br>year=2017<br>month=Julho<br>number=%{y}",
         "legendgroup": "state=Piau",
         "marker": {
          "color": "#19d3f3"
         },
         "name": "state=Piau",
         "offsetgroup": "state=Piau",
         "orientation": "v",
         "showlegend": false,
         "textposition": "auto",
         "type": "bar",
         "x": [
          "Piau"
         ],
         "xaxis": "x7",
         "y": [
          643
         ],
         "yaxis": "y7"
        },
        {
         "alignmentgroup": "True",
         "hoverlabel": {
          "namelength": 0
         },
         "hovertemplate": "state=%{x}<br>year=2017<br>month=Agosto<br>number=%{y}",
         "legendgroup": "state=Piau",
         "marker": {
          "color": "#19d3f3"
         },
         "name": "state=Piau",
         "offsetgroup": "state=Piau",
         "orientation": "v",
         "showlegend": false,
         "textposition": "auto",
         "type": "bar",
         "x": [
          "Piau"
         ],
         "xaxis": "x8",
         "y": [
          1.5719999999999998
         ],
         "yaxis": "y8"
        },
        {
         "alignmentgroup": "True",
         "hoverlabel": {
          "namelength": 0
         },
         "hovertemplate": "state=%{x}<br>year=2017<br>month=Setembro<br>number=%{y}",
         "legendgroup": "state=Piau",
         "marker": {
          "color": "#19d3f3"
         },
         "name": "state=Piau",
         "offsetgroup": "state=Piau",
         "orientation": "v",
         "showlegend": false,
         "textposition": "auto",
         "type": "bar",
         "x": [
          "Piau"
         ],
         "xaxis": "x9",
         "y": [
          3.4219999999999997
         ],
         "yaxis": "y9"
        },
        {
         "alignmentgroup": "True",
         "hoverlabel": {
          "namelength": 0
         },
         "hovertemplate": "state=%{x}<br>year=2017<br>month=Outubro<br>number=%{y}",
         "legendgroup": "state=Piau",
         "marker": {
          "color": "#19d3f3"
         },
         "name": "state=Piau",
         "offsetgroup": "state=Piau",
         "orientation": "v",
         "showlegend": false,
         "textposition": "auto",
         "type": "bar",
         "x": [
          "Piau"
         ],
         "xaxis": "x10",
         "y": [
          3.0039999999999996
         ],
         "yaxis": "y10"
        },
        {
         "alignmentgroup": "True",
         "hoverlabel": {
          "namelength": 0
         },
         "hovertemplate": "state=%{x}<br>year=2017<br>month=Novembro<br>number=%{y}",
         "legendgroup": "state=Piau",
         "marker": {
          "color": "#19d3f3"
         },
         "name": "state=Piau",
         "offsetgroup": "state=Piau",
         "orientation": "v",
         "showlegend": false,
         "textposition": "auto",
         "type": "bar",
         "x": [
          "Piau"
         ],
         "xaxis": "x11",
         "y": [
          449
         ],
         "yaxis": "y11"
        },
        {
         "alignmentgroup": "True",
         "hoverlabel": {
          "namelength": 0
         },
         "hovertemplate": "state=%{x}<br>year=2016<br>month=Janeiro<br>number=%{y}",
         "legendgroup": "state=Rio",
         "marker": {
          "color": "#FF6692"
         },
         "name": "state=Rio",
         "offsetgroup": "state=Rio",
         "orientation": "v",
         "showlegend": true,
         "textposition": "auto",
         "type": "bar",
         "x": [
          "Rio",
          "Rio",
          "Rio"
         ],
         "xaxis": "x13",
         "y": [
          9,
          15,
          68
         ],
         "yaxis": "y13"
        },
        {
         "alignmentgroup": "True",
         "hoverlabel": {
          "namelength": 0
         },
         "hovertemplate": "state=%{x}<br>year=2016<br>month=Fevereiro<br>number=%{y}",
         "legendgroup": "state=Rio",
         "marker": {
          "color": "#FF6692"
         },
         "name": "state=Rio",
         "offsetgroup": "state=Rio",
         "orientation": "v",
         "showlegend": false,
         "textposition": "auto",
         "type": "bar",
         "x": [
          "Rio",
          "Rio",
          "Rio"
         ],
         "xaxis": "x14",
         "y": [
          16,
          2,
          55
         ],
         "yaxis": "y14"
        },
        {
         "alignmentgroup": "True",
         "hoverlabel": {
          "namelength": 0
         },
         "hovertemplate": "state=%{x}<br>year=2016<br>month=Março<br>number=%{y}",
         "legendgroup": "state=Rio",
         "marker": {
          "color": "#FF6692"
         },
         "name": "state=Rio",
         "offsetgroup": "state=Rio",
         "orientation": "v",
         "showlegend": false,
         "textposition": "auto",
         "type": "bar",
         "x": [
          "Rio",
          "Rio",
          "Rio"
         ],
         "xaxis": "x15",
         "y": [
          16,
          1,
          30
         ],
         "yaxis": "y15"
        },
        {
         "alignmentgroup": "True",
         "hoverlabel": {
          "namelength": 0
         },
         "hovertemplate": "state=%{x}<br>year=2016<br>month=Abril<br>number=%{y}",
         "legendgroup": "state=Rio",
         "marker": {
          "color": "#FF6692"
         },
         "name": "state=Rio",
         "offsetgroup": "state=Rio",
         "orientation": "v",
         "showlegend": false,
         "textposition": "auto",
         "type": "bar",
         "x": [
          "Rio",
          "Rio",
          "Rio"
         ],
         "xaxis": "x16",
         "y": [
          45,
          0,
          32
         ],
         "yaxis": "y16"
        },
        {
         "alignmentgroup": "True",
         "hoverlabel": {
          "namelength": 0
         },
         "hovertemplate": "state=%{x}<br>year=2016<br>month=Maio<br>number=%{y}",
         "legendgroup": "state=Rio",
         "marker": {
          "color": "#FF6692"
         },
         "name": "state=Rio",
         "offsetgroup": "state=Rio",
         "orientation": "v",
         "showlegend": false,
         "textposition": "auto",
         "type": "bar",
         "x": [
          "Rio",
          "Rio",
          "Rio"
         ],
         "xaxis": "x17",
         "y": [
          30,
          1,
          37
         ],
         "yaxis": "y17"
        },
        {
         "alignmentgroup": "True",
         "hoverlabel": {
          "namelength": 0
         },
         "hovertemplate": "state=%{x}<br>year=2016<br>month=Junho<br>number=%{y}",
         "legendgroup": "state=Rio",
         "marker": {
          "color": "#FF6692"
         },
         "name": "state=Rio",
         "offsetgroup": "state=Rio",
         "orientation": "v",
         "showlegend": false,
         "textposition": "auto",
         "type": "bar",
         "x": [
          "Rio",
          "Rio",
          "Rio"
         ],
         "xaxis": "x18",
         "y": [
          37,
          4,
          261
         ],
         "yaxis": "y18"
        },
        {
         "alignmentgroup": "True",
         "hoverlabel": {
          "namelength": 0
         },
         "hovertemplate": "state=%{x}<br>year=2016<br>month=Julho<br>number=%{y}",
         "legendgroup": "state=Rio",
         "marker": {
          "color": "#FF6692"
         },
         "name": "state=Rio",
         "offsetgroup": "state=Rio",
         "orientation": "v",
         "showlegend": false,
         "textposition": "auto",
         "type": "bar",
         "x": [
          "Rio",
          "Rio",
          "Rio"
         ],
         "xaxis": "x19",
         "y": [
          131,
          13,
          865
         ],
         "yaxis": "y19"
        },
        {
         "alignmentgroup": "True",
         "hoverlabel": {
          "namelength": 0
         },
         "hovertemplate": "state=%{x}<br>year=2016<br>month=Agosto<br>number=%{y}",
         "legendgroup": "state=Rio",
         "marker": {
          "color": "#FF6692"
         },
         "name": "state=Rio",
         "offsetgroup": "state=Rio",
         "orientation": "v",
         "showlegend": false,
         "textposition": "auto",
         "type": "bar",
         "x": [
          "Rio",
          "Rio",
          "Rio"
         ],
         "xaxis": "x20",
         "y": [
          241,
          24,
          1.111
         ],
         "yaxis": "y20"
        },
        {
         "alignmentgroup": "True",
         "hoverlabel": {
          "namelength": 0
         },
         "hovertemplate": "state=%{x}<br>year=2016<br>month=Setembro<br>number=%{y}",
         "legendgroup": "state=Rio",
         "marker": {
          "color": "#FF6692"
         },
         "name": "state=Rio",
         "offsetgroup": "state=Rio",
         "orientation": "v",
         "showlegend": false,
         "textposition": "auto",
         "type": "bar",
         "x": [
          "Rio",
          "Rio",
          "Rio"
         ],
         "xaxis": "x21",
         "y": [
          195,
          44,
          628
         ],
         "yaxis": "y21"
        },
        {
         "alignmentgroup": "True",
         "hoverlabel": {
          "namelength": 0
         },
         "hovertemplate": "state=%{x}<br>year=2016<br>month=Outubro<br>number=%{y}",
         "legendgroup": "state=Rio",
         "marker": {
          "color": "#FF6692"
         },
         "name": "state=Rio",
         "offsetgroup": "state=Rio",
         "orientation": "v",
         "showlegend": false,
         "textposition": "auto",
         "type": "bar",
         "x": [
          "Rio",
          "Rio",
          "Rio"
         ],
         "xaxis": "x22",
         "y": [
          30,
          129,
          93
         ],
         "yaxis": "y22"
        },
        {
         "alignmentgroup": "True",
         "hoverlabel": {
          "namelength": 0
         },
         "hovertemplate": "state=%{x}<br>year=2016<br>month=Novembro<br>number=%{y}",
         "legendgroup": "state=Rio",
         "marker": {
          "color": "#FF6692"
         },
         "name": "state=Rio",
         "offsetgroup": "state=Rio",
         "orientation": "v",
         "showlegend": false,
         "textposition": "auto",
         "type": "bar",
         "x": [
          "Rio",
          "Rio",
          "Rio"
         ],
         "xaxis": "x23",
         "y": [
          19,
          93,
          105
         ],
         "yaxis": "y23"
        },
        {
         "alignmentgroup": "True",
         "hoverlabel": {
          "namelength": 0
         },
         "hovertemplate": "state=%{x}<br>year=2016<br>month=Dezembro<br>number=%{y}",
         "legendgroup": "state=Rio",
         "marker": {
          "color": "#FF6692"
         },
         "name": "state=Rio",
         "offsetgroup": "state=Rio",
         "orientation": "v",
         "showlegend": false,
         "textposition": "auto",
         "type": "bar",
         "x": [
          "Rio",
          "Rio",
          "Rio"
         ],
         "xaxis": "x24",
         "y": [
          5,
          75,
          79
         ],
         "yaxis": "y24"
        },
        {
         "alignmentgroup": "True",
         "hoverlabel": {
          "namelength": 0
         },
         "hovertemplate": "state=%{x}<br>year=2017<br>month=Janeiro<br>number=%{y}",
         "legendgroup": "state=Rio",
         "marker": {
          "color": "#FF6692"
         },
         "name": "state=Rio",
         "offsetgroup": "state=Rio",
         "orientation": "v",
         "showlegend": false,
         "textposition": "auto",
         "type": "bar",
         "x": [
          "Rio",
          "Rio",
          "Rio"
         ],
         "xaxis": "x",
         "y": [
          15,
          28,
          28
         ],
         "yaxis": "y"
        },
        {
         "alignmentgroup": "True",
         "hoverlabel": {
          "namelength": 0
         },
         "hovertemplate": "state=%{x}<br>year=2017<br>month=Fevereiro<br>number=%{y}",
         "legendgroup": "state=Rio",
         "marker": {
          "color": "#FF6692"
         },
         "name": "state=Rio",
         "offsetgroup": "state=Rio",
         "orientation": "v",
         "showlegend": false,
         "textposition": "auto",
         "type": "bar",
         "x": [
          "Rio",
          "Rio",
          "Rio"
         ],
         "xaxis": "x2",
         "y": [
          34,
          10,
          31
         ],
         "yaxis": "y2"
        },
        {
         "alignmentgroup": "True",
         "hoverlabel": {
          "namelength": 0
         },
         "hovertemplate": "state=%{x}<br>year=2017<br>month=Março<br>number=%{y}",
         "legendgroup": "state=Rio",
         "marker": {
          "color": "#FF6692"
         },
         "name": "state=Rio",
         "offsetgroup": "state=Rio",
         "orientation": "v",
         "showlegend": false,
         "textposition": "auto",
         "type": "bar",
         "x": [
          "Rio",
          "Rio",
          "Rio"
         ],
         "xaxis": "x3",
         "y": [
          10,
          3,
          34
         ],
         "yaxis": "y3"
        },
        {
         "alignmentgroup": "True",
         "hoverlabel": {
          "namelength": 0
         },
         "hovertemplate": "state=%{x}<br>year=2017<br>month=Abril<br>number=%{y}",
         "legendgroup": "state=Rio",
         "marker": {
          "color": "#FF6692"
         },
         "name": "state=Rio",
         "offsetgroup": "state=Rio",
         "orientation": "v",
         "showlegend": false,
         "textposition": "auto",
         "type": "bar",
         "x": [
          "Rio",
          "Rio",
          "Rio"
         ],
         "xaxis": "x4",
         "y": [
          12,
          6,
          51
         ],
         "yaxis": "y4"
        },
        {
         "alignmentgroup": "True",
         "hoverlabel": {
          "namelength": 0
         },
         "hovertemplate": "state=%{x}<br>year=2017<br>month=Maio<br>number=%{y}",
         "legendgroup": "state=Rio",
         "marker": {
          "color": "#FF6692"
         },
         "name": "state=Rio",
         "offsetgroup": "state=Rio",
         "orientation": "v",
         "showlegend": false,
         "textposition": "auto",
         "type": "bar",
         "x": [
          "Rio",
          "Rio",
          "Rio"
         ],
         "xaxis": "x5",
         "y": [
          15,
          2,
          43
         ],
         "yaxis": "y5"
        },
        {
         "alignmentgroup": "True",
         "hoverlabel": {
          "namelength": 0
         },
         "hovertemplate": "state=%{x}<br>year=2017<br>month=Junho<br>number=%{y}",
         "legendgroup": "state=Rio",
         "marker": {
          "color": "#FF6692"
         },
         "name": "state=Rio",
         "offsetgroup": "state=Rio",
         "orientation": "v",
         "showlegend": false,
         "textposition": "auto",
         "type": "bar",
         "x": [
          "Rio",
          "Rio",
          "Rio"
         ],
         "xaxis": "x6",
         "y": [
          68,
          3,
          103
         ],
         "yaxis": "y6"
        },
        {
         "alignmentgroup": "True",
         "hoverlabel": {
          "namelength": 0
         },
         "hovertemplate": "state=%{x}<br>year=2017<br>month=Julho<br>number=%{y}",
         "legendgroup": "state=Rio",
         "marker": {
          "color": "#FF6692"
         },
         "name": "state=Rio",
         "offsetgroup": "state=Rio",
         "orientation": "v",
         "showlegend": false,
         "textposition": "auto",
         "type": "bar",
         "x": [
          "Rio",
          "Rio",
          "Rio"
         ],
         "xaxis": "x7",
         "y": [
          70,
          4,
          885
         ],
         "yaxis": "y7"
        },
        {
         "alignmentgroup": "True",
         "hoverlabel": {
          "namelength": 0
         },
         "hovertemplate": "state=%{x}<br>year=2017<br>month=Agosto<br>number=%{y}",
         "legendgroup": "state=Rio",
         "marker": {
          "color": "#FF6692"
         },
         "name": "state=Rio",
         "offsetgroup": "state=Rio",
         "orientation": "v",
         "showlegend": false,
         "textposition": "auto",
         "type": "bar",
         "x": [
          "Rio",
          "Rio",
          "Rio"
         ],
         "xaxis": "x8",
         "y": [
          164,
          21,
          819
         ],
         "yaxis": "y8"
        },
        {
         "alignmentgroup": "True",
         "hoverlabel": {
          "namelength": 0
         },
         "hovertemplate": "state=%{x}<br>year=2017<br>month=Setembro<br>number=%{y}",
         "legendgroup": "state=Rio",
         "marker": {
          "color": "#FF6692"
         },
         "name": "state=Rio",
         "offsetgroup": "state=Rio",
         "orientation": "v",
         "showlegend": false,
         "textposition": "auto",
         "type": "bar",
         "x": [
          "Rio",
          "Rio",
          "Rio"
         ],
         "xaxis": "x9",
         "y": [
          728,
          48,
          343
         ],
         "yaxis": "y9"
        },
        {
         "alignmentgroup": "True",
         "hoverlabel": {
          "namelength": 0
         },
         "hovertemplate": "state=%{x}<br>year=2017<br>month=Outubro<br>number=%{y}",
         "legendgroup": "state=Rio",
         "marker": {
          "color": "#FF6692"
         },
         "name": "state=Rio",
         "offsetgroup": "state=Rio",
         "orientation": "v",
         "showlegend": false,
         "textposition": "auto",
         "type": "bar",
         "x": [
          "Rio",
          "Rio",
          "Rio"
         ],
         "xaxis": "x10",
         "y": [
          238,
          85,
          101
         ],
         "yaxis": "y10"
        },
        {
         "alignmentgroup": "True",
         "hoverlabel": {
          "namelength": 0
         },
         "hovertemplate": "state=%{x}<br>year=2017<br>month=Novembro<br>number=%{y}",
         "legendgroup": "state=Rio",
         "marker": {
          "color": "#FF6692"
         },
         "name": "state=Rio",
         "offsetgroup": "state=Rio",
         "orientation": "v",
         "showlegend": false,
         "textposition": "auto",
         "type": "bar",
         "x": [
          "Rio",
          "Rio",
          "Rio"
         ],
         "xaxis": "x11",
         "y": [
          43,
          89,
          137
         ],
         "yaxis": "y11"
        },
        {
         "alignmentgroup": "True",
         "hoverlabel": {
          "namelength": 0
         },
         "hovertemplate": "state=%{x}<br>year=2016<br>month=Janeiro<br>number=%{y}",
         "legendgroup": "state=Rondonia",
         "marker": {
          "color": "#B6E880"
         },
         "name": "state=Rondonia",
         "offsetgroup": "state=Rondonia",
         "orientation": "v",
         "showlegend": true,
         "textposition": "auto",
         "type": "bar",
         "x": [
          "Rondonia"
         ],
         "xaxis": "x13",
         "y": [
          93
         ],
         "yaxis": "y13"
        },
        {
         "alignmentgroup": "True",
         "hoverlabel": {
          "namelength": 0
         },
         "hovertemplate": "state=%{x}<br>year=2016<br>month=Fevereiro<br>number=%{y}",
         "legendgroup": "state=Rondonia",
         "marker": {
          "color": "#B6E880"
         },
         "name": "state=Rondonia",
         "offsetgroup": "state=Rondonia",
         "orientation": "v",
         "showlegend": false,
         "textposition": "auto",
         "type": "bar",
         "x": [
          "Rondonia"
         ],
         "xaxis": "x14",
         "y": [
          88
         ],
         "yaxis": "y14"
        },
        {
         "alignmentgroup": "True",
         "hoverlabel": {
          "namelength": 0
         },
         "hovertemplate": "state=%{x}<br>year=2016<br>month=Março<br>number=%{y}",
         "legendgroup": "state=Rondonia",
         "marker": {
          "color": "#B6E880"
         },
         "name": "state=Rondonia",
         "offsetgroup": "state=Rondonia",
         "orientation": "v",
         "showlegend": false,
         "textposition": "auto",
         "type": "bar",
         "x": [
          "Rondonia"
         ],
         "xaxis": "x15",
         "y": [
          25
         ],
         "yaxis": "y15"
        },
        {
         "alignmentgroup": "True",
         "hoverlabel": {
          "namelength": 0
         },
         "hovertemplate": "state=%{x}<br>year=2016<br>month=Abril<br>number=%{y}",
         "legendgroup": "state=Rondonia",
         "marker": {
          "color": "#B6E880"
         },
         "name": "state=Rondonia",
         "offsetgroup": "state=Rondonia",
         "orientation": "v",
         "showlegend": false,
         "textposition": "auto",
         "type": "bar",
         "x": [
          "Rondonia"
         ],
         "xaxis": "x16",
         "y": [
          59
         ],
         "yaxis": "y16"
        },
        {
         "alignmentgroup": "True",
         "hoverlabel": {
          "namelength": 0
         },
         "hovertemplate": "state=%{x}<br>year=2016<br>month=Maio<br>number=%{y}",
         "legendgroup": "state=Rondonia",
         "marker": {
          "color": "#B6E880"
         },
         "name": "state=Rondonia",
         "offsetgroup": "state=Rondonia",
         "orientation": "v",
         "showlegend": false,
         "textposition": "auto",
         "type": "bar",
         "x": [
          "Rondonia"
         ],
         "xaxis": "x17",
         "y": [
          44
         ],
         "yaxis": "y17"
        },
        {
         "alignmentgroup": "True",
         "hoverlabel": {
          "namelength": 0
         },
         "hovertemplate": "state=%{x}<br>year=2016<br>month=Junho<br>number=%{y}",
         "legendgroup": "state=Rondonia",
         "marker": {
          "color": "#B6E880"
         },
         "name": "state=Rondonia",
         "offsetgroup": "state=Rondonia",
         "orientation": "v",
         "showlegend": false,
         "textposition": "auto",
         "type": "bar",
         "x": [
          "Rondonia"
         ],
         "xaxis": "x18",
         "y": [
          170
         ],
         "yaxis": "y18"
        },
        {
         "alignmentgroup": "True",
         "hoverlabel": {
          "namelength": 0
         },
         "hovertemplate": "state=%{x}<br>year=2016<br>month=Julho<br>number=%{y}",
         "legendgroup": "state=Rondonia",
         "marker": {
          "color": "#B6E880"
         },
         "name": "state=Rondonia",
         "offsetgroup": "state=Rondonia",
         "orientation": "v",
         "showlegend": false,
         "textposition": "auto",
         "type": "bar",
         "x": [
          "Rondonia"
         ],
         "xaxis": "x19",
         "y": [
          969
         ],
         "yaxis": "y19"
        },
        {
         "alignmentgroup": "True",
         "hoverlabel": {
          "namelength": 0
         },
         "hovertemplate": "state=%{x}<br>year=2016<br>month=Agosto<br>number=%{y}",
         "legendgroup": "state=Rondonia",
         "marker": {
          "color": "#B6E880"
         },
         "name": "state=Rondonia",
         "offsetgroup": "state=Rondonia",
         "orientation": "v",
         "showlegend": false,
         "textposition": "auto",
         "type": "bar",
         "x": [
          "Rondonia"
         ],
         "xaxis": "x20",
         "y": [
          3.675
         ],
         "yaxis": "y20"
        },
        {
         "alignmentgroup": "True",
         "hoverlabel": {
          "namelength": 0
         },
         "hovertemplate": "state=%{x}<br>year=2016<br>month=Setembro<br>number=%{y}",
         "legendgroup": "state=Rondonia",
         "marker": {
          "color": "#B6E880"
         },
         "name": "state=Rondonia",
         "offsetgroup": "state=Rondonia",
         "orientation": "v",
         "showlegend": false,
         "textposition": "auto",
         "type": "bar",
         "x": [
          "Rondonia"
         ],
         "xaxis": "x21",
         "y": [
          4.208
         ],
         "yaxis": "y21"
        },
        {
         "alignmentgroup": "True",
         "hoverlabel": {
          "namelength": 0
         },
         "hovertemplate": "state=%{x}<br>year=2016<br>month=Outubro<br>number=%{y}",
         "legendgroup": "state=Rondonia",
         "marker": {
          "color": "#B6E880"
         },
         "name": "state=Rondonia",
         "offsetgroup": "state=Rondonia",
         "orientation": "v",
         "showlegend": false,
         "textposition": "auto",
         "type": "bar",
         "x": [
          "Rondonia"
         ],
         "xaxis": "x22",
         "y": [
          1.844
         ],
         "yaxis": "y22"
        },
        {
         "alignmentgroup": "True",
         "hoverlabel": {
          "namelength": 0
         },
         "hovertemplate": "state=%{x}<br>year=2016<br>month=Novembro<br>number=%{y}",
         "legendgroup": "state=Rondonia",
         "marker": {
          "color": "#B6E880"
         },
         "name": "state=Rondonia",
         "offsetgroup": "state=Rondonia",
         "orientation": "v",
         "showlegend": false,
         "textposition": "auto",
         "type": "bar",
         "x": [
          "Rondonia"
         ],
         "xaxis": "x23",
         "y": [
          401
         ],
         "yaxis": "y23"
        },
        {
         "alignmentgroup": "True",
         "hoverlabel": {
          "namelength": 0
         },
         "hovertemplate": "state=%{x}<br>year=2016<br>month=Dezembro<br>number=%{y}",
         "legendgroup": "state=Rondonia",
         "marker": {
          "color": "#B6E880"
         },
         "name": "state=Rondonia",
         "offsetgroup": "state=Rondonia",
         "orientation": "v",
         "showlegend": false,
         "textposition": "auto",
         "type": "bar",
         "x": [
          "Rondonia"
         ],
         "xaxis": "x24",
         "y": [
          148
         ],
         "yaxis": "y24"
        },
        {
         "alignmentgroup": "True",
         "hoverlabel": {
          "namelength": 0
         },
         "hovertemplate": "state=%{x}<br>year=2017<br>month=Janeiro<br>number=%{y}",
         "legendgroup": "state=Rondonia",
         "marker": {
          "color": "#B6E880"
         },
         "name": "state=Rondonia",
         "offsetgroup": "state=Rondonia",
         "orientation": "v",
         "showlegend": false,
         "textposition": "auto",
         "type": "bar",
         "x": [
          "Rondonia"
         ],
         "xaxis": "x",
         "y": [
          44
         ],
         "yaxis": "y"
        },
        {
         "alignmentgroup": "True",
         "hoverlabel": {
          "namelength": 0
         },
         "hovertemplate": "state=%{x}<br>year=2017<br>month=Fevereiro<br>number=%{y}",
         "legendgroup": "state=Rondonia",
         "marker": {
          "color": "#B6E880"
         },
         "name": "state=Rondonia",
         "offsetgroup": "state=Rondonia",
         "orientation": "v",
         "showlegend": false,
         "textposition": "auto",
         "type": "bar",
         "x": [
          "Rondonia"
         ],
         "xaxis": "x2",
         "y": [
          10
         ],
         "yaxis": "y2"
        },
        {
         "alignmentgroup": "True",
         "hoverlabel": {
          "namelength": 0
         },
         "hovertemplate": "state=%{x}<br>year=2017<br>month=Março<br>number=%{y}",
         "legendgroup": "state=Rondonia",
         "marker": {
          "color": "#B6E880"
         },
         "name": "state=Rondonia",
         "offsetgroup": "state=Rondonia",
         "orientation": "v",
         "showlegend": false,
         "textposition": "auto",
         "type": "bar",
         "x": [
          "Rondonia"
         ],
         "xaxis": "x3",
         "y": [
          21
         ],
         "yaxis": "y3"
        },
        {
         "alignmentgroup": "True",
         "hoverlabel": {
          "namelength": 0
         },
         "hovertemplate": "state=%{x}<br>year=2017<br>month=Abril<br>number=%{y}",
         "legendgroup": "state=Rondonia",
         "marker": {
          "color": "#B6E880"
         },
         "name": "state=Rondonia",
         "offsetgroup": "state=Rondonia",
         "orientation": "v",
         "showlegend": false,
         "textposition": "auto",
         "type": "bar",
         "x": [
          "Rondonia"
         ],
         "xaxis": "x4",
         "y": [
          19
         ],
         "yaxis": "y4"
        },
        {
         "alignmentgroup": "True",
         "hoverlabel": {
          "namelength": 0
         },
         "hovertemplate": "state=%{x}<br>year=2017<br>month=Maio<br>number=%{y}",
         "legendgroup": "state=Rondonia",
         "marker": {
          "color": "#B6E880"
         },
         "name": "state=Rondonia",
         "offsetgroup": "state=Rondonia",
         "orientation": "v",
         "showlegend": false,
         "textposition": "auto",
         "type": "bar",
         "x": [
          "Rondonia"
         ],
         "xaxis": "x5",
         "y": [
          31
         ],
         "yaxis": "y5"
        },
        {
         "alignmentgroup": "True",
         "hoverlabel": {
          "namelength": 0
         },
         "hovertemplate": "state=%{x}<br>year=2017<br>month=Junho<br>number=%{y}",
         "legendgroup": "state=Rondonia",
         "marker": {
          "color": "#B6E880"
         },
         "name": "state=Rondonia",
         "offsetgroup": "state=Rondonia",
         "orientation": "v",
         "showlegend": false,
         "textposition": "auto",
         "type": "bar",
         "x": [
          "Rondonia"
         ],
         "xaxis": "x6",
         "y": [
          192
         ],
         "yaxis": "y6"
        },
        {
         "alignmentgroup": "True",
         "hoverlabel": {
          "namelength": 0
         },
         "hovertemplate": "state=%{x}<br>year=2017<br>month=Julho<br>number=%{y}",
         "legendgroup": "state=Rondonia",
         "marker": {
          "color": "#B6E880"
         },
         "name": "state=Rondonia",
         "offsetgroup": "state=Rondonia",
         "orientation": "v",
         "showlegend": false,
         "textposition": "auto",
         "type": "bar",
         "x": [
          "Rondonia"
         ],
         "xaxis": "x7",
         "y": [
          1.28
         ],
         "yaxis": "y7"
        },
        {
         "alignmentgroup": "True",
         "hoverlabel": {
          "namelength": 0
         },
         "hovertemplate": "state=%{x}<br>year=2017<br>month=Agosto<br>number=%{y}",
         "legendgroup": "state=Rondonia",
         "marker": {
          "color": "#B6E880"
         },
         "name": "state=Rondonia",
         "offsetgroup": "state=Rondonia",
         "orientation": "v",
         "showlegend": false,
         "textposition": "auto",
         "type": "bar",
         "x": [
          "Rondonia"
         ],
         "xaxis": "x8",
         "y": [
          4.287
         ],
         "yaxis": "y8"
        },
        {
         "alignmentgroup": "True",
         "hoverlabel": {
          "namelength": 0
         },
         "hovertemplate": "state=%{x}<br>year=2017<br>month=Setembro<br>number=%{y}",
         "legendgroup": "state=Rondonia",
         "marker": {
          "color": "#B6E880"
         },
         "name": "state=Rondonia",
         "offsetgroup": "state=Rondonia",
         "orientation": "v",
         "showlegend": false,
         "textposition": "auto",
         "type": "bar",
         "x": [
          "Rondonia"
         ],
         "xaxis": "x9",
         "y": [
          5.638
         ],
         "yaxis": "y9"
        },
        {
         "alignmentgroup": "True",
         "hoverlabel": {
          "namelength": 0
         },
         "hovertemplate": "state=%{x}<br>year=2017<br>month=Outubro<br>number=%{y}",
         "legendgroup": "state=Rondonia",
         "marker": {
          "color": "#B6E880"
         },
         "name": "state=Rondonia",
         "offsetgroup": "state=Rondonia",
         "orientation": "v",
         "showlegend": false,
         "textposition": "auto",
         "type": "bar",
         "x": [
          "Rondonia"
         ],
         "xaxis": "x10",
         "y": [
          2.19
         ],
         "yaxis": "y10"
        },
        {
         "alignmentgroup": "True",
         "hoverlabel": {
          "namelength": 0
         },
         "hovertemplate": "state=%{x}<br>year=2017<br>month=Novembro<br>number=%{y}",
         "legendgroup": "state=Rondonia",
         "marker": {
          "color": "#B6E880"
         },
         "name": "state=Rondonia",
         "offsetgroup": "state=Rondonia",
         "orientation": "v",
         "showlegend": false,
         "textposition": "auto",
         "type": "bar",
         "x": [
          "Rondonia"
         ],
         "xaxis": "x11",
         "y": [
          372
         ],
         "yaxis": "y11"
        },
        {
         "alignmentgroup": "True",
         "hoverlabel": {
          "namelength": 0
         },
         "hovertemplate": "state=%{x}<br>year=2016<br>month=Janeiro<br>number=%{y}",
         "legendgroup": "state=Roraima",
         "marker": {
          "color": "#FF97FF"
         },
         "name": "state=Roraima",
         "offsetgroup": "state=Roraima",
         "orientation": "v",
         "showlegend": true,
         "textposition": "auto",
         "type": "bar",
         "x": [
          "Roraima"
         ],
         "xaxis": "x13",
         "y": [
          1.754
         ],
         "yaxis": "y13"
        },
        {
         "alignmentgroup": "True",
         "hoverlabel": {
          "namelength": 0
         },
         "hovertemplate": "state=%{x}<br>year=2016<br>month=Fevereiro<br>number=%{y}",
         "legendgroup": "state=Roraima",
         "marker": {
          "color": "#FF97FF"
         },
         "name": "state=Roraima",
         "offsetgroup": "state=Roraima",
         "orientation": "v",
         "showlegend": false,
         "textposition": "auto",
         "type": "bar",
         "x": [
          "Roraima"
         ],
         "xaxis": "x14",
         "y": [
          171
         ],
         "yaxis": "y14"
        },
        {
         "alignmentgroup": "True",
         "hoverlabel": {
          "namelength": 0
         },
         "hovertemplate": "state=%{x}<br>year=2016<br>month=Março<br>number=%{y}",
         "legendgroup": "state=Roraima",
         "marker": {
          "color": "#FF97FF"
         },
         "name": "state=Roraima",
         "offsetgroup": "state=Roraima",
         "orientation": "v",
         "showlegend": false,
         "textposition": "auto",
         "type": "bar",
         "x": [
          "Roraima"
         ],
         "xaxis": "x15",
         "y": [
          1.081
         ],
         "yaxis": "y15"
        },
        {
         "alignmentgroup": "True",
         "hoverlabel": {
          "namelength": 0
         },
         "hovertemplate": "state=%{x}<br>year=2016<br>month=Abril<br>number=%{y}",
         "legendgroup": "state=Roraima",
         "marker": {
          "color": "#FF97FF"
         },
         "name": "state=Roraima",
         "offsetgroup": "state=Roraima",
         "orientation": "v",
         "showlegend": false,
         "textposition": "auto",
         "type": "bar",
         "x": [
          "Roraima"
         ],
         "xaxis": "x16",
         "y": [
          126
         ],
         "yaxis": "y16"
        },
        {
         "alignmentgroup": "True",
         "hoverlabel": {
          "namelength": 0
         },
         "hovertemplate": "state=%{x}<br>year=2016<br>month=Maio<br>number=%{y}",
         "legendgroup": "state=Roraima",
         "marker": {
          "color": "#FF97FF"
         },
         "name": "state=Roraima",
         "offsetgroup": "state=Roraima",
         "orientation": "v",
         "showlegend": false,
         "textposition": "auto",
         "type": "bar",
         "x": [
          "Roraima"
         ],
         "xaxis": "x17",
         "y": [
          22
         ],
         "yaxis": "y17"
        },
        {
         "alignmentgroup": "True",
         "hoverlabel": {
          "namelength": 0
         },
         "hovertemplate": "state=%{x}<br>year=2016<br>month=Junho<br>number=%{y}",
         "legendgroup": "state=Roraima",
         "marker": {
          "color": "#FF97FF"
         },
         "name": "state=Roraima",
         "offsetgroup": "state=Roraima",
         "orientation": "v",
         "showlegend": false,
         "textposition": "auto",
         "type": "bar",
         "x": [
          "Roraima"
         ],
         "xaxis": "x18",
         "y": [
          7
         ],
         "yaxis": "y18"
        },
        {
         "alignmentgroup": "True",
         "hoverlabel": {
          "namelength": 0
         },
         "hovertemplate": "state=%{x}<br>year=2016<br>month=Julho<br>number=%{y}",
         "legendgroup": "state=Roraima",
         "marker": {
          "color": "#FF97FF"
         },
         "name": "state=Roraima",
         "offsetgroup": "state=Roraima",
         "orientation": "v",
         "showlegend": false,
         "textposition": "auto",
         "type": "bar",
         "x": [
          "Roraima"
         ],
         "xaxis": "x19",
         "y": [
          0
         ],
         "yaxis": "y19"
        },
        {
         "alignmentgroup": "True",
         "hoverlabel": {
          "namelength": 0
         },
         "hovertemplate": "state=%{x}<br>year=2016<br>month=Agosto<br>number=%{y}",
         "legendgroup": "state=Roraima",
         "marker": {
          "color": "#FF97FF"
         },
         "name": "state=Roraima",
         "offsetgroup": "state=Roraima",
         "orientation": "v",
         "showlegend": false,
         "textposition": "auto",
         "type": "bar",
         "x": [
          "Roraima"
         ],
         "xaxis": "x20",
         "y": [
          11
         ],
         "yaxis": "y20"
        },
        {
         "alignmentgroup": "True",
         "hoverlabel": {
          "namelength": 0
         },
         "hovertemplate": "state=%{x}<br>year=2016<br>month=Setembro<br>number=%{y}",
         "legendgroup": "state=Roraima",
         "marker": {
          "color": "#FF97FF"
         },
         "name": "state=Roraima",
         "offsetgroup": "state=Roraima",
         "orientation": "v",
         "showlegend": false,
         "textposition": "auto",
         "type": "bar",
         "x": [
          "Roraima"
         ],
         "xaxis": "x21",
         "y": [
          19
         ],
         "yaxis": "y21"
        },
        {
         "alignmentgroup": "True",
         "hoverlabel": {
          "namelength": 0
         },
         "hovertemplate": "state=%{x}<br>year=2016<br>month=Outubro<br>number=%{y}",
         "legendgroup": "state=Roraima",
         "marker": {
          "color": "#FF97FF"
         },
         "name": "state=Roraima",
         "offsetgroup": "state=Roraima",
         "orientation": "v",
         "showlegend": false,
         "textposition": "auto",
         "type": "bar",
         "x": [
          "Roraima"
         ],
         "xaxis": "x22",
         "y": [
          101
         ],
         "yaxis": "y22"
        },
        {
         "alignmentgroup": "True",
         "hoverlabel": {
          "namelength": 0
         },
         "hovertemplate": "state=%{x}<br>year=2016<br>month=Novembro<br>number=%{y}",
         "legendgroup": "state=Roraima",
         "marker": {
          "color": "#FF97FF"
         },
         "name": "state=Roraima",
         "offsetgroup": "state=Roraima",
         "orientation": "v",
         "showlegend": false,
         "textposition": "auto",
         "type": "bar",
         "x": [
          "Roraima"
         ],
         "xaxis": "x23",
         "y": [
          71
         ],
         "yaxis": "y23"
        },
        {
         "alignmentgroup": "True",
         "hoverlabel": {
          "namelength": 0
         },
         "hovertemplate": "state=%{x}<br>year=2016<br>month=Dezembro<br>number=%{y}",
         "legendgroup": "state=Roraima",
         "marker": {
          "color": "#FF97FF"
         },
         "name": "state=Roraima",
         "offsetgroup": "state=Roraima",
         "orientation": "v",
         "showlegend": false,
         "textposition": "auto",
         "type": "bar",
         "x": [
          "Roraima"
         ],
         "xaxis": "x24",
         "y": [
          136
         ],
         "yaxis": "y24"
        },
        {
         "alignmentgroup": "True",
         "hoverlabel": {
          "namelength": 0
         },
         "hovertemplate": "state=%{x}<br>year=2017<br>month=Janeiro<br>number=%{y}",
         "legendgroup": "state=Roraima",
         "marker": {
          "color": "#FF97FF"
         },
         "name": "state=Roraima",
         "offsetgroup": "state=Roraima",
         "orientation": "v",
         "showlegend": false,
         "textposition": "auto",
         "type": "bar",
         "x": [
          "Roraima"
         ],
         "xaxis": "x",
         "y": [
          108
         ],
         "yaxis": "y"
        },
        {
         "alignmentgroup": "True",
         "hoverlabel": {
          "namelength": 0
         },
         "hovertemplate": "state=%{x}<br>year=2017<br>month=Fevereiro<br>number=%{y}",
         "legendgroup": "state=Roraima",
         "marker": {
          "color": "#FF97FF"
         },
         "name": "state=Roraima",
         "offsetgroup": "state=Roraima",
         "orientation": "v",
         "showlegend": false,
         "textposition": "auto",
         "type": "bar",
         "x": [
          "Roraima"
         ],
         "xaxis": "x2",
         "y": [
          129
         ],
         "yaxis": "y2"
        },
        {
         "alignmentgroup": "True",
         "hoverlabel": {
          "namelength": 0
         },
         "hovertemplate": "state=%{x}<br>year=2017<br>month=Março<br>number=%{y}",
         "legendgroup": "state=Roraima",
         "marker": {
          "color": "#FF97FF"
         },
         "name": "state=Roraima",
         "offsetgroup": "state=Roraima",
         "orientation": "v",
         "showlegend": false,
         "textposition": "auto",
         "type": "bar",
         "x": [
          "Roraima"
         ],
         "xaxis": "x3",
         "y": [
          216
         ],
         "yaxis": "y3"
        },
        {
         "alignmentgroup": "True",
         "hoverlabel": {
          "namelength": 0
         },
         "hovertemplate": "state=%{x}<br>year=2017<br>month=Abril<br>number=%{y}",
         "legendgroup": "state=Roraima",
         "marker": {
          "color": "#FF97FF"
         },
         "name": "state=Roraima",
         "offsetgroup": "state=Roraima",
         "orientation": "v",
         "showlegend": false,
         "textposition": "auto",
         "type": "bar",
         "x": [
          "Roraima"
         ],
         "xaxis": "x4",
         "y": [
          51
         ],
         "yaxis": "y4"
        },
        {
         "alignmentgroup": "True",
         "hoverlabel": {
          "namelength": 0
         },
         "hovertemplate": "state=%{x}<br>year=2017<br>month=Maio<br>number=%{y}",
         "legendgroup": "state=Roraima",
         "marker": {
          "color": "#FF97FF"
         },
         "name": "state=Roraima",
         "offsetgroup": "state=Roraima",
         "orientation": "v",
         "showlegend": false,
         "textposition": "auto",
         "type": "bar",
         "x": [
          "Roraima"
         ],
         "xaxis": "x5",
         "y": [
          29
         ],
         "yaxis": "y5"
        },
        {
         "alignmentgroup": "True",
         "hoverlabel": {
          "namelength": 0
         },
         "hovertemplate": "state=%{x}<br>year=2017<br>month=Junho<br>number=%{y}",
         "legendgroup": "state=Roraima",
         "marker": {
          "color": "#FF97FF"
         },
         "name": "state=Roraima",
         "offsetgroup": "state=Roraima",
         "orientation": "v",
         "showlegend": false,
         "textposition": "auto",
         "type": "bar",
         "x": [
          "Roraima"
         ],
         "xaxis": "x6",
         "y": [
          4
         ],
         "yaxis": "y6"
        },
        {
         "alignmentgroup": "True",
         "hoverlabel": {
          "namelength": 0
         },
         "hovertemplate": "state=%{x}<br>year=2017<br>month=Julho<br>number=%{y}",
         "legendgroup": "state=Roraima",
         "marker": {
          "color": "#FF97FF"
         },
         "name": "state=Roraima",
         "offsetgroup": "state=Roraima",
         "orientation": "v",
         "showlegend": false,
         "textposition": "auto",
         "type": "bar",
         "x": [
          "Roraima"
         ],
         "xaxis": "x7",
         "y": [
          3
         ],
         "yaxis": "y7"
        },
        {
         "alignmentgroup": "True",
         "hoverlabel": {
          "namelength": 0
         },
         "hovertemplate": "state=%{x}<br>year=2017<br>month=Agosto<br>number=%{y}",
         "legendgroup": "state=Roraima",
         "marker": {
          "color": "#FF97FF"
         },
         "name": "state=Roraima",
         "offsetgroup": "state=Roraima",
         "orientation": "v",
         "showlegend": false,
         "textposition": "auto",
         "type": "bar",
         "x": [
          "Roraima"
         ],
         "xaxis": "x8",
         "y": [
          35
         ],
         "yaxis": "y8"
        },
        {
         "alignmentgroup": "True",
         "hoverlabel": {
          "namelength": 0
         },
         "hovertemplate": "state=%{x}<br>year=2017<br>month=Setembro<br>number=%{y}",
         "legendgroup": "state=Roraima",
         "marker": {
          "color": "#FF97FF"
         },
         "name": "state=Roraima",
         "offsetgroup": "state=Roraima",
         "orientation": "v",
         "showlegend": false,
         "textposition": "auto",
         "type": "bar",
         "x": [
          "Roraima"
         ],
         "xaxis": "x9",
         "y": [
          43
         ],
         "yaxis": "y9"
        },
        {
         "alignmentgroup": "True",
         "hoverlabel": {
          "namelength": 0
         },
         "hovertemplate": "state=%{x}<br>year=2017<br>month=Outubro<br>number=%{y}",
         "legendgroup": "state=Roraima",
         "marker": {
          "color": "#FF97FF"
         },
         "name": "state=Roraima",
         "offsetgroup": "state=Roraima",
         "orientation": "v",
         "showlegend": false,
         "textposition": "auto",
         "type": "bar",
         "x": [
          "Roraima"
         ],
         "xaxis": "x10",
         "y": [
          156
         ],
         "yaxis": "y10"
        },
        {
         "alignmentgroup": "True",
         "hoverlabel": {
          "namelength": 0
         },
         "hovertemplate": "state=%{x}<br>year=2017<br>month=Novembro<br>number=%{y}",
         "legendgroup": "state=Roraima",
         "marker": {
          "color": "#FF97FF"
         },
         "name": "state=Roraima",
         "offsetgroup": "state=Roraima",
         "orientation": "v",
         "showlegend": false,
         "textposition": "auto",
         "type": "bar",
         "x": [
          "Roraima"
         ],
         "xaxis": "x11",
         "y": [
          327
         ],
         "yaxis": "y11"
        },
        {
         "alignmentgroup": "True",
         "hoverlabel": {
          "namelength": 0
         },
         "hovertemplate": "state=%{x}<br>year=2016<br>month=Janeiro<br>number=%{y}",
         "legendgroup": "state=Santa Catarina",
         "marker": {
          "color": "#FECB52"
         },
         "name": "state=Santa Catarina",
         "offsetgroup": "state=Santa Catarina",
         "orientation": "v",
         "showlegend": true,
         "textposition": "auto",
         "type": "bar",
         "x": [
          "Santa Catarina"
         ],
         "xaxis": "x13",
         "y": [
          53
         ],
         "yaxis": "y13"
        },
        {
         "alignmentgroup": "True",
         "hoverlabel": {
          "namelength": 0
         },
         "hovertemplate": "state=%{x}<br>year=2016<br>month=Fevereiro<br>number=%{y}",
         "legendgroup": "state=Santa Catarina",
         "marker": {
          "color": "#FECB52"
         },
         "name": "state=Santa Catarina",
         "offsetgroup": "state=Santa Catarina",
         "orientation": "v",
         "showlegend": false,
         "textposition": "auto",
         "type": "bar",
         "x": [
          "Santa Catarina"
         ],
         "xaxis": "x14",
         "y": [
          10
         ],
         "yaxis": "y14"
        },
        {
         "alignmentgroup": "True",
         "hoverlabel": {
          "namelength": 0
         },
         "hovertemplate": "state=%{x}<br>year=2016<br>month=Março<br>number=%{y}",
         "legendgroup": "state=Santa Catarina",
         "marker": {
          "color": "#FECB52"
         },
         "name": "state=Santa Catarina",
         "offsetgroup": "state=Santa Catarina",
         "orientation": "v",
         "showlegend": false,
         "textposition": "auto",
         "type": "bar",
         "x": [
          "Santa Catarina"
         ],
         "xaxis": "x15",
         "y": [
          21
         ],
         "yaxis": "y15"
        },
        {
         "alignmentgroup": "True",
         "hoverlabel": {
          "namelength": 0
         },
         "hovertemplate": "state=%{x}<br>year=2016<br>month=Abril<br>number=%{y}",
         "legendgroup": "state=Santa Catarina",
         "marker": {
          "color": "#FECB52"
         },
         "name": "state=Santa Catarina",
         "offsetgroup": "state=Santa Catarina",
         "orientation": "v",
         "showlegend": false,
         "textposition": "auto",
         "type": "bar",
         "x": [
          "Santa Catarina"
         ],
         "xaxis": "x16",
         "y": [
          36
         ],
         "yaxis": "y16"
        },
        {
         "alignmentgroup": "True",
         "hoverlabel": {
          "namelength": 0
         },
         "hovertemplate": "state=%{x}<br>year=2016<br>month=Maio<br>number=%{y}",
         "legendgroup": "state=Santa Catarina",
         "marker": {
          "color": "#FECB52"
         },
         "name": "state=Santa Catarina",
         "offsetgroup": "state=Santa Catarina",
         "orientation": "v",
         "showlegend": false,
         "textposition": "auto",
         "type": "bar",
         "x": [
          "Santa Catarina"
         ],
         "xaxis": "x17",
         "y": [
          26
         ],
         "yaxis": "y17"
        },
        {
         "alignmentgroup": "True",
         "hoverlabel": {
          "namelength": 0
         },
         "hovertemplate": "state=%{x}<br>year=2016<br>month=Junho<br>number=%{y}",
         "legendgroup": "state=Santa Catarina",
         "marker": {
          "color": "#FECB52"
         },
         "name": "state=Santa Catarina",
         "offsetgroup": "state=Santa Catarina",
         "orientation": "v",
         "showlegend": false,
         "textposition": "auto",
         "type": "bar",
         "x": [
          "Santa Catarina"
         ],
         "xaxis": "x18",
         "y": [
          79
         ],
         "yaxis": "y18"
        },
        {
         "alignmentgroup": "True",
         "hoverlabel": {
          "namelength": 0
         },
         "hovertemplate": "state=%{x}<br>year=2016<br>month=Julho<br>number=%{y}",
         "legendgroup": "state=Santa Catarina",
         "marker": {
          "color": "#FECB52"
         },
         "name": "state=Santa Catarina",
         "offsetgroup": "state=Santa Catarina",
         "orientation": "v",
         "showlegend": false,
         "textposition": "auto",
         "type": "bar",
         "x": [
          "Santa Catarina"
         ],
         "xaxis": "x19",
         "y": [
          480
         ],
         "yaxis": "y19"
        },
        {
         "alignmentgroup": "True",
         "hoverlabel": {
          "namelength": 0
         },
         "hovertemplate": "state=%{x}<br>year=2016<br>month=Agosto<br>number=%{y}",
         "legendgroup": "state=Santa Catarina",
         "marker": {
          "color": "#FECB52"
         },
         "name": "state=Santa Catarina",
         "offsetgroup": "state=Santa Catarina",
         "orientation": "v",
         "showlegend": false,
         "textposition": "auto",
         "type": "bar",
         "x": [
          "Santa Catarina"
         ],
         "xaxis": "x20",
         "y": [
          765
         ],
         "yaxis": "y20"
        },
        {
         "alignmentgroup": "True",
         "hoverlabel": {
          "namelength": 0
         },
         "hovertemplate": "state=%{x}<br>year=2016<br>month=Setembro<br>number=%{y}",
         "legendgroup": "state=Santa Catarina",
         "marker": {
          "color": "#FECB52"
         },
         "name": "state=Santa Catarina",
         "offsetgroup": "state=Santa Catarina",
         "orientation": "v",
         "showlegend": false,
         "textposition": "auto",
         "type": "bar",
         "x": [
          "Santa Catarina"
         ],
         "xaxis": "x21",
         "y": [
          644
         ],
         "yaxis": "y21"
        },
        {
         "alignmentgroup": "True",
         "hoverlabel": {
          "namelength": 0
         },
         "hovertemplate": "state=%{x}<br>year=2016<br>month=Outubro<br>number=%{y}",
         "legendgroup": "state=Santa Catarina",
         "marker": {
          "color": "#FECB52"
         },
         "name": "state=Santa Catarina",
         "offsetgroup": "state=Santa Catarina",
         "orientation": "v",
         "showlegend": false,
         "textposition": "auto",
         "type": "bar",
         "x": [
          "Santa Catarina"
         ],
         "xaxis": "x22",
         "y": [
          56
         ],
         "yaxis": "y22"
        },
        {
         "alignmentgroup": "True",
         "hoverlabel": {
          "namelength": 0
         },
         "hovertemplate": "state=%{x}<br>year=2016<br>month=Novembro<br>number=%{y}",
         "legendgroup": "state=Santa Catarina",
         "marker": {
          "color": "#FECB52"
         },
         "name": "state=Santa Catarina",
         "offsetgroup": "state=Santa Catarina",
         "orientation": "v",
         "showlegend": false,
         "textposition": "auto",
         "type": "bar",
         "x": [
          "Santa Catarina"
         ],
         "xaxis": "x23",
         "y": [
          156
         ],
         "yaxis": "y23"
        },
        {
         "alignmentgroup": "True",
         "hoverlabel": {
          "namelength": 0
         },
         "hovertemplate": "state=%{x}<br>year=2016<br>month=Dezembro<br>number=%{y}",
         "legendgroup": "state=Santa Catarina",
         "marker": {
          "color": "#FECB52"
         },
         "name": "state=Santa Catarina",
         "offsetgroup": "state=Santa Catarina",
         "orientation": "v",
         "showlegend": false,
         "textposition": "auto",
         "type": "bar",
         "x": [
          "Santa Catarina"
         ],
         "xaxis": "x24",
         "y": [
          20
         ],
         "yaxis": "y24"
        },
        {
         "alignmentgroup": "True",
         "hoverlabel": {
          "namelength": 0
         },
         "hovertemplate": "state=%{x}<br>year=2017<br>month=Janeiro<br>number=%{y}",
         "legendgroup": "state=Santa Catarina",
         "marker": {
          "color": "#FECB52"
         },
         "name": "state=Santa Catarina",
         "offsetgroup": "state=Santa Catarina",
         "orientation": "v",
         "showlegend": false,
         "textposition": "auto",
         "type": "bar",
         "x": [
          "Santa Catarina"
         ],
         "xaxis": "x",
         "y": [
          46
         ],
         "yaxis": "y"
        },
        {
         "alignmentgroup": "True",
         "hoverlabel": {
          "namelength": 0
         },
         "hovertemplate": "state=%{x}<br>year=2017<br>month=Fevereiro<br>number=%{y}",
         "legendgroup": "state=Santa Catarina",
         "marker": {
          "color": "#FECB52"
         },
         "name": "state=Santa Catarina",
         "offsetgroup": "state=Santa Catarina",
         "orientation": "v",
         "showlegend": false,
         "textposition": "auto",
         "type": "bar",
         "x": [
          "Santa Catarina"
         ],
         "xaxis": "x2",
         "y": [
          31
         ],
         "yaxis": "y2"
        },
        {
         "alignmentgroup": "True",
         "hoverlabel": {
          "namelength": 0
         },
         "hovertemplate": "state=%{x}<br>year=2017<br>month=Março<br>number=%{y}",
         "legendgroup": "state=Santa Catarina",
         "marker": {
          "color": "#FECB52"
         },
         "name": "state=Santa Catarina",
         "offsetgroup": "state=Santa Catarina",
         "orientation": "v",
         "showlegend": false,
         "textposition": "auto",
         "type": "bar",
         "x": [
          "Santa Catarina"
         ],
         "xaxis": "x3",
         "y": [
          12
         ],
         "yaxis": "y3"
        },
        {
         "alignmentgroup": "True",
         "hoverlabel": {
          "namelength": 0
         },
         "hovertemplate": "state=%{x}<br>year=2017<br>month=Abril<br>number=%{y}",
         "legendgroup": "state=Santa Catarina",
         "marker": {
          "color": "#FECB52"
         },
         "name": "state=Santa Catarina",
         "offsetgroup": "state=Santa Catarina",
         "orientation": "v",
         "showlegend": false,
         "textposition": "auto",
         "type": "bar",
         "x": [
          "Santa Catarina"
         ],
         "xaxis": "x4",
         "y": [
          26
         ],
         "yaxis": "y4"
        },
        {
         "alignmentgroup": "True",
         "hoverlabel": {
          "namelength": 0
         },
         "hovertemplate": "state=%{x}<br>year=2017<br>month=Maio<br>number=%{y}",
         "legendgroup": "state=Santa Catarina",
         "marker": {
          "color": "#FECB52"
         },
         "name": "state=Santa Catarina",
         "offsetgroup": "state=Santa Catarina",
         "orientation": "v",
         "showlegend": false,
         "textposition": "auto",
         "type": "bar",
         "x": [
          "Santa Catarina"
         ],
         "xaxis": "x5",
         "y": [
          36
         ],
         "yaxis": "y5"
        },
        {
         "alignmentgroup": "True",
         "hoverlabel": {
          "namelength": 0
         },
         "hovertemplate": "state=%{x}<br>year=2017<br>month=Junho<br>number=%{y}",
         "legendgroup": "state=Santa Catarina",
         "marker": {
          "color": "#FECB52"
         },
         "name": "state=Santa Catarina",
         "offsetgroup": "state=Santa Catarina",
         "orientation": "v",
         "showlegend": false,
         "textposition": "auto",
         "type": "bar",
         "x": [
          "Santa Catarina"
         ],
         "xaxis": "x6",
         "y": [
          70
         ],
         "yaxis": "y6"
        },
        {
         "alignmentgroup": "True",
         "hoverlabel": {
          "namelength": 0
         },
         "hovertemplate": "state=%{x}<br>year=2017<br>month=Julho<br>number=%{y}",
         "legendgroup": "state=Santa Catarina",
         "marker": {
          "color": "#FECB52"
         },
         "name": "state=Santa Catarina",
         "offsetgroup": "state=Santa Catarina",
         "orientation": "v",
         "showlegend": false,
         "textposition": "auto",
         "type": "bar",
         "x": [
          "Santa Catarina"
         ],
         "xaxis": "x7",
         "y": [
          591
         ],
         "yaxis": "y7"
        },
        {
         "alignmentgroup": "True",
         "hoverlabel": {
          "namelength": 0
         },
         "hovertemplate": "state=%{x}<br>year=2017<br>month=Agosto<br>number=%{y}",
         "legendgroup": "state=Santa Catarina",
         "marker": {
          "color": "#FECB52"
         },
         "name": "state=Santa Catarina",
         "offsetgroup": "state=Santa Catarina",
         "orientation": "v",
         "showlegend": false,
         "textposition": "auto",
         "type": "bar",
         "x": [
          "Santa Catarina"
         ],
         "xaxis": "x8",
         "y": [
          713
         ],
         "yaxis": "y8"
        },
        {
         "alignmentgroup": "True",
         "hoverlabel": {
          "namelength": 0
         },
         "hovertemplate": "state=%{x}<br>year=2017<br>month=Setembro<br>number=%{y}",
         "legendgroup": "state=Santa Catarina",
         "marker": {
          "color": "#FECB52"
         },
         "name": "state=Santa Catarina",
         "offsetgroup": "state=Santa Catarina",
         "orientation": "v",
         "showlegend": false,
         "textposition": "auto",
         "type": "bar",
         "x": [
          "Santa Catarina"
         ],
         "xaxis": "x9",
         "y": [
          626
         ],
         "yaxis": "y9"
        },
        {
         "alignmentgroup": "True",
         "hoverlabel": {
          "namelength": 0
         },
         "hovertemplate": "state=%{x}<br>year=2017<br>month=Outubro<br>number=%{y}",
         "legendgroup": "state=Santa Catarina",
         "marker": {
          "color": "#FECB52"
         },
         "name": "state=Santa Catarina",
         "offsetgroup": "state=Santa Catarina",
         "orientation": "v",
         "showlegend": false,
         "textposition": "auto",
         "type": "bar",
         "x": [
          "Santa Catarina"
         ],
         "xaxis": "x10",
         "y": [
          51
         ],
         "yaxis": "y10"
        },
        {
         "alignmentgroup": "True",
         "hoverlabel": {
          "namelength": 0
         },
         "hovertemplate": "state=%{x}<br>year=2017<br>month=Novembro<br>number=%{y}",
         "legendgroup": "state=Santa Catarina",
         "marker": {
          "color": "#FECB52"
         },
         "name": "state=Santa Catarina",
         "offsetgroup": "state=Santa Catarina",
         "orientation": "v",
         "showlegend": false,
         "textposition": "auto",
         "type": "bar",
         "x": [
          "Santa Catarina"
         ],
         "xaxis": "x11",
         "y": [
          152
         ],
         "yaxis": "y11"
        },
        {
         "alignmentgroup": "True",
         "hoverlabel": {
          "namelength": 0
         },
         "hovertemplate": "state=%{x}<br>year=2016<br>month=Janeiro<br>number=%{y}",
         "legendgroup": "state=Sao Paulo",
         "marker": {
          "color": "#636efa"
         },
         "name": "state=Sao Paulo",
         "offsetgroup": "state=Sao Paulo",
         "orientation": "v",
         "showlegend": true,
         "textposition": "auto",
         "type": "bar",
         "x": [
          "Sao Paulo"
         ],
         "xaxis": "x13",
         "y": [
          85
         ],
         "yaxis": "y13"
        },
        {
         "alignmentgroup": "True",
         "hoverlabel": {
          "namelength": 0
         },
         "hovertemplate": "state=%{x}<br>year=2016<br>month=Fevereiro<br>number=%{y}",
         "legendgroup": "state=Sao Paulo",
         "marker": {
          "color": "#636efa"
         },
         "name": "state=Sao Paulo",
         "offsetgroup": "state=Sao Paulo",
         "orientation": "v",
         "showlegend": false,
         "textposition": "auto",
         "type": "bar",
         "x": [
          "Sao Paulo"
         ],
         "xaxis": "x14",
         "y": [
          188
         ],
         "yaxis": "y14"
        },
        {
         "alignmentgroup": "True",
         "hoverlabel": {
          "namelength": 0
         },
         "hovertemplate": "state=%{x}<br>year=2016<br>month=Março<br>number=%{y}",
         "legendgroup": "state=Sao Paulo",
         "marker": {
          "color": "#636efa"
         },
         "name": "state=Sao Paulo",
         "offsetgroup": "state=Sao Paulo",
         "orientation": "v",
         "showlegend": false,
         "textposition": "auto",
         "type": "bar",
         "x": [
          "Sao Paulo"
         ],
         "xaxis": "x15",
         "y": [
          82
         ],
         "yaxis": "y15"
        },
        {
         "alignmentgroup": "True",
         "hoverlabel": {
          "namelength": 0
         },
         "hovertemplate": "state=%{x}<br>year=2016<br>month=Abril<br>number=%{y}",
         "legendgroup": "state=Sao Paulo",
         "marker": {
          "color": "#636efa"
         },
         "name": "state=Sao Paulo",
         "offsetgroup": "state=Sao Paulo",
         "orientation": "v",
         "showlegend": false,
         "textposition": "auto",
         "type": "bar",
         "x": [
          "Sao Paulo"
         ],
         "xaxis": "x16",
         "y": [
          307
         ],
         "yaxis": "y16"
        },
        {
         "alignmentgroup": "True",
         "hoverlabel": {
          "namelength": 0
         },
         "hovertemplate": "state=%{x}<br>year=2016<br>month=Maio<br>number=%{y}",
         "legendgroup": "state=Sao Paulo",
         "marker": {
          "color": "#636efa"
         },
         "name": "state=Sao Paulo",
         "offsetgroup": "state=Sao Paulo",
         "orientation": "v",
         "showlegend": false,
         "textposition": "auto",
         "type": "bar",
         "x": [
          "Sao Paulo"
         ],
         "xaxis": "x17",
         "y": [
          139
         ],
         "yaxis": "y17"
        },
        {
         "alignmentgroup": "True",
         "hoverlabel": {
          "namelength": 0
         },
         "hovertemplate": "state=%{x}<br>year=2016<br>month=Junho<br>number=%{y}",
         "legendgroup": "state=Sao Paulo",
         "marker": {
          "color": "#636efa"
         },
         "name": "state=Sao Paulo",
         "offsetgroup": "state=Sao Paulo",
         "orientation": "v",
         "showlegend": false,
         "textposition": "auto",
         "type": "bar",
         "x": [
          "Sao Paulo"
         ],
         "xaxis": "x18",
         "y": [
          197
         ],
         "yaxis": "y18"
        },
        {
         "alignmentgroup": "True",
         "hoverlabel": {
          "namelength": 0
         },
         "hovertemplate": "state=%{x}<br>year=2016<br>month=Julho<br>number=%{y}",
         "legendgroup": "state=Sao Paulo",
         "marker": {
          "color": "#636efa"
         },
         "name": "state=Sao Paulo",
         "offsetgroup": "state=Sao Paulo",
         "orientation": "v",
         "showlegend": false,
         "textposition": "auto",
         "type": "bar",
         "x": [
          "Sao Paulo"
         ],
         "xaxis": "x19",
         "y": [
          687
         ],
         "yaxis": "y19"
        },
        {
         "alignmentgroup": "True",
         "hoverlabel": {
          "namelength": 0
         },
         "hovertemplate": "state=%{x}<br>year=2016<br>month=Agosto<br>number=%{y}",
         "legendgroup": "state=Sao Paulo",
         "marker": {
          "color": "#636efa"
         },
         "name": "state=Sao Paulo",
         "offsetgroup": "state=Sao Paulo",
         "orientation": "v",
         "showlegend": false,
         "textposition": "auto",
         "type": "bar",
         "x": [
          "Sao Paulo"
         ],
         "xaxis": "x20",
         "y": [
          797
         ],
         "yaxis": "y20"
        },
        {
         "alignmentgroup": "True",
         "hoverlabel": {
          "namelength": 0
         },
         "hovertemplate": "state=%{x}<br>year=2016<br>month=Setembro<br>number=%{y}",
         "legendgroup": "state=Sao Paulo",
         "marker": {
          "color": "#636efa"
         },
         "name": "state=Sao Paulo",
         "offsetgroup": "state=Sao Paulo",
         "orientation": "v",
         "showlegend": false,
         "textposition": "auto",
         "type": "bar",
         "x": [
          "Sao Paulo"
         ],
         "xaxis": "x21",
         "y": [
          490
         ],
         "yaxis": "y21"
        },
        {
         "alignmentgroup": "True",
         "hoverlabel": {
          "namelength": 0
         },
         "hovertemplate": "state=%{x}<br>year=2016<br>month=Outubro<br>number=%{y}",
         "legendgroup": "state=Sao Paulo",
         "marker": {
          "color": "#636efa"
         },
         "name": "state=Sao Paulo",
         "offsetgroup": "state=Sao Paulo",
         "orientation": "v",
         "showlegend": false,
         "textposition": "auto",
         "type": "bar",
         "x": [
          "Sao Paulo"
         ],
         "xaxis": "x22",
         "y": [
          177
         ],
         "yaxis": "y22"
        },
        {
         "alignmentgroup": "True",
         "hoverlabel": {
          "namelength": 0
         },
         "hovertemplate": "state=%{x}<br>year=2016<br>month=Novembro<br>number=%{y}",
         "legendgroup": "state=Sao Paulo",
         "marker": {
          "color": "#636efa"
         },
         "name": "state=Sao Paulo",
         "offsetgroup": "state=Sao Paulo",
         "orientation": "v",
         "showlegend": false,
         "textposition": "auto",
         "type": "bar",
         "x": [
          "Sao Paulo"
         ],
         "xaxis": "x23",
         "y": [
          39
         ],
         "yaxis": "y23"
        },
        {
         "alignmentgroup": "True",
         "hoverlabel": {
          "namelength": 0
         },
         "hovertemplate": "state=%{x}<br>year=2016<br>month=Dezembro<br>number=%{y}",
         "legendgroup": "state=Sao Paulo",
         "marker": {
          "color": "#636efa"
         },
         "name": "state=Sao Paulo",
         "offsetgroup": "state=Sao Paulo",
         "orientation": "v",
         "showlegend": false,
         "textposition": "auto",
         "type": "bar",
         "x": [
          "Sao Paulo"
         ],
         "xaxis": "x24",
         "y": [
          47
         ],
         "yaxis": "y24"
        },
        {
         "alignmentgroup": "True",
         "hoverlabel": {
          "namelength": 0
         },
         "hovertemplate": "state=%{x}<br>year=2017<br>month=Janeiro<br>number=%{y}",
         "legendgroup": "state=Sao Paulo",
         "marker": {
          "color": "#636efa"
         },
         "name": "state=Sao Paulo",
         "offsetgroup": "state=Sao Paulo",
         "orientation": "v",
         "showlegend": false,
         "textposition": "auto",
         "type": "bar",
         "x": [
          "Sao Paulo"
         ],
         "xaxis": "x",
         "y": [
          28
         ],
         "yaxis": "y"
        },
        {
         "alignmentgroup": "True",
         "hoverlabel": {
          "namelength": 0
         },
         "hovertemplate": "state=%{x}<br>year=2017<br>month=Fevereiro<br>number=%{y}",
         "legendgroup": "state=Sao Paulo",
         "marker": {
          "color": "#636efa"
         },
         "name": "state=Sao Paulo",
         "offsetgroup": "state=Sao Paulo",
         "orientation": "v",
         "showlegend": false,
         "textposition": "auto",
         "type": "bar",
         "x": [
          "Sao Paulo"
         ],
         "xaxis": "x2",
         "y": [
          107
         ],
         "yaxis": "y2"
        },
        {
         "alignmentgroup": "True",
         "hoverlabel": {
          "namelength": 0
         },
         "hovertemplate": "state=%{x}<br>year=2017<br>month=Março<br>number=%{y}",
         "legendgroup": "state=Sao Paulo",
         "marker": {
          "color": "#636efa"
         },
         "name": "state=Sao Paulo",
         "offsetgroup": "state=Sao Paulo",
         "orientation": "v",
         "showlegend": false,
         "textposition": "auto",
         "type": "bar",
         "x": [
          "Sao Paulo"
         ],
         "xaxis": "x3",
         "y": [
          103
         ],
         "yaxis": "y3"
        },
        {
         "alignmentgroup": "True",
         "hoverlabel": {
          "namelength": 0
         },
         "hovertemplate": "state=%{x}<br>year=2017<br>month=Abril<br>number=%{y}",
         "legendgroup": "state=Sao Paulo",
         "marker": {
          "color": "#636efa"
         },
         "name": "state=Sao Paulo",
         "offsetgroup": "state=Sao Paulo",
         "orientation": "v",
         "showlegend": false,
         "textposition": "auto",
         "type": "bar",
         "x": [
          "Sao Paulo"
         ],
         "xaxis": "x4",
         "y": [
          41
         ],
         "yaxis": "y4"
        },
        {
         "alignmentgroup": "True",
         "hoverlabel": {
          "namelength": 0
         },
         "hovertemplate": "state=%{x}<br>year=2017<br>month=Maio<br>number=%{y}",
         "legendgroup": "state=Sao Paulo",
         "marker": {
          "color": "#636efa"
         },
         "name": "state=Sao Paulo",
         "offsetgroup": "state=Sao Paulo",
         "orientation": "v",
         "showlegend": false,
         "textposition": "auto",
         "type": "bar",
         "x": [
          "Sao Paulo"
         ],
         "xaxis": "x5",
         "y": [
          43
         ],
         "yaxis": "y5"
        },
        {
         "alignmentgroup": "True",
         "hoverlabel": {
          "namelength": 0
         },
         "hovertemplate": "state=%{x}<br>year=2017<br>month=Junho<br>number=%{y}",
         "legendgroup": "state=Sao Paulo",
         "marker": {
          "color": "#636efa"
         },
         "name": "state=Sao Paulo",
         "offsetgroup": "state=Sao Paulo",
         "orientation": "v",
         "showlegend": false,
         "textposition": "auto",
         "type": "bar",
         "x": [
          "Sao Paulo"
         ],
         "xaxis": "x6",
         "y": [
          217
         ],
         "yaxis": "y6"
        },
        {
         "alignmentgroup": "True",
         "hoverlabel": {
          "namelength": 0
         },
         "hovertemplate": "state=%{x}<br>year=2017<br>month=Julho<br>number=%{y}",
         "legendgroup": "state=Sao Paulo",
         "marker": {
          "color": "#636efa"
         },
         "name": "state=Sao Paulo",
         "offsetgroup": "state=Sao Paulo",
         "orientation": "v",
         "showlegend": false,
         "textposition": "auto",
         "type": "bar",
         "x": [
          "Sao Paulo"
         ],
         "xaxis": "x7",
         "y": [
          802
         ],
         "yaxis": "y7"
        },
        {
         "alignmentgroup": "True",
         "hoverlabel": {
          "namelength": 0
         },
         "hovertemplate": "state=%{x}<br>year=2017<br>month=Agosto<br>number=%{y}",
         "legendgroup": "state=Sao Paulo",
         "marker": {
          "color": "#636efa"
         },
         "name": "state=Sao Paulo",
         "offsetgroup": "state=Sao Paulo",
         "orientation": "v",
         "showlegend": false,
         "textposition": "auto",
         "type": "bar",
         "x": [
          "Sao Paulo"
         ],
         "xaxis": "x8",
         "y": [
          981
         ],
         "yaxis": "y8"
        },
        {
         "alignmentgroup": "True",
         "hoverlabel": {
          "namelength": 0
         },
         "hovertemplate": "state=%{x}<br>year=2017<br>month=Setembro<br>number=%{y}",
         "legendgroup": "state=Sao Paulo",
         "marker": {
          "color": "#636efa"
         },
         "name": "state=Sao Paulo",
         "offsetgroup": "state=Sao Paulo",
         "orientation": "v",
         "showlegend": false,
         "textposition": "auto",
         "type": "bar",
         "x": [
          "Sao Paulo"
         ],
         "xaxis": "x9",
         "y": [
          2.8680000000000003
         ],
         "yaxis": "y9"
        },
        {
         "alignmentgroup": "True",
         "hoverlabel": {
          "namelength": 0
         },
         "hovertemplate": "state=%{x}<br>year=2017<br>month=Outubro<br>number=%{y}",
         "legendgroup": "state=Sao Paulo",
         "marker": {
          "color": "#636efa"
         },
         "name": "state=Sao Paulo",
         "offsetgroup": "state=Sao Paulo",
         "orientation": "v",
         "showlegend": false,
         "textposition": "auto",
         "type": "bar",
         "x": [
          "Sao Paulo"
         ],
         "xaxis": "x10",
         "y": [
          179
         ],
         "yaxis": "y10"
        },
        {
         "alignmentgroup": "True",
         "hoverlabel": {
          "namelength": 0
         },
         "hovertemplate": "state=%{x}<br>year=2017<br>month=Novembro<br>number=%{y}",
         "legendgroup": "state=Sao Paulo",
         "marker": {
          "color": "#636efa"
         },
         "name": "state=Sao Paulo",
         "offsetgroup": "state=Sao Paulo",
         "orientation": "v",
         "showlegend": false,
         "textposition": "auto",
         "type": "bar",
         "x": [
          "Sao Paulo"
         ],
         "xaxis": "x11",
         "y": [
          37
         ],
         "yaxis": "y11"
        },
        {
         "alignmentgroup": "True",
         "hoverlabel": {
          "namelength": 0
         },
         "hovertemplate": "state=%{x}<br>year=2016<br>month=Janeiro<br>number=%{y}",
         "legendgroup": "state=Sergipe",
         "marker": {
          "color": "#EF553B"
         },
         "name": "state=Sergipe",
         "offsetgroup": "state=Sergipe",
         "orientation": "v",
         "showlegend": true,
         "textposition": "auto",
         "type": "bar",
         "x": [
          "Sergipe"
         ],
         "xaxis": "x13",
         "y": [
          9
         ],
         "yaxis": "y13"
        },
        {
         "alignmentgroup": "True",
         "hoverlabel": {
          "namelength": 0
         },
         "hovertemplate": "state=%{x}<br>year=2016<br>month=Fevereiro<br>number=%{y}",
         "legendgroup": "state=Sergipe",
         "marker": {
          "color": "#EF553B"
         },
         "name": "state=Sergipe",
         "offsetgroup": "state=Sergipe",
         "orientation": "v",
         "showlegend": false,
         "textposition": "auto",
         "type": "bar",
         "x": [
          "Sergipe"
         ],
         "xaxis": "x14",
         "y": [
          22
         ],
         "yaxis": "y14"
        },
        {
         "alignmentgroup": "True",
         "hoverlabel": {
          "namelength": 0
         },
         "hovertemplate": "state=%{x}<br>year=2016<br>month=Março<br>number=%{y}",
         "legendgroup": "state=Sergipe",
         "marker": {
          "color": "#EF553B"
         },
         "name": "state=Sergipe",
         "offsetgroup": "state=Sergipe",
         "orientation": "v",
         "showlegend": false,
         "textposition": "auto",
         "type": "bar",
         "x": [
          "Sergipe"
         ],
         "xaxis": "x15",
         "y": [
          26
         ],
         "yaxis": "y15"
        },
        {
         "alignmentgroup": "True",
         "hoverlabel": {
          "namelength": 0
         },
         "hovertemplate": "state=%{x}<br>year=2016<br>month=Abril<br>number=%{y}",
         "legendgroup": "state=Sergipe",
         "marker": {
          "color": "#EF553B"
         },
         "name": "state=Sergipe",
         "offsetgroup": "state=Sergipe",
         "orientation": "v",
         "showlegend": false,
         "textposition": "auto",
         "type": "bar",
         "x": [
          "Sergipe"
         ],
         "xaxis": "x16",
         "y": [
          14
         ],
         "yaxis": "y16"
        },
        {
         "alignmentgroup": "True",
         "hoverlabel": {
          "namelength": 0
         },
         "hovertemplate": "state=%{x}<br>year=2016<br>month=Maio<br>number=%{y}",
         "legendgroup": "state=Sergipe",
         "marker": {
          "color": "#EF553B"
         },
         "name": "state=Sergipe",
         "offsetgroup": "state=Sergipe",
         "orientation": "v",
         "showlegend": false,
         "textposition": "auto",
         "type": "bar",
         "x": [
          "Sergipe"
         ],
         "xaxis": "x17",
         "y": [
          9
         ],
         "yaxis": "y17"
        },
        {
         "alignmentgroup": "True",
         "hoverlabel": {
          "namelength": 0
         },
         "hovertemplate": "state=%{x}<br>year=2016<br>month=Junho<br>number=%{y}",
         "legendgroup": "state=Sergipe",
         "marker": {
          "color": "#EF553B"
         },
         "name": "state=Sergipe",
         "offsetgroup": "state=Sergipe",
         "orientation": "v",
         "showlegend": false,
         "textposition": "auto",
         "type": "bar",
         "x": [
          "Sergipe"
         ],
         "xaxis": "x18",
         "y": [
          1
         ],
         "yaxis": "y18"
        },
        {
         "alignmentgroup": "True",
         "hoverlabel": {
          "namelength": 0
         },
         "hovertemplate": "state=%{x}<br>year=2016<br>month=Julho<br>number=%{y}",
         "legendgroup": "state=Sergipe",
         "marker": {
          "color": "#EF553B"
         },
         "name": "state=Sergipe",
         "offsetgroup": "state=Sergipe",
         "orientation": "v",
         "showlegend": false,
         "textposition": "auto",
         "type": "bar",
         "x": [
          "Sergipe"
         ],
         "xaxis": "x19",
         "y": [
          0
         ],
         "yaxis": "y19"
        },
        {
         "alignmentgroup": "True",
         "hoverlabel": {
          "namelength": 0
         },
         "hovertemplate": "state=%{x}<br>year=2016<br>month=Agosto<br>number=%{y}",
         "legendgroup": "state=Sergipe",
         "marker": {
          "color": "#EF553B"
         },
         "name": "state=Sergipe",
         "offsetgroup": "state=Sergipe",
         "orientation": "v",
         "showlegend": false,
         "textposition": "auto",
         "type": "bar",
         "x": [
          "Sergipe"
         ],
         "xaxis": "x20",
         "y": [
          6
         ],
         "yaxis": "y20"
        },
        {
         "alignmentgroup": "True",
         "hoverlabel": {
          "namelength": 0
         },
         "hovertemplate": "state=%{x}<br>year=2016<br>month=Setembro<br>number=%{y}",
         "legendgroup": "state=Sergipe",
         "marker": {
          "color": "#EF553B"
         },
         "name": "state=Sergipe",
         "offsetgroup": "state=Sergipe",
         "orientation": "v",
         "showlegend": false,
         "textposition": "auto",
         "type": "bar",
         "x": [
          "Sergipe"
         ],
         "xaxis": "x21",
         "y": [
          2
         ],
         "yaxis": "y21"
        },
        {
         "alignmentgroup": "True",
         "hoverlabel": {
          "namelength": 0
         },
         "hovertemplate": "state=%{x}<br>year=2016<br>month=Outubro<br>number=%{y}",
         "legendgroup": "state=Sergipe",
         "marker": {
          "color": "#EF553B"
         },
         "name": "state=Sergipe",
         "offsetgroup": "state=Sergipe",
         "orientation": "v",
         "showlegend": false,
         "textposition": "auto",
         "type": "bar",
         "x": [
          "Sergipe"
         ],
         "xaxis": "x22",
         "y": [
          10
         ],
         "yaxis": "y22"
        },
        {
         "alignmentgroup": "True",
         "hoverlabel": {
          "namelength": 0
         },
         "hovertemplate": "state=%{x}<br>year=2016<br>month=Novembro<br>number=%{y}",
         "legendgroup": "state=Sergipe",
         "marker": {
          "color": "#EF553B"
         },
         "name": "state=Sergipe",
         "offsetgroup": "state=Sergipe",
         "orientation": "v",
         "showlegend": false,
         "textposition": "auto",
         "type": "bar",
         "x": [
          "Sergipe"
         ],
         "xaxis": "x23",
         "y": [
          17
         ],
         "yaxis": "y23"
        },
        {
         "alignmentgroup": "True",
         "hoverlabel": {
          "namelength": 0
         },
         "hovertemplate": "state=%{x}<br>year=2016<br>month=Dezembro<br>number=%{y}",
         "legendgroup": "state=Sergipe",
         "marker": {
          "color": "#EF553B"
         },
         "name": "state=Sergipe",
         "offsetgroup": "state=Sergipe",
         "orientation": "v",
         "showlegend": false,
         "textposition": "auto",
         "type": "bar",
         "x": [
          "Sergipe"
         ],
         "xaxis": "x24",
         "y": [
          36
         ],
         "yaxis": "y24"
        },
        {
         "alignmentgroup": "True",
         "hoverlabel": {
          "namelength": 0
         },
         "hovertemplate": "state=%{x}<br>year=2017<br>month=Janeiro<br>number=%{y}",
         "legendgroup": "state=Sergipe",
         "marker": {
          "color": "#EF553B"
         },
         "name": "state=Sergipe",
         "offsetgroup": "state=Sergipe",
         "orientation": "v",
         "showlegend": false,
         "textposition": "auto",
         "type": "bar",
         "x": [
          "Sergipe"
         ],
         "xaxis": "x",
         "y": [
          31
         ],
         "yaxis": "y"
        },
        {
         "alignmentgroup": "True",
         "hoverlabel": {
          "namelength": 0
         },
         "hovertemplate": "state=%{x}<br>year=2017<br>month=Fevereiro<br>number=%{y}",
         "legendgroup": "state=Sergipe",
         "marker": {
          "color": "#EF553B"
         },
         "name": "state=Sergipe",
         "offsetgroup": "state=Sergipe",
         "orientation": "v",
         "showlegend": false,
         "textposition": "auto",
         "type": "bar",
         "x": [
          "Sergipe"
         ],
         "xaxis": "x2",
         "y": [
          18
         ],
         "yaxis": "y2"
        },
        {
         "alignmentgroup": "True",
         "hoverlabel": {
          "namelength": 0
         },
         "hovertemplate": "state=%{x}<br>year=2017<br>month=Março<br>number=%{y}",
         "legendgroup": "state=Sergipe",
         "marker": {
          "color": "#EF553B"
         },
         "name": "state=Sergipe",
         "offsetgroup": "state=Sergipe",
         "orientation": "v",
         "showlegend": false,
         "textposition": "auto",
         "type": "bar",
         "x": [
          "Sergipe"
         ],
         "xaxis": "x3",
         "y": [
          16
         ],
         "yaxis": "y3"
        },
        {
         "alignmentgroup": "True",
         "hoverlabel": {
          "namelength": 0
         },
         "hovertemplate": "state=%{x}<br>year=2017<br>month=Abril<br>number=%{y}",
         "legendgroup": "state=Sergipe",
         "marker": {
          "color": "#EF553B"
         },
         "name": "state=Sergipe",
         "offsetgroup": "state=Sergipe",
         "orientation": "v",
         "showlegend": false,
         "textposition": "auto",
         "type": "bar",
         "x": [
          "Sergipe"
         ],
         "xaxis": "x4",
         "y": [
          8
         ],
         "yaxis": "y4"
        },
        {
         "alignmentgroup": "True",
         "hoverlabel": {
          "namelength": 0
         },
         "hovertemplate": "state=%{x}<br>year=2017<br>month=Maio<br>number=%{y}",
         "legendgroup": "state=Sergipe",
         "marker": {
          "color": "#EF553B"
         },
         "name": "state=Sergipe",
         "offsetgroup": "state=Sergipe",
         "orientation": "v",
         "showlegend": false,
         "textposition": "auto",
         "type": "bar",
         "x": [
          "Sergipe"
         ],
         "xaxis": "x5",
         "y": [
          1
         ],
         "yaxis": "y5"
        },
        {
         "alignmentgroup": "True",
         "hoverlabel": {
          "namelength": 0
         },
         "hovertemplate": "state=%{x}<br>year=2017<br>month=Junho<br>number=%{y}",
         "legendgroup": "state=Sergipe",
         "marker": {
          "color": "#EF553B"
         },
         "name": "state=Sergipe",
         "offsetgroup": "state=Sergipe",
         "orientation": "v",
         "showlegend": false,
         "textposition": "auto",
         "type": "bar",
         "x": [
          "Sergipe"
         ],
         "xaxis": "x6",
         "y": [
          0
         ],
         "yaxis": "y6"
        },
        {
         "alignmentgroup": "True",
         "hoverlabel": {
          "namelength": 0
         },
         "hovertemplate": "state=%{x}<br>year=2017<br>month=Julho<br>number=%{y}",
         "legendgroup": "state=Sergipe",
         "marker": {
          "color": "#EF553B"
         },
         "name": "state=Sergipe",
         "offsetgroup": "state=Sergipe",
         "orientation": "v",
         "showlegend": false,
         "textposition": "auto",
         "type": "bar",
         "x": [
          "Sergipe"
         ],
         "xaxis": "x7",
         "y": [
          0
         ],
         "yaxis": "y7"
        },
        {
         "alignmentgroup": "True",
         "hoverlabel": {
          "namelength": 0
         },
         "hovertemplate": "state=%{x}<br>year=2017<br>month=Agosto<br>number=%{y}",
         "legendgroup": "state=Sergipe",
         "marker": {
          "color": "#EF553B"
         },
         "name": "state=Sergipe",
         "offsetgroup": "state=Sergipe",
         "orientation": "v",
         "showlegend": false,
         "textposition": "auto",
         "type": "bar",
         "x": [
          "Sergipe"
         ],
         "xaxis": "x8",
         "y": [
          0
         ],
         "yaxis": "y8"
        },
        {
         "alignmentgroup": "True",
         "hoverlabel": {
          "namelength": 0
         },
         "hovertemplate": "state=%{x}<br>year=2017<br>month=Setembro<br>number=%{y}",
         "legendgroup": "state=Sergipe",
         "marker": {
          "color": "#EF553B"
         },
         "name": "state=Sergipe",
         "offsetgroup": "state=Sergipe",
         "orientation": "v",
         "showlegend": false,
         "textposition": "auto",
         "type": "bar",
         "x": [
          "Sergipe"
         ],
         "xaxis": "x9",
         "y": [
          0
         ],
         "yaxis": "y9"
        },
        {
         "alignmentgroup": "True",
         "hoverlabel": {
          "namelength": 0
         },
         "hovertemplate": "state=%{x}<br>year=2017<br>month=Outubro<br>number=%{y}",
         "legendgroup": "state=Sergipe",
         "marker": {
          "color": "#EF553B"
         },
         "name": "state=Sergipe",
         "offsetgroup": "state=Sergipe",
         "orientation": "v",
         "showlegend": false,
         "textposition": "auto",
         "type": "bar",
         "x": [
          "Sergipe"
         ],
         "xaxis": "x10",
         "y": [
          0
         ],
         "yaxis": "y10"
        },
        {
         "alignmentgroup": "True",
         "hoverlabel": {
          "namelength": 0
         },
         "hovertemplate": "state=%{x}<br>year=2017<br>month=Novembro<br>number=%{y}",
         "legendgroup": "state=Sergipe",
         "marker": {
          "color": "#EF553B"
         },
         "name": "state=Sergipe",
         "offsetgroup": "state=Sergipe",
         "orientation": "v",
         "showlegend": false,
         "textposition": "auto",
         "type": "bar",
         "x": [
          "Sergipe"
         ],
         "xaxis": "x11",
         "y": [
          1
         ],
         "yaxis": "y11"
        },
        {
         "alignmentgroup": "True",
         "hoverlabel": {
          "namelength": 0
         },
         "hovertemplate": "state=%{x}<br>year=2016<br>month=Janeiro<br>number=%{y}",
         "legendgroup": "state=Tocantins",
         "marker": {
          "color": "#00cc96"
         },
         "name": "state=Tocantins",
         "offsetgroup": "state=Tocantins",
         "orientation": "v",
         "showlegend": true,
         "textposition": "auto",
         "type": "bar",
         "x": [
          "Tocantins"
         ],
         "xaxis": "x13",
         "y": [
          42
         ],
         "yaxis": "y13"
        },
        {
         "alignmentgroup": "True",
         "hoverlabel": {
          "namelength": 0
         },
         "hovertemplate": "state=%{x}<br>year=2016<br>month=Fevereiro<br>number=%{y}",
         "legendgroup": "state=Tocantins",
         "marker": {
          "color": "#00cc96"
         },
         "name": "state=Tocantins",
         "offsetgroup": "state=Tocantins",
         "orientation": "v",
         "showlegend": false,
         "textposition": "auto",
         "type": "bar",
         "x": [
          "Tocantins"
         ],
         "xaxis": "x14",
         "y": [
          383
         ],
         "yaxis": "y14"
        },
        {
         "alignmentgroup": "True",
         "hoverlabel": {
          "namelength": 0
         },
         "hovertemplate": "state=%{x}<br>year=2016<br>month=Março<br>number=%{y}",
         "legendgroup": "state=Tocantins",
         "marker": {
          "color": "#00cc96"
         },
         "name": "state=Tocantins",
         "offsetgroup": "state=Tocantins",
         "orientation": "v",
         "showlegend": false,
         "textposition": "auto",
         "type": "bar",
         "x": [
          "Tocantins"
         ],
         "xaxis": "x15",
         "y": [
          165
         ],
         "yaxis": "y15"
        },
        {
         "alignmentgroup": "True",
         "hoverlabel": {
          "namelength": 0
         },
         "hovertemplate": "state=%{x}<br>year=2016<br>month=Abril<br>number=%{y}",
         "legendgroup": "state=Tocantins",
         "marker": {
          "color": "#00cc96"
         },
         "name": "state=Tocantins",
         "offsetgroup": "state=Tocantins",
         "orientation": "v",
         "showlegend": false,
         "textposition": "auto",
         "type": "bar",
         "x": [
          "Tocantins"
         ],
         "xaxis": "x16",
         "y": [
          369
         ],
         "yaxis": "y16"
        },
        {
         "alignmentgroup": "True",
         "hoverlabel": {
          "namelength": 0
         },
         "hovertemplate": "state=%{x}<br>year=2016<br>month=Maio<br>number=%{y}",
         "legendgroup": "state=Tocantins",
         "marker": {
          "color": "#00cc96"
         },
         "name": "state=Tocantins",
         "offsetgroup": "state=Tocantins",
         "orientation": "v",
         "showlegend": false,
         "textposition": "auto",
         "type": "bar",
         "x": [
          "Tocantins"
         ],
         "xaxis": "x17",
         "y": [
          778
         ],
         "yaxis": "y17"
        },
        {
         "alignmentgroup": "True",
         "hoverlabel": {
          "namelength": 0
         },
         "hovertemplate": "state=%{x}<br>year=2016<br>month=Junho<br>number=%{y}",
         "legendgroup": "state=Tocantins",
         "marker": {
          "color": "#00cc96"
         },
         "name": "state=Tocantins",
         "offsetgroup": "state=Tocantins",
         "orientation": "v",
         "showlegend": false,
         "textposition": "auto",
         "type": "bar",
         "x": [
          "Tocantins"
         ],
         "xaxis": "x18",
         "y": [
          1.148
         ],
         "yaxis": "y18"
        },
        {
         "alignmentgroup": "True",
         "hoverlabel": {
          "namelength": 0
         },
         "hovertemplate": "state=%{x}<br>year=2016<br>month=Julho<br>number=%{y}",
         "legendgroup": "state=Tocantins",
         "marker": {
          "color": "#00cc96"
         },
         "name": "state=Tocantins",
         "offsetgroup": "state=Tocantins",
         "orientation": "v",
         "showlegend": false,
         "textposition": "auto",
         "type": "bar",
         "x": [
          "Tocantins"
         ],
         "xaxis": "x19",
         "y": [
          2.737
         ],
         "yaxis": "y19"
        },
        {
         "alignmentgroup": "True",
         "hoverlabel": {
          "namelength": 0
         },
         "hovertemplate": "state=%{x}<br>year=2016<br>month=Agosto<br>number=%{y}",
         "legendgroup": "state=Tocantins",
         "marker": {
          "color": "#00cc96"
         },
         "name": "state=Tocantins",
         "offsetgroup": "state=Tocantins",
         "orientation": "v",
         "showlegend": false,
         "textposition": "auto",
         "type": "bar",
         "x": [
          "Tocantins"
         ],
         "xaxis": "x20",
         "y": [
          3.213
         ],
         "yaxis": "y20"
        },
        {
         "alignmentgroup": "True",
         "hoverlabel": {
          "namelength": 0
         },
         "hovertemplate": "state=%{x}<br>year=2016<br>month=Setembro<br>number=%{y}",
         "legendgroup": "state=Tocantins",
         "marker": {
          "color": "#00cc96"
         },
         "name": "state=Tocantins",
         "offsetgroup": "state=Tocantins",
         "orientation": "v",
         "showlegend": false,
         "textposition": "auto",
         "type": "bar",
         "x": [
          "Tocantins"
         ],
         "xaxis": "x21",
         "y": [
          3.245
         ],
         "yaxis": "y21"
        },
        {
         "alignmentgroup": "True",
         "hoverlabel": {
          "namelength": 0
         },
         "hovertemplate": "state=%{x}<br>year=2016<br>month=Outubro<br>number=%{y}",
         "legendgroup": "state=Tocantins",
         "marker": {
          "color": "#00cc96"
         },
         "name": "state=Tocantins",
         "offsetgroup": "state=Tocantins",
         "orientation": "v",
         "showlegend": false,
         "textposition": "auto",
         "type": "bar",
         "x": [
          "Tocantins"
         ],
         "xaxis": "x22",
         "y": [
          2.032
         ],
         "yaxis": "y22"
        },
        {
         "alignmentgroup": "True",
         "hoverlabel": {
          "namelength": 0
         },
         "hovertemplate": "state=%{x}<br>year=2016<br>month=Novembro<br>number=%{y}",
         "legendgroup": "state=Tocantins",
         "marker": {
          "color": "#00cc96"
         },
         "name": "state=Tocantins",
         "offsetgroup": "state=Tocantins",
         "orientation": "v",
         "showlegend": false,
         "textposition": "auto",
         "type": "bar",
         "x": [
          "Tocantins"
         ],
         "xaxis": "x23",
         "y": [
          623
         ],
         "yaxis": "y23"
        },
        {
         "alignmentgroup": "True",
         "hoverlabel": {
          "namelength": 0
         },
         "hovertemplate": "state=%{x}<br>year=2016<br>month=Dezembro<br>number=%{y}",
         "legendgroup": "state=Tocantins",
         "marker": {
          "color": "#00cc96"
         },
         "name": "state=Tocantins",
         "offsetgroup": "state=Tocantins",
         "orientation": "v",
         "showlegend": false,
         "textposition": "auto",
         "type": "bar",
         "x": [
          "Tocantins"
         ],
         "xaxis": "x24",
         "y": [
          119
         ],
         "yaxis": "y24"
        },
        {
         "alignmentgroup": "True",
         "hoverlabel": {
          "namelength": 0
         },
         "hovertemplate": "state=%{x}<br>year=2017<br>month=Janeiro<br>number=%{y}",
         "legendgroup": "state=Tocantins",
         "marker": {
          "color": "#00cc96"
         },
         "name": "state=Tocantins",
         "offsetgroup": "state=Tocantins",
         "orientation": "v",
         "showlegend": false,
         "textposition": "auto",
         "type": "bar",
         "x": [
          "Tocantins"
         ],
         "xaxis": "x",
         "y": [
          61
         ],
         "yaxis": "y"
        },
        {
         "alignmentgroup": "True",
         "hoverlabel": {
          "namelength": 0
         },
         "hovertemplate": "state=%{x}<br>year=2017<br>month=Fevereiro<br>number=%{y}",
         "legendgroup": "state=Tocantins",
         "marker": {
          "color": "#00cc96"
         },
         "name": "state=Tocantins",
         "offsetgroup": "state=Tocantins",
         "orientation": "v",
         "showlegend": false,
         "textposition": "auto",
         "type": "bar",
         "x": [
          "Tocantins"
         ],
         "xaxis": "x2",
         "y": [
          25
         ],
         "yaxis": "y2"
        },
        {
         "alignmentgroup": "True",
         "hoverlabel": {
          "namelength": 0
         },
         "hovertemplate": "state=%{x}<br>year=2017<br>month=Março<br>number=%{y}",
         "legendgroup": "state=Tocantins",
         "marker": {
          "color": "#00cc96"
         },
         "name": "state=Tocantins",
         "offsetgroup": "state=Tocantins",
         "orientation": "v",
         "showlegend": false,
         "textposition": "auto",
         "type": "bar",
         "x": [
          "Tocantins"
         ],
         "xaxis": "x3",
         "y": [
          98
         ],
         "yaxis": "y3"
        },
        {
         "alignmentgroup": "True",
         "hoverlabel": {
          "namelength": 0
         },
         "hovertemplate": "state=%{x}<br>year=2017<br>month=Abril<br>number=%{y}",
         "legendgroup": "state=Tocantins",
         "marker": {
          "color": "#00cc96"
         },
         "name": "state=Tocantins",
         "offsetgroup": "state=Tocantins",
         "orientation": "v",
         "showlegend": false,
         "textposition": "auto",
         "type": "bar",
         "x": [
          "Tocantins"
         ],
         "xaxis": "x4",
         "y": [
          164
         ],
         "yaxis": "y4"
        },
        {
         "alignmentgroup": "True",
         "hoverlabel": {
          "namelength": 0
         },
         "hovertemplate": "state=%{x}<br>year=2017<br>month=Maio<br>number=%{y}",
         "legendgroup": "state=Tocantins",
         "marker": {
          "color": "#00cc96"
         },
         "name": "state=Tocantins",
         "offsetgroup": "state=Tocantins",
         "orientation": "v",
         "showlegend": false,
         "textposition": "auto",
         "type": "bar",
         "x": [
          "Tocantins"
         ],
         "xaxis": "x5",
         "y": [
          576
         ],
         "yaxis": "y5"
        },
        {
         "alignmentgroup": "True",
         "hoverlabel": {
          "namelength": 0
         },
         "hovertemplate": "state=%{x}<br>year=2017<br>month=Junho<br>number=%{y}",
         "legendgroup": "state=Tocantins",
         "marker": {
          "color": "#00cc96"
         },
         "name": "state=Tocantins",
         "offsetgroup": "state=Tocantins",
         "orientation": "v",
         "showlegend": false,
         "textposition": "auto",
         "type": "bar",
         "x": [
          "Tocantins"
         ],
         "xaxis": "x6",
         "y": [
          1.32
         ],
         "yaxis": "y6"
        },
        {
         "alignmentgroup": "True",
         "hoverlabel": {
          "namelength": 0
         },
         "hovertemplate": "state=%{x}<br>year=2017<br>month=Julho<br>number=%{y}",
         "legendgroup": "state=Tocantins",
         "marker": {
          "color": "#00cc96"
         },
         "name": "state=Tocantins",
         "offsetgroup": "state=Tocantins",
         "orientation": "v",
         "showlegend": false,
         "textposition": "auto",
         "type": "bar",
         "x": [
          "Tocantins"
         ],
         "xaxis": "x7",
         "y": [
          2.397
         ],
         "yaxis": "y7"
        },
        {
         "alignmentgroup": "True",
         "hoverlabel": {
          "namelength": 0
         },
         "hovertemplate": "state=%{x}<br>year=2017<br>month=Agosto<br>number=%{y}",
         "legendgroup": "state=Tocantins",
         "marker": {
          "color": "#00cc96"
         },
         "name": "state=Tocantins",
         "offsetgroup": "state=Tocantins",
         "orientation": "v",
         "showlegend": false,
         "textposition": "auto",
         "type": "bar",
         "x": [
          "Tocantins"
         ],
         "xaxis": "x8",
         "y": [
          3.536
         ],
         "yaxis": "y8"
        },
        {
         "alignmentgroup": "True",
         "hoverlabel": {
          "namelength": 0
         },
         "hovertemplate": "state=%{x}<br>year=2017<br>month=Setembro<br>number=%{y}",
         "legendgroup": "state=Tocantins",
         "marker": {
          "color": "#00cc96"
         },
         "name": "state=Tocantins",
         "offsetgroup": "state=Tocantins",
         "orientation": "v",
         "showlegend": false,
         "textposition": "auto",
         "type": "bar",
         "x": [
          "Tocantins"
         ],
         "xaxis": "x9",
         "y": [
          10.737
         ],
         "yaxis": "y9"
        },
        {
         "alignmentgroup": "True",
         "hoverlabel": {
          "namelength": 0
         },
         "hovertemplate": "state=%{x}<br>year=2017<br>month=Outubro<br>number=%{y}",
         "legendgroup": "state=Tocantins",
         "marker": {
          "color": "#00cc96"
         },
         "name": "state=Tocantins",
         "offsetgroup": "state=Tocantins",
         "orientation": "v",
         "showlegend": false,
         "textposition": "auto",
         "type": "bar",
         "x": [
          "Tocantins"
         ],
         "xaxis": "x10",
         "y": [
          2.969
         ],
         "yaxis": "y10"
        },
        {
         "alignmentgroup": "True",
         "hoverlabel": {
          "namelength": 0
         },
         "hovertemplate": "state=%{x}<br>year=2017<br>month=Novembro<br>number=%{y}",
         "legendgroup": "state=Tocantins",
         "marker": {
          "color": "#00cc96"
         },
         "name": "state=Tocantins",
         "offsetgroup": "state=Tocantins",
         "orientation": "v",
         "showlegend": false,
         "textposition": "auto",
         "type": "bar",
         "x": [
          "Tocantins"
         ],
         "xaxis": "x11",
         "y": [
          434
         ],
         "yaxis": "y11"
        }
       ],
       "layout": {
        "annotations": [
         {
          "font": {},
          "showarrow": false,
          "text": "month=Janeiro",
          "x": 0.03166666666666666,
          "xanchor": "center",
          "xref": "paper",
          "y": 1,
          "yanchor": "bottom",
          "yref": "paper"
         },
         {
          "font": {},
          "showarrow": false,
          "text": "month=Fevereiro",
          "x": 0.11499999999999999,
          "xanchor": "center",
          "xref": "paper",
          "y": 1,
          "yanchor": "bottom",
          "yref": "paper"
         },
         {
          "font": {},
          "showarrow": false,
          "text": "month=Março",
          "x": 0.1983333333333333,
          "xanchor": "center",
          "xref": "paper",
          "y": 1,
          "yanchor": "bottom",
          "yref": "paper"
         },
         {
          "font": {},
          "showarrow": false,
          "text": "month=Abril",
          "x": 0.2816666666666666,
          "xanchor": "center",
          "xref": "paper",
          "y": 1,
          "yanchor": "bottom",
          "yref": "paper"
         },
         {
          "font": {},
          "showarrow": false,
          "text": "month=Maio",
          "x": 0.365,
          "xanchor": "center",
          "xref": "paper",
          "y": 1,
          "yanchor": "bottom",
          "yref": "paper"
         },
         {
          "font": {},
          "showarrow": false,
          "text": "month=Junho",
          "x": 0.4483333333333333,
          "xanchor": "center",
          "xref": "paper",
          "y": 1,
          "yanchor": "bottom",
          "yref": "paper"
         },
         {
          "font": {},
          "showarrow": false,
          "text": "month=Julho",
          "x": 0.5316666666666667,
          "xanchor": "center",
          "xref": "paper",
          "y": 1,
          "yanchor": "bottom",
          "yref": "paper"
         },
         {
          "font": {},
          "showarrow": false,
          "text": "month=Agosto",
          "x": 0.615,
          "xanchor": "center",
          "xref": "paper",
          "y": 1,
          "yanchor": "bottom",
          "yref": "paper"
         },
         {
          "font": {},
          "showarrow": false,
          "text": "month=Setembro",
          "x": 0.6983333333333335,
          "xanchor": "center",
          "xref": "paper",
          "y": 1,
          "yanchor": "bottom",
          "yref": "paper"
         },
         {
          "font": {},
          "showarrow": false,
          "text": "month=Outubro",
          "x": 0.7816666666666667,
          "xanchor": "center",
          "xref": "paper",
          "y": 1,
          "yanchor": "bottom",
          "yref": "paper"
         },
         {
          "font": {},
          "showarrow": false,
          "text": "month=Novembro",
          "x": 0.8650000000000002,
          "xanchor": "center",
          "xref": "paper",
          "y": 1,
          "yanchor": "bottom",
          "yref": "paper"
         },
         {
          "font": {},
          "showarrow": false,
          "text": "month=Dezembro",
          "x": 0.9483333333333335,
          "xanchor": "center",
          "xref": "paper",
          "y": 1,
          "yanchor": "bottom",
          "yref": "paper"
         },
         {
          "font": {},
          "showarrow": false,
          "text": "year=2017",
          "textangle": 90,
          "x": 0.9800000000000001,
          "xanchor": "left",
          "xref": "paper",
          "y": 0.2425,
          "yanchor": "middle",
          "yref": "paper"
         },
         {
          "font": {},
          "showarrow": false,
          "text": "year=2016",
          "textangle": 90,
          "x": 0.9800000000000001,
          "xanchor": "left",
          "xref": "paper",
          "y": 0.7575000000000001,
          "yanchor": "middle",
          "yref": "paper"
         }
        ],
        "barmode": "relative",
        "height": 600,
        "legend": {
         "tracegroupgap": 0
        },
        "margin": {
         "t": 60
        },
        "template": {
         "data": {
          "bar": [
           {
            "error_x": {
             "color": "#2a3f5f"
            },
            "error_y": {
             "color": "#2a3f5f"
            },
            "marker": {
             "line": {
              "color": "#E5ECF6",
              "width": 0.5
             }
            },
            "type": "bar"
           }
          ],
          "barpolar": [
           {
            "marker": {
             "line": {
              "color": "#E5ECF6",
              "width": 0.5
             }
            },
            "type": "barpolar"
           }
          ],
          "carpet": [
           {
            "aaxis": {
             "endlinecolor": "#2a3f5f",
             "gridcolor": "white",
             "linecolor": "white",
             "minorgridcolor": "white",
             "startlinecolor": "#2a3f5f"
            },
            "baxis": {
             "endlinecolor": "#2a3f5f",
             "gridcolor": "white",
             "linecolor": "white",
             "minorgridcolor": "white",
             "startlinecolor": "#2a3f5f"
            },
            "type": "carpet"
           }
          ],
          "choropleth": [
           {
            "colorbar": {
             "outlinewidth": 0,
             "ticks": ""
            },
            "type": "choropleth"
           }
          ],
          "contour": [
           {
            "colorbar": {
             "outlinewidth": 0,
             "ticks": ""
            },
            "colorscale": [
             [
              0,
              "#0d0887"
             ],
             [
              0.1111111111111111,
              "#46039f"
             ],
             [
              0.2222222222222222,
              "#7201a8"
             ],
             [
              0.3333333333333333,
              "#9c179e"
             ],
             [
              0.4444444444444444,
              "#bd3786"
             ],
             [
              0.5555555555555556,
              "#d8576b"
             ],
             [
              0.6666666666666666,
              "#ed7953"
             ],
             [
              0.7777777777777778,
              "#fb9f3a"
             ],
             [
              0.8888888888888888,
              "#fdca26"
             ],
             [
              1,
              "#f0f921"
             ]
            ],
            "type": "contour"
           }
          ],
          "contourcarpet": [
           {
            "colorbar": {
             "outlinewidth": 0,
             "ticks": ""
            },
            "type": "contourcarpet"
           }
          ],
          "heatmap": [
           {
            "colorbar": {
             "outlinewidth": 0,
             "ticks": ""
            },
            "colorscale": [
             [
              0,
              "#0d0887"
             ],
             [
              0.1111111111111111,
              "#46039f"
             ],
             [
              0.2222222222222222,
              "#7201a8"
             ],
             [
              0.3333333333333333,
              "#9c179e"
             ],
             [
              0.4444444444444444,
              "#bd3786"
             ],
             [
              0.5555555555555556,
              "#d8576b"
             ],
             [
              0.6666666666666666,
              "#ed7953"
             ],
             [
              0.7777777777777778,
              "#fb9f3a"
             ],
             [
              0.8888888888888888,
              "#fdca26"
             ],
             [
              1,
              "#f0f921"
             ]
            ],
            "type": "heatmap"
           }
          ],
          "heatmapgl": [
           {
            "colorbar": {
             "outlinewidth": 0,
             "ticks": ""
            },
            "colorscale": [
             [
              0,
              "#0d0887"
             ],
             [
              0.1111111111111111,
              "#46039f"
             ],
             [
              0.2222222222222222,
              "#7201a8"
             ],
             [
              0.3333333333333333,
              "#9c179e"
             ],
             [
              0.4444444444444444,
              "#bd3786"
             ],
             [
              0.5555555555555556,
              "#d8576b"
             ],
             [
              0.6666666666666666,
              "#ed7953"
             ],
             [
              0.7777777777777778,
              "#fb9f3a"
             ],
             [
              0.8888888888888888,
              "#fdca26"
             ],
             [
              1,
              "#f0f921"
             ]
            ],
            "type": "heatmapgl"
           }
          ],
          "histogram": [
           {
            "marker": {
             "colorbar": {
              "outlinewidth": 0,
              "ticks": ""
             }
            },
            "type": "histogram"
           }
          ],
          "histogram2d": [
           {
            "colorbar": {
             "outlinewidth": 0,
             "ticks": ""
            },
            "colorscale": [
             [
              0,
              "#0d0887"
             ],
             [
              0.1111111111111111,
              "#46039f"
             ],
             [
              0.2222222222222222,
              "#7201a8"
             ],
             [
              0.3333333333333333,
              "#9c179e"
             ],
             [
              0.4444444444444444,
              "#bd3786"
             ],
             [
              0.5555555555555556,
              "#d8576b"
             ],
             [
              0.6666666666666666,
              "#ed7953"
             ],
             [
              0.7777777777777778,
              "#fb9f3a"
             ],
             [
              0.8888888888888888,
              "#fdca26"
             ],
             [
              1,
              "#f0f921"
             ]
            ],
            "type": "histogram2d"
           }
          ],
          "histogram2dcontour": [
           {
            "colorbar": {
             "outlinewidth": 0,
             "ticks": ""
            },
            "colorscale": [
             [
              0,
              "#0d0887"
             ],
             [
              0.1111111111111111,
              "#46039f"
             ],
             [
              0.2222222222222222,
              "#7201a8"
             ],
             [
              0.3333333333333333,
              "#9c179e"
             ],
             [
              0.4444444444444444,
              "#bd3786"
             ],
             [
              0.5555555555555556,
              "#d8576b"
             ],
             [
              0.6666666666666666,
              "#ed7953"
             ],
             [
              0.7777777777777778,
              "#fb9f3a"
             ],
             [
              0.8888888888888888,
              "#fdca26"
             ],
             [
              1,
              "#f0f921"
             ]
            ],
            "type": "histogram2dcontour"
           }
          ],
          "mesh3d": [
           {
            "colorbar": {
             "outlinewidth": 0,
             "ticks": ""
            },
            "type": "mesh3d"
           }
          ],
          "parcoords": [
           {
            "line": {
             "colorbar": {
              "outlinewidth": 0,
              "ticks": ""
             }
            },
            "type": "parcoords"
           }
          ],
          "scatter": [
           {
            "marker": {
             "colorbar": {
              "outlinewidth": 0,
              "ticks": ""
             }
            },
            "type": "scatter"
           }
          ],
          "scatter3d": [
           {
            "line": {
             "colorbar": {
              "outlinewidth": 0,
              "ticks": ""
             }
            },
            "marker": {
             "colorbar": {
              "outlinewidth": 0,
              "ticks": ""
             }
            },
            "type": "scatter3d"
           }
          ],
          "scattercarpet": [
           {
            "marker": {
             "colorbar": {
              "outlinewidth": 0,
              "ticks": ""
             }
            },
            "type": "scattercarpet"
           }
          ],
          "scattergeo": [
           {
            "marker": {
             "colorbar": {
              "outlinewidth": 0,
              "ticks": ""
             }
            },
            "type": "scattergeo"
           }
          ],
          "scattergl": [
           {
            "marker": {
             "colorbar": {
              "outlinewidth": 0,
              "ticks": ""
             }
            },
            "type": "scattergl"
           }
          ],
          "scattermapbox": [
           {
            "marker": {
             "colorbar": {
              "outlinewidth": 0,
              "ticks": ""
             }
            },
            "type": "scattermapbox"
           }
          ],
          "scatterpolar": [
           {
            "marker": {
             "colorbar": {
              "outlinewidth": 0,
              "ticks": ""
             }
            },
            "type": "scatterpolar"
           }
          ],
          "scatterpolargl": [
           {
            "marker": {
             "colorbar": {
              "outlinewidth": 0,
              "ticks": ""
             }
            },
            "type": "scatterpolargl"
           }
          ],
          "scatterternary": [
           {
            "marker": {
             "colorbar": {
              "outlinewidth": 0,
              "ticks": ""
             }
            },
            "type": "scatterternary"
           }
          ],
          "surface": [
           {
            "colorbar": {
             "outlinewidth": 0,
             "ticks": ""
            },
            "colorscale": [
             [
              0,
              "#0d0887"
             ],
             [
              0.1111111111111111,
              "#46039f"
             ],
             [
              0.2222222222222222,
              "#7201a8"
             ],
             [
              0.3333333333333333,
              "#9c179e"
             ],
             [
              0.4444444444444444,
              "#bd3786"
             ],
             [
              0.5555555555555556,
              "#d8576b"
             ],
             [
              0.6666666666666666,
              "#ed7953"
             ],
             [
              0.7777777777777778,
              "#fb9f3a"
             ],
             [
              0.8888888888888888,
              "#fdca26"
             ],
             [
              1,
              "#f0f921"
             ]
            ],
            "type": "surface"
           }
          ],
          "table": [
           {
            "cells": {
             "fill": {
              "color": "#EBF0F8"
             },
             "line": {
              "color": "white"
             }
            },
            "header": {
             "fill": {
              "color": "#C8D4E3"
             },
             "line": {
              "color": "white"
             }
            },
            "type": "table"
           }
          ]
         },
         "layout": {
          "annotationdefaults": {
           "arrowcolor": "#2a3f5f",
           "arrowhead": 0,
           "arrowwidth": 1
          },
          "colorscale": {
           "diverging": [
            [
             0,
             "#8e0152"
            ],
            [
             0.1,
             "#c51b7d"
            ],
            [
             0.2,
             "#de77ae"
            ],
            [
             0.3,
             "#f1b6da"
            ],
            [
             0.4,
             "#fde0ef"
            ],
            [
             0.5,
             "#f7f7f7"
            ],
            [
             0.6,
             "#e6f5d0"
            ],
            [
             0.7,
             "#b8e186"
            ],
            [
             0.8,
             "#7fbc41"
            ],
            [
             0.9,
             "#4d9221"
            ],
            [
             1,
             "#276419"
            ]
           ],
           "sequential": [
            [
             0,
             "#0d0887"
            ],
            [
             0.1111111111111111,
             "#46039f"
            ],
            [
             0.2222222222222222,
             "#7201a8"
            ],
            [
             0.3333333333333333,
             "#9c179e"
            ],
            [
             0.4444444444444444,
             "#bd3786"
            ],
            [
             0.5555555555555556,
             "#d8576b"
            ],
            [
             0.6666666666666666,
             "#ed7953"
            ],
            [
             0.7777777777777778,
             "#fb9f3a"
            ],
            [
             0.8888888888888888,
             "#fdca26"
            ],
            [
             1,
             "#f0f921"
            ]
           ],
           "sequentialminus": [
            [
             0,
             "#0d0887"
            ],
            [
             0.1111111111111111,
             "#46039f"
            ],
            [
             0.2222222222222222,
             "#7201a8"
            ],
            [
             0.3333333333333333,
             "#9c179e"
            ],
            [
             0.4444444444444444,
             "#bd3786"
            ],
            [
             0.5555555555555556,
             "#d8576b"
            ],
            [
             0.6666666666666666,
             "#ed7953"
            ],
            [
             0.7777777777777778,
             "#fb9f3a"
            ],
            [
             0.8888888888888888,
             "#fdca26"
            ],
            [
             1,
             "#f0f921"
            ]
           ]
          },
          "colorway": [
           "#636efa",
           "#EF553B",
           "#00cc96",
           "#ab63fa",
           "#FFA15A",
           "#19d3f3",
           "#FF6692",
           "#B6E880",
           "#FF97FF",
           "#FECB52"
          ],
          "font": {
           "color": "#2a3f5f"
          },
          "geo": {
           "bgcolor": "white",
           "lakecolor": "white",
           "landcolor": "#E5ECF6",
           "showlakes": true,
           "showland": true,
           "subunitcolor": "white"
          },
          "hoverlabel": {
           "align": "left"
          },
          "hovermode": "closest",
          "mapbox": {
           "style": "light"
          },
          "paper_bgcolor": "white",
          "plot_bgcolor": "#E5ECF6",
          "polar": {
           "angularaxis": {
            "gridcolor": "white",
            "linecolor": "white",
            "ticks": ""
           },
           "bgcolor": "#E5ECF6",
           "radialaxis": {
            "gridcolor": "white",
            "linecolor": "white",
            "ticks": ""
           }
          },
          "scene": {
           "xaxis": {
            "backgroundcolor": "#E5ECF6",
            "gridcolor": "white",
            "gridwidth": 2,
            "linecolor": "white",
            "showbackground": true,
            "ticks": "",
            "zerolinecolor": "white"
           },
           "yaxis": {
            "backgroundcolor": "#E5ECF6",
            "gridcolor": "white",
            "gridwidth": 2,
            "linecolor": "white",
            "showbackground": true,
            "ticks": "",
            "zerolinecolor": "white"
           },
           "zaxis": {
            "backgroundcolor": "#E5ECF6",
            "gridcolor": "white",
            "gridwidth": 2,
            "linecolor": "white",
            "showbackground": true,
            "ticks": "",
            "zerolinecolor": "white"
           }
          },
          "shapedefaults": {
           "line": {
            "color": "#2a3f5f"
           }
          },
          "ternary": {
           "aaxis": {
            "gridcolor": "white",
            "linecolor": "white",
            "ticks": ""
           },
           "baxis": {
            "gridcolor": "white",
            "linecolor": "white",
            "ticks": ""
           },
           "bgcolor": "#E5ECF6",
           "caxis": {
            "gridcolor": "white",
            "linecolor": "white",
            "ticks": ""
           }
          },
          "title": {
           "x": 0.05
          },
          "xaxis": {
           "automargin": true,
           "gridcolor": "white",
           "linecolor": "white",
           "ticks": "",
           "zerolinecolor": "white",
           "zerolinewidth": 2
          },
          "yaxis": {
           "automargin": true,
           "gridcolor": "white",
           "linecolor": "white",
           "ticks": "",
           "zerolinecolor": "white",
           "zerolinewidth": 2
          }
         }
        },
        "title": {
         "text": "Amount of forest fires in Brazil by State"
        },
        "xaxis": {
         "anchor": "y",
         "categoryarray": [
          "Acre",
          "Alagoas",
          "Amapa",
          "Amazonas",
          "Bahia",
          "Ceara",
          "Distrito Federal",
          "Espirito Santo",
          "Goias",
          "Maranhao",
          "Mato Grosso",
          "Minas Gerais",
          "Pará",
          "Paraiba",
          "Pernambuco",
          "Piau",
          "Rio",
          "Rondonia",
          "Roraima",
          "Santa Catarina",
          "Sao Paulo",
          "Sergipe",
          "Tocantins"
         ],
         "categoryorder": "array",
         "domain": [
          0,
          0.06333333333333332
         ],
         "title": {
          "text": "State"
         }
        },
        "xaxis10": {
         "anchor": "y10",
         "categoryarray": [
          "Acre",
          "Alagoas",
          "Amapa",
          "Amazonas",
          "Bahia",
          "Ceara",
          "Distrito Federal",
          "Espirito Santo",
          "Goias",
          "Maranhao",
          "Mato Grosso",
          "Minas Gerais",
          "Pará",
          "Paraiba",
          "Pernambuco",
          "Piau",
          "Rio",
          "Rondonia",
          "Roraima",
          "Santa Catarina",
          "Sao Paulo",
          "Sergipe",
          "Tocantins"
         ],
         "categoryorder": "array",
         "domain": [
          0.75,
          0.8133333333333334
         ],
         "matches": "x",
         "title": {
          "text": "state"
         }
        },
        "xaxis11": {
         "anchor": "y11",
         "categoryarray": [
          "Acre",
          "Alagoas",
          "Amapa",
          "Amazonas",
          "Bahia",
          "Ceara",
          "Distrito Federal",
          "Espirito Santo",
          "Goias",
          "Maranhao",
          "Mato Grosso",
          "Minas Gerais",
          "Pará",
          "Paraiba",
          "Pernambuco",
          "Piau",
          "Rio",
          "Rondonia",
          "Roraima",
          "Santa Catarina",
          "Sao Paulo",
          "Sergipe",
          "Tocantins"
         ],
         "categoryorder": "array",
         "domain": [
          0.8333333333333335,
          0.8966666666666668
         ],
         "matches": "x",
         "title": {
          "text": "state"
         }
        },
        "xaxis12": {
         "anchor": "y12",
         "categoryarray": [
          "Acre",
          "Alagoas",
          "Amapa",
          "Amazonas",
          "Bahia",
          "Ceara",
          "Distrito Federal",
          "Espirito Santo",
          "Goias",
          "Maranhao",
          "Mato Grosso",
          "Minas Gerais",
          "Pará",
          "Paraiba",
          "Pernambuco",
          "Piau",
          "Rio",
          "Rondonia",
          "Roraima",
          "Santa Catarina",
          "Sao Paulo",
          "Sergipe",
          "Tocantins"
         ],
         "categoryorder": "array",
         "domain": [
          0.9166666666666667,
          0.9800000000000001
         ],
         "matches": "x",
         "title": {
          "text": "state"
         }
        },
        "xaxis13": {
         "anchor": "y13",
         "domain": [
          0,
          0.06333333333333332
         ],
         "matches": "x",
         "showticklabels": false
        },
        "xaxis14": {
         "anchor": "y14",
         "domain": [
          0.08333333333333333,
          0.14666666666666667
         ],
         "matches": "x",
         "showticklabels": false
        },
        "xaxis15": {
         "anchor": "y15",
         "domain": [
          0.16666666666666666,
          0.22999999999999998
         ],
         "matches": "x",
         "showticklabels": false
        },
        "xaxis16": {
         "anchor": "y16",
         "domain": [
          0.24999999999999997,
          0.3133333333333333
         ],
         "matches": "x",
         "showticklabels": false
        },
        "xaxis17": {
         "anchor": "y17",
         "domain": [
          0.3333333333333333,
          0.3966666666666666
         ],
         "matches": "x",
         "showticklabels": false
        },
        "xaxis18": {
         "anchor": "y18",
         "domain": [
          0.41666666666666663,
          0.48
         ],
         "matches": "x",
         "showticklabels": false
        },
        "xaxis19": {
         "anchor": "y19",
         "domain": [
          0.5,
          0.5633333333333334
         ],
         "matches": "x",
         "showticklabels": false
        },
        "xaxis2": {
         "anchor": "y2",
         "categoryarray": [
          "Acre",
          "Alagoas",
          "Amapa",
          "Amazonas",
          "Bahia",
          "Ceara",
          "Distrito Federal",
          "Espirito Santo",
          "Goias",
          "Maranhao",
          "Mato Grosso",
          "Minas Gerais",
          "Pará",
          "Paraiba",
          "Pernambuco",
          "Piau",
          "Rio",
          "Rondonia",
          "Roraima",
          "Santa Catarina",
          "Sao Paulo",
          "Sergipe",
          "Tocantins"
         ],
         "categoryorder": "array",
         "domain": [
          0.08333333333333333,
          0.14666666666666667
         ],
         "matches": "x",
         "title": {
          "text": "state"
         }
        },
        "xaxis20": {
         "anchor": "y20",
         "domain": [
          0.5833333333333334,
          0.6466666666666667
         ],
         "matches": "x",
         "showticklabels": false
        },
        "xaxis21": {
         "anchor": "y21",
         "domain": [
          0.6666666666666667,
          0.7300000000000001
         ],
         "matches": "x",
         "showticklabels": false
        },
        "xaxis22": {
         "anchor": "y22",
         "domain": [
          0.75,
          0.8133333333333334
         ],
         "matches": "x",
         "showticklabels": false
        },
        "xaxis23": {
         "anchor": "y23",
         "domain": [
          0.8333333333333335,
          0.8966666666666668
         ],
         "matches": "x",
         "showticklabels": false
        },
        "xaxis24": {
         "anchor": "y24",
         "domain": [
          0.9166666666666667,
          0.9800000000000001
         ],
         "matches": "x",
         "showticklabels": false
        },
        "xaxis3": {
         "anchor": "y3",
         "categoryarray": [
          "Acre",
          "Alagoas",
          "Amapa",
          "Amazonas",
          "Bahia",
          "Ceara",
          "Distrito Federal",
          "Espirito Santo",
          "Goias",
          "Maranhao",
          "Mato Grosso",
          "Minas Gerais",
          "Pará",
          "Paraiba",
          "Pernambuco",
          "Piau",
          "Rio",
          "Rondonia",
          "Roraima",
          "Santa Catarina",
          "Sao Paulo",
          "Sergipe",
          "Tocantins"
         ],
         "categoryorder": "array",
         "domain": [
          0.16666666666666666,
          0.22999999999999998
         ],
         "matches": "x",
         "title": {
          "text": "state"
         }
        },
        "xaxis4": {
         "anchor": "y4",
         "categoryarray": [
          "Acre",
          "Alagoas",
          "Amapa",
          "Amazonas",
          "Bahia",
          "Ceara",
          "Distrito Federal",
          "Espirito Santo",
          "Goias",
          "Maranhao",
          "Mato Grosso",
          "Minas Gerais",
          "Pará",
          "Paraiba",
          "Pernambuco",
          "Piau",
          "Rio",
          "Rondonia",
          "Roraima",
          "Santa Catarina",
          "Sao Paulo",
          "Sergipe",
          "Tocantins"
         ],
         "categoryorder": "array",
         "domain": [
          0.24999999999999997,
          0.3133333333333333
         ],
         "matches": "x",
         "title": {
          "text": "state"
         }
        },
        "xaxis5": {
         "anchor": "y5",
         "categoryarray": [
          "Acre",
          "Alagoas",
          "Amapa",
          "Amazonas",
          "Bahia",
          "Ceara",
          "Distrito Federal",
          "Espirito Santo",
          "Goias",
          "Maranhao",
          "Mato Grosso",
          "Minas Gerais",
          "Pará",
          "Paraiba",
          "Pernambuco",
          "Piau",
          "Rio",
          "Rondonia",
          "Roraima",
          "Santa Catarina",
          "Sao Paulo",
          "Sergipe",
          "Tocantins"
         ],
         "categoryorder": "array",
         "domain": [
          0.3333333333333333,
          0.3966666666666666
         ],
         "matches": "x",
         "title": {
          "text": "state"
         }
        },
        "xaxis6": {
         "anchor": "y6",
         "categoryarray": [
          "Acre",
          "Alagoas",
          "Amapa",
          "Amazonas",
          "Bahia",
          "Ceara",
          "Distrito Federal",
          "Espirito Santo",
          "Goias",
          "Maranhao",
          "Mato Grosso",
          "Minas Gerais",
          "Pará",
          "Paraiba",
          "Pernambuco",
          "Piau",
          "Rio",
          "Rondonia",
          "Roraima",
          "Santa Catarina",
          "Sao Paulo",
          "Sergipe",
          "Tocantins"
         ],
         "categoryorder": "array",
         "domain": [
          0.41666666666666663,
          0.48
         ],
         "matches": "x",
         "title": {
          "text": "state"
         }
        },
        "xaxis7": {
         "anchor": "y7",
         "categoryarray": [
          "Acre",
          "Alagoas",
          "Amapa",
          "Amazonas",
          "Bahia",
          "Ceara",
          "Distrito Federal",
          "Espirito Santo",
          "Goias",
          "Maranhao",
          "Mato Grosso",
          "Minas Gerais",
          "Pará",
          "Paraiba",
          "Pernambuco",
          "Piau",
          "Rio",
          "Rondonia",
          "Roraima",
          "Santa Catarina",
          "Sao Paulo",
          "Sergipe",
          "Tocantins"
         ],
         "categoryorder": "array",
         "domain": [
          0.5,
          0.5633333333333334
         ],
         "matches": "x",
         "title": {
          "text": "state"
         }
        },
        "xaxis8": {
         "anchor": "y8",
         "categoryarray": [
          "Acre",
          "Alagoas",
          "Amapa",
          "Amazonas",
          "Bahia",
          "Ceara",
          "Distrito Federal",
          "Espirito Santo",
          "Goias",
          "Maranhao",
          "Mato Grosso",
          "Minas Gerais",
          "Pará",
          "Paraiba",
          "Pernambuco",
          "Piau",
          "Rio",
          "Rondonia",
          "Roraima",
          "Santa Catarina",
          "Sao Paulo",
          "Sergipe",
          "Tocantins"
         ],
         "categoryorder": "array",
         "domain": [
          0.5833333333333334,
          0.6466666666666667
         ],
         "matches": "x",
         "title": {
          "text": "state"
         }
        },
        "xaxis9": {
         "anchor": "y9",
         "categoryarray": [
          "Acre",
          "Alagoas",
          "Amapa",
          "Amazonas",
          "Bahia",
          "Ceara",
          "Distrito Federal",
          "Espirito Santo",
          "Goias",
          "Maranhao",
          "Mato Grosso",
          "Minas Gerais",
          "Pará",
          "Paraiba",
          "Pernambuco",
          "Piau",
          "Rio",
          "Rondonia",
          "Roraima",
          "Santa Catarina",
          "Sao Paulo",
          "Sergipe",
          "Tocantins"
         ],
         "categoryorder": "array",
         "domain": [
          0.6666666666666667,
          0.7300000000000001
         ],
         "matches": "x",
         "title": {
          "text": "state"
         }
        },
        "yaxis": {
         "anchor": "x",
         "domain": [
          0,
          0.485
         ],
         "title": {
          "text": "Amount of Forest Fires"
         }
        },
        "yaxis10": {
         "anchor": "x10",
         "domain": [
          0,
          0.485
         ],
         "matches": "y",
         "showticklabels": false
        },
        "yaxis11": {
         "anchor": "x11",
         "domain": [
          0,
          0.485
         ],
         "matches": "y",
         "showticklabels": false
        },
        "yaxis12": {
         "anchor": "x12",
         "domain": [
          0,
          0.485
         ],
         "matches": "y",
         "showticklabels": false
        },
        "yaxis13": {
         "anchor": "x13",
         "domain": [
          0.515,
          1
         ],
         "matches": "y",
         "title": {
          "text": "number"
         }
        },
        "yaxis14": {
         "anchor": "x14",
         "domain": [
          0.515,
          1
         ],
         "matches": "y",
         "showticklabels": false
        },
        "yaxis15": {
         "anchor": "x15",
         "domain": [
          0.515,
          1
         ],
         "matches": "y",
         "showticklabels": false
        },
        "yaxis16": {
         "anchor": "x16",
         "domain": [
          0.515,
          1
         ],
         "matches": "y",
         "showticklabels": false
        },
        "yaxis17": {
         "anchor": "x17",
         "domain": [
          0.515,
          1
         ],
         "matches": "y",
         "showticklabels": false
        },
        "yaxis18": {
         "anchor": "x18",
         "domain": [
          0.515,
          1
         ],
         "matches": "y",
         "showticklabels": false
        },
        "yaxis19": {
         "anchor": "x19",
         "domain": [
          0.515,
          1
         ],
         "matches": "y",
         "showticklabels": false
        },
        "yaxis2": {
         "anchor": "x2",
         "domain": [
          0,
          0.485
         ],
         "matches": "y",
         "showticklabels": false
        },
        "yaxis20": {
         "anchor": "x20",
         "domain": [
          0.515,
          1
         ],
         "matches": "y",
         "showticklabels": false
        },
        "yaxis21": {
         "anchor": "x21",
         "domain": [
          0.515,
          1
         ],
         "matches": "y",
         "showticklabels": false
        },
        "yaxis22": {
         "anchor": "x22",
         "domain": [
          0.515,
          1
         ],
         "matches": "y",
         "showticklabels": false
        },
        "yaxis23": {
         "anchor": "x23",
         "domain": [
          0.515,
          1
         ],
         "matches": "y",
         "showticklabels": false
        },
        "yaxis24": {
         "anchor": "x24",
         "domain": [
          0.515,
          1
         ],
         "matches": "y",
         "showticklabels": false
        },
        "yaxis3": {
         "anchor": "x3",
         "domain": [
          0,
          0.485
         ],
         "matches": "y",
         "showticklabels": false
        },
        "yaxis4": {
         "anchor": "x4",
         "domain": [
          0,
          0.485
         ],
         "matches": "y",
         "showticklabels": false
        },
        "yaxis5": {
         "anchor": "x5",
         "domain": [
          0,
          0.485
         ],
         "matches": "y",
         "showticklabels": false
        },
        "yaxis6": {
         "anchor": "x6",
         "domain": [
          0,
          0.485
         ],
         "matches": "y",
         "showticklabels": false
        },
        "yaxis7": {
         "anchor": "x7",
         "domain": [
          0,
          0.485
         ],
         "matches": "y",
         "showticklabels": false
        },
        "yaxis8": {
         "anchor": "x8",
         "domain": [
          0,
          0.485
         ],
         "matches": "y",
         "showticklabels": false
        },
        "yaxis9": {
         "anchor": "x9",
         "domain": [
          0,
          0.485
         ],
         "matches": "y",
         "showticklabels": false
        }
       }
      },
      "text/html": [
       "<div>\n",
       "        \n",
       "        \n",
       "            <div id=\"67d2a57a-4cfe-4999-be73-002932b58b55\" class=\"plotly-graph-div\" style=\"height:600px; width:100%;\"></div>\n",
       "            <script type=\"text/javascript\">\n",
       "                require([\"plotly\"], function(Plotly) {\n",
       "                    window.PLOTLYENV=window.PLOTLYENV || {};\n",
       "                    \n",
       "                if (document.getElementById(\"67d2a57a-4cfe-4999-be73-002932b58b55\")) {\n",
       "                    Plotly.newPlot(\n",
       "                        '67d2a57a-4cfe-4999-be73-002932b58b55',\n",
       "                        [{\"alignmentgroup\": \"True\", \"hoverlabel\": {\"namelength\": 0}, \"hovertemplate\": \"state=%{x}<br>year=2016<br>month=Janeiro<br>number=%{y}\", \"legendgroup\": \"state=Acre\", \"marker\": {\"color\": \"#636efa\"}, \"name\": \"state=Acre\", \"offsetgroup\": \"state=Acre\", \"orientation\": \"v\", \"showlegend\": true, \"textposition\": \"auto\", \"type\": \"bar\", \"x\": [\"Acre\"], \"xaxis\": \"x13\", \"y\": [12.0], \"yaxis\": \"y13\"}, {\"alignmentgroup\": \"True\", \"hoverlabel\": {\"namelength\": 0}, \"hovertemplate\": \"state=%{x}<br>year=2016<br>month=Fevereiro<br>number=%{y}\", \"legendgroup\": \"state=Acre\", \"marker\": {\"color\": \"#636efa\"}, \"name\": \"state=Acre\", \"offsetgroup\": \"state=Acre\", \"orientation\": \"v\", \"showlegend\": false, \"textposition\": \"auto\", \"type\": \"bar\", \"x\": [\"Acre\"], \"xaxis\": \"x14\", \"y\": [5.0], \"yaxis\": \"y14\"}, {\"alignmentgroup\": \"True\", \"hoverlabel\": {\"namelength\": 0}, \"hovertemplate\": \"state=%{x}<br>year=2016<br>month=Mar\\u00e7o<br>number=%{y}\", \"legendgroup\": \"state=Acre\", \"marker\": {\"color\": \"#636efa\"}, \"name\": \"state=Acre\", \"offsetgroup\": \"state=Acre\", \"orientation\": \"v\", \"showlegend\": false, \"textposition\": \"auto\", \"type\": \"bar\", \"x\": [\"Acre\"], \"xaxis\": \"x15\", \"y\": [0.0], \"yaxis\": \"y15\"}, {\"alignmentgroup\": \"True\", \"hoverlabel\": {\"namelength\": 0}, \"hovertemplate\": \"state=%{x}<br>year=2016<br>month=Abril<br>number=%{y}\", \"legendgroup\": \"state=Acre\", \"marker\": {\"color\": \"#636efa\"}, \"name\": \"state=Acre\", \"offsetgroup\": \"state=Acre\", \"orientation\": \"v\", \"showlegend\": false, \"textposition\": \"auto\", \"type\": \"bar\", \"x\": [\"Acre\"], \"xaxis\": \"x16\", \"y\": [0.0], \"yaxis\": \"y16\"}, {\"alignmentgroup\": \"True\", \"hoverlabel\": {\"namelength\": 0}, \"hovertemplate\": \"state=%{x}<br>year=2016<br>month=Maio<br>number=%{y}\", \"legendgroup\": \"state=Acre\", \"marker\": {\"color\": \"#636efa\"}, \"name\": \"state=Acre\", \"offsetgroup\": \"state=Acre\", \"orientation\": \"v\", \"showlegend\": false, \"textposition\": \"auto\", \"type\": \"bar\", \"x\": [\"Acre\"], \"xaxis\": \"x17\", \"y\": [21.0], \"yaxis\": \"y17\"}, {\"alignmentgroup\": \"True\", \"hoverlabel\": {\"namelength\": 0}, \"hovertemplate\": \"state=%{x}<br>year=2016<br>month=Junho<br>number=%{y}\", \"legendgroup\": \"state=Acre\", \"marker\": {\"color\": \"#636efa\"}, \"name\": \"state=Acre\", \"offsetgroup\": \"state=Acre\", \"orientation\": \"v\", \"showlegend\": false, \"textposition\": \"auto\", \"type\": \"bar\", \"x\": [\"Acre\"], \"xaxis\": \"x18\", \"y\": [87.0], \"yaxis\": \"y18\"}, {\"alignmentgroup\": \"True\", \"hoverlabel\": {\"namelength\": 0}, \"hovertemplate\": \"state=%{x}<br>year=2016<br>month=Julho<br>number=%{y}\", \"legendgroup\": \"state=Acre\", \"marker\": {\"color\": \"#636efa\"}, \"name\": \"state=Acre\", \"offsetgroup\": \"state=Acre\", \"orientation\": \"v\", \"showlegend\": false, \"textposition\": \"auto\", \"type\": \"bar\", \"x\": [\"Acre\"], \"xaxis\": \"x19\", \"y\": [533.0], \"yaxis\": \"y19\"}, {\"alignmentgroup\": \"True\", \"hoverlabel\": {\"namelength\": 0}, \"hovertemplate\": \"state=%{x}<br>year=2016<br>month=Agosto<br>number=%{y}\", \"legendgroup\": \"state=Acre\", \"marker\": {\"color\": \"#636efa\"}, \"name\": \"state=Acre\", \"offsetgroup\": \"state=Acre\", \"orientation\": \"v\", \"showlegend\": false, \"textposition\": \"auto\", \"type\": \"bar\", \"x\": [\"Acre\"], \"xaxis\": \"x20\", \"y\": [2.188], \"yaxis\": \"y20\"}, {\"alignmentgroup\": \"True\", \"hoverlabel\": {\"namelength\": 0}, \"hovertemplate\": \"state=%{x}<br>year=2016<br>month=Setembro<br>number=%{y}\", \"legendgroup\": \"state=Acre\", \"marker\": {\"color\": \"#636efa\"}, \"name\": \"state=Acre\", \"offsetgroup\": \"state=Acre\", \"orientation\": \"v\", \"showlegend\": false, \"textposition\": \"auto\", \"type\": \"bar\", \"x\": [\"Acre\"], \"xaxis\": \"x21\", \"y\": [3.5860000000000003], \"yaxis\": \"y21\"}, {\"alignmentgroup\": \"True\", \"hoverlabel\": {\"namelength\": 0}, \"hovertemplate\": \"state=%{x}<br>year=2016<br>month=Outubro<br>number=%{y}\", \"legendgroup\": \"state=Acre\", \"marker\": {\"color\": \"#636efa\"}, \"name\": \"state=Acre\", \"offsetgroup\": \"state=Acre\", \"orientation\": \"v\", \"showlegend\": false, \"textposition\": \"auto\", \"type\": \"bar\", \"x\": [\"Acre\"], \"xaxis\": \"x22\", \"y\": [509.0], \"yaxis\": \"y22\"}, {\"alignmentgroup\": \"True\", \"hoverlabel\": {\"namelength\": 0}, \"hovertemplate\": \"state=%{x}<br>year=2016<br>month=Novembro<br>number=%{y}\", \"legendgroup\": \"state=Acre\", \"marker\": {\"color\": \"#636efa\"}, \"name\": \"state=Acre\", \"offsetgroup\": \"state=Acre\", \"orientation\": \"v\", \"showlegend\": false, \"textposition\": \"auto\", \"type\": \"bar\", \"x\": [\"Acre\"], \"xaxis\": \"x23\", \"y\": [46.0], \"yaxis\": \"y23\"}, {\"alignmentgroup\": \"True\", \"hoverlabel\": {\"namelength\": 0}, \"hovertemplate\": \"state=%{x}<br>year=2016<br>month=Dezembro<br>number=%{y}\", \"legendgroup\": \"state=Acre\", \"marker\": {\"color\": \"#636efa\"}, \"name\": \"state=Acre\", \"offsetgroup\": \"state=Acre\", \"orientation\": \"v\", \"showlegend\": false, \"textposition\": \"auto\", \"type\": \"bar\", \"x\": [\"Acre\"], \"xaxis\": \"x24\", \"y\": [6.0], \"yaxis\": \"y24\"}, {\"alignmentgroup\": \"True\", \"hoverlabel\": {\"namelength\": 0}, \"hovertemplate\": \"state=%{x}<br>year=2017<br>month=Janeiro<br>number=%{y}\", \"legendgroup\": \"state=Acre\", \"marker\": {\"color\": \"#636efa\"}, \"name\": \"state=Acre\", \"offsetgroup\": \"state=Acre\", \"orientation\": \"v\", \"showlegend\": false, \"textposition\": \"auto\", \"type\": \"bar\", \"x\": [\"Acre\"], \"xaxis\": \"x\", \"y\": [0.0], \"yaxis\": \"y\"}, {\"alignmentgroup\": \"True\", \"hoverlabel\": {\"namelength\": 0}, \"hovertemplate\": \"state=%{x}<br>year=2017<br>month=Fevereiro<br>number=%{y}\", \"legendgroup\": \"state=Acre\", \"marker\": {\"color\": \"#636efa\"}, \"name\": \"state=Acre\", \"offsetgroup\": \"state=Acre\", \"orientation\": \"v\", \"showlegend\": false, \"textposition\": \"auto\", \"type\": \"bar\", \"x\": [\"Acre\"], \"xaxis\": \"x2\", \"y\": [1.0], \"yaxis\": \"y2\"}, {\"alignmentgroup\": \"True\", \"hoverlabel\": {\"namelength\": 0}, \"hovertemplate\": \"state=%{x}<br>year=2017<br>month=Mar\\u00e7o<br>number=%{y}\", \"legendgroup\": \"state=Acre\", \"marker\": {\"color\": \"#636efa\"}, \"name\": \"state=Acre\", \"offsetgroup\": \"state=Acre\", \"orientation\": \"v\", \"showlegend\": false, \"textposition\": \"auto\", \"type\": \"bar\", \"x\": [\"Acre\"], \"xaxis\": \"x3\", \"y\": [0.0], \"yaxis\": \"y3\"}, {\"alignmentgroup\": \"True\", \"hoverlabel\": {\"namelength\": 0}, \"hovertemplate\": \"state=%{x}<br>year=2017<br>month=Abril<br>number=%{y}\", \"legendgroup\": \"state=Acre\", \"marker\": {\"color\": \"#636efa\"}, \"name\": \"state=Acre\", \"offsetgroup\": \"state=Acre\", \"orientation\": \"v\", \"showlegend\": false, \"textposition\": \"auto\", \"type\": \"bar\", \"x\": [\"Acre\"], \"xaxis\": \"x4\", \"y\": [1.0], \"yaxis\": \"y4\"}, {\"alignmentgroup\": \"True\", \"hoverlabel\": {\"namelength\": 0}, \"hovertemplate\": \"state=%{x}<br>year=2017<br>month=Maio<br>number=%{y}\", \"legendgroup\": \"state=Acre\", \"marker\": {\"color\": \"#636efa\"}, \"name\": \"state=Acre\", \"offsetgroup\": \"state=Acre\", \"orientation\": \"v\", \"showlegend\": false, \"textposition\": \"auto\", \"type\": \"bar\", \"x\": [\"Acre\"], \"xaxis\": \"x5\", \"y\": [10.0], \"yaxis\": \"y5\"}, {\"alignmentgroup\": \"True\", \"hoverlabel\": {\"namelength\": 0}, \"hovertemplate\": \"state=%{x}<br>year=2017<br>month=Junho<br>number=%{y}\", \"legendgroup\": \"state=Acre\", \"marker\": {\"color\": \"#636efa\"}, \"name\": \"state=Acre\", \"offsetgroup\": \"state=Acre\", \"orientation\": \"v\", \"showlegend\": false, \"textposition\": \"auto\", \"type\": \"bar\", \"x\": [\"Acre\"], \"xaxis\": \"x6\", \"y\": [45.0], \"yaxis\": \"y6\"}, {\"alignmentgroup\": \"True\", \"hoverlabel\": {\"namelength\": 0}, \"hovertemplate\": \"state=%{x}<br>year=2017<br>month=Julho<br>number=%{y}\", \"legendgroup\": \"state=Acre\", \"marker\": {\"color\": \"#636efa\"}, \"name\": \"state=Acre\", \"offsetgroup\": \"state=Acre\", \"orientation\": \"v\", \"showlegend\": false, \"textposition\": \"auto\", \"type\": \"bar\", \"x\": [\"Acre\"], \"xaxis\": \"x7\", \"y\": [457.0], \"yaxis\": \"y7\"}, {\"alignmentgroup\": \"True\", \"hoverlabel\": {\"namelength\": 0}, \"hovertemplate\": \"state=%{x}<br>year=2017<br>month=Agosto<br>number=%{y}\", \"legendgroup\": \"state=Acre\", \"marker\": {\"color\": \"#636efa\"}, \"name\": \"state=Acre\", \"offsetgroup\": \"state=Acre\", \"orientation\": \"v\", \"showlegend\": false, \"textposition\": \"auto\", \"type\": \"bar\", \"x\": [\"Acre\"], \"xaxis\": \"x8\", \"y\": [1.493], \"yaxis\": \"y8\"}, {\"alignmentgroup\": \"True\", \"hoverlabel\": {\"namelength\": 0}, \"hovertemplate\": \"state=%{x}<br>year=2017<br>month=Setembro<br>number=%{y}\", \"legendgroup\": \"state=Acre\", \"marker\": {\"color\": \"#636efa\"}, \"name\": \"state=Acre\", \"offsetgroup\": \"state=Acre\", \"orientation\": \"v\", \"showlegend\": false, \"textposition\": \"auto\", \"type\": \"bar\", \"x\": [\"Acre\"], \"xaxis\": \"x9\", \"y\": [3.429], \"yaxis\": \"y9\"}, {\"alignmentgroup\": \"True\", \"hoverlabel\": {\"namelength\": 0}, \"hovertemplate\": \"state=%{x}<br>year=2017<br>month=Outubro<br>number=%{y}\", \"legendgroup\": \"state=Acre\", \"marker\": {\"color\": \"#636efa\"}, \"name\": \"state=Acre\", \"offsetgroup\": \"state=Acre\", \"orientation\": \"v\", \"showlegend\": false, \"textposition\": \"auto\", \"type\": \"bar\", \"x\": [\"Acre\"], \"xaxis\": \"x10\", \"y\": [1.508], \"yaxis\": \"y10\"}, {\"alignmentgroup\": \"True\", \"hoverlabel\": {\"namelength\": 0}, \"hovertemplate\": \"state=%{x}<br>year=2017<br>month=Novembro<br>number=%{y}\", \"legendgroup\": \"state=Acre\", \"marker\": {\"color\": \"#636efa\"}, \"name\": \"state=Acre\", \"offsetgroup\": \"state=Acre\", \"orientation\": \"v\", \"showlegend\": false, \"textposition\": \"auto\", \"type\": \"bar\", \"x\": [\"Acre\"], \"xaxis\": \"x11\", \"y\": [98.0], \"yaxis\": \"y11\"}, {\"alignmentgroup\": \"True\", \"hoverlabel\": {\"namelength\": 0}, \"hovertemplate\": \"state=%{x}<br>year=2016<br>month=Janeiro<br>number=%{y}\", \"legendgroup\": \"state=Alagoas\", \"marker\": {\"color\": \"#EF553B\"}, \"name\": \"state=Alagoas\", \"offsetgroup\": \"state=Alagoas\", \"orientation\": \"v\", \"showlegend\": true, \"textposition\": \"auto\", \"type\": \"bar\", \"x\": [\"Alagoas\"], \"xaxis\": \"x13\", \"y\": [24.0], \"yaxis\": \"y13\"}, {\"alignmentgroup\": \"True\", \"hoverlabel\": {\"namelength\": 0}, \"hovertemplate\": \"state=%{x}<br>year=2016<br>month=Fevereiro<br>number=%{y}\", \"legendgroup\": \"state=Alagoas\", \"marker\": {\"color\": \"#EF553B\"}, \"name\": \"state=Alagoas\", \"offsetgroup\": \"state=Alagoas\", \"orientation\": \"v\", \"showlegend\": false, \"textposition\": \"auto\", \"type\": \"bar\", \"x\": [\"Alagoas\"], \"xaxis\": \"x14\", \"y\": [14.0], \"yaxis\": \"y14\"}, {\"alignmentgroup\": \"True\", \"hoverlabel\": {\"namelength\": 0}, \"hovertemplate\": \"state=%{x}<br>year=2016<br>month=Mar\\u00e7o<br>number=%{y}\", \"legendgroup\": \"state=Alagoas\", \"marker\": {\"color\": \"#EF553B\"}, \"name\": \"state=Alagoas\", \"offsetgroup\": \"state=Alagoas\", \"orientation\": \"v\", \"showlegend\": false, \"textposition\": \"auto\", \"type\": \"bar\", \"x\": [\"Alagoas\"], \"xaxis\": \"x15\", \"y\": [9.0], \"yaxis\": \"y15\"}, {\"alignmentgroup\": \"True\", \"hoverlabel\": {\"namelength\": 0}, \"hovertemplate\": \"state=%{x}<br>year=2016<br>month=Abril<br>number=%{y}\", \"legendgroup\": \"state=Alagoas\", \"marker\": {\"color\": \"#EF553B\"}, \"name\": \"state=Alagoas\", \"offsetgroup\": \"state=Alagoas\", \"orientation\": \"v\", \"showlegend\": false, \"textposition\": \"auto\", \"type\": \"bar\", \"x\": [\"Alagoas\"], \"xaxis\": \"x16\", \"y\": [13.0], \"yaxis\": \"y16\"}, {\"alignmentgroup\": \"True\", \"hoverlabel\": {\"namelength\": 0}, \"hovertemplate\": \"state=%{x}<br>year=2016<br>month=Maio<br>number=%{y}\", \"legendgroup\": \"state=Alagoas\", \"marker\": {\"color\": \"#EF553B\"}, \"name\": \"state=Alagoas\", \"offsetgroup\": \"state=Alagoas\", \"orientation\": \"v\", \"showlegend\": false, \"textposition\": \"auto\", \"type\": \"bar\", \"x\": [\"Alagoas\"], \"xaxis\": \"x17\", \"y\": [4.0], \"yaxis\": \"y17\"}, {\"alignmentgroup\": \"True\", \"hoverlabel\": {\"namelength\": 0}, \"hovertemplate\": \"state=%{x}<br>year=2016<br>month=Junho<br>number=%{y}\", \"legendgroup\": \"state=Alagoas\", \"marker\": {\"color\": \"#EF553B\"}, \"name\": \"state=Alagoas\", \"offsetgroup\": \"state=Alagoas\", \"orientation\": \"v\", \"showlegend\": false, \"textposition\": \"auto\", \"type\": \"bar\", \"x\": [\"Alagoas\"], \"xaxis\": \"x18\", \"y\": [5.0], \"yaxis\": \"y18\"}, {\"alignmentgroup\": \"True\", \"hoverlabel\": {\"namelength\": 0}, \"hovertemplate\": \"state=%{x}<br>year=2016<br>month=Julho<br>number=%{y}\", \"legendgroup\": \"state=Alagoas\", \"marker\": {\"color\": \"#EF553B\"}, \"name\": \"state=Alagoas\", \"offsetgroup\": \"state=Alagoas\", \"orientation\": \"v\", \"showlegend\": false, \"textposition\": \"auto\", \"type\": \"bar\", \"x\": [\"Alagoas\"], \"xaxis\": \"x19\", \"y\": [3.0], \"yaxis\": \"y19\"}, {\"alignmentgroup\": \"True\", \"hoverlabel\": {\"namelength\": 0}, \"hovertemplate\": \"state=%{x}<br>year=2016<br>month=Agosto<br>number=%{y}\", \"legendgroup\": \"state=Alagoas\", \"marker\": {\"color\": \"#EF553B\"}, \"name\": \"state=Alagoas\", \"offsetgroup\": \"state=Alagoas\", \"orientation\": \"v\", \"showlegend\": false, \"textposition\": \"auto\", \"type\": \"bar\", \"x\": [\"Alagoas\"], \"xaxis\": \"x20\", \"y\": [5.0], \"yaxis\": \"y20\"}, {\"alignmentgroup\": \"True\", \"hoverlabel\": {\"namelength\": 0}, \"hovertemplate\": \"state=%{x}<br>year=2016<br>month=Setembro<br>number=%{y}\", \"legendgroup\": \"state=Alagoas\", \"marker\": {\"color\": \"#EF553B\"}, \"name\": \"state=Alagoas\", \"offsetgroup\": \"state=Alagoas\", \"orientation\": \"v\", \"showlegend\": false, \"textposition\": \"auto\", \"type\": \"bar\", \"x\": [\"Alagoas\"], \"xaxis\": \"x21\", \"y\": [18.0], \"yaxis\": \"y21\"}, {\"alignmentgroup\": \"True\", \"hoverlabel\": {\"namelength\": 0}, \"hovertemplate\": \"state=%{x}<br>year=2016<br>month=Outubro<br>number=%{y}\", \"legendgroup\": \"state=Alagoas\", \"marker\": {\"color\": \"#EF553B\"}, \"name\": \"state=Alagoas\", \"offsetgroup\": \"state=Alagoas\", \"orientation\": \"v\", \"showlegend\": false, \"textposition\": \"auto\", \"type\": \"bar\", \"x\": [\"Alagoas\"], \"xaxis\": \"x22\", \"y\": [74.0], \"yaxis\": \"y22\"}, {\"alignmentgroup\": \"True\", \"hoverlabel\": {\"namelength\": 0}, \"hovertemplate\": \"state=%{x}<br>year=2016<br>month=Novembro<br>number=%{y}\", \"legendgroup\": \"state=Alagoas\", \"marker\": {\"color\": \"#EF553B\"}, \"name\": \"state=Alagoas\", \"offsetgroup\": \"state=Alagoas\", \"orientation\": \"v\", \"showlegend\": false, \"textposition\": \"auto\", \"type\": \"bar\", \"x\": [\"Alagoas\"], \"xaxis\": \"x23\", \"y\": [76.0], \"yaxis\": \"y23\"}, {\"alignmentgroup\": \"True\", \"hoverlabel\": {\"namelength\": 0}, \"hovertemplate\": \"state=%{x}<br>year=2016<br>month=Dezembro<br>number=%{y}\", \"legendgroup\": \"state=Alagoas\", \"marker\": {\"color\": \"#EF553B\"}, \"name\": \"state=Alagoas\", \"offsetgroup\": \"state=Alagoas\", \"orientation\": \"v\", \"showlegend\": false, \"textposition\": \"auto\", \"type\": \"bar\", \"x\": [\"Alagoas\"], \"xaxis\": \"x24\", \"y\": [155.0], \"yaxis\": \"y24\"}, {\"alignmentgroup\": \"True\", \"hoverlabel\": {\"namelength\": 0}, \"hovertemplate\": \"state=%{x}<br>year=2017<br>month=Janeiro<br>number=%{y}\", \"legendgroup\": \"state=Alagoas\", \"marker\": {\"color\": \"#EF553B\"}, \"name\": \"state=Alagoas\", \"offsetgroup\": \"state=Alagoas\", \"orientation\": \"v\", \"showlegend\": false, \"textposition\": \"auto\", \"type\": \"bar\", \"x\": [\"Alagoas\", \"Alagoas\"], \"xaxis\": \"x\", \"y\": [38.0, 38.0], \"yaxis\": \"y\"}, {\"alignmentgroup\": \"True\", \"hoverlabel\": {\"namelength\": 0}, \"hovertemplate\": \"state=%{x}<br>year=2017<br>month=Fevereiro<br>number=%{y}\", \"legendgroup\": \"state=Alagoas\", \"marker\": {\"color\": \"#EF553B\"}, \"name\": \"state=Alagoas\", \"offsetgroup\": \"state=Alagoas\", \"orientation\": \"v\", \"showlegend\": false, \"textposition\": \"auto\", \"type\": \"bar\", \"x\": [\"Alagoas\"], \"xaxis\": \"x2\", \"y\": [21.0], \"yaxis\": \"y2\"}, {\"alignmentgroup\": \"True\", \"hoverlabel\": {\"namelength\": 0}, \"hovertemplate\": \"state=%{x}<br>year=2017<br>month=Mar\\u00e7o<br>number=%{y}\", \"legendgroup\": \"state=Alagoas\", \"marker\": {\"color\": \"#EF553B\"}, \"name\": \"state=Alagoas\", \"offsetgroup\": \"state=Alagoas\", \"orientation\": \"v\", \"showlegend\": false, \"textposition\": \"auto\", \"type\": \"bar\", \"x\": [\"Alagoas\"], \"xaxis\": \"x3\", \"y\": [23.0], \"yaxis\": \"y3\"}, {\"alignmentgroup\": \"True\", \"hoverlabel\": {\"namelength\": 0}, \"hovertemplate\": \"state=%{x}<br>year=2017<br>month=Abril<br>number=%{y}\", \"legendgroup\": \"state=Alagoas\", \"marker\": {\"color\": \"#EF553B\"}, \"name\": \"state=Alagoas\", \"offsetgroup\": \"state=Alagoas\", \"orientation\": \"v\", \"showlegend\": false, \"textposition\": \"auto\", \"type\": \"bar\", \"x\": [\"Alagoas\"], \"xaxis\": \"x4\", \"y\": [7.0], \"yaxis\": \"y4\"}, {\"alignmentgroup\": \"True\", \"hoverlabel\": {\"namelength\": 0}, \"hovertemplate\": \"state=%{x}<br>year=2017<br>month=Maio<br>number=%{y}\", \"legendgroup\": \"state=Alagoas\", \"marker\": {\"color\": \"#EF553B\"}, \"name\": \"state=Alagoas\", \"offsetgroup\": \"state=Alagoas\", \"orientation\": \"v\", \"showlegend\": false, \"textposition\": \"auto\", \"type\": \"bar\", \"x\": [\"Alagoas\"], \"xaxis\": \"x5\", \"y\": [1.0], \"yaxis\": \"y5\"}, {\"alignmentgroup\": \"True\", \"hoverlabel\": {\"namelength\": 0}, \"hovertemplate\": \"state=%{x}<br>year=2017<br>month=Junho<br>number=%{y}\", \"legendgroup\": \"state=Alagoas\", \"marker\": {\"color\": \"#EF553B\"}, \"name\": \"state=Alagoas\", \"offsetgroup\": \"state=Alagoas\", \"orientation\": \"v\", \"showlegend\": false, \"textposition\": \"auto\", \"type\": \"bar\", \"x\": [\"Alagoas\"], \"xaxis\": \"x6\", \"y\": [2.0], \"yaxis\": \"y6\"}, {\"alignmentgroup\": \"True\", \"hoverlabel\": {\"namelength\": 0}, \"hovertemplate\": \"state=%{x}<br>year=2017<br>month=Julho<br>number=%{y}\", \"legendgroup\": \"state=Alagoas\", \"marker\": {\"color\": \"#EF553B\"}, \"name\": \"state=Alagoas\", \"offsetgroup\": \"state=Alagoas\", \"orientation\": \"v\", \"showlegend\": false, \"textposition\": \"auto\", \"type\": \"bar\", \"x\": [\"Alagoas\"], \"xaxis\": \"x7\", \"y\": [0.0], \"yaxis\": \"y7\"}, {\"alignmentgroup\": \"True\", \"hoverlabel\": {\"namelength\": 0}, \"hovertemplate\": \"state=%{x}<br>year=2017<br>month=Agosto<br>number=%{y}\", \"legendgroup\": \"state=Alagoas\", \"marker\": {\"color\": \"#EF553B\"}, \"name\": \"state=Alagoas\", \"offsetgroup\": \"state=Alagoas\", \"orientation\": \"v\", \"showlegend\": false, \"textposition\": \"auto\", \"type\": \"bar\", \"x\": [\"Alagoas\"], \"xaxis\": \"x8\", \"y\": [1.0], \"yaxis\": \"y8\"}, {\"alignmentgroup\": \"True\", \"hoverlabel\": {\"namelength\": 0}, \"hovertemplate\": \"state=%{x}<br>year=2017<br>month=Setembro<br>number=%{y}\", \"legendgroup\": \"state=Alagoas\", \"marker\": {\"color\": \"#EF553B\"}, \"name\": \"state=Alagoas\", \"offsetgroup\": \"state=Alagoas\", \"orientation\": \"v\", \"showlegend\": false, \"textposition\": \"auto\", \"type\": \"bar\", \"x\": [\"Alagoas\"], \"xaxis\": \"x9\", \"y\": [4.0], \"yaxis\": \"y9\"}, {\"alignmentgroup\": \"True\", \"hoverlabel\": {\"namelength\": 0}, \"hovertemplate\": \"state=%{x}<br>year=2017<br>month=Outubro<br>number=%{y}\", \"legendgroup\": \"state=Alagoas\", \"marker\": {\"color\": \"#EF553B\"}, \"name\": \"state=Alagoas\", \"offsetgroup\": \"state=Alagoas\", \"orientation\": \"v\", \"showlegend\": false, \"textposition\": \"auto\", \"type\": \"bar\", \"x\": [\"Alagoas\"], \"xaxis\": \"x10\", \"y\": [14.0], \"yaxis\": \"y10\"}, {\"alignmentgroup\": \"True\", \"hoverlabel\": {\"namelength\": 0}, \"hovertemplate\": \"state=%{x}<br>year=2017<br>month=Novembro<br>number=%{y}\", \"legendgroup\": \"state=Alagoas\", \"marker\": {\"color\": \"#EF553B\"}, \"name\": \"state=Alagoas\", \"offsetgroup\": \"state=Alagoas\", \"orientation\": \"v\", \"showlegend\": false, \"textposition\": \"auto\", \"type\": \"bar\", \"x\": [\"Alagoas\"], \"xaxis\": \"x11\", \"y\": [10.0], \"yaxis\": \"y11\"}, {\"alignmentgroup\": \"True\", \"hoverlabel\": {\"namelength\": 0}, \"hovertemplate\": \"state=%{x}<br>year=2016<br>month=Janeiro<br>number=%{y}\", \"legendgroup\": \"state=Amapa\", \"marker\": {\"color\": \"#00cc96\"}, \"name\": \"state=Amapa\", \"offsetgroup\": \"state=Amapa\", \"orientation\": \"v\", \"showlegend\": true, \"textposition\": \"auto\", \"type\": \"bar\", \"x\": [\"Amapa\"], \"xaxis\": \"x13\", \"y\": [19.0], \"yaxis\": \"y13\"}, {\"alignmentgroup\": \"True\", \"hoverlabel\": {\"namelength\": 0}, \"hovertemplate\": \"state=%{x}<br>year=2016<br>month=Fevereiro<br>number=%{y}\", \"legendgroup\": \"state=Amapa\", \"marker\": {\"color\": \"#00cc96\"}, \"name\": \"state=Amapa\", \"offsetgroup\": \"state=Amapa\", \"orientation\": \"v\", \"showlegend\": false, \"textposition\": \"auto\", \"type\": \"bar\", \"x\": [\"Amapa\"], \"xaxis\": \"x14\", \"y\": [1.0], \"yaxis\": \"y14\"}, {\"alignmentgroup\": \"True\", \"hoverlabel\": {\"namelength\": 0}, \"hovertemplate\": \"state=%{x}<br>year=2016<br>month=Mar\\u00e7o<br>number=%{y}\", \"legendgroup\": \"state=Amapa\", \"marker\": {\"color\": \"#00cc96\"}, \"name\": \"state=Amapa\", \"offsetgroup\": \"state=Amapa\", \"orientation\": \"v\", \"showlegend\": false, \"textposition\": \"auto\", \"type\": \"bar\", \"x\": [\"Amapa\"], \"xaxis\": \"x15\", \"y\": [5.0], \"yaxis\": \"y15\"}, {\"alignmentgroup\": \"True\", \"hoverlabel\": {\"namelength\": 0}, \"hovertemplate\": \"state=%{x}<br>year=2016<br>month=Abril<br>number=%{y}\", \"legendgroup\": \"state=Amapa\", \"marker\": {\"color\": \"#00cc96\"}, \"name\": \"state=Amapa\", \"offsetgroup\": \"state=Amapa\", \"orientation\": \"v\", \"showlegend\": false, \"textposition\": \"auto\", \"type\": \"bar\", \"x\": [\"Amapa\"], \"xaxis\": \"x16\", \"y\": [0.0], \"yaxis\": \"y16\"}, {\"alignmentgroup\": \"True\", \"hoverlabel\": {\"namelength\": 0}, \"hovertemplate\": \"state=%{x}<br>year=2016<br>month=Maio<br>number=%{y}\", \"legendgroup\": \"state=Amapa\", \"marker\": {\"color\": \"#00cc96\"}, \"name\": \"state=Amapa\", \"offsetgroup\": \"state=Amapa\", \"orientation\": \"v\", \"showlegend\": false, \"textposition\": \"auto\", \"type\": \"bar\", \"x\": [\"Amapa\"], \"xaxis\": \"x17\", \"y\": [1.0], \"yaxis\": \"y17\"}, {\"alignmentgroup\": \"True\", \"hoverlabel\": {\"namelength\": 0}, \"hovertemplate\": \"state=%{x}<br>year=2016<br>month=Junho<br>number=%{y}\", \"legendgroup\": \"state=Amapa\", \"marker\": {\"color\": \"#00cc96\"}, \"name\": \"state=Amapa\", \"offsetgroup\": \"state=Amapa\", \"orientation\": \"v\", \"showlegend\": false, \"textposition\": \"auto\", \"type\": \"bar\", \"x\": [\"Amapa\"], \"xaxis\": \"x18\", \"y\": [2.0], \"yaxis\": \"y18\"}, {\"alignmentgroup\": \"True\", \"hoverlabel\": {\"namelength\": 0}, \"hovertemplate\": \"state=%{x}<br>year=2016<br>month=Julho<br>number=%{y}\", \"legendgroup\": \"state=Amapa\", \"marker\": {\"color\": \"#00cc96\"}, \"name\": \"state=Amapa\", \"offsetgroup\": \"state=Amapa\", \"orientation\": \"v\", \"showlegend\": false, \"textposition\": \"auto\", \"type\": \"bar\", \"x\": [\"Amapa\"], \"xaxis\": \"x19\", \"y\": [1.0], \"yaxis\": \"y19\"}, {\"alignmentgroup\": \"True\", \"hoverlabel\": {\"namelength\": 0}, \"hovertemplate\": \"state=%{x}<br>year=2016<br>month=Agosto<br>number=%{y}\", \"legendgroup\": \"state=Amapa\", \"marker\": {\"color\": \"#00cc96\"}, \"name\": \"state=Amapa\", \"offsetgroup\": \"state=Amapa\", \"orientation\": \"v\", \"showlegend\": false, \"textposition\": \"auto\", \"type\": \"bar\", \"x\": [\"Amapa\"], \"xaxis\": \"x20\", \"y\": [37.0], \"yaxis\": \"y20\"}, {\"alignmentgroup\": \"True\", \"hoverlabel\": {\"namelength\": 0}, \"hovertemplate\": \"state=%{x}<br>year=2016<br>month=Setembro<br>number=%{y}\", \"legendgroup\": \"state=Amapa\", \"marker\": {\"color\": \"#00cc96\"}, \"name\": \"state=Amapa\", \"offsetgroup\": \"state=Amapa\", \"orientation\": \"v\", \"showlegend\": false, \"textposition\": \"auto\", \"type\": \"bar\", \"x\": [\"Amapa\"], \"xaxis\": \"x21\", \"y\": [142.0], \"yaxis\": \"y21\"}, {\"alignmentgroup\": \"True\", \"hoverlabel\": {\"namelength\": 0}, \"hovertemplate\": \"state=%{x}<br>year=2016<br>month=Outubro<br>number=%{y}\", \"legendgroup\": \"state=Amapa\", \"marker\": {\"color\": \"#00cc96\"}, \"name\": \"state=Amapa\", \"offsetgroup\": \"state=Amapa\", \"orientation\": \"v\", \"showlegend\": false, \"textposition\": \"auto\", \"type\": \"bar\", \"x\": [\"Amapa\"], \"xaxis\": \"x22\", \"y\": [793.0], \"yaxis\": \"y22\"}, {\"alignmentgroup\": \"True\", \"hoverlabel\": {\"namelength\": 0}, \"hovertemplate\": \"state=%{x}<br>year=2016<br>month=Novembro<br>number=%{y}\", \"legendgroup\": \"state=Amapa\", \"marker\": {\"color\": \"#00cc96\"}, \"name\": \"state=Amapa\", \"offsetgroup\": \"state=Amapa\", \"orientation\": \"v\", \"showlegend\": false, \"textposition\": \"auto\", \"type\": \"bar\", \"x\": [\"Amapa\"], \"xaxis\": \"x23\", \"y\": [1.161], \"yaxis\": \"y23\"}, {\"alignmentgroup\": \"True\", \"hoverlabel\": {\"namelength\": 0}, \"hovertemplate\": \"state=%{x}<br>year=2016<br>month=Dezembro<br>number=%{y}\", \"legendgroup\": \"state=Amapa\", \"marker\": {\"color\": \"#00cc96\"}, \"name\": \"state=Amapa\", \"offsetgroup\": \"state=Amapa\", \"orientation\": \"v\", \"showlegend\": false, \"textposition\": \"auto\", \"type\": \"bar\", \"x\": [\"Amapa\"], \"xaxis\": \"x24\", \"y\": [491.0], \"yaxis\": \"y24\"}, {\"alignmentgroup\": \"True\", \"hoverlabel\": {\"namelength\": 0}, \"hovertemplate\": \"state=%{x}<br>year=2017<br>month=Janeiro<br>number=%{y}\", \"legendgroup\": \"state=Amapa\", \"marker\": {\"color\": \"#00cc96\"}, \"name\": \"state=Amapa\", \"offsetgroup\": \"state=Amapa\", \"orientation\": \"v\", \"showlegend\": false, \"textposition\": \"auto\", \"type\": \"bar\", \"x\": [\"Amapa\"], \"xaxis\": \"x\", \"y\": [2.0], \"yaxis\": \"y\"}, {\"alignmentgroup\": \"True\", \"hoverlabel\": {\"namelength\": 0}, \"hovertemplate\": \"state=%{x}<br>year=2017<br>month=Fevereiro<br>number=%{y}\", \"legendgroup\": \"state=Amapa\", \"marker\": {\"color\": \"#00cc96\"}, \"name\": \"state=Amapa\", \"offsetgroup\": \"state=Amapa\", \"orientation\": \"v\", \"showlegend\": false, \"textposition\": \"auto\", \"type\": \"bar\", \"x\": [\"Amapa\"], \"xaxis\": \"x2\", \"y\": [0.0], \"yaxis\": \"y2\"}, {\"alignmentgroup\": \"True\", \"hoverlabel\": {\"namelength\": 0}, \"hovertemplate\": \"state=%{x}<br>year=2017<br>month=Mar\\u00e7o<br>number=%{y}\", \"legendgroup\": \"state=Amapa\", \"marker\": {\"color\": \"#00cc96\"}, \"name\": \"state=Amapa\", \"offsetgroup\": \"state=Amapa\", \"orientation\": \"v\", \"showlegend\": false, \"textposition\": \"auto\", \"type\": \"bar\", \"x\": [\"Amapa\"], \"xaxis\": \"x3\", \"y\": [0.0], \"yaxis\": \"y3\"}, {\"alignmentgroup\": \"True\", \"hoverlabel\": {\"namelength\": 0}, \"hovertemplate\": \"state=%{x}<br>year=2017<br>month=Abril<br>number=%{y}\", \"legendgroup\": \"state=Amapa\", \"marker\": {\"color\": \"#00cc96\"}, \"name\": \"state=Amapa\", \"offsetgroup\": \"state=Amapa\", \"orientation\": \"v\", \"showlegend\": false, \"textposition\": \"auto\", \"type\": \"bar\", \"x\": [\"Amapa\"], \"xaxis\": \"x4\", \"y\": [3.0], \"yaxis\": \"y4\"}, {\"alignmentgroup\": \"True\", \"hoverlabel\": {\"namelength\": 0}, \"hovertemplate\": \"state=%{x}<br>year=2017<br>month=Maio<br>number=%{y}\", \"legendgroup\": \"state=Amapa\", \"marker\": {\"color\": \"#00cc96\"}, \"name\": \"state=Amapa\", \"offsetgroup\": \"state=Amapa\", \"orientation\": \"v\", \"showlegend\": false, \"textposition\": \"auto\", \"type\": \"bar\", \"x\": [\"Amapa\"], \"xaxis\": \"x5\", \"y\": [1.0], \"yaxis\": \"y5\"}, {\"alignmentgroup\": \"True\", \"hoverlabel\": {\"namelength\": 0}, \"hovertemplate\": \"state=%{x}<br>year=2017<br>month=Junho<br>number=%{y}\", \"legendgroup\": \"state=Amapa\", \"marker\": {\"color\": \"#00cc96\"}, \"name\": \"state=Amapa\", \"offsetgroup\": \"state=Amapa\", \"orientation\": \"v\", \"showlegend\": false, \"textposition\": \"auto\", \"type\": \"bar\", \"x\": [\"Amapa\"], \"xaxis\": \"x6\", \"y\": [2.0], \"yaxis\": \"y6\"}, {\"alignmentgroup\": \"True\", \"hoverlabel\": {\"namelength\": 0}, \"hovertemplate\": \"state=%{x}<br>year=2017<br>month=Julho<br>number=%{y}\", \"legendgroup\": \"state=Amapa\", \"marker\": {\"color\": \"#00cc96\"}, \"name\": \"state=Amapa\", \"offsetgroup\": \"state=Amapa\", \"orientation\": \"v\", \"showlegend\": false, \"textposition\": \"auto\", \"type\": \"bar\", \"x\": [\"Amapa\"], \"xaxis\": \"x7\", \"y\": [3.0], \"yaxis\": \"y7\"}, {\"alignmentgroup\": \"True\", \"hoverlabel\": {\"namelength\": 0}, \"hovertemplate\": \"state=%{x}<br>year=2017<br>month=Agosto<br>number=%{y}\", \"legendgroup\": \"state=Amapa\", \"marker\": {\"color\": \"#00cc96\"}, \"name\": \"state=Amapa\", \"offsetgroup\": \"state=Amapa\", \"orientation\": \"v\", \"showlegend\": false, \"textposition\": \"auto\", \"type\": \"bar\", \"x\": [\"Amapa\"], \"xaxis\": \"x8\", \"y\": [33.0], \"yaxis\": \"y8\"}, {\"alignmentgroup\": \"True\", \"hoverlabel\": {\"namelength\": 0}, \"hovertemplate\": \"state=%{x}<br>year=2017<br>month=Setembro<br>number=%{y}\", \"legendgroup\": \"state=Amapa\", \"marker\": {\"color\": \"#00cc96\"}, \"name\": \"state=Amapa\", \"offsetgroup\": \"state=Amapa\", \"orientation\": \"v\", \"showlegend\": false, \"textposition\": \"auto\", \"type\": \"bar\", \"x\": [\"Amapa\"], \"xaxis\": \"x9\", \"y\": [95.0], \"yaxis\": \"y9\"}, {\"alignmentgroup\": \"True\", \"hoverlabel\": {\"namelength\": 0}, \"hovertemplate\": \"state=%{x}<br>year=2017<br>month=Outubro<br>number=%{y}\", \"legendgroup\": \"state=Amapa\", \"marker\": {\"color\": \"#00cc96\"}, \"name\": \"state=Amapa\", \"offsetgroup\": \"state=Amapa\", \"orientation\": \"v\", \"showlegend\": false, \"textposition\": \"auto\", \"type\": \"bar\", \"x\": [\"Amapa\"], \"xaxis\": \"x10\", \"y\": [468.0], \"yaxis\": \"y10\"}, {\"alignmentgroup\": \"True\", \"hoverlabel\": {\"namelength\": 0}, \"hovertemplate\": \"state=%{x}<br>year=2017<br>month=Novembro<br>number=%{y}\", \"legendgroup\": \"state=Amapa\", \"marker\": {\"color\": \"#00cc96\"}, \"name\": \"state=Amapa\", \"offsetgroup\": \"state=Amapa\", \"orientation\": \"v\", \"showlegend\": false, \"textposition\": \"auto\", \"type\": \"bar\", \"x\": [\"Amapa\"], \"xaxis\": \"x11\", \"y\": [858.0], \"yaxis\": \"y11\"}, {\"alignmentgroup\": \"True\", \"hoverlabel\": {\"namelength\": 0}, \"hovertemplate\": \"state=%{x}<br>year=2016<br>month=Janeiro<br>number=%{y}\", \"legendgroup\": \"state=Amazonas\", \"marker\": {\"color\": \"#ab63fa\"}, \"name\": \"state=Amazonas\", \"offsetgroup\": \"state=Amazonas\", \"orientation\": \"v\", \"showlegend\": true, \"textposition\": \"auto\", \"type\": \"bar\", \"x\": [\"Amazonas\"], \"xaxis\": \"x13\", \"y\": [770.0], \"yaxis\": \"y13\"}, {\"alignmentgroup\": \"True\", \"hoverlabel\": {\"namelength\": 0}, \"hovertemplate\": \"state=%{x}<br>year=2016<br>month=Fevereiro<br>number=%{y}\", \"legendgroup\": \"state=Amazonas\", \"marker\": {\"color\": \"#ab63fa\"}, \"name\": \"state=Amazonas\", \"offsetgroup\": \"state=Amazonas\", \"orientation\": \"v\", \"showlegend\": false, \"textposition\": \"auto\", \"type\": \"bar\", \"x\": [\"Amazonas\"], \"xaxis\": \"x14\", \"y\": [275.0], \"yaxis\": \"y14\"}, {\"alignmentgroup\": \"True\", \"hoverlabel\": {\"namelength\": 0}, \"hovertemplate\": \"state=%{x}<br>year=2016<br>month=Mar\\u00e7o<br>number=%{y}\", \"legendgroup\": \"state=Amazonas\", \"marker\": {\"color\": \"#ab63fa\"}, \"name\": \"state=Amazonas\", \"offsetgroup\": \"state=Amazonas\", \"orientation\": \"v\", \"showlegend\": false, \"textposition\": \"auto\", \"type\": \"bar\", \"x\": [\"Amazonas\"], \"xaxis\": \"x15\", \"y\": [140.0], \"yaxis\": \"y15\"}, {\"alignmentgroup\": \"True\", \"hoverlabel\": {\"namelength\": 0}, \"hovertemplate\": \"state=%{x}<br>year=2016<br>month=Abril<br>number=%{y}\", \"legendgroup\": \"state=Amazonas\", \"marker\": {\"color\": \"#ab63fa\"}, \"name\": \"state=Amazonas\", \"offsetgroup\": \"state=Amazonas\", \"orientation\": \"v\", \"showlegend\": false, \"textposition\": \"auto\", \"type\": \"bar\", \"x\": [\"Amazonas\"], \"xaxis\": \"x16\", \"y\": [22.0], \"yaxis\": \"y16\"}, {\"alignmentgroup\": \"True\", \"hoverlabel\": {\"namelength\": 0}, \"hovertemplate\": \"state=%{x}<br>year=2016<br>month=Maio<br>number=%{y}\", \"legendgroup\": \"state=Amazonas\", \"marker\": {\"color\": \"#ab63fa\"}, \"name\": \"state=Amazonas\", \"offsetgroup\": \"state=Amazonas\", \"orientation\": \"v\", \"showlegend\": false, \"textposition\": \"auto\", \"type\": \"bar\", \"x\": [\"Amazonas\"], \"xaxis\": \"x17\", \"y\": [30.0], \"yaxis\": \"y17\"}, {\"alignmentgroup\": \"True\", \"hoverlabel\": {\"namelength\": 0}, \"hovertemplate\": \"state=%{x}<br>year=2016<br>month=Junho<br>number=%{y}\", \"legendgroup\": \"state=Amazonas\", \"marker\": {\"color\": \"#ab63fa\"}, \"name\": \"state=Amazonas\", \"offsetgroup\": \"state=Amazonas\", \"orientation\": \"v\", \"showlegend\": false, \"textposition\": \"auto\", \"type\": \"bar\", \"x\": [\"Amazonas\"], \"xaxis\": \"x18\", \"y\": [90.0], \"yaxis\": \"y18\"}, {\"alignmentgroup\": \"True\", \"hoverlabel\": {\"namelength\": 0}, \"hovertemplate\": \"state=%{x}<br>year=2016<br>month=Julho<br>number=%{y}\", \"legendgroup\": \"state=Amazonas\", \"marker\": {\"color\": \"#ab63fa\"}, \"name\": \"state=Amazonas\", \"offsetgroup\": \"state=Amazonas\", \"orientation\": \"v\", \"showlegend\": false, \"textposition\": \"auto\", \"type\": \"bar\", \"x\": [\"Amazonas\"], \"xaxis\": \"x19\", \"y\": [1.137], \"yaxis\": \"y19\"}, {\"alignmentgroup\": \"True\", \"hoverlabel\": {\"namelength\": 0}, \"hovertemplate\": \"state=%{x}<br>year=2016<br>month=Agosto<br>number=%{y}\", \"legendgroup\": \"state=Amazonas\", \"marker\": {\"color\": \"#ab63fa\"}, \"name\": \"state=Amazonas\", \"offsetgroup\": \"state=Amazonas\", \"orientation\": \"v\", \"showlegend\": false, \"textposition\": \"auto\", \"type\": \"bar\", \"x\": [\"Amazonas\"], \"xaxis\": \"x20\", \"y\": [3.611], \"yaxis\": \"y20\"}, {\"alignmentgroup\": \"True\", \"hoverlabel\": {\"namelength\": 0}, \"hovertemplate\": \"state=%{x}<br>year=2016<br>month=Setembro<br>number=%{y}\", \"legendgroup\": \"state=Amazonas\", \"marker\": {\"color\": \"#ab63fa\"}, \"name\": \"state=Amazonas\", \"offsetgroup\": \"state=Amazonas\", \"orientation\": \"v\", \"showlegend\": false, \"textposition\": \"auto\", \"type\": \"bar\", \"x\": [\"Amazonas\"], \"xaxis\": \"x21\", \"y\": [3.1189999999999998], \"yaxis\": \"y21\"}, {\"alignmentgroup\": \"True\", \"hoverlabel\": {\"namelength\": 0}, \"hovertemplate\": \"state=%{x}<br>year=2016<br>month=Outubro<br>number=%{y}\", \"legendgroup\": \"state=Amazonas\", \"marker\": {\"color\": \"#ab63fa\"}, \"name\": \"state=Amazonas\", \"offsetgroup\": \"state=Amazonas\", \"orientation\": \"v\", \"showlegend\": false, \"textposition\": \"auto\", \"type\": \"bar\", \"x\": [\"Amazonas\"], \"xaxis\": \"x22\", \"y\": [2.105], \"yaxis\": \"y22\"}, {\"alignmentgroup\": \"True\", \"hoverlabel\": {\"namelength\": 0}, \"hovertemplate\": \"state=%{x}<br>year=2016<br>month=Novembro<br>number=%{y}\", \"legendgroup\": \"state=Amazonas\", \"marker\": {\"color\": \"#ab63fa\"}, \"name\": \"state=Amazonas\", \"offsetgroup\": \"state=Amazonas\", \"orientation\": \"v\", \"showlegend\": false, \"textposition\": \"auto\", \"type\": \"bar\", \"x\": [\"Amazonas\"], \"xaxis\": \"x23\", \"y\": [591.0], \"yaxis\": \"y23\"}, {\"alignmentgroup\": \"True\", \"hoverlabel\": {\"namelength\": 0}, \"hovertemplate\": \"state=%{x}<br>year=2016<br>month=Dezembro<br>number=%{y}\", \"legendgroup\": \"state=Amazonas\", \"marker\": {\"color\": \"#ab63fa\"}, \"name\": \"state=Amazonas\", \"offsetgroup\": \"state=Amazonas\", \"orientation\": \"v\", \"showlegend\": false, \"textposition\": \"auto\", \"type\": \"bar\", \"x\": [\"Amazonas\"], \"xaxis\": \"x24\", \"y\": [133.0], \"yaxis\": \"y24\"}, {\"alignmentgroup\": \"True\", \"hoverlabel\": {\"namelength\": 0}, \"hovertemplate\": \"state=%{x}<br>year=2017<br>month=Janeiro<br>number=%{y}\", \"legendgroup\": \"state=Amazonas\", \"marker\": {\"color\": \"#ab63fa\"}, \"name\": \"state=Amazonas\", \"offsetgroup\": \"state=Amazonas\", \"orientation\": \"v\", \"showlegend\": false, \"textposition\": \"auto\", \"type\": \"bar\", \"x\": [\"Amazonas\"], \"xaxis\": \"x\", \"y\": [65.0], \"yaxis\": \"y\"}, {\"alignmentgroup\": \"True\", \"hoverlabel\": {\"namelength\": 0}, \"hovertemplate\": \"state=%{x}<br>year=2017<br>month=Fevereiro<br>number=%{y}\", \"legendgroup\": \"state=Amazonas\", \"marker\": {\"color\": \"#ab63fa\"}, \"name\": \"state=Amazonas\", \"offsetgroup\": \"state=Amazonas\", \"orientation\": \"v\", \"showlegend\": false, \"textposition\": \"auto\", \"type\": \"bar\", \"x\": [\"Amazonas\"], \"xaxis\": \"x2\", \"y\": [52.0], \"yaxis\": \"y2\"}, {\"alignmentgroup\": \"True\", \"hoverlabel\": {\"namelength\": 0}, \"hovertemplate\": \"state=%{x}<br>year=2017<br>month=Mar\\u00e7o<br>number=%{y}\", \"legendgroup\": \"state=Amazonas\", \"marker\": {\"color\": \"#ab63fa\"}, \"name\": \"state=Amazonas\", \"offsetgroup\": \"state=Amazonas\", \"orientation\": \"v\", \"showlegend\": false, \"textposition\": \"auto\", \"type\": \"bar\", \"x\": [\"Amazonas\"], \"xaxis\": \"x3\", \"y\": [45.0], \"yaxis\": \"y3\"}, {\"alignmentgroup\": \"True\", \"hoverlabel\": {\"namelength\": 0}, \"hovertemplate\": \"state=%{x}<br>year=2017<br>month=Abril<br>number=%{y}\", \"legendgroup\": \"state=Amazonas\", \"marker\": {\"color\": \"#ab63fa\"}, \"name\": \"state=Amazonas\", \"offsetgroup\": \"state=Amazonas\", \"orientation\": \"v\", \"showlegend\": false, \"textposition\": \"auto\", \"type\": \"bar\", \"x\": [\"Amazonas\"], \"xaxis\": \"x4\", \"y\": [20.0], \"yaxis\": \"y4\"}, {\"alignmentgroup\": \"True\", \"hoverlabel\": {\"namelength\": 0}, \"hovertemplate\": \"state=%{x}<br>year=2017<br>month=Maio<br>number=%{y}\", \"legendgroup\": \"state=Amazonas\", \"marker\": {\"color\": \"#ab63fa\"}, \"name\": \"state=Amazonas\", \"offsetgroup\": \"state=Amazonas\", \"orientation\": \"v\", \"showlegend\": false, \"textposition\": \"auto\", \"type\": \"bar\", \"x\": [\"Amazonas\"], \"xaxis\": \"x5\", \"y\": [40.0], \"yaxis\": \"y5\"}, {\"alignmentgroup\": \"True\", \"hoverlabel\": {\"namelength\": 0}, \"hovertemplate\": \"state=%{x}<br>year=2017<br>month=Junho<br>number=%{y}\", \"legendgroup\": \"state=Amazonas\", \"marker\": {\"color\": \"#ab63fa\"}, \"name\": \"state=Amazonas\", \"offsetgroup\": \"state=Amazonas\", \"orientation\": \"v\", \"showlegend\": false, \"textposition\": \"auto\", \"type\": \"bar\", \"x\": [\"Amazonas\"], \"xaxis\": \"x6\", \"y\": [119.0], \"yaxis\": \"y6\"}, {\"alignmentgroup\": \"True\", \"hoverlabel\": {\"namelength\": 0}, \"hovertemplate\": \"state=%{x}<br>year=2017<br>month=Julho<br>number=%{y}\", \"legendgroup\": \"state=Amazonas\", \"marker\": {\"color\": \"#ab63fa\"}, \"name\": \"state=Amazonas\", \"offsetgroup\": \"state=Amazonas\", \"orientation\": \"v\", \"showlegend\": false, \"textposition\": \"auto\", \"type\": \"bar\", \"x\": [\"Amazonas\"], \"xaxis\": \"x7\", \"y\": [1.975], \"yaxis\": \"y7\"}, {\"alignmentgroup\": \"True\", \"hoverlabel\": {\"namelength\": 0}, \"hovertemplate\": \"state=%{x}<br>year=2017<br>month=Agosto<br>number=%{y}\", \"legendgroup\": \"state=Amazonas\", \"marker\": {\"color\": \"#ab63fa\"}, \"name\": \"state=Amazonas\", \"offsetgroup\": \"state=Amazonas\", \"orientation\": \"v\", \"showlegend\": false, \"textposition\": \"auto\", \"type\": \"bar\", \"x\": [\"Amazonas\"], \"xaxis\": \"x8\", \"y\": [6.316], \"yaxis\": \"y8\"}, {\"alignmentgroup\": \"True\", \"hoverlabel\": {\"namelength\": 0}, \"hovertemplate\": \"state=%{x}<br>year=2017<br>month=Setembro<br>number=%{y}\", \"legendgroup\": \"state=Amazonas\", \"marker\": {\"color\": \"#ab63fa\"}, \"name\": \"state=Amazonas\", \"offsetgroup\": \"state=Amazonas\", \"orientation\": \"v\", \"showlegend\": false, \"textposition\": \"auto\", \"type\": \"bar\", \"x\": [\"Amazonas\"], \"xaxis\": \"x9\", \"y\": [4.033], \"yaxis\": \"y9\"}, {\"alignmentgroup\": \"True\", \"hoverlabel\": {\"namelength\": 0}, \"hovertemplate\": \"state=%{x}<br>year=2017<br>month=Outubro<br>number=%{y}\", \"legendgroup\": \"state=Amazonas\", \"marker\": {\"color\": \"#ab63fa\"}, \"name\": \"state=Amazonas\", \"offsetgroup\": \"state=Amazonas\", \"orientation\": \"v\", \"showlegend\": false, \"textposition\": \"auto\", \"type\": \"bar\", \"x\": [\"Amazonas\"], \"xaxis\": \"x10\", \"y\": [1.581], \"yaxis\": \"y10\"}, {\"alignmentgroup\": \"True\", \"hoverlabel\": {\"namelength\": 0}, \"hovertemplate\": \"state=%{x}<br>year=2017<br>month=Novembro<br>number=%{y}\", \"legendgroup\": \"state=Amazonas\", \"marker\": {\"color\": \"#ab63fa\"}, \"name\": \"state=Amazonas\", \"offsetgroup\": \"state=Amazonas\", \"orientation\": \"v\", \"showlegend\": false, \"textposition\": \"auto\", \"type\": \"bar\", \"x\": [\"Amazonas\"], \"xaxis\": \"x11\", \"y\": [552.0], \"yaxis\": \"y11\"}, {\"alignmentgroup\": \"True\", \"hoverlabel\": {\"namelength\": 0}, \"hovertemplate\": \"state=%{x}<br>year=2016<br>month=Janeiro<br>number=%{y}\", \"legendgroup\": \"state=Bahia\", \"marker\": {\"color\": \"#FFA15A\"}, \"name\": \"state=Bahia\", \"offsetgroup\": \"state=Bahia\", \"orientation\": \"v\", \"showlegend\": true, \"textposition\": \"auto\", \"type\": \"bar\", \"x\": [\"Bahia\"], \"xaxis\": \"x13\", \"y\": [285.0], \"yaxis\": \"y13\"}, {\"alignmentgroup\": \"True\", \"hoverlabel\": {\"namelength\": 0}, \"hovertemplate\": \"state=%{x}<br>year=2016<br>month=Fevereiro<br>number=%{y}\", \"legendgroup\": \"state=Bahia\", \"marker\": {\"color\": \"#FFA15A\"}, \"name\": \"state=Bahia\", \"offsetgroup\": \"state=Bahia\", \"orientation\": \"v\", \"showlegend\": false, \"textposition\": \"auto\", \"type\": \"bar\", \"x\": [\"Bahia\"], \"xaxis\": \"x14\", \"y\": [418.0], \"yaxis\": \"y14\"}, {\"alignmentgroup\": \"True\", \"hoverlabel\": {\"namelength\": 0}, \"hovertemplate\": \"state=%{x}<br>year=2016<br>month=Mar\\u00e7o<br>number=%{y}\", \"legendgroup\": \"state=Bahia\", \"marker\": {\"color\": \"#FFA15A\"}, \"name\": \"state=Bahia\", \"offsetgroup\": \"state=Bahia\", \"orientation\": \"v\", \"showlegend\": false, \"textposition\": \"auto\", \"type\": \"bar\", \"x\": [\"Bahia\"], \"xaxis\": \"x15\", \"y\": [281.0], \"yaxis\": \"y15\"}, {\"alignmentgroup\": \"True\", \"hoverlabel\": {\"namelength\": 0}, \"hovertemplate\": \"state=%{x}<br>year=2016<br>month=Abril<br>number=%{y}\", \"legendgroup\": \"state=Bahia\", \"marker\": {\"color\": \"#FFA15A\"}, \"name\": \"state=Bahia\", \"offsetgroup\": \"state=Bahia\", \"orientation\": \"v\", \"showlegend\": false, \"textposition\": \"auto\", \"type\": \"bar\", \"x\": [\"Bahia\"], \"xaxis\": \"x16\", \"y\": [217.0], \"yaxis\": \"y16\"}, {\"alignmentgroup\": \"True\", \"hoverlabel\": {\"namelength\": 0}, \"hovertemplate\": \"state=%{x}<br>year=2016<br>month=Maio<br>number=%{y}\", \"legendgroup\": \"state=Bahia\", \"marker\": {\"color\": \"#FFA15A\"}, \"name\": \"state=Bahia\", \"offsetgroup\": \"state=Bahia\", \"orientation\": \"v\", \"showlegend\": false, \"textposition\": \"auto\", \"type\": \"bar\", \"x\": [\"Bahia\"], \"xaxis\": \"x17\", \"y\": [259.0], \"yaxis\": \"y17\"}, {\"alignmentgroup\": \"True\", \"hoverlabel\": {\"namelength\": 0}, \"hovertemplate\": \"state=%{x}<br>year=2016<br>month=Junho<br>number=%{y}\", \"legendgroup\": \"state=Bahia\", \"marker\": {\"color\": \"#FFA15A\"}, \"name\": \"state=Bahia\", \"offsetgroup\": \"state=Bahia\", \"orientation\": \"v\", \"showlegend\": false, \"textposition\": \"auto\", \"type\": \"bar\", \"x\": [\"Bahia\"], \"xaxis\": \"x18\", \"y\": [416.0], \"yaxis\": \"y18\"}, {\"alignmentgroup\": \"True\", \"hoverlabel\": {\"namelength\": 0}, \"hovertemplate\": \"state=%{x}<br>year=2016<br>month=Julho<br>number=%{y}\", \"legendgroup\": \"state=Bahia\", \"marker\": {\"color\": \"#FFA15A\"}, \"name\": \"state=Bahia\", \"offsetgroup\": \"state=Bahia\", \"orientation\": \"v\", \"showlegend\": false, \"textposition\": \"auto\", \"type\": \"bar\", \"x\": [\"Bahia\"], \"xaxis\": \"x19\", \"y\": [345.0], \"yaxis\": \"y19\"}, {\"alignmentgroup\": \"True\", \"hoverlabel\": {\"namelength\": 0}, \"hovertemplate\": \"state=%{x}<br>year=2016<br>month=Agosto<br>number=%{y}\", \"legendgroup\": \"state=Bahia\", \"marker\": {\"color\": \"#FFA15A\"}, \"name\": \"state=Bahia\", \"offsetgroup\": \"state=Bahia\", \"orientation\": \"v\", \"showlegend\": false, \"textposition\": \"auto\", \"type\": \"bar\", \"x\": [\"Bahia\"], \"xaxis\": \"x20\", \"y\": [724.0], \"yaxis\": \"y20\"}, {\"alignmentgroup\": \"True\", \"hoverlabel\": {\"namelength\": 0}, \"hovertemplate\": \"state=%{x}<br>year=2016<br>month=Setembro<br>number=%{y}\", \"legendgroup\": \"state=Bahia\", \"marker\": {\"color\": \"#FFA15A\"}, \"name\": \"state=Bahia\", \"offsetgroup\": \"state=Bahia\", \"orientation\": \"v\", \"showlegend\": false, \"textposition\": \"auto\", \"type\": \"bar\", \"x\": [\"Bahia\"], \"xaxis\": \"x21\", \"y\": [1.819], \"yaxis\": \"y21\"}, {\"alignmentgroup\": \"True\", \"hoverlabel\": {\"namelength\": 0}, \"hovertemplate\": \"state=%{x}<br>year=2016<br>month=Outubro<br>number=%{y}\", \"legendgroup\": \"state=Bahia\", \"marker\": {\"color\": \"#FFA15A\"}, \"name\": \"state=Bahia\", \"offsetgroup\": \"state=Bahia\", \"orientation\": \"v\", \"showlegend\": false, \"textposition\": \"auto\", \"type\": \"bar\", \"x\": [\"Bahia\"], \"xaxis\": \"x22\", \"y\": [1.415], \"yaxis\": \"y22\"}, {\"alignmentgroup\": \"True\", \"hoverlabel\": {\"namelength\": 0}, \"hovertemplate\": \"state=%{x}<br>year=2016<br>month=Novembro<br>number=%{y}\", \"legendgroup\": \"state=Bahia\", \"marker\": {\"color\": \"#FFA15A\"}, \"name\": \"state=Bahia\", \"offsetgroup\": \"state=Bahia\", \"orientation\": \"v\", \"showlegend\": false, \"textposition\": \"auto\", \"type\": \"bar\", \"x\": [\"Bahia\"], \"xaxis\": \"x23\", \"y\": [408.0], \"yaxis\": \"y23\"}, {\"alignmentgroup\": \"True\", \"hoverlabel\": {\"namelength\": 0}, \"hovertemplate\": \"state=%{x}<br>year=2016<br>month=Dezembro<br>number=%{y}\", \"legendgroup\": \"state=Bahia\", \"marker\": {\"color\": \"#FFA15A\"}, \"name\": \"state=Bahia\", \"offsetgroup\": \"state=Bahia\", \"orientation\": \"v\", \"showlegend\": false, \"textposition\": \"auto\", \"type\": \"bar\", \"x\": [\"Bahia\"], \"xaxis\": \"x24\", \"y\": [164.0], \"yaxis\": \"y24\"}, {\"alignmentgroup\": \"True\", \"hoverlabel\": {\"namelength\": 0}, \"hovertemplate\": \"state=%{x}<br>year=2017<br>month=Janeiro<br>number=%{y}\", \"legendgroup\": \"state=Bahia\", \"marker\": {\"color\": \"#FFA15A\"}, \"name\": \"state=Bahia\", \"offsetgroup\": \"state=Bahia\", \"orientation\": \"v\", \"showlegend\": false, \"textposition\": \"auto\", \"type\": \"bar\", \"x\": [\"Bahia\"], \"xaxis\": \"x\", \"y\": [154.0], \"yaxis\": \"y\"}, {\"alignmentgroup\": \"True\", \"hoverlabel\": {\"namelength\": 0}, \"hovertemplate\": \"state=%{x}<br>year=2017<br>month=Fevereiro<br>number=%{y}\", \"legendgroup\": \"state=Bahia\", \"marker\": {\"color\": \"#FFA15A\"}, \"name\": \"state=Bahia\", \"offsetgroup\": \"state=Bahia\", \"orientation\": \"v\", \"showlegend\": false, \"textposition\": \"auto\", \"type\": \"bar\", \"x\": [\"Bahia\"], \"xaxis\": \"x2\", \"y\": [100.0], \"yaxis\": \"y2\"}, {\"alignmentgroup\": \"True\", \"hoverlabel\": {\"namelength\": 0}, \"hovertemplate\": \"state=%{x}<br>year=2017<br>month=Mar\\u00e7o<br>number=%{y}\", \"legendgroup\": \"state=Bahia\", \"marker\": {\"color\": \"#FFA15A\"}, \"name\": \"state=Bahia\", \"offsetgroup\": \"state=Bahia\", \"orientation\": \"v\", \"showlegend\": false, \"textposition\": \"auto\", \"type\": \"bar\", \"x\": [\"Bahia\"], \"xaxis\": \"x3\", \"y\": [163.0], \"yaxis\": \"y3\"}, {\"alignmentgroup\": \"True\", \"hoverlabel\": {\"namelength\": 0}, \"hovertemplate\": \"state=%{x}<br>year=2017<br>month=Abril<br>number=%{y}\", \"legendgroup\": \"state=Bahia\", \"marker\": {\"color\": \"#FFA15A\"}, \"name\": \"state=Bahia\", \"offsetgroup\": \"state=Bahia\", \"orientation\": \"v\", \"showlegend\": false, \"textposition\": \"auto\", \"type\": \"bar\", \"x\": [\"Bahia\"], \"xaxis\": \"x4\", \"y\": [94.0], \"yaxis\": \"y4\"}, {\"alignmentgroup\": \"True\", \"hoverlabel\": {\"namelength\": 0}, \"hovertemplate\": \"state=%{x}<br>year=2017<br>month=Maio<br>number=%{y}\", \"legendgroup\": \"state=Bahia\", \"marker\": {\"color\": \"#FFA15A\"}, \"name\": \"state=Bahia\", \"offsetgroup\": \"state=Bahia\", \"orientation\": \"v\", \"showlegend\": false, \"textposition\": \"auto\", \"type\": \"bar\", \"x\": [\"Bahia\"], \"xaxis\": \"x5\", \"y\": [121.0], \"yaxis\": \"y5\"}, {\"alignmentgroup\": \"True\", \"hoverlabel\": {\"namelength\": 0}, \"hovertemplate\": \"state=%{x}<br>year=2017<br>month=Junho<br>number=%{y}\", \"legendgroup\": \"state=Bahia\", \"marker\": {\"color\": \"#FFA15A\"}, \"name\": \"state=Bahia\", \"offsetgroup\": \"state=Bahia\", \"orientation\": \"v\", \"showlegend\": false, \"textposition\": \"auto\", \"type\": \"bar\", \"x\": [\"Bahia\"], \"xaxis\": \"x6\", \"y\": [329.0], \"yaxis\": \"y6\"}, {\"alignmentgroup\": \"True\", \"hoverlabel\": {\"namelength\": 0}, \"hovertemplate\": \"state=%{x}<br>year=2017<br>month=Julho<br>number=%{y}\", \"legendgroup\": \"state=Bahia\", \"marker\": {\"color\": \"#FFA15A\"}, \"name\": \"state=Bahia\", \"offsetgroup\": \"state=Bahia\", \"orientation\": \"v\", \"showlegend\": false, \"textposition\": \"auto\", \"type\": \"bar\", \"x\": [\"Bahia\"], \"xaxis\": \"x7\", \"y\": [300.0], \"yaxis\": \"y7\"}, {\"alignmentgroup\": \"True\", \"hoverlabel\": {\"namelength\": 0}, \"hovertemplate\": \"state=%{x}<br>year=2017<br>month=Agosto<br>number=%{y}\", \"legendgroup\": \"state=Bahia\", \"marker\": {\"color\": \"#FFA15A\"}, \"name\": \"state=Bahia\", \"offsetgroup\": \"state=Bahia\", \"orientation\": \"v\", \"showlegend\": false, \"textposition\": \"auto\", \"type\": \"bar\", \"x\": [\"Bahia\"], \"xaxis\": \"x8\", \"y\": [1.018], \"yaxis\": \"y8\"}, {\"alignmentgroup\": \"True\", \"hoverlabel\": {\"namelength\": 0}, \"hovertemplate\": \"state=%{x}<br>year=2017<br>month=Setembro<br>number=%{y}\", \"legendgroup\": \"state=Bahia\", \"marker\": {\"color\": \"#FFA15A\"}, \"name\": \"state=Bahia\", \"offsetgroup\": \"state=Bahia\", \"orientation\": \"v\", \"showlegend\": false, \"textposition\": \"auto\", \"type\": \"bar\", \"x\": [\"Bahia\"], \"xaxis\": \"x9\", \"y\": [1.791], \"yaxis\": \"y9\"}, {\"alignmentgroup\": \"True\", \"hoverlabel\": {\"namelength\": 0}, \"hovertemplate\": \"state=%{x}<br>year=2017<br>month=Outubro<br>number=%{y}\", \"legendgroup\": \"state=Bahia\", \"marker\": {\"color\": \"#FFA15A\"}, \"name\": \"state=Bahia\", \"offsetgroup\": \"state=Bahia\", \"orientation\": \"v\", \"showlegend\": false, \"textposition\": \"auto\", \"type\": \"bar\", \"x\": [\"Bahia\"], \"xaxis\": \"x10\", \"y\": [4.005], \"yaxis\": \"y10\"}, {\"alignmentgroup\": \"True\", \"hoverlabel\": {\"namelength\": 0}, \"hovertemplate\": \"state=%{x}<br>year=2017<br>month=Novembro<br>number=%{y}\", \"legendgroup\": \"state=Bahia\", \"marker\": {\"color\": \"#FFA15A\"}, \"name\": \"state=Bahia\", \"offsetgroup\": \"state=Bahia\", \"orientation\": \"v\", \"showlegend\": false, \"textposition\": \"auto\", \"type\": \"bar\", \"x\": [\"Bahia\"], \"xaxis\": \"x11\", \"y\": [174.0], \"yaxis\": \"y11\"}, {\"alignmentgroup\": \"True\", \"hoverlabel\": {\"namelength\": 0}, \"hovertemplate\": \"state=%{x}<br>year=2016<br>month=Janeiro<br>number=%{y}\", \"legendgroup\": \"state=Ceara\", \"marker\": {\"color\": \"#19d3f3\"}, \"name\": \"state=Ceara\", \"offsetgroup\": \"state=Ceara\", \"orientation\": \"v\", \"showlegend\": true, \"textposition\": \"auto\", \"type\": \"bar\", \"x\": [\"Ceara\"], \"xaxis\": \"x13\", \"y\": [100.0], \"yaxis\": \"y13\"}, {\"alignmentgroup\": \"True\", \"hoverlabel\": {\"namelength\": 0}, \"hovertemplate\": \"state=%{x}<br>year=2016<br>month=Fevereiro<br>number=%{y}\", \"legendgroup\": \"state=Ceara\", \"marker\": {\"color\": \"#19d3f3\"}, \"name\": \"state=Ceara\", \"offsetgroup\": \"state=Ceara\", \"orientation\": \"v\", \"showlegend\": false, \"textposition\": \"auto\", \"type\": \"bar\", \"x\": [\"Ceara\"], \"xaxis\": \"x14\", \"y\": [13.0], \"yaxis\": \"y14\"}, {\"alignmentgroup\": \"True\", \"hoverlabel\": {\"namelength\": 0}, \"hovertemplate\": \"state=%{x}<br>year=2016<br>month=Mar\\u00e7o<br>number=%{y}\", \"legendgroup\": \"state=Ceara\", \"marker\": {\"color\": \"#19d3f3\"}, \"name\": \"state=Ceara\", \"offsetgroup\": \"state=Ceara\", \"orientation\": \"v\", \"showlegend\": false, \"textposition\": \"auto\", \"type\": \"bar\", \"x\": [\"Ceara\"], \"xaxis\": \"x15\", \"y\": [4.0], \"yaxis\": \"y15\"}, {\"alignmentgroup\": \"True\", \"hoverlabel\": {\"namelength\": 0}, \"hovertemplate\": \"state=%{x}<br>year=2016<br>month=Abril<br>number=%{y}\", \"legendgroup\": \"state=Ceara\", \"marker\": {\"color\": \"#19d3f3\"}, \"name\": \"state=Ceara\", \"offsetgroup\": \"state=Ceara\", \"orientation\": \"v\", \"showlegend\": false, \"textposition\": \"auto\", \"type\": \"bar\", \"x\": [\"Ceara\"], \"xaxis\": \"x16\", \"y\": [10.0], \"yaxis\": \"y16\"}, {\"alignmentgroup\": \"True\", \"hoverlabel\": {\"namelength\": 0}, \"hovertemplate\": \"state=%{x}<br>year=2016<br>month=Maio<br>number=%{y}\", \"legendgroup\": \"state=Ceara\", \"marker\": {\"color\": \"#19d3f3\"}, \"name\": \"state=Ceara\", \"offsetgroup\": \"state=Ceara\", \"orientation\": \"v\", \"showlegend\": false, \"textposition\": \"auto\", \"type\": \"bar\", \"x\": [\"Ceara\"], \"xaxis\": \"x17\", \"y\": [8.0], \"yaxis\": \"y17\"}, {\"alignmentgroup\": \"True\", \"hoverlabel\": {\"namelength\": 0}, \"hovertemplate\": \"state=%{x}<br>year=2016<br>month=Junho<br>number=%{y}\", \"legendgroup\": \"state=Ceara\", \"marker\": {\"color\": \"#19d3f3\"}, \"name\": \"state=Ceara\", \"offsetgroup\": \"state=Ceara\", \"orientation\": \"v\", \"showlegend\": false, \"textposition\": \"auto\", \"type\": \"bar\", \"x\": [\"Ceara\"], \"xaxis\": \"x18\", \"y\": [45.0], \"yaxis\": \"y18\"}, {\"alignmentgroup\": \"True\", \"hoverlabel\": {\"namelength\": 0}, \"hovertemplate\": \"state=%{x}<br>year=2016<br>month=Julho<br>number=%{y}\", \"legendgroup\": \"state=Ceara\", \"marker\": {\"color\": \"#19d3f3\"}, \"name\": \"state=Ceara\", \"offsetgroup\": \"state=Ceara\", \"orientation\": \"v\", \"showlegend\": false, \"textposition\": \"auto\", \"type\": \"bar\", \"x\": [\"Ceara\"], \"xaxis\": \"x19\", \"y\": [124.0], \"yaxis\": \"y19\"}, {\"alignmentgroup\": \"True\", \"hoverlabel\": {\"namelength\": 0}, \"hovertemplate\": \"state=%{x}<br>year=2016<br>month=Agosto<br>number=%{y}\", \"legendgroup\": \"state=Ceara\", \"marker\": {\"color\": \"#19d3f3\"}, \"name\": \"state=Ceara\", \"offsetgroup\": \"state=Ceara\", \"orientation\": \"v\", \"showlegend\": false, \"textposition\": \"auto\", \"type\": \"bar\", \"x\": [\"Ceara\"], \"xaxis\": \"x20\", \"y\": [293.0], \"yaxis\": \"y20\"}, {\"alignmentgroup\": \"True\", \"hoverlabel\": {\"namelength\": 0}, \"hovertemplate\": \"state=%{x}<br>year=2016<br>month=Setembro<br>number=%{y}\", \"legendgroup\": \"state=Ceara\", \"marker\": {\"color\": \"#19d3f3\"}, \"name\": \"state=Ceara\", \"offsetgroup\": \"state=Ceara\", \"orientation\": \"v\", \"showlegend\": false, \"textposition\": \"auto\", \"type\": \"bar\", \"x\": [\"Ceara\"], \"xaxis\": \"x21\", \"y\": [370.0], \"yaxis\": \"y21\"}, {\"alignmentgroup\": \"True\", \"hoverlabel\": {\"namelength\": 0}, \"hovertemplate\": \"state=%{x}<br>year=2016<br>month=Outubro<br>number=%{y}\", \"legendgroup\": \"state=Ceara\", \"marker\": {\"color\": \"#19d3f3\"}, \"name\": \"state=Ceara\", \"offsetgroup\": \"state=Ceara\", \"orientation\": \"v\", \"showlegend\": false, \"textposition\": \"auto\", \"type\": \"bar\", \"x\": [\"Ceara\"], \"xaxis\": \"x22\", \"y\": [1.31], \"yaxis\": \"y22\"}, {\"alignmentgroup\": \"True\", \"hoverlabel\": {\"namelength\": 0}, \"hovertemplate\": \"state=%{x}<br>year=2016<br>month=Novembro<br>number=%{y}\", \"legendgroup\": \"state=Ceara\", \"marker\": {\"color\": \"#19d3f3\"}, \"name\": \"state=Ceara\", \"offsetgroup\": \"state=Ceara\", \"orientation\": \"v\", \"showlegend\": false, \"textposition\": \"auto\", \"type\": \"bar\", \"x\": [\"Ceara\"], \"xaxis\": \"x23\", \"y\": [1.328], \"yaxis\": \"y23\"}, {\"alignmentgroup\": \"True\", \"hoverlabel\": {\"namelength\": 0}, \"hovertemplate\": \"state=%{x}<br>year=2016<br>month=Dezembro<br>number=%{y}\", \"legendgroup\": \"state=Ceara\", \"marker\": {\"color\": \"#19d3f3\"}, \"name\": \"state=Ceara\", \"offsetgroup\": \"state=Ceara\", \"orientation\": \"v\", \"showlegend\": false, \"textposition\": \"auto\", \"type\": \"bar\", \"x\": [\"Ceara\"], \"xaxis\": \"x24\", \"y\": [819.0], \"yaxis\": \"y24\"}, {\"alignmentgroup\": \"True\", \"hoverlabel\": {\"namelength\": 0}, \"hovertemplate\": \"state=%{x}<br>year=2017<br>month=Janeiro<br>number=%{y}\", \"legendgroup\": \"state=Ceara\", \"marker\": {\"color\": \"#19d3f3\"}, \"name\": \"state=Ceara\", \"offsetgroup\": \"state=Ceara\", \"orientation\": \"v\", \"showlegend\": false, \"textposition\": \"auto\", \"type\": \"bar\", \"x\": [\"Ceara\"], \"xaxis\": \"x\", \"y\": [91.0], \"yaxis\": \"y\"}, {\"alignmentgroup\": \"True\", \"hoverlabel\": {\"namelength\": 0}, \"hovertemplate\": \"state=%{x}<br>year=2017<br>month=Fevereiro<br>number=%{y}\", \"legendgroup\": \"state=Ceara\", \"marker\": {\"color\": \"#19d3f3\"}, \"name\": \"state=Ceara\", \"offsetgroup\": \"state=Ceara\", \"orientation\": \"v\", \"showlegend\": false, \"textposition\": \"auto\", \"type\": \"bar\", \"x\": [\"Ceara\"], \"xaxis\": \"x2\", \"y\": [9.0], \"yaxis\": \"y2\"}, {\"alignmentgroup\": \"True\", \"hoverlabel\": {\"namelength\": 0}, \"hovertemplate\": \"state=%{x}<br>year=2017<br>month=Mar\\u00e7o<br>number=%{y}\", \"legendgroup\": \"state=Ceara\", \"marker\": {\"color\": \"#19d3f3\"}, \"name\": \"state=Ceara\", \"offsetgroup\": \"state=Ceara\", \"orientation\": \"v\", \"showlegend\": false, \"textposition\": \"auto\", \"type\": \"bar\", \"x\": [\"Ceara\"], \"xaxis\": \"x3\", \"y\": [4.0], \"yaxis\": \"y3\"}, {\"alignmentgroup\": \"True\", \"hoverlabel\": {\"namelength\": 0}, \"hovertemplate\": \"state=%{x}<br>year=2017<br>month=Abril<br>number=%{y}\", \"legendgroup\": \"state=Ceara\", \"marker\": {\"color\": \"#19d3f3\"}, \"name\": \"state=Ceara\", \"offsetgroup\": \"state=Ceara\", \"orientation\": \"v\", \"showlegend\": false, \"textposition\": \"auto\", \"type\": \"bar\", \"x\": [\"Ceara\"], \"xaxis\": \"x4\", \"y\": [6.0], \"yaxis\": \"y4\"}, {\"alignmentgroup\": \"True\", \"hoverlabel\": {\"namelength\": 0}, \"hovertemplate\": \"state=%{x}<br>year=2017<br>month=Maio<br>number=%{y}\", \"legendgroup\": \"state=Ceara\", \"marker\": {\"color\": \"#19d3f3\"}, \"name\": \"state=Ceara\", \"offsetgroup\": \"state=Ceara\", \"orientation\": \"v\", \"showlegend\": false, \"textposition\": \"auto\", \"type\": \"bar\", \"x\": [\"Ceara\"], \"xaxis\": \"x5\", \"y\": [9.0], \"yaxis\": \"y5\"}, {\"alignmentgroup\": \"True\", \"hoverlabel\": {\"namelength\": 0}, \"hovertemplate\": \"state=%{x}<br>year=2017<br>month=Junho<br>number=%{y}\", \"legendgroup\": \"state=Ceara\", \"marker\": {\"color\": \"#19d3f3\"}, \"name\": \"state=Ceara\", \"offsetgroup\": \"state=Ceara\", \"orientation\": \"v\", \"showlegend\": false, \"textposition\": \"auto\", \"type\": \"bar\", \"x\": [\"Ceara\"], \"xaxis\": \"x6\", \"y\": [23.0], \"yaxis\": \"y6\"}, {\"alignmentgroup\": \"True\", \"hoverlabel\": {\"namelength\": 0}, \"hovertemplate\": \"state=%{x}<br>year=2017<br>month=Julho<br>number=%{y}\", \"legendgroup\": \"state=Ceara\", \"marker\": {\"color\": \"#19d3f3\"}, \"name\": \"state=Ceara\", \"offsetgroup\": \"state=Ceara\", \"orientation\": \"v\", \"showlegend\": false, \"textposition\": \"auto\", \"type\": \"bar\", \"x\": [\"Ceara\"], \"xaxis\": \"x7\", \"y\": [26.0], \"yaxis\": \"y7\"}, {\"alignmentgroup\": \"True\", \"hoverlabel\": {\"namelength\": 0}, \"hovertemplate\": \"state=%{x}<br>year=2017<br>month=Agosto<br>number=%{y}\", \"legendgroup\": \"state=Ceara\", \"marker\": {\"color\": \"#19d3f3\"}, \"name\": \"state=Ceara\", \"offsetgroup\": \"state=Ceara\", \"orientation\": \"v\", \"showlegend\": false, \"textposition\": \"auto\", \"type\": \"bar\", \"x\": [\"Ceara\"], \"xaxis\": \"x8\", \"y\": [121.0], \"yaxis\": \"y8\"}, {\"alignmentgroup\": \"True\", \"hoverlabel\": {\"namelength\": 0}, \"hovertemplate\": \"state=%{x}<br>year=2017<br>month=Setembro<br>number=%{y}\", \"legendgroup\": \"state=Ceara\", \"marker\": {\"color\": \"#19d3f3\"}, \"name\": \"state=Ceara\", \"offsetgroup\": \"state=Ceara\", \"orientation\": \"v\", \"showlegend\": false, \"textposition\": \"auto\", \"type\": \"bar\", \"x\": [\"Ceara\"], \"xaxis\": \"x9\", \"y\": [505.0], \"yaxis\": \"y9\"}, {\"alignmentgroup\": \"True\", \"hoverlabel\": {\"namelength\": 0}, \"hovertemplate\": \"state=%{x}<br>year=2017<br>month=Outubro<br>number=%{y}\", \"legendgroup\": \"state=Ceara\", \"marker\": {\"color\": \"#19d3f3\"}, \"name\": \"state=Ceara\", \"offsetgroup\": \"state=Ceara\", \"orientation\": \"v\", \"showlegend\": false, \"textposition\": \"auto\", \"type\": \"bar\", \"x\": [\"Ceara\"], \"xaxis\": \"x10\", \"y\": [949.0], \"yaxis\": \"y10\"}, {\"alignmentgroup\": \"True\", \"hoverlabel\": {\"namelength\": 0}, \"hovertemplate\": \"state=%{x}<br>year=2017<br>month=Novembro<br>number=%{y}\", \"legendgroup\": \"state=Ceara\", \"marker\": {\"color\": \"#19d3f3\"}, \"name\": \"state=Ceara\", \"offsetgroup\": \"state=Ceara\", \"orientation\": \"v\", \"showlegend\": false, \"textposition\": \"auto\", \"type\": \"bar\", \"x\": [\"Ceara\"], \"xaxis\": \"x11\", \"y\": [812.0], \"yaxis\": \"y11\"}, {\"alignmentgroup\": \"True\", \"hoverlabel\": {\"namelength\": 0}, \"hovertemplate\": \"state=%{x}<br>year=2016<br>month=Janeiro<br>number=%{y}\", \"legendgroup\": \"state=Distrito Federal\", \"marker\": {\"color\": \"#FF6692\"}, \"name\": \"state=Distrito Federal\", \"offsetgroup\": \"state=Distrito Federal\", \"orientation\": \"v\", \"showlegend\": true, \"textposition\": \"auto\", \"type\": \"bar\", \"x\": [\"Distrito Federal\"], \"xaxis\": \"x13\", \"y\": [1.0], \"yaxis\": \"y13\"}, {\"alignmentgroup\": \"True\", \"hoverlabel\": {\"namelength\": 0}, \"hovertemplate\": \"state=%{x}<br>year=2016<br>month=Fevereiro<br>number=%{y}\", \"legendgroup\": \"state=Distrito Federal\", \"marker\": {\"color\": \"#FF6692\"}, \"name\": \"state=Distrito Federal\", \"offsetgroup\": \"state=Distrito Federal\", \"orientation\": \"v\", \"showlegend\": false, \"textposition\": \"auto\", \"type\": \"bar\", \"x\": [\"Distrito Federal\"], \"xaxis\": \"x14\", \"y\": [2.0], \"yaxis\": \"y14\"}, {\"alignmentgroup\": \"True\", \"hoverlabel\": {\"namelength\": 0}, \"hovertemplate\": \"state=%{x}<br>year=2016<br>month=Mar\\u00e7o<br>number=%{y}\", \"legendgroup\": \"state=Distrito Federal\", \"marker\": {\"color\": \"#FF6692\"}, \"name\": \"state=Distrito Federal\", \"offsetgroup\": \"state=Distrito Federal\", \"orientation\": \"v\", \"showlegend\": false, \"textposition\": \"auto\", \"type\": \"bar\", \"x\": [\"Distrito Federal\"], \"xaxis\": \"x15\", \"y\": [1.0], \"yaxis\": \"y15\"}, {\"alignmentgroup\": \"True\", \"hoverlabel\": {\"namelength\": 0}, \"hovertemplate\": \"state=%{x}<br>year=2016<br>month=Abril<br>number=%{y}\", \"legendgroup\": \"state=Distrito Federal\", \"marker\": {\"color\": \"#FF6692\"}, \"name\": \"state=Distrito Federal\", \"offsetgroup\": \"state=Distrito Federal\", \"orientation\": \"v\", \"showlegend\": false, \"textposition\": \"auto\", \"type\": \"bar\", \"x\": [\"Distrito Federal\"], \"xaxis\": \"x16\", \"y\": [5.0], \"yaxis\": \"y16\"}, {\"alignmentgroup\": \"True\", \"hoverlabel\": {\"namelength\": 0}, \"hovertemplate\": \"state=%{x}<br>year=2016<br>month=Maio<br>number=%{y}\", \"legendgroup\": \"state=Distrito Federal\", \"marker\": {\"color\": \"#FF6692\"}, \"name\": \"state=Distrito Federal\", \"offsetgroup\": \"state=Distrito Federal\", \"orientation\": \"v\", \"showlegend\": false, \"textposition\": \"auto\", \"type\": \"bar\", \"x\": [\"Distrito Federal\"], \"xaxis\": \"x17\", \"y\": [15.0], \"yaxis\": \"y17\"}, {\"alignmentgroup\": \"True\", \"hoverlabel\": {\"namelength\": 0}, \"hovertemplate\": \"state=%{x}<br>year=2016<br>month=Junho<br>number=%{y}\", \"legendgroup\": \"state=Distrito Federal\", \"marker\": {\"color\": \"#FF6692\"}, \"name\": \"state=Distrito Federal\", \"offsetgroup\": \"state=Distrito Federal\", \"orientation\": \"v\", \"showlegend\": false, \"textposition\": \"auto\", \"type\": \"bar\", \"x\": [\"Distrito Federal\"], \"xaxis\": \"x18\", \"y\": [42.0], \"yaxis\": \"y18\"}, {\"alignmentgroup\": \"True\", \"hoverlabel\": {\"namelength\": 0}, \"hovertemplate\": \"state=%{x}<br>year=2016<br>month=Julho<br>number=%{y}\", \"legendgroup\": \"state=Distrito Federal\", \"marker\": {\"color\": \"#FF6692\"}, \"name\": \"state=Distrito Federal\", \"offsetgroup\": \"state=Distrito Federal\", \"orientation\": \"v\", \"showlegend\": false, \"textposition\": \"auto\", \"type\": \"bar\", \"x\": [\"Distrito Federal\"], \"xaxis\": \"x19\", \"y\": [79.0], \"yaxis\": \"y19\"}, {\"alignmentgroup\": \"True\", \"hoverlabel\": {\"namelength\": 0}, \"hovertemplate\": \"state=%{x}<br>year=2016<br>month=Agosto<br>number=%{y}\", \"legendgroup\": \"state=Distrito Federal\", \"marker\": {\"color\": \"#FF6692\"}, \"name\": \"state=Distrito Federal\", \"offsetgroup\": \"state=Distrito Federal\", \"orientation\": \"v\", \"showlegend\": false, \"textposition\": \"auto\", \"type\": \"bar\", \"x\": [\"Distrito Federal\"], \"xaxis\": \"x20\", \"y\": [29.0], \"yaxis\": \"y20\"}, {\"alignmentgroup\": \"True\", \"hoverlabel\": {\"namelength\": 0}, \"hovertemplate\": \"state=%{x}<br>year=2016<br>month=Setembro<br>number=%{y}\", \"legendgroup\": \"state=Distrito Federal\", \"marker\": {\"color\": \"#FF6692\"}, \"name\": \"state=Distrito Federal\", \"offsetgroup\": \"state=Distrito Federal\", \"orientation\": \"v\", \"showlegend\": false, \"textposition\": \"auto\", \"type\": \"bar\", \"x\": [\"Distrito Federal\"], \"xaxis\": \"x21\", \"y\": [58.0], \"yaxis\": \"y21\"}, {\"alignmentgroup\": \"True\", \"hoverlabel\": {\"namelength\": 0}, \"hovertemplate\": \"state=%{x}<br>year=2016<br>month=Outubro<br>number=%{y}\", \"legendgroup\": \"state=Distrito Federal\", \"marker\": {\"color\": \"#FF6692\"}, \"name\": \"state=Distrito Federal\", \"offsetgroup\": \"state=Distrito Federal\", \"orientation\": \"v\", \"showlegend\": false, \"textposition\": \"auto\", \"type\": \"bar\", \"x\": [\"Distrito Federal\"], \"xaxis\": \"x22\", \"y\": [9.0], \"yaxis\": \"y22\"}, {\"alignmentgroup\": \"True\", \"hoverlabel\": {\"namelength\": 0}, \"hovertemplate\": \"state=%{x}<br>year=2016<br>month=Novembro<br>number=%{y}\", \"legendgroup\": \"state=Distrito Federal\", \"marker\": {\"color\": \"#FF6692\"}, \"name\": \"state=Distrito Federal\", \"offsetgroup\": \"state=Distrito Federal\", \"orientation\": \"v\", \"showlegend\": false, \"textposition\": \"auto\", \"type\": \"bar\", \"x\": [\"Distrito Federal\"], \"xaxis\": \"x23\", \"y\": [1.0], \"yaxis\": \"y23\"}, {\"alignmentgroup\": \"True\", \"hoverlabel\": {\"namelength\": 0}, \"hovertemplate\": \"state=%{x}<br>year=2016<br>month=Dezembro<br>number=%{y}\", \"legendgroup\": \"state=Distrito Federal\", \"marker\": {\"color\": \"#FF6692\"}, \"name\": \"state=Distrito Federal\", \"offsetgroup\": \"state=Distrito Federal\", \"orientation\": \"v\", \"showlegend\": false, \"textposition\": \"auto\", \"type\": \"bar\", \"x\": [\"Distrito Federal\"], \"xaxis\": \"x24\", \"y\": [0.0], \"yaxis\": \"y24\"}, {\"alignmentgroup\": \"True\", \"hoverlabel\": {\"namelength\": 0}, \"hovertemplate\": \"state=%{x}<br>year=2017<br>month=Janeiro<br>number=%{y}\", \"legendgroup\": \"state=Distrito Federal\", \"marker\": {\"color\": \"#FF6692\"}, \"name\": \"state=Distrito Federal\", \"offsetgroup\": \"state=Distrito Federal\", \"orientation\": \"v\", \"showlegend\": false, \"textposition\": \"auto\", \"type\": \"bar\", \"x\": [\"Distrito Federal\"], \"xaxis\": \"x\", \"y\": [1.0], \"yaxis\": \"y\"}, {\"alignmentgroup\": \"True\", \"hoverlabel\": {\"namelength\": 0}, \"hovertemplate\": \"state=%{x}<br>year=2017<br>month=Fevereiro<br>number=%{y}\", \"legendgroup\": \"state=Distrito Federal\", \"marker\": {\"color\": \"#FF6692\"}, \"name\": \"state=Distrito Federal\", \"offsetgroup\": \"state=Distrito Federal\", \"orientation\": \"v\", \"showlegend\": false, \"textposition\": \"auto\", \"type\": \"bar\", \"x\": [\"Distrito Federal\"], \"xaxis\": \"x2\", \"y\": [0.0], \"yaxis\": \"y2\"}, {\"alignmentgroup\": \"True\", \"hoverlabel\": {\"namelength\": 0}, \"hovertemplate\": \"state=%{x}<br>year=2017<br>month=Mar\\u00e7o<br>number=%{y}\", \"legendgroup\": \"state=Distrito Federal\", \"marker\": {\"color\": \"#FF6692\"}, \"name\": \"state=Distrito Federal\", \"offsetgroup\": \"state=Distrito Federal\", \"orientation\": \"v\", \"showlegend\": false, \"textposition\": \"auto\", \"type\": \"bar\", \"x\": [\"Distrito Federal\"], \"xaxis\": \"x3\", \"y\": [0.0], \"yaxis\": \"y3\"}, {\"alignmentgroup\": \"True\", \"hoverlabel\": {\"namelength\": 0}, \"hovertemplate\": \"state=%{x}<br>year=2017<br>month=Abril<br>number=%{y}\", \"legendgroup\": \"state=Distrito Federal\", \"marker\": {\"color\": \"#FF6692\"}, \"name\": \"state=Distrito Federal\", \"offsetgroup\": \"state=Distrito Federal\", \"orientation\": \"v\", \"showlegend\": false, \"textposition\": \"auto\", \"type\": \"bar\", \"x\": [\"Distrito Federal\"], \"xaxis\": \"x4\", \"y\": [1.0], \"yaxis\": \"y4\"}, {\"alignmentgroup\": \"True\", \"hoverlabel\": {\"namelength\": 0}, \"hovertemplate\": \"state=%{x}<br>year=2017<br>month=Maio<br>number=%{y}\", \"legendgroup\": \"state=Distrito Federal\", \"marker\": {\"color\": \"#FF6692\"}, \"name\": \"state=Distrito Federal\", \"offsetgroup\": \"state=Distrito Federal\", \"orientation\": \"v\", \"showlegend\": false, \"textposition\": \"auto\", \"type\": \"bar\", \"x\": [\"Distrito Federal\"], \"xaxis\": \"x5\", \"y\": [6.0], \"yaxis\": \"y5\"}, {\"alignmentgroup\": \"True\", \"hoverlabel\": {\"namelength\": 0}, \"hovertemplate\": \"state=%{x}<br>year=2017<br>month=Junho<br>number=%{y}\", \"legendgroup\": \"state=Distrito Federal\", \"marker\": {\"color\": \"#FF6692\"}, \"name\": \"state=Distrito Federal\", \"offsetgroup\": \"state=Distrito Federal\", \"orientation\": \"v\", \"showlegend\": false, \"textposition\": \"auto\", \"type\": \"bar\", \"x\": [\"Distrito Federal\"], \"xaxis\": \"x6\", \"y\": [23.0], \"yaxis\": \"y6\"}, {\"alignmentgroup\": \"True\", \"hoverlabel\": {\"namelength\": 0}, \"hovertemplate\": \"state=%{x}<br>year=2017<br>month=Julho<br>number=%{y}\", \"legendgroup\": \"state=Distrito Federal\", \"marker\": {\"color\": \"#FF6692\"}, \"name\": \"state=Distrito Federal\", \"offsetgroup\": \"state=Distrito Federal\", \"orientation\": \"v\", \"showlegend\": false, \"textposition\": \"auto\", \"type\": \"bar\", \"x\": [\"Distrito Federal\"], \"xaxis\": \"x7\", \"y\": [44.0], \"yaxis\": \"y7\"}, {\"alignmentgroup\": \"True\", \"hoverlabel\": {\"namelength\": 0}, \"hovertemplate\": \"state=%{x}<br>year=2017<br>month=Agosto<br>number=%{y}\", \"legendgroup\": \"state=Distrito Federal\", \"marker\": {\"color\": \"#FF6692\"}, \"name\": \"state=Distrito Federal\", \"offsetgroup\": \"state=Distrito Federal\", \"orientation\": \"v\", \"showlegend\": false, \"textposition\": \"auto\", \"type\": \"bar\", \"x\": [\"Distrito Federal\"], \"xaxis\": \"x8\", \"y\": [147.0], \"yaxis\": \"y8\"}, {\"alignmentgroup\": \"True\", \"hoverlabel\": {\"namelength\": 0}, \"hovertemplate\": \"state=%{x}<br>year=2017<br>month=Setembro<br>number=%{y}\", \"legendgroup\": \"state=Distrito Federal\", \"marker\": {\"color\": \"#FF6692\"}, \"name\": \"state=Distrito Federal\", \"offsetgroup\": \"state=Distrito Federal\", \"orientation\": \"v\", \"showlegend\": false, \"textposition\": \"auto\", \"type\": \"bar\", \"x\": [\"Distrito Federal\"], \"xaxis\": \"x9\", \"y\": [122.0], \"yaxis\": \"y9\"}, {\"alignmentgroup\": \"True\", \"hoverlabel\": {\"namelength\": 0}, \"hovertemplate\": \"state=%{x}<br>year=2017<br>month=Outubro<br>number=%{y}\", \"legendgroup\": \"state=Distrito Federal\", \"marker\": {\"color\": \"#FF6692\"}, \"name\": \"state=Distrito Federal\", \"offsetgroup\": \"state=Distrito Federal\", \"orientation\": \"v\", \"showlegend\": false, \"textposition\": \"auto\", \"type\": \"bar\", \"x\": [\"Distrito Federal\"], \"xaxis\": \"x10\", \"y\": [66.0], \"yaxis\": \"y10\"}, {\"alignmentgroup\": \"True\", \"hoverlabel\": {\"namelength\": 0}, \"hovertemplate\": \"state=%{x}<br>year=2017<br>month=Novembro<br>number=%{y}\", \"legendgroup\": \"state=Distrito Federal\", \"marker\": {\"color\": \"#FF6692\"}, \"name\": \"state=Distrito Federal\", \"offsetgroup\": \"state=Distrito Federal\", \"orientation\": \"v\", \"showlegend\": false, \"textposition\": \"auto\", \"type\": \"bar\", \"x\": [\"Distrito Federal\"], \"xaxis\": \"x11\", \"y\": [0.0], \"yaxis\": \"y11\"}, {\"alignmentgroup\": \"True\", \"hoverlabel\": {\"namelength\": 0}, \"hovertemplate\": \"state=%{x}<br>year=2016<br>month=Janeiro<br>number=%{y}\", \"legendgroup\": \"state=Espirito Santo\", \"marker\": {\"color\": \"#B6E880\"}, \"name\": \"state=Espirito Santo\", \"offsetgroup\": \"state=Espirito Santo\", \"orientation\": \"v\", \"showlegend\": true, \"textposition\": \"auto\", \"type\": \"bar\", \"x\": [\"Espirito Santo\"], \"xaxis\": \"x13\", \"y\": [43.0], \"yaxis\": \"y13\"}, {\"alignmentgroup\": \"True\", \"hoverlabel\": {\"namelength\": 0}, \"hovertemplate\": \"state=%{x}<br>year=2016<br>month=Fevereiro<br>number=%{y}\", \"legendgroup\": \"state=Espirito Santo\", \"marker\": {\"color\": \"#B6E880\"}, \"name\": \"state=Espirito Santo\", \"offsetgroup\": \"state=Espirito Santo\", \"orientation\": \"v\", \"showlegend\": false, \"textposition\": \"auto\", \"type\": \"bar\", \"x\": [\"Espirito Santo\"], \"xaxis\": \"x14\", \"y\": [24.0], \"yaxis\": \"y14\"}, {\"alignmentgroup\": \"True\", \"hoverlabel\": {\"namelength\": 0}, \"hovertemplate\": \"state=%{x}<br>year=2016<br>month=Mar\\u00e7o<br>number=%{y}\", \"legendgroup\": \"state=Espirito Santo\", \"marker\": {\"color\": \"#B6E880\"}, \"name\": \"state=Espirito Santo\", \"offsetgroup\": \"state=Espirito Santo\", \"orientation\": \"v\", \"showlegend\": false, \"textposition\": \"auto\", \"type\": \"bar\", \"x\": [\"Espirito Santo\"], \"xaxis\": \"x15\", \"y\": [107.0], \"yaxis\": \"y15\"}, {\"alignmentgroup\": \"True\", \"hoverlabel\": {\"namelength\": 0}, \"hovertemplate\": \"state=%{x}<br>year=2016<br>month=Abril<br>number=%{y}\", \"legendgroup\": \"state=Espirito Santo\", \"marker\": {\"color\": \"#B6E880\"}, \"name\": \"state=Espirito Santo\", \"offsetgroup\": \"state=Espirito Santo\", \"orientation\": \"v\", \"showlegend\": false, \"textposition\": \"auto\", \"type\": \"bar\", \"x\": [\"Espirito Santo\"], \"xaxis\": \"x16\", \"y\": [57.0], \"yaxis\": \"y16\"}, {\"alignmentgroup\": \"True\", \"hoverlabel\": {\"namelength\": 0}, \"hovertemplate\": \"state=%{x}<br>year=2016<br>month=Maio<br>number=%{y}\", \"legendgroup\": \"state=Espirito Santo\", \"marker\": {\"color\": \"#B6E880\"}, \"name\": \"state=Espirito Santo\", \"offsetgroup\": \"state=Espirito Santo\", \"orientation\": \"v\", \"showlegend\": false, \"textposition\": \"auto\", \"type\": \"bar\", \"x\": [\"Espirito Santo\"], \"xaxis\": \"x17\", \"y\": [48.0], \"yaxis\": \"y17\"}, {\"alignmentgroup\": \"True\", \"hoverlabel\": {\"namelength\": 0}, \"hovertemplate\": \"state=%{x}<br>year=2016<br>month=Junho<br>number=%{y}\", \"legendgroup\": \"state=Espirito Santo\", \"marker\": {\"color\": \"#B6E880\"}, \"name\": \"state=Espirito Santo\", \"offsetgroup\": \"state=Espirito Santo\", \"orientation\": \"v\", \"showlegend\": false, \"textposition\": \"auto\", \"type\": \"bar\", \"x\": [\"Espirito Santo\"], \"xaxis\": \"x18\", \"y\": [49.0], \"yaxis\": \"y18\"}, {\"alignmentgroup\": \"True\", \"hoverlabel\": {\"namelength\": 0}, \"hovertemplate\": \"state=%{x}<br>year=2016<br>month=Julho<br>number=%{y}\", \"legendgroup\": \"state=Espirito Santo\", \"marker\": {\"color\": \"#B6E880\"}, \"name\": \"state=Espirito Santo\", \"offsetgroup\": \"state=Espirito Santo\", \"orientation\": \"v\", \"showlegend\": false, \"textposition\": \"auto\", \"type\": \"bar\", \"x\": [\"Espirito Santo\"], \"xaxis\": \"x19\", \"y\": [42.0], \"yaxis\": \"y19\"}, {\"alignmentgroup\": \"True\", \"hoverlabel\": {\"namelength\": 0}, \"hovertemplate\": \"state=%{x}<br>year=2016<br>month=Agosto<br>number=%{y}\", \"legendgroup\": \"state=Espirito Santo\", \"marker\": {\"color\": \"#B6E880\"}, \"name\": \"state=Espirito Santo\", \"offsetgroup\": \"state=Espirito Santo\", \"orientation\": \"v\", \"showlegend\": false, \"textposition\": \"auto\", \"type\": \"bar\", \"x\": [\"Espirito Santo\"], \"xaxis\": \"x20\", \"y\": [78.0], \"yaxis\": \"y20\"}, {\"alignmentgroup\": \"True\", \"hoverlabel\": {\"namelength\": 0}, \"hovertemplate\": \"state=%{x}<br>year=2016<br>month=Setembro<br>number=%{y}\", \"legendgroup\": \"state=Espirito Santo\", \"marker\": {\"color\": \"#B6E880\"}, \"name\": \"state=Espirito Santo\", \"offsetgroup\": \"state=Espirito Santo\", \"orientation\": \"v\", \"showlegend\": false, \"textposition\": \"auto\", \"type\": \"bar\", \"x\": [\"Espirito Santo\"], \"xaxis\": \"x21\", \"y\": [128.0], \"yaxis\": \"y21\"}, {\"alignmentgroup\": \"True\", \"hoverlabel\": {\"namelength\": 0}, \"hovertemplate\": \"state=%{x}<br>year=2016<br>month=Outubro<br>number=%{y}\", \"legendgroup\": \"state=Espirito Santo\", \"marker\": {\"color\": \"#B6E880\"}, \"name\": \"state=Espirito Santo\", \"offsetgroup\": \"state=Espirito Santo\", \"orientation\": \"v\", \"showlegend\": false, \"textposition\": \"auto\", \"type\": \"bar\", \"x\": [\"Espirito Santo\"], \"xaxis\": \"x22\", \"y\": [58.0], \"yaxis\": \"y22\"}, {\"alignmentgroup\": \"True\", \"hoverlabel\": {\"namelength\": 0}, \"hovertemplate\": \"state=%{x}<br>year=2016<br>month=Novembro<br>number=%{y}\", \"legendgroup\": \"state=Espirito Santo\", \"marker\": {\"color\": \"#B6E880\"}, \"name\": \"state=Espirito Santo\", \"offsetgroup\": \"state=Espirito Santo\", \"orientation\": \"v\", \"showlegend\": false, \"textposition\": \"auto\", \"type\": \"bar\", \"x\": [\"Espirito Santo\"], \"xaxis\": \"x23\", \"y\": [8.0], \"yaxis\": \"y23\"}, {\"alignmentgroup\": \"True\", \"hoverlabel\": {\"namelength\": 0}, \"hovertemplate\": \"state=%{x}<br>year=2016<br>month=Dezembro<br>number=%{y}\", \"legendgroup\": \"state=Espirito Santo\", \"marker\": {\"color\": \"#B6E880\"}, \"name\": \"state=Espirito Santo\", \"offsetgroup\": \"state=Espirito Santo\", \"orientation\": \"v\", \"showlegend\": false, \"textposition\": \"auto\", \"type\": \"bar\", \"x\": [\"Espirito Santo\"], \"xaxis\": \"x24\", \"y\": [12.0], \"yaxis\": \"y24\"}, {\"alignmentgroup\": \"True\", \"hoverlabel\": {\"namelength\": 0}, \"hovertemplate\": \"state=%{x}<br>year=2017<br>month=Janeiro<br>number=%{y}\", \"legendgroup\": \"state=Espirito Santo\", \"marker\": {\"color\": \"#B6E880\"}, \"name\": \"state=Espirito Santo\", \"offsetgroup\": \"state=Espirito Santo\", \"orientation\": \"v\", \"showlegend\": false, \"textposition\": \"auto\", \"type\": \"bar\", \"x\": [\"Espirito Santo\"], \"xaxis\": \"x\", \"y\": [13.0], \"yaxis\": \"y\"}, {\"alignmentgroup\": \"True\", \"hoverlabel\": {\"namelength\": 0}, \"hovertemplate\": \"state=%{x}<br>year=2017<br>month=Fevereiro<br>number=%{y}\", \"legendgroup\": \"state=Espirito Santo\", \"marker\": {\"color\": \"#B6E880\"}, \"name\": \"state=Espirito Santo\", \"offsetgroup\": \"state=Espirito Santo\", \"orientation\": \"v\", \"showlegend\": false, \"textposition\": \"auto\", \"type\": \"bar\", \"x\": [\"Espirito Santo\"], \"xaxis\": \"x2\", \"y\": [8.0], \"yaxis\": \"y2\"}, {\"alignmentgroup\": \"True\", \"hoverlabel\": {\"namelength\": 0}, \"hovertemplate\": \"state=%{x}<br>year=2017<br>month=Mar\\u00e7o<br>number=%{y}\", \"legendgroup\": \"state=Espirito Santo\", \"marker\": {\"color\": \"#B6E880\"}, \"name\": \"state=Espirito Santo\", \"offsetgroup\": \"state=Espirito Santo\", \"orientation\": \"v\", \"showlegend\": false, \"textposition\": \"auto\", \"type\": \"bar\", \"x\": [\"Espirito Santo\"], \"xaxis\": \"x3\", \"y\": [9.0], \"yaxis\": \"y3\"}, {\"alignmentgroup\": \"True\", \"hoverlabel\": {\"namelength\": 0}, \"hovertemplate\": \"state=%{x}<br>year=2017<br>month=Abril<br>number=%{y}\", \"legendgroup\": \"state=Espirito Santo\", \"marker\": {\"color\": \"#B6E880\"}, \"name\": \"state=Espirito Santo\", \"offsetgroup\": \"state=Espirito Santo\", \"orientation\": \"v\", \"showlegend\": false, \"textposition\": \"auto\", \"type\": \"bar\", \"x\": [\"Espirito Santo\"], \"xaxis\": \"x4\", \"y\": [7.0], \"yaxis\": \"y4\"}, {\"alignmentgroup\": \"True\", \"hoverlabel\": {\"namelength\": 0}, \"hovertemplate\": \"state=%{x}<br>year=2017<br>month=Maio<br>number=%{y}\", \"legendgroup\": \"state=Espirito Santo\", \"marker\": {\"color\": \"#B6E880\"}, \"name\": \"state=Espirito Santo\", \"offsetgroup\": \"state=Espirito Santo\", \"orientation\": \"v\", \"showlegend\": false, \"textposition\": \"auto\", \"type\": \"bar\", \"x\": [\"Espirito Santo\"], \"xaxis\": \"x5\", \"y\": [10.0], \"yaxis\": \"y5\"}, {\"alignmentgroup\": \"True\", \"hoverlabel\": {\"namelength\": 0}, \"hovertemplate\": \"state=%{x}<br>year=2017<br>month=Junho<br>number=%{y}\", \"legendgroup\": \"state=Espirito Santo\", \"marker\": {\"color\": \"#B6E880\"}, \"name\": \"state=Espirito Santo\", \"offsetgroup\": \"state=Espirito Santo\", \"orientation\": \"v\", \"showlegend\": false, \"textposition\": \"auto\", \"type\": \"bar\", \"x\": [\"Espirito Santo\"], \"xaxis\": \"x6\", \"y\": [37.0], \"yaxis\": \"y6\"}, {\"alignmentgroup\": \"True\", \"hoverlabel\": {\"namelength\": 0}, \"hovertemplate\": \"state=%{x}<br>year=2017<br>month=Julho<br>number=%{y}\", \"legendgroup\": \"state=Espirito Santo\", \"marker\": {\"color\": \"#B6E880\"}, \"name\": \"state=Espirito Santo\", \"offsetgroup\": \"state=Espirito Santo\", \"orientation\": \"v\", \"showlegend\": false, \"textposition\": \"auto\", \"type\": \"bar\", \"x\": [\"Espirito Santo\"], \"xaxis\": \"x7\", \"y\": [3.0], \"yaxis\": \"y7\"}, {\"alignmentgroup\": \"True\", \"hoverlabel\": {\"namelength\": 0}, \"hovertemplate\": \"state=%{x}<br>year=2017<br>month=Agosto<br>number=%{y}\", \"legendgroup\": \"state=Espirito Santo\", \"marker\": {\"color\": \"#B6E880\"}, \"name\": \"state=Espirito Santo\", \"offsetgroup\": \"state=Espirito Santo\", \"orientation\": \"v\", \"showlegend\": false, \"textposition\": \"auto\", \"type\": \"bar\", \"x\": [\"Espirito Santo\"], \"xaxis\": \"x8\", \"y\": [30.0], \"yaxis\": \"y8\"}, {\"alignmentgroup\": \"True\", \"hoverlabel\": {\"namelength\": 0}, \"hovertemplate\": \"state=%{x}<br>year=2017<br>month=Setembro<br>number=%{y}\", \"legendgroup\": \"state=Espirito Santo\", \"marker\": {\"color\": \"#B6E880\"}, \"name\": \"state=Espirito Santo\", \"offsetgroup\": \"state=Espirito Santo\", \"orientation\": \"v\", \"showlegend\": false, \"textposition\": \"auto\", \"type\": \"bar\", \"x\": [\"Espirito Santo\"], \"xaxis\": \"x9\", \"y\": [58.0], \"yaxis\": \"y9\"}, {\"alignmentgroup\": \"True\", \"hoverlabel\": {\"namelength\": 0}, \"hovertemplate\": \"state=%{x}<br>year=2017<br>month=Outubro<br>number=%{y}\", \"legendgroup\": \"state=Espirito Santo\", \"marker\": {\"color\": \"#B6E880\"}, \"name\": \"state=Espirito Santo\", \"offsetgroup\": \"state=Espirito Santo\", \"orientation\": \"v\", \"showlegend\": false, \"textposition\": \"auto\", \"type\": \"bar\", \"x\": [\"Espirito Santo\"], \"xaxis\": \"x10\", \"y\": [56.0], \"yaxis\": \"y10\"}, {\"alignmentgroup\": \"True\", \"hoverlabel\": {\"namelength\": 0}, \"hovertemplate\": \"state=%{x}<br>year=2017<br>month=Novembro<br>number=%{y}\", \"legendgroup\": \"state=Espirito Santo\", \"marker\": {\"color\": \"#B6E880\"}, \"name\": \"state=Espirito Santo\", \"offsetgroup\": \"state=Espirito Santo\", \"orientation\": \"v\", \"showlegend\": false, \"textposition\": \"auto\", \"type\": \"bar\", \"x\": [\"Espirito Santo\"], \"xaxis\": \"x11\", \"y\": [3.0], \"yaxis\": \"y11\"}, {\"alignmentgroup\": \"True\", \"hoverlabel\": {\"namelength\": 0}, \"hovertemplate\": \"state=%{x}<br>year=2016<br>month=Janeiro<br>number=%{y}\", \"legendgroup\": \"state=Goias\", \"marker\": {\"color\": \"#FF97FF\"}, \"name\": \"state=Goias\", \"offsetgroup\": \"state=Goias\", \"orientation\": \"v\", \"showlegend\": true, \"textposition\": \"auto\", \"type\": \"bar\", \"x\": [\"Goias\"], \"xaxis\": \"x13\", \"y\": [52.0], \"yaxis\": \"y13\"}, {\"alignmentgroup\": \"True\", \"hoverlabel\": {\"namelength\": 0}, \"hovertemplate\": \"state=%{x}<br>year=2016<br>month=Fevereiro<br>number=%{y}\", \"legendgroup\": \"state=Goias\", \"marker\": {\"color\": \"#FF97FF\"}, \"name\": \"state=Goias\", \"offsetgroup\": \"state=Goias\", \"orientation\": \"v\", \"showlegend\": false, \"textposition\": \"auto\", \"type\": \"bar\", \"x\": [\"Goias\"], \"xaxis\": \"x14\", \"y\": [117.0], \"yaxis\": \"y14\"}, {\"alignmentgroup\": \"True\", \"hoverlabel\": {\"namelength\": 0}, \"hovertemplate\": \"state=%{x}<br>year=2016<br>month=Mar\\u00e7o<br>number=%{y}\", \"legendgroup\": \"state=Goias\", \"marker\": {\"color\": \"#FF97FF\"}, \"name\": \"state=Goias\", \"offsetgroup\": \"state=Goias\", \"orientation\": \"v\", \"showlegend\": false, \"textposition\": \"auto\", \"type\": \"bar\", \"x\": [\"Goias\"], \"xaxis\": \"x15\", \"y\": [136.0], \"yaxis\": \"y15\"}, {\"alignmentgroup\": \"True\", \"hoverlabel\": {\"namelength\": 0}, \"hovertemplate\": \"state=%{x}<br>year=2016<br>month=Abril<br>number=%{y}\", \"legendgroup\": \"state=Goias\", \"marker\": {\"color\": \"#FF97FF\"}, \"name\": \"state=Goias\", \"offsetgroup\": \"state=Goias\", \"orientation\": \"v\", \"showlegend\": false, \"textposition\": \"auto\", \"type\": \"bar\", \"x\": [\"Goias\"], \"xaxis\": \"x16\", \"y\": [167.0], \"yaxis\": \"y16\"}, {\"alignmentgroup\": \"True\", \"hoverlabel\": {\"namelength\": 0}, \"hovertemplate\": \"state=%{x}<br>year=2016<br>month=Maio<br>number=%{y}\", \"legendgroup\": \"state=Goias\", \"marker\": {\"color\": \"#FF97FF\"}, \"name\": \"state=Goias\", \"offsetgroup\": \"state=Goias\", \"orientation\": \"v\", \"showlegend\": false, \"textposition\": \"auto\", \"type\": \"bar\", \"x\": [\"Goias\"], \"xaxis\": \"x17\", \"y\": [233.0], \"yaxis\": \"y17\"}, {\"alignmentgroup\": \"True\", \"hoverlabel\": {\"namelength\": 0}, \"hovertemplate\": \"state=%{x}<br>year=2016<br>month=Junho<br>number=%{y}\", \"legendgroup\": \"state=Goias\", \"marker\": {\"color\": \"#FF97FF\"}, \"name\": \"state=Goias\", \"offsetgroup\": \"state=Goias\", \"orientation\": \"v\", \"showlegend\": false, \"textposition\": \"auto\", \"type\": \"bar\", \"x\": [\"Goias\"], \"xaxis\": \"x18\", \"y\": [289.0], \"yaxis\": \"y18\"}, {\"alignmentgroup\": \"True\", \"hoverlabel\": {\"namelength\": 0}, \"hovertemplate\": \"state=%{x}<br>year=2016<br>month=Julho<br>number=%{y}\", \"legendgroup\": \"state=Goias\", \"marker\": {\"color\": \"#FF97FF\"}, \"name\": \"state=Goias\", \"offsetgroup\": \"state=Goias\", \"orientation\": \"v\", \"showlegend\": false, \"textposition\": \"auto\", \"type\": \"bar\", \"x\": [\"Goias\"], \"xaxis\": \"x19\", \"y\": [837.0], \"yaxis\": \"y19\"}, {\"alignmentgroup\": \"True\", \"hoverlabel\": {\"namelength\": 0}, \"hovertemplate\": \"state=%{x}<br>year=2016<br>month=Agosto<br>number=%{y}\", \"legendgroup\": \"state=Goias\", \"marker\": {\"color\": \"#FF97FF\"}, \"name\": \"state=Goias\", \"offsetgroup\": \"state=Goias\", \"orientation\": \"v\", \"showlegend\": false, \"textposition\": \"auto\", \"type\": \"bar\", \"x\": [\"Goias\"], \"xaxis\": \"x20\", \"y\": [1.032], \"yaxis\": \"y20\"}, {\"alignmentgroup\": \"True\", \"hoverlabel\": {\"namelength\": 0}, \"hovertemplate\": \"state=%{x}<br>year=2016<br>month=Setembro<br>number=%{y}\", \"legendgroup\": \"state=Goias\", \"marker\": {\"color\": \"#FF97FF\"}, \"name\": \"state=Goias\", \"offsetgroup\": \"state=Goias\", \"orientation\": \"v\", \"showlegend\": false, \"textposition\": \"auto\", \"type\": \"bar\", \"x\": [\"Goias\"], \"xaxis\": \"x21\", \"y\": [1.703], \"yaxis\": \"y21\"}, {\"alignmentgroup\": \"True\", \"hoverlabel\": {\"namelength\": 0}, \"hovertemplate\": \"state=%{x}<br>year=2016<br>month=Outubro<br>number=%{y}\", \"legendgroup\": \"state=Goias\", \"marker\": {\"color\": \"#FF97FF\"}, \"name\": \"state=Goias\", \"offsetgroup\": \"state=Goias\", \"orientation\": \"v\", \"showlegend\": false, \"textposition\": \"auto\", \"type\": \"bar\", \"x\": [\"Goias\"], \"xaxis\": \"x22\", \"y\": [522.0], \"yaxis\": \"y22\"}, {\"alignmentgroup\": \"True\", \"hoverlabel\": {\"namelength\": 0}, \"hovertemplate\": \"state=%{x}<br>year=2016<br>month=Novembro<br>number=%{y}\", \"legendgroup\": \"state=Goias\", \"marker\": {\"color\": \"#FF97FF\"}, \"name\": \"state=Goias\", \"offsetgroup\": \"state=Goias\", \"orientation\": \"v\", \"showlegend\": false, \"textposition\": \"auto\", \"type\": \"bar\", \"x\": [\"Goias\"], \"xaxis\": \"x23\", \"y\": [123.0], \"yaxis\": \"y23\"}, {\"alignmentgroup\": \"True\", \"hoverlabel\": {\"namelength\": 0}, \"hovertemplate\": \"state=%{x}<br>year=2016<br>month=Dezembro<br>number=%{y}\", \"legendgroup\": \"state=Goias\", \"marker\": {\"color\": \"#FF97FF\"}, \"name\": \"state=Goias\", \"offsetgroup\": \"state=Goias\", \"orientation\": \"v\", \"showlegend\": false, \"textposition\": \"auto\", \"type\": \"bar\", \"x\": [\"Goias\"], \"xaxis\": \"x24\", \"y\": [64.0], \"yaxis\": \"y24\"}, {\"alignmentgroup\": \"True\", \"hoverlabel\": {\"namelength\": 0}, \"hovertemplate\": \"state=%{x}<br>year=2017<br>month=Janeiro<br>number=%{y}\", \"legendgroup\": \"state=Goias\", \"marker\": {\"color\": \"#FF97FF\"}, \"name\": \"state=Goias\", \"offsetgroup\": \"state=Goias\", \"orientation\": \"v\", \"showlegend\": false, \"textposition\": \"auto\", \"type\": \"bar\", \"x\": [\"Goias\"], \"xaxis\": \"x\", \"y\": [53.0], \"yaxis\": \"y\"}, {\"alignmentgroup\": \"True\", \"hoverlabel\": {\"namelength\": 0}, \"hovertemplate\": \"state=%{x}<br>year=2017<br>month=Fevereiro<br>number=%{y}\", \"legendgroup\": \"state=Goias\", \"marker\": {\"color\": \"#FF97FF\"}, \"name\": \"state=Goias\", \"offsetgroup\": \"state=Goias\", \"orientation\": \"v\", \"showlegend\": false, \"textposition\": \"auto\", \"type\": \"bar\", \"x\": [\"Goias\"], \"xaxis\": \"x2\", \"y\": [75.0], \"yaxis\": \"y2\"}, {\"alignmentgroup\": \"True\", \"hoverlabel\": {\"namelength\": 0}, \"hovertemplate\": \"state=%{x}<br>year=2017<br>month=Mar\\u00e7o<br>number=%{y}\", \"legendgroup\": \"state=Goias\", \"marker\": {\"color\": \"#FF97FF\"}, \"name\": \"state=Goias\", \"offsetgroup\": \"state=Goias\", \"orientation\": \"v\", \"showlegend\": false, \"textposition\": \"auto\", \"type\": \"bar\", \"x\": [\"Goias\"], \"xaxis\": \"x3\", \"y\": [115.0], \"yaxis\": \"y3\"}, {\"alignmentgroup\": \"True\", \"hoverlabel\": {\"namelength\": 0}, \"hovertemplate\": \"state=%{x}<br>year=2017<br>month=Abril<br>number=%{y}\", \"legendgroup\": \"state=Goias\", \"marker\": {\"color\": \"#FF97FF\"}, \"name\": \"state=Goias\", \"offsetgroup\": \"state=Goias\", \"orientation\": \"v\", \"showlegend\": false, \"textposition\": \"auto\", \"type\": \"bar\", \"x\": [\"Goias\"], \"xaxis\": \"x4\", \"y\": [60.0], \"yaxis\": \"y4\"}, {\"alignmentgroup\": \"True\", \"hoverlabel\": {\"namelength\": 0}, \"hovertemplate\": \"state=%{x}<br>year=2017<br>month=Maio<br>number=%{y}\", \"legendgroup\": \"state=Goias\", \"marker\": {\"color\": \"#FF97FF\"}, \"name\": \"state=Goias\", \"offsetgroup\": \"state=Goias\", \"orientation\": \"v\", \"showlegend\": false, \"textposition\": \"auto\", \"type\": \"bar\", \"x\": [\"Goias\"], \"xaxis\": \"x5\", \"y\": [135.0], \"yaxis\": \"y5\"}, {\"alignmentgroup\": \"True\", \"hoverlabel\": {\"namelength\": 0}, \"hovertemplate\": \"state=%{x}<br>year=2017<br>month=Junho<br>number=%{y}\", \"legendgroup\": \"state=Goias\", \"marker\": {\"color\": \"#FF97FF\"}, \"name\": \"state=Goias\", \"offsetgroup\": \"state=Goias\", \"orientation\": \"v\", \"showlegend\": false, \"textposition\": \"auto\", \"type\": \"bar\", \"x\": [\"Goias\"], \"xaxis\": \"x6\", \"y\": [442.0], \"yaxis\": \"y6\"}, {\"alignmentgroup\": \"True\", \"hoverlabel\": {\"namelength\": 0}, \"hovertemplate\": \"state=%{x}<br>year=2017<br>month=Julho<br>number=%{y}\", \"legendgroup\": \"state=Goias\", \"marker\": {\"color\": \"#FF97FF\"}, \"name\": \"state=Goias\", \"offsetgroup\": \"state=Goias\", \"orientation\": \"v\", \"showlegend\": false, \"textposition\": \"auto\", \"type\": \"bar\", \"x\": [\"Goias\"], \"xaxis\": \"x7\", \"y\": [577.0], \"yaxis\": \"y7\"}, {\"alignmentgroup\": \"True\", \"hoverlabel\": {\"namelength\": 0}, \"hovertemplate\": \"state=%{x}<br>year=2017<br>month=Agosto<br>number=%{y}\", \"legendgroup\": \"state=Goias\", \"marker\": {\"color\": \"#FF97FF\"}, \"name\": \"state=Goias\", \"offsetgroup\": \"state=Goias\", \"orientation\": \"v\", \"showlegend\": false, \"textposition\": \"auto\", \"type\": \"bar\", \"x\": [\"Goias\"], \"xaxis\": \"x8\", \"y\": [1.492], \"yaxis\": \"y8\"}, {\"alignmentgroup\": \"True\", \"hoverlabel\": {\"namelength\": 0}, \"hovertemplate\": \"state=%{x}<br>year=2017<br>month=Setembro<br>number=%{y}\", \"legendgroup\": \"state=Goias\", \"marker\": {\"color\": \"#FF97FF\"}, \"name\": \"state=Goias\", \"offsetgroup\": \"state=Goias\", \"orientation\": \"v\", \"showlegend\": false, \"textposition\": \"auto\", \"type\": \"bar\", \"x\": [\"Goias\"], \"xaxis\": \"x9\", \"y\": [3.238], \"yaxis\": \"y9\"}, {\"alignmentgroup\": \"True\", \"hoverlabel\": {\"namelength\": 0}, \"hovertemplate\": \"state=%{x}<br>year=2017<br>month=Outubro<br>number=%{y}\", \"legendgroup\": \"state=Goias\", \"marker\": {\"color\": \"#FF97FF\"}, \"name\": \"state=Goias\", \"offsetgroup\": \"state=Goias\", \"orientation\": \"v\", \"showlegend\": false, \"textposition\": \"auto\", \"type\": \"bar\", \"x\": [\"Goias\"], \"xaxis\": \"x10\", \"y\": [2.401], \"yaxis\": \"y10\"}, {\"alignmentgroup\": \"True\", \"hoverlabel\": {\"namelength\": 0}, \"hovertemplate\": \"state=%{x}<br>year=2017<br>month=Novembro<br>number=%{y}\", \"legendgroup\": \"state=Goias\", \"marker\": {\"color\": \"#FF97FF\"}, \"name\": \"state=Goias\", \"offsetgroup\": \"state=Goias\", \"orientation\": \"v\", \"showlegend\": false, \"textposition\": \"auto\", \"type\": \"bar\", \"x\": [\"Goias\"], \"xaxis\": \"x11\", \"y\": [117.0], \"yaxis\": \"y11\"}, {\"alignmentgroup\": \"True\", \"hoverlabel\": {\"namelength\": 0}, \"hovertemplate\": \"state=%{x}<br>year=2016<br>month=Janeiro<br>number=%{y}\", \"legendgroup\": \"state=Maranhao\", \"marker\": {\"color\": \"#FECB52\"}, \"name\": \"state=Maranhao\", \"offsetgroup\": \"state=Maranhao\", \"orientation\": \"v\", \"showlegend\": true, \"textposition\": \"auto\", \"type\": \"bar\", \"x\": [\"Maranhao\"], \"xaxis\": \"x13\", \"y\": [412.0], \"yaxis\": \"y13\"}, {\"alignmentgroup\": \"True\", \"hoverlabel\": {\"namelength\": 0}, \"hovertemplate\": \"state=%{x}<br>year=2016<br>month=Fevereiro<br>number=%{y}\", \"legendgroup\": \"state=Maranhao\", \"marker\": {\"color\": \"#FECB52\"}, \"name\": \"state=Maranhao\", \"offsetgroup\": \"state=Maranhao\", \"orientation\": \"v\", \"showlegend\": false, \"textposition\": \"auto\", \"type\": \"bar\", \"x\": [\"Maranhao\"], \"xaxis\": \"x14\", \"y\": [318.0], \"yaxis\": \"y14\"}, {\"alignmentgroup\": \"True\", \"hoverlabel\": {\"namelength\": 0}, \"hovertemplate\": \"state=%{x}<br>year=2016<br>month=Mar\\u00e7o<br>number=%{y}\", \"legendgroup\": \"state=Maranhao\", \"marker\": {\"color\": \"#FECB52\"}, \"name\": \"state=Maranhao\", \"offsetgroup\": \"state=Maranhao\", \"orientation\": \"v\", \"showlegend\": false, \"textposition\": \"auto\", \"type\": \"bar\", \"x\": [\"Maranhao\"], \"xaxis\": \"x15\", \"y\": [113.0], \"yaxis\": \"y15\"}, {\"alignmentgroup\": \"True\", \"hoverlabel\": {\"namelength\": 0}, \"hovertemplate\": \"state=%{x}<br>year=2016<br>month=Abril<br>number=%{y}\", \"legendgroup\": \"state=Maranhao\", \"marker\": {\"color\": \"#FECB52\"}, \"name\": \"state=Maranhao\", \"offsetgroup\": \"state=Maranhao\", \"orientation\": \"v\", \"showlegend\": false, \"textposition\": \"auto\", \"type\": \"bar\", \"x\": [\"Maranhao\"], \"xaxis\": \"x16\", \"y\": [113.0], \"yaxis\": \"y16\"}, {\"alignmentgroup\": \"True\", \"hoverlabel\": {\"namelength\": 0}, \"hovertemplate\": \"state=%{x}<br>year=2016<br>month=Maio<br>number=%{y}\", \"legendgroup\": \"state=Maranhao\", \"marker\": {\"color\": \"#FECB52\"}, \"name\": \"state=Maranhao\", \"offsetgroup\": \"state=Maranhao\", \"orientation\": \"v\", \"showlegend\": false, \"textposition\": \"auto\", \"type\": \"bar\", \"x\": [\"Maranhao\"], \"xaxis\": \"x17\", \"y\": [206.0], \"yaxis\": \"y17\"}, {\"alignmentgroup\": \"True\", \"hoverlabel\": {\"namelength\": 0}, \"hovertemplate\": \"state=%{x}<br>year=2016<br>month=Junho<br>number=%{y}\", \"legendgroup\": \"state=Maranhao\", \"marker\": {\"color\": \"#FECB52\"}, \"name\": \"state=Maranhao\", \"offsetgroup\": \"state=Maranhao\", \"orientation\": \"v\", \"showlegend\": false, \"textposition\": \"auto\", \"type\": \"bar\", \"x\": [\"Maranhao\"], \"xaxis\": \"x18\", \"y\": [709.0], \"yaxis\": \"y18\"}, {\"alignmentgroup\": \"True\", \"hoverlabel\": {\"namelength\": 0}, \"hovertemplate\": \"state=%{x}<br>year=2016<br>month=Julho<br>number=%{y}\", \"legendgroup\": \"state=Maranhao\", \"marker\": {\"color\": \"#FECB52\"}, \"name\": \"state=Maranhao\", \"offsetgroup\": \"state=Maranhao\", \"orientation\": \"v\", \"showlegend\": false, \"textposition\": \"auto\", \"type\": \"bar\", \"x\": [\"Maranhao\"], \"xaxis\": \"x19\", \"y\": [2.096], \"yaxis\": \"y19\"}, {\"alignmentgroup\": \"True\", \"hoverlabel\": {\"namelength\": 0}, \"hovertemplate\": \"state=%{x}<br>year=2016<br>month=Agosto<br>number=%{y}\", \"legendgroup\": \"state=Maranhao\", \"marker\": {\"color\": \"#FECB52\"}, \"name\": \"state=Maranhao\", \"offsetgroup\": \"state=Maranhao\", \"orientation\": \"v\", \"showlegend\": false, \"textposition\": \"auto\", \"type\": \"bar\", \"x\": [\"Maranhao\"], \"xaxis\": \"x20\", \"y\": [3.7230000000000003], \"yaxis\": \"y20\"}, {\"alignmentgroup\": \"True\", \"hoverlabel\": {\"namelength\": 0}, \"hovertemplate\": \"state=%{x}<br>year=2016<br>month=Setembro<br>number=%{y}\", \"legendgroup\": \"state=Maranhao\", \"marker\": {\"color\": \"#FECB52\"}, \"name\": \"state=Maranhao\", \"offsetgroup\": \"state=Maranhao\", \"orientation\": \"v\", \"showlegend\": false, \"textposition\": \"auto\", \"type\": \"bar\", \"x\": [\"Maranhao\"], \"xaxis\": \"x21\", \"y\": [3.1660000000000004], \"yaxis\": \"y21\"}, {\"alignmentgroup\": \"True\", \"hoverlabel\": {\"namelength\": 0}, \"hovertemplate\": \"state=%{x}<br>year=2016<br>month=Outubro<br>number=%{y}\", \"legendgroup\": \"state=Maranhao\", \"marker\": {\"color\": \"#FECB52\"}, \"name\": \"state=Maranhao\", \"offsetgroup\": \"state=Maranhao\", \"orientation\": \"v\", \"showlegend\": false, \"textposition\": \"auto\", \"type\": \"bar\", \"x\": [\"Maranhao\"], \"xaxis\": \"x22\", \"y\": [5.351], \"yaxis\": \"y22\"}, {\"alignmentgroup\": \"True\", \"hoverlabel\": {\"namelength\": 0}, \"hovertemplate\": \"state=%{x}<br>year=2016<br>month=Novembro<br>number=%{y}\", \"legendgroup\": \"state=Maranhao\", \"marker\": {\"color\": \"#FECB52\"}, \"name\": \"state=Maranhao\", \"offsetgroup\": \"state=Maranhao\", \"orientation\": \"v\", \"showlegend\": false, \"textposition\": \"auto\", \"type\": \"bar\", \"x\": [\"Maranhao\"], \"xaxis\": \"x23\", \"y\": [3.9819999999999998], \"yaxis\": \"y23\"}, {\"alignmentgroup\": \"True\", \"hoverlabel\": {\"namelength\": 0}, \"hovertemplate\": \"state=%{x}<br>year=2016<br>month=Dezembro<br>number=%{y}\", \"legendgroup\": \"state=Maranhao\", \"marker\": {\"color\": \"#FECB52\"}, \"name\": \"state=Maranhao\", \"offsetgroup\": \"state=Maranhao\", \"orientation\": \"v\", \"showlegend\": false, \"textposition\": \"auto\", \"type\": \"bar\", \"x\": [\"Maranhao\"], \"xaxis\": \"x24\", \"y\": [1.577], \"yaxis\": \"y24\"}, {\"alignmentgroup\": \"True\", \"hoverlabel\": {\"namelength\": 0}, \"hovertemplate\": \"state=%{x}<br>year=2017<br>month=Janeiro<br>number=%{y}\", \"legendgroup\": \"state=Maranhao\", \"marker\": {\"color\": \"#FECB52\"}, \"name\": \"state=Maranhao\", \"offsetgroup\": \"state=Maranhao\", \"orientation\": \"v\", \"showlegend\": false, \"textposition\": \"auto\", \"type\": \"bar\", \"x\": [\"Maranhao\"], \"xaxis\": \"x\", \"y\": [187.0], \"yaxis\": \"y\"}, {\"alignmentgroup\": \"True\", \"hoverlabel\": {\"namelength\": 0}, \"hovertemplate\": \"state=%{x}<br>year=2017<br>month=Fevereiro<br>number=%{y}\", \"legendgroup\": \"state=Maranhao\", \"marker\": {\"color\": \"#FECB52\"}, \"name\": \"state=Maranhao\", \"offsetgroup\": \"state=Maranhao\", \"orientation\": \"v\", \"showlegend\": false, \"textposition\": \"auto\", \"type\": \"bar\", \"x\": [\"Maranhao\"], \"xaxis\": \"x2\", \"y\": [47.0], \"yaxis\": \"y2\"}, {\"alignmentgroup\": \"True\", \"hoverlabel\": {\"namelength\": 0}, \"hovertemplate\": \"state=%{x}<br>year=2017<br>month=Mar\\u00e7o<br>number=%{y}\", \"legendgroup\": \"state=Maranhao\", \"marker\": {\"color\": \"#FECB52\"}, \"name\": \"state=Maranhao\", \"offsetgroup\": \"state=Maranhao\", \"orientation\": \"v\", \"showlegend\": false, \"textposition\": \"auto\", \"type\": \"bar\", \"x\": [\"Maranhao\"], \"xaxis\": \"x3\", \"y\": [32.0], \"yaxis\": \"y3\"}, {\"alignmentgroup\": \"True\", \"hoverlabel\": {\"namelength\": 0}, \"hovertemplate\": \"state=%{x}<br>year=2017<br>month=Abril<br>number=%{y}\", \"legendgroup\": \"state=Maranhao\", \"marker\": {\"color\": \"#FECB52\"}, \"name\": \"state=Maranhao\", \"offsetgroup\": \"state=Maranhao\", \"orientation\": \"v\", \"showlegend\": false, \"textposition\": \"auto\", \"type\": \"bar\", \"x\": [\"Maranhao\"], \"xaxis\": \"x4\", \"y\": [91.0], \"yaxis\": \"y4\"}, {\"alignmentgroup\": \"True\", \"hoverlabel\": {\"namelength\": 0}, \"hovertemplate\": \"state=%{x}<br>year=2017<br>month=Maio<br>number=%{y}\", \"legendgroup\": \"state=Maranhao\", \"marker\": {\"color\": \"#FECB52\"}, \"name\": \"state=Maranhao\", \"offsetgroup\": \"state=Maranhao\", \"orientation\": \"v\", \"showlegend\": false, \"textposition\": \"auto\", \"type\": \"bar\", \"x\": [\"Maranhao\"], \"xaxis\": \"x5\", \"y\": [142.0], \"yaxis\": \"y5\"}, {\"alignmentgroup\": \"True\", \"hoverlabel\": {\"namelength\": 0}, \"hovertemplate\": \"state=%{x}<br>year=2017<br>month=Junho<br>number=%{y}\", \"legendgroup\": \"state=Maranhao\", \"marker\": {\"color\": \"#FECB52\"}, \"name\": \"state=Maranhao\", \"offsetgroup\": \"state=Maranhao\", \"orientation\": \"v\", \"showlegend\": false, \"textposition\": \"auto\", \"type\": \"bar\", \"x\": [\"Maranhao\"], \"xaxis\": \"x6\", \"y\": [885.0], \"yaxis\": \"y6\"}, {\"alignmentgroup\": \"True\", \"hoverlabel\": {\"namelength\": 0}, \"hovertemplate\": \"state=%{x}<br>year=2017<br>month=Julho<br>number=%{y}\", \"legendgroup\": \"state=Maranhao\", \"marker\": {\"color\": \"#FECB52\"}, \"name\": \"state=Maranhao\", \"offsetgroup\": \"state=Maranhao\", \"orientation\": \"v\", \"showlegend\": false, \"textposition\": \"auto\", \"type\": \"bar\", \"x\": [\"Maranhao\"], \"xaxis\": \"x7\", \"y\": [2.521], \"yaxis\": \"y7\"}, {\"alignmentgroup\": \"True\", \"hoverlabel\": {\"namelength\": 0}, \"hovertemplate\": \"state=%{x}<br>year=2017<br>month=Agosto<br>number=%{y}\", \"legendgroup\": \"state=Maranhao\", \"marker\": {\"color\": \"#FECB52\"}, \"name\": \"state=Maranhao\", \"offsetgroup\": \"state=Maranhao\", \"orientation\": \"v\", \"showlegend\": false, \"textposition\": \"auto\", \"type\": \"bar\", \"x\": [\"Maranhao\"], \"xaxis\": \"x8\", \"y\": [3.875], \"yaxis\": \"y8\"}, {\"alignmentgroup\": \"True\", \"hoverlabel\": {\"namelength\": 0}, \"hovertemplate\": \"state=%{x}<br>year=2017<br>month=Setembro<br>number=%{y}\", \"legendgroup\": \"state=Maranhao\", \"marker\": {\"color\": \"#FECB52\"}, \"name\": \"state=Maranhao\", \"offsetgroup\": \"state=Maranhao\", \"orientation\": \"v\", \"showlegend\": false, \"textposition\": \"auto\", \"type\": \"bar\", \"x\": [\"Maranhao\"], \"xaxis\": \"x9\", \"y\": [14.825], \"yaxis\": \"y9\"}, {\"alignmentgroup\": \"True\", \"hoverlabel\": {\"namelength\": 0}, \"hovertemplate\": \"state=%{x}<br>year=2017<br>month=Outubro<br>number=%{y}\", \"legendgroup\": \"state=Maranhao\", \"marker\": {\"color\": \"#FECB52\"}, \"name\": \"state=Maranhao\", \"offsetgroup\": \"state=Maranhao\", \"orientation\": \"v\", \"showlegend\": false, \"textposition\": \"auto\", \"type\": \"bar\", \"x\": [\"Maranhao\"], \"xaxis\": \"x10\", \"y\": [6.011], \"yaxis\": \"y10\"}, {\"alignmentgroup\": \"True\", \"hoverlabel\": {\"namelength\": 0}, \"hovertemplate\": \"state=%{x}<br>year=2017<br>month=Novembro<br>number=%{y}\", \"legendgroup\": \"state=Maranhao\", \"marker\": {\"color\": \"#FECB52\"}, \"name\": \"state=Maranhao\", \"offsetgroup\": \"state=Maranhao\", \"orientation\": \"v\", \"showlegend\": false, \"textposition\": \"auto\", \"type\": \"bar\", \"x\": [\"Maranhao\"], \"xaxis\": \"x11\", \"y\": [2.3], \"yaxis\": \"y11\"}, {\"alignmentgroup\": \"True\", \"hoverlabel\": {\"namelength\": 0}, \"hovertemplate\": \"state=%{x}<br>year=2016<br>month=Janeiro<br>number=%{y}\", \"legendgroup\": \"state=Mato Grosso\", \"marker\": {\"color\": \"#636efa\"}, \"name\": \"state=Mato Grosso\", \"offsetgroup\": \"state=Mato Grosso\", \"orientation\": \"v\", \"showlegend\": true, \"textposition\": \"auto\", \"type\": \"bar\", \"x\": [\"Mato Grosso\", \"Mato Grosso\"], \"xaxis\": \"x13\", \"y\": [374.0, 127.0], \"yaxis\": \"y13\"}, {\"alignmentgroup\": \"True\", \"hoverlabel\": {\"namelength\": 0}, \"hovertemplate\": \"state=%{x}<br>year=2016<br>month=Fevereiro<br>number=%{y}\", \"legendgroup\": \"state=Mato Grosso\", \"marker\": {\"color\": \"#636efa\"}, \"name\": \"state=Mato Grosso\", \"offsetgroup\": \"state=Mato Grosso\", \"orientation\": \"v\", \"showlegend\": false, \"textposition\": \"auto\", \"type\": \"bar\", \"x\": [\"Mato Grosso\", \"Mato Grosso\"], \"xaxis\": \"x14\", \"y\": [1.05, 187.0], \"yaxis\": \"y14\"}, {\"alignmentgroup\": \"True\", \"hoverlabel\": {\"namelength\": 0}, \"hovertemplate\": \"state=%{x}<br>year=2016<br>month=Mar\\u00e7o<br>number=%{y}\", \"legendgroup\": \"state=Mato Grosso\", \"marker\": {\"color\": \"#636efa\"}, \"name\": \"state=Mato Grosso\", \"offsetgroup\": \"state=Mato Grosso\", \"orientation\": \"v\", \"showlegend\": false, \"textposition\": \"auto\", \"type\": \"bar\", \"x\": [\"Mato Grosso\", \"Mato Grosso\"], \"xaxis\": \"x15\", \"y\": [1.085, 143.0], \"yaxis\": \"y15\"}, {\"alignmentgroup\": \"True\", \"hoverlabel\": {\"namelength\": 0}, \"hovertemplate\": \"state=%{x}<br>year=2016<br>month=Abril<br>number=%{y}\", \"legendgroup\": \"state=Mato Grosso\", \"marker\": {\"color\": \"#636efa\"}, \"name\": \"state=Mato Grosso\", \"offsetgroup\": \"state=Mato Grosso\", \"orientation\": \"v\", \"showlegend\": false, \"textposition\": \"auto\", \"type\": \"bar\", \"x\": [\"Mato Grosso\", \"Mato Grosso\"], \"xaxis\": \"x16\", \"y\": [1.77, 161.0], \"yaxis\": \"y16\"}, {\"alignmentgroup\": \"True\", \"hoverlabel\": {\"namelength\": 0}, \"hovertemplate\": \"state=%{x}<br>year=2016<br>month=Maio<br>number=%{y}\", \"legendgroup\": \"state=Mato Grosso\", \"marker\": {\"color\": \"#636efa\"}, \"name\": \"state=Mato Grosso\", \"offsetgroup\": \"state=Mato Grosso\", \"orientation\": \"v\", \"showlegend\": false, \"textposition\": \"auto\", \"type\": \"bar\", \"x\": [\"Mato Grosso\", \"Mato Grosso\"], \"xaxis\": \"x17\", \"y\": [1.081, 97.0], \"yaxis\": \"y17\"}, {\"alignmentgroup\": \"True\", \"hoverlabel\": {\"namelength\": 0}, \"hovertemplate\": \"state=%{x}<br>year=2016<br>month=Junho<br>number=%{y}\", \"legendgroup\": \"state=Mato Grosso\", \"marker\": {\"color\": \"#636efa\"}, \"name\": \"state=Mato Grosso\", \"offsetgroup\": \"state=Mato Grosso\", \"orientation\": \"v\", \"showlegend\": false, \"textposition\": \"auto\", \"type\": \"bar\", \"x\": [\"Mato Grosso\", \"Mato Grosso\"], \"xaxis\": \"x18\", \"y\": [1.4169999999999998, 120.0], \"yaxis\": \"y18\"}, {\"alignmentgroup\": \"True\", \"hoverlabel\": {\"namelength\": 0}, \"hovertemplate\": \"state=%{x}<br>year=2016<br>month=Julho<br>number=%{y}\", \"legendgroup\": \"state=Mato Grosso\", \"marker\": {\"color\": \"#636efa\"}, \"name\": \"state=Mato Grosso\", \"offsetgroup\": \"state=Mato Grosso\", \"orientation\": \"v\", \"showlegend\": false, \"textposition\": \"auto\", \"type\": \"bar\", \"x\": [\"Mato Grosso\", \"Mato Grosso\"], \"xaxis\": \"x19\", \"y\": [3.495, 687.0], \"yaxis\": \"y19\"}, {\"alignmentgroup\": \"True\", \"hoverlabel\": {\"namelength\": 0}, \"hovertemplate\": \"state=%{x}<br>year=2016<br>month=Agosto<br>number=%{y}\", \"legendgroup\": \"state=Mato Grosso\", \"marker\": {\"color\": \"#636efa\"}, \"name\": \"state=Mato Grosso\", \"offsetgroup\": \"state=Mato Grosso\", \"orientation\": \"v\", \"showlegend\": false, \"textposition\": \"auto\", \"type\": \"bar\", \"x\": [\"Mato Grosso\", \"Mato Grosso\"], \"xaxis\": \"x20\", \"y\": [6.228, 1.4809999999999999], \"yaxis\": \"y20\"}, {\"alignmentgroup\": \"True\", \"hoverlabel\": {\"namelength\": 0}, \"hovertemplate\": \"state=%{x}<br>year=2016<br>month=Setembro<br>number=%{y}\", \"legendgroup\": \"state=Mato Grosso\", \"marker\": {\"color\": \"#636efa\"}, \"name\": \"state=Mato Grosso\", \"offsetgroup\": \"state=Mato Grosso\", \"orientation\": \"v\", \"showlegend\": false, \"textposition\": \"auto\", \"type\": \"bar\", \"x\": [\"Mato Grosso\", \"Mato Grosso\"], \"xaxis\": \"x21\", \"y\": [8.98, 2.383], \"yaxis\": \"y21\"}, {\"alignmentgroup\": \"True\", \"hoverlabel\": {\"namelength\": 0}, \"hovertemplate\": \"state=%{x}<br>year=2016<br>month=Outubro<br>number=%{y}\", \"legendgroup\": \"state=Mato Grosso\", \"marker\": {\"color\": \"#636efa\"}, \"name\": \"state=Mato Grosso\", \"offsetgroup\": \"state=Mato Grosso\", \"orientation\": \"v\", \"showlegend\": false, \"textposition\": \"auto\", \"type\": \"bar\", \"x\": [\"Mato Grosso\", \"Mato Grosso\"], \"xaxis\": \"x22\", \"y\": [2.7489999999999997, 1.2], \"yaxis\": \"y22\"}, {\"alignmentgroup\": \"True\", \"hoverlabel\": {\"namelength\": 0}, \"hovertemplate\": \"state=%{x}<br>year=2016<br>month=Novembro<br>number=%{y}\", \"legendgroup\": \"state=Mato Grosso\", \"marker\": {\"color\": \"#636efa\"}, \"name\": \"state=Mato Grosso\", \"offsetgroup\": \"state=Mato Grosso\", \"orientation\": \"v\", \"showlegend\": false, \"textposition\": \"auto\", \"type\": \"bar\", \"x\": [\"Mato Grosso\", \"Mato Grosso\"], \"xaxis\": \"x23\", \"y\": [918.0, 258.0], \"yaxis\": \"y23\"}, {\"alignmentgroup\": \"True\", \"hoverlabel\": {\"namelength\": 0}, \"hovertemplate\": \"state=%{x}<br>year=2016<br>month=Dezembro<br>number=%{y}\", \"legendgroup\": \"state=Mato Grosso\", \"marker\": {\"color\": \"#636efa\"}, \"name\": \"state=Mato Grosso\", \"offsetgroup\": \"state=Mato Grosso\", \"orientation\": \"v\", \"showlegend\": false, \"textposition\": \"auto\", \"type\": \"bar\", \"x\": [\"Mato Grosso\", \"Mato Grosso\"], \"xaxis\": \"x24\", \"y\": [425.0, 123.0], \"yaxis\": \"y24\"}, {\"alignmentgroup\": \"True\", \"hoverlabel\": {\"namelength\": 0}, \"hovertemplate\": \"state=%{x}<br>year=2017<br>month=Janeiro<br>number=%{y}\", \"legendgroup\": \"state=Mato Grosso\", \"marker\": {\"color\": \"#636efa\"}, \"name\": \"state=Mato Grosso\", \"offsetgroup\": \"state=Mato Grosso\", \"orientation\": \"v\", \"showlegend\": false, \"textposition\": \"auto\", \"type\": \"bar\", \"x\": [\"Mato Grosso\", \"Mato Grosso\"], \"xaxis\": \"x\", \"y\": [482.0, 355.0], \"yaxis\": \"y\"}, {\"alignmentgroup\": \"True\", \"hoverlabel\": {\"namelength\": 0}, \"hovertemplate\": \"state=%{x}<br>year=2017<br>month=Fevereiro<br>number=%{y}\", \"legendgroup\": \"state=Mato Grosso\", \"marker\": {\"color\": \"#636efa\"}, \"name\": \"state=Mato Grosso\", \"offsetgroup\": \"state=Mato Grosso\", \"orientation\": \"v\", \"showlegend\": false, \"textposition\": \"auto\", \"type\": \"bar\", \"x\": [\"Mato Grosso\", \"Mato Grosso\"], \"xaxis\": \"x2\", \"y\": [337.0, 165.0], \"yaxis\": \"y2\"}, {\"alignmentgroup\": \"True\", \"hoverlabel\": {\"namelength\": 0}, \"hovertemplate\": \"state=%{x}<br>year=2017<br>month=Mar\\u00e7o<br>number=%{y}\", \"legendgroup\": \"state=Mato Grosso\", \"marker\": {\"color\": \"#636efa\"}, \"name\": \"state=Mato Grosso\", \"offsetgroup\": \"state=Mato Grosso\", \"orientation\": \"v\", \"showlegend\": false, \"textposition\": \"auto\", \"type\": \"bar\", \"x\": [\"Mato Grosso\", \"Mato Grosso\"], \"xaxis\": \"x3\", \"y\": [719.0, 170.0], \"yaxis\": \"y3\"}, {\"alignmentgroup\": \"True\", \"hoverlabel\": {\"namelength\": 0}, \"hovertemplate\": \"state=%{x}<br>year=2017<br>month=Abril<br>number=%{y}\", \"legendgroup\": \"state=Mato Grosso\", \"marker\": {\"color\": \"#636efa\"}, \"name\": \"state=Mato Grosso\", \"offsetgroup\": \"state=Mato Grosso\", \"orientation\": \"v\", \"showlegend\": false, \"textposition\": \"auto\", \"type\": \"bar\", \"x\": [\"Mato Grosso\", \"Mato Grosso\"], \"xaxis\": \"x4\", \"y\": [606.0, 59.0], \"yaxis\": \"y4\"}, {\"alignmentgroup\": \"True\", \"hoverlabel\": {\"namelength\": 0}, \"hovertemplate\": \"state=%{x}<br>year=2017<br>month=Maio<br>number=%{y}\", \"legendgroup\": \"state=Mato Grosso\", \"marker\": {\"color\": \"#636efa\"}, \"name\": \"state=Mato Grosso\", \"offsetgroup\": \"state=Mato Grosso\", \"orientation\": \"v\", \"showlegend\": false, \"textposition\": \"auto\", \"type\": \"bar\", \"x\": [\"Mato Grosso\", \"Mato Grosso\"], \"xaxis\": \"x5\", \"y\": [845.0, 72.0], \"yaxis\": \"y5\"}, {\"alignmentgroup\": \"True\", \"hoverlabel\": {\"namelength\": 0}, \"hovertemplate\": \"state=%{x}<br>year=2017<br>month=Junho<br>number=%{y}\", \"legendgroup\": \"state=Mato Grosso\", \"marker\": {\"color\": \"#636efa\"}, \"name\": \"state=Mato Grosso\", \"offsetgroup\": \"state=Mato Grosso\", \"orientation\": \"v\", \"showlegend\": false, \"textposition\": \"auto\", \"type\": \"bar\", \"x\": [\"Mato Grosso\", \"Mato Grosso\"], \"xaxis\": \"x6\", \"y\": [2.041, 175.0], \"yaxis\": \"y6\"}, {\"alignmentgroup\": \"True\", \"hoverlabel\": {\"namelength\": 0}, \"hovertemplate\": \"state=%{x}<br>year=2017<br>month=Julho<br>number=%{y}\", \"legendgroup\": \"state=Mato Grosso\", \"marker\": {\"color\": \"#636efa\"}, \"name\": \"state=Mato Grosso\", \"offsetgroup\": \"state=Mato Grosso\", \"orientation\": \"v\", \"showlegend\": false, \"textposition\": \"auto\", \"type\": \"bar\", \"x\": [\"Mato Grosso\", \"Mato Grosso\"], \"xaxis\": \"x7\", \"y\": [2.79, 1.05], \"yaxis\": \"y7\"}, {\"alignmentgroup\": \"True\", \"hoverlabel\": {\"namelength\": 0}, \"hovertemplate\": \"state=%{x}<br>year=2017<br>month=Agosto<br>number=%{y}\", \"legendgroup\": \"state=Mato Grosso\", \"marker\": {\"color\": \"#636efa\"}, \"name\": \"state=Mato Grosso\", \"offsetgroup\": \"state=Mato Grosso\", \"orientation\": \"v\", \"showlegend\": false, \"textposition\": \"auto\", \"type\": \"bar\", \"x\": [\"Mato Grosso\", \"Mato Grosso\"], \"xaxis\": \"x8\", \"y\": [6.229, 1.4880000000000002], \"yaxis\": \"y8\"}, {\"alignmentgroup\": \"True\", \"hoverlabel\": {\"namelength\": 0}, \"hovertemplate\": \"state=%{x}<br>year=2017<br>month=Setembro<br>number=%{y}\", \"legendgroup\": \"state=Mato Grosso\", \"marker\": {\"color\": \"#636efa\"}, \"name\": \"state=Mato Grosso\", \"offsetgroup\": \"state=Mato Grosso\", \"orientation\": \"v\", \"showlegend\": false, \"textposition\": \"auto\", \"type\": \"bar\", \"x\": [\"Mato Grosso\", \"Mato Grosso\"], \"xaxis\": \"x9\", \"y\": [23.945, 2.984], \"yaxis\": \"y9\"}, {\"alignmentgroup\": \"True\", \"hoverlabel\": {\"namelength\": 0}, \"hovertemplate\": \"state=%{x}<br>year=2017<br>month=Outubro<br>number=%{y}\", \"legendgroup\": \"state=Mato Grosso\", \"marker\": {\"color\": \"#636efa\"}, \"name\": \"state=Mato Grosso\", \"offsetgroup\": \"state=Mato Grosso\", \"orientation\": \"v\", \"showlegend\": false, \"textposition\": \"auto\", \"type\": \"bar\", \"x\": [\"Mato Grosso\", \"Mato Grosso\"], \"xaxis\": \"x10\", \"y\": [4.8, 685.0], \"yaxis\": \"y10\"}, {\"alignmentgroup\": \"True\", \"hoverlabel\": {\"namelength\": 0}, \"hovertemplate\": \"state=%{x}<br>year=2017<br>month=Novembro<br>number=%{y}\", \"legendgroup\": \"state=Mato Grosso\", \"marker\": {\"color\": \"#636efa\"}, \"name\": \"state=Mato Grosso\", \"offsetgroup\": \"state=Mato Grosso\", \"orientation\": \"v\", \"showlegend\": false, \"textposition\": \"auto\", \"type\": \"bar\", \"x\": [\"Mato Grosso\", \"Mato Grosso\"], \"xaxis\": \"x11\", \"y\": [813.0, 133.0], \"yaxis\": \"y11\"}, {\"alignmentgroup\": \"True\", \"hoverlabel\": {\"namelength\": 0}, \"hovertemplate\": \"state=%{x}<br>year=2016<br>month=Janeiro<br>number=%{y}\", \"legendgroup\": \"state=Minas Gerais\", \"marker\": {\"color\": \"#EF553B\"}, \"name\": \"state=Minas Gerais\", \"offsetgroup\": \"state=Minas Gerais\", \"orientation\": \"v\", \"showlegend\": true, \"textposition\": \"auto\", \"type\": \"bar\", \"x\": [\"Minas Gerais\"], \"xaxis\": \"x13\", \"y\": [61.0], \"yaxis\": \"y13\"}, {\"alignmentgroup\": \"True\", \"hoverlabel\": {\"namelength\": 0}, \"hovertemplate\": \"state=%{x}<br>year=2016<br>month=Fevereiro<br>number=%{y}\", \"legendgroup\": \"state=Minas Gerais\", \"marker\": {\"color\": \"#EF553B\"}, \"name\": \"state=Minas Gerais\", \"offsetgroup\": \"state=Minas Gerais\", \"orientation\": \"v\", \"showlegend\": false, \"textposition\": \"auto\", \"type\": \"bar\", \"x\": [\"Minas Gerais\"], \"xaxis\": \"x14\", \"y\": [207.0], \"yaxis\": \"y14\"}, {\"alignmentgroup\": \"True\", \"hoverlabel\": {\"namelength\": 0}, \"hovertemplate\": \"state=%{x}<br>year=2016<br>month=Mar\\u00e7o<br>number=%{y}\", \"legendgroup\": \"state=Minas Gerais\", \"marker\": {\"color\": \"#EF553B\"}, \"name\": \"state=Minas Gerais\", \"offsetgroup\": \"state=Minas Gerais\", \"orientation\": \"v\", \"showlegend\": false, \"textposition\": \"auto\", \"type\": \"bar\", \"x\": [\"Minas Gerais\"], \"xaxis\": \"x15\", \"y\": [123.0], \"yaxis\": \"y15\"}, {\"alignmentgroup\": \"True\", \"hoverlabel\": {\"namelength\": 0}, \"hovertemplate\": \"state=%{x}<br>year=2016<br>month=Abril<br>number=%{y}\", \"legendgroup\": \"state=Minas Gerais\", \"marker\": {\"color\": \"#EF553B\"}, \"name\": \"state=Minas Gerais\", \"offsetgroup\": \"state=Minas Gerais\", \"orientation\": \"v\", \"showlegend\": false, \"textposition\": \"auto\", \"type\": \"bar\", \"x\": [\"Minas Gerais\"], \"xaxis\": \"x16\", \"y\": [172.0], \"yaxis\": \"y16\"}, {\"alignmentgroup\": \"True\", \"hoverlabel\": {\"namelength\": 0}, \"hovertemplate\": \"state=%{x}<br>year=2016<br>month=Maio<br>number=%{y}\", \"legendgroup\": \"state=Minas Gerais\", \"marker\": {\"color\": \"#EF553B\"}, \"name\": \"state=Minas Gerais\", \"offsetgroup\": \"state=Minas Gerais\", \"orientation\": \"v\", \"showlegend\": false, \"textposition\": \"auto\", \"type\": \"bar\", \"x\": [\"Minas Gerais\"], \"xaxis\": \"x17\", \"y\": [186.0], \"yaxis\": \"y17\"}, {\"alignmentgroup\": \"True\", \"hoverlabel\": {\"namelength\": 0}, \"hovertemplate\": \"state=%{x}<br>year=2016<br>month=Junho<br>number=%{y}\", \"legendgroup\": \"state=Minas Gerais\", \"marker\": {\"color\": \"#EF553B\"}, \"name\": \"state=Minas Gerais\", \"offsetgroup\": \"state=Minas Gerais\", \"orientation\": \"v\", \"showlegend\": false, \"textposition\": \"auto\", \"type\": \"bar\", \"x\": [\"Minas Gerais\"], \"xaxis\": \"x18\", \"y\": [263.0], \"yaxis\": \"y18\"}, {\"alignmentgroup\": \"True\", \"hoverlabel\": {\"namelength\": 0}, \"hovertemplate\": \"state=%{x}<br>year=2016<br>month=Julho<br>number=%{y}\", \"legendgroup\": \"state=Minas Gerais\", \"marker\": {\"color\": \"#EF553B\"}, \"name\": \"state=Minas Gerais\", \"offsetgroup\": \"state=Minas Gerais\", \"orientation\": \"v\", \"showlegend\": false, \"textposition\": \"auto\", \"type\": \"bar\", \"x\": [\"Minas Gerais\"], \"xaxis\": \"x19\", \"y\": [1.004], \"yaxis\": \"y19\"}, {\"alignmentgroup\": \"True\", \"hoverlabel\": {\"namelength\": 0}, \"hovertemplate\": \"state=%{x}<br>year=2016<br>month=Agosto<br>number=%{y}\", \"legendgroup\": \"state=Minas Gerais\", \"marker\": {\"color\": \"#EF553B\"}, \"name\": \"state=Minas Gerais\", \"offsetgroup\": \"state=Minas Gerais\", \"orientation\": \"v\", \"showlegend\": false, \"textposition\": \"auto\", \"type\": \"bar\", \"x\": [\"Minas Gerais\"], \"xaxis\": \"x20\", \"y\": [1.433], \"yaxis\": \"y20\"}, {\"alignmentgroup\": \"True\", \"hoverlabel\": {\"namelength\": 0}, \"hovertemplate\": \"state=%{x}<br>year=2016<br>month=Setembro<br>number=%{y}\", \"legendgroup\": \"state=Minas Gerais\", \"marker\": {\"color\": \"#EF553B\"}, \"name\": \"state=Minas Gerais\", \"offsetgroup\": \"state=Minas Gerais\", \"orientation\": \"v\", \"showlegend\": false, \"textposition\": \"auto\", \"type\": \"bar\", \"x\": [\"Minas Gerais\"], \"xaxis\": \"x21\", \"y\": [2.093], \"yaxis\": \"y21\"}, {\"alignmentgroup\": \"True\", \"hoverlabel\": {\"namelength\": 0}, \"hovertemplate\": \"state=%{x}<br>year=2016<br>month=Outubro<br>number=%{y}\", \"legendgroup\": \"state=Minas Gerais\", \"marker\": {\"color\": \"#EF553B\"}, \"name\": \"state=Minas Gerais\", \"offsetgroup\": \"state=Minas Gerais\", \"orientation\": \"v\", \"showlegend\": false, \"textposition\": \"auto\", \"type\": \"bar\", \"x\": [\"Minas Gerais\"], \"xaxis\": \"x22\", \"y\": [948.0], \"yaxis\": \"y22\"}, {\"alignmentgroup\": \"True\", \"hoverlabel\": {\"namelength\": 0}, \"hovertemplate\": \"state=%{x}<br>year=2016<br>month=Novembro<br>number=%{y}\", \"legendgroup\": \"state=Minas Gerais\", \"marker\": {\"color\": \"#EF553B\"}, \"name\": \"state=Minas Gerais\", \"offsetgroup\": \"state=Minas Gerais\", \"orientation\": \"v\", \"showlegend\": false, \"textposition\": \"auto\", \"type\": \"bar\", \"x\": [\"Minas Gerais\"], \"xaxis\": \"x23\", \"y\": [126.0], \"yaxis\": \"y23\"}, {\"alignmentgroup\": \"True\", \"hoverlabel\": {\"namelength\": 0}, \"hovertemplate\": \"state=%{x}<br>year=2016<br>month=Dezembro<br>number=%{y}\", \"legendgroup\": \"state=Minas Gerais\", \"marker\": {\"color\": \"#EF553B\"}, \"name\": \"state=Minas Gerais\", \"offsetgroup\": \"state=Minas Gerais\", \"orientation\": \"v\", \"showlegend\": false, \"textposition\": \"auto\", \"type\": \"bar\", \"x\": [\"Minas Gerais\"], \"xaxis\": \"x24\", \"y\": [91.0], \"yaxis\": \"y24\"}, {\"alignmentgroup\": \"True\", \"hoverlabel\": {\"namelength\": 0}, \"hovertemplate\": \"state=%{x}<br>year=2017<br>month=Janeiro<br>number=%{y}\", \"legendgroup\": \"state=Minas Gerais\", \"marker\": {\"color\": \"#EF553B\"}, \"name\": \"state=Minas Gerais\", \"offsetgroup\": \"state=Minas Gerais\", \"orientation\": \"v\", \"showlegend\": false, \"textposition\": \"auto\", \"type\": \"bar\", \"x\": [\"Minas Gerais\"], \"xaxis\": \"x\", \"y\": [106.0], \"yaxis\": \"y\"}, {\"alignmentgroup\": \"True\", \"hoverlabel\": {\"namelength\": 0}, \"hovertemplate\": \"state=%{x}<br>year=2017<br>month=Fevereiro<br>number=%{y}\", \"legendgroup\": \"state=Minas Gerais\", \"marker\": {\"color\": \"#EF553B\"}, \"name\": \"state=Minas Gerais\", \"offsetgroup\": \"state=Minas Gerais\", \"orientation\": \"v\", \"showlegend\": false, \"textposition\": \"auto\", \"type\": \"bar\", \"x\": [\"Minas Gerais\"], \"xaxis\": \"x2\", \"y\": [61.0], \"yaxis\": \"y2\"}, {\"alignmentgroup\": \"True\", \"hoverlabel\": {\"namelength\": 0}, \"hovertemplate\": \"state=%{x}<br>year=2017<br>month=Mar\\u00e7o<br>number=%{y}\", \"legendgroup\": \"state=Minas Gerais\", \"marker\": {\"color\": \"#EF553B\"}, \"name\": \"state=Minas Gerais\", \"offsetgroup\": \"state=Minas Gerais\", \"orientation\": \"v\", \"showlegend\": false, \"textposition\": \"auto\", \"type\": \"bar\", \"x\": [\"Minas Gerais\"], \"xaxis\": \"x3\", \"y\": [105.0], \"yaxis\": \"y3\"}, {\"alignmentgroup\": \"True\", \"hoverlabel\": {\"namelength\": 0}, \"hovertemplate\": \"state=%{x}<br>year=2017<br>month=Abril<br>number=%{y}\", \"legendgroup\": \"state=Minas Gerais\", \"marker\": {\"color\": \"#EF553B\"}, \"name\": \"state=Minas Gerais\", \"offsetgroup\": \"state=Minas Gerais\", \"orientation\": \"v\", \"showlegend\": false, \"textposition\": \"auto\", \"type\": \"bar\", \"x\": [\"Minas Gerais\"], \"xaxis\": \"x4\", \"y\": [69.0], \"yaxis\": \"y4\"}, {\"alignmentgroup\": \"True\", \"hoverlabel\": {\"namelength\": 0}, \"hovertemplate\": \"state=%{x}<br>year=2017<br>month=Maio<br>number=%{y}\", \"legendgroup\": \"state=Minas Gerais\", \"marker\": {\"color\": \"#EF553B\"}, \"name\": \"state=Minas Gerais\", \"offsetgroup\": \"state=Minas Gerais\", \"orientation\": \"v\", \"showlegend\": false, \"textposition\": \"auto\", \"type\": \"bar\", \"x\": [\"Minas Gerais\"], \"xaxis\": \"x5\", \"y\": [125.0], \"yaxis\": \"y5\"}, {\"alignmentgroup\": \"True\", \"hoverlabel\": {\"namelength\": 0}, \"hovertemplate\": \"state=%{x}<br>year=2017<br>month=Junho<br>number=%{y}\", \"legendgroup\": \"state=Minas Gerais\", \"marker\": {\"color\": \"#EF553B\"}, \"name\": \"state=Minas Gerais\", \"offsetgroup\": \"state=Minas Gerais\", \"orientation\": \"v\", \"showlegend\": false, \"textposition\": \"auto\", \"type\": \"bar\", \"x\": [\"Minas Gerais\"], \"xaxis\": \"x6\", \"y\": [360.0], \"yaxis\": \"y6\"}, {\"alignmentgroup\": \"True\", \"hoverlabel\": {\"namelength\": 0}, \"hovertemplate\": \"state=%{x}<br>year=2017<br>month=Julho<br>number=%{y}\", \"legendgroup\": \"state=Minas Gerais\", \"marker\": {\"color\": \"#EF553B\"}, \"name\": \"state=Minas Gerais\", \"offsetgroup\": \"state=Minas Gerais\", \"orientation\": \"v\", \"showlegend\": false, \"textposition\": \"auto\", \"type\": \"bar\", \"x\": [\"Minas Gerais\"], \"xaxis\": \"x7\", \"y\": [610.0], \"yaxis\": \"y7\"}, {\"alignmentgroup\": \"True\", \"hoverlabel\": {\"namelength\": 0}, \"hovertemplate\": \"state=%{x}<br>year=2017<br>month=Agosto<br>number=%{y}\", \"legendgroup\": \"state=Minas Gerais\", \"marker\": {\"color\": \"#EF553B\"}, \"name\": \"state=Minas Gerais\", \"offsetgroup\": \"state=Minas Gerais\", \"orientation\": \"v\", \"showlegend\": false, \"textposition\": \"auto\", \"type\": \"bar\", \"x\": [\"Minas Gerais\"], \"xaxis\": \"x8\", \"y\": [2.142], \"yaxis\": \"y8\"}, {\"alignmentgroup\": \"True\", \"hoverlabel\": {\"namelength\": 0}, \"hovertemplate\": \"state=%{x}<br>year=2017<br>month=Setembro<br>number=%{y}\", \"legendgroup\": \"state=Minas Gerais\", \"marker\": {\"color\": \"#EF553B\"}, \"name\": \"state=Minas Gerais\", \"offsetgroup\": \"state=Minas Gerais\", \"orientation\": \"v\", \"showlegend\": false, \"textposition\": \"auto\", \"type\": \"bar\", \"x\": [\"Minas Gerais\"], \"xaxis\": \"x9\", \"y\": [4.697], \"yaxis\": \"y9\"}, {\"alignmentgroup\": \"True\", \"hoverlabel\": {\"namelength\": 0}, \"hovertemplate\": \"state=%{x}<br>year=2017<br>month=Outubro<br>number=%{y}\", \"legendgroup\": \"state=Minas Gerais\", \"marker\": {\"color\": \"#EF553B\"}, \"name\": \"state=Minas Gerais\", \"offsetgroup\": \"state=Minas Gerais\", \"orientation\": \"v\", \"showlegend\": false, \"textposition\": \"auto\", \"type\": \"bar\", \"x\": [\"Minas Gerais\"], \"xaxis\": \"x10\", \"y\": [3.062], \"yaxis\": \"y10\"}, {\"alignmentgroup\": \"True\", \"hoverlabel\": {\"namelength\": 0}, \"hovertemplate\": \"state=%{x}<br>year=2017<br>month=Novembro<br>number=%{y}\", \"legendgroup\": \"state=Minas Gerais\", \"marker\": {\"color\": \"#EF553B\"}, \"name\": \"state=Minas Gerais\", \"offsetgroup\": \"state=Minas Gerais\", \"orientation\": \"v\", \"showlegend\": false, \"textposition\": \"auto\", \"type\": \"bar\", \"x\": [\"Minas Gerais\"], \"xaxis\": \"x11\", \"y\": [136.0], \"yaxis\": \"y11\"}, {\"alignmentgroup\": \"True\", \"hoverlabel\": {\"namelength\": 0}, \"hovertemplate\": \"state=%{x}<br>year=2016<br>month=Janeiro<br>number=%{y}\", \"legendgroup\": \"state=Par\\u00e1\", \"marker\": {\"color\": \"#00cc96\"}, \"name\": \"state=Par\\u00e1\", \"offsetgroup\": \"state=Par\\u00e1\", \"orientation\": \"v\", \"showlegend\": true, \"textposition\": \"auto\", \"type\": \"bar\", \"x\": [\"Par\\u00e1\"], \"xaxis\": \"x13\", \"y\": [1.3219999999999998], \"yaxis\": \"y13\"}, {\"alignmentgroup\": \"True\", \"hoverlabel\": {\"namelength\": 0}, \"hovertemplate\": \"state=%{x}<br>year=2016<br>month=Fevereiro<br>number=%{y}\", \"legendgroup\": \"state=Par\\u00e1\", \"marker\": {\"color\": \"#00cc96\"}, \"name\": \"state=Par\\u00e1\", \"offsetgroup\": \"state=Par\\u00e1\", \"orientation\": \"v\", \"showlegend\": false, \"textposition\": \"auto\", \"type\": \"bar\", \"x\": [\"Par\\u00e1\"], \"xaxis\": \"x14\", \"y\": [430.0], \"yaxis\": \"y14\"}, {\"alignmentgroup\": \"True\", \"hoverlabel\": {\"namelength\": 0}, \"hovertemplate\": \"state=%{x}<br>year=2016<br>month=Mar\\u00e7o<br>number=%{y}\", \"legendgroup\": \"state=Par\\u00e1\", \"marker\": {\"color\": \"#00cc96\"}, \"name\": \"state=Par\\u00e1\", \"offsetgroup\": \"state=Par\\u00e1\", \"orientation\": \"v\", \"showlegend\": false, \"textposition\": \"auto\", \"type\": \"bar\", \"x\": [\"Par\\u00e1\"], \"xaxis\": \"x15\", \"y\": [81.0], \"yaxis\": \"y15\"}, {\"alignmentgroup\": \"True\", \"hoverlabel\": {\"namelength\": 0}, \"hovertemplate\": \"state=%{x}<br>year=2016<br>month=Abril<br>number=%{y}\", \"legendgroup\": \"state=Par\\u00e1\", \"marker\": {\"color\": \"#00cc96\"}, \"name\": \"state=Par\\u00e1\", \"offsetgroup\": \"state=Par\\u00e1\", \"orientation\": \"v\", \"showlegend\": false, \"textposition\": \"auto\", \"type\": \"bar\", \"x\": [\"Par\\u00e1\"], \"xaxis\": \"x16\", \"y\": [66.0], \"yaxis\": \"y16\"}, {\"alignmentgroup\": \"True\", \"hoverlabel\": {\"namelength\": 0}, \"hovertemplate\": \"state=%{x}<br>year=2016<br>month=Maio<br>number=%{y}\", \"legendgroup\": \"state=Par\\u00e1\", \"marker\": {\"color\": \"#00cc96\"}, \"name\": \"state=Par\\u00e1\", \"offsetgroup\": \"state=Par\\u00e1\", \"orientation\": \"v\", \"showlegend\": false, \"textposition\": \"auto\", \"type\": \"bar\", \"x\": [\"Par\\u00e1\"], \"xaxis\": \"x17\", \"y\": [154.0], \"yaxis\": \"y17\"}, {\"alignmentgroup\": \"True\", \"hoverlabel\": {\"namelength\": 0}, \"hovertemplate\": \"state=%{x}<br>year=2016<br>month=Junho<br>number=%{y}\", \"legendgroup\": \"state=Par\\u00e1\", \"marker\": {\"color\": \"#00cc96\"}, \"name\": \"state=Par\\u00e1\", \"offsetgroup\": \"state=Par\\u00e1\", \"orientation\": \"v\", \"showlegend\": false, \"textposition\": \"auto\", \"type\": \"bar\", \"x\": [\"Par\\u00e1\"], \"xaxis\": \"x18\", \"y\": [502.0], \"yaxis\": \"y18\"}, {\"alignmentgroup\": \"True\", \"hoverlabel\": {\"namelength\": 0}, \"hovertemplate\": \"state=%{x}<br>year=2016<br>month=Julho<br>number=%{y}\", \"legendgroup\": \"state=Par\\u00e1\", \"marker\": {\"color\": \"#00cc96\"}, \"name\": \"state=Par\\u00e1\", \"offsetgroup\": \"state=Par\\u00e1\", \"orientation\": \"v\", \"showlegend\": false, \"textposition\": \"auto\", \"type\": \"bar\", \"x\": [\"Par\\u00e1\"], \"xaxis\": \"x19\", \"y\": [1.579], \"yaxis\": \"y19\"}, {\"alignmentgroup\": \"True\", \"hoverlabel\": {\"namelength\": 0}, \"hovertemplate\": \"state=%{x}<br>year=2016<br>month=Agosto<br>number=%{y}\", \"legendgroup\": \"state=Par\\u00e1\", \"marker\": {\"color\": \"#00cc96\"}, \"name\": \"state=Par\\u00e1\", \"offsetgroup\": \"state=Par\\u00e1\", \"orientation\": \"v\", \"showlegend\": false, \"textposition\": \"auto\", \"type\": \"bar\", \"x\": [\"Par\\u00e1\"], \"xaxis\": \"x20\", \"y\": [4.863], \"yaxis\": \"y20\"}, {\"alignmentgroup\": \"True\", \"hoverlabel\": {\"namelength\": 0}, \"hovertemplate\": \"state=%{x}<br>year=2016<br>month=Setembro<br>number=%{y}\", \"legendgroup\": \"state=Par\\u00e1\", \"marker\": {\"color\": \"#00cc96\"}, \"name\": \"state=Par\\u00e1\", \"offsetgroup\": \"state=Par\\u00e1\", \"orientation\": \"v\", \"showlegend\": false, \"textposition\": \"auto\", \"type\": \"bar\", \"x\": [\"Par\\u00e1\"], \"xaxis\": \"x21\", \"y\": [3.9530000000000003], \"yaxis\": \"y21\"}, {\"alignmentgroup\": \"True\", \"hoverlabel\": {\"namelength\": 0}, \"hovertemplate\": \"state=%{x}<br>year=2016<br>month=Outubro<br>number=%{y}\", \"legendgroup\": \"state=Par\\u00e1\", \"marker\": {\"color\": \"#00cc96\"}, \"name\": \"state=Par\\u00e1\", \"offsetgroup\": \"state=Par\\u00e1\", \"orientation\": \"v\", \"showlegend\": false, \"textposition\": \"auto\", \"type\": \"bar\", \"x\": [\"Par\\u00e1\"], \"xaxis\": \"x22\", \"y\": [5.281000000000001], \"yaxis\": \"y22\"}, {\"alignmentgroup\": \"True\", \"hoverlabel\": {\"namelength\": 0}, \"hovertemplate\": \"state=%{x}<br>year=2016<br>month=Novembro<br>number=%{y}\", \"legendgroup\": \"state=Par\\u00e1\", \"marker\": {\"color\": \"#00cc96\"}, \"name\": \"state=Par\\u00e1\", \"offsetgroup\": \"state=Par\\u00e1\", \"orientation\": \"v\", \"showlegend\": false, \"textposition\": \"auto\", \"type\": \"bar\", \"x\": [\"Par\\u00e1\"], \"xaxis\": \"x23\", \"y\": [7.879], \"yaxis\": \"y23\"}, {\"alignmentgroup\": \"True\", \"hoverlabel\": {\"namelength\": 0}, \"hovertemplate\": \"state=%{x}<br>year=2016<br>month=Dezembro<br>number=%{y}\", \"legendgroup\": \"state=Par\\u00e1\", \"marker\": {\"color\": \"#00cc96\"}, \"name\": \"state=Par\\u00e1\", \"offsetgroup\": \"state=Par\\u00e1\", \"orientation\": \"v\", \"showlegend\": false, \"textposition\": \"auto\", \"type\": \"bar\", \"x\": [\"Par\\u00e1\"], \"xaxis\": \"x24\", \"y\": [3.3], \"yaxis\": \"y24\"}, {\"alignmentgroup\": \"True\", \"hoverlabel\": {\"namelength\": 0}, \"hovertemplate\": \"state=%{x}<br>year=2017<br>month=Janeiro<br>number=%{y}\", \"legendgroup\": \"state=Par\\u00e1\", \"marker\": {\"color\": \"#00cc96\"}, \"name\": \"state=Par\\u00e1\", \"offsetgroup\": \"state=Par\\u00e1\", \"orientation\": \"v\", \"showlegend\": false, \"textposition\": \"auto\", \"type\": \"bar\", \"x\": [\"Par\\u00e1\"], \"xaxis\": \"x\", \"y\": [219.0], \"yaxis\": \"y\"}, {\"alignmentgroup\": \"True\", \"hoverlabel\": {\"namelength\": 0}, \"hovertemplate\": \"state=%{x}<br>year=2017<br>month=Fevereiro<br>number=%{y}\", \"legendgroup\": \"state=Par\\u00e1\", \"marker\": {\"color\": \"#00cc96\"}, \"name\": \"state=Par\\u00e1\", \"offsetgroup\": \"state=Par\\u00e1\", \"orientation\": \"v\", \"showlegend\": false, \"textposition\": \"auto\", \"type\": \"bar\", \"x\": [\"Par\\u00e1\"], \"xaxis\": \"x2\", \"y\": [14.0], \"yaxis\": \"y2\"}, {\"alignmentgroup\": \"True\", \"hoverlabel\": {\"namelength\": 0}, \"hovertemplate\": \"state=%{x}<br>year=2017<br>month=Mar\\u00e7o<br>number=%{y}\", \"legendgroup\": \"state=Par\\u00e1\", \"marker\": {\"color\": \"#00cc96\"}, \"name\": \"state=Par\\u00e1\", \"offsetgroup\": \"state=Par\\u00e1\", \"orientation\": \"v\", \"showlegend\": false, \"textposition\": \"auto\", \"type\": \"bar\", \"x\": [\"Par\\u00e1\"], \"xaxis\": \"x3\", \"y\": [42.0], \"yaxis\": \"y3\"}, {\"alignmentgroup\": \"True\", \"hoverlabel\": {\"namelength\": 0}, \"hovertemplate\": \"state=%{x}<br>year=2017<br>month=Abril<br>number=%{y}\", \"legendgroup\": \"state=Par\\u00e1\", \"marker\": {\"color\": \"#00cc96\"}, \"name\": \"state=Par\\u00e1\", \"offsetgroup\": \"state=Par\\u00e1\", \"orientation\": \"v\", \"showlegend\": false, \"textposition\": \"auto\", \"type\": \"bar\", \"x\": [\"Par\\u00e1\"], \"xaxis\": \"x4\", \"y\": [45.0], \"yaxis\": \"y4\"}, {\"alignmentgroup\": \"True\", \"hoverlabel\": {\"namelength\": 0}, \"hovertemplate\": \"state=%{x}<br>year=2017<br>month=Maio<br>number=%{y}\", \"legendgroup\": \"state=Par\\u00e1\", \"marker\": {\"color\": \"#00cc96\"}, \"name\": \"state=Par\\u00e1\", \"offsetgroup\": \"state=Par\\u00e1\", \"orientation\": \"v\", \"showlegend\": false, \"textposition\": \"auto\", \"type\": \"bar\", \"x\": [\"Par\\u00e1\"], \"xaxis\": \"x5\", \"y\": [114.0], \"yaxis\": \"y5\"}, {\"alignmentgroup\": \"True\", \"hoverlabel\": {\"namelength\": 0}, \"hovertemplate\": \"state=%{x}<br>year=2017<br>month=Junho<br>number=%{y}\", \"legendgroup\": \"state=Par\\u00e1\", \"marker\": {\"color\": \"#00cc96\"}, \"name\": \"state=Par\\u00e1\", \"offsetgroup\": \"state=Par\\u00e1\", \"orientation\": \"v\", \"showlegend\": false, \"textposition\": \"auto\", \"type\": \"bar\", \"x\": [\"Par\\u00e1\"], \"xaxis\": \"x6\", \"y\": [679.0], \"yaxis\": \"y6\"}, {\"alignmentgroup\": \"True\", \"hoverlabel\": {\"namelength\": 0}, \"hovertemplate\": \"state=%{x}<br>year=2017<br>month=Julho<br>number=%{y}\", \"legendgroup\": \"state=Par\\u00e1\", \"marker\": {\"color\": \"#00cc96\"}, \"name\": \"state=Par\\u00e1\", \"offsetgroup\": \"state=Par\\u00e1\", \"orientation\": \"v\", \"showlegend\": false, \"textposition\": \"auto\", \"type\": \"bar\", \"x\": [\"Par\\u00e1\"], \"xaxis\": \"x7\", \"y\": [4.985], \"yaxis\": \"y7\"}, {\"alignmentgroup\": \"True\", \"hoverlabel\": {\"namelength\": 0}, \"hovertemplate\": \"state=%{x}<br>year=2017<br>month=Agosto<br>number=%{y}\", \"legendgroup\": \"state=Par\\u00e1\", \"marker\": {\"color\": \"#00cc96\"}, \"name\": \"state=Par\\u00e1\", \"offsetgroup\": \"state=Par\\u00e1\", \"orientation\": \"v\", \"showlegend\": false, \"textposition\": \"auto\", \"type\": \"bar\", \"x\": [\"Par\\u00e1\"], \"xaxis\": \"x8\", \"y\": [11.962], \"yaxis\": \"y8\"}, {\"alignmentgroup\": \"True\", \"hoverlabel\": {\"namelength\": 0}, \"hovertemplate\": \"state=%{x}<br>year=2017<br>month=Setembro<br>number=%{y}\", \"legendgroup\": \"state=Par\\u00e1\", \"marker\": {\"color\": \"#00cc96\"}, \"name\": \"state=Par\\u00e1\", \"offsetgroup\": \"state=Par\\u00e1\", \"orientation\": \"v\", \"showlegend\": false, \"textposition\": \"auto\", \"type\": \"bar\", \"x\": [\"Par\\u00e1\"], \"xaxis\": \"x9\", \"y\": [25.004], \"yaxis\": \"y9\"}, {\"alignmentgroup\": \"True\", \"hoverlabel\": {\"namelength\": 0}, \"hovertemplate\": \"state=%{x}<br>year=2017<br>month=Outubro<br>number=%{y}\", \"legendgroup\": \"state=Par\\u00e1\", \"marker\": {\"color\": \"#00cc96\"}, \"name\": \"state=Par\\u00e1\", \"offsetgroup\": \"state=Par\\u00e1\", \"orientation\": \"v\", \"showlegend\": false, \"textposition\": \"auto\", \"type\": \"bar\", \"x\": [\"Par\\u00e1\"], \"xaxis\": \"x10\", \"y\": [7.627999999999999], \"yaxis\": \"y10\"}, {\"alignmentgroup\": \"True\", \"hoverlabel\": {\"namelength\": 0}, \"hovertemplate\": \"state=%{x}<br>year=2017<br>month=Novembro<br>number=%{y}\", \"legendgroup\": \"state=Par\\u00e1\", \"marker\": {\"color\": \"#00cc96\"}, \"name\": \"state=Par\\u00e1\", \"offsetgroup\": \"state=Par\\u00e1\", \"orientation\": \"v\", \"showlegend\": false, \"textposition\": \"auto\", \"type\": \"bar\", \"x\": [\"Par\\u00e1\"], \"xaxis\": \"x11\", \"y\": [9.079], \"yaxis\": \"y11\"}, {\"alignmentgroup\": \"True\", \"hoverlabel\": {\"namelength\": 0}, \"hovertemplate\": \"state=%{x}<br>year=2016<br>month=Janeiro<br>number=%{y}\", \"legendgroup\": \"state=Paraiba\", \"marker\": {\"color\": \"#ab63fa\"}, \"name\": \"state=Paraiba\", \"offsetgroup\": \"state=Paraiba\", \"orientation\": \"v\", \"showlegend\": true, \"textposition\": \"auto\", \"type\": \"bar\", \"x\": [\"Paraiba\", \"Paraiba\"], \"xaxis\": \"x13\", \"y\": [18.0, 113.0], \"yaxis\": \"y13\"}, {\"alignmentgroup\": \"True\", \"hoverlabel\": {\"namelength\": 0}, \"hovertemplate\": \"state=%{x}<br>year=2016<br>month=Fevereiro<br>number=%{y}\", \"legendgroup\": \"state=Paraiba\", \"marker\": {\"color\": \"#ab63fa\"}, \"name\": \"state=Paraiba\", \"offsetgroup\": \"state=Paraiba\", \"orientation\": \"v\", \"showlegend\": false, \"textposition\": \"auto\", \"type\": \"bar\", \"x\": [\"Paraiba\", \"Paraiba\"], \"xaxis\": \"x14\", \"y\": [4.0, 31.0], \"yaxis\": \"y14\"}, {\"alignmentgroup\": \"True\", \"hoverlabel\": {\"namelength\": 0}, \"hovertemplate\": \"state=%{x}<br>year=2016<br>month=Mar\\u00e7o<br>number=%{y}\", \"legendgroup\": \"state=Paraiba\", \"marker\": {\"color\": \"#ab63fa\"}, \"name\": \"state=Paraiba\", \"offsetgroup\": \"state=Paraiba\", \"orientation\": \"v\", \"showlegend\": false, \"textposition\": \"auto\", \"type\": \"bar\", \"x\": [\"Paraiba\", \"Paraiba\"], \"xaxis\": \"x15\", \"y\": [1.0, 63.0], \"yaxis\": \"y15\"}, {\"alignmentgroup\": \"True\", \"hoverlabel\": {\"namelength\": 0}, \"hovertemplate\": \"state=%{x}<br>year=2016<br>month=Abril<br>number=%{y}\", \"legendgroup\": \"state=Paraiba\", \"marker\": {\"color\": \"#ab63fa\"}, \"name\": \"state=Paraiba\", \"offsetgroup\": \"state=Paraiba\", \"orientation\": \"v\", \"showlegend\": false, \"textposition\": \"auto\", \"type\": \"bar\", \"x\": [\"Paraiba\", \"Paraiba\"], \"xaxis\": \"x16\", \"y\": [1.0, 167.0], \"yaxis\": \"y16\"}, {\"alignmentgroup\": \"True\", \"hoverlabel\": {\"namelength\": 0}, \"hovertemplate\": \"state=%{x}<br>year=2016<br>month=Maio<br>number=%{y}\", \"legendgroup\": \"state=Paraiba\", \"marker\": {\"color\": \"#ab63fa\"}, \"name\": \"state=Paraiba\", \"offsetgroup\": \"state=Paraiba\", \"orientation\": \"v\", \"showlegend\": false, \"textposition\": \"auto\", \"type\": \"bar\", \"x\": [\"Paraiba\", \"Paraiba\"], \"xaxis\": \"x17\", \"y\": [1.0, 72.0], \"yaxis\": \"y17\"}, {\"alignmentgroup\": \"True\", \"hoverlabel\": {\"namelength\": 0}, \"hovertemplate\": \"state=%{x}<br>year=2016<br>month=Junho<br>number=%{y}\", \"legendgroup\": \"state=Paraiba\", \"marker\": {\"color\": \"#ab63fa\"}, \"name\": \"state=Paraiba\", \"offsetgroup\": \"state=Paraiba\", \"orientation\": \"v\", \"showlegend\": false, \"textposition\": \"auto\", \"type\": \"bar\", \"x\": [\"Paraiba\", \"Paraiba\"], \"xaxis\": \"x18\", \"y\": [4.0, 238.0], \"yaxis\": \"y18\"}, {\"alignmentgroup\": \"True\", \"hoverlabel\": {\"namelength\": 0}, \"hovertemplate\": \"state=%{x}<br>year=2016<br>month=Julho<br>number=%{y}\", \"legendgroup\": \"state=Paraiba\", \"marker\": {\"color\": \"#ab63fa\"}, \"name\": \"state=Paraiba\", \"offsetgroup\": \"state=Paraiba\", \"orientation\": \"v\", \"showlegend\": false, \"textposition\": \"auto\", \"type\": \"bar\", \"x\": [\"Paraiba\", \"Paraiba\"], \"xaxis\": \"x19\", \"y\": [22.0, 504.0], \"yaxis\": \"y19\"}, {\"alignmentgroup\": \"True\", \"hoverlabel\": {\"namelength\": 0}, \"hovertemplate\": \"state=%{x}<br>year=2016<br>month=Agosto<br>number=%{y}\", \"legendgroup\": \"state=Paraiba\", \"marker\": {\"color\": \"#ab63fa\"}, \"name\": \"state=Paraiba\", \"offsetgroup\": \"state=Paraiba\", \"orientation\": \"v\", \"showlegend\": false, \"textposition\": \"auto\", \"type\": \"bar\", \"x\": [\"Paraiba\", \"Paraiba\"], \"xaxis\": \"x20\", \"y\": [50.0, 1.01], \"yaxis\": \"y20\"}, {\"alignmentgroup\": \"True\", \"hoverlabel\": {\"namelength\": 0}, \"hovertemplate\": \"state=%{x}<br>year=2016<br>month=Setembro<br>number=%{y}\", \"legendgroup\": \"state=Paraiba\", \"marker\": {\"color\": \"#ab63fa\"}, \"name\": \"state=Paraiba\", \"offsetgroup\": \"state=Paraiba\", \"orientation\": \"v\", \"showlegend\": false, \"textposition\": \"auto\", \"type\": \"bar\", \"x\": [\"Paraiba\", \"Paraiba\"], \"xaxis\": \"x21\", \"y\": [131.0, 1.371], \"yaxis\": \"y21\"}, {\"alignmentgroup\": \"True\", \"hoverlabel\": {\"namelength\": 0}, \"hovertemplate\": \"state=%{x}<br>year=2016<br>month=Outubro<br>number=%{y}\", \"legendgroup\": \"state=Paraiba\", \"marker\": {\"color\": \"#ab63fa\"}, \"name\": \"state=Paraiba\", \"offsetgroup\": \"state=Paraiba\", \"orientation\": \"v\", \"showlegend\": false, \"textposition\": \"auto\", \"type\": \"bar\", \"x\": [\"Paraiba\", \"Paraiba\"], \"xaxis\": \"x22\", \"y\": [304.0, 193.0], \"yaxis\": \"y22\"}, {\"alignmentgroup\": \"True\", \"hoverlabel\": {\"namelength\": 0}, \"hovertemplate\": \"state=%{x}<br>year=2016<br>month=Novembro<br>number=%{y}\", \"legendgroup\": \"state=Paraiba\", \"marker\": {\"color\": \"#ab63fa\"}, \"name\": \"state=Paraiba\", \"offsetgroup\": \"state=Paraiba\", \"orientation\": \"v\", \"showlegend\": false, \"textposition\": \"auto\", \"type\": \"bar\", \"x\": [\"Paraiba\", \"Paraiba\"], \"xaxis\": \"x23\", \"y\": [132.0, 275.0], \"yaxis\": \"y23\"}, {\"alignmentgroup\": \"True\", \"hoverlabel\": {\"namelength\": 0}, \"hovertemplate\": \"state=%{x}<br>year=2016<br>month=Dezembro<br>number=%{y}\", \"legendgroup\": \"state=Paraiba\", \"marker\": {\"color\": \"#ab63fa\"}, \"name\": \"state=Paraiba\", \"offsetgroup\": \"state=Paraiba\", \"orientation\": \"v\", \"showlegend\": false, \"textposition\": \"auto\", \"type\": \"bar\", \"x\": [\"Paraiba\", \"Paraiba\"], \"xaxis\": \"x24\", \"y\": [8.0, 45.0], \"yaxis\": \"y24\"}, {\"alignmentgroup\": \"True\", \"hoverlabel\": {\"namelength\": 0}, \"hovertemplate\": \"state=%{x}<br>year=2017<br>month=Janeiro<br>number=%{y}\", \"legendgroup\": \"state=Paraiba\", \"marker\": {\"color\": \"#ab63fa\"}, \"name\": \"state=Paraiba\", \"offsetgroup\": \"state=Paraiba\", \"orientation\": \"v\", \"showlegend\": false, \"textposition\": \"auto\", \"type\": \"bar\", \"x\": [\"Paraiba\", \"Paraiba\"], \"xaxis\": \"x\", \"y\": [23.0, 55.0], \"yaxis\": \"y\"}, {\"alignmentgroup\": \"True\", \"hoverlabel\": {\"namelength\": 0}, \"hovertemplate\": \"state=%{x}<br>year=2017<br>month=Fevereiro<br>number=%{y}\", \"legendgroup\": \"state=Paraiba\", \"marker\": {\"color\": \"#ab63fa\"}, \"name\": \"state=Paraiba\", \"offsetgroup\": \"state=Paraiba\", \"orientation\": \"v\", \"showlegend\": false, \"textposition\": \"auto\", \"type\": \"bar\", \"x\": [\"Paraiba\", \"Paraiba\"], \"xaxis\": \"x2\", \"y\": [8.0, 60.0], \"yaxis\": \"y2\"}, {\"alignmentgroup\": \"True\", \"hoverlabel\": {\"namelength\": 0}, \"hovertemplate\": \"state=%{x}<br>year=2017<br>month=Mar\\u00e7o<br>number=%{y}\", \"legendgroup\": \"state=Paraiba\", \"marker\": {\"color\": \"#ab63fa\"}, \"name\": \"state=Paraiba\", \"offsetgroup\": \"state=Paraiba\", \"orientation\": \"v\", \"showlegend\": false, \"textposition\": \"auto\", \"type\": \"bar\", \"x\": [\"Paraiba\", \"Paraiba\"], \"xaxis\": \"x3\", \"y\": [2.0, 43.0], \"yaxis\": \"y3\"}, {\"alignmentgroup\": \"True\", \"hoverlabel\": {\"namelength\": 0}, \"hovertemplate\": \"state=%{x}<br>year=2017<br>month=Abril<br>number=%{y}\", \"legendgroup\": \"state=Paraiba\", \"marker\": {\"color\": \"#ab63fa\"}, \"name\": \"state=Paraiba\", \"offsetgroup\": \"state=Paraiba\", \"orientation\": \"v\", \"showlegend\": false, \"textposition\": \"auto\", \"type\": \"bar\", \"x\": [\"Paraiba\", \"Paraiba\"], \"xaxis\": \"x4\", \"y\": [1.0, 77.0], \"yaxis\": \"y4\"}, {\"alignmentgroup\": \"True\", \"hoverlabel\": {\"namelength\": 0}, \"hovertemplate\": \"state=%{x}<br>year=2017<br>month=Maio<br>number=%{y}\", \"legendgroup\": \"state=Paraiba\", \"marker\": {\"color\": \"#ab63fa\"}, \"name\": \"state=Paraiba\", \"offsetgroup\": \"state=Paraiba\", \"orientation\": \"v\", \"showlegend\": false, \"textposition\": \"auto\", \"type\": \"bar\", \"x\": [\"Paraiba\", \"Paraiba\"], \"xaxis\": \"x5\", \"y\": [1.0, 49.0], \"yaxis\": \"y5\"}, {\"alignmentgroup\": \"True\", \"hoverlabel\": {\"namelength\": 0}, \"hovertemplate\": \"state=%{x}<br>year=2017<br>month=Junho<br>number=%{y}\", \"legendgroup\": \"state=Paraiba\", \"marker\": {\"color\": \"#ab63fa\"}, \"name\": \"state=Paraiba\", \"offsetgroup\": \"state=Paraiba\", \"orientation\": \"v\", \"showlegend\": false, \"textposition\": \"auto\", \"type\": \"bar\", \"x\": [\"Paraiba\", \"Paraiba\"], \"xaxis\": \"x6\", \"y\": [0.0, 169.0], \"yaxis\": \"y6\"}, {\"alignmentgroup\": \"True\", \"hoverlabel\": {\"namelength\": 0}, \"hovertemplate\": \"state=%{x}<br>year=2017<br>month=Julho<br>number=%{y}\", \"legendgroup\": \"state=Paraiba\", \"marker\": {\"color\": \"#ab63fa\"}, \"name\": \"state=Paraiba\", \"offsetgroup\": \"state=Paraiba\", \"orientation\": \"v\", \"showlegend\": false, \"textposition\": \"auto\", \"type\": \"bar\", \"x\": [\"Paraiba\", \"Paraiba\"], \"xaxis\": \"x7\", \"y\": [2.0, 891.0], \"yaxis\": \"y7\"}, {\"alignmentgroup\": \"True\", \"hoverlabel\": {\"namelength\": 0}, \"hovertemplate\": \"state=%{x}<br>year=2017<br>month=Agosto<br>number=%{y}\", \"legendgroup\": \"state=Paraiba\", \"marker\": {\"color\": \"#ab63fa\"}, \"name\": \"state=Paraiba\", \"offsetgroup\": \"state=Paraiba\", \"orientation\": \"v\", \"showlegend\": false, \"textposition\": \"auto\", \"type\": \"bar\", \"x\": [\"Paraiba\", \"Paraiba\"], \"xaxis\": \"x8\", \"y\": [3.0, 987.0], \"yaxis\": \"y8\"}, {\"alignmentgroup\": \"True\", \"hoverlabel\": {\"namelength\": 0}, \"hovertemplate\": \"state=%{x}<br>year=2017<br>month=Setembro<br>number=%{y}\", \"legendgroup\": \"state=Paraiba\", \"marker\": {\"color\": \"#ab63fa\"}, \"name\": \"state=Paraiba\", \"offsetgroup\": \"state=Paraiba\", \"orientation\": \"v\", \"showlegend\": false, \"textposition\": \"auto\", \"type\": \"bar\", \"x\": [\"Paraiba\", \"Paraiba\"], \"xaxis\": \"x9\", \"y\": [30.0, 1.706], \"yaxis\": \"y9\"}, {\"alignmentgroup\": \"True\", \"hoverlabel\": {\"namelength\": 0}, \"hovertemplate\": \"state=%{x}<br>year=2017<br>month=Outubro<br>number=%{y}\", \"legendgroup\": \"state=Paraiba\", \"marker\": {\"color\": \"#ab63fa\"}, \"name\": \"state=Paraiba\", \"offsetgroup\": \"state=Paraiba\", \"orientation\": \"v\", \"showlegend\": false, \"textposition\": \"auto\", \"type\": \"bar\", \"x\": [\"Paraiba\", \"Paraiba\"], \"xaxis\": \"x10\", \"y\": [123.0, 134.0], \"yaxis\": \"y10\"}, {\"alignmentgroup\": \"True\", \"hoverlabel\": {\"namelength\": 0}, \"hovertemplate\": \"state=%{x}<br>year=2017<br>month=Novembro<br>number=%{y}\", \"legendgroup\": \"state=Paraiba\", \"marker\": {\"color\": \"#ab63fa\"}, \"name\": \"state=Paraiba\", \"offsetgroup\": \"state=Paraiba\", \"orientation\": \"v\", \"showlegend\": false, \"textposition\": \"auto\", \"type\": \"bar\", \"x\": [\"Paraiba\", \"Paraiba\"], \"xaxis\": \"x11\", \"y\": [101.0, 292.0], \"yaxis\": \"y11\"}, {\"alignmentgroup\": \"True\", \"hoverlabel\": {\"namelength\": 0}, \"hovertemplate\": \"state=%{x}<br>year=2016<br>month=Janeiro<br>number=%{y}\", \"legendgroup\": \"state=Pernambuco\", \"marker\": {\"color\": \"#FFA15A\"}, \"name\": \"state=Pernambuco\", \"offsetgroup\": \"state=Pernambuco\", \"orientation\": \"v\", \"showlegend\": true, \"textposition\": \"auto\", \"type\": \"bar\", \"x\": [\"Pernambuco\"], \"xaxis\": \"x13\", \"y\": [24.0], \"yaxis\": \"y13\"}, {\"alignmentgroup\": \"True\", \"hoverlabel\": {\"namelength\": 0}, \"hovertemplate\": \"state=%{x}<br>year=2016<br>month=Fevereiro<br>number=%{y}\", \"legendgroup\": \"state=Pernambuco\", \"marker\": {\"color\": \"#FFA15A\"}, \"name\": \"state=Pernambuco\", \"offsetgroup\": \"state=Pernambuco\", \"orientation\": \"v\", \"showlegend\": false, \"textposition\": \"auto\", \"type\": \"bar\", \"x\": [\"Pernambuco\"], \"xaxis\": \"x14\", \"y\": [19.0], \"yaxis\": \"y14\"}, {\"alignmentgroup\": \"True\", \"hoverlabel\": {\"namelength\": 0}, \"hovertemplate\": \"state=%{x}<br>year=2016<br>month=Mar\\u00e7o<br>number=%{y}\", \"legendgroup\": \"state=Pernambuco\", \"marker\": {\"color\": \"#FFA15A\"}, \"name\": \"state=Pernambuco\", \"offsetgroup\": \"state=Pernambuco\", \"orientation\": \"v\", \"showlegend\": false, \"textposition\": \"auto\", \"type\": \"bar\", \"x\": [\"Pernambuco\"], \"xaxis\": \"x15\", \"y\": [4.0], \"yaxis\": \"y15\"}, {\"alignmentgroup\": \"True\", \"hoverlabel\": {\"namelength\": 0}, \"hovertemplate\": \"state=%{x}<br>year=2016<br>month=Abril<br>number=%{y}\", \"legendgroup\": \"state=Pernambuco\", \"marker\": {\"color\": \"#FFA15A\"}, \"name\": \"state=Pernambuco\", \"offsetgroup\": \"state=Pernambuco\", \"orientation\": \"v\", \"showlegend\": false, \"textposition\": \"auto\", \"type\": \"bar\", \"x\": [\"Pernambuco\"], \"xaxis\": \"x16\", \"y\": [8.0], \"yaxis\": \"y16\"}, {\"alignmentgroup\": \"True\", \"hoverlabel\": {\"namelength\": 0}, \"hovertemplate\": \"state=%{x}<br>year=2016<br>month=Maio<br>number=%{y}\", \"legendgroup\": \"state=Pernambuco\", \"marker\": {\"color\": \"#FFA15A\"}, \"name\": \"state=Pernambuco\", \"offsetgroup\": \"state=Pernambuco\", \"orientation\": \"v\", \"showlegend\": false, \"textposition\": \"auto\", \"type\": \"bar\", \"x\": [\"Pernambuco\"], \"xaxis\": \"x17\", \"y\": [6.0], \"yaxis\": \"y17\"}, {\"alignmentgroup\": \"True\", \"hoverlabel\": {\"namelength\": 0}, \"hovertemplate\": \"state=%{x}<br>year=2016<br>month=Junho<br>number=%{y}\", \"legendgroup\": \"state=Pernambuco\", \"marker\": {\"color\": \"#FFA15A\"}, \"name\": \"state=Pernambuco\", \"offsetgroup\": \"state=Pernambuco\", \"orientation\": \"v\", \"showlegend\": false, \"textposition\": \"auto\", \"type\": \"bar\", \"x\": [\"Pernambuco\"], \"xaxis\": \"x18\", \"y\": [4.0], \"yaxis\": \"y18\"}, {\"alignmentgroup\": \"True\", \"hoverlabel\": {\"namelength\": 0}, \"hovertemplate\": \"state=%{x}<br>year=2016<br>month=Julho<br>number=%{y}\", \"legendgroup\": \"state=Pernambuco\", \"marker\": {\"color\": \"#FFA15A\"}, \"name\": \"state=Pernambuco\", \"offsetgroup\": \"state=Pernambuco\", \"orientation\": \"v\", \"showlegend\": false, \"textposition\": \"auto\", \"type\": \"bar\", \"x\": [\"Pernambuco\"], \"xaxis\": \"x19\", \"y\": [17.0], \"yaxis\": \"y19\"}, {\"alignmentgroup\": \"True\", \"hoverlabel\": {\"namelength\": 0}, \"hovertemplate\": \"state=%{x}<br>year=2016<br>month=Agosto<br>number=%{y}\", \"legendgroup\": \"state=Pernambuco\", \"marker\": {\"color\": \"#FFA15A\"}, \"name\": \"state=Pernambuco\", \"offsetgroup\": \"state=Pernambuco\", \"orientation\": \"v\", \"showlegend\": false, \"textposition\": \"auto\", \"type\": \"bar\", \"x\": [\"Pernambuco\"], \"xaxis\": \"x20\", \"y\": [42.0], \"yaxis\": \"y20\"}, {\"alignmentgroup\": \"True\", \"hoverlabel\": {\"namelength\": 0}, \"hovertemplate\": \"state=%{x}<br>year=2016<br>month=Setembro<br>number=%{y}\", \"legendgroup\": \"state=Pernambuco\", \"marker\": {\"color\": \"#FFA15A\"}, \"name\": \"state=Pernambuco\", \"offsetgroup\": \"state=Pernambuco\", \"orientation\": \"v\", \"showlegend\": false, \"textposition\": \"auto\", \"type\": \"bar\", \"x\": [\"Pernambuco\"], \"xaxis\": \"x21\", \"y\": [171.0], \"yaxis\": \"y21\"}, {\"alignmentgroup\": \"True\", \"hoverlabel\": {\"namelength\": 0}, \"hovertemplate\": \"state=%{x}<br>year=2016<br>month=Outubro<br>number=%{y}\", \"legendgroup\": \"state=Pernambuco\", \"marker\": {\"color\": \"#FFA15A\"}, \"name\": \"state=Pernambuco\", \"offsetgroup\": \"state=Pernambuco\", \"orientation\": \"v\", \"showlegend\": false, \"textposition\": \"auto\", \"type\": \"bar\", \"x\": [\"Pernambuco\"], \"xaxis\": \"x22\", \"y\": [319.0], \"yaxis\": \"y22\"}, {\"alignmentgroup\": \"True\", \"hoverlabel\": {\"namelength\": 0}, \"hovertemplate\": \"state=%{x}<br>year=2016<br>month=Novembro<br>number=%{y}\", \"legendgroup\": \"state=Pernambuco\", \"marker\": {\"color\": \"#FFA15A\"}, \"name\": \"state=Pernambuco\", \"offsetgroup\": \"state=Pernambuco\", \"orientation\": \"v\", \"showlegend\": false, \"textposition\": \"auto\", \"type\": \"bar\", \"x\": [\"Pernambuco\"], \"xaxis\": \"x23\", \"y\": [191.0], \"yaxis\": \"y23\"}, {\"alignmentgroup\": \"True\", \"hoverlabel\": {\"namelength\": 0}, \"hovertemplate\": \"state=%{x}<br>year=2016<br>month=Dezembro<br>number=%{y}\", \"legendgroup\": \"state=Pernambuco\", \"marker\": {\"color\": \"#FFA15A\"}, \"name\": \"state=Pernambuco\", \"offsetgroup\": \"state=Pernambuco\", \"orientation\": \"v\", \"showlegend\": false, \"textposition\": \"auto\", \"type\": \"bar\", \"x\": [\"Pernambuco\"], \"xaxis\": \"x24\", \"y\": [161.0], \"yaxis\": \"y24\"}, {\"alignmentgroup\": \"True\", \"hoverlabel\": {\"namelength\": 0}, \"hovertemplate\": \"state=%{x}<br>year=2017<br>month=Janeiro<br>number=%{y}\", \"legendgroup\": \"state=Pernambuco\", \"marker\": {\"color\": \"#FFA15A\"}, \"name\": \"state=Pernambuco\", \"offsetgroup\": \"state=Pernambuco\", \"orientation\": \"v\", \"showlegend\": false, \"textposition\": \"auto\", \"type\": \"bar\", \"x\": [\"Pernambuco\"], \"xaxis\": \"x\", \"y\": [52.0], \"yaxis\": \"y\"}, {\"alignmentgroup\": \"True\", \"hoverlabel\": {\"namelength\": 0}, \"hovertemplate\": \"state=%{x}<br>year=2017<br>month=Fevereiro<br>number=%{y}\", \"legendgroup\": \"state=Pernambuco\", \"marker\": {\"color\": \"#FFA15A\"}, \"name\": \"state=Pernambuco\", \"offsetgroup\": \"state=Pernambuco\", \"orientation\": \"v\", \"showlegend\": false, \"textposition\": \"auto\", \"type\": \"bar\", \"x\": [\"Pernambuco\"], \"xaxis\": \"x2\", \"y\": [23.0], \"yaxis\": \"y2\"}, {\"alignmentgroup\": \"True\", \"hoverlabel\": {\"namelength\": 0}, \"hovertemplate\": \"state=%{x}<br>year=2017<br>month=Mar\\u00e7o<br>number=%{y}\", \"legendgroup\": \"state=Pernambuco\", \"marker\": {\"color\": \"#FFA15A\"}, \"name\": \"state=Pernambuco\", \"offsetgroup\": \"state=Pernambuco\", \"orientation\": \"v\", \"showlegend\": false, \"textposition\": \"auto\", \"type\": \"bar\", \"x\": [\"Pernambuco\"], \"xaxis\": \"x3\", \"y\": [7.0], \"yaxis\": \"y3\"}, {\"alignmentgroup\": \"True\", \"hoverlabel\": {\"namelength\": 0}, \"hovertemplate\": \"state=%{x}<br>year=2017<br>month=Abril<br>number=%{y}\", \"legendgroup\": \"state=Pernambuco\", \"marker\": {\"color\": \"#FFA15A\"}, \"name\": \"state=Pernambuco\", \"offsetgroup\": \"state=Pernambuco\", \"orientation\": \"v\", \"showlegend\": false, \"textposition\": \"auto\", \"type\": \"bar\", \"x\": [\"Pernambuco\"], \"xaxis\": \"x4\", \"y\": [9.0], \"yaxis\": \"y4\"}, {\"alignmentgroup\": \"True\", \"hoverlabel\": {\"namelength\": 0}, \"hovertemplate\": \"state=%{x}<br>year=2017<br>month=Maio<br>number=%{y}\", \"legendgroup\": \"state=Pernambuco\", \"marker\": {\"color\": \"#FFA15A\"}, \"name\": \"state=Pernambuco\", \"offsetgroup\": \"state=Pernambuco\", \"orientation\": \"v\", \"showlegend\": false, \"textposition\": \"auto\", \"type\": \"bar\", \"x\": [\"Pernambuco\"], \"xaxis\": \"x5\", \"y\": [13.0], \"yaxis\": \"y5\"}, {\"alignmentgroup\": \"True\", \"hoverlabel\": {\"namelength\": 0}, \"hovertemplate\": \"state=%{x}<br>year=2017<br>month=Junho<br>number=%{y}\", \"legendgroup\": \"state=Pernambuco\", \"marker\": {\"color\": \"#FFA15A\"}, \"name\": \"state=Pernambuco\", \"offsetgroup\": \"state=Pernambuco\", \"orientation\": \"v\", \"showlegend\": false, \"textposition\": \"auto\", \"type\": \"bar\", \"x\": [\"Pernambuco\"], \"xaxis\": \"x6\", \"y\": [5.0], \"yaxis\": \"y6\"}, {\"alignmentgroup\": \"True\", \"hoverlabel\": {\"namelength\": 0}, \"hovertemplate\": \"state=%{x}<br>year=2017<br>month=Julho<br>number=%{y}\", \"legendgroup\": \"state=Pernambuco\", \"marker\": {\"color\": \"#FFA15A\"}, \"name\": \"state=Pernambuco\", \"offsetgroup\": \"state=Pernambuco\", \"orientation\": \"v\", \"showlegend\": false, \"textposition\": \"auto\", \"type\": \"bar\", \"x\": [\"Pernambuco\"], \"xaxis\": \"x7\", \"y\": [2.0], \"yaxis\": \"y7\"}, {\"alignmentgroup\": \"True\", \"hoverlabel\": {\"namelength\": 0}, \"hovertemplate\": \"state=%{x}<br>year=2017<br>month=Agosto<br>number=%{y}\", \"legendgroup\": \"state=Pernambuco\", \"marker\": {\"color\": \"#FFA15A\"}, \"name\": \"state=Pernambuco\", \"offsetgroup\": \"state=Pernambuco\", \"orientation\": \"v\", \"showlegend\": false, \"textposition\": \"auto\", \"type\": \"bar\", \"x\": [\"Pernambuco\"], \"xaxis\": \"x8\", \"y\": [20.0], \"yaxis\": \"y8\"}, {\"alignmentgroup\": \"True\", \"hoverlabel\": {\"namelength\": 0}, \"hovertemplate\": \"state=%{x}<br>year=2017<br>month=Setembro<br>number=%{y}\", \"legendgroup\": \"state=Pernambuco\", \"marker\": {\"color\": \"#FFA15A\"}, \"name\": \"state=Pernambuco\", \"offsetgroup\": \"state=Pernambuco\", \"orientation\": \"v\", \"showlegend\": false, \"textposition\": \"auto\", \"type\": \"bar\", \"x\": [\"Pernambuco\"], \"xaxis\": \"x9\", \"y\": [69.0], \"yaxis\": \"y9\"}, {\"alignmentgroup\": \"True\", \"hoverlabel\": {\"namelength\": 0}, \"hovertemplate\": \"state=%{x}<br>year=2017<br>month=Outubro<br>number=%{y}\", \"legendgroup\": \"state=Pernambuco\", \"marker\": {\"color\": \"#FFA15A\"}, \"name\": \"state=Pernambuco\", \"offsetgroup\": \"state=Pernambuco\", \"orientation\": \"v\", \"showlegend\": false, \"textposition\": \"auto\", \"type\": \"bar\", \"x\": [\"Pernambuco\"], \"xaxis\": \"x10\", \"y\": [256.0], \"yaxis\": \"y10\"}, {\"alignmentgroup\": \"True\", \"hoverlabel\": {\"namelength\": 0}, \"hovertemplate\": \"state=%{x}<br>year=2017<br>month=Novembro<br>number=%{y}\", \"legendgroup\": \"state=Pernambuco\", \"marker\": {\"color\": \"#FFA15A\"}, \"name\": \"state=Pernambuco\", \"offsetgroup\": \"state=Pernambuco\", \"orientation\": \"v\", \"showlegend\": false, \"textposition\": \"auto\", \"type\": \"bar\", \"x\": [\"Pernambuco\"], \"xaxis\": \"x11\", \"y\": [66.0], \"yaxis\": \"y11\"}, {\"alignmentgroup\": \"True\", \"hoverlabel\": {\"namelength\": 0}, \"hovertemplate\": \"state=%{x}<br>year=2016<br>month=Janeiro<br>number=%{y}\", \"legendgroup\": \"state=Piau\", \"marker\": {\"color\": \"#19d3f3\"}, \"name\": \"state=Piau\", \"offsetgroup\": \"state=Piau\", \"orientation\": \"v\", \"showlegend\": true, \"textposition\": \"auto\", \"type\": \"bar\", \"x\": [\"Piau\"], \"xaxis\": \"x13\", \"y\": [94.0], \"yaxis\": \"y13\"}, {\"alignmentgroup\": \"True\", \"hoverlabel\": {\"namelength\": 0}, \"hovertemplate\": \"state=%{x}<br>year=2016<br>month=Fevereiro<br>number=%{y}\", \"legendgroup\": \"state=Piau\", \"marker\": {\"color\": \"#19d3f3\"}, \"name\": \"state=Piau\", \"offsetgroup\": \"state=Piau\", \"orientation\": \"v\", \"showlegend\": false, \"textposition\": \"auto\", \"type\": \"bar\", \"x\": [\"Piau\"], \"xaxis\": \"x14\", \"y\": [97.0], \"yaxis\": \"y14\"}, {\"alignmentgroup\": \"True\", \"hoverlabel\": {\"namelength\": 0}, \"hovertemplate\": \"state=%{x}<br>year=2016<br>month=Mar\\u00e7o<br>number=%{y}\", \"legendgroup\": \"state=Piau\", \"marker\": {\"color\": \"#19d3f3\"}, \"name\": \"state=Piau\", \"offsetgroup\": \"state=Piau\", \"orientation\": \"v\", \"showlegend\": false, \"textposition\": \"auto\", \"type\": \"bar\", \"x\": [\"Piau\"], \"xaxis\": \"x15\", \"y\": [53.0], \"yaxis\": \"y15\"}, {\"alignmentgroup\": \"True\", \"hoverlabel\": {\"namelength\": 0}, \"hovertemplate\": \"state=%{x}<br>year=2016<br>month=Abril<br>number=%{y}\", \"legendgroup\": \"state=Piau\", \"marker\": {\"color\": \"#19d3f3\"}, \"name\": \"state=Piau\", \"offsetgroup\": \"state=Piau\", \"orientation\": \"v\", \"showlegend\": false, \"textposition\": \"auto\", \"type\": \"bar\", \"x\": [\"Piau\"], \"xaxis\": \"x16\", \"y\": [35.0], \"yaxis\": \"y16\"}, {\"alignmentgroup\": \"True\", \"hoverlabel\": {\"namelength\": 0}, \"hovertemplate\": \"state=%{x}<br>year=2016<br>month=Maio<br>number=%{y}\", \"legendgroup\": \"state=Piau\", \"marker\": {\"color\": \"#19d3f3\"}, \"name\": \"state=Piau\", \"offsetgroup\": \"state=Piau\", \"orientation\": \"v\", \"showlegend\": false, \"textposition\": \"auto\", \"type\": \"bar\", \"x\": [\"Piau\"], \"xaxis\": \"x17\", \"y\": [60.0], \"yaxis\": \"y17\"}, {\"alignmentgroup\": \"True\", \"hoverlabel\": {\"namelength\": 0}, \"hovertemplate\": \"state=%{x}<br>year=2016<br>month=Junho<br>number=%{y}\", \"legendgroup\": \"state=Piau\", \"marker\": {\"color\": \"#19d3f3\"}, \"name\": \"state=Piau\", \"offsetgroup\": \"state=Piau\", \"orientation\": \"v\", \"showlegend\": false, \"textposition\": \"auto\", \"type\": \"bar\", \"x\": [\"Piau\"], \"xaxis\": \"x18\", \"y\": [153.0], \"yaxis\": \"y18\"}, {\"alignmentgroup\": \"True\", \"hoverlabel\": {\"namelength\": 0}, \"hovertemplate\": \"state=%{x}<br>year=2016<br>month=Julho<br>number=%{y}\", \"legendgroup\": \"state=Piau\", \"marker\": {\"color\": \"#19d3f3\"}, \"name\": \"state=Piau\", \"offsetgroup\": \"state=Piau\", \"orientation\": \"v\", \"showlegend\": false, \"textposition\": \"auto\", \"type\": \"bar\", \"x\": [\"Piau\"], \"xaxis\": \"x19\", \"y\": [754.0], \"yaxis\": \"y19\"}, {\"alignmentgroup\": \"True\", \"hoverlabel\": {\"namelength\": 0}, \"hovertemplate\": \"state=%{x}<br>year=2016<br>month=Agosto<br>number=%{y}\", \"legendgroup\": \"state=Piau\", \"marker\": {\"color\": \"#19d3f3\"}, \"name\": \"state=Piau\", \"offsetgroup\": \"state=Piau\", \"orientation\": \"v\", \"showlegend\": false, \"textposition\": \"auto\", \"type\": \"bar\", \"x\": [\"Piau\"], \"xaxis\": \"x20\", \"y\": [1.6469999999999998], \"yaxis\": \"y20\"}, {\"alignmentgroup\": \"True\", \"hoverlabel\": {\"namelength\": 0}, \"hovertemplate\": \"state=%{x}<br>year=2016<br>month=Setembro<br>number=%{y}\", \"legendgroup\": \"state=Piau\", \"marker\": {\"color\": \"#19d3f3\"}, \"name\": \"state=Piau\", \"offsetgroup\": \"state=Piau\", \"orientation\": \"v\", \"showlegend\": false, \"textposition\": \"auto\", \"type\": \"bar\", \"x\": [\"Piau\"], \"xaxis\": \"x21\", \"y\": [1.3940000000000001], \"yaxis\": \"y21\"}, {\"alignmentgroup\": \"True\", \"hoverlabel\": {\"namelength\": 0}, \"hovertemplate\": \"state=%{x}<br>year=2016<br>month=Outubro<br>number=%{y}\", \"legendgroup\": \"state=Piau\", \"marker\": {\"color\": \"#19d3f3\"}, \"name\": \"state=Piau\", \"offsetgroup\": \"state=Piau\", \"orientation\": \"v\", \"showlegend\": false, \"textposition\": \"auto\", \"type\": \"bar\", \"x\": [\"Piau\"], \"xaxis\": \"x22\", \"y\": [2.5980000000000003], \"yaxis\": \"y22\"}, {\"alignmentgroup\": \"True\", \"hoverlabel\": {\"namelength\": 0}, \"hovertemplate\": \"state=%{x}<br>year=2016<br>month=Novembro<br>number=%{y}\", \"legendgroup\": \"state=Piau\", \"marker\": {\"color\": \"#19d3f3\"}, \"name\": \"state=Piau\", \"offsetgroup\": \"state=Piau\", \"orientation\": \"v\", \"showlegend\": false, \"textposition\": \"auto\", \"type\": \"bar\", \"x\": [\"Piau\"], \"xaxis\": \"x23\", \"y\": [1.126], \"yaxis\": \"y23\"}, {\"alignmentgroup\": \"True\", \"hoverlabel\": {\"namelength\": 0}, \"hovertemplate\": \"state=%{x}<br>year=2016<br>month=Dezembro<br>number=%{y}\", \"legendgroup\": \"state=Piau\", \"marker\": {\"color\": \"#19d3f3\"}, \"name\": \"state=Piau\", \"offsetgroup\": \"state=Piau\", \"orientation\": \"v\", \"showlegend\": false, \"textposition\": \"auto\", \"type\": \"bar\", \"x\": [\"Piau\"], \"xaxis\": \"x24\", \"y\": [374.0], \"yaxis\": \"y24\"}, {\"alignmentgroup\": \"True\", \"hoverlabel\": {\"namelength\": 0}, \"hovertemplate\": \"state=%{x}<br>year=2017<br>month=Janeiro<br>number=%{y}\", \"legendgroup\": \"state=Piau\", \"marker\": {\"color\": \"#19d3f3\"}, \"name\": \"state=Piau\", \"offsetgroup\": \"state=Piau\", \"orientation\": \"v\", \"showlegend\": false, \"textposition\": \"auto\", \"type\": \"bar\", \"x\": [\"Piau\"], \"xaxis\": \"x\", \"y\": [85.0], \"yaxis\": \"y\"}, {\"alignmentgroup\": \"True\", \"hoverlabel\": {\"namelength\": 0}, \"hovertemplate\": \"state=%{x}<br>year=2017<br>month=Fevereiro<br>number=%{y}\", \"legendgroup\": \"state=Piau\", \"marker\": {\"color\": \"#19d3f3\"}, \"name\": \"state=Piau\", \"offsetgroup\": \"state=Piau\", \"orientation\": \"v\", \"showlegend\": false, \"textposition\": \"auto\", \"type\": \"bar\", \"x\": [\"Piau\"], \"xaxis\": \"x2\", \"y\": [24.0], \"yaxis\": \"y2\"}, {\"alignmentgroup\": \"True\", \"hoverlabel\": {\"namelength\": 0}, \"hovertemplate\": \"state=%{x}<br>year=2017<br>month=Mar\\u00e7o<br>number=%{y}\", \"legendgroup\": \"state=Piau\", \"marker\": {\"color\": \"#19d3f3\"}, \"name\": \"state=Piau\", \"offsetgroup\": \"state=Piau\", \"orientation\": \"v\", \"showlegend\": false, \"textposition\": \"auto\", \"type\": \"bar\", \"x\": [\"Piau\"], \"xaxis\": \"x3\", \"y\": [25.0], \"yaxis\": \"y3\"}, {\"alignmentgroup\": \"True\", \"hoverlabel\": {\"namelength\": 0}, \"hovertemplate\": \"state=%{x}<br>year=2017<br>month=Abril<br>number=%{y}\", \"legendgroup\": \"state=Piau\", \"marker\": {\"color\": \"#19d3f3\"}, \"name\": \"state=Piau\", \"offsetgroup\": \"state=Piau\", \"orientation\": \"v\", \"showlegend\": false, \"textposition\": \"auto\", \"type\": \"bar\", \"x\": [\"Piau\"], \"xaxis\": \"x4\", \"y\": [25.0], \"yaxis\": \"y4\"}, {\"alignmentgroup\": \"True\", \"hoverlabel\": {\"namelength\": 0}, \"hovertemplate\": \"state=%{x}<br>year=2017<br>month=Maio<br>number=%{y}\", \"legendgroup\": \"state=Piau\", \"marker\": {\"color\": \"#19d3f3\"}, \"name\": \"state=Piau\", \"offsetgroup\": \"state=Piau\", \"orientation\": \"v\", \"showlegend\": false, \"textposition\": \"auto\", \"type\": \"bar\", \"x\": [\"Piau\"], \"xaxis\": \"x5\", \"y\": [36.0], \"yaxis\": \"y5\"}, {\"alignmentgroup\": \"True\", \"hoverlabel\": {\"namelength\": 0}, \"hovertemplate\": \"state=%{x}<br>year=2017<br>month=Junho<br>number=%{y}\", \"legendgroup\": \"state=Piau\", \"marker\": {\"color\": \"#19d3f3\"}, \"name\": \"state=Piau\", \"offsetgroup\": \"state=Piau\", \"orientation\": \"v\", \"showlegend\": false, \"textposition\": \"auto\", \"type\": \"bar\", \"x\": [\"Piau\"], \"xaxis\": \"x6\", \"y\": [193.0], \"yaxis\": \"y6\"}, {\"alignmentgroup\": \"True\", \"hoverlabel\": {\"namelength\": 0}, \"hovertemplate\": \"state=%{x}<br>year=2017<br>month=Julho<br>number=%{y}\", \"legendgroup\": \"state=Piau\", \"marker\": {\"color\": \"#19d3f3\"}, \"name\": \"state=Piau\", \"offsetgroup\": \"state=Piau\", \"orientation\": \"v\", \"showlegend\": false, \"textposition\": \"auto\", \"type\": \"bar\", \"x\": [\"Piau\"], \"xaxis\": \"x7\", \"y\": [643.0], \"yaxis\": \"y7\"}, {\"alignmentgroup\": \"True\", \"hoverlabel\": {\"namelength\": 0}, \"hovertemplate\": \"state=%{x}<br>year=2017<br>month=Agosto<br>number=%{y}\", \"legendgroup\": \"state=Piau\", \"marker\": {\"color\": \"#19d3f3\"}, \"name\": \"state=Piau\", \"offsetgroup\": \"state=Piau\", \"orientation\": \"v\", \"showlegend\": false, \"textposition\": \"auto\", \"type\": \"bar\", \"x\": [\"Piau\"], \"xaxis\": \"x8\", \"y\": [1.5719999999999998], \"yaxis\": \"y8\"}, {\"alignmentgroup\": \"True\", \"hoverlabel\": {\"namelength\": 0}, \"hovertemplate\": \"state=%{x}<br>year=2017<br>month=Setembro<br>number=%{y}\", \"legendgroup\": \"state=Piau\", \"marker\": {\"color\": \"#19d3f3\"}, \"name\": \"state=Piau\", \"offsetgroup\": \"state=Piau\", \"orientation\": \"v\", \"showlegend\": false, \"textposition\": \"auto\", \"type\": \"bar\", \"x\": [\"Piau\"], \"xaxis\": \"x9\", \"y\": [3.4219999999999997], \"yaxis\": \"y9\"}, {\"alignmentgroup\": \"True\", \"hoverlabel\": {\"namelength\": 0}, \"hovertemplate\": \"state=%{x}<br>year=2017<br>month=Outubro<br>number=%{y}\", \"legendgroup\": \"state=Piau\", \"marker\": {\"color\": \"#19d3f3\"}, \"name\": \"state=Piau\", \"offsetgroup\": \"state=Piau\", \"orientation\": \"v\", \"showlegend\": false, \"textposition\": \"auto\", \"type\": \"bar\", \"x\": [\"Piau\"], \"xaxis\": \"x10\", \"y\": [3.0039999999999996], \"yaxis\": \"y10\"}, {\"alignmentgroup\": \"True\", \"hoverlabel\": {\"namelength\": 0}, \"hovertemplate\": \"state=%{x}<br>year=2017<br>month=Novembro<br>number=%{y}\", \"legendgroup\": \"state=Piau\", \"marker\": {\"color\": \"#19d3f3\"}, \"name\": \"state=Piau\", \"offsetgroup\": \"state=Piau\", \"orientation\": \"v\", \"showlegend\": false, \"textposition\": \"auto\", \"type\": \"bar\", \"x\": [\"Piau\"], \"xaxis\": \"x11\", \"y\": [449.0], \"yaxis\": \"y11\"}, {\"alignmentgroup\": \"True\", \"hoverlabel\": {\"namelength\": 0}, \"hovertemplate\": \"state=%{x}<br>year=2016<br>month=Janeiro<br>number=%{y}\", \"legendgroup\": \"state=Rio\", \"marker\": {\"color\": \"#FF6692\"}, \"name\": \"state=Rio\", \"offsetgroup\": \"state=Rio\", \"orientation\": \"v\", \"showlegend\": true, \"textposition\": \"auto\", \"type\": \"bar\", \"x\": [\"Rio\", \"Rio\", \"Rio\"], \"xaxis\": \"x13\", \"y\": [9.0, 15.0, 68.0], \"yaxis\": \"y13\"}, {\"alignmentgroup\": \"True\", \"hoverlabel\": {\"namelength\": 0}, \"hovertemplate\": \"state=%{x}<br>year=2016<br>month=Fevereiro<br>number=%{y}\", \"legendgroup\": \"state=Rio\", \"marker\": {\"color\": \"#FF6692\"}, \"name\": \"state=Rio\", \"offsetgroup\": \"state=Rio\", \"orientation\": \"v\", \"showlegend\": false, \"textposition\": \"auto\", \"type\": \"bar\", \"x\": [\"Rio\", \"Rio\", \"Rio\"], \"xaxis\": \"x14\", \"y\": [16.0, 2.0, 55.0], \"yaxis\": \"y14\"}, {\"alignmentgroup\": \"True\", \"hoverlabel\": {\"namelength\": 0}, \"hovertemplate\": \"state=%{x}<br>year=2016<br>month=Mar\\u00e7o<br>number=%{y}\", \"legendgroup\": \"state=Rio\", \"marker\": {\"color\": \"#FF6692\"}, \"name\": \"state=Rio\", \"offsetgroup\": \"state=Rio\", \"orientation\": \"v\", \"showlegend\": false, \"textposition\": \"auto\", \"type\": \"bar\", \"x\": [\"Rio\", \"Rio\", \"Rio\"], \"xaxis\": \"x15\", \"y\": [16.0, 1.0, 30.0], \"yaxis\": \"y15\"}, {\"alignmentgroup\": \"True\", \"hoverlabel\": {\"namelength\": 0}, \"hovertemplate\": \"state=%{x}<br>year=2016<br>month=Abril<br>number=%{y}\", \"legendgroup\": \"state=Rio\", \"marker\": {\"color\": \"#FF6692\"}, \"name\": \"state=Rio\", \"offsetgroup\": \"state=Rio\", \"orientation\": \"v\", \"showlegend\": false, \"textposition\": \"auto\", \"type\": \"bar\", \"x\": [\"Rio\", \"Rio\", \"Rio\"], \"xaxis\": \"x16\", \"y\": [45.0, 0.0, 32.0], \"yaxis\": \"y16\"}, {\"alignmentgroup\": \"True\", \"hoverlabel\": {\"namelength\": 0}, \"hovertemplate\": \"state=%{x}<br>year=2016<br>month=Maio<br>number=%{y}\", \"legendgroup\": \"state=Rio\", \"marker\": {\"color\": \"#FF6692\"}, \"name\": \"state=Rio\", \"offsetgroup\": \"state=Rio\", \"orientation\": \"v\", \"showlegend\": false, \"textposition\": \"auto\", \"type\": \"bar\", \"x\": [\"Rio\", \"Rio\", \"Rio\"], \"xaxis\": \"x17\", \"y\": [30.0, 1.0, 37.0], \"yaxis\": \"y17\"}, {\"alignmentgroup\": \"True\", \"hoverlabel\": {\"namelength\": 0}, \"hovertemplate\": \"state=%{x}<br>year=2016<br>month=Junho<br>number=%{y}\", \"legendgroup\": \"state=Rio\", \"marker\": {\"color\": \"#FF6692\"}, \"name\": \"state=Rio\", \"offsetgroup\": \"state=Rio\", \"orientation\": \"v\", \"showlegend\": false, \"textposition\": \"auto\", \"type\": \"bar\", \"x\": [\"Rio\", \"Rio\", \"Rio\"], \"xaxis\": \"x18\", \"y\": [37.0, 4.0, 261.0], \"yaxis\": \"y18\"}, {\"alignmentgroup\": \"True\", \"hoverlabel\": {\"namelength\": 0}, \"hovertemplate\": \"state=%{x}<br>year=2016<br>month=Julho<br>number=%{y}\", \"legendgroup\": \"state=Rio\", \"marker\": {\"color\": \"#FF6692\"}, \"name\": \"state=Rio\", \"offsetgroup\": \"state=Rio\", \"orientation\": \"v\", \"showlegend\": false, \"textposition\": \"auto\", \"type\": \"bar\", \"x\": [\"Rio\", \"Rio\", \"Rio\"], \"xaxis\": \"x19\", \"y\": [131.0, 13.0, 865.0], \"yaxis\": \"y19\"}, {\"alignmentgroup\": \"True\", \"hoverlabel\": {\"namelength\": 0}, \"hovertemplate\": \"state=%{x}<br>year=2016<br>month=Agosto<br>number=%{y}\", \"legendgroup\": \"state=Rio\", \"marker\": {\"color\": \"#FF6692\"}, \"name\": \"state=Rio\", \"offsetgroup\": \"state=Rio\", \"orientation\": \"v\", \"showlegend\": false, \"textposition\": \"auto\", \"type\": \"bar\", \"x\": [\"Rio\", \"Rio\", \"Rio\"], \"xaxis\": \"x20\", \"y\": [241.0, 24.0, 1.111], \"yaxis\": \"y20\"}, {\"alignmentgroup\": \"True\", \"hoverlabel\": {\"namelength\": 0}, \"hovertemplate\": \"state=%{x}<br>year=2016<br>month=Setembro<br>number=%{y}\", \"legendgroup\": \"state=Rio\", \"marker\": {\"color\": \"#FF6692\"}, \"name\": \"state=Rio\", \"offsetgroup\": \"state=Rio\", \"orientation\": \"v\", \"showlegend\": false, \"textposition\": \"auto\", \"type\": \"bar\", \"x\": [\"Rio\", \"Rio\", \"Rio\"], \"xaxis\": \"x21\", \"y\": [195.0, 44.0, 628.0], \"yaxis\": \"y21\"}, {\"alignmentgroup\": \"True\", \"hoverlabel\": {\"namelength\": 0}, \"hovertemplate\": \"state=%{x}<br>year=2016<br>month=Outubro<br>number=%{y}\", \"legendgroup\": \"state=Rio\", \"marker\": {\"color\": \"#FF6692\"}, \"name\": \"state=Rio\", \"offsetgroup\": \"state=Rio\", \"orientation\": \"v\", \"showlegend\": false, \"textposition\": \"auto\", \"type\": \"bar\", \"x\": [\"Rio\", \"Rio\", \"Rio\"], \"xaxis\": \"x22\", \"y\": [30.0, 129.0, 93.0], \"yaxis\": \"y22\"}, {\"alignmentgroup\": \"True\", \"hoverlabel\": {\"namelength\": 0}, \"hovertemplate\": \"state=%{x}<br>year=2016<br>month=Novembro<br>number=%{y}\", \"legendgroup\": \"state=Rio\", \"marker\": {\"color\": \"#FF6692\"}, \"name\": \"state=Rio\", \"offsetgroup\": \"state=Rio\", \"orientation\": \"v\", \"showlegend\": false, \"textposition\": \"auto\", \"type\": \"bar\", \"x\": [\"Rio\", \"Rio\", \"Rio\"], \"xaxis\": \"x23\", \"y\": [19.0, 93.0, 105.0], \"yaxis\": \"y23\"}, {\"alignmentgroup\": \"True\", \"hoverlabel\": {\"namelength\": 0}, \"hovertemplate\": \"state=%{x}<br>year=2016<br>month=Dezembro<br>number=%{y}\", \"legendgroup\": \"state=Rio\", \"marker\": {\"color\": \"#FF6692\"}, \"name\": \"state=Rio\", \"offsetgroup\": \"state=Rio\", \"orientation\": \"v\", \"showlegend\": false, \"textposition\": \"auto\", \"type\": \"bar\", \"x\": [\"Rio\", \"Rio\", \"Rio\"], \"xaxis\": \"x24\", \"y\": [5.0, 75.0, 79.0], \"yaxis\": \"y24\"}, {\"alignmentgroup\": \"True\", \"hoverlabel\": {\"namelength\": 0}, \"hovertemplate\": \"state=%{x}<br>year=2017<br>month=Janeiro<br>number=%{y}\", \"legendgroup\": \"state=Rio\", \"marker\": {\"color\": \"#FF6692\"}, \"name\": \"state=Rio\", \"offsetgroup\": \"state=Rio\", \"orientation\": \"v\", \"showlegend\": false, \"textposition\": \"auto\", \"type\": \"bar\", \"x\": [\"Rio\", \"Rio\", \"Rio\"], \"xaxis\": \"x\", \"y\": [15.0, 28.0, 28.0], \"yaxis\": \"y\"}, {\"alignmentgroup\": \"True\", \"hoverlabel\": {\"namelength\": 0}, \"hovertemplate\": \"state=%{x}<br>year=2017<br>month=Fevereiro<br>number=%{y}\", \"legendgroup\": \"state=Rio\", \"marker\": {\"color\": \"#FF6692\"}, \"name\": \"state=Rio\", \"offsetgroup\": \"state=Rio\", \"orientation\": \"v\", \"showlegend\": false, \"textposition\": \"auto\", \"type\": \"bar\", \"x\": [\"Rio\", \"Rio\", \"Rio\"], \"xaxis\": \"x2\", \"y\": [34.0, 10.0, 31.0], \"yaxis\": \"y2\"}, {\"alignmentgroup\": \"True\", \"hoverlabel\": {\"namelength\": 0}, \"hovertemplate\": \"state=%{x}<br>year=2017<br>month=Mar\\u00e7o<br>number=%{y}\", \"legendgroup\": \"state=Rio\", \"marker\": {\"color\": \"#FF6692\"}, \"name\": \"state=Rio\", \"offsetgroup\": \"state=Rio\", \"orientation\": \"v\", \"showlegend\": false, \"textposition\": \"auto\", \"type\": \"bar\", \"x\": [\"Rio\", \"Rio\", \"Rio\"], \"xaxis\": \"x3\", \"y\": [10.0, 3.0, 34.0], \"yaxis\": \"y3\"}, {\"alignmentgroup\": \"True\", \"hoverlabel\": {\"namelength\": 0}, \"hovertemplate\": \"state=%{x}<br>year=2017<br>month=Abril<br>number=%{y}\", \"legendgroup\": \"state=Rio\", \"marker\": {\"color\": \"#FF6692\"}, \"name\": \"state=Rio\", \"offsetgroup\": \"state=Rio\", \"orientation\": \"v\", \"showlegend\": false, \"textposition\": \"auto\", \"type\": \"bar\", \"x\": [\"Rio\", \"Rio\", \"Rio\"], \"xaxis\": \"x4\", \"y\": [12.0, 6.0, 51.0], \"yaxis\": \"y4\"}, {\"alignmentgroup\": \"True\", \"hoverlabel\": {\"namelength\": 0}, \"hovertemplate\": \"state=%{x}<br>year=2017<br>month=Maio<br>number=%{y}\", \"legendgroup\": \"state=Rio\", \"marker\": {\"color\": \"#FF6692\"}, \"name\": \"state=Rio\", \"offsetgroup\": \"state=Rio\", \"orientation\": \"v\", \"showlegend\": false, \"textposition\": \"auto\", \"type\": \"bar\", \"x\": [\"Rio\", \"Rio\", \"Rio\"], \"xaxis\": \"x5\", \"y\": [15.0, 2.0, 43.0], \"yaxis\": \"y5\"}, {\"alignmentgroup\": \"True\", \"hoverlabel\": {\"namelength\": 0}, \"hovertemplate\": \"state=%{x}<br>year=2017<br>month=Junho<br>number=%{y}\", \"legendgroup\": \"state=Rio\", \"marker\": {\"color\": \"#FF6692\"}, \"name\": \"state=Rio\", \"offsetgroup\": \"state=Rio\", \"orientation\": \"v\", \"showlegend\": false, \"textposition\": \"auto\", \"type\": \"bar\", \"x\": [\"Rio\", \"Rio\", \"Rio\"], \"xaxis\": \"x6\", \"y\": [68.0, 3.0, 103.0], \"yaxis\": \"y6\"}, {\"alignmentgroup\": \"True\", \"hoverlabel\": {\"namelength\": 0}, \"hovertemplate\": \"state=%{x}<br>year=2017<br>month=Julho<br>number=%{y}\", \"legendgroup\": \"state=Rio\", \"marker\": {\"color\": \"#FF6692\"}, \"name\": \"state=Rio\", \"offsetgroup\": \"state=Rio\", \"orientation\": \"v\", \"showlegend\": false, \"textposition\": \"auto\", \"type\": \"bar\", \"x\": [\"Rio\", \"Rio\", \"Rio\"], \"xaxis\": \"x7\", \"y\": [70.0, 4.0, 885.0], \"yaxis\": \"y7\"}, {\"alignmentgroup\": \"True\", \"hoverlabel\": {\"namelength\": 0}, \"hovertemplate\": \"state=%{x}<br>year=2017<br>month=Agosto<br>number=%{y}\", \"legendgroup\": \"state=Rio\", \"marker\": {\"color\": \"#FF6692\"}, \"name\": \"state=Rio\", \"offsetgroup\": \"state=Rio\", \"orientation\": \"v\", \"showlegend\": false, \"textposition\": \"auto\", \"type\": \"bar\", \"x\": [\"Rio\", \"Rio\", \"Rio\"], \"xaxis\": \"x8\", \"y\": [164.0, 21.0, 819.0], \"yaxis\": \"y8\"}, {\"alignmentgroup\": \"True\", \"hoverlabel\": {\"namelength\": 0}, \"hovertemplate\": \"state=%{x}<br>year=2017<br>month=Setembro<br>number=%{y}\", \"legendgroup\": \"state=Rio\", \"marker\": {\"color\": \"#FF6692\"}, \"name\": \"state=Rio\", \"offsetgroup\": \"state=Rio\", \"orientation\": \"v\", \"showlegend\": false, \"textposition\": \"auto\", \"type\": \"bar\", \"x\": [\"Rio\", \"Rio\", \"Rio\"], \"xaxis\": \"x9\", \"y\": [728.0, 48.0, 343.0], \"yaxis\": \"y9\"}, {\"alignmentgroup\": \"True\", \"hoverlabel\": {\"namelength\": 0}, \"hovertemplate\": \"state=%{x}<br>year=2017<br>month=Outubro<br>number=%{y}\", \"legendgroup\": \"state=Rio\", \"marker\": {\"color\": \"#FF6692\"}, \"name\": \"state=Rio\", \"offsetgroup\": \"state=Rio\", \"orientation\": \"v\", \"showlegend\": false, \"textposition\": \"auto\", \"type\": \"bar\", \"x\": [\"Rio\", \"Rio\", \"Rio\"], \"xaxis\": \"x10\", \"y\": [238.0, 85.0, 101.0], \"yaxis\": \"y10\"}, {\"alignmentgroup\": \"True\", \"hoverlabel\": {\"namelength\": 0}, \"hovertemplate\": \"state=%{x}<br>year=2017<br>month=Novembro<br>number=%{y}\", \"legendgroup\": \"state=Rio\", \"marker\": {\"color\": \"#FF6692\"}, \"name\": \"state=Rio\", \"offsetgroup\": \"state=Rio\", \"orientation\": \"v\", \"showlegend\": false, \"textposition\": \"auto\", \"type\": \"bar\", \"x\": [\"Rio\", \"Rio\", \"Rio\"], \"xaxis\": \"x11\", \"y\": [43.0, 89.0, 137.0], \"yaxis\": \"y11\"}, {\"alignmentgroup\": \"True\", \"hoverlabel\": {\"namelength\": 0}, \"hovertemplate\": \"state=%{x}<br>year=2016<br>month=Janeiro<br>number=%{y}\", \"legendgroup\": \"state=Rondonia\", \"marker\": {\"color\": \"#B6E880\"}, \"name\": \"state=Rondonia\", \"offsetgroup\": \"state=Rondonia\", \"orientation\": \"v\", \"showlegend\": true, \"textposition\": \"auto\", \"type\": \"bar\", \"x\": [\"Rondonia\"], \"xaxis\": \"x13\", \"y\": [93.0], \"yaxis\": \"y13\"}, {\"alignmentgroup\": \"True\", \"hoverlabel\": {\"namelength\": 0}, \"hovertemplate\": \"state=%{x}<br>year=2016<br>month=Fevereiro<br>number=%{y}\", \"legendgroup\": \"state=Rondonia\", \"marker\": {\"color\": \"#B6E880\"}, \"name\": \"state=Rondonia\", \"offsetgroup\": \"state=Rondonia\", \"orientation\": \"v\", \"showlegend\": false, \"textposition\": \"auto\", \"type\": \"bar\", \"x\": [\"Rondonia\"], \"xaxis\": \"x14\", \"y\": [88.0], \"yaxis\": \"y14\"}, {\"alignmentgroup\": \"True\", \"hoverlabel\": {\"namelength\": 0}, \"hovertemplate\": \"state=%{x}<br>year=2016<br>month=Mar\\u00e7o<br>number=%{y}\", \"legendgroup\": \"state=Rondonia\", \"marker\": {\"color\": \"#B6E880\"}, \"name\": \"state=Rondonia\", \"offsetgroup\": \"state=Rondonia\", \"orientation\": \"v\", \"showlegend\": false, \"textposition\": \"auto\", \"type\": \"bar\", \"x\": [\"Rondonia\"], \"xaxis\": \"x15\", \"y\": [25.0], \"yaxis\": \"y15\"}, {\"alignmentgroup\": \"True\", \"hoverlabel\": {\"namelength\": 0}, \"hovertemplate\": \"state=%{x}<br>year=2016<br>month=Abril<br>number=%{y}\", \"legendgroup\": \"state=Rondonia\", \"marker\": {\"color\": \"#B6E880\"}, \"name\": \"state=Rondonia\", \"offsetgroup\": \"state=Rondonia\", \"orientation\": \"v\", \"showlegend\": false, \"textposition\": \"auto\", \"type\": \"bar\", \"x\": [\"Rondonia\"], \"xaxis\": \"x16\", \"y\": [59.0], \"yaxis\": \"y16\"}, {\"alignmentgroup\": \"True\", \"hoverlabel\": {\"namelength\": 0}, \"hovertemplate\": \"state=%{x}<br>year=2016<br>month=Maio<br>number=%{y}\", \"legendgroup\": \"state=Rondonia\", \"marker\": {\"color\": \"#B6E880\"}, \"name\": \"state=Rondonia\", \"offsetgroup\": \"state=Rondonia\", \"orientation\": \"v\", \"showlegend\": false, \"textposition\": \"auto\", \"type\": \"bar\", \"x\": [\"Rondonia\"], \"xaxis\": \"x17\", \"y\": [44.0], \"yaxis\": \"y17\"}, {\"alignmentgroup\": \"True\", \"hoverlabel\": {\"namelength\": 0}, \"hovertemplate\": \"state=%{x}<br>year=2016<br>month=Junho<br>number=%{y}\", \"legendgroup\": \"state=Rondonia\", \"marker\": {\"color\": \"#B6E880\"}, \"name\": \"state=Rondonia\", \"offsetgroup\": \"state=Rondonia\", \"orientation\": \"v\", \"showlegend\": false, \"textposition\": \"auto\", \"type\": \"bar\", \"x\": [\"Rondonia\"], \"xaxis\": \"x18\", \"y\": [170.0], \"yaxis\": \"y18\"}, {\"alignmentgroup\": \"True\", \"hoverlabel\": {\"namelength\": 0}, \"hovertemplate\": \"state=%{x}<br>year=2016<br>month=Julho<br>number=%{y}\", \"legendgroup\": \"state=Rondonia\", \"marker\": {\"color\": \"#B6E880\"}, \"name\": \"state=Rondonia\", \"offsetgroup\": \"state=Rondonia\", \"orientation\": \"v\", \"showlegend\": false, \"textposition\": \"auto\", \"type\": \"bar\", \"x\": [\"Rondonia\"], \"xaxis\": \"x19\", \"y\": [969.0], \"yaxis\": \"y19\"}, {\"alignmentgroup\": \"True\", \"hoverlabel\": {\"namelength\": 0}, \"hovertemplate\": \"state=%{x}<br>year=2016<br>month=Agosto<br>number=%{y}\", \"legendgroup\": \"state=Rondonia\", \"marker\": {\"color\": \"#B6E880\"}, \"name\": \"state=Rondonia\", \"offsetgroup\": \"state=Rondonia\", \"orientation\": \"v\", \"showlegend\": false, \"textposition\": \"auto\", \"type\": \"bar\", \"x\": [\"Rondonia\"], \"xaxis\": \"x20\", \"y\": [3.675], \"yaxis\": \"y20\"}, {\"alignmentgroup\": \"True\", \"hoverlabel\": {\"namelength\": 0}, \"hovertemplate\": \"state=%{x}<br>year=2016<br>month=Setembro<br>number=%{y}\", \"legendgroup\": \"state=Rondonia\", \"marker\": {\"color\": \"#B6E880\"}, \"name\": \"state=Rondonia\", \"offsetgroup\": \"state=Rondonia\", \"orientation\": \"v\", \"showlegend\": false, \"textposition\": \"auto\", \"type\": \"bar\", \"x\": [\"Rondonia\"], \"xaxis\": \"x21\", \"y\": [4.208], \"yaxis\": \"y21\"}, {\"alignmentgroup\": \"True\", \"hoverlabel\": {\"namelength\": 0}, \"hovertemplate\": \"state=%{x}<br>year=2016<br>month=Outubro<br>number=%{y}\", \"legendgroup\": \"state=Rondonia\", \"marker\": {\"color\": \"#B6E880\"}, \"name\": \"state=Rondonia\", \"offsetgroup\": \"state=Rondonia\", \"orientation\": \"v\", \"showlegend\": false, \"textposition\": \"auto\", \"type\": \"bar\", \"x\": [\"Rondonia\"], \"xaxis\": \"x22\", \"y\": [1.844], \"yaxis\": \"y22\"}, {\"alignmentgroup\": \"True\", \"hoverlabel\": {\"namelength\": 0}, \"hovertemplate\": \"state=%{x}<br>year=2016<br>month=Novembro<br>number=%{y}\", \"legendgroup\": \"state=Rondonia\", \"marker\": {\"color\": \"#B6E880\"}, \"name\": \"state=Rondonia\", \"offsetgroup\": \"state=Rondonia\", \"orientation\": \"v\", \"showlegend\": false, \"textposition\": \"auto\", \"type\": \"bar\", \"x\": [\"Rondonia\"], \"xaxis\": \"x23\", \"y\": [401.0], \"yaxis\": \"y23\"}, {\"alignmentgroup\": \"True\", \"hoverlabel\": {\"namelength\": 0}, \"hovertemplate\": \"state=%{x}<br>year=2016<br>month=Dezembro<br>number=%{y}\", \"legendgroup\": \"state=Rondonia\", \"marker\": {\"color\": \"#B6E880\"}, \"name\": \"state=Rondonia\", \"offsetgroup\": \"state=Rondonia\", \"orientation\": \"v\", \"showlegend\": false, \"textposition\": \"auto\", \"type\": \"bar\", \"x\": [\"Rondonia\"], \"xaxis\": \"x24\", \"y\": [148.0], \"yaxis\": \"y24\"}, {\"alignmentgroup\": \"True\", \"hoverlabel\": {\"namelength\": 0}, \"hovertemplate\": \"state=%{x}<br>year=2017<br>month=Janeiro<br>number=%{y}\", \"legendgroup\": \"state=Rondonia\", \"marker\": {\"color\": \"#B6E880\"}, \"name\": \"state=Rondonia\", \"offsetgroup\": \"state=Rondonia\", \"orientation\": \"v\", \"showlegend\": false, \"textposition\": \"auto\", \"type\": \"bar\", \"x\": [\"Rondonia\"], \"xaxis\": \"x\", \"y\": [44.0], \"yaxis\": \"y\"}, {\"alignmentgroup\": \"True\", \"hoverlabel\": {\"namelength\": 0}, \"hovertemplate\": \"state=%{x}<br>year=2017<br>month=Fevereiro<br>number=%{y}\", \"legendgroup\": \"state=Rondonia\", \"marker\": {\"color\": \"#B6E880\"}, \"name\": \"state=Rondonia\", \"offsetgroup\": \"state=Rondonia\", \"orientation\": \"v\", \"showlegend\": false, \"textposition\": \"auto\", \"type\": \"bar\", \"x\": [\"Rondonia\"], \"xaxis\": \"x2\", \"y\": [10.0], \"yaxis\": \"y2\"}, {\"alignmentgroup\": \"True\", \"hoverlabel\": {\"namelength\": 0}, \"hovertemplate\": \"state=%{x}<br>year=2017<br>month=Mar\\u00e7o<br>number=%{y}\", \"legendgroup\": \"state=Rondonia\", \"marker\": {\"color\": \"#B6E880\"}, \"name\": \"state=Rondonia\", \"offsetgroup\": \"state=Rondonia\", \"orientation\": \"v\", \"showlegend\": false, \"textposition\": \"auto\", \"type\": \"bar\", \"x\": [\"Rondonia\"], \"xaxis\": \"x3\", \"y\": [21.0], \"yaxis\": \"y3\"}, {\"alignmentgroup\": \"True\", \"hoverlabel\": {\"namelength\": 0}, \"hovertemplate\": \"state=%{x}<br>year=2017<br>month=Abril<br>number=%{y}\", \"legendgroup\": \"state=Rondonia\", \"marker\": {\"color\": \"#B6E880\"}, \"name\": \"state=Rondonia\", \"offsetgroup\": \"state=Rondonia\", \"orientation\": \"v\", \"showlegend\": false, \"textposition\": \"auto\", \"type\": \"bar\", \"x\": [\"Rondonia\"], \"xaxis\": \"x4\", \"y\": [19.0], \"yaxis\": \"y4\"}, {\"alignmentgroup\": \"True\", \"hoverlabel\": {\"namelength\": 0}, \"hovertemplate\": \"state=%{x}<br>year=2017<br>month=Maio<br>number=%{y}\", \"legendgroup\": \"state=Rondonia\", \"marker\": {\"color\": \"#B6E880\"}, \"name\": \"state=Rondonia\", \"offsetgroup\": \"state=Rondonia\", \"orientation\": \"v\", \"showlegend\": false, \"textposition\": \"auto\", \"type\": \"bar\", \"x\": [\"Rondonia\"], \"xaxis\": \"x5\", \"y\": [31.0], \"yaxis\": \"y5\"}, {\"alignmentgroup\": \"True\", \"hoverlabel\": {\"namelength\": 0}, \"hovertemplate\": \"state=%{x}<br>year=2017<br>month=Junho<br>number=%{y}\", \"legendgroup\": \"state=Rondonia\", \"marker\": {\"color\": \"#B6E880\"}, \"name\": \"state=Rondonia\", \"offsetgroup\": \"state=Rondonia\", \"orientation\": \"v\", \"showlegend\": false, \"textposition\": \"auto\", \"type\": \"bar\", \"x\": [\"Rondonia\"], \"xaxis\": \"x6\", \"y\": [192.0], \"yaxis\": \"y6\"}, {\"alignmentgroup\": \"True\", \"hoverlabel\": {\"namelength\": 0}, \"hovertemplate\": \"state=%{x}<br>year=2017<br>month=Julho<br>number=%{y}\", \"legendgroup\": \"state=Rondonia\", \"marker\": {\"color\": \"#B6E880\"}, \"name\": \"state=Rondonia\", \"offsetgroup\": \"state=Rondonia\", \"orientation\": \"v\", \"showlegend\": false, \"textposition\": \"auto\", \"type\": \"bar\", \"x\": [\"Rondonia\"], \"xaxis\": \"x7\", \"y\": [1.28], \"yaxis\": \"y7\"}, {\"alignmentgroup\": \"True\", \"hoverlabel\": {\"namelength\": 0}, \"hovertemplate\": \"state=%{x}<br>year=2017<br>month=Agosto<br>number=%{y}\", \"legendgroup\": \"state=Rondonia\", \"marker\": {\"color\": \"#B6E880\"}, \"name\": \"state=Rondonia\", \"offsetgroup\": \"state=Rondonia\", \"orientation\": \"v\", \"showlegend\": false, \"textposition\": \"auto\", \"type\": \"bar\", \"x\": [\"Rondonia\"], \"xaxis\": \"x8\", \"y\": [4.287], \"yaxis\": \"y8\"}, {\"alignmentgroup\": \"True\", \"hoverlabel\": {\"namelength\": 0}, \"hovertemplate\": \"state=%{x}<br>year=2017<br>month=Setembro<br>number=%{y}\", \"legendgroup\": \"state=Rondonia\", \"marker\": {\"color\": \"#B6E880\"}, \"name\": \"state=Rondonia\", \"offsetgroup\": \"state=Rondonia\", \"orientation\": \"v\", \"showlegend\": false, \"textposition\": \"auto\", \"type\": \"bar\", \"x\": [\"Rondonia\"], \"xaxis\": \"x9\", \"y\": [5.638], \"yaxis\": \"y9\"}, {\"alignmentgroup\": \"True\", \"hoverlabel\": {\"namelength\": 0}, \"hovertemplate\": \"state=%{x}<br>year=2017<br>month=Outubro<br>number=%{y}\", \"legendgroup\": \"state=Rondonia\", \"marker\": {\"color\": \"#B6E880\"}, \"name\": \"state=Rondonia\", \"offsetgroup\": \"state=Rondonia\", \"orientation\": \"v\", \"showlegend\": false, \"textposition\": \"auto\", \"type\": \"bar\", \"x\": [\"Rondonia\"], \"xaxis\": \"x10\", \"y\": [2.19], \"yaxis\": \"y10\"}, {\"alignmentgroup\": \"True\", \"hoverlabel\": {\"namelength\": 0}, \"hovertemplate\": \"state=%{x}<br>year=2017<br>month=Novembro<br>number=%{y}\", \"legendgroup\": \"state=Rondonia\", \"marker\": {\"color\": \"#B6E880\"}, \"name\": \"state=Rondonia\", \"offsetgroup\": \"state=Rondonia\", \"orientation\": \"v\", \"showlegend\": false, \"textposition\": \"auto\", \"type\": \"bar\", \"x\": [\"Rondonia\"], \"xaxis\": \"x11\", \"y\": [372.0], \"yaxis\": \"y11\"}, {\"alignmentgroup\": \"True\", \"hoverlabel\": {\"namelength\": 0}, \"hovertemplate\": \"state=%{x}<br>year=2016<br>month=Janeiro<br>number=%{y}\", \"legendgroup\": \"state=Roraima\", \"marker\": {\"color\": \"#FF97FF\"}, \"name\": \"state=Roraima\", \"offsetgroup\": \"state=Roraima\", \"orientation\": \"v\", \"showlegend\": true, \"textposition\": \"auto\", \"type\": \"bar\", \"x\": [\"Roraima\"], \"xaxis\": \"x13\", \"y\": [1.754], \"yaxis\": \"y13\"}, {\"alignmentgroup\": \"True\", \"hoverlabel\": {\"namelength\": 0}, \"hovertemplate\": \"state=%{x}<br>year=2016<br>month=Fevereiro<br>number=%{y}\", \"legendgroup\": \"state=Roraima\", \"marker\": {\"color\": \"#FF97FF\"}, \"name\": \"state=Roraima\", \"offsetgroup\": \"state=Roraima\", \"orientation\": \"v\", \"showlegend\": false, \"textposition\": \"auto\", \"type\": \"bar\", \"x\": [\"Roraima\"], \"xaxis\": \"x14\", \"y\": [171.0], \"yaxis\": \"y14\"}, {\"alignmentgroup\": \"True\", \"hoverlabel\": {\"namelength\": 0}, \"hovertemplate\": \"state=%{x}<br>year=2016<br>month=Mar\\u00e7o<br>number=%{y}\", \"legendgroup\": \"state=Roraima\", \"marker\": {\"color\": \"#FF97FF\"}, \"name\": \"state=Roraima\", \"offsetgroup\": \"state=Roraima\", \"orientation\": \"v\", \"showlegend\": false, \"textposition\": \"auto\", \"type\": \"bar\", \"x\": [\"Roraima\"], \"xaxis\": \"x15\", \"y\": [1.081], \"yaxis\": \"y15\"}, {\"alignmentgroup\": \"True\", \"hoverlabel\": {\"namelength\": 0}, \"hovertemplate\": \"state=%{x}<br>year=2016<br>month=Abril<br>number=%{y}\", \"legendgroup\": \"state=Roraima\", \"marker\": {\"color\": \"#FF97FF\"}, \"name\": \"state=Roraima\", \"offsetgroup\": \"state=Roraima\", \"orientation\": \"v\", \"showlegend\": false, \"textposition\": \"auto\", \"type\": \"bar\", \"x\": [\"Roraima\"], \"xaxis\": \"x16\", \"y\": [126.0], \"yaxis\": \"y16\"}, {\"alignmentgroup\": \"True\", \"hoverlabel\": {\"namelength\": 0}, \"hovertemplate\": \"state=%{x}<br>year=2016<br>month=Maio<br>number=%{y}\", \"legendgroup\": \"state=Roraima\", \"marker\": {\"color\": \"#FF97FF\"}, \"name\": \"state=Roraima\", \"offsetgroup\": \"state=Roraima\", \"orientation\": \"v\", \"showlegend\": false, \"textposition\": \"auto\", \"type\": \"bar\", \"x\": [\"Roraima\"], \"xaxis\": \"x17\", \"y\": [22.0], \"yaxis\": \"y17\"}, {\"alignmentgroup\": \"True\", \"hoverlabel\": {\"namelength\": 0}, \"hovertemplate\": \"state=%{x}<br>year=2016<br>month=Junho<br>number=%{y}\", \"legendgroup\": \"state=Roraima\", \"marker\": {\"color\": \"#FF97FF\"}, \"name\": \"state=Roraima\", \"offsetgroup\": \"state=Roraima\", \"orientation\": \"v\", \"showlegend\": false, \"textposition\": \"auto\", \"type\": \"bar\", \"x\": [\"Roraima\"], \"xaxis\": \"x18\", \"y\": [7.0], \"yaxis\": \"y18\"}, {\"alignmentgroup\": \"True\", \"hoverlabel\": {\"namelength\": 0}, \"hovertemplate\": \"state=%{x}<br>year=2016<br>month=Julho<br>number=%{y}\", \"legendgroup\": \"state=Roraima\", \"marker\": {\"color\": \"#FF97FF\"}, \"name\": \"state=Roraima\", \"offsetgroup\": \"state=Roraima\", \"orientation\": \"v\", \"showlegend\": false, \"textposition\": \"auto\", \"type\": \"bar\", \"x\": [\"Roraima\"], \"xaxis\": \"x19\", \"y\": [0.0], \"yaxis\": \"y19\"}, {\"alignmentgroup\": \"True\", \"hoverlabel\": {\"namelength\": 0}, \"hovertemplate\": \"state=%{x}<br>year=2016<br>month=Agosto<br>number=%{y}\", \"legendgroup\": \"state=Roraima\", \"marker\": {\"color\": \"#FF97FF\"}, \"name\": \"state=Roraima\", \"offsetgroup\": \"state=Roraima\", \"orientation\": \"v\", \"showlegend\": false, \"textposition\": \"auto\", \"type\": \"bar\", \"x\": [\"Roraima\"], \"xaxis\": \"x20\", \"y\": [11.0], \"yaxis\": \"y20\"}, {\"alignmentgroup\": \"True\", \"hoverlabel\": {\"namelength\": 0}, \"hovertemplate\": \"state=%{x}<br>year=2016<br>month=Setembro<br>number=%{y}\", \"legendgroup\": \"state=Roraima\", \"marker\": {\"color\": \"#FF97FF\"}, \"name\": \"state=Roraima\", \"offsetgroup\": \"state=Roraima\", \"orientation\": \"v\", \"showlegend\": false, \"textposition\": \"auto\", \"type\": \"bar\", \"x\": [\"Roraima\"], \"xaxis\": \"x21\", \"y\": [19.0], \"yaxis\": \"y21\"}, {\"alignmentgroup\": \"True\", \"hoverlabel\": {\"namelength\": 0}, \"hovertemplate\": \"state=%{x}<br>year=2016<br>month=Outubro<br>number=%{y}\", \"legendgroup\": \"state=Roraima\", \"marker\": {\"color\": \"#FF97FF\"}, \"name\": \"state=Roraima\", \"offsetgroup\": \"state=Roraima\", \"orientation\": \"v\", \"showlegend\": false, \"textposition\": \"auto\", \"type\": \"bar\", \"x\": [\"Roraima\"], \"xaxis\": \"x22\", \"y\": [101.0], \"yaxis\": \"y22\"}, {\"alignmentgroup\": \"True\", \"hoverlabel\": {\"namelength\": 0}, \"hovertemplate\": \"state=%{x}<br>year=2016<br>month=Novembro<br>number=%{y}\", \"legendgroup\": \"state=Roraima\", \"marker\": {\"color\": \"#FF97FF\"}, \"name\": \"state=Roraima\", \"offsetgroup\": \"state=Roraima\", \"orientation\": \"v\", \"showlegend\": false, \"textposition\": \"auto\", \"type\": \"bar\", \"x\": [\"Roraima\"], \"xaxis\": \"x23\", \"y\": [71.0], \"yaxis\": \"y23\"}, {\"alignmentgroup\": \"True\", \"hoverlabel\": {\"namelength\": 0}, \"hovertemplate\": \"state=%{x}<br>year=2016<br>month=Dezembro<br>number=%{y}\", \"legendgroup\": \"state=Roraima\", \"marker\": {\"color\": \"#FF97FF\"}, \"name\": \"state=Roraima\", \"offsetgroup\": \"state=Roraima\", \"orientation\": \"v\", \"showlegend\": false, \"textposition\": \"auto\", \"type\": \"bar\", \"x\": [\"Roraima\"], \"xaxis\": \"x24\", \"y\": [136.0], \"yaxis\": \"y24\"}, {\"alignmentgroup\": \"True\", \"hoverlabel\": {\"namelength\": 0}, \"hovertemplate\": \"state=%{x}<br>year=2017<br>month=Janeiro<br>number=%{y}\", \"legendgroup\": \"state=Roraima\", \"marker\": {\"color\": \"#FF97FF\"}, \"name\": \"state=Roraima\", \"offsetgroup\": \"state=Roraima\", \"orientation\": \"v\", \"showlegend\": false, \"textposition\": \"auto\", \"type\": \"bar\", \"x\": [\"Roraima\"], \"xaxis\": \"x\", \"y\": [108.0], \"yaxis\": \"y\"}, {\"alignmentgroup\": \"True\", \"hoverlabel\": {\"namelength\": 0}, \"hovertemplate\": \"state=%{x}<br>year=2017<br>month=Fevereiro<br>number=%{y}\", \"legendgroup\": \"state=Roraima\", \"marker\": {\"color\": \"#FF97FF\"}, \"name\": \"state=Roraima\", \"offsetgroup\": \"state=Roraima\", \"orientation\": \"v\", \"showlegend\": false, \"textposition\": \"auto\", \"type\": \"bar\", \"x\": [\"Roraima\"], \"xaxis\": \"x2\", \"y\": [129.0], \"yaxis\": \"y2\"}, {\"alignmentgroup\": \"True\", \"hoverlabel\": {\"namelength\": 0}, \"hovertemplate\": \"state=%{x}<br>year=2017<br>month=Mar\\u00e7o<br>number=%{y}\", \"legendgroup\": \"state=Roraima\", \"marker\": {\"color\": \"#FF97FF\"}, \"name\": \"state=Roraima\", \"offsetgroup\": \"state=Roraima\", \"orientation\": \"v\", \"showlegend\": false, \"textposition\": \"auto\", \"type\": \"bar\", \"x\": [\"Roraima\"], \"xaxis\": \"x3\", \"y\": [216.0], \"yaxis\": \"y3\"}, {\"alignmentgroup\": \"True\", \"hoverlabel\": {\"namelength\": 0}, \"hovertemplate\": \"state=%{x}<br>year=2017<br>month=Abril<br>number=%{y}\", \"legendgroup\": \"state=Roraima\", \"marker\": {\"color\": \"#FF97FF\"}, \"name\": \"state=Roraima\", \"offsetgroup\": \"state=Roraima\", \"orientation\": \"v\", \"showlegend\": false, \"textposition\": \"auto\", \"type\": \"bar\", \"x\": [\"Roraima\"], \"xaxis\": \"x4\", \"y\": [51.0], \"yaxis\": \"y4\"}, {\"alignmentgroup\": \"True\", \"hoverlabel\": {\"namelength\": 0}, \"hovertemplate\": \"state=%{x}<br>year=2017<br>month=Maio<br>number=%{y}\", \"legendgroup\": \"state=Roraima\", \"marker\": {\"color\": \"#FF97FF\"}, \"name\": \"state=Roraima\", \"offsetgroup\": \"state=Roraima\", \"orientation\": \"v\", \"showlegend\": false, \"textposition\": \"auto\", \"type\": \"bar\", \"x\": [\"Roraima\"], \"xaxis\": \"x5\", \"y\": [29.0], \"yaxis\": \"y5\"}, {\"alignmentgroup\": \"True\", \"hoverlabel\": {\"namelength\": 0}, \"hovertemplate\": \"state=%{x}<br>year=2017<br>month=Junho<br>number=%{y}\", \"legendgroup\": \"state=Roraima\", \"marker\": {\"color\": \"#FF97FF\"}, \"name\": \"state=Roraima\", \"offsetgroup\": \"state=Roraima\", \"orientation\": \"v\", \"showlegend\": false, \"textposition\": \"auto\", \"type\": \"bar\", \"x\": [\"Roraima\"], \"xaxis\": \"x6\", \"y\": [4.0], \"yaxis\": \"y6\"}, {\"alignmentgroup\": \"True\", \"hoverlabel\": {\"namelength\": 0}, \"hovertemplate\": \"state=%{x}<br>year=2017<br>month=Julho<br>number=%{y}\", \"legendgroup\": \"state=Roraima\", \"marker\": {\"color\": \"#FF97FF\"}, \"name\": \"state=Roraima\", \"offsetgroup\": \"state=Roraima\", \"orientation\": \"v\", \"showlegend\": false, \"textposition\": \"auto\", \"type\": \"bar\", \"x\": [\"Roraima\"], \"xaxis\": \"x7\", \"y\": [3.0], \"yaxis\": \"y7\"}, {\"alignmentgroup\": \"True\", \"hoverlabel\": {\"namelength\": 0}, \"hovertemplate\": \"state=%{x}<br>year=2017<br>month=Agosto<br>number=%{y}\", \"legendgroup\": \"state=Roraima\", \"marker\": {\"color\": \"#FF97FF\"}, \"name\": \"state=Roraima\", \"offsetgroup\": \"state=Roraima\", \"orientation\": \"v\", \"showlegend\": false, \"textposition\": \"auto\", \"type\": \"bar\", \"x\": [\"Roraima\"], \"xaxis\": \"x8\", \"y\": [35.0], \"yaxis\": \"y8\"}, {\"alignmentgroup\": \"True\", \"hoverlabel\": {\"namelength\": 0}, \"hovertemplate\": \"state=%{x}<br>year=2017<br>month=Setembro<br>number=%{y}\", \"legendgroup\": \"state=Roraima\", \"marker\": {\"color\": \"#FF97FF\"}, \"name\": \"state=Roraima\", \"offsetgroup\": \"state=Roraima\", \"orientation\": \"v\", \"showlegend\": false, \"textposition\": \"auto\", \"type\": \"bar\", \"x\": [\"Roraima\"], \"xaxis\": \"x9\", \"y\": [43.0], \"yaxis\": \"y9\"}, {\"alignmentgroup\": \"True\", \"hoverlabel\": {\"namelength\": 0}, \"hovertemplate\": \"state=%{x}<br>year=2017<br>month=Outubro<br>number=%{y}\", \"legendgroup\": \"state=Roraima\", \"marker\": {\"color\": \"#FF97FF\"}, \"name\": \"state=Roraima\", \"offsetgroup\": \"state=Roraima\", \"orientation\": \"v\", \"showlegend\": false, \"textposition\": \"auto\", \"type\": \"bar\", \"x\": [\"Roraima\"], \"xaxis\": \"x10\", \"y\": [156.0], \"yaxis\": \"y10\"}, {\"alignmentgroup\": \"True\", \"hoverlabel\": {\"namelength\": 0}, \"hovertemplate\": \"state=%{x}<br>year=2017<br>month=Novembro<br>number=%{y}\", \"legendgroup\": \"state=Roraima\", \"marker\": {\"color\": \"#FF97FF\"}, \"name\": \"state=Roraima\", \"offsetgroup\": \"state=Roraima\", \"orientation\": \"v\", \"showlegend\": false, \"textposition\": \"auto\", \"type\": \"bar\", \"x\": [\"Roraima\"], \"xaxis\": \"x11\", \"y\": [327.0], \"yaxis\": \"y11\"}, {\"alignmentgroup\": \"True\", \"hoverlabel\": {\"namelength\": 0}, \"hovertemplate\": \"state=%{x}<br>year=2016<br>month=Janeiro<br>number=%{y}\", \"legendgroup\": \"state=Santa Catarina\", \"marker\": {\"color\": \"#FECB52\"}, \"name\": \"state=Santa Catarina\", \"offsetgroup\": \"state=Santa Catarina\", \"orientation\": \"v\", \"showlegend\": true, \"textposition\": \"auto\", \"type\": \"bar\", \"x\": [\"Santa Catarina\"], \"xaxis\": \"x13\", \"y\": [53.0], \"yaxis\": \"y13\"}, {\"alignmentgroup\": \"True\", \"hoverlabel\": {\"namelength\": 0}, \"hovertemplate\": \"state=%{x}<br>year=2016<br>month=Fevereiro<br>number=%{y}\", \"legendgroup\": \"state=Santa Catarina\", \"marker\": {\"color\": \"#FECB52\"}, \"name\": \"state=Santa Catarina\", \"offsetgroup\": \"state=Santa Catarina\", \"orientation\": \"v\", \"showlegend\": false, \"textposition\": \"auto\", \"type\": \"bar\", \"x\": [\"Santa Catarina\"], \"xaxis\": \"x14\", \"y\": [10.0], \"yaxis\": \"y14\"}, {\"alignmentgroup\": \"True\", \"hoverlabel\": {\"namelength\": 0}, \"hovertemplate\": \"state=%{x}<br>year=2016<br>month=Mar\\u00e7o<br>number=%{y}\", \"legendgroup\": \"state=Santa Catarina\", \"marker\": {\"color\": \"#FECB52\"}, \"name\": \"state=Santa Catarina\", \"offsetgroup\": \"state=Santa Catarina\", \"orientation\": \"v\", \"showlegend\": false, \"textposition\": \"auto\", \"type\": \"bar\", \"x\": [\"Santa Catarina\"], \"xaxis\": \"x15\", \"y\": [21.0], \"yaxis\": \"y15\"}, {\"alignmentgroup\": \"True\", \"hoverlabel\": {\"namelength\": 0}, \"hovertemplate\": \"state=%{x}<br>year=2016<br>month=Abril<br>number=%{y}\", \"legendgroup\": \"state=Santa Catarina\", \"marker\": {\"color\": \"#FECB52\"}, \"name\": \"state=Santa Catarina\", \"offsetgroup\": \"state=Santa Catarina\", \"orientation\": \"v\", \"showlegend\": false, \"textposition\": \"auto\", \"type\": \"bar\", \"x\": [\"Santa Catarina\"], \"xaxis\": \"x16\", \"y\": [36.0], \"yaxis\": \"y16\"}, {\"alignmentgroup\": \"True\", \"hoverlabel\": {\"namelength\": 0}, \"hovertemplate\": \"state=%{x}<br>year=2016<br>month=Maio<br>number=%{y}\", \"legendgroup\": \"state=Santa Catarina\", \"marker\": {\"color\": \"#FECB52\"}, \"name\": \"state=Santa Catarina\", \"offsetgroup\": \"state=Santa Catarina\", \"orientation\": \"v\", \"showlegend\": false, \"textposition\": \"auto\", \"type\": \"bar\", \"x\": [\"Santa Catarina\"], \"xaxis\": \"x17\", \"y\": [26.0], \"yaxis\": \"y17\"}, {\"alignmentgroup\": \"True\", \"hoverlabel\": {\"namelength\": 0}, \"hovertemplate\": \"state=%{x}<br>year=2016<br>month=Junho<br>number=%{y}\", \"legendgroup\": \"state=Santa Catarina\", \"marker\": {\"color\": \"#FECB52\"}, \"name\": \"state=Santa Catarina\", \"offsetgroup\": \"state=Santa Catarina\", \"orientation\": \"v\", \"showlegend\": false, \"textposition\": \"auto\", \"type\": \"bar\", \"x\": [\"Santa Catarina\"], \"xaxis\": \"x18\", \"y\": [79.0], \"yaxis\": \"y18\"}, {\"alignmentgroup\": \"True\", \"hoverlabel\": {\"namelength\": 0}, \"hovertemplate\": \"state=%{x}<br>year=2016<br>month=Julho<br>number=%{y}\", \"legendgroup\": \"state=Santa Catarina\", \"marker\": {\"color\": \"#FECB52\"}, \"name\": \"state=Santa Catarina\", \"offsetgroup\": \"state=Santa Catarina\", \"orientation\": \"v\", \"showlegend\": false, \"textposition\": \"auto\", \"type\": \"bar\", \"x\": [\"Santa Catarina\"], \"xaxis\": \"x19\", \"y\": [480.0], \"yaxis\": \"y19\"}, {\"alignmentgroup\": \"True\", \"hoverlabel\": {\"namelength\": 0}, \"hovertemplate\": \"state=%{x}<br>year=2016<br>month=Agosto<br>number=%{y}\", \"legendgroup\": \"state=Santa Catarina\", \"marker\": {\"color\": \"#FECB52\"}, \"name\": \"state=Santa Catarina\", \"offsetgroup\": \"state=Santa Catarina\", \"orientation\": \"v\", \"showlegend\": false, \"textposition\": \"auto\", \"type\": \"bar\", \"x\": [\"Santa Catarina\"], \"xaxis\": \"x20\", \"y\": [765.0], \"yaxis\": \"y20\"}, {\"alignmentgroup\": \"True\", \"hoverlabel\": {\"namelength\": 0}, \"hovertemplate\": \"state=%{x}<br>year=2016<br>month=Setembro<br>number=%{y}\", \"legendgroup\": \"state=Santa Catarina\", \"marker\": {\"color\": \"#FECB52\"}, \"name\": \"state=Santa Catarina\", \"offsetgroup\": \"state=Santa Catarina\", \"orientation\": \"v\", \"showlegend\": false, \"textposition\": \"auto\", \"type\": \"bar\", \"x\": [\"Santa Catarina\"], \"xaxis\": \"x21\", \"y\": [644.0], \"yaxis\": \"y21\"}, {\"alignmentgroup\": \"True\", \"hoverlabel\": {\"namelength\": 0}, \"hovertemplate\": \"state=%{x}<br>year=2016<br>month=Outubro<br>number=%{y}\", \"legendgroup\": \"state=Santa Catarina\", \"marker\": {\"color\": \"#FECB52\"}, \"name\": \"state=Santa Catarina\", \"offsetgroup\": \"state=Santa Catarina\", \"orientation\": \"v\", \"showlegend\": false, \"textposition\": \"auto\", \"type\": \"bar\", \"x\": [\"Santa Catarina\"], \"xaxis\": \"x22\", \"y\": [56.0], \"yaxis\": \"y22\"}, {\"alignmentgroup\": \"True\", \"hoverlabel\": {\"namelength\": 0}, \"hovertemplate\": \"state=%{x}<br>year=2016<br>month=Novembro<br>number=%{y}\", \"legendgroup\": \"state=Santa Catarina\", \"marker\": {\"color\": \"#FECB52\"}, \"name\": \"state=Santa Catarina\", \"offsetgroup\": \"state=Santa Catarina\", \"orientation\": \"v\", \"showlegend\": false, \"textposition\": \"auto\", \"type\": \"bar\", \"x\": [\"Santa Catarina\"], \"xaxis\": \"x23\", \"y\": [156.0], \"yaxis\": \"y23\"}, {\"alignmentgroup\": \"True\", \"hoverlabel\": {\"namelength\": 0}, \"hovertemplate\": \"state=%{x}<br>year=2016<br>month=Dezembro<br>number=%{y}\", \"legendgroup\": \"state=Santa Catarina\", \"marker\": {\"color\": \"#FECB52\"}, \"name\": \"state=Santa Catarina\", \"offsetgroup\": \"state=Santa Catarina\", \"orientation\": \"v\", \"showlegend\": false, \"textposition\": \"auto\", \"type\": \"bar\", \"x\": [\"Santa Catarina\"], \"xaxis\": \"x24\", \"y\": [20.0], \"yaxis\": \"y24\"}, {\"alignmentgroup\": \"True\", \"hoverlabel\": {\"namelength\": 0}, \"hovertemplate\": \"state=%{x}<br>year=2017<br>month=Janeiro<br>number=%{y}\", \"legendgroup\": \"state=Santa Catarina\", \"marker\": {\"color\": \"#FECB52\"}, \"name\": \"state=Santa Catarina\", \"offsetgroup\": \"state=Santa Catarina\", \"orientation\": \"v\", \"showlegend\": false, \"textposition\": \"auto\", \"type\": \"bar\", \"x\": [\"Santa Catarina\"], \"xaxis\": \"x\", \"y\": [46.0], \"yaxis\": \"y\"}, {\"alignmentgroup\": \"True\", \"hoverlabel\": {\"namelength\": 0}, \"hovertemplate\": \"state=%{x}<br>year=2017<br>month=Fevereiro<br>number=%{y}\", \"legendgroup\": \"state=Santa Catarina\", \"marker\": {\"color\": \"#FECB52\"}, \"name\": \"state=Santa Catarina\", \"offsetgroup\": \"state=Santa Catarina\", \"orientation\": \"v\", \"showlegend\": false, \"textposition\": \"auto\", \"type\": \"bar\", \"x\": [\"Santa Catarina\"], \"xaxis\": \"x2\", \"y\": [31.0], \"yaxis\": \"y2\"}, {\"alignmentgroup\": \"True\", \"hoverlabel\": {\"namelength\": 0}, \"hovertemplate\": \"state=%{x}<br>year=2017<br>month=Mar\\u00e7o<br>number=%{y}\", \"legendgroup\": \"state=Santa Catarina\", \"marker\": {\"color\": \"#FECB52\"}, \"name\": \"state=Santa Catarina\", \"offsetgroup\": \"state=Santa Catarina\", \"orientation\": \"v\", \"showlegend\": false, \"textposition\": \"auto\", \"type\": \"bar\", \"x\": [\"Santa Catarina\"], \"xaxis\": \"x3\", \"y\": [12.0], \"yaxis\": \"y3\"}, {\"alignmentgroup\": \"True\", \"hoverlabel\": {\"namelength\": 0}, \"hovertemplate\": \"state=%{x}<br>year=2017<br>month=Abril<br>number=%{y}\", \"legendgroup\": \"state=Santa Catarina\", \"marker\": {\"color\": \"#FECB52\"}, \"name\": \"state=Santa Catarina\", \"offsetgroup\": \"state=Santa Catarina\", \"orientation\": \"v\", \"showlegend\": false, \"textposition\": \"auto\", \"type\": \"bar\", \"x\": [\"Santa Catarina\"], \"xaxis\": \"x4\", \"y\": [26.0], \"yaxis\": \"y4\"}, {\"alignmentgroup\": \"True\", \"hoverlabel\": {\"namelength\": 0}, \"hovertemplate\": \"state=%{x}<br>year=2017<br>month=Maio<br>number=%{y}\", \"legendgroup\": \"state=Santa Catarina\", \"marker\": {\"color\": \"#FECB52\"}, \"name\": \"state=Santa Catarina\", \"offsetgroup\": \"state=Santa Catarina\", \"orientation\": \"v\", \"showlegend\": false, \"textposition\": \"auto\", \"type\": \"bar\", \"x\": [\"Santa Catarina\"], \"xaxis\": \"x5\", \"y\": [36.0], \"yaxis\": \"y5\"}, {\"alignmentgroup\": \"True\", \"hoverlabel\": {\"namelength\": 0}, \"hovertemplate\": \"state=%{x}<br>year=2017<br>month=Junho<br>number=%{y}\", \"legendgroup\": \"state=Santa Catarina\", \"marker\": {\"color\": \"#FECB52\"}, \"name\": \"state=Santa Catarina\", \"offsetgroup\": \"state=Santa Catarina\", \"orientation\": \"v\", \"showlegend\": false, \"textposition\": \"auto\", \"type\": \"bar\", \"x\": [\"Santa Catarina\"], \"xaxis\": \"x6\", \"y\": [70.0], \"yaxis\": \"y6\"}, {\"alignmentgroup\": \"True\", \"hoverlabel\": {\"namelength\": 0}, \"hovertemplate\": \"state=%{x}<br>year=2017<br>month=Julho<br>number=%{y}\", \"legendgroup\": \"state=Santa Catarina\", \"marker\": {\"color\": \"#FECB52\"}, \"name\": \"state=Santa Catarina\", \"offsetgroup\": \"state=Santa Catarina\", \"orientation\": \"v\", \"showlegend\": false, \"textposition\": \"auto\", \"type\": \"bar\", \"x\": [\"Santa Catarina\"], \"xaxis\": \"x7\", \"y\": [591.0], \"yaxis\": \"y7\"}, {\"alignmentgroup\": \"True\", \"hoverlabel\": {\"namelength\": 0}, \"hovertemplate\": \"state=%{x}<br>year=2017<br>month=Agosto<br>number=%{y}\", \"legendgroup\": \"state=Santa Catarina\", \"marker\": {\"color\": \"#FECB52\"}, \"name\": \"state=Santa Catarina\", \"offsetgroup\": \"state=Santa Catarina\", \"orientation\": \"v\", \"showlegend\": false, \"textposition\": \"auto\", \"type\": \"bar\", \"x\": [\"Santa Catarina\"], \"xaxis\": \"x8\", \"y\": [713.0], \"yaxis\": \"y8\"}, {\"alignmentgroup\": \"True\", \"hoverlabel\": {\"namelength\": 0}, \"hovertemplate\": \"state=%{x}<br>year=2017<br>month=Setembro<br>number=%{y}\", \"legendgroup\": \"state=Santa Catarina\", \"marker\": {\"color\": \"#FECB52\"}, \"name\": \"state=Santa Catarina\", \"offsetgroup\": \"state=Santa Catarina\", \"orientation\": \"v\", \"showlegend\": false, \"textposition\": \"auto\", \"type\": \"bar\", \"x\": [\"Santa Catarina\"], \"xaxis\": \"x9\", \"y\": [626.0], \"yaxis\": \"y9\"}, {\"alignmentgroup\": \"True\", \"hoverlabel\": {\"namelength\": 0}, \"hovertemplate\": \"state=%{x}<br>year=2017<br>month=Outubro<br>number=%{y}\", \"legendgroup\": \"state=Santa Catarina\", \"marker\": {\"color\": \"#FECB52\"}, \"name\": \"state=Santa Catarina\", \"offsetgroup\": \"state=Santa Catarina\", \"orientation\": \"v\", \"showlegend\": false, \"textposition\": \"auto\", \"type\": \"bar\", \"x\": [\"Santa Catarina\"], \"xaxis\": \"x10\", \"y\": [51.0], \"yaxis\": \"y10\"}, {\"alignmentgroup\": \"True\", \"hoverlabel\": {\"namelength\": 0}, \"hovertemplate\": \"state=%{x}<br>year=2017<br>month=Novembro<br>number=%{y}\", \"legendgroup\": \"state=Santa Catarina\", \"marker\": {\"color\": \"#FECB52\"}, \"name\": \"state=Santa Catarina\", \"offsetgroup\": \"state=Santa Catarina\", \"orientation\": \"v\", \"showlegend\": false, \"textposition\": \"auto\", \"type\": \"bar\", \"x\": [\"Santa Catarina\"], \"xaxis\": \"x11\", \"y\": [152.0], \"yaxis\": \"y11\"}, {\"alignmentgroup\": \"True\", \"hoverlabel\": {\"namelength\": 0}, \"hovertemplate\": \"state=%{x}<br>year=2016<br>month=Janeiro<br>number=%{y}\", \"legendgroup\": \"state=Sao Paulo\", \"marker\": {\"color\": \"#636efa\"}, \"name\": \"state=Sao Paulo\", \"offsetgroup\": \"state=Sao Paulo\", \"orientation\": \"v\", \"showlegend\": true, \"textposition\": \"auto\", \"type\": \"bar\", \"x\": [\"Sao Paulo\"], \"xaxis\": \"x13\", \"y\": [85.0], \"yaxis\": \"y13\"}, {\"alignmentgroup\": \"True\", \"hoverlabel\": {\"namelength\": 0}, \"hovertemplate\": \"state=%{x}<br>year=2016<br>month=Fevereiro<br>number=%{y}\", \"legendgroup\": \"state=Sao Paulo\", \"marker\": {\"color\": \"#636efa\"}, \"name\": \"state=Sao Paulo\", \"offsetgroup\": \"state=Sao Paulo\", \"orientation\": \"v\", \"showlegend\": false, \"textposition\": \"auto\", \"type\": \"bar\", \"x\": [\"Sao Paulo\"], \"xaxis\": \"x14\", \"y\": [188.0], \"yaxis\": \"y14\"}, {\"alignmentgroup\": \"True\", \"hoverlabel\": {\"namelength\": 0}, \"hovertemplate\": \"state=%{x}<br>year=2016<br>month=Mar\\u00e7o<br>number=%{y}\", \"legendgroup\": \"state=Sao Paulo\", \"marker\": {\"color\": \"#636efa\"}, \"name\": \"state=Sao Paulo\", \"offsetgroup\": \"state=Sao Paulo\", \"orientation\": \"v\", \"showlegend\": false, \"textposition\": \"auto\", \"type\": \"bar\", \"x\": [\"Sao Paulo\"], \"xaxis\": \"x15\", \"y\": [82.0], \"yaxis\": \"y15\"}, {\"alignmentgroup\": \"True\", \"hoverlabel\": {\"namelength\": 0}, \"hovertemplate\": \"state=%{x}<br>year=2016<br>month=Abril<br>number=%{y}\", \"legendgroup\": \"state=Sao Paulo\", \"marker\": {\"color\": \"#636efa\"}, \"name\": \"state=Sao Paulo\", \"offsetgroup\": \"state=Sao Paulo\", \"orientation\": \"v\", \"showlegend\": false, \"textposition\": \"auto\", \"type\": \"bar\", \"x\": [\"Sao Paulo\"], \"xaxis\": \"x16\", \"y\": [307.0], \"yaxis\": \"y16\"}, {\"alignmentgroup\": \"True\", \"hoverlabel\": {\"namelength\": 0}, \"hovertemplate\": \"state=%{x}<br>year=2016<br>month=Maio<br>number=%{y}\", \"legendgroup\": \"state=Sao Paulo\", \"marker\": {\"color\": \"#636efa\"}, \"name\": \"state=Sao Paulo\", \"offsetgroup\": \"state=Sao Paulo\", \"orientation\": \"v\", \"showlegend\": false, \"textposition\": \"auto\", \"type\": \"bar\", \"x\": [\"Sao Paulo\"], \"xaxis\": \"x17\", \"y\": [139.0], \"yaxis\": \"y17\"}, {\"alignmentgroup\": \"True\", \"hoverlabel\": {\"namelength\": 0}, \"hovertemplate\": \"state=%{x}<br>year=2016<br>month=Junho<br>number=%{y}\", \"legendgroup\": \"state=Sao Paulo\", \"marker\": {\"color\": \"#636efa\"}, \"name\": \"state=Sao Paulo\", \"offsetgroup\": \"state=Sao Paulo\", \"orientation\": \"v\", \"showlegend\": false, \"textposition\": \"auto\", \"type\": \"bar\", \"x\": [\"Sao Paulo\"], \"xaxis\": \"x18\", \"y\": [197.0], \"yaxis\": \"y18\"}, {\"alignmentgroup\": \"True\", \"hoverlabel\": {\"namelength\": 0}, \"hovertemplate\": \"state=%{x}<br>year=2016<br>month=Julho<br>number=%{y}\", \"legendgroup\": \"state=Sao Paulo\", \"marker\": {\"color\": \"#636efa\"}, \"name\": \"state=Sao Paulo\", \"offsetgroup\": \"state=Sao Paulo\", \"orientation\": \"v\", \"showlegend\": false, \"textposition\": \"auto\", \"type\": \"bar\", \"x\": [\"Sao Paulo\"], \"xaxis\": \"x19\", \"y\": [687.0], \"yaxis\": \"y19\"}, {\"alignmentgroup\": \"True\", \"hoverlabel\": {\"namelength\": 0}, \"hovertemplate\": \"state=%{x}<br>year=2016<br>month=Agosto<br>number=%{y}\", \"legendgroup\": \"state=Sao Paulo\", \"marker\": {\"color\": \"#636efa\"}, \"name\": \"state=Sao Paulo\", \"offsetgroup\": \"state=Sao Paulo\", \"orientation\": \"v\", \"showlegend\": false, \"textposition\": \"auto\", \"type\": \"bar\", \"x\": [\"Sao Paulo\"], \"xaxis\": \"x20\", \"y\": [797.0], \"yaxis\": \"y20\"}, {\"alignmentgroup\": \"True\", \"hoverlabel\": {\"namelength\": 0}, \"hovertemplate\": \"state=%{x}<br>year=2016<br>month=Setembro<br>number=%{y}\", \"legendgroup\": \"state=Sao Paulo\", \"marker\": {\"color\": \"#636efa\"}, \"name\": \"state=Sao Paulo\", \"offsetgroup\": \"state=Sao Paulo\", \"orientation\": \"v\", \"showlegend\": false, \"textposition\": \"auto\", \"type\": \"bar\", \"x\": [\"Sao Paulo\"], \"xaxis\": \"x21\", \"y\": [490.0], \"yaxis\": \"y21\"}, {\"alignmentgroup\": \"True\", \"hoverlabel\": {\"namelength\": 0}, \"hovertemplate\": \"state=%{x}<br>year=2016<br>month=Outubro<br>number=%{y}\", \"legendgroup\": \"state=Sao Paulo\", \"marker\": {\"color\": \"#636efa\"}, \"name\": \"state=Sao Paulo\", \"offsetgroup\": \"state=Sao Paulo\", \"orientation\": \"v\", \"showlegend\": false, \"textposition\": \"auto\", \"type\": \"bar\", \"x\": [\"Sao Paulo\"], \"xaxis\": \"x22\", \"y\": [177.0], \"yaxis\": \"y22\"}, {\"alignmentgroup\": \"True\", \"hoverlabel\": {\"namelength\": 0}, \"hovertemplate\": \"state=%{x}<br>year=2016<br>month=Novembro<br>number=%{y}\", \"legendgroup\": \"state=Sao Paulo\", \"marker\": {\"color\": \"#636efa\"}, \"name\": \"state=Sao Paulo\", \"offsetgroup\": \"state=Sao Paulo\", \"orientation\": \"v\", \"showlegend\": false, \"textposition\": \"auto\", \"type\": \"bar\", \"x\": [\"Sao Paulo\"], \"xaxis\": \"x23\", \"y\": [39.0], \"yaxis\": \"y23\"}, {\"alignmentgroup\": \"True\", \"hoverlabel\": {\"namelength\": 0}, \"hovertemplate\": \"state=%{x}<br>year=2016<br>month=Dezembro<br>number=%{y}\", \"legendgroup\": \"state=Sao Paulo\", \"marker\": {\"color\": \"#636efa\"}, \"name\": \"state=Sao Paulo\", \"offsetgroup\": \"state=Sao Paulo\", \"orientation\": \"v\", \"showlegend\": false, \"textposition\": \"auto\", \"type\": \"bar\", \"x\": [\"Sao Paulo\"], \"xaxis\": \"x24\", \"y\": [47.0], \"yaxis\": \"y24\"}, {\"alignmentgroup\": \"True\", \"hoverlabel\": {\"namelength\": 0}, \"hovertemplate\": \"state=%{x}<br>year=2017<br>month=Janeiro<br>number=%{y}\", \"legendgroup\": \"state=Sao Paulo\", \"marker\": {\"color\": \"#636efa\"}, \"name\": \"state=Sao Paulo\", \"offsetgroup\": \"state=Sao Paulo\", \"orientation\": \"v\", \"showlegend\": false, \"textposition\": \"auto\", \"type\": \"bar\", \"x\": [\"Sao Paulo\"], \"xaxis\": \"x\", \"y\": [28.0], \"yaxis\": \"y\"}, {\"alignmentgroup\": \"True\", \"hoverlabel\": {\"namelength\": 0}, \"hovertemplate\": \"state=%{x}<br>year=2017<br>month=Fevereiro<br>number=%{y}\", \"legendgroup\": \"state=Sao Paulo\", \"marker\": {\"color\": \"#636efa\"}, \"name\": \"state=Sao Paulo\", \"offsetgroup\": \"state=Sao Paulo\", \"orientation\": \"v\", \"showlegend\": false, \"textposition\": \"auto\", \"type\": \"bar\", \"x\": [\"Sao Paulo\"], \"xaxis\": \"x2\", \"y\": [107.0], \"yaxis\": \"y2\"}, {\"alignmentgroup\": \"True\", \"hoverlabel\": {\"namelength\": 0}, \"hovertemplate\": \"state=%{x}<br>year=2017<br>month=Mar\\u00e7o<br>number=%{y}\", \"legendgroup\": \"state=Sao Paulo\", \"marker\": {\"color\": \"#636efa\"}, \"name\": \"state=Sao Paulo\", \"offsetgroup\": \"state=Sao Paulo\", \"orientation\": \"v\", \"showlegend\": false, \"textposition\": \"auto\", \"type\": \"bar\", \"x\": [\"Sao Paulo\"], \"xaxis\": \"x3\", \"y\": [103.0], \"yaxis\": \"y3\"}, {\"alignmentgroup\": \"True\", \"hoverlabel\": {\"namelength\": 0}, \"hovertemplate\": \"state=%{x}<br>year=2017<br>month=Abril<br>number=%{y}\", \"legendgroup\": \"state=Sao Paulo\", \"marker\": {\"color\": \"#636efa\"}, \"name\": \"state=Sao Paulo\", \"offsetgroup\": \"state=Sao Paulo\", \"orientation\": \"v\", \"showlegend\": false, \"textposition\": \"auto\", \"type\": \"bar\", \"x\": [\"Sao Paulo\"], \"xaxis\": \"x4\", \"y\": [41.0], \"yaxis\": \"y4\"}, {\"alignmentgroup\": \"True\", \"hoverlabel\": {\"namelength\": 0}, \"hovertemplate\": \"state=%{x}<br>year=2017<br>month=Maio<br>number=%{y}\", \"legendgroup\": \"state=Sao Paulo\", \"marker\": {\"color\": \"#636efa\"}, \"name\": \"state=Sao Paulo\", \"offsetgroup\": \"state=Sao Paulo\", \"orientation\": \"v\", \"showlegend\": false, \"textposition\": \"auto\", \"type\": \"bar\", \"x\": [\"Sao Paulo\"], \"xaxis\": \"x5\", \"y\": [43.0], \"yaxis\": \"y5\"}, {\"alignmentgroup\": \"True\", \"hoverlabel\": {\"namelength\": 0}, \"hovertemplate\": \"state=%{x}<br>year=2017<br>month=Junho<br>number=%{y}\", \"legendgroup\": \"state=Sao Paulo\", \"marker\": {\"color\": \"#636efa\"}, \"name\": \"state=Sao Paulo\", \"offsetgroup\": \"state=Sao Paulo\", \"orientation\": \"v\", \"showlegend\": false, \"textposition\": \"auto\", \"type\": \"bar\", \"x\": [\"Sao Paulo\"], \"xaxis\": \"x6\", \"y\": [217.0], \"yaxis\": \"y6\"}, {\"alignmentgroup\": \"True\", \"hoverlabel\": {\"namelength\": 0}, \"hovertemplate\": \"state=%{x}<br>year=2017<br>month=Julho<br>number=%{y}\", \"legendgroup\": \"state=Sao Paulo\", \"marker\": {\"color\": \"#636efa\"}, \"name\": \"state=Sao Paulo\", \"offsetgroup\": \"state=Sao Paulo\", \"orientation\": \"v\", \"showlegend\": false, \"textposition\": \"auto\", \"type\": \"bar\", \"x\": [\"Sao Paulo\"], \"xaxis\": \"x7\", \"y\": [802.0], \"yaxis\": \"y7\"}, {\"alignmentgroup\": \"True\", \"hoverlabel\": {\"namelength\": 0}, \"hovertemplate\": \"state=%{x}<br>year=2017<br>month=Agosto<br>number=%{y}\", \"legendgroup\": \"state=Sao Paulo\", \"marker\": {\"color\": \"#636efa\"}, \"name\": \"state=Sao Paulo\", \"offsetgroup\": \"state=Sao Paulo\", \"orientation\": \"v\", \"showlegend\": false, \"textposition\": \"auto\", \"type\": \"bar\", \"x\": [\"Sao Paulo\"], \"xaxis\": \"x8\", \"y\": [981.0], \"yaxis\": \"y8\"}, {\"alignmentgroup\": \"True\", \"hoverlabel\": {\"namelength\": 0}, \"hovertemplate\": \"state=%{x}<br>year=2017<br>month=Setembro<br>number=%{y}\", \"legendgroup\": \"state=Sao Paulo\", \"marker\": {\"color\": \"#636efa\"}, \"name\": \"state=Sao Paulo\", \"offsetgroup\": \"state=Sao Paulo\", \"orientation\": \"v\", \"showlegend\": false, \"textposition\": \"auto\", \"type\": \"bar\", \"x\": [\"Sao Paulo\"], \"xaxis\": \"x9\", \"y\": [2.8680000000000003], \"yaxis\": \"y9\"}, {\"alignmentgroup\": \"True\", \"hoverlabel\": {\"namelength\": 0}, \"hovertemplate\": \"state=%{x}<br>year=2017<br>month=Outubro<br>number=%{y}\", \"legendgroup\": \"state=Sao Paulo\", \"marker\": {\"color\": \"#636efa\"}, \"name\": \"state=Sao Paulo\", \"offsetgroup\": \"state=Sao Paulo\", \"orientation\": \"v\", \"showlegend\": false, \"textposition\": \"auto\", \"type\": \"bar\", \"x\": [\"Sao Paulo\"], \"xaxis\": \"x10\", \"y\": [179.0], \"yaxis\": \"y10\"}, {\"alignmentgroup\": \"True\", \"hoverlabel\": {\"namelength\": 0}, \"hovertemplate\": \"state=%{x}<br>year=2017<br>month=Novembro<br>number=%{y}\", \"legendgroup\": \"state=Sao Paulo\", \"marker\": {\"color\": \"#636efa\"}, \"name\": \"state=Sao Paulo\", \"offsetgroup\": \"state=Sao Paulo\", \"orientation\": \"v\", \"showlegend\": false, \"textposition\": \"auto\", \"type\": \"bar\", \"x\": [\"Sao Paulo\"], \"xaxis\": \"x11\", \"y\": [37.0], \"yaxis\": \"y11\"}, {\"alignmentgroup\": \"True\", \"hoverlabel\": {\"namelength\": 0}, \"hovertemplate\": \"state=%{x}<br>year=2016<br>month=Janeiro<br>number=%{y}\", \"legendgroup\": \"state=Sergipe\", \"marker\": {\"color\": \"#EF553B\"}, \"name\": \"state=Sergipe\", \"offsetgroup\": \"state=Sergipe\", \"orientation\": \"v\", \"showlegend\": true, \"textposition\": \"auto\", \"type\": \"bar\", \"x\": [\"Sergipe\"], \"xaxis\": \"x13\", \"y\": [9.0], \"yaxis\": \"y13\"}, {\"alignmentgroup\": \"True\", \"hoverlabel\": {\"namelength\": 0}, \"hovertemplate\": \"state=%{x}<br>year=2016<br>month=Fevereiro<br>number=%{y}\", \"legendgroup\": \"state=Sergipe\", \"marker\": {\"color\": \"#EF553B\"}, \"name\": \"state=Sergipe\", \"offsetgroup\": \"state=Sergipe\", \"orientation\": \"v\", \"showlegend\": false, \"textposition\": \"auto\", \"type\": \"bar\", \"x\": [\"Sergipe\"], \"xaxis\": \"x14\", \"y\": [22.0], \"yaxis\": \"y14\"}, {\"alignmentgroup\": \"True\", \"hoverlabel\": {\"namelength\": 0}, \"hovertemplate\": \"state=%{x}<br>year=2016<br>month=Mar\\u00e7o<br>number=%{y}\", \"legendgroup\": \"state=Sergipe\", \"marker\": {\"color\": \"#EF553B\"}, \"name\": \"state=Sergipe\", \"offsetgroup\": \"state=Sergipe\", \"orientation\": \"v\", \"showlegend\": false, \"textposition\": \"auto\", \"type\": \"bar\", \"x\": [\"Sergipe\"], \"xaxis\": \"x15\", \"y\": [26.0], \"yaxis\": \"y15\"}, {\"alignmentgroup\": \"True\", \"hoverlabel\": {\"namelength\": 0}, \"hovertemplate\": \"state=%{x}<br>year=2016<br>month=Abril<br>number=%{y}\", \"legendgroup\": \"state=Sergipe\", \"marker\": {\"color\": \"#EF553B\"}, \"name\": \"state=Sergipe\", \"offsetgroup\": \"state=Sergipe\", \"orientation\": \"v\", \"showlegend\": false, \"textposition\": \"auto\", \"type\": \"bar\", \"x\": [\"Sergipe\"], \"xaxis\": \"x16\", \"y\": [14.0], \"yaxis\": \"y16\"}, {\"alignmentgroup\": \"True\", \"hoverlabel\": {\"namelength\": 0}, \"hovertemplate\": \"state=%{x}<br>year=2016<br>month=Maio<br>number=%{y}\", \"legendgroup\": \"state=Sergipe\", \"marker\": {\"color\": \"#EF553B\"}, \"name\": \"state=Sergipe\", \"offsetgroup\": \"state=Sergipe\", \"orientation\": \"v\", \"showlegend\": false, \"textposition\": \"auto\", \"type\": \"bar\", \"x\": [\"Sergipe\"], \"xaxis\": \"x17\", \"y\": [9.0], \"yaxis\": \"y17\"}, {\"alignmentgroup\": \"True\", \"hoverlabel\": {\"namelength\": 0}, \"hovertemplate\": \"state=%{x}<br>year=2016<br>month=Junho<br>number=%{y}\", \"legendgroup\": \"state=Sergipe\", \"marker\": {\"color\": \"#EF553B\"}, \"name\": \"state=Sergipe\", \"offsetgroup\": \"state=Sergipe\", \"orientation\": \"v\", \"showlegend\": false, \"textposition\": \"auto\", \"type\": \"bar\", \"x\": [\"Sergipe\"], \"xaxis\": \"x18\", \"y\": [1.0], \"yaxis\": \"y18\"}, {\"alignmentgroup\": \"True\", \"hoverlabel\": {\"namelength\": 0}, \"hovertemplate\": \"state=%{x}<br>year=2016<br>month=Julho<br>number=%{y}\", \"legendgroup\": \"state=Sergipe\", \"marker\": {\"color\": \"#EF553B\"}, \"name\": \"state=Sergipe\", \"offsetgroup\": \"state=Sergipe\", \"orientation\": \"v\", \"showlegend\": false, \"textposition\": \"auto\", \"type\": \"bar\", \"x\": [\"Sergipe\"], \"xaxis\": \"x19\", \"y\": [0.0], \"yaxis\": \"y19\"}, {\"alignmentgroup\": \"True\", \"hoverlabel\": {\"namelength\": 0}, \"hovertemplate\": \"state=%{x}<br>year=2016<br>month=Agosto<br>number=%{y}\", \"legendgroup\": \"state=Sergipe\", \"marker\": {\"color\": \"#EF553B\"}, \"name\": \"state=Sergipe\", \"offsetgroup\": \"state=Sergipe\", \"orientation\": \"v\", \"showlegend\": false, \"textposition\": \"auto\", \"type\": \"bar\", \"x\": [\"Sergipe\"], \"xaxis\": \"x20\", \"y\": [6.0], \"yaxis\": \"y20\"}, {\"alignmentgroup\": \"True\", \"hoverlabel\": {\"namelength\": 0}, \"hovertemplate\": \"state=%{x}<br>year=2016<br>month=Setembro<br>number=%{y}\", \"legendgroup\": \"state=Sergipe\", \"marker\": {\"color\": \"#EF553B\"}, \"name\": \"state=Sergipe\", \"offsetgroup\": \"state=Sergipe\", \"orientation\": \"v\", \"showlegend\": false, \"textposition\": \"auto\", \"type\": \"bar\", \"x\": [\"Sergipe\"], \"xaxis\": \"x21\", \"y\": [2.0], \"yaxis\": \"y21\"}, {\"alignmentgroup\": \"True\", \"hoverlabel\": {\"namelength\": 0}, \"hovertemplate\": \"state=%{x}<br>year=2016<br>month=Outubro<br>number=%{y}\", \"legendgroup\": \"state=Sergipe\", \"marker\": {\"color\": \"#EF553B\"}, \"name\": \"state=Sergipe\", \"offsetgroup\": \"state=Sergipe\", \"orientation\": \"v\", \"showlegend\": false, \"textposition\": \"auto\", \"type\": \"bar\", \"x\": [\"Sergipe\"], \"xaxis\": \"x22\", \"y\": [10.0], \"yaxis\": \"y22\"}, {\"alignmentgroup\": \"True\", \"hoverlabel\": {\"namelength\": 0}, \"hovertemplate\": \"state=%{x}<br>year=2016<br>month=Novembro<br>number=%{y}\", \"legendgroup\": \"state=Sergipe\", \"marker\": {\"color\": \"#EF553B\"}, \"name\": \"state=Sergipe\", \"offsetgroup\": \"state=Sergipe\", \"orientation\": \"v\", \"showlegend\": false, \"textposition\": \"auto\", \"type\": \"bar\", \"x\": [\"Sergipe\"], \"xaxis\": \"x23\", \"y\": [17.0], \"yaxis\": \"y23\"}, {\"alignmentgroup\": \"True\", \"hoverlabel\": {\"namelength\": 0}, \"hovertemplate\": \"state=%{x}<br>year=2016<br>month=Dezembro<br>number=%{y}\", \"legendgroup\": \"state=Sergipe\", \"marker\": {\"color\": \"#EF553B\"}, \"name\": \"state=Sergipe\", \"offsetgroup\": \"state=Sergipe\", \"orientation\": \"v\", \"showlegend\": false, \"textposition\": \"auto\", \"type\": \"bar\", \"x\": [\"Sergipe\"], \"xaxis\": \"x24\", \"y\": [36.0], \"yaxis\": \"y24\"}, {\"alignmentgroup\": \"True\", \"hoverlabel\": {\"namelength\": 0}, \"hovertemplate\": \"state=%{x}<br>year=2017<br>month=Janeiro<br>number=%{y}\", \"legendgroup\": \"state=Sergipe\", \"marker\": {\"color\": \"#EF553B\"}, \"name\": \"state=Sergipe\", \"offsetgroup\": \"state=Sergipe\", \"orientation\": \"v\", \"showlegend\": false, \"textposition\": \"auto\", \"type\": \"bar\", \"x\": [\"Sergipe\"], \"xaxis\": \"x\", \"y\": [31.0], \"yaxis\": \"y\"}, {\"alignmentgroup\": \"True\", \"hoverlabel\": {\"namelength\": 0}, \"hovertemplate\": \"state=%{x}<br>year=2017<br>month=Fevereiro<br>number=%{y}\", \"legendgroup\": \"state=Sergipe\", \"marker\": {\"color\": \"#EF553B\"}, \"name\": \"state=Sergipe\", \"offsetgroup\": \"state=Sergipe\", \"orientation\": \"v\", \"showlegend\": false, \"textposition\": \"auto\", \"type\": \"bar\", \"x\": [\"Sergipe\"], \"xaxis\": \"x2\", \"y\": [18.0], \"yaxis\": \"y2\"}, {\"alignmentgroup\": \"True\", \"hoverlabel\": {\"namelength\": 0}, \"hovertemplate\": \"state=%{x}<br>year=2017<br>month=Mar\\u00e7o<br>number=%{y}\", \"legendgroup\": \"state=Sergipe\", \"marker\": {\"color\": \"#EF553B\"}, \"name\": \"state=Sergipe\", \"offsetgroup\": \"state=Sergipe\", \"orientation\": \"v\", \"showlegend\": false, \"textposition\": \"auto\", \"type\": \"bar\", \"x\": [\"Sergipe\"], \"xaxis\": \"x3\", \"y\": [16.0], \"yaxis\": \"y3\"}, {\"alignmentgroup\": \"True\", \"hoverlabel\": {\"namelength\": 0}, \"hovertemplate\": \"state=%{x}<br>year=2017<br>month=Abril<br>number=%{y}\", \"legendgroup\": \"state=Sergipe\", \"marker\": {\"color\": \"#EF553B\"}, \"name\": \"state=Sergipe\", \"offsetgroup\": \"state=Sergipe\", \"orientation\": \"v\", \"showlegend\": false, \"textposition\": \"auto\", \"type\": \"bar\", \"x\": [\"Sergipe\"], \"xaxis\": \"x4\", \"y\": [8.0], \"yaxis\": \"y4\"}, {\"alignmentgroup\": \"True\", \"hoverlabel\": {\"namelength\": 0}, \"hovertemplate\": \"state=%{x}<br>year=2017<br>month=Maio<br>number=%{y}\", \"legendgroup\": \"state=Sergipe\", \"marker\": {\"color\": \"#EF553B\"}, \"name\": \"state=Sergipe\", \"offsetgroup\": \"state=Sergipe\", \"orientation\": \"v\", \"showlegend\": false, \"textposition\": \"auto\", \"type\": \"bar\", \"x\": [\"Sergipe\"], \"xaxis\": \"x5\", \"y\": [1.0], \"yaxis\": \"y5\"}, {\"alignmentgroup\": \"True\", \"hoverlabel\": {\"namelength\": 0}, \"hovertemplate\": \"state=%{x}<br>year=2017<br>month=Junho<br>number=%{y}\", \"legendgroup\": \"state=Sergipe\", \"marker\": {\"color\": \"#EF553B\"}, \"name\": \"state=Sergipe\", \"offsetgroup\": \"state=Sergipe\", \"orientation\": \"v\", \"showlegend\": false, \"textposition\": \"auto\", \"type\": \"bar\", \"x\": [\"Sergipe\"], \"xaxis\": \"x6\", \"y\": [0.0], \"yaxis\": \"y6\"}, {\"alignmentgroup\": \"True\", \"hoverlabel\": {\"namelength\": 0}, \"hovertemplate\": \"state=%{x}<br>year=2017<br>month=Julho<br>number=%{y}\", \"legendgroup\": \"state=Sergipe\", \"marker\": {\"color\": \"#EF553B\"}, \"name\": \"state=Sergipe\", \"offsetgroup\": \"state=Sergipe\", \"orientation\": \"v\", \"showlegend\": false, \"textposition\": \"auto\", \"type\": \"bar\", \"x\": [\"Sergipe\"], \"xaxis\": \"x7\", \"y\": [0.0], \"yaxis\": \"y7\"}, {\"alignmentgroup\": \"True\", \"hoverlabel\": {\"namelength\": 0}, \"hovertemplate\": \"state=%{x}<br>year=2017<br>month=Agosto<br>number=%{y}\", \"legendgroup\": \"state=Sergipe\", \"marker\": {\"color\": \"#EF553B\"}, \"name\": \"state=Sergipe\", \"offsetgroup\": \"state=Sergipe\", \"orientation\": \"v\", \"showlegend\": false, \"textposition\": \"auto\", \"type\": \"bar\", \"x\": [\"Sergipe\"], \"xaxis\": \"x8\", \"y\": [0.0], \"yaxis\": \"y8\"}, {\"alignmentgroup\": \"True\", \"hoverlabel\": {\"namelength\": 0}, \"hovertemplate\": \"state=%{x}<br>year=2017<br>month=Setembro<br>number=%{y}\", \"legendgroup\": \"state=Sergipe\", \"marker\": {\"color\": \"#EF553B\"}, \"name\": \"state=Sergipe\", \"offsetgroup\": \"state=Sergipe\", \"orientation\": \"v\", \"showlegend\": false, \"textposition\": \"auto\", \"type\": \"bar\", \"x\": [\"Sergipe\"], \"xaxis\": \"x9\", \"y\": [0.0], \"yaxis\": \"y9\"}, {\"alignmentgroup\": \"True\", \"hoverlabel\": {\"namelength\": 0}, \"hovertemplate\": \"state=%{x}<br>year=2017<br>month=Outubro<br>number=%{y}\", \"legendgroup\": \"state=Sergipe\", \"marker\": {\"color\": \"#EF553B\"}, \"name\": \"state=Sergipe\", \"offsetgroup\": \"state=Sergipe\", \"orientation\": \"v\", \"showlegend\": false, \"textposition\": \"auto\", \"type\": \"bar\", \"x\": [\"Sergipe\"], \"xaxis\": \"x10\", \"y\": [0.0], \"yaxis\": \"y10\"}, {\"alignmentgroup\": \"True\", \"hoverlabel\": {\"namelength\": 0}, \"hovertemplate\": \"state=%{x}<br>year=2017<br>month=Novembro<br>number=%{y}\", \"legendgroup\": \"state=Sergipe\", \"marker\": {\"color\": \"#EF553B\"}, \"name\": \"state=Sergipe\", \"offsetgroup\": \"state=Sergipe\", \"orientation\": \"v\", \"showlegend\": false, \"textposition\": \"auto\", \"type\": \"bar\", \"x\": [\"Sergipe\"], \"xaxis\": \"x11\", \"y\": [1.0], \"yaxis\": \"y11\"}, {\"alignmentgroup\": \"True\", \"hoverlabel\": {\"namelength\": 0}, \"hovertemplate\": \"state=%{x}<br>year=2016<br>month=Janeiro<br>number=%{y}\", \"legendgroup\": \"state=Tocantins\", \"marker\": {\"color\": \"#00cc96\"}, \"name\": \"state=Tocantins\", \"offsetgroup\": \"state=Tocantins\", \"orientation\": \"v\", \"showlegend\": true, \"textposition\": \"auto\", \"type\": \"bar\", \"x\": [\"Tocantins\"], \"xaxis\": \"x13\", \"y\": [42.0], \"yaxis\": \"y13\"}, {\"alignmentgroup\": \"True\", \"hoverlabel\": {\"namelength\": 0}, \"hovertemplate\": \"state=%{x}<br>year=2016<br>month=Fevereiro<br>number=%{y}\", \"legendgroup\": \"state=Tocantins\", \"marker\": {\"color\": \"#00cc96\"}, \"name\": \"state=Tocantins\", \"offsetgroup\": \"state=Tocantins\", \"orientation\": \"v\", \"showlegend\": false, \"textposition\": \"auto\", \"type\": \"bar\", \"x\": [\"Tocantins\"], \"xaxis\": \"x14\", \"y\": [383.0], \"yaxis\": \"y14\"}, {\"alignmentgroup\": \"True\", \"hoverlabel\": {\"namelength\": 0}, \"hovertemplate\": \"state=%{x}<br>year=2016<br>month=Mar\\u00e7o<br>number=%{y}\", \"legendgroup\": \"state=Tocantins\", \"marker\": {\"color\": \"#00cc96\"}, \"name\": \"state=Tocantins\", \"offsetgroup\": \"state=Tocantins\", \"orientation\": \"v\", \"showlegend\": false, \"textposition\": \"auto\", \"type\": \"bar\", \"x\": [\"Tocantins\"], \"xaxis\": \"x15\", \"y\": [165.0], \"yaxis\": \"y15\"}, {\"alignmentgroup\": \"True\", \"hoverlabel\": {\"namelength\": 0}, \"hovertemplate\": \"state=%{x}<br>year=2016<br>month=Abril<br>number=%{y}\", \"legendgroup\": \"state=Tocantins\", \"marker\": {\"color\": \"#00cc96\"}, \"name\": \"state=Tocantins\", \"offsetgroup\": \"state=Tocantins\", \"orientation\": \"v\", \"showlegend\": false, \"textposition\": \"auto\", \"type\": \"bar\", \"x\": [\"Tocantins\"], \"xaxis\": \"x16\", \"y\": [369.0], \"yaxis\": \"y16\"}, {\"alignmentgroup\": \"True\", \"hoverlabel\": {\"namelength\": 0}, \"hovertemplate\": \"state=%{x}<br>year=2016<br>month=Maio<br>number=%{y}\", \"legendgroup\": \"state=Tocantins\", \"marker\": {\"color\": \"#00cc96\"}, \"name\": \"state=Tocantins\", \"offsetgroup\": \"state=Tocantins\", \"orientation\": \"v\", \"showlegend\": false, \"textposition\": \"auto\", \"type\": \"bar\", \"x\": [\"Tocantins\"], \"xaxis\": \"x17\", \"y\": [778.0], \"yaxis\": \"y17\"}, {\"alignmentgroup\": \"True\", \"hoverlabel\": {\"namelength\": 0}, \"hovertemplate\": \"state=%{x}<br>year=2016<br>month=Junho<br>number=%{y}\", \"legendgroup\": \"state=Tocantins\", \"marker\": {\"color\": \"#00cc96\"}, \"name\": \"state=Tocantins\", \"offsetgroup\": \"state=Tocantins\", \"orientation\": \"v\", \"showlegend\": false, \"textposition\": \"auto\", \"type\": \"bar\", \"x\": [\"Tocantins\"], \"xaxis\": \"x18\", \"y\": [1.148], \"yaxis\": \"y18\"}, {\"alignmentgroup\": \"True\", \"hoverlabel\": {\"namelength\": 0}, \"hovertemplate\": \"state=%{x}<br>year=2016<br>month=Julho<br>number=%{y}\", \"legendgroup\": \"state=Tocantins\", \"marker\": {\"color\": \"#00cc96\"}, \"name\": \"state=Tocantins\", \"offsetgroup\": \"state=Tocantins\", \"orientation\": \"v\", \"showlegend\": false, \"textposition\": \"auto\", \"type\": \"bar\", \"x\": [\"Tocantins\"], \"xaxis\": \"x19\", \"y\": [2.737], \"yaxis\": \"y19\"}, {\"alignmentgroup\": \"True\", \"hoverlabel\": {\"namelength\": 0}, \"hovertemplate\": \"state=%{x}<br>year=2016<br>month=Agosto<br>number=%{y}\", \"legendgroup\": \"state=Tocantins\", \"marker\": {\"color\": \"#00cc96\"}, \"name\": \"state=Tocantins\", \"offsetgroup\": \"state=Tocantins\", \"orientation\": \"v\", \"showlegend\": false, \"textposition\": \"auto\", \"type\": \"bar\", \"x\": [\"Tocantins\"], \"xaxis\": \"x20\", \"y\": [3.213], \"yaxis\": \"y20\"}, {\"alignmentgroup\": \"True\", \"hoverlabel\": {\"namelength\": 0}, \"hovertemplate\": \"state=%{x}<br>year=2016<br>month=Setembro<br>number=%{y}\", \"legendgroup\": \"state=Tocantins\", \"marker\": {\"color\": \"#00cc96\"}, \"name\": \"state=Tocantins\", \"offsetgroup\": \"state=Tocantins\", \"orientation\": \"v\", \"showlegend\": false, \"textposition\": \"auto\", \"type\": \"bar\", \"x\": [\"Tocantins\"], \"xaxis\": \"x21\", \"y\": [3.245], \"yaxis\": \"y21\"}, {\"alignmentgroup\": \"True\", \"hoverlabel\": {\"namelength\": 0}, \"hovertemplate\": \"state=%{x}<br>year=2016<br>month=Outubro<br>number=%{y}\", \"legendgroup\": \"state=Tocantins\", \"marker\": {\"color\": \"#00cc96\"}, \"name\": \"state=Tocantins\", \"offsetgroup\": \"state=Tocantins\", \"orientation\": \"v\", \"showlegend\": false, \"textposition\": \"auto\", \"type\": \"bar\", \"x\": [\"Tocantins\"], \"xaxis\": \"x22\", \"y\": [2.032], \"yaxis\": \"y22\"}, {\"alignmentgroup\": \"True\", \"hoverlabel\": {\"namelength\": 0}, \"hovertemplate\": \"state=%{x}<br>year=2016<br>month=Novembro<br>number=%{y}\", \"legendgroup\": \"state=Tocantins\", \"marker\": {\"color\": \"#00cc96\"}, \"name\": \"state=Tocantins\", \"offsetgroup\": \"state=Tocantins\", \"orientation\": \"v\", \"showlegend\": false, \"textposition\": \"auto\", \"type\": \"bar\", \"x\": [\"Tocantins\"], \"xaxis\": \"x23\", \"y\": [623.0], \"yaxis\": \"y23\"}, {\"alignmentgroup\": \"True\", \"hoverlabel\": {\"namelength\": 0}, \"hovertemplate\": \"state=%{x}<br>year=2016<br>month=Dezembro<br>number=%{y}\", \"legendgroup\": \"state=Tocantins\", \"marker\": {\"color\": \"#00cc96\"}, \"name\": \"state=Tocantins\", \"offsetgroup\": \"state=Tocantins\", \"orientation\": \"v\", \"showlegend\": false, \"textposition\": \"auto\", \"type\": \"bar\", \"x\": [\"Tocantins\"], \"xaxis\": \"x24\", \"y\": [119.0], \"yaxis\": \"y24\"}, {\"alignmentgroup\": \"True\", \"hoverlabel\": {\"namelength\": 0}, \"hovertemplate\": \"state=%{x}<br>year=2017<br>month=Janeiro<br>number=%{y}\", \"legendgroup\": \"state=Tocantins\", \"marker\": {\"color\": \"#00cc96\"}, \"name\": \"state=Tocantins\", \"offsetgroup\": \"state=Tocantins\", \"orientation\": \"v\", \"showlegend\": false, \"textposition\": \"auto\", \"type\": \"bar\", \"x\": [\"Tocantins\"], \"xaxis\": \"x\", \"y\": [61.0], \"yaxis\": \"y\"}, {\"alignmentgroup\": \"True\", \"hoverlabel\": {\"namelength\": 0}, \"hovertemplate\": \"state=%{x}<br>year=2017<br>month=Fevereiro<br>number=%{y}\", \"legendgroup\": \"state=Tocantins\", \"marker\": {\"color\": \"#00cc96\"}, \"name\": \"state=Tocantins\", \"offsetgroup\": \"state=Tocantins\", \"orientation\": \"v\", \"showlegend\": false, \"textposition\": \"auto\", \"type\": \"bar\", \"x\": [\"Tocantins\"], \"xaxis\": \"x2\", \"y\": [25.0], \"yaxis\": \"y2\"}, {\"alignmentgroup\": \"True\", \"hoverlabel\": {\"namelength\": 0}, \"hovertemplate\": \"state=%{x}<br>year=2017<br>month=Mar\\u00e7o<br>number=%{y}\", \"legendgroup\": \"state=Tocantins\", \"marker\": {\"color\": \"#00cc96\"}, \"name\": \"state=Tocantins\", \"offsetgroup\": \"state=Tocantins\", \"orientation\": \"v\", \"showlegend\": false, \"textposition\": \"auto\", \"type\": \"bar\", \"x\": [\"Tocantins\"], \"xaxis\": \"x3\", \"y\": [98.0], \"yaxis\": \"y3\"}, {\"alignmentgroup\": \"True\", \"hoverlabel\": {\"namelength\": 0}, \"hovertemplate\": \"state=%{x}<br>year=2017<br>month=Abril<br>number=%{y}\", \"legendgroup\": \"state=Tocantins\", \"marker\": {\"color\": \"#00cc96\"}, \"name\": \"state=Tocantins\", \"offsetgroup\": \"state=Tocantins\", \"orientation\": \"v\", \"showlegend\": false, \"textposition\": \"auto\", \"type\": \"bar\", \"x\": [\"Tocantins\"], \"xaxis\": \"x4\", \"y\": [164.0], \"yaxis\": \"y4\"}, {\"alignmentgroup\": \"True\", \"hoverlabel\": {\"namelength\": 0}, \"hovertemplate\": \"state=%{x}<br>year=2017<br>month=Maio<br>number=%{y}\", \"legendgroup\": \"state=Tocantins\", \"marker\": {\"color\": \"#00cc96\"}, \"name\": \"state=Tocantins\", \"offsetgroup\": \"state=Tocantins\", \"orientation\": \"v\", \"showlegend\": false, \"textposition\": \"auto\", \"type\": \"bar\", \"x\": [\"Tocantins\"], \"xaxis\": \"x5\", \"y\": [576.0], \"yaxis\": \"y5\"}, {\"alignmentgroup\": \"True\", \"hoverlabel\": {\"namelength\": 0}, \"hovertemplate\": \"state=%{x}<br>year=2017<br>month=Junho<br>number=%{y}\", \"legendgroup\": \"state=Tocantins\", \"marker\": {\"color\": \"#00cc96\"}, \"name\": \"state=Tocantins\", \"offsetgroup\": \"state=Tocantins\", \"orientation\": \"v\", \"showlegend\": false, \"textposition\": \"auto\", \"type\": \"bar\", \"x\": [\"Tocantins\"], \"xaxis\": \"x6\", \"y\": [1.32], \"yaxis\": \"y6\"}, {\"alignmentgroup\": \"True\", \"hoverlabel\": {\"namelength\": 0}, \"hovertemplate\": \"state=%{x}<br>year=2017<br>month=Julho<br>number=%{y}\", \"legendgroup\": \"state=Tocantins\", \"marker\": {\"color\": \"#00cc96\"}, \"name\": \"state=Tocantins\", \"offsetgroup\": \"state=Tocantins\", \"orientation\": \"v\", \"showlegend\": false, \"textposition\": \"auto\", \"type\": \"bar\", \"x\": [\"Tocantins\"], \"xaxis\": \"x7\", \"y\": [2.397], \"yaxis\": \"y7\"}, {\"alignmentgroup\": \"True\", \"hoverlabel\": {\"namelength\": 0}, \"hovertemplate\": \"state=%{x}<br>year=2017<br>month=Agosto<br>number=%{y}\", \"legendgroup\": \"state=Tocantins\", \"marker\": {\"color\": \"#00cc96\"}, \"name\": \"state=Tocantins\", \"offsetgroup\": \"state=Tocantins\", \"orientation\": \"v\", \"showlegend\": false, \"textposition\": \"auto\", \"type\": \"bar\", \"x\": [\"Tocantins\"], \"xaxis\": \"x8\", \"y\": [3.536], \"yaxis\": \"y8\"}, {\"alignmentgroup\": \"True\", \"hoverlabel\": {\"namelength\": 0}, \"hovertemplate\": \"state=%{x}<br>year=2017<br>month=Setembro<br>number=%{y}\", \"legendgroup\": \"state=Tocantins\", \"marker\": {\"color\": \"#00cc96\"}, \"name\": \"state=Tocantins\", \"offsetgroup\": \"state=Tocantins\", \"orientation\": \"v\", \"showlegend\": false, \"textposition\": \"auto\", \"type\": \"bar\", \"x\": [\"Tocantins\"], \"xaxis\": \"x9\", \"y\": [10.737], \"yaxis\": \"y9\"}, {\"alignmentgroup\": \"True\", \"hoverlabel\": {\"namelength\": 0}, \"hovertemplate\": \"state=%{x}<br>year=2017<br>month=Outubro<br>number=%{y}\", \"legendgroup\": \"state=Tocantins\", \"marker\": {\"color\": \"#00cc96\"}, \"name\": \"state=Tocantins\", \"offsetgroup\": \"state=Tocantins\", \"orientation\": \"v\", \"showlegend\": false, \"textposition\": \"auto\", \"type\": \"bar\", \"x\": [\"Tocantins\"], \"xaxis\": \"x10\", \"y\": [2.969], \"yaxis\": \"y10\"}, {\"alignmentgroup\": \"True\", \"hoverlabel\": {\"namelength\": 0}, \"hovertemplate\": \"state=%{x}<br>year=2017<br>month=Novembro<br>number=%{y}\", \"legendgroup\": \"state=Tocantins\", \"marker\": {\"color\": \"#00cc96\"}, \"name\": \"state=Tocantins\", \"offsetgroup\": \"state=Tocantins\", \"orientation\": \"v\", \"showlegend\": false, \"textposition\": \"auto\", \"type\": \"bar\", \"x\": [\"Tocantins\"], \"xaxis\": \"x11\", \"y\": [434.0], \"yaxis\": \"y11\"}],\n",
       "                        {\"annotations\": [{\"font\": {}, \"showarrow\": false, \"text\": \"month=Janeiro\", \"x\": 0.03166666666666666, \"xanchor\": \"center\", \"xref\": \"paper\", \"y\": 1.0, \"yanchor\": \"bottom\", \"yref\": \"paper\"}, {\"font\": {}, \"showarrow\": false, \"text\": \"month=Fevereiro\", \"x\": 0.11499999999999999, \"xanchor\": \"center\", \"xref\": \"paper\", \"y\": 1.0, \"yanchor\": \"bottom\", \"yref\": \"paper\"}, {\"font\": {}, \"showarrow\": false, \"text\": \"month=Mar\\u00e7o\", \"x\": 0.1983333333333333, \"xanchor\": \"center\", \"xref\": \"paper\", \"y\": 1.0, \"yanchor\": \"bottom\", \"yref\": \"paper\"}, {\"font\": {}, \"showarrow\": false, \"text\": \"month=Abril\", \"x\": 0.2816666666666666, \"xanchor\": \"center\", \"xref\": \"paper\", \"y\": 1.0, \"yanchor\": \"bottom\", \"yref\": \"paper\"}, {\"font\": {}, \"showarrow\": false, \"text\": \"month=Maio\", \"x\": 0.365, \"xanchor\": \"center\", \"xref\": \"paper\", \"y\": 1.0, \"yanchor\": \"bottom\", \"yref\": \"paper\"}, {\"font\": {}, \"showarrow\": false, \"text\": \"month=Junho\", \"x\": 0.4483333333333333, \"xanchor\": \"center\", \"xref\": \"paper\", \"y\": 1.0, \"yanchor\": \"bottom\", \"yref\": \"paper\"}, {\"font\": {}, \"showarrow\": false, \"text\": \"month=Julho\", \"x\": 0.5316666666666667, \"xanchor\": \"center\", \"xref\": \"paper\", \"y\": 1.0, \"yanchor\": \"bottom\", \"yref\": \"paper\"}, {\"font\": {}, \"showarrow\": false, \"text\": \"month=Agosto\", \"x\": 0.615, \"xanchor\": \"center\", \"xref\": \"paper\", \"y\": 1.0, \"yanchor\": \"bottom\", \"yref\": \"paper\"}, {\"font\": {}, \"showarrow\": false, \"text\": \"month=Setembro\", \"x\": 0.6983333333333335, \"xanchor\": \"center\", \"xref\": \"paper\", \"y\": 1.0, \"yanchor\": \"bottom\", \"yref\": \"paper\"}, {\"font\": {}, \"showarrow\": false, \"text\": \"month=Outubro\", \"x\": 0.7816666666666667, \"xanchor\": \"center\", \"xref\": \"paper\", \"y\": 1.0, \"yanchor\": \"bottom\", \"yref\": \"paper\"}, {\"font\": {}, \"showarrow\": false, \"text\": \"month=Novembro\", \"x\": 0.8650000000000002, \"xanchor\": \"center\", \"xref\": \"paper\", \"y\": 1.0, \"yanchor\": \"bottom\", \"yref\": \"paper\"}, {\"font\": {}, \"showarrow\": false, \"text\": \"month=Dezembro\", \"x\": 0.9483333333333335, \"xanchor\": \"center\", \"xref\": \"paper\", \"y\": 1.0, \"yanchor\": \"bottom\", \"yref\": \"paper\"}, {\"font\": {}, \"showarrow\": false, \"text\": \"year=2017\", \"textangle\": 90, \"x\": 0.9800000000000001, \"xanchor\": \"left\", \"xref\": \"paper\", \"y\": 0.2425, \"yanchor\": \"middle\", \"yref\": \"paper\"}, {\"font\": {}, \"showarrow\": false, \"text\": \"year=2016\", \"textangle\": 90, \"x\": 0.9800000000000001, \"xanchor\": \"left\", \"xref\": \"paper\", \"y\": 0.7575000000000001, \"yanchor\": \"middle\", \"yref\": \"paper\"}], \"barmode\": \"relative\", \"height\": 600, \"legend\": {\"tracegroupgap\": 0}, \"margin\": {\"t\": 60}, \"template\": {\"data\": {\"bar\": [{\"error_x\": {\"color\": \"#2a3f5f\"}, \"error_y\": {\"color\": \"#2a3f5f\"}, \"marker\": {\"line\": {\"color\": \"#E5ECF6\", \"width\": 0.5}}, \"type\": \"bar\"}], \"barpolar\": [{\"marker\": {\"line\": {\"color\": \"#E5ECF6\", \"width\": 0.5}}, \"type\": \"barpolar\"}], \"carpet\": [{\"aaxis\": {\"endlinecolor\": \"#2a3f5f\", \"gridcolor\": \"white\", \"linecolor\": \"white\", \"minorgridcolor\": \"white\", \"startlinecolor\": \"#2a3f5f\"}, \"baxis\": {\"endlinecolor\": \"#2a3f5f\", \"gridcolor\": \"white\", \"linecolor\": \"white\", \"minorgridcolor\": \"white\", \"startlinecolor\": \"#2a3f5f\"}, \"type\": \"carpet\"}], \"choropleth\": [{\"colorbar\": {\"outlinewidth\": 0, \"ticks\": \"\"}, \"type\": \"choropleth\"}], \"contour\": [{\"colorbar\": {\"outlinewidth\": 0, \"ticks\": \"\"}, \"colorscale\": [[0.0, \"#0d0887\"], [0.1111111111111111, \"#46039f\"], [0.2222222222222222, \"#7201a8\"], [0.3333333333333333, \"#9c179e\"], [0.4444444444444444, \"#bd3786\"], [0.5555555555555556, \"#d8576b\"], [0.6666666666666666, \"#ed7953\"], [0.7777777777777778, \"#fb9f3a\"], [0.8888888888888888, \"#fdca26\"], [1.0, \"#f0f921\"]], \"type\": \"contour\"}], \"contourcarpet\": [{\"colorbar\": {\"outlinewidth\": 0, \"ticks\": \"\"}, \"type\": \"contourcarpet\"}], \"heatmap\": [{\"colorbar\": {\"outlinewidth\": 0, \"ticks\": \"\"}, \"colorscale\": [[0.0, \"#0d0887\"], [0.1111111111111111, \"#46039f\"], [0.2222222222222222, \"#7201a8\"], [0.3333333333333333, \"#9c179e\"], [0.4444444444444444, \"#bd3786\"], [0.5555555555555556, \"#d8576b\"], [0.6666666666666666, \"#ed7953\"], [0.7777777777777778, \"#fb9f3a\"], [0.8888888888888888, \"#fdca26\"], [1.0, \"#f0f921\"]], \"type\": \"heatmap\"}], \"heatmapgl\": [{\"colorbar\": {\"outlinewidth\": 0, \"ticks\": \"\"}, \"colorscale\": [[0.0, \"#0d0887\"], [0.1111111111111111, \"#46039f\"], [0.2222222222222222, \"#7201a8\"], [0.3333333333333333, \"#9c179e\"], [0.4444444444444444, \"#bd3786\"], [0.5555555555555556, \"#d8576b\"], [0.6666666666666666, \"#ed7953\"], [0.7777777777777778, \"#fb9f3a\"], [0.8888888888888888, \"#fdca26\"], [1.0, \"#f0f921\"]], \"type\": \"heatmapgl\"}], \"histogram\": [{\"marker\": {\"colorbar\": {\"outlinewidth\": 0, \"ticks\": \"\"}}, \"type\": \"histogram\"}], \"histogram2d\": [{\"colorbar\": {\"outlinewidth\": 0, \"ticks\": \"\"}, \"colorscale\": [[0.0, \"#0d0887\"], [0.1111111111111111, \"#46039f\"], [0.2222222222222222, \"#7201a8\"], [0.3333333333333333, \"#9c179e\"], [0.4444444444444444, \"#bd3786\"], [0.5555555555555556, \"#d8576b\"], [0.6666666666666666, \"#ed7953\"], [0.7777777777777778, \"#fb9f3a\"], [0.8888888888888888, \"#fdca26\"], [1.0, \"#f0f921\"]], \"type\": \"histogram2d\"}], \"histogram2dcontour\": [{\"colorbar\": {\"outlinewidth\": 0, \"ticks\": \"\"}, \"colorscale\": [[0.0, \"#0d0887\"], [0.1111111111111111, \"#46039f\"], [0.2222222222222222, \"#7201a8\"], [0.3333333333333333, \"#9c179e\"], [0.4444444444444444, \"#bd3786\"], [0.5555555555555556, \"#d8576b\"], [0.6666666666666666, \"#ed7953\"], [0.7777777777777778, \"#fb9f3a\"], [0.8888888888888888, \"#fdca26\"], [1.0, \"#f0f921\"]], \"type\": \"histogram2dcontour\"}], \"mesh3d\": [{\"colorbar\": {\"outlinewidth\": 0, \"ticks\": \"\"}, \"type\": \"mesh3d\"}], \"parcoords\": [{\"line\": {\"colorbar\": {\"outlinewidth\": 0, \"ticks\": \"\"}}, \"type\": \"parcoords\"}], \"scatter\": [{\"marker\": {\"colorbar\": {\"outlinewidth\": 0, \"ticks\": \"\"}}, \"type\": \"scatter\"}], \"scatter3d\": [{\"line\": {\"colorbar\": {\"outlinewidth\": 0, \"ticks\": \"\"}}, \"marker\": {\"colorbar\": {\"outlinewidth\": 0, \"ticks\": \"\"}}, \"type\": \"scatter3d\"}], \"scattercarpet\": [{\"marker\": {\"colorbar\": {\"outlinewidth\": 0, \"ticks\": \"\"}}, \"type\": \"scattercarpet\"}], \"scattergeo\": [{\"marker\": {\"colorbar\": {\"outlinewidth\": 0, \"ticks\": \"\"}}, \"type\": \"scattergeo\"}], \"scattergl\": [{\"marker\": {\"colorbar\": {\"outlinewidth\": 0, \"ticks\": \"\"}}, \"type\": \"scattergl\"}], \"scattermapbox\": [{\"marker\": {\"colorbar\": {\"outlinewidth\": 0, \"ticks\": \"\"}}, \"type\": \"scattermapbox\"}], \"scatterpolar\": [{\"marker\": {\"colorbar\": {\"outlinewidth\": 0, \"ticks\": \"\"}}, \"type\": \"scatterpolar\"}], \"scatterpolargl\": [{\"marker\": {\"colorbar\": {\"outlinewidth\": 0, \"ticks\": \"\"}}, \"type\": \"scatterpolargl\"}], \"scatterternary\": [{\"marker\": {\"colorbar\": {\"outlinewidth\": 0, \"ticks\": \"\"}}, \"type\": \"scatterternary\"}], \"surface\": [{\"colorbar\": {\"outlinewidth\": 0, \"ticks\": \"\"}, \"colorscale\": [[0.0, \"#0d0887\"], [0.1111111111111111, \"#46039f\"], [0.2222222222222222, \"#7201a8\"], [0.3333333333333333, \"#9c179e\"], [0.4444444444444444, \"#bd3786\"], [0.5555555555555556, \"#d8576b\"], [0.6666666666666666, \"#ed7953\"], [0.7777777777777778, \"#fb9f3a\"], [0.8888888888888888, \"#fdca26\"], [1.0, \"#f0f921\"]], \"type\": \"surface\"}], \"table\": [{\"cells\": {\"fill\": {\"color\": \"#EBF0F8\"}, \"line\": {\"color\": \"white\"}}, \"header\": {\"fill\": {\"color\": \"#C8D4E3\"}, \"line\": {\"color\": \"white\"}}, \"type\": \"table\"}]}, \"layout\": {\"annotationdefaults\": {\"arrowcolor\": \"#2a3f5f\", \"arrowhead\": 0, \"arrowwidth\": 1}, \"colorscale\": {\"diverging\": [[0, \"#8e0152\"], [0.1, \"#c51b7d\"], [0.2, \"#de77ae\"], [0.3, \"#f1b6da\"], [0.4, \"#fde0ef\"], [0.5, \"#f7f7f7\"], [0.6, \"#e6f5d0\"], [0.7, \"#b8e186\"], [0.8, \"#7fbc41\"], [0.9, \"#4d9221\"], [1, \"#276419\"]], \"sequential\": [[0.0, \"#0d0887\"], [0.1111111111111111, \"#46039f\"], [0.2222222222222222, \"#7201a8\"], [0.3333333333333333, \"#9c179e\"], [0.4444444444444444, \"#bd3786\"], [0.5555555555555556, \"#d8576b\"], [0.6666666666666666, \"#ed7953\"], [0.7777777777777778, \"#fb9f3a\"], [0.8888888888888888, \"#fdca26\"], [1.0, \"#f0f921\"]], \"sequentialminus\": [[0.0, \"#0d0887\"], [0.1111111111111111, \"#46039f\"], [0.2222222222222222, \"#7201a8\"], [0.3333333333333333, \"#9c179e\"], [0.4444444444444444, \"#bd3786\"], [0.5555555555555556, \"#d8576b\"], [0.6666666666666666, \"#ed7953\"], [0.7777777777777778, \"#fb9f3a\"], [0.8888888888888888, \"#fdca26\"], [1.0, \"#f0f921\"]]}, \"colorway\": [\"#636efa\", \"#EF553B\", \"#00cc96\", \"#ab63fa\", \"#FFA15A\", \"#19d3f3\", \"#FF6692\", \"#B6E880\", \"#FF97FF\", \"#FECB52\"], \"font\": {\"color\": \"#2a3f5f\"}, \"geo\": {\"bgcolor\": \"white\", \"lakecolor\": \"white\", \"landcolor\": \"#E5ECF6\", \"showlakes\": true, \"showland\": true, \"subunitcolor\": \"white\"}, \"hoverlabel\": {\"align\": \"left\"}, \"hovermode\": \"closest\", \"mapbox\": {\"style\": \"light\"}, \"paper_bgcolor\": \"white\", \"plot_bgcolor\": \"#E5ECF6\", \"polar\": {\"angularaxis\": {\"gridcolor\": \"white\", \"linecolor\": \"white\", \"ticks\": \"\"}, \"bgcolor\": \"#E5ECF6\", \"radialaxis\": {\"gridcolor\": \"white\", \"linecolor\": \"white\", \"ticks\": \"\"}}, \"scene\": {\"xaxis\": {\"backgroundcolor\": \"#E5ECF6\", \"gridcolor\": \"white\", \"gridwidth\": 2, \"linecolor\": \"white\", \"showbackground\": true, \"ticks\": \"\", \"zerolinecolor\": \"white\"}, \"yaxis\": {\"backgroundcolor\": \"#E5ECF6\", \"gridcolor\": \"white\", \"gridwidth\": 2, \"linecolor\": \"white\", \"showbackground\": true, \"ticks\": \"\", \"zerolinecolor\": \"white\"}, \"zaxis\": {\"backgroundcolor\": \"#E5ECF6\", \"gridcolor\": \"white\", \"gridwidth\": 2, \"linecolor\": \"white\", \"showbackground\": true, \"ticks\": \"\", \"zerolinecolor\": \"white\"}}, \"shapedefaults\": {\"line\": {\"color\": \"#2a3f5f\"}}, \"ternary\": {\"aaxis\": {\"gridcolor\": \"white\", \"linecolor\": \"white\", \"ticks\": \"\"}, \"baxis\": {\"gridcolor\": \"white\", \"linecolor\": \"white\", \"ticks\": \"\"}, \"bgcolor\": \"#E5ECF6\", \"caxis\": {\"gridcolor\": \"white\", \"linecolor\": \"white\", \"ticks\": \"\"}}, \"title\": {\"x\": 0.05}, \"xaxis\": {\"automargin\": true, \"gridcolor\": \"white\", \"linecolor\": \"white\", \"ticks\": \"\", \"zerolinecolor\": \"white\", \"zerolinewidth\": 2}, \"yaxis\": {\"automargin\": true, \"gridcolor\": \"white\", \"linecolor\": \"white\", \"ticks\": \"\", \"zerolinecolor\": \"white\", \"zerolinewidth\": 2}}}, \"title\": {\"text\": \"Amount of forest fires in Brazil by State\"}, \"xaxis\": {\"anchor\": \"y\", \"categoryarray\": [\"Acre\", \"Alagoas\", \"Amapa\", \"Amazonas\", \"Bahia\", \"Ceara\", \"Distrito Federal\", \"Espirito Santo\", \"Goias\", \"Maranhao\", \"Mato Grosso\", \"Minas Gerais\", \"Par\\u00e1\", \"Paraiba\", \"Pernambuco\", \"Piau\", \"Rio\", \"Rondonia\", \"Roraima\", \"Santa Catarina\", \"Sao Paulo\", \"Sergipe\", \"Tocantins\"], \"categoryorder\": \"array\", \"domain\": [0.0, 0.06333333333333332], \"title\": {\"text\": \"State\"}}, \"xaxis10\": {\"anchor\": \"y10\", \"categoryarray\": [\"Acre\", \"Alagoas\", \"Amapa\", \"Amazonas\", \"Bahia\", \"Ceara\", \"Distrito Federal\", \"Espirito Santo\", \"Goias\", \"Maranhao\", \"Mato Grosso\", \"Minas Gerais\", \"Par\\u00e1\", \"Paraiba\", \"Pernambuco\", \"Piau\", \"Rio\", \"Rondonia\", \"Roraima\", \"Santa Catarina\", \"Sao Paulo\", \"Sergipe\", \"Tocantins\"], \"categoryorder\": \"array\", \"domain\": [0.75, 0.8133333333333334], \"matches\": \"x\", \"title\": {\"text\": \"state\"}}, \"xaxis11\": {\"anchor\": \"y11\", \"categoryarray\": [\"Acre\", \"Alagoas\", \"Amapa\", \"Amazonas\", \"Bahia\", \"Ceara\", \"Distrito Federal\", \"Espirito Santo\", \"Goias\", \"Maranhao\", \"Mato Grosso\", \"Minas Gerais\", \"Par\\u00e1\", \"Paraiba\", \"Pernambuco\", \"Piau\", \"Rio\", \"Rondonia\", \"Roraima\", \"Santa Catarina\", \"Sao Paulo\", \"Sergipe\", \"Tocantins\"], \"categoryorder\": \"array\", \"domain\": [0.8333333333333335, 0.8966666666666668], \"matches\": \"x\", \"title\": {\"text\": \"state\"}}, \"xaxis12\": {\"anchor\": \"y12\", \"categoryarray\": [\"Acre\", \"Alagoas\", \"Amapa\", \"Amazonas\", \"Bahia\", \"Ceara\", \"Distrito Federal\", \"Espirito Santo\", \"Goias\", \"Maranhao\", \"Mato Grosso\", \"Minas Gerais\", \"Par\\u00e1\", \"Paraiba\", \"Pernambuco\", \"Piau\", \"Rio\", \"Rondonia\", \"Roraima\", \"Santa Catarina\", \"Sao Paulo\", \"Sergipe\", \"Tocantins\"], \"categoryorder\": \"array\", \"domain\": [0.9166666666666667, 0.9800000000000001], \"matches\": \"x\", \"title\": {\"text\": \"state\"}}, \"xaxis13\": {\"anchor\": \"y13\", \"domain\": [0.0, 0.06333333333333332], \"matches\": \"x\", \"showticklabels\": false}, \"xaxis14\": {\"anchor\": \"y14\", \"domain\": [0.08333333333333333, 0.14666666666666667], \"matches\": \"x\", \"showticklabels\": false}, \"xaxis15\": {\"anchor\": \"y15\", \"domain\": [0.16666666666666666, 0.22999999999999998], \"matches\": \"x\", \"showticklabels\": false}, \"xaxis16\": {\"anchor\": \"y16\", \"domain\": [0.24999999999999997, 0.3133333333333333], \"matches\": \"x\", \"showticklabels\": false}, \"xaxis17\": {\"anchor\": \"y17\", \"domain\": [0.3333333333333333, 0.3966666666666666], \"matches\": \"x\", \"showticklabels\": false}, \"xaxis18\": {\"anchor\": \"y18\", \"domain\": [0.41666666666666663, 0.48], \"matches\": \"x\", \"showticklabels\": false}, \"xaxis19\": {\"anchor\": \"y19\", \"domain\": [0.5, 0.5633333333333334], \"matches\": \"x\", \"showticklabels\": false}, \"xaxis2\": {\"anchor\": \"y2\", \"categoryarray\": [\"Acre\", \"Alagoas\", \"Amapa\", \"Amazonas\", \"Bahia\", \"Ceara\", \"Distrito Federal\", \"Espirito Santo\", \"Goias\", \"Maranhao\", \"Mato Grosso\", \"Minas Gerais\", \"Par\\u00e1\", \"Paraiba\", \"Pernambuco\", \"Piau\", \"Rio\", \"Rondonia\", \"Roraima\", \"Santa Catarina\", \"Sao Paulo\", \"Sergipe\", \"Tocantins\"], \"categoryorder\": \"array\", \"domain\": [0.08333333333333333, 0.14666666666666667], \"matches\": \"x\", \"title\": {\"text\": \"state\"}}, \"xaxis20\": {\"anchor\": \"y20\", \"domain\": [0.5833333333333334, 0.6466666666666667], \"matches\": \"x\", \"showticklabels\": false}, \"xaxis21\": {\"anchor\": \"y21\", \"domain\": [0.6666666666666667, 0.7300000000000001], \"matches\": \"x\", \"showticklabels\": false}, \"xaxis22\": {\"anchor\": \"y22\", \"domain\": [0.75, 0.8133333333333334], \"matches\": \"x\", \"showticklabels\": false}, \"xaxis23\": {\"anchor\": \"y23\", \"domain\": [0.8333333333333335, 0.8966666666666668], \"matches\": \"x\", \"showticklabels\": false}, \"xaxis24\": {\"anchor\": \"y24\", \"domain\": [0.9166666666666667, 0.9800000000000001], \"matches\": \"x\", \"showticklabels\": false}, \"xaxis3\": {\"anchor\": \"y3\", \"categoryarray\": [\"Acre\", \"Alagoas\", \"Amapa\", \"Amazonas\", \"Bahia\", \"Ceara\", \"Distrito Federal\", \"Espirito Santo\", \"Goias\", \"Maranhao\", \"Mato Grosso\", \"Minas Gerais\", \"Par\\u00e1\", \"Paraiba\", \"Pernambuco\", \"Piau\", \"Rio\", \"Rondonia\", \"Roraima\", \"Santa Catarina\", \"Sao Paulo\", \"Sergipe\", \"Tocantins\"], \"categoryorder\": \"array\", \"domain\": [0.16666666666666666, 0.22999999999999998], \"matches\": \"x\", \"title\": {\"text\": \"state\"}}, \"xaxis4\": {\"anchor\": \"y4\", \"categoryarray\": [\"Acre\", \"Alagoas\", \"Amapa\", \"Amazonas\", \"Bahia\", \"Ceara\", \"Distrito Federal\", \"Espirito Santo\", \"Goias\", \"Maranhao\", \"Mato Grosso\", \"Minas Gerais\", \"Par\\u00e1\", \"Paraiba\", \"Pernambuco\", \"Piau\", \"Rio\", \"Rondonia\", \"Roraima\", \"Santa Catarina\", \"Sao Paulo\", \"Sergipe\", \"Tocantins\"], \"categoryorder\": \"array\", \"domain\": [0.24999999999999997, 0.3133333333333333], \"matches\": \"x\", \"title\": {\"text\": \"state\"}}, \"xaxis5\": {\"anchor\": \"y5\", \"categoryarray\": [\"Acre\", \"Alagoas\", \"Amapa\", \"Amazonas\", \"Bahia\", \"Ceara\", \"Distrito Federal\", \"Espirito Santo\", \"Goias\", \"Maranhao\", \"Mato Grosso\", \"Minas Gerais\", \"Par\\u00e1\", \"Paraiba\", \"Pernambuco\", \"Piau\", \"Rio\", \"Rondonia\", \"Roraima\", \"Santa Catarina\", \"Sao Paulo\", \"Sergipe\", \"Tocantins\"], \"categoryorder\": \"array\", \"domain\": [0.3333333333333333, 0.3966666666666666], \"matches\": \"x\", \"title\": {\"text\": \"state\"}}, \"xaxis6\": {\"anchor\": \"y6\", \"categoryarray\": [\"Acre\", \"Alagoas\", \"Amapa\", \"Amazonas\", \"Bahia\", \"Ceara\", \"Distrito Federal\", \"Espirito Santo\", \"Goias\", \"Maranhao\", \"Mato Grosso\", \"Minas Gerais\", \"Par\\u00e1\", \"Paraiba\", \"Pernambuco\", \"Piau\", \"Rio\", \"Rondonia\", \"Roraima\", \"Santa Catarina\", \"Sao Paulo\", \"Sergipe\", \"Tocantins\"], \"categoryorder\": \"array\", \"domain\": [0.41666666666666663, 0.48], \"matches\": \"x\", \"title\": {\"text\": \"state\"}}, \"xaxis7\": {\"anchor\": \"y7\", \"categoryarray\": [\"Acre\", \"Alagoas\", \"Amapa\", \"Amazonas\", \"Bahia\", \"Ceara\", \"Distrito Federal\", \"Espirito Santo\", \"Goias\", \"Maranhao\", \"Mato Grosso\", \"Minas Gerais\", \"Par\\u00e1\", \"Paraiba\", \"Pernambuco\", \"Piau\", \"Rio\", \"Rondonia\", \"Roraima\", \"Santa Catarina\", \"Sao Paulo\", \"Sergipe\", \"Tocantins\"], \"categoryorder\": \"array\", \"domain\": [0.5, 0.5633333333333334], \"matches\": \"x\", \"title\": {\"text\": \"state\"}}, \"xaxis8\": {\"anchor\": \"y8\", \"categoryarray\": [\"Acre\", \"Alagoas\", \"Amapa\", \"Amazonas\", \"Bahia\", \"Ceara\", \"Distrito Federal\", \"Espirito Santo\", \"Goias\", \"Maranhao\", \"Mato Grosso\", \"Minas Gerais\", \"Par\\u00e1\", \"Paraiba\", \"Pernambuco\", \"Piau\", \"Rio\", \"Rondonia\", \"Roraima\", \"Santa Catarina\", \"Sao Paulo\", \"Sergipe\", \"Tocantins\"], \"categoryorder\": \"array\", \"domain\": [0.5833333333333334, 0.6466666666666667], \"matches\": \"x\", \"title\": {\"text\": \"state\"}}, \"xaxis9\": {\"anchor\": \"y9\", \"categoryarray\": [\"Acre\", \"Alagoas\", \"Amapa\", \"Amazonas\", \"Bahia\", \"Ceara\", \"Distrito Federal\", \"Espirito Santo\", \"Goias\", \"Maranhao\", \"Mato Grosso\", \"Minas Gerais\", \"Par\\u00e1\", \"Paraiba\", \"Pernambuco\", \"Piau\", \"Rio\", \"Rondonia\", \"Roraima\", \"Santa Catarina\", \"Sao Paulo\", \"Sergipe\", \"Tocantins\"], \"categoryorder\": \"array\", \"domain\": [0.6666666666666667, 0.7300000000000001], \"matches\": \"x\", \"title\": {\"text\": \"state\"}}, \"yaxis\": {\"anchor\": \"x\", \"domain\": [0.0, 0.485], \"title\": {\"text\": \"Amount of Forest Fires\"}}, \"yaxis10\": {\"anchor\": \"x10\", \"domain\": [0.0, 0.485], \"matches\": \"y\", \"showticklabels\": false}, \"yaxis11\": {\"anchor\": \"x11\", \"domain\": [0.0, 0.485], \"matches\": \"y\", \"showticklabels\": false}, \"yaxis12\": {\"anchor\": \"x12\", \"domain\": [0.0, 0.485], \"matches\": \"y\", \"showticklabels\": false}, \"yaxis13\": {\"anchor\": \"x13\", \"domain\": [0.515, 1.0], \"matches\": \"y\", \"title\": {\"text\": \"number\"}}, \"yaxis14\": {\"anchor\": \"x14\", \"domain\": [0.515, 1.0], \"matches\": \"y\", \"showticklabels\": false}, \"yaxis15\": {\"anchor\": \"x15\", \"domain\": [0.515, 1.0], \"matches\": \"y\", \"showticklabels\": false}, \"yaxis16\": {\"anchor\": \"x16\", \"domain\": [0.515, 1.0], \"matches\": \"y\", \"showticklabels\": false}, \"yaxis17\": {\"anchor\": \"x17\", \"domain\": [0.515, 1.0], \"matches\": \"y\", \"showticklabels\": false}, \"yaxis18\": {\"anchor\": \"x18\", \"domain\": [0.515, 1.0], \"matches\": \"y\", \"showticklabels\": false}, \"yaxis19\": {\"anchor\": \"x19\", \"domain\": [0.515, 1.0], \"matches\": \"y\", \"showticklabels\": false}, \"yaxis2\": {\"anchor\": \"x2\", \"domain\": [0.0, 0.485], \"matches\": \"y\", \"showticklabels\": false}, \"yaxis20\": {\"anchor\": \"x20\", \"domain\": [0.515, 1.0], \"matches\": \"y\", \"showticklabels\": false}, \"yaxis21\": {\"anchor\": \"x21\", \"domain\": [0.515, 1.0], \"matches\": \"y\", \"showticklabels\": false}, \"yaxis22\": {\"anchor\": \"x22\", \"domain\": [0.515, 1.0], \"matches\": \"y\", \"showticklabels\": false}, \"yaxis23\": {\"anchor\": \"x23\", \"domain\": [0.515, 1.0], \"matches\": \"y\", \"showticklabels\": false}, \"yaxis24\": {\"anchor\": \"x24\", \"domain\": [0.515, 1.0], \"matches\": \"y\", \"showticklabels\": false}, \"yaxis3\": {\"anchor\": \"x3\", \"domain\": [0.0, 0.485], \"matches\": \"y\", \"showticklabels\": false}, \"yaxis4\": {\"anchor\": \"x4\", \"domain\": [0.0, 0.485], \"matches\": \"y\", \"showticklabels\": false}, \"yaxis5\": {\"anchor\": \"x5\", \"domain\": [0.0, 0.485], \"matches\": \"y\", \"showticklabels\": false}, \"yaxis6\": {\"anchor\": \"x6\", \"domain\": [0.0, 0.485], \"matches\": \"y\", \"showticklabels\": false}, \"yaxis7\": {\"anchor\": \"x7\", \"domain\": [0.0, 0.485], \"matches\": \"y\", \"showticklabels\": false}, \"yaxis8\": {\"anchor\": \"x8\", \"domain\": [0.0, 0.485], \"matches\": \"y\", \"showticklabels\": false}, \"yaxis9\": {\"anchor\": \"x9\", \"domain\": [0.0, 0.485], \"matches\": \"y\", \"showticklabels\": false}},\n",
       "                        {\"responsive\": true}\n",
       "                    ).then(function(){\n",
       "                            \n",
       "var gd = document.getElementById('67d2a57a-4cfe-4999-be73-002932b58b55');\n",
       "var x = new MutationObserver(function (mutations, observer) {{\n",
       "        var display = window.getComputedStyle(gd).display;\n",
       "        if (!display || display === 'none') {{\n",
       "            console.log([gd, 'removed!']);\n",
       "            Plotly.purge(gd);\n",
       "            observer.disconnect();\n",
       "        }}\n",
       "}});\n",
       "\n",
       "// Listen for the removal of the full notebook cells\n",
       "var notebookContainer = gd.closest('#notebook-container');\n",
       "if (notebookContainer) {{\n",
       "    x.observe(notebookContainer, {childList: true});\n",
       "}}\n",
       "\n",
       "// Listen for the clearing of the current output cell\n",
       "var outputEl = gd.closest('.output');\n",
       "if (outputEl) {{\n",
       "    x.observe(outputEl, {childList: true});\n",
       "}}\n",
       "\n",
       "                        })\n",
       "                };\n",
       "                });\n",
       "            </script>\n",
       "        </div>"
      ]
     },
     "metadata": {},
     "output_type": "display_data"
    }
   ],
   "source": [
    "#STATE = df.groupby(['state']).sum()\n",
    "#STATE = STATE.reset_index()\n",
    "#STATE = STATE.sort_values(['number'], ascending= False)\n",
    "\n",
    "TEN = df['year'] > 2015\n",
    "\n",
    "TEN = df[TEN]\n",
    "\n",
    "fig = px.bar(TEN, x=\"state\", y=\"number\", color=\"state\", \n",
    "             facet_row=\"year\", facet_col=\"month\",)\n",
    "\n",
    "fig.update_layout(title='Amount of forest fires in Brazil by State',\n",
    "                   xaxis_title='State',\n",
    "                   yaxis_title='Amount of Forest Fires')\n",
    "\n",
    "fig.show()"
   ]
  },
  {
   "cell_type": "code",
   "execution_count": 9,
   "metadata": {},
   "outputs": [
    {
     "data": {
      "text/plain": [
       "0    False\n",
       "1    False\n",
       "2    False\n",
       "3    False\n",
       "4    False\n",
       "Name: year, dtype: bool"
      ]
     },
     "execution_count": 9,
     "metadata": {},
     "output_type": "execute_result"
    }
   ],
   "source": []
  },
  {
   "cell_type": "code",
   "execution_count": null,
   "metadata": {},
   "outputs": [],
   "source": []
  }
 ],
 "metadata": {
  "kernelspec": {
   "display_name": "Python 3",
   "language": "python",
   "name": "python3"
  },
  "language_info": {
   "codemirror_mode": {
    "name": "ipython",
    "version": 3
   },
   "file_extension": ".py",
   "mimetype": "text/x-python",
   "name": "python",
   "nbconvert_exporter": "python",
   "pygments_lexer": "ipython3",
   "version": "3.7.0"
  }
 },
 "nbformat": 4,
 "nbformat_minor": 2
}
