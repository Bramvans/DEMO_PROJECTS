{
 "cells": [
  {
   "cell_type": "markdown",
   "metadata": {},
   "source": [
    "# Analysis into the Brazil Forest Fires\n",
    "\n",
    "This analysis is based on the Kaggle data set https://www.kaggle.com/man72331/forest-fires-data-analysis \n",
    "\n",
    "The goal of this analysis is to gain insights in the patern of fires in the Brazil Forest\n",
    "\n",
    "By: <b>Bram van Schaik</b> \n",
    "<br>Date: <b> October 2019</b>"
   ]
  },
  {
   "cell_type": "markdown",
   "metadata": {},
   "source": [
    "## Part 1: Import libraries"
   ]
  },
  {
   "cell_type": "code",
   "execution_count": 1,
   "metadata": {},
   "outputs": [],
   "source": [
    "import pandas as pd\n",
    "import numpy as np\n",
    "\n",
    "#### Visuals ####\n",
    "import seaborn as sns\n",
    "from matplotlib import pyplot as plt\n",
    "import plotly.tools as tls \n",
    "import plotly.subplots as subs \n",
    "import plotly.offline as py \n",
    "from plotly.offline import init_notebook_mode, iplot, plot\n",
    "import plotly.graph_objs as go  "
   ]
  },
  {
   "cell_type": "markdown",
   "metadata": {},
   "source": [
    "## Part 2: Import the dataset"
   ]
  },
  {
   "cell_type": "code",
   "execution_count": 5,
   "metadata": {},
   "outputs": [],
   "source": [
    "#### Read in the data set ####\n",
    "df = pd.read_csv(\"C:\\\\Users\\\\schai495\\\\Desktop\\\\Brazil Forest Fires\\\\amazon.csv\", sep=\",\", engine='python')"
   ]
  },
  {
   "cell_type": "markdown",
   "metadata": {},
   "source": [
    "## Part 3: Exploratory Analysis\n",
    "This part is about getting to know our dataset"
   ]
  },
  {
   "cell_type": "code",
   "execution_count": 30,
   "metadata": {
    "scrolled": true
   },
   "outputs": [
    {
     "name": "stdout",
     "output_type": "stream",
     "text": [
      "   year state    month  number        date\n",
      "0  1998  Acre  Janeiro     0.0  1998-01-01\n",
      "1  1999  Acre  Janeiro     0.0  1999-01-01\n",
      "2  2000  Acre  Janeiro     0.0  2000-01-01\n",
      "\n",
      "\n",
      "      year      state     month  number        date\n",
      "6451  2014  Tocantins  Dezembro   223.0  2014-01-01\n",
      "6452  2015  Tocantins  Dezembro   373.0  2015-01-01\n",
      "6453  2016  Tocantins  Dezembro   119.0  2016-01-01\n"
     ]
    }
   ],
   "source": [
    "#### Looking at the first and last few rows to gain an understanding of the content ####\n",
    "print(df.head(3))\n",
    "print(\"\\n\")\n",
    "print(df.tail(3))"
   ]
  },
  {
   "cell_type": "markdown",
   "metadata": {},
   "source": [
    "### Conclusions:\n",
    "- The month column has the spanish month names instead of common english names\n"
   ]
  },
  {
   "cell_type": "code",
   "execution_count": 27,
   "metadata": {},
   "outputs": [
    {
     "name": "stdout",
     "output_type": "stream",
     "text": [
      "Dataset Shape: (6454, 5)\n"
     ]
    },
    {
     "data": {
      "text/html": [
       "<div>\n",
       "<style scoped>\n",
       "    .dataframe tbody tr th:only-of-type {\n",
       "        vertical-align: middle;\n",
       "    }\n",
       "\n",
       "    .dataframe tbody tr th {\n",
       "        vertical-align: top;\n",
       "    }\n",
       "\n",
       "    .dataframe thead th {\n",
       "        text-align: right;\n",
       "    }\n",
       "</style>\n",
       "<table border=\"1\" class=\"dataframe\">\n",
       "  <thead>\n",
       "    <tr style=\"text-align: right;\">\n",
       "      <th></th>\n",
       "      <th>Name</th>\n",
       "      <th>dtypes</th>\n",
       "      <th>Missing</th>\n",
       "      <th>Uniques</th>\n",
       "    </tr>\n",
       "  </thead>\n",
       "  <tbody>\n",
       "    <tr>\n",
       "      <th>0</th>\n",
       "      <td>year</td>\n",
       "      <td>int64</td>\n",
       "      <td>0</td>\n",
       "      <td>20</td>\n",
       "    </tr>\n",
       "    <tr>\n",
       "      <th>1</th>\n",
       "      <td>state</td>\n",
       "      <td>object</td>\n",
       "      <td>0</td>\n",
       "      <td>23</td>\n",
       "    </tr>\n",
       "    <tr>\n",
       "      <th>2</th>\n",
       "      <td>month</td>\n",
       "      <td>object</td>\n",
       "      <td>0</td>\n",
       "      <td>12</td>\n",
       "    </tr>\n",
       "    <tr>\n",
       "      <th>3</th>\n",
       "      <td>number</td>\n",
       "      <td>float64</td>\n",
       "      <td>0</td>\n",
       "      <td>1479</td>\n",
       "    </tr>\n",
       "    <tr>\n",
       "      <th>4</th>\n",
       "      <td>date</td>\n",
       "      <td>object</td>\n",
       "      <td>0</td>\n",
       "      <td>20</td>\n",
       "    </tr>\n",
       "  </tbody>\n",
       "</table>\n",
       "</div>"
      ],
      "text/plain": [
       "     Name   dtypes  Missing  Uniques\n",
       "0    year    int64        0       20\n",
       "1   state   object        0       23\n",
       "2   month   object        0       12\n",
       "3  number  float64        0     1479\n",
       "4    date   object        0       20"
      ]
     },
     "execution_count": 27,
     "metadata": {},
     "output_type": "execute_result"
    }
   ],
   "source": [
    "### Now we are going to be looking at the datatypes,shape and missing/unique for each column ####\n",
    "def resumetable(df):\n",
    "    print(f\"Dataset Shape: {df.shape}\")\n",
    "    summary = pd.DataFrame(df.dtypes,columns=['dtypes'])\n",
    "    summary = summary.reset_index()\n",
    "    summary['Name'] = summary['index']\n",
    "    summary = summary[['Name','dtypes']]\n",
    "    summary['Missing'] = df.isnull().sum().values    \n",
    "    summary['Uniques'] = df.nunique().values\n",
    "    return summary\n",
    "\n",
    "resumetable(df)"
   ]
  },
  {
   "cell_type": "markdown",
   "metadata": {},
   "source": [
    "### Conclusions:\n",
    "- There are 20 unique years in the data set\n",
    "- There are 23 unique states in the data set\n",
    "- State, Month and date are objects"
   ]
  },
  {
   "cell_type": "code",
   "execution_count": 60,
   "metadata": {},
   "outputs": [
    {
     "data": {
      "text/plain": [
       "<bound method DataFrame.info of          number\n",
       "year           \n",
       "1998  20013.971\n",
       "1999  26882.821\n",
       "2000  27351.251\n",
       "2001  29071.612\n",
       "2002  37390.600\n",
       "2003  42760.674\n",
       "2004  38453.163\n",
       "2005  35004.965\n",
       "2006  33832.161\n",
       "2007  33037.413\n",
       "2008  29378.964\n",
       "2009  39117.178\n",
       "2010  37037.449\n",
       "2011  34633.545\n",
       "2012  40084.860\n",
       "2013  35146.118\n",
       "2014  39621.183\n",
       "2015  41208.292\n",
       "2016  42212.229\n",
       "2017  36685.624>"
      ]
     },
     "execution_count": 60,
     "metadata": {},
     "output_type": "execute_result"
    }
   ],
   "source": [
    "#### Count the variables and their respective distribution ####\n",
    "YEAR = df.groupby(['year']).sum()\n",
    "YEAR.info"
   ]
  },
  {
   "cell_type": "code",
   "execution_count": null,
   "metadata": {},
   "outputs": [],
   "source": []
  }
 ],
 "metadata": {
  "kernelspec": {
   "display_name": "Python 3",
   "language": "python",
   "name": "python3"
  },
  "language_info": {
   "codemirror_mode": {
    "name": "ipython",
    "version": 3
   },
   "file_extension": ".py",
   "mimetype": "text/x-python",
   "name": "python",
   "nbconvert_exporter": "python",
   "pygments_lexer": "ipython3",
   "version": "3.7.0"
  }
 },
 "nbformat": 4,
 "nbformat_minor": 2
}
